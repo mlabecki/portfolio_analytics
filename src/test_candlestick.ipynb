{
 "cells": [
  {
   "cell_type": "code",
   "execution_count": 1,
   "metadata": {},
   "outputs": [],
   "source": [
    "import mplfinance as mpf\n",
    "import yfinance as yf\n",
    "import pandas as pd\n",
    "import numpy as np\n",
    "import math\n",
    "from datetime import datetime, timedelta, date\n",
    "import time\n",
    "import plotly.graph_objects as go\n",
    "from plotly.subplots import make_subplots\n",
    "import matplotlib\n",
    "import matplotlib.pyplot as plt\n",
    "import matplotlib.ticker as plticker\n",
    "import matplotlib.patches as patches\n",
    "from matplotlib.colors import TwoSlopeNorm\n",
    "import seaborn as sns\n",
    "import os\n",
    "from scipy import linalg\n",
    "from scipy import stats\n",
    "from scipy.optimize import minimize\n",
    "from sklearn.preprocessing import StandardScaler\n",
    "from sklearn.decomposition import PCA\n",
    "from mapping_tickers import *"
   ]
  },
  {
   "cell_type": "code",
   "execution_count": 2,
   "metadata": {},
   "outputs": [
    {
     "name": "stderr",
     "output_type": "stream",
     "text": [
      "[*********************100%%**********************]  1 of 1 completed\n"
     ]
    },
    {
     "data": {
      "text/html": [
       "<div>\n",
       "<style scoped>\n",
       "    .dataframe tbody tr th:only-of-type {\n",
       "        vertical-align: middle;\n",
       "    }\n",
       "\n",
       "    .dataframe tbody tr th {\n",
       "        vertical-align: top;\n",
       "    }\n",
       "\n",
       "    .dataframe thead th {\n",
       "        text-align: right;\n",
       "    }\n",
       "</style>\n",
       "<table border=\"1\" class=\"dataframe\">\n",
       "  <thead>\n",
       "    <tr style=\"text-align: right;\">\n",
       "      <th></th>\n",
       "      <th>Open</th>\n",
       "      <th>High</th>\n",
       "      <th>Low</th>\n",
       "      <th>Close</th>\n",
       "      <th>Adj Close</th>\n",
       "      <th>Volume</th>\n",
       "    </tr>\n",
       "    <tr>\n",
       "      <th>Date</th>\n",
       "      <th></th>\n",
       "      <th></th>\n",
       "      <th></th>\n",
       "      <th></th>\n",
       "      <th></th>\n",
       "      <th></th>\n",
       "    </tr>\n",
       "  </thead>\n",
       "  <tbody>\n",
       "    <tr>\n",
       "      <th>2023-09-19</th>\n",
       "      <td>177.520004</td>\n",
       "      <td>179.630005</td>\n",
       "      <td>177.130005</td>\n",
       "      <td>179.070007</td>\n",
       "      <td>178.158356</td>\n",
       "      <td>51826900</td>\n",
       "    </tr>\n",
       "    <tr>\n",
       "      <th>2023-09-20</th>\n",
       "      <td>179.259995</td>\n",
       "      <td>179.699997</td>\n",
       "      <td>175.399994</td>\n",
       "      <td>175.490005</td>\n",
       "      <td>174.596573</td>\n",
       "      <td>58436200</td>\n",
       "    </tr>\n",
       "    <tr>\n",
       "      <th>2023-09-21</th>\n",
       "      <td>174.550003</td>\n",
       "      <td>176.300003</td>\n",
       "      <td>173.860001</td>\n",
       "      <td>173.929993</td>\n",
       "      <td>173.044495</td>\n",
       "      <td>63047900</td>\n",
       "    </tr>\n",
       "    <tr>\n",
       "      <th>2023-09-22</th>\n",
       "      <td>174.669998</td>\n",
       "      <td>177.080002</td>\n",
       "      <td>174.050003</td>\n",
       "      <td>174.789993</td>\n",
       "      <td>173.900131</td>\n",
       "      <td>56725400</td>\n",
       "    </tr>\n",
       "    <tr>\n",
       "      <th>2023-09-25</th>\n",
       "      <td>174.199997</td>\n",
       "      <td>176.970001</td>\n",
       "      <td>174.149994</td>\n",
       "      <td>176.080002</td>\n",
       "      <td>175.183578</td>\n",
       "      <td>46172700</td>\n",
       "    </tr>\n",
       "    <tr>\n",
       "      <th>...</th>\n",
       "      <td>...</td>\n",
       "      <td>...</td>\n",
       "      <td>...</td>\n",
       "      <td>...</td>\n",
       "      <td>...</td>\n",
       "      <td>...</td>\n",
       "    </tr>\n",
       "    <tr>\n",
       "      <th>2024-09-13</th>\n",
       "      <td>223.580002</td>\n",
       "      <td>224.039993</td>\n",
       "      <td>221.910004</td>\n",
       "      <td>222.500000</td>\n",
       "      <td>222.500000</td>\n",
       "      <td>36766600</td>\n",
       "    </tr>\n",
       "    <tr>\n",
       "      <th>2024-09-16</th>\n",
       "      <td>216.539993</td>\n",
       "      <td>217.220001</td>\n",
       "      <td>213.919998</td>\n",
       "      <td>216.320007</td>\n",
       "      <td>216.320007</td>\n",
       "      <td>59357400</td>\n",
       "    </tr>\n",
       "    <tr>\n",
       "      <th>2024-09-17</th>\n",
       "      <td>215.750000</td>\n",
       "      <td>216.899994</td>\n",
       "      <td>214.500000</td>\n",
       "      <td>216.789993</td>\n",
       "      <td>216.789993</td>\n",
       "      <td>45519300</td>\n",
       "    </tr>\n",
       "    <tr>\n",
       "      <th>2024-09-18</th>\n",
       "      <td>217.550003</td>\n",
       "      <td>222.710007</td>\n",
       "      <td>217.539993</td>\n",
       "      <td>220.690002</td>\n",
       "      <td>220.690002</td>\n",
       "      <td>59894900</td>\n",
       "    </tr>\n",
       "    <tr>\n",
       "      <th>2024-09-19</th>\n",
       "      <td>225.139999</td>\n",
       "      <td>229.820007</td>\n",
       "      <td>224.639999</td>\n",
       "      <td>228.869995</td>\n",
       "      <td>228.869995</td>\n",
       "      <td>66307649</td>\n",
       "    </tr>\n",
       "  </tbody>\n",
       "</table>\n",
       "<p>253 rows × 6 columns</p>\n",
       "</div>"
      ],
      "text/plain": [
       "                  Open        High         Low       Close   Adj Close  \\\n",
       "Date                                                                     \n",
       "2023-09-19  177.520004  179.630005  177.130005  179.070007  178.158356   \n",
       "2023-09-20  179.259995  179.699997  175.399994  175.490005  174.596573   \n",
       "2023-09-21  174.550003  176.300003  173.860001  173.929993  173.044495   \n",
       "2023-09-22  174.669998  177.080002  174.050003  174.789993  173.900131   \n",
       "2023-09-25  174.199997  176.970001  174.149994  176.080002  175.183578   \n",
       "...                ...         ...         ...         ...         ...   \n",
       "2024-09-13  223.580002  224.039993  221.910004  222.500000  222.500000   \n",
       "2024-09-16  216.539993  217.220001  213.919998  216.320007  216.320007   \n",
       "2024-09-17  215.750000  216.899994  214.500000  216.789993  216.789993   \n",
       "2024-09-18  217.550003  222.710007  217.539993  220.690002  220.690002   \n",
       "2024-09-19  225.139999  229.820007  224.639999  228.869995  228.869995   \n",
       "\n",
       "              Volume  \n",
       "Date                  \n",
       "2023-09-19  51826900  \n",
       "2023-09-20  58436200  \n",
       "2023-09-21  63047900  \n",
       "2023-09-22  56725400  \n",
       "2023-09-25  46172700  \n",
       "...              ...  \n",
       "2024-09-13  36766600  \n",
       "2024-09-16  59357400  \n",
       "2024-09-17  45519300  \n",
       "2024-09-18  59894900  \n",
       "2024-09-19  66307649  \n",
       "\n",
       "[253 rows x 6 columns]"
      ]
     },
     "metadata": {},
     "output_type": "display_data"
    }
   ],
   "source": [
    "tk = 'AAPL'\n",
    "end_date = datetime.today()\n",
    "start_date = datetime(end_date.year - 1, end_date.month, end_date.day)\n",
    "\n",
    "df_adj_close = pd.DataFrame()\n",
    "data = yf.download(tk, start=start_date, end=end_date)\n",
    "df_adj_close[tk] = data['Adj Close']\n",
    "display(data)"
   ]
  },
  {
   "cell_type": "code",
   "execution_count": 3,
   "metadata": {},
   "outputs": [
    {
     "data": {
      "image/png": "[encoded data removed]",
      "text/plain": [
       "<Figure size 800x575 with 4 Axes>"
      ]
     },
     "metadata": {},
     "output_type": "display_data"
    }
   ],
   "source": [
    "# mpf.plot(aapl, volume=True, style='yahoo', type='candle')\n",
    "mpf.plot(data, volume=True, style='yahoo', type='hollow_and_filled')"
   ]
  },
  {
   "cell_type": "markdown",
   "metadata": {},
   "source": [
    "How to combine matplotlib axes with mpl_finance plot? See https://github.com/matplotlib/mplfinance/blob/master/examples/external_axes.ipynb"
   ]
  },
  {
   "cell_type": "code",
   "execution_count": 4,
   "metadata": {},
   "outputs": [],
   "source": [
    "def set_axis_limits(x_min, x_max):\n",
    "    \"\"\"\n",
    "    Returns the lower and upper limits for an axis where x_min and x_max are the min/max values.\n",
    "    units: increments of values at axis ticks, will be scaled to correspond with the\n",
    "        order of magntitude of x_max - x_min\n",
    "    intervals: how many intervals of units between the lower and the upper limit do we want to have\n",
    "    \"\"\"\n",
    "\n",
    "    if x_min == x_max:\n",
    "        return x_min, x_max\n",
    "    \n",
    "    else:\n",
    "        units = np.array([0.05, 0.1, 0.2, 0.25, 0.5])\n",
    "        intervals = np.array([4, 5, 6, 7, 8, 9])\n",
    "        max_n_intervals = max(intervals)\n",
    "\n",
    "        x_maxmax = max(abs(x_max), abs(x_min))\n",
    "        diff = 2 * x_maxmax\n",
    "        order = 10 ** round(math.log10(x_maxmax))\n",
    "        # print(f'order = {order}')\n",
    "        eps = order * 1e-10\n",
    "\n",
    "        for unit in units:\n",
    "            unit_scaled = order * unit\n",
    "            # print(f'unit scaled = {unit_scaled}')\n",
    "\n",
    "            lower_anchor = 0\n",
    "            increment = unit_scaled\n",
    "            while lower_anchor - abs(x_min) < eps:\n",
    "                lower_anchor += increment\n",
    "            lower_anchor *= np.sign(x_min)\n",
    "            if x_min > eps:\n",
    "                lower_anchor -= increment\n",
    "\n",
    "            diff_lower = abs(lower_anchor - x_min)\n",
    "            if diff_lower < eps:\n",
    "                diff_lower = 0\n",
    "\n",
    "            # print(f'\\tlower anchor = {lower_anchor}')\n",
    "            # print(f'\\tdiff lower = {diff_lower}')\n",
    "\n",
    "            upper_anchor = lower_anchor\n",
    "            while (upper_anchor < x_max) & (abs(upper_anchor - x_max) > eps) & ((upper_anchor - lower_anchor) / unit_scaled <= max_n_intervals):\n",
    "                upper_anchor += unit_scaled\n",
    "                # print(f'\\tupper anchor = {upper_anchor}')\n",
    "            diff_upper = abs(upper_anchor - x_max)\n",
    "            if diff_upper < eps:\n",
    "                diff_upper = 0\n",
    "            \n",
    "            # print(f'\\tupper anchor = {upper_anchor}')\n",
    "            # print(f'\\tdiff upper = {diff_upper}')\n",
    "\n",
    "            if (upper_anchor - x_max > -eps) & (diff_lower + diff_upper < diff):\n",
    "                diff = diff_lower + diff_upper\n",
    "                lower_limit = lower_anchor\n",
    "                upper_limit = upper_anchor\n",
    "        \n",
    "        return lower_limit, upper_limit"
   ]
  },
  {
   "cell_type": "code",
   "execution_count": 5,
   "metadata": {},
   "outputs": [],
   "source": [
    "def plot_candlestick(\n",
    "    tk,\n",
    "    df,\n",
    "    start_date,\n",
    "    end_date,\n",
    "    title=None,\n",
    "    y_min=None,\n",
    "    y_max=None,\n",
    "    color=None,\n",
    "    x_dim=12,\n",
    "    y_dim=8,\n",
    "    grid='both'\n",
    "):\n",
    "    \"\"\"\n",
    "    Create a plot of a historical profile\n",
    "    tk: ticker profile to be plotted\n",
    "    df: dataframe containing data for ticker tk\n",
    "    \"\"\"\n",
    "\n",
    "    \"\"\"\n",
    "    if isinstance(df, pd.Series):\n",
    "        df_tk = df.copy()\n",
    "    elif isinstance(df, pd.DataFrame):\n",
    "        df_tk = df[tk]\n",
    "    else:\n",
    "        print('df must a a series or a dataframe')\n",
    "        exit\n",
    "    \"\"\"\n",
    "\n",
    "    if title is None:\n",
    "        title = tk\n",
    "    if color is None:\n",
    "        color = 'tab:blue'  # same as '#1f77b4'\n",
    "\n",
    "    # Set x-axis limits\n",
    "    if isinstance(start_date, datetime):\n",
    "        x_min = str(start_date.date())\n",
    "    elif isinstance(start_date, date):\n",
    "        x_min = str(start_date)\n",
    "    elif isinstance(start_date, str):\n",
    "        x_min = start_date\n",
    "    else:\n",
    "        print('Incorrect format of start_date')\n",
    "        exit\n",
    "\n",
    "    if isinstance(end_date, datetime):\n",
    "        x_max = str(end_date.date())\n",
    "    elif isinstance(end_date, date):\n",
    "        x_max = str(end_date)\n",
    "    elif isinstance(end_date, str):\n",
    "        x_max = end_date\n",
    "    else:\n",
    "        print('Incorrect format of end_date')\n",
    "        exit\n",
    "\n",
    "    if x_min not in data.index:\n",
    "        while x_min not in data.index:\n",
    "            new_start_date = datetime.strptime(x_min, '%Y-%m-%d') + timedelta(1)\n",
    "            x_min = str(new_start_date.date())\n",
    "\n",
    "    if x_max not in data.index:\n",
    "        while x_max not in data.index:\n",
    "            new_end_date = datetime.strptime(x_max, '%Y-%m-%d') - timedelta(1)\n",
    "            x_max = str(new_end_date.date())\n",
    "\n",
    "    print(f'x_min, x_max = {x_min, x_max}')\n",
    "\n",
    "    y_lower, y_upper = set_axis_limits(min(data['Low']), max(data['High']))\n",
    "    if y_min is None:\n",
    "        y_min = y_lower\n",
    "    if y_max is None:\n",
    "        y_max = y_upper\n",
    "    print(y_min, y_max)\n",
    "\n",
    "    # Set tick spacing based on the total number of date points\n",
    "    n_ticks_max = 36\n",
    "    cond_start = data.index >= x_min\n",
    "    cond_end = data.index <= x_max\n",
    "    n = len(data.loc[cond_start & cond_end])\n",
    "    tick_spacing = max(1, round(n / n_ticks_max))\n",
    "\n",
    "    fig = mpf.figure(figsize=(x_dim, y_dim), style='yahoo')\n",
    "    ax = fig.add_subplot(1, 1, 1)\n",
    "\n",
    "    print(f'dir(ax):\\n{dir(ax)}')\n",
    "    print(f'dir(ax.set_xticks):\\n{dir(ax.set_xticks)}')\n",
    "    print(f'dir(ax.get_xticks):\\n{dir(ax.get_xticks)}')\n",
    "    print(f'dir(ax.get_xgridlines):\\n{dir(ax.get_xgridlines)}')\n",
    "\n",
    "    mpf.plot(\n",
    "        data,\n",
    "        ax=ax,\n",
    "        volume=False,\n",
    "        style='yahoo',\n",
    "        type='hollow_and_filled',\n",
    "        datetime_format='%Y-%m-%d',\n",
    "        xlim=(x_min, x_max),\n",
    "        ylim=(y_min, y_max),\n",
    "        xrotation=90\n",
    "    )\n",
    "\n",
    "    ax.set_title(title)\n",
    "    # ax.set_xlim(x_min, x_max)\n",
    "    ax.set_ylim(y_min, y_max)\n",
    "    # plt.xlabel('Date')\n",
    "    # ax.get_xticks()\n",
    "    # ax.set_xticks()\n",
    "\n",
    "    if grid in ['x', 'both']:\n",
    "        ax.get_xgridlines()\n",
    "    if grid in ['y', 'both']:\n",
    "        ax.get_ygridlines()\n",
    "\n",
    "    # ax.xaxis.set_major_locator(plticker.MultipleLocator(tick_spacing))\n",
    "\n",
    "    return fig\n"
   ]
  },
  {
   "cell_type": "code",
   "execution_count": 6,
   "metadata": {},
   "outputs": [
    {
     "name": "stdout",
     "output_type": "stream",
     "text": [
      "x_min, x_max = ('2023-09-19', '2024-09-19')\n",
      "160.0 240.0\n",
      "dir(ax):\n",
      "['ArtistList', '_AxesBase__clear', '_PROPERTIES_EXCLUDED_FROM_SET', '__class__', '__delattr__', '__dict__', '__dir__', '__doc__', '__eq__', '__format__', '__ge__', '__getattribute__', '__getstate__', '__gt__', '__hash__', '__init__', '__init_subclass__', '__le__', '__lt__', '__module__', '__ne__', '__new__', '__reduce__', '__reduce_ex__', '__repr__', '__setattr__', '__setstate__', '__sizeof__', '__str__', '__subclasshook__', '__weakref__', '_add_text', '_adjustable', '_agg_filter', '_alias_map', '_alpha', '_anchor', '_animated', '_aspect', '_autotitlepos', '_axes', '_axes_locator', '_axis_map', '_axis_names', '_axisbelow', '_box_aspect', '_callbacks', '_check_no_units', '_children', '_clipon', '_clippath', '_cm_set', '_colorbars', '_convert_dx', '_current_image', '_default_contains', '_errorevery_to_mask', '_facecolor', '_fill_between_x_or_y', '_frameon', '_fully_clipped_to_axes', '_gci', '_gen_axes_patch', '_gen_axes_spines', '_get_aspect_ratio', '_get_lines', '_get_pan_points', '_get_patches_for_fill', '_get_view', '_gid', '_gridOn', '_in_layout', '_init_axis', '_internal_update', '_label', '_label_outer_xaxis', '_label_outer_yaxis', '_left_title', '_make_twin_axes', '_mouseover', '_mouseover_set', '_navigate', '_navigate_mode', '_originalPosition', '_parse_scatter_color_args', '_path_effects', '_pcolorargs', '_picker', '_position', '_prepare_view_from_bbox', '_process_unit_info', '_projection_init', '_quiver_units', '_rasterization_zorder', '_rasterized', '_remove_legend', '_remove_method', '_request_autoscale_view', '_right_title', '_sci', '_set_alpha_for_array', '_set_artist_props', '_set_gc_clip', '_set_lim_and_transforms', '_set_position', '_set_title_offset_trans', '_set_view', '_set_view_from_bbox', '_shared_axes', '_sharex', '_sharey', '_sketch', '_snap', '_stale', '_stale_viewlims', '_sticky_edges', '_subclass_uses_cla', '_subplotspec', '_tight', '_transform', '_transformSet', '_twinned_axes', '_unit_change_handler', '_unstale_viewLim', '_update_image_limits', '_update_line_limits', '_update_patch_limits', '_update_props', '_update_set_signature_and_docstring', '_update_title_position', '_update_transScale', '_url', '_use_sticky_edges', '_validate_converted_limits', '_viewLim', '_visible', '_xaxis_transform', '_xmargin', '_yaxis_transform', '_ymargin', 'acorr', 'add_artist', 'add_callback', 'add_child_axes', 'add_collection', 'add_container', 'add_image', 'add_line', 'add_patch', 'add_table', 'angle_spectrum', 'annotate', 'apply_aspect', 'arrow', 'artists', 'autoscale', 'autoscale_view', 'axes', 'axhline', 'axhspan', 'axis', 'axison', 'axline', 'axvline', 'axvspan', 'bar', 'bar_label', 'barbs', 'barh', 'bbox', 'boxplot', 'broken_barh', 'bxp', 'callbacks', 'can_pan', 'can_zoom', 'child_axes', 'cla', 'clabel', 'clear', 'clipbox', 'cohere', 'collections', 'containers', 'contains', 'contains_point', 'contour', 'contourf', 'convert_xunits', 'convert_yunits', 'csd', 'dataLim', 'drag_pan', 'draw', 'draw_artist', 'end_pan', 'errorbar', 'eventplot', 'figure', 'fill', 'fill_between', 'fill_betweenx', 'findobj', 'fmt_xdata', 'fmt_ydata', 'format_coord', 'format_cursor_data', 'format_xdata', 'format_ydata', 'get_adjustable', 'get_agg_filter', 'get_alpha', 'get_anchor', 'get_animated', 'get_aspect', 'get_autoscale_on', 'get_autoscalex_on', 'get_autoscaley_on', 'get_axes_locator', 'get_axisbelow', 'get_box_aspect', 'get_children', 'get_clip_box', 'get_clip_on', 'get_clip_path', 'get_cursor_data', 'get_data_ratio', 'get_default_bbox_extra_artists', 'get_facecolor', 'get_fc', 'get_figure', 'get_frame_on', 'get_gid', 'get_gridspec', 'get_images', 'get_in_layout', 'get_label', 'get_legend', 'get_legend_handles_labels', 'get_lines', 'get_mouseover', 'get_navigate', 'get_navigate_mode', 'get_path_effects', 'get_picker', 'get_position', 'get_rasterization_zorder', 'get_rasterized', 'get_renderer_cache', 'get_shared_x_axes', 'get_shared_y_axes', 'get_sketch_params', 'get_snap', 'get_subplotspec', 'get_tightbbox', 'get_title', 'get_transform', 'get_transformed_clip_path_and_affine', 'get_url', 'get_visible', 'get_window_extent', 'get_xaxis', 'get_xaxis_text1_transform', 'get_xaxis_text2_transform', 'get_xaxis_transform', 'get_xbound', 'get_xgridlines', 'get_xlabel', 'get_xlim', 'get_xmajorticklabels', 'get_xminorticklabels', 'get_xscale', 'get_xticklabels', 'get_xticklines', 'get_xticks', 'get_yaxis', 'get_yaxis_text1_transform', 'get_yaxis_text2_transform', 'get_yaxis_transform', 'get_ybound', 'get_ygridlines', 'get_ylabel', 'get_ylim', 'get_ymajorticklabels', 'get_yminorticklabels', 'get_yscale', 'get_yticklabels', 'get_yticklines', 'get_yticks', 'get_zorder', 'grid', 'has_data', 'have_units', 'hexbin', 'hist', 'hist2d', 'hlines', 'ignore_existing_data_limits', 'images', 'imshow', 'in_axes', 'indicate_inset', 'indicate_inset_zoom', 'inset_axes', 'invert_xaxis', 'invert_yaxis', 'is_transform_set', 'label_outer', 'legend', 'legend_', 'lines', 'locator_params', 'loglog', 'magnitude_spectrum', 'margins', 'matshow', 'minorticks_off', 'minorticks_on', 'mouseover', 'mpfstyle', 'name', 'patch', 'patches', 'pchanged', 'pcolor', 'pcolorfast', 'pcolormesh', 'phase_spectrum', 'pick', 'pickable', 'pie', 'plot', 'plot_date', 'properties', 'psd', 'quiver', 'quiverkey', 'redraw_in_frame', 'relim', 'remove', 'remove_callback', 'reset_position', 'scatter', 'secondary_xaxis', 'secondary_yaxis', 'semilogx', 'semilogy', 'set', 'set_adjustable', 'set_agg_filter', 'set_alpha', 'set_anchor', 'set_animated', 'set_aspect', 'set_autoscale_on', 'set_autoscalex_on', 'set_autoscaley_on', 'set_axes_locator', 'set_axis_off', 'set_axis_on', 'set_axisbelow', 'set_box_aspect', 'set_clip_box', 'set_clip_on', 'set_clip_path', 'set_facecolor', 'set_fc', 'set_figure', 'set_frame_on', 'set_gid', 'set_in_layout', 'set_label', 'set_mouseover', 'set_navigate', 'set_navigate_mode', 'set_path_effects', 'set_picker', 'set_position', 'set_prop_cycle', 'set_rasterization_zorder', 'set_rasterized', 'set_sketch_params', 'set_snap', 'set_subplotspec', 'set_title', 'set_transform', 'set_url', 'set_visible', 'set_xbound', 'set_xlabel', 'set_xlim', 'set_xmargin', 'set_xscale', 'set_xticklabels', 'set_xticks', 'set_ybound', 'set_ylabel', 'set_ylim', 'set_ymargin', 'set_yscale', 'set_yticklabels', 'set_yticks', 'set_zorder', 'sharex', 'sharey', 'specgram', 'spines', 'spy', 'stackplot', 'stairs', 'stale', 'stale_callback', 'start_pan', 'stem', 'step', 'sticky_edges', 'streamplot', 'table', 'tables', 'text', 'texts', 'tick_params', 'ticklabel_format', 'title', 'titleOffsetTrans', 'transAxes', 'transData', 'transLimits', 'transScale', 'tricontour', 'tricontourf', 'tripcolor', 'triplot', 'twinx', 'twiny', 'update', 'update_datalim', 'update_from', 'use_sticky_edges', 'viewLim', 'violin', 'violinplot', 'vlines', 'xaxis', 'xaxis_date', 'xaxis_inverted', 'xcorr', 'yaxis', 'yaxis_date', 'yaxis_inverted', 'zorder']\n",
      "dir(ax.set_xticks):\n",
      "['__call__', '__class__', '__delattr__', '__dir__', '__doc__', '__eq__', '__format__', '__func__', '__ge__', '__getattribute__', '__getstate__', '__gt__', '__hash__', '__init__', '__init_subclass__', '__le__', '__lt__', '__ne__', '__new__', '__reduce__', '__reduce_ex__', '__repr__', '__self__', '__setattr__', '__signature__', '__sizeof__', '__str__', '__subclasshook__']\n",
      "dir(ax.get_xticks):\n",
      "['__call__', '__class__', '__delattr__', '__dir__', '__doc__', '__eq__', '__format__', '__func__', '__ge__', '__getattribute__', '__getstate__', '__gt__', '__hash__', '__init__', '__init_subclass__', '__le__', '__lt__', '__ne__', '__new__', '__reduce__', '__reduce_ex__', '__repr__', '__self__', '__setattr__', '__signature__', '__sizeof__', '__str__', '__subclasshook__']\n",
      "dir(ax.get_xgridlines):\n",
      "['__call__', '__class__', '__delattr__', '__dir__', '__doc__', '__eq__', '__format__', '__func__', '__ge__', '__getattribute__', '__getstate__', '__gt__', '__hash__', '__init__', '__init_subclass__', '__le__', '__lt__', '__ne__', '__new__', '__reduce__', '__reduce_ex__', '__repr__', '__self__', '__setattr__', '__signature__', '__sizeof__', '__str__', '__subclasshook__']\n"
     ]
    },
    {
     "data": {
      "image/png": "[encoded data removed]",
      "text/plain": [
       "<Mpf_Figure size 1200x800 with 1 Axes>"
      ]
     },
     "metadata": {},
     "output_type": "display_data"
    }
   ],
   "source": [
    "title_candles = f'{tk} Candlestick'\n",
    "plot_candles = plot_candlestick(\n",
    "    tk,\n",
    "    data,\n",
    "    start_date,\n",
    "    end_date,\n",
    "    title_candles\n",
    " )"
   ]
  },
  {
   "cell_type": "markdown",
   "metadata": {},
   "source": [
    "Bollinger Bands"
   ]
  },
  {
   "cell_type": "code",
   "execution_count": 7,
   "metadata": {},
   "outputs": [],
   "source": [
    "def bollinger_bands(prices, window=20, n_std=2):\n",
    "    \"\"\"\n",
    "    prices: series or dataframe of ticker prices, could be adj_close or any of the open, high, low, close (ohlc)\n",
    "    window: size of the rolling window in days, defaults to 20\n",
    "    n_sd: width of each band in standard deviations, defaults to 2\n",
    "    returns: dictionary boll_bands = {\n",
    "            'upper': upper_band,\n",
    "            'lower': lower_band\n",
    "        }\n",
    "    \"\"\"\n",
    " \n",
    "    df_sma = prices.rolling(window=window, min_periods=1).mean()\n",
    "    df_std = prices.rolling(window=window, min_periods=1).std(ddof=0)\n",
    "\n",
    "    upper_band = df_sma + n_std * df_std\n",
    "    lower_band = df_sma - n_std * df_std\n",
    "\n",
    "    boll_bands = {\n",
    "        'upper': upper_band,\n",
    "        'lower': lower_band\n",
    "    }\n",
    "\n",
    "    return boll_bands"
   ]
  },
  {
   "cell_type": "markdown",
   "metadata": {},
   "source": [
    "Hollow Candles - see e.g. https://trendspider.com/learning-center/understanding-hollow-candles-the-basics/"
   ]
  },
  {
   "cell_type": "code",
   "execution_count": 10,
   "metadata": {},
   "outputs": [
    {
     "data": {
      "application/vnd.plotly.v1+json": {
       "config": {
        "plotlyServerURL": "https://plot.ly"
       },
       "data": [
        {
         "close": [
          179.07000732421875
         ],
         "decreasing": {
          "fillcolor": "rgba(255, 0, 0, 0)",
          "line": {
           "color": "red"
          }
         },
         "high": [
          179.6300048828125
         ],
         "increasing": {
          "fillcolor": "rgba(255, 0, 0, 0)",
          "line": {
           "color": "red"
          }
         },
         "legendgroup": "Hollow Candlesticks",
         "low": [
          177.1300048828125
         ],
         "name": "Prev Close > Close > Open",
         "open": [
          177.52000427246094
         ],
         "showlegend": true,
         "type": "candlestick",
         "x": [
          "2023-09-19"
         ]
        },
        {
         "close": [
          175.49000549316406
         ],
         "decreasing": {
          "fillcolor": "red",
          "line": {
           "color": "red"
          }
         },
         "high": [
          179.6999969482422
         ],
         "increasing": {
          "fillcolor": "red",
          "line": {
           "color": "red"
          }
         },
         "legendgroup": "Hollow Candlesticks",
         "low": [
          175.39999389648438
         ],
         "name": "Open > Close < Prev Close",
         "open": [
          179.25999450683594
         ],
         "showlegend": true,
         "type": "candlestick",
         "x": [
          "2023-09-20"
         ]
        },
        {
         "close": [
          173.92999267578125
         ],
         "decreasing": {
          "fillcolor": "red",
          "line": {
           "color": "red"
          }
         },
         "high": [
          176.3000030517578
         ],
         "increasing": {
          "fillcolor": "red",
          "line": {
           "color": "red"
          }
         },
         "legendgroup": "Hollow Candlesticks",
         "low": [
          173.86000061035156
         ],
         "name": "Open > Close < Prev Close",
         "open": [
          174.5500030517578
         ],
         "showlegend": false,
         "type": "candlestick",
         "x": [
          "2023-09-21"
         ]
        },
        {
         "close": [
          174.7899932861328
         ],
         "decreasing": {
          "fillcolor": "rgba(255, 0, 0, 0)",
          "line": {
           "color": "green"
          }
         },
         "high": [
          177.0800018310547
         ],
         "increasing": {
          "fillcolor": "rgba(255, 0, 0, 0)",
          "line": {
           "color": "green"
          }
         },
         "legendgroup": "Hollow Candlesticks",
         "low": [
          174.0500030517578
         ],
         "name": "Prev Close < Close > Open",
         "open": [
          174.6699981689453
         ],
         "showlegend": true,
         "type": "candlestick",
         "x": [
          "2023-09-22"
         ]
        },
        {
         "close": [
          176.0800018310547
         ],
         "decreasing": {
          "fillcolor": "rgba(255, 0, 0, 0)",
          "line": {
           "color": "green"
          }
         },
         "high": [
          176.97000122070312
         ],
         "increasing": {
          "fillcolor": "rgba(255, 0, 0, 0)",
          "line": {
           "color": "green"
          }
         },
         "legendgroup": "Hollow Candlesticks",
         "low": [
          174.14999389648438
         ],
         "name": "Prev Close < Close > Open",
         "open": [
          174.1999969482422
         ],
         "showlegend": false,
         "type": "candlestick",
         "x": [
          "2023-09-25"
         ]
        },
        {
         "close": [
          171.9600067138672
         ],
         "decreasing": {
          "fillcolor": "red",
          "line": {
           "color": "red"
          }
         },
         "high": [
          175.1999969482422
         ],
         "increasing": {
          "fillcolor": "red",
          "line": {
           "color": "red"
          }
         },
         "legendgroup": "Hollow Candlesticks",
         "low": [
          171.66000366210938
         ],
         "name": "Open > Close < Prev Close",
         "open": [
          174.82000732421875
         ],
         "showlegend": false,
         "type": "candlestick",
         "x": [
          "2023-09-26"
         ]
        },
        {
         "close": [
          170.42999267578125
         ],
         "decreasing": {
          "fillcolor": "red",
          "line": {
           "color": "red"
          }
         },
         "high": [
          173.0399932861328
         ],
         "increasing": {
          "fillcolor": "red",
          "line": {
           "color": "red"
          }
         },
         "legendgroup": "Hollow Candlesticks",
         "low": [
          169.0500030517578
         ],
         "name": "Open > Close < Prev Close",
         "open": [
          172.6199951171875
         ],
         "showlegend": false,
         "type": "candlestick",
         "x": [
          "2023-09-27"
         ]
        },
        {
         "close": [
          170.69000244140625
         ],
         "decreasing": {
          "fillcolor": "rgba(255, 0, 0, 0)",
          "line": {
           "color": "green"
          }
         },
         "high": [
          172.02999877929688
         ],
         "increasing": {
          "fillcolor": "rgba(255, 0, 0, 0)",
          "line": {
           "color": "green"
          }
         },
         "legendgroup": "Hollow Candlesticks",
         "low": [
          167.6199951171875
         ],
         "name": "Prev Close < Close > Open",
         "open": [
          169.33999633789062
         ],
         "showlegend": false,
         "type": "candlestick",
         "x": [
          "2023-09-28"
         ]
        },
        {
         "close": [
          171.2100067138672
         ],
         "decreasing": {
          "fillcolor": "green",
          "line": {
           "color": "green"
          }
         },
         "high": [
          173.07000732421875
         ],
         "increasing": {
          "fillcolor": "green",
          "line": {
           "color": "green"
          }
         },
         "legendgroup": "Hollow Candlesticks",
         "low": [
          170.33999633789062
         ],
         "name": "Open > Close > Prev Close",
         "open": [
          172.02000427246094
         ],
         "showlegend": true,
         "type": "candlestick",
         "x": [
          "2023-09-29"
         ]
        },
        {
         "close": [
          173.75
         ],
         "decreasing": {
          "fillcolor": "rgba(255, 0, 0, 0)",
          "line": {
           "color": "green"
          }
         },
         "high": [
          174.3000030517578
         ],
         "increasing": {
          "fillcolor": "rgba(255, 0, 0, 0)",
          "line": {
           "color": "green"
          }
         },
         "legendgroup": "Hollow Candlesticks",
         "low": [
          170.92999267578125
         ],
         "name": "Prev Close < Close > Open",
         "open": [
          171.22000122070312
         ],
         "showlegend": false,
         "type": "candlestick",
         "x": [
          "2023-10-02"
         ]
        },
        {
         "close": [
          172.39999389648438
         ],
         "decreasing": {
          "fillcolor": "rgba(255, 0, 0, 0)",
          "line": {
           "color": "red"
          }
         },
         "high": [
          173.6300048828125
         ],
         "increasing": {
          "fillcolor": "rgba(255, 0, 0, 0)",
          "line": {
           "color": "red"
          }
         },
         "legendgroup": "Hollow Candlesticks",
         "low": [
          170.82000732421875
         ],
         "name": "Prev Close > Close > Open",
         "open": [
          172.25999450683594
         ],
         "showlegend": false,
         "type": "candlestick",
         "x": [
          "2023-10-03"
         ]
        },
        {
         "close": [
          173.66000366210938
         ],
         "decreasing": {
          "fillcolor": "rgba(255, 0, 0, 0)",
          "line": {
           "color": "green"
          }
         },
         "high": [
          174.2100067138672
         ],
         "increasing": {
          "fillcolor": "rgba(255, 0, 0, 0)",
          "line": {
           "color": "green"
          }
         },
         "legendgroup": "Hollow Candlesticks",
         "low": [
          170.97000122070312
         ],
         "name": "Prev Close < Close > Open",
         "open": [
          171.08999633789062
         ],
         "showlegend": false,
         "type": "candlestick",
         "x": [
          "2023-10-04"
         ]
        },
        {
         "close": [
          174.91000366210938
         ],
         "decreasing": {
          "fillcolor": "rgba(255, 0, 0, 0)",
          "line": {
           "color": "green"
          }
         },
         "high": [
          175.4499969482422
         ],
         "increasing": {
          "fillcolor": "rgba(255, 0, 0, 0)",
          "line": {
           "color": "green"
          }
         },
         "legendgroup": "Hollow Candlesticks",
         "low": [
          172.67999267578125
         ],
         "name": "Prev Close < Close > Open",
         "open": [
          173.7899932861328
         ],
         "showlegend": false,
         "type": "candlestick",
         "x": [
          "2023-10-05"
         ]
        },
        {
         "close": [
          177.49000549316406
         ],
         "decreasing": {
          "fillcolor": "rgba(255, 0, 0, 0)",
          "line": {
           "color": "green"
          }
         },
         "high": [
          177.99000549316406
         ],
         "increasing": {
          "fillcolor": "rgba(255, 0, 0, 0)",
          "line": {
           "color": "green"
          }
         },
         "legendgroup": "Hollow Candlesticks",
         "low": [
          173.17999267578125
         ],
         "name": "Prev Close < Close > Open",
         "open": [
          173.8000030517578
         ],
         "showlegend": false,
         "type": "candlestick",
         "x": [
          "2023-10-06"
         ]
        },
        {
         "close": [
          178.99000549316406
         ],
         "decreasing": {
          "fillcolor": "rgba(255, 0, 0, 0)",
          "line": {
           "color": "green"
          }
         },
         "high": [
          179.0500030517578
         ],
         "increasing": {
          "fillcolor": "rgba(255, 0, 0, 0)",
          "line": {
           "color": "green"
          }
         },
         "legendgroup": "Hollow Candlesticks",
         "low": [
          175.8000030517578
         ],
         "name": "Prev Close < Close > Open",
         "open": [
          176.80999755859375
         ],
         "showlegend": false,
         "type": "candlestick",
         "x": [
          "2023-10-09"
         ]
        },
        {
         "close": [
          178.38999938964844
         ],
         "decreasing": {
          "fillcolor": "rgba(255, 0, 0, 0)",
          "line": {
           "color": "red"
          }
         },
         "high": [
          179.72000122070312
         ],
         "increasing": {
          "fillcolor": "rgba(255, 0, 0, 0)",
          "line": {
           "color": "red"
          }
         },
         "legendgroup": "Hollow Candlesticks",
         "low": [
          177.9499969482422
         ],
         "name": "Prev Close > Close > Open",
         "open": [
          178.10000610351562
         ],
         "showlegend": false,
         "type": "candlestick",
         "x": [
          "2023-10-10"
         ]
        },
        {
         "close": [
          179.8000030517578
         ],
         "decreasing": {
          "fillcolor": "rgba(255, 0, 0, 0)",
          "line": {
           "color": "green"
          }
         },
         "high": [
          179.85000610351562
         ],
         "increasing": {
          "fillcolor": "rgba(255, 0, 0, 0)",
          "line": {
           "color": "green"
          }
         },
         "legendgroup": "Hollow Candlesticks",
         "low": [
          177.60000610351562
         ],
         "name": "Prev Close < Close > Open",
         "open": [
          178.1999969482422
         ],
         "showlegend": false,
         "type": "candlestick",
         "x": [
          "2023-10-11"
         ]
        },
        {
         "close": [
          180.7100067138672
         ],
         "decreasing": {
          "fillcolor": "rgba(255, 0, 0, 0)",
          "line": {
           "color": "green"
          }
         },
         "high": [
          182.33999633789062
         ],
         "increasing": {
          "fillcolor": "rgba(255, 0, 0, 0)",
          "line": {
           "color": "green"
          }
         },
         "legendgroup": "Hollow Candlesticks",
         "low": [
          179.0399932861328
         ],
         "name": "Prev Close < Close > Open",
         "open": [
          180.07000732421875
         ],
         "showlegend": false,
         "type": "candlestick",
         "x": [
          "2023-10-12"
         ]
        },
        {
         "close": [
          178.85000610351562
         ],
         "decreasing": {
          "fillcolor": "red",
          "line": {
           "color": "red"
          }
         },
         "high": [
          181.92999267578125
         ],
         "increasing": {
          "fillcolor": "red",
          "line": {
           "color": "red"
          }
         },
         "legendgroup": "Hollow Candlesticks",
         "low": [
          178.13999938964844
         ],
         "name": "Open > Close < Prev Close",
         "open": [
          181.4199981689453
         ],
         "showlegend": false,
         "type": "candlestick",
         "x": [
          "2023-10-13"
         ]
        },
        {
         "close": [
          178.72000122070312
         ],
         "decreasing": {
          "fillcolor": "rgba(255, 0, 0, 0)",
          "line": {
           "color": "red"
          }
         },
         "high": [
          179.0800018310547
         ],
         "increasing": {
          "fillcolor": "rgba(255, 0, 0, 0)",
          "line": {
           "color": "red"
          }
         },
         "legendgroup": "Hollow Candlesticks",
         "low": [
          176.50999450683594
         ],
         "name": "Prev Close > Close > Open",
         "open": [
          176.75
         ],
         "showlegend": false,
         "type": "candlestick",
         "x": [
          "2023-10-16"
         ]
        },
        {
         "close": [
          177.14999389648438
         ],
         "decreasing": {
          "fillcolor": "rgba(255, 0, 0, 0)",
          "line": {
           "color": "red"
          }
         },
         "high": [
          178.4199981689453
         ],
         "increasing": {
          "fillcolor": "rgba(255, 0, 0, 0)",
          "line": {
           "color": "red"
          }
         },
         "legendgroup": "Hollow Candlesticks",
         "low": [
          174.8000030517578
         ],
         "name": "Prev Close > Close > Open",
         "open": [
          176.64999389648438
         ],
         "showlegend": false,
         "type": "candlestick",
         "x": [
          "2023-10-17"
         ]
        },
        {
         "close": [
          175.83999633789062
         ],
         "decreasing": {
          "fillcolor": "rgba(255, 0, 0, 0)",
          "line": {
           "color": "red"
          }
         },
         "high": [
          177.5800018310547
         ],
         "increasing": {
          "fillcolor": "rgba(255, 0, 0, 0)",
          "line": {
           "color": "red"
          }
         },
         "legendgroup": "Hollow Candlesticks",
         "low": [
          175.11000061035156
         ],
         "name": "Prev Close > Close > Open",
         "open": [
          175.5800018310547
         ],
         "showlegend": false,
         "type": "candlestick",
         "x": [
          "2023-10-18"
         ]
        },
        {
         "close": [
          175.4600067138672
         ],
         "decreasing": {
          "fillcolor": "red",
          "line": {
           "color": "red"
          }
         },
         "high": [
          177.83999633789062
         ],
         "increasing": {
          "fillcolor": "red",
          "line": {
           "color": "red"
          }
         },
         "legendgroup": "Hollow Candlesticks",
         "low": [
          175.19000244140625
         ],
         "name": "Open > Close < Prev Close",
         "open": [
          176.0399932861328
         ],
         "showlegend": false,
         "type": "candlestick",
         "x": [
          "2023-10-19"
         ]
        },
        {
         "close": [
          172.8800048828125
         ],
         "decreasing": {
          "fillcolor": "red",
          "line": {
           "color": "red"
          }
         },
         "high": [
          175.4199981689453
         ],
         "increasing": {
          "fillcolor": "red",
          "line": {
           "color": "red"
          }
         },
         "legendgroup": "Hollow Candlesticks",
         "low": [
          172.63999938964844
         ],
         "name": "Open > Close < Prev Close",
         "open": [
          175.30999755859375
         ],
         "showlegend": false,
         "type": "candlestick",
         "x": [
          "2023-10-20"
         ]
        },
        {
         "close": [
          173
         ],
         "decreasing": {
          "fillcolor": "rgba(255, 0, 0, 0)",
          "line": {
           "color": "green"
          }
         },
         "high": [
          174.00999450683594
         ],
         "increasing": {
          "fillcolor": "rgba(255, 0, 0, 0)",
          "line": {
           "color": "green"
          }
         },
         "legendgroup": "Hollow Candlesticks",
         "low": [
          169.92999267578125
         ],
         "name": "Prev Close < Close > Open",
         "open": [
          170.91000366210938
         ],
         "showlegend": false,
         "type": "candlestick",
         "x": [
          "2023-10-23"
         ]
        },
        {
         "close": [
          173.44000244140625
         ],
         "decreasing": {
          "fillcolor": "rgba(255, 0, 0, 0)",
          "line": {
           "color": "green"
          }
         },
         "high": [
          173.6699981689453
         ],
         "increasing": {
          "fillcolor": "rgba(255, 0, 0, 0)",
          "line": {
           "color": "green"
          }
         },
         "legendgroup": "Hollow Candlesticks",
         "low": [
          171.4499969482422
         ],
         "name": "Prev Close < Close > Open",
         "open": [
          173.0500030517578
         ],
         "showlegend": false,
         "type": "candlestick",
         "x": [
          "2023-10-24"
         ]
        },
        {
         "close": [
          171.10000610351562
         ],
         "decreasing": {
          "fillcolor": "red",
          "line": {
           "color": "red"
          }
         },
         "high": [
          173.05999755859375
         ],
         "increasing": {
          "fillcolor": "red",
          "line": {
           "color": "red"
          }
         },
         "legendgroup": "Hollow Candlesticks",
         "low": [
          170.64999389648438
         ],
         "name": "Open > Close < Prev Close",
         "open": [
          171.8800048828125
         ],
         "showlegend": false,
         "type": "candlestick",
         "x": [
          "2023-10-25"
         ]
        },
        {
         "close": [
          166.88999938964844
         ],
         "decreasing": {
          "fillcolor": "red",
          "line": {
           "color": "red"
          }
         },
         "high": [
          171.3800048828125
         ],
         "increasing": {
          "fillcolor": "red",
          "line": {
           "color": "red"
          }
         },
         "legendgroup": "Hollow Candlesticks",
         "low": [
          165.6699981689453
         ],
         "name": "Open > Close < Prev Close",
         "open": [
          170.3699951171875
         ],
         "showlegend": false,
         "type": "candlestick",
         "x": [
          "2023-10-26"
         ]
        },
        {
         "close": [
          168.22000122070312
         ],
         "decreasing": {
          "fillcolor": "rgba(255, 0, 0, 0)",
          "line": {
           "color": "green"
          }
         },
         "high": [
          168.9600067138672
         ],
         "increasing": {
          "fillcolor": "rgba(255, 0, 0, 0)",
          "line": {
           "color": "green"
          }
         },
         "legendgroup": "Hollow Candlesticks",
         "low": [
          166.8300018310547
         ],
         "name": "Prev Close < Close > Open",
         "open": [
          166.91000366210938
         ],
         "showlegend": false,
         "type": "candlestick",
         "x": [
          "2023-10-27"
         ]
        },
        {
         "close": [
          170.2899932861328
         ],
         "decreasing": {
          "fillcolor": "rgba(255, 0, 0, 0)",
          "line": {
           "color": "green"
          }
         },
         "high": [
          171.1699981689453
         ],
         "increasing": {
          "fillcolor": "rgba(255, 0, 0, 0)",
          "line": {
           "color": "green"
          }
         },
         "legendgroup": "Hollow Candlesticks",
         "low": [
          168.8699951171875
         ],
         "name": "Prev Close < Close > Open",
         "open": [
          169.02000427246094
         ],
         "showlegend": false,
         "type": "candlestick",
         "x": [
          "2023-10-30"
         ]
        },
        {
         "close": [
          170.77000427246094
         ],
         "decreasing": {
          "fillcolor": "rgba(255, 0, 0, 0)",
          "line": {
           "color": "green"
          }
         },
         "high": [
          170.89999389648438
         ],
         "increasing": {
          "fillcolor": "rgba(255, 0, 0, 0)",
          "line": {
           "color": "green"
          }
         },
         "legendgroup": "Hollow Candlesticks",
         "low": [
          167.89999389648438
         ],
         "name": "Prev Close < Close > Open",
         "open": [
          169.35000610351562
         ],
         "showlegend": false,
         "type": "candlestick",
         "x": [
          "2023-10-31"
         ]
        },
        {
         "close": [
          173.97000122070312
         ],
         "decreasing": {
          "fillcolor": "rgba(255, 0, 0, 0)",
          "line": {
           "color": "green"
          }
         },
         "high": [
          174.22999572753906
         ],
         "increasing": {
          "fillcolor": "rgba(255, 0, 0, 0)",
          "line": {
           "color": "green"
          }
         },
         "legendgroup": "Hollow Candlesticks",
         "low": [
          170.1199951171875
         ],
         "name": "Prev Close < Close > Open",
         "open": [
          171
         ],
         "showlegend": false,
         "type": "candlestick",
         "x": [
          "2023-11-01"
         ]
        },
        {
         "close": [
          177.57000732421875
         ],
         "decreasing": {
          "fillcolor": "rgba(255, 0, 0, 0)",
          "line": {
           "color": "green"
          }
         },
         "high": [
          177.77999877929688
         ],
         "increasing": {
          "fillcolor": "rgba(255, 0, 0, 0)",
          "line": {
           "color": "green"
          }
         },
         "legendgroup": "Hollow Candlesticks",
         "low": [
          175.4600067138672
         ],
         "name": "Prev Close < Close > Open",
         "open": [
          175.52000427246094
         ],
         "showlegend": false,
         "type": "candlestick",
         "x": [
          "2023-11-02"
         ]
        },
        {
         "close": [
          176.64999389648438
         ],
         "decreasing": {
          "fillcolor": "rgba(255, 0, 0, 0)",
          "line": {
           "color": "red"
          }
         },
         "high": [
          176.82000732421875
         ],
         "increasing": {
          "fillcolor": "rgba(255, 0, 0, 0)",
          "line": {
           "color": "red"
          }
         },
         "legendgroup": "Hollow Candlesticks",
         "low": [
          173.35000610351562
         ],
         "name": "Prev Close > Close > Open",
         "open": [
          174.24000549316406
         ],
         "showlegend": false,
         "type": "candlestick",
         "x": [
          "2023-11-03"
         ]
        },
        {
         "close": [
          179.22999572753906
         ],
         "decreasing": {
          "fillcolor": "rgba(255, 0, 0, 0)",
          "line": {
           "color": "green"
          }
         },
         "high": [
          179.42999267578125
         ],
         "increasing": {
          "fillcolor": "rgba(255, 0, 0, 0)",
          "line": {
           "color": "green"
          }
         },
         "legendgroup": "Hollow Candlesticks",
         "low": [
          176.2100067138672
         ],
         "name": "Prev Close < Close > Open",
         "open": [
          176.3800048828125
         ],
         "showlegend": false,
         "type": "candlestick",
         "x": [
          "2023-11-06"
         ]
        },
        {
         "close": [
          181.82000732421875
         ],
         "decreasing": {
          "fillcolor": "rgba(255, 0, 0, 0)",
          "line": {
           "color": "green"
          }
         },
         "high": [
          182.44000244140625
         ],
         "increasing": {
          "fillcolor": "rgba(255, 0, 0, 0)",
          "line": {
           "color": "green"
          }
         },
         "legendgroup": "Hollow Candlesticks",
         "low": [
          178.97000122070312
         ],
         "name": "Prev Close < Close > Open",
         "open": [
          179.17999267578125
         ],
         "showlegend": false,
         "type": "candlestick",
         "x": [
          "2023-11-07"
         ]
        },
        {
         "close": [
          182.88999938964844
         ],
         "decreasing": {
          "fillcolor": "rgba(255, 0, 0, 0)",
          "line": {
           "color": "green"
          }
         },
         "high": [
          183.4499969482422
         ],
         "increasing": {
          "fillcolor": "rgba(255, 0, 0, 0)",
          "line": {
           "color": "green"
          }
         },
         "legendgroup": "Hollow Candlesticks",
         "low": [
          181.58999633789062
         ],
         "name": "Prev Close < Close > Open",
         "open": [
          182.35000610351562
         ],
         "showlegend": false,
         "type": "candlestick",
         "x": [
          "2023-11-08"
         ]
        },
        {
         "close": [
          182.41000366210938
         ],
         "decreasing": {
          "fillcolor": "red",
          "line": {
           "color": "red"
          }
         },
         "high": [
          184.1199951171875
         ],
         "increasing": {
          "fillcolor": "red",
          "line": {
           "color": "red"
          }
         },
         "legendgroup": "Hollow Candlesticks",
         "low": [
          181.80999755859375
         ],
         "name": "Open > Close < Prev Close",
         "open": [
          182.9600067138672
         ],
         "showlegend": false,
         "type": "candlestick",
         "x": [
          "2023-11-09"
         ]
        },
        {
         "close": [
          186.39999389648438
         ],
         "decreasing": {
          "fillcolor": "rgba(255, 0, 0, 0)",
          "line": {
           "color": "green"
          }
         },
         "high": [
          186.57000732421875
         ],
         "increasing": {
          "fillcolor": "rgba(255, 0, 0, 0)",
          "line": {
           "color": "green"
          }
         },
         "legendgroup": "Hollow Candlesticks",
         "low": [
          183.52999877929688
         ],
         "name": "Prev Close < Close > Open",
         "open": [
          183.97000122070312
         ],
         "showlegend": false,
         "type": "candlestick",
         "x": [
          "2023-11-10"
         ]
        },
        {
         "close": [
          184.8000030517578
         ],
         "decreasing": {
          "fillcolor": "red",
          "line": {
           "color": "red"
          }
         },
         "high": [
          186.02999877929688
         ],
         "increasing": {
          "fillcolor": "red",
          "line": {
           "color": "red"
          }
         },
         "legendgroup": "Hollow Candlesticks",
         "low": [
          184.2100067138672
         ],
         "name": "Open > Close < Prev Close",
         "open": [
          185.82000732421875
         ],
         "showlegend": false,
         "type": "candlestick",
         "x": [
          "2023-11-13"
         ]
        },
        {
         "close": [
          187.44000244140625
         ],
         "decreasing": {
          "fillcolor": "green",
          "line": {
           "color": "green"
          }
         },
         "high": [
          188.11000061035156
         ],
         "increasing": {
          "fillcolor": "green",
          "line": {
           "color": "green"
          }
         },
         "legendgroup": "Hollow Candlesticks",
         "low": [
          186.3000030517578
         ],
         "name": "Open > Close > Prev Close",
         "open": [
          187.6999969482422
         ],
         "showlegend": false,
         "type": "candlestick",
         "x": [
          "2023-11-14"
         ]
        },
        {
         "close": [
          188.00999450683594
         ],
         "decreasing": {
          "fillcolor": "rgba(255, 0, 0, 0)",
          "line": {
           "color": "green"
          }
         },
         "high": [
          189.5
         ],
         "increasing": {
          "fillcolor": "rgba(255, 0, 0, 0)",
          "line": {
           "color": "green"
          }
         },
         "legendgroup": "Hollow Candlesticks",
         "low": [
          187.77999877929688
         ],
         "name": "Prev Close < Close > Open",
         "open": [
          187.85000610351562
         ],
         "showlegend": false,
         "type": "candlestick",
         "x": [
          "2023-11-15"
         ]
        },
        {
         "close": [
          189.7100067138672
         ],
         "decreasing": {
          "fillcolor": "rgba(255, 0, 0, 0)",
          "line": {
           "color": "green"
          }
         },
         "high": [
          190.9600067138672
         ],
         "increasing": {
          "fillcolor": "rgba(255, 0, 0, 0)",
          "line": {
           "color": "green"
          }
         },
         "legendgroup": "Hollow Candlesticks",
         "low": [
          188.64999389648438
         ],
         "name": "Prev Close < Close > Open",
         "open": [
          189.57000732421875
         ],
         "showlegend": false,
         "type": "candlestick",
         "x": [
          "2023-11-16"
         ]
        },
        {
         "close": [
          189.69000244140625
         ],
         "decreasing": {
          "fillcolor": "red",
          "line": {
           "color": "red"
          }
         },
         "high": [
          190.3800048828125
         ],
         "increasing": {
          "fillcolor": "red",
          "line": {
           "color": "red"
          }
         },
         "legendgroup": "Hollow Candlesticks",
         "low": [
          188.57000732421875
         ],
         "name": "Open > Close < Prev Close",
         "open": [
          190.25
         ],
         "showlegend": false,
         "type": "candlestick",
         "x": [
          "2023-11-17"
         ]
        },
        {
         "close": [
          191.4499969482422
         ],
         "decreasing": {
          "fillcolor": "rgba(255, 0, 0, 0)",
          "line": {
           "color": "green"
          }
         },
         "high": [
          191.91000366210938
         ],
         "increasing": {
          "fillcolor": "rgba(255, 0, 0, 0)",
          "line": {
           "color": "green"
          }
         },
         "legendgroup": "Hollow Candlesticks",
         "low": [
          189.8800048828125
         ],
         "name": "Prev Close < Close > Open",
         "open": [
          189.88999938964844
         ],
         "showlegend": false,
         "type": "candlestick",
         "x": [
          "2023-11-20"
         ]
        },
        {
         "close": [
          190.63999938964844
         ],
         "decreasing": {
          "fillcolor": "red",
          "line": {
           "color": "red"
          }
         },
         "high": [
          191.52000427246094
         ],
         "increasing": {
          "fillcolor": "red",
          "line": {
           "color": "red"
          }
         },
         "legendgroup": "Hollow Candlesticks",
         "low": [
          189.74000549316406
         ],
         "name": "Open > Close < Prev Close",
         "open": [
          191.41000366210938
         ],
         "showlegend": false,
         "type": "candlestick",
         "x": [
          "2023-11-21"
         ]
        },
        {
         "close": [
          191.30999755859375
         ],
         "decreasing": {
          "fillcolor": "green",
          "line": {
           "color": "green"
          }
         },
         "high": [
          192.92999267578125
         ],
         "increasing": {
          "fillcolor": "green",
          "line": {
           "color": "green"
          }
         },
         "legendgroup": "Hollow Candlesticks",
         "low": [
          190.8300018310547
         ],
         "name": "Open > Close > Prev Close",
         "open": [
          191.49000549316406
         ],
         "showlegend": false,
         "type": "candlestick",
         "x": [
          "2023-11-22"
         ]
        },
        {
         "close": [
          189.97000122070312
         ],
         "decreasing": {
          "fillcolor": "red",
          "line": {
           "color": "red"
          }
         },
         "high": [
          190.89999389648438
         ],
         "increasing": {
          "fillcolor": "red",
          "line": {
           "color": "red"
          }
         },
         "legendgroup": "Hollow Candlesticks",
         "low": [
          189.25
         ],
         "name": "Open > Close < Prev Close",
         "open": [
          190.8699951171875
         ],
         "showlegend": false,
         "type": "candlestick",
         "x": [
          "2023-11-24"
         ]
        },
        {
         "close": [
          189.7899932861328
         ],
         "decreasing": {
          "fillcolor": "red",
          "line": {
           "color": "red"
          }
         },
         "high": [
          190.6699981689453
         ],
         "increasing": {
          "fillcolor": "red",
          "line": {
           "color": "red"
          }
         },
         "legendgroup": "Hollow Candlesticks",
         "low": [
          188.89999389648438
         ],
         "name": "Open > Close < Prev Close",
         "open": [
          189.9199981689453
         ],
         "showlegend": false,
         "type": "candlestick",
         "x": [
          "2023-11-27"
         ]
        },
        {
         "close": [
          190.39999389648438
         ],
         "decreasing": {
          "fillcolor": "rgba(255, 0, 0, 0)",
          "line": {
           "color": "green"
          }
         },
         "high": [
          191.0800018310547
         ],
         "increasing": {
          "fillcolor": "rgba(255, 0, 0, 0)",
          "line": {
           "color": "green"
          }
         },
         "legendgroup": "Hollow Candlesticks",
         "low": [
          189.39999389648438
         ],
         "name": "Prev Close < Close > Open",
         "open": [
          189.77999877929688
         ],
         "showlegend": false,
         "type": "candlestick",
         "x": [
          "2023-11-28"
         ]
        },
        {
         "close": [
          189.3699951171875
         ],
         "decreasing": {
          "fillcolor": "red",
          "line": {
           "color": "red"
          }
         },
         "high": [
          192.08999633789062
         ],
         "increasing": {
          "fillcolor": "red",
          "line": {
           "color": "red"
          }
         },
         "legendgroup": "Hollow Candlesticks",
         "low": [
          188.97000122070312
         ],
         "name": "Open > Close < Prev Close",
         "open": [
          190.89999389648438
         ],
         "showlegend": false,
         "type": "candlestick",
         "x": [
          "2023-11-29"
         ]
        },
        {
         "close": [
          189.9499969482422
         ],
         "decreasing": {
          "fillcolor": "rgba(255, 0, 0, 0)",
          "line": {
           "color": "green"
          }
         },
         "high": [
          190.32000732421875
         ],
         "increasing": {
          "fillcolor": "rgba(255, 0, 0, 0)",
          "line": {
           "color": "green"
          }
         },
         "legendgroup": "Hollow Candlesticks",
         "low": [
          188.19000244140625
         ],
         "name": "Prev Close < Close > Open",
         "open": [
          189.83999633789062
         ],
         "showlegend": false,
         "type": "candlestick",
         "x": [
          "2023-11-30"
         ]
        },
        {
         "close": [
          191.24000549316406
         ],
         "decreasing": {
          "fillcolor": "rgba(255, 0, 0, 0)",
          "line": {
           "color": "green"
          }
         },
         "high": [
          191.55999755859375
         ],
         "increasing": {
          "fillcolor": "rgba(255, 0, 0, 0)",
          "line": {
           "color": "green"
          }
         },
         "legendgroup": "Hollow Candlesticks",
         "low": [
          189.22999572753906
         ],
         "name": "Prev Close < Close > Open",
         "open": [
          190.3300018310547
         ],
         "showlegend": false,
         "type": "candlestick",
         "x": [
          "2023-12-01"
         ]
        },
        {
         "close": [
          189.42999267578125
         ],
         "decreasing": {
          "fillcolor": "red",
          "line": {
           "color": "red"
          }
         },
         "high": [
          190.0500030517578
         ],
         "increasing": {
          "fillcolor": "red",
          "line": {
           "color": "red"
          }
         },
         "legendgroup": "Hollow Candlesticks",
         "low": [
          187.4499969482422
         ],
         "name": "Open > Close < Prev Close",
         "open": [
          189.97999572753906
         ],
         "showlegend": false,
         "type": "candlestick",
         "x": [
          "2023-12-04"
         ]
        },
        {
         "close": [
          193.4199981689453
         ],
         "decreasing": {
          "fillcolor": "rgba(255, 0, 0, 0)",
          "line": {
           "color": "green"
          }
         },
         "high": [
          194.39999389648438
         ],
         "increasing": {
          "fillcolor": "rgba(255, 0, 0, 0)",
          "line": {
           "color": "green"
          }
         },
         "legendgroup": "Hollow Candlesticks",
         "low": [
          190.17999267578125
         ],
         "name": "Prev Close < Close > Open",
         "open": [
          190.2100067138672
         ],
         "showlegend": false,
         "type": "candlestick",
         "x": [
          "2023-12-05"
         ]
        },
        {
         "close": [
          192.32000732421875
         ],
         "decreasing": {
          "fillcolor": "red",
          "line": {
           "color": "red"
          }
         },
         "high": [
          194.75999450683594
         ],
         "increasing": {
          "fillcolor": "red",
          "line": {
           "color": "red"
          }
         },
         "legendgroup": "Hollow Candlesticks",
         "low": [
          192.11000061035156
         ],
         "name": "Open > Close < Prev Close",
         "open": [
          194.4499969482422
         ],
         "showlegend": false,
         "type": "candlestick",
         "x": [
          "2023-12-06"
         ]
        },
        {
         "close": [
          194.27000427246094
         ],
         "decreasing": {
          "fillcolor": "rgba(255, 0, 0, 0)",
          "line": {
           "color": "green"
          }
         },
         "high": [
          195
         ],
         "increasing": {
          "fillcolor": "rgba(255, 0, 0, 0)",
          "line": {
           "color": "green"
          }
         },
         "legendgroup": "Hollow Candlesticks",
         "low": [
          193.58999633789062
         ],
         "name": "Prev Close < Close > Open",
         "open": [
          193.6300048828125
         ],
         "showlegend": false,
         "type": "candlestick",
         "x": [
          "2023-12-07"
         ]
        },
        {
         "close": [
          195.7100067138672
         ],
         "decreasing": {
          "fillcolor": "rgba(255, 0, 0, 0)",
          "line": {
           "color": "green"
          }
         },
         "high": [
          195.99000549316406
         ],
         "increasing": {
          "fillcolor": "rgba(255, 0, 0, 0)",
          "line": {
           "color": "green"
          }
         },
         "legendgroup": "Hollow Candlesticks",
         "low": [
          193.6699981689453
         ],
         "name": "Prev Close < Close > Open",
         "open": [
          194.1999969482422
         ],
         "showlegend": false,
         "type": "candlestick",
         "x": [
          "2023-12-08"
         ]
        },
        {
         "close": [
          193.17999267578125
         ],
         "decreasing": {
          "fillcolor": "rgba(255, 0, 0, 0)",
          "line": {
           "color": "red"
          }
         },
         "high": [
          193.49000549316406
         ],
         "increasing": {
          "fillcolor": "rgba(255, 0, 0, 0)",
          "line": {
           "color": "red"
          }
         },
         "legendgroup": "Hollow Candlesticks",
         "low": [
          191.4199981689453
         ],
         "name": "Prev Close > Close > Open",
         "open": [
          193.11000061035156
         ],
         "showlegend": false,
         "type": "candlestick",
         "x": [
          "2023-12-11"
         ]
        },
        {
         "close": [
          194.7100067138672
         ],
         "decreasing": {
          "fillcolor": "rgba(255, 0, 0, 0)",
          "line": {
           "color": "green"
          }
         },
         "high": [
          194.72000122070312
         ],
         "increasing": {
          "fillcolor": "rgba(255, 0, 0, 0)",
          "line": {
           "color": "green"
          }
         },
         "legendgroup": "Hollow Candlesticks",
         "low": [
          191.72000122070312
         ],
         "name": "Prev Close < Close > Open",
         "open": [
          193.0800018310547
         ],
         "showlegend": false,
         "type": "candlestick",
         "x": [
          "2023-12-12"
         ]
        },
        {
         "close": [
          197.9600067138672
         ],
         "decreasing": {
          "fillcolor": "rgba(255, 0, 0, 0)",
          "line": {
           "color": "green"
          }
         },
         "high": [
          198
         ],
         "increasing": {
          "fillcolor": "rgba(255, 0, 0, 0)",
          "line": {
           "color": "green"
          }
         },
         "legendgroup": "Hollow Candlesticks",
         "low": [
          194.85000610351562
         ],
         "name": "Prev Close < Close > Open",
         "open": [
          195.08999633789062
         ],
         "showlegend": false,
         "type": "candlestick",
         "x": [
          "2023-12-13"
         ]
        },
        {
         "close": [
          198.11000061035156
         ],
         "decreasing": {
          "fillcolor": "rgba(255, 0, 0, 0)",
          "line": {
           "color": "green"
          }
         },
         "high": [
          199.6199951171875
         ],
         "increasing": {
          "fillcolor": "rgba(255, 0, 0, 0)",
          "line": {
           "color": "green"
          }
         },
         "legendgroup": "Hollow Candlesticks",
         "low": [
          196.16000366210938
         ],
         "name": "Prev Close < Close > Open",
         "open": [
          198.02000427246094
         ],
         "showlegend": false,
         "type": "candlestick",
         "x": [
          "2023-12-14"
         ]
        },
        {
         "close": [
          197.57000732421875
         ],
         "decreasing": {
          "fillcolor": "rgba(255, 0, 0, 0)",
          "line": {
           "color": "red"
          }
         },
         "high": [
          198.39999389648438
         ],
         "increasing": {
          "fillcolor": "rgba(255, 0, 0, 0)",
          "line": {
           "color": "red"
          }
         },
         "legendgroup": "Hollow Candlesticks",
         "low": [
          197
         ],
         "name": "Prev Close > Close > Open",
         "open": [
          197.52999877929688
         ],
         "showlegend": false,
         "type": "candlestick",
         "x": [
          "2023-12-15"
         ]
        },
        {
         "close": [
          195.88999938964844
         ],
         "decreasing": {
          "fillcolor": "red",
          "line": {
           "color": "red"
          }
         },
         "high": [
          196.6300048828125
         ],
         "increasing": {
          "fillcolor": "red",
          "line": {
           "color": "red"
          }
         },
         "legendgroup": "Hollow Candlesticks",
         "low": [
          194.38999938964844
         ],
         "name": "Open > Close < Prev Close",
         "open": [
          196.08999633789062
         ],
         "showlegend": false,
         "type": "candlestick",
         "x": [
          "2023-12-18"
         ]
        },
        {
         "close": [
          196.94000244140625
         ],
         "decreasing": {
          "fillcolor": "rgba(255, 0, 0, 0)",
          "line": {
           "color": "green"
          }
         },
         "high": [
          196.9499969482422
         ],
         "increasing": {
          "fillcolor": "rgba(255, 0, 0, 0)",
          "line": {
           "color": "green"
          }
         },
         "legendgroup": "Hollow Candlesticks",
         "low": [
          195.88999938964844
         ],
         "name": "Prev Close < Close > Open",
         "open": [
          196.16000366210938
         ],
         "showlegend": false,
         "type": "candlestick",
         "x": [
          "2023-12-19"
         ]
        },
        {
         "close": [
          194.8300018310547
         ],
         "decreasing": {
          "fillcolor": "red",
          "line": {
           "color": "red"
          }
         },
         "high": [
          197.67999267578125
         ],
         "increasing": {
          "fillcolor": "red",
          "line": {
           "color": "red"
          }
         },
         "legendgroup": "Hollow Candlesticks",
         "low": [
          194.8300018310547
         ],
         "name": "Open > Close < Prev Close",
         "open": [
          196.89999389648438
         ],
         "showlegend": false,
         "type": "candlestick",
         "x": [
          "2023-12-20"
         ]
        },
        {
         "close": [
          194.67999267578125
         ],
         "decreasing": {
          "fillcolor": "red",
          "line": {
           "color": "red"
          }
         },
         "high": [
          197.0800018310547
         ],
         "increasing": {
          "fillcolor": "red",
          "line": {
           "color": "red"
          }
         },
         "legendgroup": "Hollow Candlesticks",
         "low": [
          193.5
         ],
         "name": "Open > Close < Prev Close",
         "open": [
          196.10000610351562
         ],
         "showlegend": false,
         "type": "candlestick",
         "x": [
          "2023-12-21"
         ]
        },
        {
         "close": [
          193.60000610351562
         ],
         "decreasing": {
          "fillcolor": "red",
          "line": {
           "color": "red"
          }
         },
         "high": [
          195.41000366210938
         ],
         "increasing": {
          "fillcolor": "red",
          "line": {
           "color": "red"
          }
         },
         "legendgroup": "Hollow Candlesticks",
         "low": [
          192.97000122070312
         ],
         "name": "Open > Close < Prev Close",
         "open": [
          195.17999267578125
         ],
         "showlegend": false,
         "type": "candlestick",
         "x": [
          "2023-12-22"
         ]
        },
        {
         "close": [
          193.0500030517578
         ],
         "decreasing": {
          "fillcolor": "red",
          "line": {
           "color": "red"
          }
         },
         "high": [
          193.88999938964844
         ],
         "increasing": {
          "fillcolor": "red",
          "line": {
           "color": "red"
          }
         },
         "legendgroup": "Hollow Candlesticks",
         "low": [
          192.8300018310547
         ],
         "name": "Open > Close < Prev Close",
         "open": [
          193.61000061035156
         ],
         "showlegend": false,
         "type": "candlestick",
         "x": [
          "2023-12-26"
         ]
        },
        {
         "close": [
          193.14999389648438
         ],
         "decreasing": {
          "fillcolor": "rgba(255, 0, 0, 0)",
          "line": {
           "color": "green"
          }
         },
         "high": [
          193.5
         ],
         "increasing": {
          "fillcolor": "rgba(255, 0, 0, 0)",
          "line": {
           "color": "green"
          }
         },
         "legendgroup": "Hollow Candlesticks",
         "low": [
          191.08999633789062
         ],
         "name": "Prev Close < Close > Open",
         "open": [
          192.49000549316406
         ],
         "showlegend": false,
         "type": "candlestick",
         "x": [
          "2023-12-27"
         ]
        },
        {
         "close": [
          193.5800018310547
         ],
         "decreasing": {
          "fillcolor": "green",
          "line": {
           "color": "green"
          }
         },
         "high": [
          194.66000366210938
         ],
         "increasing": {
          "fillcolor": "green",
          "line": {
           "color": "green"
          }
         },
         "legendgroup": "Hollow Candlesticks",
         "low": [
          193.1699981689453
         ],
         "name": "Open > Close > Prev Close",
         "open": [
          194.13999938964844
         ],
         "showlegend": false,
         "type": "candlestick",
         "x": [
          "2023-12-28"
         ]
        },
        {
         "close": [
          192.52999877929688
         ],
         "decreasing": {
          "fillcolor": "red",
          "line": {
           "color": "red"
          }
         },
         "high": [
          194.39999389648438
         ],
         "increasing": {
          "fillcolor": "red",
          "line": {
           "color": "red"
          }
         },
         "legendgroup": "Hollow Candlesticks",
         "low": [
          191.72999572753906
         ],
         "name": "Open > Close < Prev Close",
         "open": [
          193.89999389648438
         ],
         "showlegend": false,
         "type": "candlestick",
         "x": [
          "2023-12-29"
         ]
        },
        {
         "close": [
          185.63999938964844
         ],
         "decreasing": {
          "fillcolor": "red",
          "line": {
           "color": "red"
          }
         },
         "high": [
          188.44000244140625
         ],
         "increasing": {
          "fillcolor": "red",
          "line": {
           "color": "red"
          }
         },
         "legendgroup": "Hollow Candlesticks",
         "low": [
          183.88999938964844
         ],
         "name": "Open > Close < Prev Close",
         "open": [
          187.14999389648438
         ],
         "showlegend": false,
         "type": "candlestick",
         "x": [
          "2024-01-02"
         ]
        },
        {
         "close": [
          184.25
         ],
         "decreasing": {
          "fillcolor": "rgba(255, 0, 0, 0)",
          "line": {
           "color": "red"
          }
         },
         "high": [
          185.8800048828125
         ],
         "increasing": {
          "fillcolor": "rgba(255, 0, 0, 0)",
          "line": {
           "color": "red"
          }
         },
         "legendgroup": "Hollow Candlesticks",
         "low": [
          183.42999267578125
         ],
         "name": "Prev Close > Close > Open",
         "open": [
          184.22000122070312
         ],
         "showlegend": false,
         "type": "candlestick",
         "x": [
          "2024-01-03"
         ]
        },
        {
         "close": [
          181.91000366210938
         ],
         "decreasing": {
          "fillcolor": "red",
          "line": {
           "color": "red"
          }
         },
         "high": [
          183.08999633789062
         ],
         "increasing": {
          "fillcolor": "red",
          "line": {
           "color": "red"
          }
         },
         "legendgroup": "Hollow Candlesticks",
         "low": [
          180.8800048828125
         ],
         "name": "Open > Close < Prev Close",
         "open": [
          182.14999389648438
         ],
         "showlegend": false,
         "type": "candlestick",
         "x": [
          "2024-01-04"
         ]
        },
        {
         "close": [
          181.17999267578125
         ],
         "decreasing": {
          "fillcolor": "red",
          "line": {
           "color": "red"
          }
         },
         "high": [
          182.75999450683594
         ],
         "increasing": {
          "fillcolor": "red",
          "line": {
           "color": "red"
          }
         },
         "legendgroup": "Hollow Candlesticks",
         "low": [
          180.1699981689453
         ],
         "name": "Open > Close < Prev Close",
         "open": [
          181.99000549316406
         ],
         "showlegend": false,
         "type": "candlestick",
         "x": [
          "2024-01-05"
         ]
        },
        {
         "close": [
          185.55999755859375
         ],
         "decreasing": {
          "fillcolor": "rgba(255, 0, 0, 0)",
          "line": {
           "color": "green"
          }
         },
         "high": [
          185.60000610351562
         ],
         "increasing": {
          "fillcolor": "rgba(255, 0, 0, 0)",
          "line": {
           "color": "green"
          }
         },
         "legendgroup": "Hollow Candlesticks",
         "low": [
          181.5
         ],
         "name": "Prev Close < Close > Open",
         "open": [
          182.08999633789062
         ],
         "showlegend": false,
         "type": "candlestick",
         "x": [
          "2024-01-08"
         ]
        },
        {
         "close": [
          185.13999938964844
         ],
         "decreasing": {
          "fillcolor": "rgba(255, 0, 0, 0)",
          "line": {
           "color": "red"
          }
         },
         "high": [
          185.14999389648438
         ],
         "increasing": {
          "fillcolor": "rgba(255, 0, 0, 0)",
          "line": {
           "color": "red"
          }
         },
         "legendgroup": "Hollow Candlesticks",
         "low": [
          182.72999572753906
         ],
         "name": "Prev Close > Close > Open",
         "open": [
          183.9199981689453
         ],
         "showlegend": false,
         "type": "candlestick",
         "x": [
          "2024-01-09"
         ]
        },
        {
         "close": [
          186.19000244140625
         ],
         "decreasing": {
          "fillcolor": "rgba(255, 0, 0, 0)",
          "line": {
           "color": "green"
          }
         },
         "high": [
          186.39999389648438
         ],
         "increasing": {
          "fillcolor": "rgba(255, 0, 0, 0)",
          "line": {
           "color": "green"
          }
         },
         "legendgroup": "Hollow Candlesticks",
         "low": [
          183.9199981689453
         ],
         "name": "Prev Close < Close > Open",
         "open": [
          184.35000610351562
         ],
         "showlegend": false,
         "type": "candlestick",
         "x": [
          "2024-01-10"
         ]
        },
        {
         "close": [
          185.58999633789062
         ],
         "decreasing": {
          "fillcolor": "red",
          "line": {
           "color": "red"
          }
         },
         "high": [
          187.0500030517578
         ],
         "increasing": {
          "fillcolor": "red",
          "line": {
           "color": "red"
          }
         },
         "legendgroup": "Hollow Candlesticks",
         "low": [
          183.6199951171875
         ],
         "name": "Open > Close < Prev Close",
         "open": [
          186.5399932861328
         ],
         "showlegend": false,
         "type": "candlestick",
         "x": [
          "2024-01-11"
         ]
        },
        {
         "close": [
          185.9199981689453
         ],
         "decreasing": {
          "fillcolor": "green",
          "line": {
           "color": "green"
          }
         },
         "high": [
          186.74000549316406
         ],
         "increasing": {
          "fillcolor": "green",
          "line": {
           "color": "green"
          }
         },
         "legendgroup": "Hollow Candlesticks",
         "low": [
          185.19000244140625
         ],
         "name": "Open > Close > Prev Close",
         "open": [
          186.05999755859375
         ],
         "showlegend": false,
         "type": "candlestick",
         "x": [
          "2024-01-12"
         ]
        },
        {
         "close": [
          183.6300048828125
         ],
         "decreasing": {
          "fillcolor": "rgba(255, 0, 0, 0)",
          "line": {
           "color": "red"
          }
         },
         "high": [
          184.25999450683594
         ],
         "increasing": {
          "fillcolor": "rgba(255, 0, 0, 0)",
          "line": {
           "color": "red"
          }
         },
         "legendgroup": "Hollow Candlesticks",
         "low": [
          180.92999267578125
         ],
         "name": "Prev Close > Close > Open",
         "open": [
          182.16000366210938
         ],
         "showlegend": false,
         "type": "candlestick",
         "x": [
          "2024-01-16"
         ]
        },
        {
         "close": [
          182.67999267578125
         ],
         "decreasing": {
          "fillcolor": "rgba(255, 0, 0, 0)",
          "line": {
           "color": "red"
          }
         },
         "high": [
          182.92999267578125
         ],
         "increasing": {
          "fillcolor": "rgba(255, 0, 0, 0)",
          "line": {
           "color": "red"
          }
         },
         "legendgroup": "Hollow Candlesticks",
         "low": [
          180.3000030517578
         ],
         "name": "Prev Close > Close > Open",
         "open": [
          181.27000427246094
         ],
         "showlegend": false,
         "type": "candlestick",
         "x": [
          "2024-01-17"
         ]
        },
        {
         "close": [
          188.6300048828125
         ],
         "decreasing": {
          "fillcolor": "rgba(255, 0, 0, 0)",
          "line": {
           "color": "green"
          }
         },
         "high": [
          189.13999938964844
         ],
         "increasing": {
          "fillcolor": "rgba(255, 0, 0, 0)",
          "line": {
           "color": "green"
          }
         },
         "legendgroup": "Hollow Candlesticks",
         "low": [
          185.8300018310547
         ],
         "name": "Prev Close < Close > Open",
         "open": [
          186.08999633789062
         ],
         "showlegend": false,
         "type": "candlestick",
         "x": [
          "2024-01-18"
         ]
        },
        {
         "close": [
          191.55999755859375
         ],
         "decreasing": {
          "fillcolor": "rgba(255, 0, 0, 0)",
          "line": {
           "color": "green"
          }
         },
         "high": [
          191.9499969482422
         ],
         "increasing": {
          "fillcolor": "rgba(255, 0, 0, 0)",
          "line": {
           "color": "green"
          }
         },
         "legendgroup": "Hollow Candlesticks",
         "low": [
          188.82000732421875
         ],
         "name": "Prev Close < Close > Open",
         "open": [
          189.3300018310547
         ],
         "showlegend": false,
         "type": "candlestick",
         "x": [
          "2024-01-19"
         ]
        },
        {
         "close": [
          193.88999938964844
         ],
         "decreasing": {
          "fillcolor": "rgba(255, 0, 0, 0)",
          "line": {
           "color": "green"
          }
         },
         "high": [
          195.3300018310547
         ],
         "increasing": {
          "fillcolor": "rgba(255, 0, 0, 0)",
          "line": {
           "color": "green"
          }
         },
         "legendgroup": "Hollow Candlesticks",
         "low": [
          192.25999450683594
         ],
         "name": "Prev Close < Close > Open",
         "open": [
          192.3000030517578
         ],
         "showlegend": false,
         "type": "candlestick",
         "x": [
          "2024-01-22"
         ]
        },
        {
         "close": [
          195.17999267578125
         ],
         "decreasing": {
          "fillcolor": "rgba(255, 0, 0, 0)",
          "line": {
           "color": "green"
          }
         },
         "high": [
          195.75
         ],
         "increasing": {
          "fillcolor": "rgba(255, 0, 0, 0)",
          "line": {
           "color": "green"
          }
         },
         "legendgroup": "Hollow Candlesticks",
         "low": [
          193.8300018310547
         ],
         "name": "Prev Close < Close > Open",
         "open": [
          195.02000427246094
         ],
         "showlegend": false,
         "type": "candlestick",
         "x": [
          "2024-01-23"
         ]
        },
        {
         "close": [
          194.5
         ],
         "decreasing": {
          "fillcolor": "red",
          "line": {
           "color": "red"
          }
         },
         "high": [
          196.3800048828125
         ],
         "increasing": {
          "fillcolor": "red",
          "line": {
           "color": "red"
          }
         },
         "legendgroup": "Hollow Candlesticks",
         "low": [
          194.33999633789062
         ],
         "name": "Open > Close < Prev Close",
         "open": [
          195.4199981689453
         ],
         "showlegend": false,
         "type": "candlestick",
         "x": [
          "2024-01-24"
         ]
        },
        {
         "close": [
          194.1699981689453
         ],
         "decreasing": {
          "fillcolor": "red",
          "line": {
           "color": "red"
          }
         },
         "high": [
          196.27000427246094
         ],
         "increasing": {
          "fillcolor": "red",
          "line": {
           "color": "red"
          }
         },
         "legendgroup": "Hollow Candlesticks",
         "low": [
          193.11000061035156
         ],
         "name": "Open > Close < Prev Close",
         "open": [
          195.22000122070312
         ],
         "showlegend": false,
         "type": "candlestick",
         "x": [
          "2024-01-25"
         ]
        },
        {
         "close": [
          192.4199981689453
         ],
         "decreasing": {
          "fillcolor": "red",
          "line": {
           "color": "red"
          }
         },
         "high": [
          194.75999450683594
         ],
         "increasing": {
          "fillcolor": "red",
          "line": {
           "color": "red"
          }
         },
         "legendgroup": "Hollow Candlesticks",
         "low": [
          191.94000244140625
         ],
         "name": "Open > Close < Prev Close",
         "open": [
          194.27000427246094
         ],
         "showlegend": false,
         "type": "candlestick",
         "x": [
          "2024-01-26"
         ]
        },
        {
         "close": [
          191.72999572753906
         ],
         "decreasing": {
          "fillcolor": "red",
          "line": {
           "color": "red"
          }
         },
         "high": [
          192.1999969482422
         ],
         "increasing": {
          "fillcolor": "red",
          "line": {
           "color": "red"
          }
         },
         "legendgroup": "Hollow Candlesticks",
         "low": [
          189.5800018310547
         ],
         "name": "Open > Close < Prev Close",
         "open": [
          192.00999450683594
         ],
         "showlegend": false,
         "type": "candlestick",
         "x": [
          "2024-01-29"
         ]
        },
        {
         "close": [
          188.0399932861328
         ],
         "decreasing": {
          "fillcolor": "red",
          "line": {
           "color": "red"
          }
         },
         "high": [
          191.8000030517578
         ],
         "increasing": {
          "fillcolor": "red",
          "line": {
           "color": "red"
          }
         },
         "legendgroup": "Hollow Candlesticks",
         "low": [
          187.47000122070312
         ],
         "name": "Open > Close < Prev Close",
         "open": [
          190.94000244140625
         ],
         "showlegend": false,
         "type": "candlestick",
         "x": [
          "2024-01-30"
         ]
        },
        {
         "close": [
          184.39999389648438
         ],
         "decreasing": {
          "fillcolor": "red",
          "line": {
           "color": "red"
          }
         },
         "high": [
          187.10000610351562
         ],
         "increasing": {
          "fillcolor": "red",
          "line": {
           "color": "red"
          }
         },
         "legendgroup": "Hollow Candlesticks",
         "low": [
          184.35000610351562
         ],
         "name": "Open > Close < Prev Close",
         "open": [
          187.0399932861328
         ],
         "showlegend": false,
         "type": "candlestick",
         "x": [
          "2024-01-31"
         ]
        },
        {
         "close": [
          186.86000061035156
         ],
         "decreasing": {
          "fillcolor": "rgba(255, 0, 0, 0)",
          "line": {
           "color": "green"
          }
         },
         "high": [
          186.9499969482422
         ],
         "increasing": {
          "fillcolor": "rgba(255, 0, 0, 0)",
          "line": {
           "color": "green"
          }
         },
         "legendgroup": "Hollow Candlesticks",
         "low": [
          183.82000732421875
         ],
         "name": "Prev Close < Close > Open",
         "open": [
          183.99000549316406
         ],
         "showlegend": false,
         "type": "candlestick",
         "x": [
          "2024-02-01"
         ]
        },
        {
         "close": [
          185.85000610351562
         ],
         "decreasing": {
          "fillcolor": "rgba(255, 0, 0, 0)",
          "line": {
           "color": "red"
          }
         },
         "high": [
          187.3300018310547
         ],
         "increasing": {
          "fillcolor": "rgba(255, 0, 0, 0)",
          "line": {
           "color": "red"
          }
         },
         "legendgroup": "Hollow Candlesticks",
         "low": [
          179.25
         ],
         "name": "Prev Close > Close > Open",
         "open": [
          179.86000061035156
         ],
         "showlegend": false,
         "type": "candlestick",
         "x": [
          "2024-02-02"
         ]
        },
        {
         "close": [
          187.67999267578125
         ],
         "decreasing": {
          "fillcolor": "green",
          "line": {
           "color": "green"
          }
         },
         "high": [
          189.25
         ],
         "increasing": {
          "fillcolor": "green",
          "line": {
           "color": "green"
          }
         },
         "legendgroup": "Hollow Candlesticks",
         "low": [
          185.83999633789062
         ],
         "name": "Open > Close > Prev Close",
         "open": [
          188.14999389648438
         ],
         "showlegend": false,
         "type": "candlestick",
         "x": [
          "2024-02-05"
         ]
        },
        {
         "close": [
          189.3000030517578
         ],
         "decreasing": {
          "fillcolor": "rgba(255, 0, 0, 0)",
          "line": {
           "color": "green"
          }
         },
         "high": [
          189.30999755859375
         ],
         "increasing": {
          "fillcolor": "rgba(255, 0, 0, 0)",
          "line": {
           "color": "green"
          }
         },
         "legendgroup": "Hollow Candlesticks",
         "low": [
          186.77000427246094
         ],
         "name": "Prev Close < Close > Open",
         "open": [
          186.86000061035156
         ],
         "showlegend": false,
         "type": "candlestick",
         "x": [
          "2024-02-06"
         ]
        },
        {
         "close": [
          189.41000366210938
         ],
         "decreasing": {
          "fillcolor": "green",
          "line": {
           "color": "green"
          }
         },
         "high": [
          191.0500030517578
         ],
         "increasing": {
          "fillcolor": "green",
          "line": {
           "color": "green"
          }
         },
         "legendgroup": "Hollow Candlesticks",
         "low": [
          188.61000061035156
         ],
         "name": "Open > Close > Prev Close",
         "open": [
          190.63999938964844
         ],
         "showlegend": false,
         "type": "candlestick",
         "x": [
          "2024-02-07"
         ]
        },
        {
         "close": [
          188.32000732421875
         ],
         "decreasing": {
          "fillcolor": "red",
          "line": {
           "color": "red"
          }
         },
         "high": [
          189.5399932861328
         ],
         "increasing": {
          "fillcolor": "red",
          "line": {
           "color": "red"
          }
         },
         "legendgroup": "Hollow Candlesticks",
         "low": [
          187.35000610351562
         ],
         "name": "Open > Close < Prev Close",
         "open": [
          189.38999938964844
         ],
         "showlegend": false,
         "type": "candlestick",
         "x": [
          "2024-02-08"
         ]
        },
        {
         "close": [
          188.85000610351562
         ],
         "decreasing": {
          "fillcolor": "rgba(255, 0, 0, 0)",
          "line": {
           "color": "green"
          }
         },
         "high": [
          189.99000549316406
         ],
         "increasing": {
          "fillcolor": "rgba(255, 0, 0, 0)",
          "line": {
           "color": "green"
          }
         },
         "legendgroup": "Hollow Candlesticks",
         "low": [
          188
         ],
         "name": "Prev Close < Close > Open",
         "open": [
          188.64999389648438
         ],
         "showlegend": false,
         "type": "candlestick",
         "x": [
          "2024-02-09"
         ]
        },
        {
         "close": [
          187.14999389648438
         ],
         "decreasing": {
          "fillcolor": "red",
          "line": {
           "color": "red"
          }
         },
         "high": [
          188.6699981689453
         ],
         "increasing": {
          "fillcolor": "red",
          "line": {
           "color": "red"
          }
         },
         "legendgroup": "Hollow Candlesticks",
         "low": [
          186.7899932861328
         ],
         "name": "Open > Close < Prev Close",
         "open": [
          188.4199981689453
         ],
         "showlegend": false,
         "type": "candlestick",
         "x": [
          "2024-02-12"
         ]
        },
        {
         "close": [
          185.0399932861328
         ],
         "decreasing": {
          "fillcolor": "red",
          "line": {
           "color": "red"
          }
         },
         "high": [
          186.2100067138672
         ],
         "increasing": {
          "fillcolor": "red",
          "line": {
           "color": "red"
          }
         },
         "legendgroup": "Hollow Candlesticks",
         "low": [
          183.50999450683594
         ],
         "name": "Open > Close < Prev Close",
         "open": [
          185.77000427246094
         ],
         "showlegend": false,
         "type": "candlestick",
         "x": [
          "2024-02-13"
         ]
        },
        {
         "close": [
          184.14999389648438
         ],
         "decreasing": {
          "fillcolor": "red",
          "line": {
           "color": "red"
          }
         },
         "high": [
          185.52999877929688
         ],
         "increasing": {
          "fillcolor": "red",
          "line": {
           "color": "red"
          }
         },
         "legendgroup": "Hollow Candlesticks",
         "low": [
          182.44000244140625
         ],
         "name": "Open > Close < Prev Close",
         "open": [
          185.32000732421875
         ],
         "showlegend": false,
         "type": "candlestick",
         "x": [
          "2024-02-14"
         ]
        },
        {
         "close": [
          183.86000061035156
         ],
         "decreasing": {
          "fillcolor": "rgba(255, 0, 0, 0)",
          "line": {
           "color": "red"
          }
         },
         "high": [
          184.49000549316406
         ],
         "increasing": {
          "fillcolor": "rgba(255, 0, 0, 0)",
          "line": {
           "color": "red"
          }
         },
         "legendgroup": "Hollow Candlesticks",
         "low": [
          181.35000610351562
         ],
         "name": "Prev Close > Close > Open",
         "open": [
          183.5500030517578
         ],
         "showlegend": false,
         "type": "candlestick",
         "x": [
          "2024-02-15"
         ]
        },
        {
         "close": [
          182.30999755859375
         ],
         "decreasing": {
          "fillcolor": "red",
          "line": {
           "color": "red"
          }
         },
         "high": [
          184.85000610351562
         ],
         "increasing": {
          "fillcolor": "red",
          "line": {
           "color": "red"
          }
         },
         "legendgroup": "Hollow Candlesticks",
         "low": [
          181.6699981689453
         ],
         "name": "Open > Close < Prev Close",
         "open": [
          183.4199981689453
         ],
         "showlegend": false,
         "type": "candlestick",
         "x": [
          "2024-02-16"
         ]
        },
        {
         "close": [
          181.55999755859375
         ],
         "decreasing": {
          "fillcolor": "red",
          "line": {
           "color": "red"
          }
         },
         "high": [
          182.42999267578125
         ],
         "increasing": {
          "fillcolor": "red",
          "line": {
           "color": "red"
          }
         },
         "legendgroup": "Hollow Candlesticks",
         "low": [
          180
         ],
         "name": "Open > Close < Prev Close",
         "open": [
          181.7899932861328
         ],
         "showlegend": false,
         "type": "candlestick",
         "x": [
          "2024-02-20"
         ]
        },
        {
         "close": [
          182.32000732421875
         ],
         "decreasing": {
          "fillcolor": "rgba(255, 0, 0, 0)",
          "line": {
           "color": "green"
          }
         },
         "high": [
          182.88999938964844
         ],
         "increasing": {
          "fillcolor": "rgba(255, 0, 0, 0)",
          "line": {
           "color": "green"
          }
         },
         "legendgroup": "Hollow Candlesticks",
         "low": [
          180.66000366210938
         ],
         "name": "Prev Close < Close > Open",
         "open": [
          181.94000244140625
         ],
         "showlegend": false,
         "type": "candlestick",
         "x": [
          "2024-02-21"
         ]
        },
        {
         "close": [
          184.3699951171875
         ],
         "decreasing": {
          "fillcolor": "rgba(255, 0, 0, 0)",
          "line": {
           "color": "green"
          }
         },
         "high": [
          184.9600067138672
         ],
         "increasing": {
          "fillcolor": "rgba(255, 0, 0, 0)",
          "line": {
           "color": "green"
          }
         },
         "legendgroup": "Hollow Candlesticks",
         "low": [
          182.4600067138672
         ],
         "name": "Prev Close < Close > Open",
         "open": [
          183.47999572753906
         ],
         "showlegend": false,
         "type": "candlestick",
         "x": [
          "2024-02-22"
         ]
        },
        {
         "close": [
          182.52000427246094
         ],
         "decreasing": {
          "fillcolor": "red",
          "line": {
           "color": "red"
          }
         },
         "high": [
          185.0399932861328
         ],
         "increasing": {
          "fillcolor": "red",
          "line": {
           "color": "red"
          }
         },
         "legendgroup": "Hollow Candlesticks",
         "low": [
          182.22999572753906
         ],
         "name": "Open > Close < Prev Close",
         "open": [
          185.00999450683594
         ],
         "showlegend": false,
         "type": "candlestick",
         "x": [
          "2024-02-23"
         ]
        },
        {
         "close": [
          181.16000366210938
         ],
         "decreasing": {
          "fillcolor": "red",
          "line": {
           "color": "red"
          }
         },
         "high": [
          182.75999450683594
         ],
         "increasing": {
          "fillcolor": "red",
          "line": {
           "color": "red"
          }
         },
         "legendgroup": "Hollow Candlesticks",
         "low": [
          180.64999389648438
         ],
         "name": "Open > Close < Prev Close",
         "open": [
          182.24000549316406
         ],
         "showlegend": false,
         "type": "candlestick",
         "x": [
          "2024-02-26"
         ]
        },
        {
         "close": [
          182.6300048828125
         ],
         "decreasing": {
          "fillcolor": "rgba(255, 0, 0, 0)",
          "line": {
           "color": "green"
          }
         },
         "high": [
          183.9199981689453
         ],
         "increasing": {
          "fillcolor": "rgba(255, 0, 0, 0)",
          "line": {
           "color": "green"
          }
         },
         "legendgroup": "Hollow Candlesticks",
         "low": [
          179.55999755859375
         ],
         "name": "Prev Close < Close > Open",
         "open": [
          181.10000610351562
         ],
         "showlegend": false,
         "type": "candlestick",
         "x": [
          "2024-02-27"
         ]
        },
        {
         "close": [
          181.4199981689453
         ],
         "decreasing": {
          "fillcolor": "red",
          "line": {
           "color": "red"
          }
         },
         "high": [
          183.1199951171875
         ],
         "increasing": {
          "fillcolor": "red",
          "line": {
           "color": "red"
          }
         },
         "legendgroup": "Hollow Candlesticks",
         "low": [
          180.1300048828125
         ],
         "name": "Open > Close < Prev Close",
         "open": [
          182.50999450683594
         ],
         "showlegend": false,
         "type": "candlestick",
         "x": [
          "2024-02-28"
         ]
        },
        {
         "close": [
          180.75
         ],
         "decreasing": {
          "fillcolor": "red",
          "line": {
           "color": "red"
          }
         },
         "high": [
          182.57000732421875
         ],
         "increasing": {
          "fillcolor": "red",
          "line": {
           "color": "red"
          }
         },
         "legendgroup": "Hollow Candlesticks",
         "low": [
          179.52999877929688
         ],
         "name": "Open > Close < Prev Close",
         "open": [
          181.27000427246094
         ],
         "showlegend": false,
         "type": "candlestick",
         "x": [
          "2024-02-29"
         ]
        },
        {
         "close": [
          179.66000366210938
         ],
         "decreasing": {
          "fillcolor": "rgba(255, 0, 0, 0)",
          "line": {
           "color": "red"
          }
         },
         "high": [
          180.52999877929688
         ],
         "increasing": {
          "fillcolor": "rgba(255, 0, 0, 0)",
          "line": {
           "color": "red"
          }
         },
         "legendgroup": "Hollow Candlesticks",
         "low": [
          177.3800048828125
         ],
         "name": "Prev Close > Close > Open",
         "open": [
          179.5500030517578
         ],
         "showlegend": false,
         "type": "candlestick",
         "x": [
          "2024-03-01"
         ]
        },
        {
         "close": [
          175.10000610351562
         ],
         "decreasing": {
          "fillcolor": "red",
          "line": {
           "color": "red"
          }
         },
         "high": [
          176.89999389648438
         ],
         "increasing": {
          "fillcolor": "red",
          "line": {
           "color": "red"
          }
         },
         "legendgroup": "Hollow Candlesticks",
         "low": [
          173.7899932861328
         ],
         "name": "Open > Close < Prev Close",
         "open": [
          176.14999389648438
         ],
         "showlegend": false,
         "type": "candlestick",
         "x": [
          "2024-03-04"
         ]
        },
        {
         "close": [
          170.1199951171875
         ],
         "decreasing": {
          "fillcolor": "red",
          "line": {
           "color": "red"
          }
         },
         "high": [
          172.0399932861328
         ],
         "increasing": {
          "fillcolor": "red",
          "line": {
           "color": "red"
          }
         },
         "legendgroup": "Hollow Candlesticks",
         "low": [
          169.6199951171875
         ],
         "name": "Open > Close < Prev Close",
         "open": [
          170.75999450683594
         ],
         "showlegend": false,
         "type": "candlestick",
         "x": [
          "2024-03-05"
         ]
        },
        {
         "close": [
          169.1199951171875
         ],
         "decreasing": {
          "fillcolor": "red",
          "line": {
           "color": "red"
          }
         },
         "high": [
          171.24000549316406
         ],
         "increasing": {
          "fillcolor": "red",
          "line": {
           "color": "red"
          }
         },
         "legendgroup": "Hollow Candlesticks",
         "low": [
          168.67999267578125
         ],
         "name": "Open > Close < Prev Close",
         "open": [
          171.05999755859375
         ],
         "showlegend": false,
         "type": "candlestick",
         "x": [
          "2024-03-06"
         ]
        },
        {
         "close": [
          169
         ],
         "decreasing": {
          "fillcolor": "red",
          "line": {
           "color": "red"
          }
         },
         "high": [
          170.72999572753906
         ],
         "increasing": {
          "fillcolor": "red",
          "line": {
           "color": "red"
          }
         },
         "legendgroup": "Hollow Candlesticks",
         "low": [
          168.49000549316406
         ],
         "name": "Open > Close < Prev Close",
         "open": [
          169.14999389648438
         ],
         "showlegend": false,
         "type": "candlestick",
         "x": [
          "2024-03-07"
         ]
        },
        {
         "close": [
          170.72999572753906
         ],
         "decreasing": {
          "fillcolor": "rgba(255, 0, 0, 0)",
          "line": {
           "color": "green"
          }
         },
         "high": [
          173.6999969482422
         ],
         "increasing": {
          "fillcolor": "rgba(255, 0, 0, 0)",
          "line": {
           "color": "green"
          }
         },
         "legendgroup": "Hollow Candlesticks",
         "low": [
          168.94000244140625
         ],
         "name": "Prev Close < Close > Open",
         "open": [
          169
         ],
         "showlegend": false,
         "type": "candlestick",
         "x": [
          "2024-03-08"
         ]
        },
        {
         "close": [
          172.75
         ],
         "decreasing": {
          "fillcolor": "green",
          "line": {
           "color": "green"
          }
         },
         "high": [
          174.3800048828125
         ],
         "increasing": {
          "fillcolor": "green",
          "line": {
           "color": "green"
          }
         },
         "legendgroup": "Hollow Candlesticks",
         "low": [
          172.0500030517578
         ],
         "name": "Open > Close > Prev Close",
         "open": [
          172.94000244140625
         ],
         "showlegend": false,
         "type": "candlestick",
         "x": [
          "2024-03-11"
         ]
        },
        {
         "close": [
          173.22999572753906
         ],
         "decreasing": {
          "fillcolor": "rgba(255, 0, 0, 0)",
          "line": {
           "color": "green"
          }
         },
         "high": [
          174.02999877929688
         ],
         "increasing": {
          "fillcolor": "rgba(255, 0, 0, 0)",
          "line": {
           "color": "green"
          }
         },
         "legendgroup": "Hollow Candlesticks",
         "low": [
          171.00999450683594
         ],
         "name": "Prev Close < Close > Open",
         "open": [
          173.14999389648438
         ],
         "showlegend": false,
         "type": "candlestick",
         "x": [
          "2024-03-12"
         ]
        },
        {
         "close": [
          171.1300048828125
         ],
         "decreasing": {
          "fillcolor": "red",
          "line": {
           "color": "red"
          }
         },
         "high": [
          173.19000244140625
         ],
         "increasing": {
          "fillcolor": "red",
          "line": {
           "color": "red"
          }
         },
         "legendgroup": "Hollow Candlesticks",
         "low": [
          170.75999450683594
         ],
         "name": "Open > Close < Prev Close",
         "open": [
          172.77000427246094
         ],
         "showlegend": false,
         "type": "candlestick",
         "x": [
          "2024-03-13"
         ]
        },
        {
         "close": [
          173
         ],
         "decreasing": {
          "fillcolor": "rgba(255, 0, 0, 0)",
          "line": {
           "color": "green"
          }
         },
         "high": [
          174.30999755859375
         ],
         "increasing": {
          "fillcolor": "rgba(255, 0, 0, 0)",
          "line": {
           "color": "green"
          }
         },
         "legendgroup": "Hollow Candlesticks",
         "low": [
          172.0500030517578
         ],
         "name": "Prev Close < Close > Open",
         "open": [
          172.91000366210938
         ],
         "showlegend": false,
         "type": "candlestick",
         "x": [
          "2024-03-14"
         ]
        },
        {
         "close": [
          172.6199951171875
         ],
         "decreasing": {
          "fillcolor": "rgba(255, 0, 0, 0)",
          "line": {
           "color": "red"
          }
         },
         "high": [
          172.6199951171875
         ],
         "increasing": {
          "fillcolor": "rgba(255, 0, 0, 0)",
          "line": {
           "color": "red"
          }
         },
         "legendgroup": "Hollow Candlesticks",
         "low": [
          170.2899932861328
         ],
         "name": "Prev Close > Close > Open",
         "open": [
          171.1699981689453
         ],
         "showlegend": false,
         "type": "candlestick",
         "x": [
          "2024-03-15"
         ]
        },
        {
         "close": [
          173.72000122070312
         ],
         "decreasing": {
          "fillcolor": "green",
          "line": {
           "color": "green"
          }
         },
         "high": [
          177.7100067138672
         ],
         "increasing": {
          "fillcolor": "green",
          "line": {
           "color": "green"
          }
         },
         "legendgroup": "Hollow Candlesticks",
         "low": [
          173.52000427246094
         ],
         "name": "Open > Close > Prev Close",
         "open": [
          175.57000732421875
         ],
         "showlegend": false,
         "type": "candlestick",
         "x": [
          "2024-03-18"
         ]
        },
        {
         "close": [
          176.0800018310547
         ],
         "decreasing": {
          "fillcolor": "rgba(255, 0, 0, 0)",
          "line": {
           "color": "green"
          }
         },
         "high": [
          176.61000061035156
         ],
         "increasing": {
          "fillcolor": "rgba(255, 0, 0, 0)",
          "line": {
           "color": "green"
          }
         },
         "legendgroup": "Hollow Candlesticks",
         "low": [
          173.02999877929688
         ],
         "name": "Prev Close < Close > Open",
         "open": [
          174.33999633789062
         ],
         "showlegend": false,
         "type": "candlestick",
         "x": [
          "2024-03-19"
         ]
        },
        {
         "close": [
          178.6699981689453
         ],
         "decreasing": {
          "fillcolor": "rgba(255, 0, 0, 0)",
          "line": {
           "color": "green"
          }
         },
         "high": [
          178.6699981689453
         ],
         "increasing": {
          "fillcolor": "rgba(255, 0, 0, 0)",
          "line": {
           "color": "green"
          }
         },
         "legendgroup": "Hollow Candlesticks",
         "low": [
          175.08999633789062
         ],
         "name": "Prev Close < Close > Open",
         "open": [
          175.72000122070312
         ],
         "showlegend": false,
         "type": "candlestick",
         "x": [
          "2024-03-20"
         ]
        },
        {
         "close": [
          171.3699951171875
         ],
         "decreasing": {
          "fillcolor": "red",
          "line": {
           "color": "red"
          }
         },
         "high": [
          177.49000549316406
         ],
         "increasing": {
          "fillcolor": "red",
          "line": {
           "color": "red"
          }
         },
         "legendgroup": "Hollow Candlesticks",
         "low": [
          170.83999633789062
         ],
         "name": "Open > Close < Prev Close",
         "open": [
          177.0500030517578
         ],
         "showlegend": false,
         "type": "candlestick",
         "x": [
          "2024-03-21"
         ]
        },
        {
         "close": [
          172.27999877929688
         ],
         "decreasing": {
          "fillcolor": "rgba(255, 0, 0, 0)",
          "line": {
           "color": "green"
          }
         },
         "high": [
          173.0500030517578
         ],
         "increasing": {
          "fillcolor": "rgba(255, 0, 0, 0)",
          "line": {
           "color": "green"
          }
         },
         "legendgroup": "Hollow Candlesticks",
         "low": [
          170.05999755859375
         ],
         "name": "Prev Close < Close > Open",
         "open": [
          171.75999450683594
         ],
         "showlegend": false,
         "type": "candlestick",
         "x": [
          "2024-03-22"
         ]
        },
        {
         "close": [
          170.85000610351562
         ],
         "decreasing": {
          "fillcolor": "rgba(255, 0, 0, 0)",
          "line": {
           "color": "red"
          }
         },
         "high": [
          171.94000244140625
         ],
         "increasing": {
          "fillcolor": "rgba(255, 0, 0, 0)",
          "line": {
           "color": "red"
          }
         },
         "legendgroup": "Hollow Candlesticks",
         "low": [
          169.4499969482422
         ],
         "name": "Prev Close > Close > Open",
         "open": [
          170.57000732421875
         ],
         "showlegend": false,
         "type": "candlestick",
         "x": [
          "2024-03-25"
         ]
        },
        {
         "close": [
          169.7100067138672
         ],
         "decreasing": {
          "fillcolor": "red",
          "line": {
           "color": "red"
          }
         },
         "high": [
          171.4199981689453
         ],
         "increasing": {
          "fillcolor": "red",
          "line": {
           "color": "red"
          }
         },
         "legendgroup": "Hollow Candlesticks",
         "low": [
          169.5800018310547
         ],
         "name": "Open > Close < Prev Close",
         "open": [
          170
         ],
         "showlegend": false,
         "type": "candlestick",
         "x": [
          "2024-03-26"
         ]
        },
        {
         "close": [
          173.30999755859375
         ],
         "decreasing": {
          "fillcolor": "rgba(255, 0, 0, 0)",
          "line": {
           "color": "green"
          }
         },
         "high": [
          173.60000610351562
         ],
         "increasing": {
          "fillcolor": "rgba(255, 0, 0, 0)",
          "line": {
           "color": "green"
          }
         },
         "legendgroup": "Hollow Candlesticks",
         "low": [
          170.11000061035156
         ],
         "name": "Prev Close < Close > Open",
         "open": [
          170.41000366210938
         ],
         "showlegend": false,
         "type": "candlestick",
         "x": [
          "2024-03-27"
         ]
        },
        {
         "close": [
          171.47999572753906
         ],
         "decreasing": {
          "fillcolor": "red",
          "line": {
           "color": "red"
          }
         },
         "high": [
          172.22999572753906
         ],
         "increasing": {
          "fillcolor": "red",
          "line": {
           "color": "red"
          }
         },
         "legendgroup": "Hollow Candlesticks",
         "low": [
          170.50999450683594
         ],
         "name": "Open > Close < Prev Close",
         "open": [
          171.75
         ],
         "showlegend": false,
         "type": "candlestick",
         "x": [
          "2024-03-28"
         ]
        },
        {
         "close": [
          170.02999877929688
         ],
         "decreasing": {
          "fillcolor": "red",
          "line": {
           "color": "red"
          }
         },
         "high": [
          171.25
         ],
         "increasing": {
          "fillcolor": "red",
          "line": {
           "color": "red"
          }
         },
         "legendgroup": "Hollow Candlesticks",
         "low": [
          169.47999572753906
         ],
         "name": "Open > Close < Prev Close",
         "open": [
          171.19000244140625
         ],
         "showlegend": false,
         "type": "candlestick",
         "x": [
          "2024-04-01"
         ]
        },
        {
         "close": [
          168.83999633789062
         ],
         "decreasing": {
          "fillcolor": "red",
          "line": {
           "color": "red"
          }
         },
         "high": [
          169.33999633789062
         ],
         "increasing": {
          "fillcolor": "red",
          "line": {
           "color": "red"
          }
         },
         "legendgroup": "Hollow Candlesticks",
         "low": [
          168.22999572753906
         ],
         "name": "Open > Close < Prev Close",
         "open": [
          169.0800018310547
         ],
         "showlegend": false,
         "type": "candlestick",
         "x": [
          "2024-04-02"
         ]
        },
        {
         "close": [
          169.64999389648438
         ],
         "decreasing": {
          "fillcolor": "rgba(255, 0, 0, 0)",
          "line": {
           "color": "green"
          }
         },
         "high": [
          170.67999267578125
         ],
         "increasing": {
          "fillcolor": "rgba(255, 0, 0, 0)",
          "line": {
           "color": "green"
          }
         },
         "legendgroup": "Hollow Candlesticks",
         "low": [
          168.5800018310547
         ],
         "name": "Prev Close < Close > Open",
         "open": [
          168.7899932861328
         ],
         "showlegend": false,
         "type": "candlestick",
         "x": [
          "2024-04-03"
         ]
        },
        {
         "close": [
          168.82000732421875
         ],
         "decreasing": {
          "fillcolor": "red",
          "line": {
           "color": "red"
          }
         },
         "high": [
          171.9199981689453
         ],
         "increasing": {
          "fillcolor": "red",
          "line": {
           "color": "red"
          }
         },
         "legendgroup": "Hollow Candlesticks",
         "low": [
          168.82000732421875
         ],
         "name": "Open > Close < Prev Close",
         "open": [
          170.2899932861328
         ],
         "showlegend": false,
         "type": "candlestick",
         "x": [
          "2024-04-04"
         ]
        },
        {
         "close": [
          169.5800018310547
         ],
         "decreasing": {
          "fillcolor": "green",
          "line": {
           "color": "green"
          }
         },
         "high": [
          170.38999938964844
         ],
         "increasing": {
          "fillcolor": "green",
          "line": {
           "color": "green"
          }
         },
         "legendgroup": "Hollow Candlesticks",
         "low": [
          168.9499969482422
         ],
         "name": "Open > Close > Prev Close",
         "open": [
          169.58999633789062
         ],
         "showlegend": false,
         "type": "candlestick",
         "x": [
          "2024-04-05"
         ]
        },
        {
         "close": [
          168.4499969482422
         ],
         "decreasing": {
          "fillcolor": "red",
          "line": {
           "color": "red"
          }
         },
         "high": [
          169.1999969482422
         ],
         "increasing": {
          "fillcolor": "red",
          "line": {
           "color": "red"
          }
         },
         "legendgroup": "Hollow Candlesticks",
         "low": [
          168.24000549316406
         ],
         "name": "Open > Close < Prev Close",
         "open": [
          169.02999877929688
         ],
         "showlegend": false,
         "type": "candlestick",
         "x": [
          "2024-04-08"
         ]
        },
        {
         "close": [
          169.6699981689453
         ],
         "decreasing": {
          "fillcolor": "rgba(255, 0, 0, 0)",
          "line": {
           "color": "green"
          }
         },
         "high": [
          170.0800018310547
         ],
         "increasing": {
          "fillcolor": "rgba(255, 0, 0, 0)",
          "line": {
           "color": "green"
          }
         },
         "legendgroup": "Hollow Candlesticks",
         "low": [
          168.35000610351562
         ],
         "name": "Prev Close < Close > Open",
         "open": [
          168.6999969482422
         ],
         "showlegend": false,
         "type": "candlestick",
         "x": [
          "2024-04-09"
         ]
        },
        {
         "close": [
          167.77999877929688
         ],
         "decreasing": {
          "fillcolor": "red",
          "line": {
           "color": "red"
          }
         },
         "high": [
          169.08999633789062
         ],
         "increasing": {
          "fillcolor": "red",
          "line": {
           "color": "red"
          }
         },
         "legendgroup": "Hollow Candlesticks",
         "low": [
          167.11000061035156
         ],
         "name": "Open > Close < Prev Close",
         "open": [
          168.8000030517578
         ],
         "showlegend": false,
         "type": "candlestick",
         "x": [
          "2024-04-10"
         ]
        },
        {
         "close": [
          175.0399932861328
         ],
         "decreasing": {
          "fillcolor": "rgba(255, 0, 0, 0)",
          "line": {
           "color": "green"
          }
         },
         "high": [
          175.4600067138672
         ],
         "increasing": {
          "fillcolor": "rgba(255, 0, 0, 0)",
          "line": {
           "color": "green"
          }
         },
         "legendgroup": "Hollow Candlesticks",
         "low": [
          168.16000366210938
         ],
         "name": "Prev Close < Close > Open",
         "open": [
          168.33999633789062
         ],
         "showlegend": false,
         "type": "candlestick",
         "x": [
          "2024-04-11"
         ]
        },
        {
         "close": [
          176.5500030517578
         ],
         "decreasing": {
          "fillcolor": "rgba(255, 0, 0, 0)",
          "line": {
           "color": "green"
          }
         },
         "high": [
          178.36000061035156
         ],
         "increasing": {
          "fillcolor": "rgba(255, 0, 0, 0)",
          "line": {
           "color": "green"
          }
         },
         "legendgroup": "Hollow Candlesticks",
         "low": [
          174.2100067138672
         ],
         "name": "Prev Close < Close > Open",
         "open": [
          174.25999450683594
         ],
         "showlegend": false,
         "type": "candlestick",
         "x": [
          "2024-04-12"
         ]
        },
        {
         "close": [
          172.69000244140625
         ],
         "decreasing": {
          "fillcolor": "red",
          "line": {
           "color": "red"
          }
         },
         "high": [
          176.6300048828125
         ],
         "increasing": {
          "fillcolor": "red",
          "line": {
           "color": "red"
          }
         },
         "legendgroup": "Hollow Candlesticks",
         "low": [
          172.5
         ],
         "name": "Open > Close < Prev Close",
         "open": [
          175.36000061035156
         ],
         "showlegend": false,
         "type": "candlestick",
         "x": [
          "2024-04-15"
         ]
        },
        {
         "close": [
          169.3800048828125
         ],
         "decreasing": {
          "fillcolor": "red",
          "line": {
           "color": "red"
          }
         },
         "high": [
          173.75999450683594
         ],
         "increasing": {
          "fillcolor": "red",
          "line": {
           "color": "red"
          }
         },
         "legendgroup": "Hollow Candlesticks",
         "low": [
          168.27000427246094
         ],
         "name": "Open > Close < Prev Close",
         "open": [
          171.75
         ],
         "showlegend": false,
         "type": "candlestick",
         "x": [
          "2024-04-16"
         ]
        },
        {
         "close": [
          168
         ],
         "decreasing": {
          "fillcolor": "red",
          "line": {
           "color": "red"
          }
         },
         "high": [
          170.64999389648438
         ],
         "increasing": {
          "fillcolor": "red",
          "line": {
           "color": "red"
          }
         },
         "legendgroup": "Hollow Candlesticks",
         "low": [
          168
         ],
         "name": "Open > Close < Prev Close",
         "open": [
          169.61000061035156
         ],
         "showlegend": false,
         "type": "candlestick",
         "x": [
          "2024-04-17"
         ]
        },
        {
         "close": [
          167.0399932861328
         ],
         "decreasing": {
          "fillcolor": "red",
          "line": {
           "color": "red"
          }
         },
         "high": [
          168.63999938964844
         ],
         "increasing": {
          "fillcolor": "red",
          "line": {
           "color": "red"
          }
         },
         "legendgroup": "Hollow Candlesticks",
         "low": [
          166.5500030517578
         ],
         "name": "Open > Close < Prev Close",
         "open": [
          168.02999877929688
         ],
         "showlegend": false,
         "type": "candlestick",
         "x": [
          "2024-04-18"
         ]
        },
        {
         "close": [
          165
         ],
         "decreasing": {
          "fillcolor": "red",
          "line": {
           "color": "red"
          }
         },
         "high": [
          166.39999389648438
         ],
         "increasing": {
          "fillcolor": "red",
          "line": {
           "color": "red"
          }
         },
         "legendgroup": "Hollow Candlesticks",
         "low": [
          164.0800018310547
         ],
         "name": "Open > Close < Prev Close",
         "open": [
          166.2100067138672
         ],
         "showlegend": false,
         "type": "candlestick",
         "x": [
          "2024-04-19"
         ]
        },
        {
         "close": [
          165.83999633789062
         ],
         "decreasing": {
          "fillcolor": "rgba(255, 0, 0, 0)",
          "line": {
           "color": "green"
          }
         },
         "high": [
          167.25999450683594
         ],
         "increasing": {
          "fillcolor": "rgba(255, 0, 0, 0)",
          "line": {
           "color": "green"
          }
         },
         "legendgroup": "Hollow Candlesticks",
         "low": [
          164.77000427246094
         ],
         "name": "Prev Close < Close > Open",
         "open": [
          165.52000427246094
         ],
         "showlegend": false,
         "type": "candlestick",
         "x": [
          "2024-04-22"
         ]
        },
        {
         "close": [
          166.89999389648438
         ],
         "decreasing": {
          "fillcolor": "rgba(255, 0, 0, 0)",
          "line": {
           "color": "green"
          }
         },
         "high": [
          167.0500030517578
         ],
         "increasing": {
          "fillcolor": "rgba(255, 0, 0, 0)",
          "line": {
           "color": "green"
          }
         },
         "legendgroup": "Hollow Candlesticks",
         "low": [
          164.9199981689453
         ],
         "name": "Prev Close < Close > Open",
         "open": [
          165.35000610351562
         ],
         "showlegend": false,
         "type": "candlestick",
         "x": [
          "2024-04-23"
         ]
        },
        {
         "close": [
          169.02000427246094
         ],
         "decreasing": {
          "fillcolor": "rgba(255, 0, 0, 0)",
          "line": {
           "color": "green"
          }
         },
         "high": [
          169.3000030517578
         ],
         "increasing": {
          "fillcolor": "rgba(255, 0, 0, 0)",
          "line": {
           "color": "green"
          }
         },
         "legendgroup": "Hollow Candlesticks",
         "low": [
          166.2100067138672
         ],
         "name": "Prev Close < Close > Open",
         "open": [
          166.5399932861328
         ],
         "showlegend": false,
         "type": "candlestick",
         "x": [
          "2024-04-24"
         ]
        },
        {
         "close": [
          169.88999938964844
         ],
         "decreasing": {
          "fillcolor": "rgba(255, 0, 0, 0)",
          "line": {
           "color": "green"
          }
         },
         "high": [
          170.61000061035156
         ],
         "increasing": {
          "fillcolor": "rgba(255, 0, 0, 0)",
          "line": {
           "color": "green"
          }
         },
         "legendgroup": "Hollow Candlesticks",
         "low": [
          168.14999389648438
         ],
         "name": "Prev Close < Close > Open",
         "open": [
          169.52999877929688
         ],
         "showlegend": false,
         "type": "candlestick",
         "x": [
          "2024-04-25"
         ]
        },
        {
         "close": [
          169.3000030517578
         ],
         "decreasing": {
          "fillcolor": "red",
          "line": {
           "color": "red"
          }
         },
         "high": [
          171.33999633789062
         ],
         "increasing": {
          "fillcolor": "red",
          "line": {
           "color": "red"
          }
         },
         "legendgroup": "Hollow Candlesticks",
         "low": [
          169.17999267578125
         ],
         "name": "Open > Close < Prev Close",
         "open": [
          169.8800048828125
         ],
         "showlegend": false,
         "type": "candlestick",
         "x": [
          "2024-04-26"
         ]
        },
        {
         "close": [
          173.5
         ],
         "decreasing": {
          "fillcolor": "rgba(255, 0, 0, 0)",
          "line": {
           "color": "green"
          }
         },
         "high": [
          176.02999877929688
         ],
         "increasing": {
          "fillcolor": "rgba(255, 0, 0, 0)",
          "line": {
           "color": "green"
          }
         },
         "legendgroup": "Hollow Candlesticks",
         "low": [
          173.10000610351562
         ],
         "name": "Prev Close < Close > Open",
         "open": [
          173.3699951171875
         ],
         "showlegend": false,
         "type": "candlestick",
         "x": [
          "2024-04-29"
         ]
        },
        {
         "close": [
          170.3300018310547
         ],
         "decreasing": {
          "fillcolor": "red",
          "line": {
           "color": "red"
          }
         },
         "high": [
          174.99000549316406
         ],
         "increasing": {
          "fillcolor": "red",
          "line": {
           "color": "red"
          }
         },
         "legendgroup": "Hollow Candlesticks",
         "low": [
          170
         ],
         "name": "Open > Close < Prev Close",
         "open": [
          173.3300018310547
         ],
         "showlegend": false,
         "type": "candlestick",
         "x": [
          "2024-04-30"
         ]
        },
        {
         "close": [
          169.3000030517578
         ],
         "decreasing": {
          "fillcolor": "red",
          "line": {
           "color": "red"
          }
         },
         "high": [
          172.7100067138672
         ],
         "increasing": {
          "fillcolor": "red",
          "line": {
           "color": "red"
          }
         },
         "legendgroup": "Hollow Candlesticks",
         "low": [
          169.11000061035156
         ],
         "name": "Open > Close < Prev Close",
         "open": [
          169.5800018310547
         ],
         "showlegend": false,
         "type": "candlestick",
         "x": [
          "2024-05-01"
         ]
        },
        {
         "close": [
          173.02999877929688
         ],
         "decreasing": {
          "fillcolor": "rgba(255, 0, 0, 0)",
          "line": {
           "color": "green"
          }
         },
         "high": [
          173.4199981689453
         ],
         "increasing": {
          "fillcolor": "rgba(255, 0, 0, 0)",
          "line": {
           "color": "green"
          }
         },
         "legendgroup": "Hollow Candlesticks",
         "low": [
          170.88999938964844
         ],
         "name": "Prev Close < Close > Open",
         "open": [
          172.50999450683594
         ],
         "showlegend": false,
         "type": "candlestick",
         "x": [
          "2024-05-02"
         ]
        },
        {
         "close": [
          183.3800048828125
         ],
         "decreasing": {
          "fillcolor": "green",
          "line": {
           "color": "green"
          }
         },
         "high": [
          187
         ],
         "increasing": {
          "fillcolor": "green",
          "line": {
           "color": "green"
          }
         },
         "legendgroup": "Hollow Candlesticks",
         "low": [
          182.66000366210938
         ],
         "name": "Open > Close > Prev Close",
         "open": [
          186.64999389648438
         ],
         "showlegend": false,
         "type": "candlestick",
         "x": [
          "2024-05-03"
         ]
        },
        {
         "close": [
          181.7100067138672
         ],
         "decreasing": {
          "fillcolor": "red",
          "line": {
           "color": "red"
          }
         },
         "high": [
          184.1999969482422
         ],
         "increasing": {
          "fillcolor": "red",
          "line": {
           "color": "red"
          }
         },
         "legendgroup": "Hollow Candlesticks",
         "low": [
          180.4199981689453
         ],
         "name": "Open > Close < Prev Close",
         "open": [
          182.35000610351562
         ],
         "showlegend": false,
         "type": "candlestick",
         "x": [
          "2024-05-06"
         ]
        },
        {
         "close": [
          182.39999389648438
         ],
         "decreasing": {
          "fillcolor": "green",
          "line": {
           "color": "green"
          }
         },
         "high": [
          184.89999389648438
         ],
         "increasing": {
          "fillcolor": "green",
          "line": {
           "color": "green"
          }
         },
         "legendgroup": "Hollow Candlesticks",
         "low": [
          181.32000732421875
         ],
         "name": "Open > Close > Prev Close",
         "open": [
          183.4499969482422
         ],
         "showlegend": false,
         "type": "candlestick",
         "x": [
          "2024-05-07"
         ]
        },
        {
         "close": [
          182.74000549316406
         ],
         "decreasing": {
          "fillcolor": "green",
          "line": {
           "color": "green"
          }
         },
         "high": [
          183.07000732421875
         ],
         "increasing": {
          "fillcolor": "green",
          "line": {
           "color": "green"
          }
         },
         "legendgroup": "Hollow Candlesticks",
         "low": [
          181.4499969482422
         ],
         "name": "Open > Close > Prev Close",
         "open": [
          182.85000610351562
         ],
         "showlegend": false,
         "type": "candlestick",
         "x": [
          "2024-05-08"
         ]
        },
        {
         "close": [
          184.57000732421875
         ],
         "decreasing": {
          "fillcolor": "rgba(255, 0, 0, 0)",
          "line": {
           "color": "green"
          }
         },
         "high": [
          184.66000366210938
         ],
         "increasing": {
          "fillcolor": "rgba(255, 0, 0, 0)",
          "line": {
           "color": "green"
          }
         },
         "legendgroup": "Hollow Candlesticks",
         "low": [
          182.11000061035156
         ],
         "name": "Prev Close < Close > Open",
         "open": [
          182.55999755859375
         ],
         "showlegend": false,
         "type": "candlestick",
         "x": [
          "2024-05-09"
         ]
        },
        {
         "close": [
          183.0500030517578
         ],
         "decreasing": {
          "fillcolor": "red",
          "line": {
           "color": "red"
          }
         },
         "high": [
          185.08999633789062
         ],
         "increasing": {
          "fillcolor": "red",
          "line": {
           "color": "red"
          }
         },
         "legendgroup": "Hollow Candlesticks",
         "low": [
          182.1300048828125
         ],
         "name": "Open > Close < Prev Close",
         "open": [
          184.89999389648438
         ],
         "showlegend": false,
         "type": "candlestick",
         "x": [
          "2024-05-10"
         ]
        },
        {
         "close": [
          186.27999877929688
         ],
         "decreasing": {
          "fillcolor": "rgba(255, 0, 0, 0)",
          "line": {
           "color": "green"
          }
         },
         "high": [
          187.10000610351562
         ],
         "increasing": {
          "fillcolor": "rgba(255, 0, 0, 0)",
          "line": {
           "color": "green"
          }
         },
         "legendgroup": "Hollow Candlesticks",
         "low": [
          184.6199951171875
         ],
         "name": "Prev Close < Close > Open",
         "open": [
          185.44000244140625
         ],
         "showlegend": false,
         "type": "candlestick",
         "x": [
          "2024-05-13"
         ]
        },
        {
         "close": [
          187.42999267578125
         ],
         "decreasing": {
          "fillcolor": "green",
          "line": {
           "color": "green"
          }
         },
         "high": [
          188.3000030517578
         ],
         "increasing": {
          "fillcolor": "green",
          "line": {
           "color": "green"
          }
         },
         "legendgroup": "Hollow Candlesticks",
         "low": [
          186.2899932861328
         ],
         "name": "Open > Close > Prev Close",
         "open": [
          187.50999450683594
         ],
         "showlegend": false,
         "type": "candlestick",
         "x": [
          "2024-05-14"
         ]
        },
        {
         "close": [
          189.72000122070312
         ],
         "decreasing": {
          "fillcolor": "rgba(255, 0, 0, 0)",
          "line": {
           "color": "green"
          }
         },
         "high": [
          190.64999389648438
         ],
         "increasing": {
          "fillcolor": "rgba(255, 0, 0, 0)",
          "line": {
           "color": "green"
          }
         },
         "legendgroup": "Hollow Candlesticks",
         "low": [
          187.3699951171875
         ],
         "name": "Prev Close < Close > Open",
         "open": [
          187.91000366210938
         ],
         "showlegend": false,
         "type": "candlestick",
         "x": [
          "2024-05-15"
         ]
        },
        {
         "close": [
          189.83999633789062
         ],
         "decreasing": {
          "fillcolor": "green",
          "line": {
           "color": "green"
          }
         },
         "high": [
          191.10000610351562
         ],
         "increasing": {
          "fillcolor": "green",
          "line": {
           "color": "green"
          }
         },
         "legendgroup": "Hollow Candlesticks",
         "low": [
          189.66000366210938
         ],
         "name": "Open > Close > Prev Close",
         "open": [
          190.47000122070312
         ],
         "showlegend": false,
         "type": "candlestick",
         "x": [
          "2024-05-16"
         ]
        },
        {
         "close": [
          189.8699951171875
         ],
         "decreasing": {
          "fillcolor": "rgba(255, 0, 0, 0)",
          "line": {
           "color": "green"
          }
         },
         "high": [
          190.80999755859375
         ],
         "increasing": {
          "fillcolor": "rgba(255, 0, 0, 0)",
          "line": {
           "color": "green"
          }
         },
         "legendgroup": "Hollow Candlesticks",
         "low": [
          189.17999267578125
         ],
         "name": "Prev Close < Close > Open",
         "open": [
          189.50999450683594
         ],
         "showlegend": false,
         "type": "candlestick",
         "x": [
          "2024-05-17"
         ]
        },
        {
         "close": [
          191.0399932861328
         ],
         "decreasing": {
          "fillcolor": "rgba(255, 0, 0, 0)",
          "line": {
           "color": "green"
          }
         },
         "high": [
          191.9199981689453
         ],
         "increasing": {
          "fillcolor": "rgba(255, 0, 0, 0)",
          "line": {
           "color": "green"
          }
         },
         "legendgroup": "Hollow Candlesticks",
         "low": [
          189.00999450683594
         ],
         "name": "Prev Close < Close > Open",
         "open": [
          189.3300018310547
         ],
         "showlegend": false,
         "type": "candlestick",
         "x": [
          "2024-05-20"
         ]
        },
        {
         "close": [
          192.35000610351562
         ],
         "decreasing": {
          "fillcolor": "rgba(255, 0, 0, 0)",
          "line": {
           "color": "green"
          }
         },
         "high": [
          192.72999572753906
         ],
         "increasing": {
          "fillcolor": "rgba(255, 0, 0, 0)",
          "line": {
           "color": "green"
          }
         },
         "legendgroup": "Hollow Candlesticks",
         "low": [
          190.9199981689453
         ],
         "name": "Prev Close < Close > Open",
         "open": [
          191.08999633789062
         ],
         "showlegend": false,
         "type": "candlestick",
         "x": [
          "2024-05-21"
         ]
        },
        {
         "close": [
          190.89999389648438
         ],
         "decreasing": {
          "fillcolor": "red",
          "line": {
           "color": "red"
          }
         },
         "high": [
          192.82000732421875
         ],
         "increasing": {
          "fillcolor": "red",
          "line": {
           "color": "red"
          }
         },
         "legendgroup": "Hollow Candlesticks",
         "low": [
          190.27000427246094
         ],
         "name": "Open > Close < Prev Close",
         "open": [
          192.27000427246094
         ],
         "showlegend": false,
         "type": "candlestick",
         "x": [
          "2024-05-22"
         ]
        },
        {
         "close": [
          186.8800048828125
         ],
         "decreasing": {
          "fillcolor": "red",
          "line": {
           "color": "red"
          }
         },
         "high": [
          191
         ],
         "increasing": {
          "fillcolor": "red",
          "line": {
           "color": "red"
          }
         },
         "legendgroup": "Hollow Candlesticks",
         "low": [
          186.6300048828125
         ],
         "name": "Open > Close < Prev Close",
         "open": [
          190.97999572753906
         ],
         "showlegend": false,
         "type": "candlestick",
         "x": [
          "2024-05-23"
         ]
        },
        {
         "close": [
          189.97999572753906
         ],
         "decreasing": {
          "fillcolor": "rgba(255, 0, 0, 0)",
          "line": {
           "color": "green"
          }
         },
         "high": [
          190.5800018310547
         ],
         "increasing": {
          "fillcolor": "rgba(255, 0, 0, 0)",
          "line": {
           "color": "green"
          }
         },
         "legendgroup": "Hollow Candlesticks",
         "low": [
          188.0399932861328
         ],
         "name": "Prev Close < Close > Open",
         "open": [
          188.82000732421875
         ],
         "showlegend": false,
         "type": "candlestick",
         "x": [
          "2024-05-24"
         ]
        },
        {
         "close": [
          189.99000549316406
         ],
         "decreasing": {
          "fillcolor": "green",
          "line": {
           "color": "green"
          }
         },
         "high": [
          193
         ],
         "increasing": {
          "fillcolor": "green",
          "line": {
           "color": "green"
          }
         },
         "legendgroup": "Hollow Candlesticks",
         "low": [
          189.10000610351562
         ],
         "name": "Open > Close > Prev Close",
         "open": [
          191.50999450683594
         ],
         "showlegend": false,
         "type": "candlestick",
         "x": [
          "2024-05-28"
         ]
        },
        {
         "close": [
          190.2899932861328
         ],
         "decreasing": {
          "fillcolor": "rgba(255, 0, 0, 0)",
          "line": {
           "color": "green"
          }
         },
         "high": [
          192.25
         ],
         "increasing": {
          "fillcolor": "rgba(255, 0, 0, 0)",
          "line": {
           "color": "green"
          }
         },
         "legendgroup": "Hollow Candlesticks",
         "low": [
          189.50999450683594
         ],
         "name": "Prev Close < Close > Open",
         "open": [
          189.61000061035156
         ],
         "showlegend": false,
         "type": "candlestick",
         "x": [
          "2024-05-29"
         ]
        },
        {
         "close": [
          191.2899932861328
         ],
         "decreasing": {
          "fillcolor": "rgba(255, 0, 0, 0)",
          "line": {
           "color": "green"
          }
         },
         "high": [
          192.17999267578125
         ],
         "increasing": {
          "fillcolor": "rgba(255, 0, 0, 0)",
          "line": {
           "color": "green"
          }
         },
         "legendgroup": "Hollow Candlesticks",
         "low": [
          190.6300048828125
         ],
         "name": "Prev Close < Close > Open",
         "open": [
          190.75999450683594
         ],
         "showlegend": false,
         "type": "candlestick",
         "x": [
          "2024-05-30"
         ]
        },
        {
         "close": [
          192.25
         ],
         "decreasing": {
          "fillcolor": "rgba(255, 0, 0, 0)",
          "line": {
           "color": "green"
          }
         },
         "high": [
          192.57000732421875
         ],
         "increasing": {
          "fillcolor": "rgba(255, 0, 0, 0)",
          "line": {
           "color": "green"
          }
         },
         "legendgroup": "Hollow Candlesticks",
         "low": [
          189.91000366210938
         ],
         "name": "Prev Close < Close > Open",
         "open": [
          191.44000244140625
         ],
         "showlegend": false,
         "type": "candlestick",
         "x": [
          "2024-05-31"
         ]
        },
        {
         "close": [
          194.02999877929688
         ],
         "decreasing": {
          "fillcolor": "rgba(255, 0, 0, 0)",
          "line": {
           "color": "green"
          }
         },
         "high": [
          194.99000549316406
         ],
         "increasing": {
          "fillcolor": "rgba(255, 0, 0, 0)",
          "line": {
           "color": "green"
          }
         },
         "legendgroup": "Hollow Candlesticks",
         "low": [
          192.52000427246094
         ],
         "name": "Prev Close < Close > Open",
         "open": [
          192.89999389648438
         ],
         "showlegend": false,
         "type": "candlestick",
         "x": [
          "2024-06-03"
         ]
        },
        {
         "close": [
          194.35000610351562
         ],
         "decreasing": {
          "fillcolor": "green",
          "line": {
           "color": "green"
          }
         },
         "high": [
          195.32000732421875
         ],
         "increasing": {
          "fillcolor": "green",
          "line": {
           "color": "green"
          }
         },
         "legendgroup": "Hollow Candlesticks",
         "low": [
          193.02999877929688
         ],
         "name": "Open > Close > Prev Close",
         "open": [
          194.63999938964844
         ],
         "showlegend": false,
         "type": "candlestick",
         "x": [
          "2024-06-04"
         ]
        },
        {
         "close": [
          195.8699951171875
         ],
         "decreasing": {
          "fillcolor": "rgba(255, 0, 0, 0)",
          "line": {
           "color": "green"
          }
         },
         "high": [
          196.89999389648438
         ],
         "increasing": {
          "fillcolor": "rgba(255, 0, 0, 0)",
          "line": {
           "color": "green"
          }
         },
         "legendgroup": "Hollow Candlesticks",
         "low": [
          194.8699951171875
         ],
         "name": "Prev Close < Close > Open",
         "open": [
          195.39999389648438
         ],
         "showlegend": false,
         "type": "candlestick",
         "x": [
          "2024-06-05"
         ]
        },
        {
         "close": [
          194.47999572753906
         ],
         "decreasing": {
          "fillcolor": "red",
          "line": {
           "color": "red"
          }
         },
         "high": [
          196.5
         ],
         "increasing": {
          "fillcolor": "red",
          "line": {
           "color": "red"
          }
         },
         "legendgroup": "Hollow Candlesticks",
         "low": [
          194.1699981689453
         ],
         "name": "Open > Close < Prev Close",
         "open": [
          195.69000244140625
         ],
         "showlegend": false,
         "type": "candlestick",
         "x": [
          "2024-06-06"
         ]
        },
        {
         "close": [
          196.88999938964844
         ],
         "decreasing": {
          "fillcolor": "rgba(255, 0, 0, 0)",
          "line": {
           "color": "green"
          }
         },
         "high": [
          196.94000244140625
         ],
         "increasing": {
          "fillcolor": "rgba(255, 0, 0, 0)",
          "line": {
           "color": "green"
          }
         },
         "legendgroup": "Hollow Candlesticks",
         "low": [
          194.13999938964844
         ],
         "name": "Prev Close < Close > Open",
         "open": [
          194.64999389648438
         ],
         "showlegend": false,
         "type": "candlestick",
         "x": [
          "2024-06-07"
         ]
        },
        {
         "close": [
          193.1199951171875
         ],
         "decreasing": {
          "fillcolor": "red",
          "line": {
           "color": "red"
          }
         },
         "high": [
          197.3000030517578
         ],
         "increasing": {
          "fillcolor": "red",
          "line": {
           "color": "red"
          }
         },
         "legendgroup": "Hollow Candlesticks",
         "low": [
          192.14999389648438
         ],
         "name": "Open > Close < Prev Close",
         "open": [
          196.89999389648438
         ],
         "showlegend": false,
         "type": "candlestick",
         "x": [
          "2024-06-10"
         ]
        },
        {
         "close": [
          207.14999389648438
         ],
         "decreasing": {
          "fillcolor": "rgba(255, 0, 0, 0)",
          "line": {
           "color": "green"
          }
         },
         "high": [
          207.16000366210938
         ],
         "increasing": {
          "fillcolor": "rgba(255, 0, 0, 0)",
          "line": {
           "color": "green"
          }
         },
         "legendgroup": "Hollow Candlesticks",
         "low": [
          193.6300048828125
         ],
         "name": "Prev Close < Close > Open",
         "open": [
          193.64999389648438
         ],
         "showlegend": false,
         "type": "candlestick",
         "x": [
          "2024-06-11"
         ]
        },
        {
         "close": [
          213.07000732421875
         ],
         "decreasing": {
          "fillcolor": "rgba(255, 0, 0, 0)",
          "line": {
           "color": "green"
          }
         },
         "high": [
          220.1999969482422
         ],
         "increasing": {
          "fillcolor": "rgba(255, 0, 0, 0)",
          "line": {
           "color": "green"
          }
         },
         "legendgroup": "Hollow Candlesticks",
         "low": [
          206.89999389648438
         ],
         "name": "Prev Close < Close > Open",
         "open": [
          207.3699951171875
         ],
         "showlegend": false,
         "type": "candlestick",
         "x": [
          "2024-06-12"
         ]
        },
        {
         "close": [
          214.24000549316406
         ],
         "decreasing": {
          "fillcolor": "green",
          "line": {
           "color": "green"
          }
         },
         "high": [
          216.75
         ],
         "increasing": {
          "fillcolor": "green",
          "line": {
           "color": "green"
          }
         },
         "legendgroup": "Hollow Candlesticks",
         "low": [
          211.60000610351562
         ],
         "name": "Open > Close > Prev Close",
         "open": [
          214.74000549316406
         ],
         "showlegend": false,
         "type": "candlestick",
         "x": [
          "2024-06-13"
         ]
        },
        {
         "close": [
          212.49000549316406
         ],
         "decreasing": {
          "fillcolor": "red",
          "line": {
           "color": "red"
          }
         },
         "high": [
          215.1699981689453
         ],
         "increasing": {
          "fillcolor": "red",
          "line": {
           "color": "red"
          }
         },
         "legendgroup": "Hollow Candlesticks",
         "low": [
          211.3000030517578
         ],
         "name": "Open > Close < Prev Close",
         "open": [
          213.85000610351562
         ],
         "showlegend": false,
         "type": "candlestick",
         "x": [
          "2024-06-14"
         ]
        },
        {
         "close": [
          216.6699981689453
         ],
         "decreasing": {
          "fillcolor": "rgba(255, 0, 0, 0)",
          "line": {
           "color": "green"
          }
         },
         "high": [
          218.9499969482422
         ],
         "increasing": {
          "fillcolor": "rgba(255, 0, 0, 0)",
          "line": {
           "color": "green"
          }
         },
         "legendgroup": "Hollow Candlesticks",
         "low": [
          212.72000122070312
         ],
         "name": "Prev Close < Close > Open",
         "open": [
          213.3699951171875
         ],
         "showlegend": false,
         "type": "candlestick",
         "x": [
          "2024-06-17"
         ]
        },
        {
         "close": [
          214.2899932861328
         ],
         "decreasing": {
          "fillcolor": "red",
          "line": {
           "color": "red"
          }
         },
         "high": [
          218.6300048828125
         ],
         "increasing": {
          "fillcolor": "red",
          "line": {
           "color": "red"
          }
         },
         "legendgroup": "Hollow Candlesticks",
         "low": [
          213
         ],
         "name": "Open > Close < Prev Close",
         "open": [
          217.58999633789062
         ],
         "showlegend": false,
         "type": "candlestick",
         "x": [
          "2024-06-18"
         ]
        },
        {
         "close": [
          209.67999267578125
         ],
         "decreasing": {
          "fillcolor": "red",
          "line": {
           "color": "red"
          }
         },
         "high": [
          214.24000549316406
         ],
         "increasing": {
          "fillcolor": "red",
          "line": {
           "color": "red"
          }
         },
         "legendgroup": "Hollow Candlesticks",
         "low": [
          208.85000610351562
         ],
         "name": "Open > Close < Prev Close",
         "open": [
          213.92999267578125
         ],
         "showlegend": false,
         "type": "candlestick",
         "x": [
          "2024-06-20"
         ]
        },
        {
         "close": [
          207.49000549316406
         ],
         "decreasing": {
          "fillcolor": "red",
          "line": {
           "color": "red"
          }
         },
         "high": [
          211.88999938964844
         ],
         "increasing": {
          "fillcolor": "red",
          "line": {
           "color": "red"
          }
         },
         "legendgroup": "Hollow Candlesticks",
         "low": [
          207.11000061035156
         ],
         "name": "Open > Close < Prev Close",
         "open": [
          210.38999938964844
         ],
         "showlegend": false,
         "type": "candlestick",
         "x": [
          "2024-06-21"
         ]
        },
        {
         "close": [
          208.13999938964844
         ],
         "decreasing": {
          "fillcolor": "rgba(255, 0, 0, 0)",
          "line": {
           "color": "green"
          }
         },
         "high": [
          212.6999969482422
         ],
         "increasing": {
          "fillcolor": "rgba(255, 0, 0, 0)",
          "line": {
           "color": "green"
          }
         },
         "legendgroup": "Hollow Candlesticks",
         "low": [
          206.58999633789062
         ],
         "name": "Prev Close < Close > Open",
         "open": [
          207.72000122070312
         ],
         "showlegend": false,
         "type": "candlestick",
         "x": [
          "2024-06-24"
         ]
        },
        {
         "close": [
          209.07000732421875
         ],
         "decreasing": {
          "fillcolor": "green",
          "line": {
           "color": "green"
          }
         },
         "high": [
          211.3800048828125
         ],
         "increasing": {
          "fillcolor": "green",
          "line": {
           "color": "green"
          }
         },
         "legendgroup": "Hollow Candlesticks",
         "low": [
          208.61000061035156
         ],
         "name": "Open > Close > Prev Close",
         "open": [
          209.14999389648438
         ],
         "showlegend": false,
         "type": "candlestick",
         "x": [
          "2024-06-25"
         ]
        },
        {
         "close": [
          213.25
         ],
         "decreasing": {
          "fillcolor": "rgba(255, 0, 0, 0)",
          "line": {
           "color": "green"
          }
         },
         "high": [
          214.86000061035156
         ],
         "increasing": {
          "fillcolor": "rgba(255, 0, 0, 0)",
          "line": {
           "color": "green"
          }
         },
         "legendgroup": "Hollow Candlesticks",
         "low": [
          210.63999938964844
         ],
         "name": "Prev Close < Close > Open",
         "open": [
          211.5
         ],
         "showlegend": false,
         "type": "candlestick",
         "x": [
          "2024-06-26"
         ]
        },
        {
         "close": [
          214.10000610351562
         ],
         "decreasing": {
          "fillcolor": "green",
          "line": {
           "color": "green"
          }
         },
         "high": [
          215.74000549316406
         ],
         "increasing": {
          "fillcolor": "green",
          "line": {
           "color": "green"
          }
         },
         "legendgroup": "Hollow Candlesticks",
         "low": [
          212.35000610351562
         ],
         "name": "Open > Close > Prev Close",
         "open": [
          214.69000244140625
         ],
         "showlegend": false,
         "type": "candlestick",
         "x": [
          "2024-06-27"
         ]
        },
        {
         "close": [
          210.6199951171875
         ],
         "decreasing": {
          "fillcolor": "red",
          "line": {
           "color": "red"
          }
         },
         "high": [
          216.07000732421875
         ],
         "increasing": {
          "fillcolor": "red",
          "line": {
           "color": "red"
          }
         },
         "legendgroup": "Hollow Candlesticks",
         "low": [
          210.3000030517578
         ],
         "name": "Open > Close < Prev Close",
         "open": [
          215.77000427246094
         ],
         "showlegend": false,
         "type": "candlestick",
         "x": [
          "2024-06-28"
         ]
        },
        {
         "close": [
          216.75
         ],
         "decreasing": {
          "fillcolor": "rgba(255, 0, 0, 0)",
          "line": {
           "color": "green"
          }
         },
         "high": [
          217.50999450683594
         ],
         "increasing": {
          "fillcolor": "rgba(255, 0, 0, 0)",
          "line": {
           "color": "green"
          }
         },
         "legendgroup": "Hollow Candlesticks",
         "low": [
          211.9199981689453
         ],
         "name": "Prev Close < Close > Open",
         "open": [
          212.08999633789062
         ],
         "showlegend": false,
         "type": "candlestick",
         "x": [
          "2024-07-01"
         ]
        },
        {
         "close": [
          220.27000427246094
         ],
         "decreasing": {
          "fillcolor": "rgba(255, 0, 0, 0)",
          "line": {
           "color": "green"
          }
         },
         "high": [
          220.3800048828125
         ],
         "increasing": {
          "fillcolor": "rgba(255, 0, 0, 0)",
          "line": {
           "color": "green"
          }
         },
         "legendgroup": "Hollow Candlesticks",
         "low": [
          215.10000610351562
         ],
         "name": "Prev Close < Close > Open",
         "open": [
          216.14999389648438
         ],
         "showlegend": false,
         "type": "candlestick",
         "x": [
          "2024-07-02"
         ]
        },
        {
         "close": [
          221.5500030517578
         ],
         "decreasing": {
          "fillcolor": "rgba(255, 0, 0, 0)",
          "line": {
           "color": "green"
          }
         },
         "high": [
          221.5500030517578
         ],
         "increasing": {
          "fillcolor": "rgba(255, 0, 0, 0)",
          "line": {
           "color": "green"
          }
         },
         "legendgroup": "Hollow Candlesticks",
         "low": [
          219.02999877929688
         ],
         "name": "Prev Close < Close > Open",
         "open": [
          220
         ],
         "showlegend": false,
         "type": "candlestick",
         "x": [
          "2024-07-03"
         ]
        },
        {
         "close": [
          226.33999633789062
         ],
         "decreasing": {
          "fillcolor": "rgba(255, 0, 0, 0)",
          "line": {
           "color": "green"
          }
         },
         "high": [
          226.4499969482422
         ],
         "increasing": {
          "fillcolor": "rgba(255, 0, 0, 0)",
          "line": {
           "color": "green"
          }
         },
         "legendgroup": "Hollow Candlesticks",
         "low": [
          221.64999389648438
         ],
         "name": "Prev Close < Close > Open",
         "open": [
          221.64999389648438
         ],
         "showlegend": false,
         "type": "candlestick",
         "x": [
          "2024-07-05"
         ]
        },
        {
         "close": [
          227.82000732421875
         ],
         "decreasing": {
          "fillcolor": "rgba(255, 0, 0, 0)",
          "line": {
           "color": "green"
          }
         },
         "high": [
          227.85000610351562
         ],
         "increasing": {
          "fillcolor": "rgba(255, 0, 0, 0)",
          "line": {
           "color": "green"
          }
         },
         "legendgroup": "Hollow Candlesticks",
         "low": [
          223.25
         ],
         "name": "Prev Close < Close > Open",
         "open": [
          227.08999633789062
         ],
         "showlegend": false,
         "type": "candlestick",
         "x": [
          "2024-07-08"
         ]
        },
        {
         "close": [
          228.67999267578125
         ],
         "decreasing": {
          "fillcolor": "rgba(255, 0, 0, 0)",
          "line": {
           "color": "green"
          }
         },
         "high": [
          229.39999389648438
         ],
         "increasing": {
          "fillcolor": "rgba(255, 0, 0, 0)",
          "line": {
           "color": "green"
          }
         },
         "legendgroup": "Hollow Candlesticks",
         "low": [
          226.3699951171875
         ],
         "name": "Prev Close < Close > Open",
         "open": [
          227.92999267578125
         ],
         "showlegend": false,
         "type": "candlestick",
         "x": [
          "2024-07-09"
         ]
        },
        {
         "close": [
          232.97999572753906
         ],
         "decreasing": {
          "fillcolor": "rgba(255, 0, 0, 0)",
          "line": {
           "color": "green"
          }
         },
         "high": [
          233.0800018310547
         ],
         "increasing": {
          "fillcolor": "rgba(255, 0, 0, 0)",
          "line": {
           "color": "green"
          }
         },
         "legendgroup": "Hollow Candlesticks",
         "low": [
          229.25
         ],
         "name": "Prev Close < Close > Open",
         "open": [
          229.3000030517578
         ],
         "showlegend": false,
         "type": "candlestick",
         "x": [
          "2024-07-10"
         ]
        },
        {
         "close": [
          227.57000732421875
         ],
         "decreasing": {
          "fillcolor": "red",
          "line": {
           "color": "red"
          }
         },
         "high": [
          232.38999938964844
         ],
         "increasing": {
          "fillcolor": "red",
          "line": {
           "color": "red"
          }
         },
         "legendgroup": "Hollow Candlesticks",
         "low": [
          225.77000427246094
         ],
         "name": "Open > Close < Prev Close",
         "open": [
          231.38999938964844
         ],
         "showlegend": false,
         "type": "candlestick",
         "x": [
          "2024-07-11"
         ]
        },
        {
         "close": [
          230.5399932861328
         ],
         "decreasing": {
          "fillcolor": "rgba(255, 0, 0, 0)",
          "line": {
           "color": "green"
          }
         },
         "high": [
          232.63999938964844
         ],
         "increasing": {
          "fillcolor": "rgba(255, 0, 0, 0)",
          "line": {
           "color": "green"
          }
         },
         "legendgroup": "Hollow Candlesticks",
         "low": [
          228.67999267578125
         ],
         "name": "Prev Close < Close > Open",
         "open": [
          228.9199981689453
         ],
         "showlegend": false,
         "type": "candlestick",
         "x": [
          "2024-07-12"
         ]
        },
        {
         "close": [
          234.39999389648438
         ],
         "decreasing": {
          "fillcolor": "green",
          "line": {
           "color": "green"
          }
         },
         "high": [
          237.22999572753906
         ],
         "increasing": {
          "fillcolor": "green",
          "line": {
           "color": "green"
          }
         },
         "legendgroup": "Hollow Candlesticks",
         "low": [
          233.08999633789062
         ],
         "name": "Open > Close > Prev Close",
         "open": [
          236.47999572753906
         ],
         "showlegend": false,
         "type": "candlestick",
         "x": [
          "2024-07-15"
         ]
        },
        {
         "close": [
          234.82000732421875
         ],
         "decreasing": {
          "fillcolor": "green",
          "line": {
           "color": "green"
          }
         },
         "high": [
          236.27000427246094
         ],
         "increasing": {
          "fillcolor": "green",
          "line": {
           "color": "green"
          }
         },
         "legendgroup": "Hollow Candlesticks",
         "low": [
          232.3300018310547
         ],
         "name": "Open > Close > Prev Close",
         "open": [
          235
         ],
         "showlegend": false,
         "type": "candlestick",
         "x": [
          "2024-07-16"
         ]
        },
        {
         "close": [
          228.8800048828125
         ],
         "decreasing": {
          "fillcolor": "red",
          "line": {
           "color": "red"
          }
         },
         "high": [
          231.4600067138672
         ],
         "increasing": {
          "fillcolor": "red",
          "line": {
           "color": "red"
          }
         },
         "legendgroup": "Hollow Candlesticks",
         "low": [
          226.63999938964844
         ],
         "name": "Open > Close < Prev Close",
         "open": [
          229.4499969482422
         ],
         "showlegend": false,
         "type": "candlestick",
         "x": [
          "2024-07-17"
         ]
        },
        {
         "close": [
          224.17999267578125
         ],
         "decreasing": {
          "fillcolor": "red",
          "line": {
           "color": "red"
          }
         },
         "high": [
          230.44000244140625
         ],
         "increasing": {
          "fillcolor": "red",
          "line": {
           "color": "red"
          }
         },
         "legendgroup": "Hollow Candlesticks",
         "low": [
          222.27000427246094
         ],
         "name": "Open > Close < Prev Close",
         "open": [
          230.27999877929688
         ],
         "showlegend": false,
         "type": "candlestick",
         "x": [
          "2024-07-18"
         ]
        },
        {
         "close": [
          224.30999755859375
         ],
         "decreasing": {
          "fillcolor": "green",
          "line": {
           "color": "green"
          }
         },
         "high": [
          226.8000030517578
         ],
         "increasing": {
          "fillcolor": "green",
          "line": {
           "color": "green"
          }
         },
         "legendgroup": "Hollow Candlesticks",
         "low": [
          223.27999877929688
         ],
         "name": "Open > Close > Prev Close",
         "open": [
          224.82000732421875
         ],
         "showlegend": false,
         "type": "candlestick",
         "x": [
          "2024-07-19"
         ]
        },
        {
         "close": [
          223.9600067138672
         ],
         "decreasing": {
          "fillcolor": "red",
          "line": {
           "color": "red"
          }
         },
         "high": [
          227.77999877929688
         ],
         "increasing": {
          "fillcolor": "red",
          "line": {
           "color": "red"
          }
         },
         "legendgroup": "Hollow Candlesticks",
         "low": [
          223.08999633789062
         ],
         "name": "Open > Close < Prev Close",
         "open": [
          227.00999450683594
         ],
         "showlegend": false,
         "type": "candlestick",
         "x": [
          "2024-07-22"
         ]
        },
        {
         "close": [
          225.00999450683594
         ],
         "decreasing": {
          "fillcolor": "rgba(255, 0, 0, 0)",
          "line": {
           "color": "green"
          }
         },
         "high": [
          226.94000244140625
         ],
         "increasing": {
          "fillcolor": "rgba(255, 0, 0, 0)",
          "line": {
           "color": "green"
          }
         },
         "legendgroup": "Hollow Candlesticks",
         "low": [
          222.67999267578125
         ],
         "name": "Prev Close < Close > Open",
         "open": [
          224.3699951171875
         ],
         "showlegend": false,
         "type": "candlestick",
         "x": [
          "2024-07-23"
         ]
        },
        {
         "close": [
          218.5399932861328
         ],
         "decreasing": {
          "fillcolor": "red",
          "line": {
           "color": "red"
          }
         },
         "high": [
          224.8000030517578
         ],
         "increasing": {
          "fillcolor": "red",
          "line": {
           "color": "red"
          }
         },
         "legendgroup": "Hollow Candlesticks",
         "low": [
          217.1300048828125
         ],
         "name": "Open > Close < Prev Close",
         "open": [
          224
         ],
         "showlegend": false,
         "type": "candlestick",
         "x": [
          "2024-07-24"
         ]
        },
        {
         "close": [
          217.49000549316406
         ],
         "decreasing": {
          "fillcolor": "red",
          "line": {
           "color": "red"
          }
         },
         "high": [
          220.85000610351562
         ],
         "increasing": {
          "fillcolor": "red",
          "line": {
           "color": "red"
          }
         },
         "legendgroup": "Hollow Candlesticks",
         "low": [
          214.6199951171875
         ],
         "name": "Open > Close < Prev Close",
         "open": [
          218.92999267578125
         ],
         "showlegend": false,
         "type": "candlestick",
         "x": [
          "2024-07-25"
         ]
        },
        {
         "close": [
          217.9600067138672
         ],
         "decreasing": {
          "fillcolor": "green",
          "line": {
           "color": "green"
          }
         },
         "high": [
          219.49000549316406
         ],
         "increasing": {
          "fillcolor": "green",
          "line": {
           "color": "green"
          }
         },
         "legendgroup": "Hollow Candlesticks",
         "low": [
          216.00999450683594
         ],
         "name": "Open > Close > Prev Close",
         "open": [
          218.6999969482422
         ],
         "showlegend": false,
         "type": "candlestick",
         "x": [
          "2024-07-26"
         ]
        },
        {
         "close": [
          218.24000549316406
         ],
         "decreasing": {
          "fillcolor": "rgba(255, 0, 0, 0)",
          "line": {
           "color": "green"
          }
         },
         "high": [
          219.3000030517578
         ],
         "increasing": {
          "fillcolor": "rgba(255, 0, 0, 0)",
          "line": {
           "color": "green"
          }
         },
         "legendgroup": "Hollow Candlesticks",
         "low": [
          215.75
         ],
         "name": "Prev Close < Close > Open",
         "open": [
          216.9600067138672
         ],
         "showlegend": false,
         "type": "candlestick",
         "x": [
          "2024-07-29"
         ]
        },
        {
         "close": [
          218.8000030517578
         ],
         "decreasing": {
          "fillcolor": "green",
          "line": {
           "color": "green"
          }
         },
         "high": [
          220.3300018310547
         ],
         "increasing": {
          "fillcolor": "green",
          "line": {
           "color": "green"
          }
         },
         "legendgroup": "Hollow Candlesticks",
         "low": [
          216.1199951171875
         ],
         "name": "Open > Close > Prev Close",
         "open": [
          219.19000244140625
         ],
         "showlegend": false,
         "type": "candlestick",
         "x": [
          "2024-07-30"
         ]
        },
        {
         "close": [
          222.0800018310547
         ],
         "decreasing": {
          "fillcolor": "rgba(255, 0, 0, 0)",
          "line": {
           "color": "green"
          }
         },
         "high": [
          223.82000732421875
         ],
         "increasing": {
          "fillcolor": "rgba(255, 0, 0, 0)",
          "line": {
           "color": "green"
          }
         },
         "legendgroup": "Hollow Candlesticks",
         "low": [
          220.6300048828125
         ],
         "name": "Prev Close < Close > Open",
         "open": [
          221.44000244140625
         ],
         "showlegend": false,
         "type": "candlestick",
         "x": [
          "2024-07-31"
         ]
        },
        {
         "close": [
          218.36000061035156
         ],
         "decreasing": {
          "fillcolor": "red",
          "line": {
           "color": "red"
          }
         },
         "high": [
          224.47999572753906
         ],
         "increasing": {
          "fillcolor": "red",
          "line": {
           "color": "red"
          }
         },
         "legendgroup": "Hollow Candlesticks",
         "low": [
          217.02000427246094
         ],
         "name": "Open > Close < Prev Close",
         "open": [
          224.3699951171875
         ],
         "showlegend": false,
         "type": "candlestick",
         "x": [
          "2024-08-01"
         ]
        },
        {
         "close": [
          219.86000061035156
         ],
         "decreasing": {
          "fillcolor": "rgba(255, 0, 0, 0)",
          "line": {
           "color": "green"
          }
         },
         "high": [
          225.60000610351562
         ],
         "increasing": {
          "fillcolor": "rgba(255, 0, 0, 0)",
          "line": {
           "color": "green"
          }
         },
         "legendgroup": "Hollow Candlesticks",
         "low": [
          217.7100067138672
         ],
         "name": "Prev Close < Close > Open",
         "open": [
          219.14999389648438
         ],
         "showlegend": false,
         "type": "candlestick",
         "x": [
          "2024-08-02"
         ]
        },
        {
         "close": [
          209.27000427246094
         ],
         "decreasing": {
          "fillcolor": "rgba(255, 0, 0, 0)",
          "line": {
           "color": "red"
          }
         },
         "high": [
          213.5
         ],
         "increasing": {
          "fillcolor": "rgba(255, 0, 0, 0)",
          "line": {
           "color": "red"
          }
         },
         "legendgroup": "Hollow Candlesticks",
         "low": [
          196
         ],
         "name": "Prev Close > Close > Open",
         "open": [
          199.08999633789062
         ],
         "showlegend": false,
         "type": "candlestick",
         "x": [
          "2024-08-05"
         ]
        },
        {
         "close": [
          207.22999572753906
         ],
         "decreasing": {
          "fillcolor": "rgba(255, 0, 0, 0)",
          "line": {
           "color": "red"
          }
         },
         "high": [
          209.99000549316406
         ],
         "increasing": {
          "fillcolor": "rgba(255, 0, 0, 0)",
          "line": {
           "color": "red"
          }
         },
         "legendgroup": "Hollow Candlesticks",
         "low": [
          201.07000732421875
         ],
         "name": "Prev Close > Close > Open",
         "open": [
          205.3000030517578
         ],
         "showlegend": false,
         "type": "candlestick",
         "x": [
          "2024-08-06"
         ]
        },
        {
         "close": [
          209.82000732421875
         ],
         "decreasing": {
          "fillcolor": "rgba(255, 0, 0, 0)",
          "line": {
           "color": "green"
          }
         },
         "high": [
          213.63999938964844
         ],
         "increasing": {
          "fillcolor": "rgba(255, 0, 0, 0)",
          "line": {
           "color": "green"
          }
         },
         "legendgroup": "Hollow Candlesticks",
         "low": [
          206.38999938964844
         ],
         "name": "Prev Close < Close > Open",
         "open": [
          206.89999389648438
         ],
         "showlegend": false,
         "type": "candlestick",
         "x": [
          "2024-08-07"
         ]
        },
        {
         "close": [
          213.30999755859375
         ],
         "decreasing": {
          "fillcolor": "rgba(255, 0, 0, 0)",
          "line": {
           "color": "green"
          }
         },
         "high": [
          214.1999969482422
         ],
         "increasing": {
          "fillcolor": "rgba(255, 0, 0, 0)",
          "line": {
           "color": "green"
          }
         },
         "legendgroup": "Hollow Candlesticks",
         "low": [
          208.8300018310547
         ],
         "name": "Prev Close < Close > Open",
         "open": [
          213.11000061035156
         ],
         "showlegend": false,
         "type": "candlestick",
         "x": [
          "2024-08-08"
         ]
        },
        {
         "close": [
          216.24000549316406
         ],
         "decreasing": {
          "fillcolor": "rgba(255, 0, 0, 0)",
          "line": {
           "color": "green"
          }
         },
         "high": [
          216.77999877929688
         ],
         "increasing": {
          "fillcolor": "rgba(255, 0, 0, 0)",
          "line": {
           "color": "green"
          }
         },
         "legendgroup": "Hollow Candlesticks",
         "low": [
          211.97000122070312
         ],
         "name": "Prev Close < Close > Open",
         "open": [
          212.10000610351562
         ],
         "showlegend": false,
         "type": "candlestick",
         "x": [
          "2024-08-09"
         ]
        },
        {
         "close": [
          217.52999877929688
         ],
         "decreasing": {
          "fillcolor": "rgba(255, 0, 0, 0)",
          "line": {
           "color": "green"
          }
         },
         "high": [
          219.50999450683594
         ],
         "increasing": {
          "fillcolor": "rgba(255, 0, 0, 0)",
          "line": {
           "color": "green"
          }
         },
         "legendgroup": "Hollow Candlesticks",
         "low": [
          215.60000610351562
         ],
         "name": "Prev Close < Close > Open",
         "open": [
          216.07000732421875
         ],
         "showlegend": false,
         "type": "candlestick",
         "x": [
          "2024-08-12"
         ]
        },
        {
         "close": [
          221.27000427246094
         ],
         "decreasing": {
          "fillcolor": "rgba(255, 0, 0, 0)",
          "line": {
           "color": "green"
          }
         },
         "high": [
          221.88999938964844
         ],
         "increasing": {
          "fillcolor": "rgba(255, 0, 0, 0)",
          "line": {
           "color": "green"
          }
         },
         "legendgroup": "Hollow Candlesticks",
         "low": [
          219.00999450683594
         ],
         "name": "Prev Close < Close > Open",
         "open": [
          219.00999450683594
         ],
         "showlegend": false,
         "type": "candlestick",
         "x": [
          "2024-08-13"
         ]
        },
        {
         "close": [
          221.72000122070312
         ],
         "decreasing": {
          "fillcolor": "rgba(255, 0, 0, 0)",
          "line": {
           "color": "green"
          }
         },
         "high": [
          223.02999877929688
         ],
         "increasing": {
          "fillcolor": "rgba(255, 0, 0, 0)",
          "line": {
           "color": "green"
          }
         },
         "legendgroup": "Hollow Candlesticks",
         "low": [
          219.6999969482422
         ],
         "name": "Prev Close < Close > Open",
         "open": [
          220.57000732421875
         ],
         "showlegend": false,
         "type": "candlestick",
         "x": [
          "2024-08-14"
         ]
        },
        {
         "close": [
          224.72000122070312
         ],
         "decreasing": {
          "fillcolor": "rgba(255, 0, 0, 0)",
          "line": {
           "color": "green"
          }
         },
         "high": [
          225.35000610351562
         ],
         "increasing": {
          "fillcolor": "rgba(255, 0, 0, 0)",
          "line": {
           "color": "green"
          }
         },
         "legendgroup": "Hollow Candlesticks",
         "low": [
          222.75999450683594
         ],
         "name": "Prev Close < Close > Open",
         "open": [
          224.60000610351562
         ],
         "showlegend": false,
         "type": "candlestick",
         "x": [
          "2024-08-15"
         ]
        },
        {
         "close": [
          226.0500030517578
         ],
         "decreasing": {
          "fillcolor": "rgba(255, 0, 0, 0)",
          "line": {
           "color": "green"
          }
         },
         "high": [
          226.8300018310547
         ],
         "increasing": {
          "fillcolor": "rgba(255, 0, 0, 0)",
          "line": {
           "color": "green"
          }
         },
         "legendgroup": "Hollow Candlesticks",
         "low": [
          223.64999389648438
         ],
         "name": "Prev Close < Close > Open",
         "open": [
          223.9199981689453
         ],
         "showlegend": false,
         "type": "candlestick",
         "x": [
          "2024-08-16"
         ]
        },
        {
         "close": [
          225.88999938964844
         ],
         "decreasing": {
          "fillcolor": "rgba(255, 0, 0, 0)",
          "line": {
           "color": "red"
          }
         },
         "high": [
          225.99000549316406
         ],
         "increasing": {
          "fillcolor": "rgba(255, 0, 0, 0)",
          "line": {
           "color": "red"
          }
         },
         "legendgroup": "Hollow Candlesticks",
         "low": [
          223.0399932861328
         ],
         "name": "Prev Close > Close > Open",
         "open": [
          225.72000122070312
         ],
         "showlegend": false,
         "type": "candlestick",
         "x": [
          "2024-08-19"
         ]
        },
        {
         "close": [
          226.50999450683594
         ],
         "decreasing": {
          "fillcolor": "rgba(255, 0, 0, 0)",
          "line": {
           "color": "green"
          }
         },
         "high": [
          227.1699981689453
         ],
         "increasing": {
          "fillcolor": "rgba(255, 0, 0, 0)",
          "line": {
           "color": "green"
          }
         },
         "legendgroup": "Hollow Candlesticks",
         "low": [
          225.4499969482422
         ],
         "name": "Prev Close < Close > Open",
         "open": [
          225.77000427246094
         ],
         "showlegend": false,
         "type": "candlestick",
         "x": [
          "2024-08-20"
         ]
        },
        {
         "close": [
          226.39999389648438
         ],
         "decreasing": {
          "fillcolor": "red",
          "line": {
           "color": "red"
          }
         },
         "high": [
          227.97999572753906
         ],
         "increasing": {
          "fillcolor": "red",
          "line": {
           "color": "red"
          }
         },
         "legendgroup": "Hollow Candlesticks",
         "low": [
          225.0500030517578
         ],
         "name": "Open > Close < Prev Close",
         "open": [
          226.52000427246094
         ],
         "showlegend": false,
         "type": "candlestick",
         "x": [
          "2024-08-21"
         ]
        },
        {
         "close": [
          224.52999877929688
         ],
         "decreasing": {
          "fillcolor": "red",
          "line": {
           "color": "red"
          }
         },
         "high": [
          228.33999633789062
         ],
         "increasing": {
          "fillcolor": "red",
          "line": {
           "color": "red"
          }
         },
         "legendgroup": "Hollow Candlesticks",
         "low": [
          223.89999389648438
         ],
         "name": "Open > Close < Prev Close",
         "open": [
          227.7899932861328
         ],
         "showlegend": false,
         "type": "candlestick",
         "x": [
          "2024-08-22"
         ]
        },
        {
         "close": [
          226.83999633789062
         ],
         "decreasing": {
          "fillcolor": "rgba(255, 0, 0, 0)",
          "line": {
           "color": "green"
          }
         },
         "high": [
          228.22000122070312
         ],
         "increasing": {
          "fillcolor": "rgba(255, 0, 0, 0)",
          "line": {
           "color": "green"
          }
         },
         "legendgroup": "Hollow Candlesticks",
         "low": [
          224.3300018310547
         ],
         "name": "Prev Close < Close > Open",
         "open": [
          225.66000366210938
         ],
         "showlegend": false,
         "type": "candlestick",
         "x": [
          "2024-08-23"
         ]
        },
        {
         "close": [
          227.17999267578125
         ],
         "decreasing": {
          "fillcolor": "rgba(255, 0, 0, 0)",
          "line": {
           "color": "green"
          }
         },
         "high": [
          227.27999877929688
         ],
         "increasing": {
          "fillcolor": "rgba(255, 0, 0, 0)",
          "line": {
           "color": "green"
          }
         },
         "legendgroup": "Hollow Candlesticks",
         "low": [
          223.88999938964844
         ],
         "name": "Prev Close < Close > Open",
         "open": [
          226.75999450683594
         ],
         "showlegend": false,
         "type": "candlestick",
         "x": [
          "2024-08-26"
         ]
        },
        {
         "close": [
          228.02999877929688
         ],
         "decreasing": {
          "fillcolor": "rgba(255, 0, 0, 0)",
          "line": {
           "color": "green"
          }
         },
         "high": [
          228.85000610351562
         ],
         "increasing": {
          "fillcolor": "rgba(255, 0, 0, 0)",
          "line": {
           "color": "green"
          }
         },
         "legendgroup": "Hollow Candlesticks",
         "low": [
          224.88999938964844
         ],
         "name": "Prev Close < Close > Open",
         "open": [
          226
         ],
         "showlegend": false,
         "type": "candlestick",
         "x": [
          "2024-08-27"
         ]
        },
        {
         "close": [
          226.49000549316406
         ],
         "decreasing": {
          "fillcolor": "red",
          "line": {
           "color": "red"
          }
         },
         "high": [
          229.86000061035156
         ],
         "increasing": {
          "fillcolor": "red",
          "line": {
           "color": "red"
          }
         },
         "legendgroup": "Hollow Candlesticks",
         "low": [
          225.67999267578125
         ],
         "name": "Open > Close < Prev Close",
         "open": [
          227.9199981689453
         ],
         "showlegend": false,
         "type": "candlestick",
         "x": [
          "2024-08-28"
         ]
        },
        {
         "close": [
          229.7899932861328
         ],
         "decreasing": {
          "fillcolor": "green",
          "line": {
           "color": "green"
          }
         },
         "high": [
          232.9199981689453
         ],
         "increasing": {
          "fillcolor": "green",
          "line": {
           "color": "green"
          }
         },
         "legendgroup": "Hollow Candlesticks",
         "low": [
          228.8800048828125
         ],
         "name": "Open > Close > Prev Close",
         "open": [
          230.10000610351562
         ],
         "showlegend": false,
         "type": "candlestick",
         "x": [
          "2024-08-29"
         ]
        },
        {
         "close": [
          229
         ],
         "decreasing": {
          "fillcolor": "red",
          "line": {
           "color": "red"
          }
         },
         "high": [
          230.39999389648438
         ],
         "increasing": {
          "fillcolor": "red",
          "line": {
           "color": "red"
          }
         },
         "legendgroup": "Hollow Candlesticks",
         "low": [
          227.47999572753906
         ],
         "name": "Open > Close < Prev Close",
         "open": [
          230.19000244140625
         ],
         "showlegend": false,
         "type": "candlestick",
         "x": [
          "2024-08-30"
         ]
        },
        {
         "close": [
          222.77000427246094
         ],
         "decreasing": {
          "fillcolor": "red",
          "line": {
           "color": "red"
          }
         },
         "high": [
          229
         ],
         "increasing": {
          "fillcolor": "red",
          "line": {
           "color": "red"
          }
         },
         "legendgroup": "Hollow Candlesticks",
         "low": [
          221.1699981689453
         ],
         "name": "Open > Close < Prev Close",
         "open": [
          228.5500030517578
         ],
         "showlegend": false,
         "type": "candlestick",
         "x": [
          "2024-09-03"
         ]
        },
        {
         "close": [
          220.85000610351562
         ],
         "decreasing": {
          "fillcolor": "red",
          "line": {
           "color": "red"
          }
         },
         "high": [
          221.77999877929688
         ],
         "increasing": {
          "fillcolor": "red",
          "line": {
           "color": "red"
          }
         },
         "legendgroup": "Hollow Candlesticks",
         "low": [
          217.47999572753906
         ],
         "name": "Open > Close < Prev Close",
         "open": [
          221.66000366210938
         ],
         "showlegend": false,
         "type": "candlestick",
         "x": [
          "2024-09-04"
         ]
        },
        {
         "close": [
          222.3800048828125
         ],
         "decreasing": {
          "fillcolor": "rgba(255, 0, 0, 0)",
          "line": {
           "color": "green"
          }
         },
         "high": [
          225.47999572753906
         ],
         "increasing": {
          "fillcolor": "rgba(255, 0, 0, 0)",
          "line": {
           "color": "green"
          }
         },
         "legendgroup": "Hollow Candlesticks",
         "low": [
          221.52000427246094
         ],
         "name": "Prev Close < Close > Open",
         "open": [
          221.6300048828125
         ],
         "showlegend": false,
         "type": "candlestick",
         "x": [
          "2024-09-05"
         ]
        },
        {
         "close": [
          220.82000732421875
         ],
         "decreasing": {
          "fillcolor": "red",
          "line": {
           "color": "red"
          }
         },
         "high": [
          225.24000549316406
         ],
         "increasing": {
          "fillcolor": "red",
          "line": {
           "color": "red"
          }
         },
         "legendgroup": "Hollow Candlesticks",
         "low": [
          219.77000427246094
         ],
         "name": "Open > Close < Prev Close",
         "open": [
          223.9499969482422
         ],
         "showlegend": false,
         "type": "candlestick",
         "x": [
          "2024-09-06"
         ]
        },
        {
         "close": [
          220.91000366210938
         ],
         "decreasing": {
          "fillcolor": "rgba(255, 0, 0, 0)",
          "line": {
           "color": "green"
          }
         },
         "high": [
          221.27000427246094
         ],
         "increasing": {
          "fillcolor": "rgba(255, 0, 0, 0)",
          "line": {
           "color": "green"
          }
         },
         "legendgroup": "Hollow Candlesticks",
         "low": [
          216.7100067138672
         ],
         "name": "Prev Close < Close > Open",
         "open": [
          220.82000732421875
         ],
         "showlegend": false,
         "type": "candlestick",
         "x": [
          "2024-09-09"
         ]
        },
        {
         "close": [
          220.11000061035156
         ],
         "decreasing": {
          "fillcolor": "rgba(255, 0, 0, 0)",
          "line": {
           "color": "red"
          }
         },
         "high": [
          221.47999572753906
         ],
         "increasing": {
          "fillcolor": "rgba(255, 0, 0, 0)",
          "line": {
           "color": "red"
          }
         },
         "legendgroup": "Hollow Candlesticks",
         "low": [
          216.72999572753906
         ],
         "name": "Prev Close > Close > Open",
         "open": [
          218.9199981689453
         ],
         "showlegend": false,
         "type": "candlestick",
         "x": [
          "2024-09-10"
         ]
        },
        {
         "close": [
          222.66000366210938
         ],
         "decreasing": {
          "fillcolor": "rgba(255, 0, 0, 0)",
          "line": {
           "color": "green"
          }
         },
         "high": [
          223.08999633789062
         ],
         "increasing": {
          "fillcolor": "rgba(255, 0, 0, 0)",
          "line": {
           "color": "green"
          }
         },
         "legendgroup": "Hollow Candlesticks",
         "low": [
          217.88999938964844
         ],
         "name": "Prev Close < Close > Open",
         "open": [
          221.4600067138672
         ],
         "showlegend": false,
         "type": "candlestick",
         "x": [
          "2024-09-11"
         ]
        },
        {
         "close": [
          222.77000427246094
         ],
         "decreasing": {
          "fillcolor": "rgba(255, 0, 0, 0)",
          "line": {
           "color": "green"
          }
         },
         "high": [
          223.5500030517578
         ],
         "increasing": {
          "fillcolor": "rgba(255, 0, 0, 0)",
          "line": {
           "color": "green"
          }
         },
         "legendgroup": "Hollow Candlesticks",
         "low": [
          219.82000732421875
         ],
         "name": "Prev Close < Close > Open",
         "open": [
          222.5
         ],
         "showlegend": false,
         "type": "candlestick",
         "x": [
          "2024-09-12"
         ]
        },
        {
         "close": [
          222.5
         ],
         "decreasing": {
          "fillcolor": "red",
          "line": {
           "color": "red"
          }
         },
         "high": [
          224.0399932861328
         ],
         "increasing": {
          "fillcolor": "red",
          "line": {
           "color": "red"
          }
         },
         "legendgroup": "Hollow Candlesticks",
         "low": [
          221.91000366210938
         ],
         "name": "Open > Close < Prev Close",
         "open": [
          223.5800018310547
         ],
         "showlegend": false,
         "type": "candlestick",
         "x": [
          "2024-09-13"
         ]
        },
        {
         "close": [
          216.32000732421875
         ],
         "decreasing": {
          "fillcolor": "red",
          "line": {
           "color": "red"
          }
         },
         "high": [
          217.22000122070312
         ],
         "increasing": {
          "fillcolor": "red",
          "line": {
           "color": "red"
          }
         },
         "legendgroup": "Hollow Candlesticks",
         "low": [
          213.9199981689453
         ],
         "name": "Open > Close < Prev Close",
         "open": [
          216.5399932861328
         ],
         "showlegend": false,
         "type": "candlestick",
         "x": [
          "2024-09-16"
         ]
        },
        {
         "close": [
          216.7899932861328
         ],
         "decreasing": {
          "fillcolor": "rgba(255, 0, 0, 0)",
          "line": {
           "color": "green"
          }
         },
         "high": [
          216.89999389648438
         ],
         "increasing": {
          "fillcolor": "rgba(255, 0, 0, 0)",
          "line": {
           "color": "green"
          }
         },
         "legendgroup": "Hollow Candlesticks",
         "low": [
          214.5
         ],
         "name": "Prev Close < Close > Open",
         "open": [
          215.75
         ],
         "showlegend": false,
         "type": "candlestick",
         "x": [
          "2024-09-17"
         ]
        },
        {
         "close": [
          220.69000244140625
         ],
         "decreasing": {
          "fillcolor": "rgba(255, 0, 0, 0)",
          "line": {
           "color": "green"
          }
         },
         "high": [
          222.7100067138672
         ],
         "increasing": {
          "fillcolor": "rgba(255, 0, 0, 0)",
          "line": {
           "color": "green"
          }
         },
         "legendgroup": "Hollow Candlesticks",
         "low": [
          217.5399932861328
         ],
         "name": "Prev Close < Close > Open",
         "open": [
          217.5500030517578
         ],
         "showlegend": false,
         "type": "candlestick",
         "x": [
          "2024-09-18"
         ]
        },
        {
         "close": [
          228.8699951171875
         ],
         "decreasing": {
          "fillcolor": "rgba(255, 0, 0, 0)",
          "line": {
           "color": "green"
          }
         },
         "high": [
          229.82000732421875
         ],
         "increasing": {
          "fillcolor": "rgba(255, 0, 0, 0)",
          "line": {
           "color": "green"
          }
         },
         "legendgroup": "Hollow Candlesticks",
         "low": [
          224.63999938964844
         ],
         "name": "Prev Close < Close > Open",
         "open": [
          225.13999938964844
         ],
         "showlegend": false,
         "type": "candlestick",
         "x": [
          "2024-09-19"
         ]
        },
        {
         "line": {
          "color": "lemonchiffon"
         },
         "name": "SMA 20",
         "type": "scatter",
         "x": [
          "2023-09-19",
          "2023-09-20",
          "2023-09-21",
          "2023-09-22",
          "2023-09-25",
          "2023-09-26",
          "2023-09-27",
          "2023-09-28",
          "2023-09-29",
          "2023-10-02",
          "2023-10-03",
          "2023-10-04",
          "2023-10-05",
          "2023-10-06",
          "2023-10-09",
          "2023-10-10",
          "2023-10-11",
          "2023-10-12",
          "2023-10-13",
          "2023-10-16",
          "2023-10-17",
          "2023-10-18",
          "2023-10-19",
          "2023-10-20",
          "2023-10-23",
          "2023-10-24",
          "2023-10-25",
          "2023-10-26",
          "2023-10-27",
          "2023-10-30",
          "2023-10-31",
          "2023-11-01",
          "2023-11-02",
          "2023-11-03",
          "2023-11-06",
          "2023-11-07",
          "2023-11-08",
          "2023-11-09",
          "2023-11-10",
          "2023-11-13",
          "2023-11-14",
          "2023-11-15",
          "2023-11-16",
          "2023-11-17",
          "2023-11-20",
          "2023-11-21",
          "2023-11-22",
          "2023-11-24",
          "2023-11-27",
          "2023-11-28",
          "2023-11-29",
          "2023-11-30",
          "2023-12-01",
          "2023-12-04",
          "2023-12-05",
          "2023-12-06",
          "2023-12-07",
          "2023-12-08",
          "2023-12-11",
          "2023-12-12",
          "2023-12-13",
          "2023-12-14",
          "2023-12-15",
          "2023-12-18",
          "2023-12-19",
          "2023-12-20",
          "2023-12-21",
          "2023-12-22",
          "2023-12-26",
          "2023-12-27",
          "2023-12-28",
          "2023-12-29",
          "2024-01-02",
          "2024-01-03",
          "2024-01-04",
          "2024-01-05",
          "2024-01-08",
          "2024-01-09",
          "2024-01-10",
          "2024-01-11",
          "2024-01-12",
          "2024-01-16",
          "2024-01-17",
          "2024-01-18",
          "2024-01-19",
          "2024-01-22",
          "2024-01-23",
          "2024-01-24",
          "2024-01-25",
          "2024-01-26",
          "2024-01-29",
          "2024-01-30",
          "2024-01-31",
          "2024-02-01",
          "2024-02-02",
          "2024-02-05",
          "2024-02-06",
          "2024-02-07",
          "2024-02-08",
          "2024-02-09",
          "2024-02-12",
          "2024-02-13",
          "2024-02-14",
          "2024-02-15",
          "2024-02-16",
          "2024-02-20",
          "2024-02-21",
          "2024-02-22",
          "2024-02-23",
          "2024-02-26",
          "2024-02-27",
          "2024-02-28",
          "2024-02-29",
          "2024-03-01",
          "2024-03-04",
          "2024-03-05",
          "2024-03-06",
          "2024-03-07",
          "2024-03-08",
          "2024-03-11",
          "2024-03-12",
          "2024-03-13",
          "2024-03-14",
          "2024-03-15",
          "2024-03-18",
          "2024-03-19",
          "2024-03-20",
          "2024-03-21",
          "2024-03-22",
          "2024-03-25",
          "2024-03-26",
          "2024-03-27",
          "2024-03-28",
          "2024-04-01",
          "2024-04-02",
          "2024-04-03",
          "2024-04-04",
          "2024-04-05",
          "2024-04-08",
          "2024-04-09",
          "2024-04-10",
          "2024-04-11",
          "2024-04-12",
          "2024-04-15",
          "2024-04-16",
          "2024-04-17",
          "2024-04-18",
          "2024-04-19",
          "2024-04-22",
          "2024-04-23",
          "2024-04-24",
          "2024-04-25",
          "2024-04-26",
          "2024-04-29",
          "2024-04-30",
          "2024-05-01",
          "2024-05-02",
          "2024-05-03",
          "2024-05-06",
          "2024-05-07",
          "2024-05-08",
          "2024-05-09",
          "2024-05-10",
          "2024-05-13",
          "2024-05-14",
          "2024-05-15",
          "2024-05-16",
          "2024-05-17",
          "2024-05-20",
          "2024-05-21",
          "2024-05-22",
          "2024-05-23",
          "2024-05-24",
          "2024-05-28",
          "2024-05-29",
          "2024-05-30",
          "2024-05-31",
          "2024-06-03",
          "2024-06-04",
          "2024-06-05",
          "2024-06-06",
          "2024-06-07",
          "2024-06-10",
          "2024-06-11",
          "2024-06-12",
          "2024-06-13",
          "2024-06-14",
          "2024-06-17",
          "2024-06-18",
          "2024-06-20",
          "2024-06-21",
          "2024-06-24",
          "2024-06-25",
          "2024-06-26",
          "2024-06-27",
          "2024-06-28",
          "2024-07-01",
          "2024-07-02",
          "2024-07-03",
          "2024-07-05",
          "2024-07-08",
          "2024-07-09",
          "2024-07-10",
          "2024-07-11",
          "2024-07-12",
          "2024-07-15",
          "2024-07-16",
          "2024-07-17",
          "2024-07-18",
          "2024-07-19",
          "2024-07-22",
          "2024-07-23",
          "2024-07-24",
          "2024-07-25",
          "2024-07-26",
          "2024-07-29",
          "2024-07-30",
          "2024-07-31",
          "2024-08-01",
          "2024-08-02",
          "2024-08-05",
          "2024-08-06",
          "2024-08-07",
          "2024-08-08",
          "2024-08-09",
          "2024-08-12",
          "2024-08-13",
          "2024-08-14",
          "2024-08-15",
          "2024-08-16",
          "2024-08-19",
          "2024-08-20",
          "2024-08-21",
          "2024-08-22",
          "2024-08-23",
          "2024-08-26",
          "2024-08-27",
          "2024-08-28",
          "2024-08-29",
          "2024-08-30",
          "2024-09-03",
          "2024-09-04",
          "2024-09-05",
          "2024-09-06",
          "2024-09-09",
          "2024-09-10",
          "2024-09-11",
          "2024-09-12",
          "2024-09-13",
          "2024-09-16",
          "2024-09-17",
          "2024-09-18",
          "2024-09-19"
         ],
         "y": [
          179.07000732421875,
          177.2800064086914,
          176.16333516438803,
          175.81999969482422,
          175.87200012207032,
          175.22000122070312,
          174.53571428571428,
          174.05500030517578,
          173.73888990614148,
          173.74000091552733,
          173.61818209561434,
          173.6216672261556,
          173.72077002892127,
          173.99000113351005,
          174.32333475748698,
          174.57750129699707,
          174.88470728257124,
          175.20833502875433,
          175.400001927426,
          175.56600189208984,
          175.47000122070312,
          175.48750076293945,
          175.56400146484376,
          175.46850204467773,
          175.314501953125,
          175.38850173950195,
          175.42200241088867,
          175.23200225830078,
          175.08250198364257,
          174.9095016479492,
          174.82800216674804,
          174.84350204467773,
          174.97650222778321,
          174.93450164794922,
          174.94650115966797,
          175.11800155639648,
          175.27250137329102,
          175.3575012207031,
          175.73500061035156,
          176.03900070190429,
          176.5535011291504,
          177.16200103759766,
          177.87450103759767,
          178.71500091552736,
          179.63750076293945,
          180.49750061035155,
          181.50800018310548,
          182.6620002746582,
          183.7404998779297,
          184.74599990844726,
          185.6759994506836,
          186.47499923706056,
          187.15849914550782,
          187.79749908447266,
          188.50699920654296,
          189.03199920654296,
          189.6009994506836,
          190.2659996032715,
          190.60499954223633,
          191.1004997253418,
          191.62649993896486,
          192.13150024414062,
          192.5245002746582,
          192.83450012207032,
          193.1090003967285,
          193.31850051879883,
          193.48700027465821,
          193.66850051879882,
          193.83150100708008,
          193.96900100708007,
          194.17950134277345,
          194.30850143432616,
          194.02850112915038,
          193.76950149536134,
          193.19400177001953,
          192.63700103759766,
          192.2015007019043,
          191.67300033569336,
          191.3235008239746,
          190.86750030517578,
          190.2654998779297,
          189.54150009155273,
          188.79699935913087,
          188.43399963378906,
          188.16499938964844,
          188.1179992675781,
          188.14299926757812,
          188.18799896240233,
          188.2439987182617,
          188.20749893188477,
          188.114998626709,
          187.89049835205077,
          187.82849807739257,
          187.95899810791016,
          188.15599822998047,
          188.48099822998046,
          188.66799850463866,
          188.88149871826172,
          188.98799896240234,
          189.1509994506836,
          189.21249923706054,
          189.28299865722656,
          189.35649871826172,
          189.11799850463868,
          188.65549850463867,
          188.03899841308595,
          187.3959991455078,
          186.88949890136718,
          186.30699920654297,
          185.74399948120117,
          185.28899993896485,
          184.95800018310547,
          184.77550048828124,
          184.41550064086914,
          183.87800064086915,
          183.00000076293946,
          181.99100036621093,
          180.97050018310546,
          180.09099960327148,
          179.2859992980957,
          178.58999938964843,
          177.8944999694824,
          177.3370002746582,
          176.775,
          176.34550018310546,
          176.0715003967285,
          175.88899993896484,
          175.23899993896484,
          174.72699966430665,
          174.21149978637695,
          173.56549987792968,
          173.1599998474121,
          172.69649963378907,
          172.21499938964843,
          171.9019989013672,
          171.87849884033204,
          171.8634994506836,
          171.89249954223632,
          171.77849960327148,
          171.62449951171874,
          171.35199966430665,
          171.54749908447266,
          171.72499923706056,
          171.72849960327147,
          171.51149978637696,
          171.1074996948242,
          170.5259994506836,
          170.2074996948242,
          169.8854995727539,
          169.68799896240233,
          169.65349884033202,
          169.48249893188478,
          169.3734992980957,
          169.54699935913087,
          169.62149963378906,
          169.60400009155273,
          169.81449966430665,
          170.50449981689454,
          171.1675003051758,
          171.80400009155272,
          172.5520004272461,
          173.02850112915038,
          173.3535011291504,
          174.03300094604492,
          174.93550033569335,
          176.02150039672853,
          177.1615005493164,
          178.40500030517578,
          179.66500015258788,
          180.93750076293946,
          182.03150024414063,
          182.88100051879883,
          183.91500015258788,
          184.7395004272461,
          185.7375,
          186.83699951171874,
          187.7979995727539,
          188.33049926757812,
          188.96249923706054,
          189.6359992980957,
          190.22299880981444,
          190.83899841308593,
          191.3424980163574,
          192.3859977722168,
          193.66799850463866,
          194.8939987182617,
          196.0264991760254,
          197.3664993286133,
          198.52899932861328,
          199.39549865722657,
          200.22499923706056,
          201.28799896240236,
          202.24249954223632,
          203.40549926757814,
          204.59599990844725,
          205.5625,
          206.7875,
          208.0995002746582,
          209.45950012207032,
          210.98300018310547,
          212.65000076293944,
          214.2395004272461,
          216.23250045776368,
          217.25350112915038,
          218.1270004272461,
          219.1349998474121,
          220.25149993896486,
          220.86200027465821,
          221.35650024414062,
          222.08800048828124,
          222.9115005493164,
          223.75500030517577,
          224.22849960327147,
          224.44049987792968,
          224.63349990844728,
          225.0145004272461,
          225.11700057983398,
          225.20750045776367,
          225.04800033569336,
          224.7240005493164,
          223.7965003967285,
          222.7240005493164,
          221.56600112915038,
          220.85300064086914,
          220.13800125122071,
          219.29450149536132,
          218.61700134277345,
          218.25900115966797,
          218.28600158691407,
          218.37300186157228,
          218.46950149536133,
          218.54450149536132,
          218.9375015258789,
          219.28950119018555,
          219.7335006713867,
          220.18050003051758,
          220.64199981689453,
          220.8625,
          221.43399963378906,
          221.8909996032715,
          222.56599960327148,
          223.24700012207032,
          223.875,
          224.25050048828126,
          224.4840003967285,
          224.61300048828124,
          224.68250045776367,
          224.73500061035156,
          224.6240005493164,
          224.13750076293945,
          223.68250045776367,
          223.3915008544922,
          223.51500091552734
         ]
        },
        {
         "line": {
          "color": "gold"
         },
         "name": "(20, 2) Bollinger Bands",
         "type": "scatter",
         "x": [
          "2023-09-19",
          "2023-09-20",
          "2023-09-21",
          "2023-09-22",
          "2023-09-25",
          "2023-09-26",
          "2023-09-27",
          "2023-09-28",
          "2023-09-29",
          "2023-10-02",
          "2023-10-03",
          "2023-10-04",
          "2023-10-05",
          "2023-10-06",
          "2023-10-09",
          "2023-10-10",
          "2023-10-11",
          "2023-10-12",
          "2023-10-13",
          "2023-10-16",
          "2023-10-17",
          "2023-10-18",
          "2023-10-19",
          "2023-10-20",
          "2023-10-23",
          "2023-10-24",
          "2023-10-25",
          "2023-10-26",
          "2023-10-27",
          "2023-10-30",
          "2023-10-31",
          "2023-11-01",
          "2023-11-02",
          "2023-11-03",
          "2023-11-06",
          "2023-11-07",
          "2023-11-08",
          "2023-11-09",
          "2023-11-10",
          "2023-11-13",
          "2023-11-14",
          "2023-11-15",
          "2023-11-16",
          "2023-11-17",
          "2023-11-20",
          "2023-11-21",
          "2023-11-22",
          "2023-11-24",
          "2023-11-27",
          "2023-11-28",
          "2023-11-29",
          "2023-11-30",
          "2023-12-01",
          "2023-12-04",
          "2023-12-05",
          "2023-12-06",
          "2023-12-07",
          "2023-12-08",
          "2023-12-11",
          "2023-12-12",
          "2023-12-13",
          "2023-12-14",
          "2023-12-15",
          "2023-12-18",
          "2023-12-19",
          "2023-12-20",
          "2023-12-21",
          "2023-12-22",
          "2023-12-26",
          "2023-12-27",
          "2023-12-28",
          "2023-12-29",
          "2024-01-02",
          "2024-01-03",
          "2024-01-04",
          "2024-01-05",
          "2024-01-08",
          "2024-01-09",
          "2024-01-10",
          "2024-01-11",
          "2024-01-12",
          "2024-01-16",
          "2024-01-17",
          "2024-01-18",
          "2024-01-19",
          "2024-01-22",
          "2024-01-23",
          "2024-01-24",
          "2024-01-25",
          "2024-01-26",
          "2024-01-29",
          "2024-01-30",
          "2024-01-31",
          "2024-02-01",
          "2024-02-02",
          "2024-02-05",
          "2024-02-06",
          "2024-02-07",
          "2024-02-08",
          "2024-02-09",
          "2024-02-12",
          "2024-02-13",
          "2024-02-14",
          "2024-02-15",
          "2024-02-16",
          "2024-02-20",
          "2024-02-21",
          "2024-02-22",
          "2024-02-23",
          "2024-02-26",
          "2024-02-27",
          "2024-02-28",
          "2024-02-29",
          "2024-03-01",
          "2024-03-04",
          "2024-03-05",
          "2024-03-06",
          "2024-03-07",
          "2024-03-08",
          "2024-03-11",
          "2024-03-12",
          "2024-03-13",
          "2024-03-14",
          "2024-03-15",
          "2024-03-18",
          "2024-03-19",
          "2024-03-20",
          "2024-03-21",
          "2024-03-22",
          "2024-03-25",
          "2024-03-26",
          "2024-03-27",
          "2024-03-28",
          "2024-04-01",
          "2024-04-02",
          "2024-04-03",
          "2024-04-04",
          "2024-04-05",
          "2024-04-08",
          "2024-04-09",
          "2024-04-10",
          "2024-04-11",
          "2024-04-12",
          "2024-04-15",
          "2024-04-16",
          "2024-04-17",
          "2024-04-18",
          "2024-04-19",
          "2024-04-22",
          "2024-04-23",
          "2024-04-24",
          "2024-04-25",
          "2024-04-26",
          "2024-04-29",
          "2024-04-30",
          "2024-05-01",
          "2024-05-02",
          "2024-05-03",
          "2024-05-06",
          "2024-05-07",
          "2024-05-08",
          "2024-05-09",
          "2024-05-10",
          "2024-05-13",
          "2024-05-14",
          "2024-05-15",
          "2024-05-16",
          "2024-05-17",
          "2024-05-20",
          "2024-05-21",
          "2024-05-22",
          "2024-05-23",
          "2024-05-24",
          "2024-05-28",
          "2024-05-29",
          "2024-05-30",
          "2024-05-31",
          "2024-06-03",
          "2024-06-04",
          "2024-06-05",
          "2024-06-06",
          "2024-06-07",
          "2024-06-10",
          "2024-06-11",
          "2024-06-12",
          "2024-06-13",
          "2024-06-14",
          "2024-06-17",
          "2024-06-18",
          "2024-06-20",
          "2024-06-21",
          "2024-06-24",
          "2024-06-25",
          "2024-06-26",
          "2024-06-27",
          "2024-06-28",
          "2024-07-01",
          "2024-07-02",
          "2024-07-03",
          "2024-07-05",
          "2024-07-08",
          "2024-07-09",
          "2024-07-10",
          "2024-07-11",
          "2024-07-12",
          "2024-07-15",
          "2024-07-16",
          "2024-07-17",
          "2024-07-18",
          "2024-07-19",
          "2024-07-22",
          "2024-07-23",
          "2024-07-24",
          "2024-07-25",
          "2024-07-26",
          "2024-07-29",
          "2024-07-30",
          "2024-07-31",
          "2024-08-01",
          "2024-08-02",
          "2024-08-05",
          "2024-08-06",
          "2024-08-07",
          "2024-08-08",
          "2024-08-09",
          "2024-08-12",
          "2024-08-13",
          "2024-08-14",
          "2024-08-15",
          "2024-08-16",
          "2024-08-19",
          "2024-08-20",
          "2024-08-21",
          "2024-08-22",
          "2024-08-23",
          "2024-08-26",
          "2024-08-27",
          "2024-08-28",
          "2024-08-29",
          "2024-08-30",
          "2024-09-03",
          "2024-09-04",
          "2024-09-05",
          "2024-09-06",
          "2024-09-09",
          "2024-09-10",
          "2024-09-11",
          "2024-09-12",
          "2024-09-13",
          "2024-09-16",
          "2024-09-17",
          "2024-09-18",
          "2024-09-19"
         ],
         "y": [
          179.07000732421875,
          173.70000457763672,
          171.8598583432891,
          171.90790492370363,
          172.36673934581933,
          170.89090251478098,
          169.3106054008297,
          168.54505941874856,
          168.24491123777563,
          168.52795085015765,
          168.5893183003132,
          168.8068412086359,
          169.0441577850832,
          169.08309281636997,
          168.96658210092798,
          169.0297619490309,
          168.96803516007787,
          168.86923812128845,
          169.01923388875215,
          169.1806478820453,
          169.24247549708826,
          169.25788191861713,
          169.37532418999717,
          169.17690481873237,
          168.9400807549378,
          169.1384166392646,
          169.27220964061988,
          168.3214160853361,
          167.71601421783146,
          167.2685631483208,
          167.0482248970081,
          167.07186370998832,
          167.11434680288616,
          167.11766041440487,
          167.1040995818883,
          166.84375873002884,
          166.55102351460698,
          166.39587351910257,
          165.65092609986738,
          165.26998483999188,
          164.69337605254515,
          164.30393319816085,
          163.9385613162048,
          164.07543561953088,
          164.2486533116324,
          164.67386559666176,
          165.63278601288803,
          167.88771643490418,
          170.24701230280562,
          172.46932966379285,
          175.07092466375198,
          177.19268591485164,
          178.61602100138282,
          180.70617697835388,
          182.18913849609493,
          183.30683562365198,
          184.17652159530408,
          185.28825221576753,
          185.80631677300948,
          186.7789381419811,
          186.69700617470886,
          186.73973416779987,
          186.76289537718282,
          187.04916239309648,
          187.09598192957864,
          187.37257705187687,
          187.58747889118405,
          187.99388328113923,
          188.43122802233177,
          188.7896993661108,
          189.44156751466068,
          189.90987856781396,
          188.35578268824915,
          186.92801246621372,
          184.61575721435315,
          182.58415119100312,
          181.72368587227632,
          180.8943923399903,
          180.3122230284868,
          179.70070026636623,
          179.39891664789485,
          178.9356220632879,
          178.46296846530885,
          178.62540305443505,
          179.03247081407517,
          179.11439356602867,
          179.06418798467251,
          178.99326017539016,
          178.918778955747,
          178.95393576809505,
          179.04289604488287,
          179.04718881021955,
          178.9059131004185,
          179.17430292764266,
          179.75438315240837,
          180.70430089301482,
          181.00217500973284,
          181.38461408063722,
          181.58717913367434,
          181.91495208080295,
          182.066998314569,
          182.33408397222604,
          182.66206698434382,
          182.00993080209415,
          181.05641270670725,
          180.2405984268826,
          179.94590772893235,
          180.0912883593326,
          180.13643960944677,
          179.85906172941537,
          179.9432206442149,
          179.51563351273938,
          179.03395807136144,
          178.34824894272154,
          176.62541181485017,
          173.80859042241278,
          171.45522310855472,
          169.58709928310458,
          168.40090695060752,
          167.9061846984057,
          167.5207143868262,
          166.7857641253205,
          166.42252486112815,
          166.1071737372172,
          165.91458456099244,
          165.91868805319055,
          166.06616719150216,
          166.04678212943338,
          166.09005437765742,
          165.9493347483906,
          166.05067786056316,
          166.56536138423454,
          167.0686413401566,
          167.47481092043196,
          167.13849327283071,
          167.0755856959309,
          167.024482994976,
          167.11592517431052,
          166.79216221536,
          166.5778085672648,
          166.0972324593783,
          166.05476740167825,
          165.84051680195057,
          165.84180891744006,
          165.61449704765593,
          165.41420003925674,
          165.7372902430709,
          164.8698189488522,
          164.31485633745297,
          163.9895224686649,
          163.9476229365886,
          164.02564582035617,
          163.99405839223405,
          163.878015440496,
          163.95247631174817,
          163.93327614166947,
          163.96604394462304,
          162.19224248313034,
          161.5965116441736,
          161.0909904321267,
          161.0102811675009,
          160.38130586470243,
          160.04429555346505,
          159.58935544882587,
          159.54307760031776,
          159.70264156907993,
          160.33404013293836,
          161.68079613255225,
          163.1210782677423,
          164.60296317016278,
          166.11061181800582,
          167.85414202285318,
          169.96077844583334,
          171.4095419512591,
          173.97575503510416,
          177.58330710987235,
          180.7502907527927,
          181.0917284246098,
          181.94232718431593,
          182.67914577663535,
          183.72673439230616,
          184.26768605280964,
          185.76800268678647,
          183.92614926810677,
          181.59951947341625,
          180.0225482904038,
          179.5084753368,
          178.83779155914604,
          178.85202343262642,
          179.36020392178892,
          180.29185502337654,
          182.0598416092047,
          183.46444071901243,
          184.9281209117372,
          186.59001369096455,
          188.46493317999133,
          190.17690726028533,
          191.58189666233037,
          193.21738456549832,
          194.41262272053513,
          196.35003216783832,
          198.19894124254537,
          201.31788097273974,
          202.17087761063033,
          202.11952158794568,
          201.7535314159795,
          201.8802763288991,
          202.19824387839702,
          202.8924475610744,
          204.38892326564505,
          206.52170753607268,
          208.82112492936096,
          210.64787799486336,
          211.43167684617447,
          212.1397143870547,
          213.8604105076705,
          214.23420227827313,
          214.45814998435765,
          213.9958979193462,
          213.46441432817898,
          210.78937141551248,
          208.07120229553104,
          206.67955874524802,
          205.81985762360853,
          205.665998210408,
          206.36112014334225,
          207.75382577732222,
          208.34155188289736,
          208.30150558981967,
          208.15252621800812,
          208.00628022335766,
          207.8753499267597,
          207.73238005371815,
          207.84855331406348,
          207.8526240021545,
          207.89229675314297,
          207.91055122238964,
          207.88861985137396,
          207.9542872696108,
          208.0410672115341,
          209.98447535263637,
          212.75938698056635,
          215.35995431313515,
          217.07521364279353,
          218.10710222584456,
          218.7178318465427,
          218.91523014050657,
          219.05815026583213,
          218.86410937593584,
          217.38367353464082,
          216.26839201130224,
          215.98728953014802,
          215.83685595233618
         ]
        },
        {
         "line": {
          "color": "gold"
         },
         "showlegend": false,
         "type": "scatter",
         "x": [
          "2023-09-19",
          "2023-09-20",
          "2023-09-21",
          "2023-09-22",
          "2023-09-25",
          "2023-09-26",
          "2023-09-27",
          "2023-09-28",
          "2023-09-29",
          "2023-10-02",
          "2023-10-03",
          "2023-10-04",
          "2023-10-05",
          "2023-10-06",
          "2023-10-09",
          "2023-10-10",
          "2023-10-11",
          "2023-10-12",
          "2023-10-13",
          "2023-10-16",
          "2023-10-17",
          "2023-10-18",
          "2023-10-19",
          "2023-10-20",
          "2023-10-23",
          "2023-10-24",
          "2023-10-25",
          "2023-10-26",
          "2023-10-27",
          "2023-10-30",
          "2023-10-31",
          "2023-11-01",
          "2023-11-02",
          "2023-11-03",
          "2023-11-06",
          "2023-11-07",
          "2023-11-08",
          "2023-11-09",
          "2023-11-10",
          "2023-11-13",
          "2023-11-14",
          "2023-11-15",
          "2023-11-16",
          "2023-11-17",
          "2023-11-20",
          "2023-11-21",
          "2023-11-22",
          "2023-11-24",
          "2023-11-27",
          "2023-11-28",
          "2023-11-29",
          "2023-11-30",
          "2023-12-01",
          "2023-12-04",
          "2023-12-05",
          "2023-12-06",
          "2023-12-07",
          "2023-12-08",
          "2023-12-11",
          "2023-12-12",
          "2023-12-13",
          "2023-12-14",
          "2023-12-15",
          "2023-12-18",
          "2023-12-19",
          "2023-12-20",
          "2023-12-21",
          "2023-12-22",
          "2023-12-26",
          "2023-12-27",
          "2023-12-28",
          "2023-12-29",
          "2024-01-02",
          "2024-01-03",
          "2024-01-04",
          "2024-01-05",
          "2024-01-08",
          "2024-01-09",
          "2024-01-10",
          "2024-01-11",
          "2024-01-12",
          "2024-01-16",
          "2024-01-17",
          "2024-01-18",
          "2024-01-19",
          "2024-01-22",
          "2024-01-23",
          "2024-01-24",
          "2024-01-25",
          "2024-01-26",
          "2024-01-29",
          "2024-01-30",
          "2024-01-31",
          "2024-02-01",
          "2024-02-02",
          "2024-02-05",
          "2024-02-06",
          "2024-02-07",
          "2024-02-08",
          "2024-02-09",
          "2024-02-12",
          "2024-02-13",
          "2024-02-14",
          "2024-02-15",
          "2024-02-16",
          "2024-02-20",
          "2024-02-21",
          "2024-02-22",
          "2024-02-23",
          "2024-02-26",
          "2024-02-27",
          "2024-02-28",
          "2024-02-29",
          "2024-03-01",
          "2024-03-04",
          "2024-03-05",
          "2024-03-06",
          "2024-03-07",
          "2024-03-08",
          "2024-03-11",
          "2024-03-12",
          "2024-03-13",
          "2024-03-14",
          "2024-03-15",
          "2024-03-18",
          "2024-03-19",
          "2024-03-20",
          "2024-03-21",
          "2024-03-22",
          "2024-03-25",
          "2024-03-26",
          "2024-03-27",
          "2024-03-28",
          "2024-04-01",
          "2024-04-02",
          "2024-04-03",
          "2024-04-04",
          "2024-04-05",
          "2024-04-08",
          "2024-04-09",
          "2024-04-10",
          "2024-04-11",
          "2024-04-12",
          "2024-04-15",
          "2024-04-16",
          "2024-04-17",
          "2024-04-18",
          "2024-04-19",
          "2024-04-22",
          "2024-04-23",
          "2024-04-24",
          "2024-04-25",
          "2024-04-26",
          "2024-04-29",
          "2024-04-30",
          "2024-05-01",
          "2024-05-02",
          "2024-05-03",
          "2024-05-06",
          "2024-05-07",
          "2024-05-08",
          "2024-05-09",
          "2024-05-10",
          "2024-05-13",
          "2024-05-14",
          "2024-05-15",
          "2024-05-16",
          "2024-05-17",
          "2024-05-20",
          "2024-05-21",
          "2024-05-22",
          "2024-05-23",
          "2024-05-24",
          "2024-05-28",
          "2024-05-29",
          "2024-05-30",
          "2024-05-31",
          "2024-06-03",
          "2024-06-04",
          "2024-06-05",
          "2024-06-06",
          "2024-06-07",
          "2024-06-10",
          "2024-06-11",
          "2024-06-12",
          "2024-06-13",
          "2024-06-14",
          "2024-06-17",
          "2024-06-18",
          "2024-06-20",
          "2024-06-21",
          "2024-06-24",
          "2024-06-25",
          "2024-06-26",
          "2024-06-27",
          "2024-06-28",
          "2024-07-01",
          "2024-07-02",
          "2024-07-03",
          "2024-07-05",
          "2024-07-08",
          "2024-07-09",
          "2024-07-10",
          "2024-07-11",
          "2024-07-12",
          "2024-07-15",
          "2024-07-16",
          "2024-07-17",
          "2024-07-18",
          "2024-07-19",
          "2024-07-22",
          "2024-07-23",
          "2024-07-24",
          "2024-07-25",
          "2024-07-26",
          "2024-07-29",
          "2024-07-30",
          "2024-07-31",
          "2024-08-01",
          "2024-08-02",
          "2024-08-05",
          "2024-08-06",
          "2024-08-07",
          "2024-08-08",
          "2024-08-09",
          "2024-08-12",
          "2024-08-13",
          "2024-08-14",
          "2024-08-15",
          "2024-08-16",
          "2024-08-19",
          "2024-08-20",
          "2024-08-21",
          "2024-08-22",
          "2024-08-23",
          "2024-08-26",
          "2024-08-27",
          "2024-08-28",
          "2024-08-29",
          "2024-08-30",
          "2024-09-03",
          "2024-09-04",
          "2024-09-05",
          "2024-09-06",
          "2024-09-09",
          "2024-09-10",
          "2024-09-11",
          "2024-09-12",
          "2024-09-13",
          "2024-09-16",
          "2024-09-17",
          "2024-09-18",
          "2024-09-19"
         ],
         "y": [
          179.07000732421875,
          180.8600082397461,
          180.46681198548697,
          179.7320944659448,
          179.3772608983213,
          179.54909992662527,
          179.76082317059885,
          179.564941191603,
          179.23286857450734,
          178.952050980897,
          178.64704589091548,
          178.43649324367533,
          178.39738227275933,
          178.89690945065013,
          179.68008741404597,
          180.12524064496324,
          180.8013794050646,
          181.54743193622022,
          181.78076996609983,
          181.9513559021344,
          181.69752694431799,
          181.71711960726176,
          181.75267873969034,
          181.7600992706231,
          181.68892315131217,
          181.6385868397393,
          181.57179518115746,
          182.14258843126547,
          182.4489897494537,
          182.55044014757763,
          182.60777943648796,
          182.61514037936715,
          182.83865765268027,
          182.75134288149357,
          182.78890273744764,
          183.39224438276412,
          183.99397923197506,
          184.31912892230366,
          185.81907512083575,
          186.8080165638167,
          188.41362620575563,
          190.02006887703448,
          191.81044075899052,
          193.35456621152383,
          195.0263482142465,
          196.32113562404135,
          197.38321435332293,
          197.43628411441222,
          197.23398745305377,
          197.02267015310167,
          196.28107423761523,
          195.75731255926948,
          195.70097728963282,
          194.88882119059144,
          194.824859916991,
          194.75716278943395,
          195.0254773060631,
          195.24374699077546,
          195.40368231146317,
          195.4220613087025,
          196.55599370322085,
          197.52326632048138,
          198.2861051721336,
          198.61983785104417,
          199.12201886387837,
          199.26442398572078,
          199.38652165813238,
          199.3431177564584,
          199.2317739918284,
          199.14830264804934,
          198.91743517088622,
          198.70712430083836,
          199.70121957005162,
          200.61099052450896,
          201.7722463256859,
          202.6898508841922,
          202.6793155315323,
          202.45160833139641,
          202.33477861946238,
          202.03430034398534,
          201.13208310796455,
          200.14737811981757,
          199.13103025295288,
          198.24259621314306,
          197.29752796522172,
          197.12160496912756,
          197.22181055048372,
          197.3827377494145,
          197.5692184807764,
          197.4610620956745,
          197.18710120853513,
          196.733807893882,
          196.75108305436663,
          196.74369328817767,
          196.55761330755257,
          196.2576955669461,
          196.33382199954448,
          196.37838335588623,
          196.38881879113035,
          196.38704682056425,
          196.3580001595521,
          196.23191334222707,
          196.0509304521796,
          196.2260662071832,
          196.2545843025701,
          195.8373983992893,
          194.84609056208325,
          193.68770944340176,
          192.47755880363917,
          191.62893723298697,
          190.6347792337148,
          190.40036685347155,
          190.51704290520104,
          190.48275233901674,
          191.13058946688813,
          192.19141110346615,
          192.52677762386713,
          192.35390108310634,
          191.78109225593545,
          190.6658138977857,
          189.65928439247065,
          189.00323581364432,
          188.25147568818826,
          187.4428262627828,
          186.77641580521848,
          186.22431274026647,
          185.71183268642753,
          184.4312177484963,
          183.36394495095587,
          182.47366482436328,
          181.0803218952962,
          179.75463831058968,
          178.32435792742154,
          176.9551878588649,
          176.66550452990367,
          176.6814119847332,
          176.7025159063912,
          176.66907391016213,
          176.76483699118296,
          176.67119045617267,
          176.606766869235,
          177.04023076726708,
          177.60948167217055,
          177.61519028910288,
          177.408502525098,
          176.80079935039169,
          175.3147086582963,
          175.5451804407962,
          175.45614280805484,
          175.38647545613978,
          175.35937474407544,
          174.93935204341338,
          174.75294020395737,
          175.21598327776573,
          175.29052295582994,
          175.274724041436,
          175.66295538399027,
          178.81675715065873,
          180.73848896617798,
          182.51700975097876,
          184.0937196869913,
          185.67569639359834,
          186.66270670483576,
          188.47664644326397,
          190.32792307106894,
          192.34035922437712,
          193.98896096569445,
          195.1292044777993,
          196.20892203743347,
          197.27203835571615,
          197.95238867027544,
          197.90785901474447,
          197.86922185934242,
          198.0694589032331,
          197.49924496489587,
          196.09069191356514,
          194.8457083927151,
          195.56927011054643,
          195.98267128980515,
          196.59285281955604,
          196.71926322732273,
          197.41031077336223,
          196.91699334592835,
          200.84584627632682,
          205.73647753586107,
          209.76544914611964,
          212.5445230152508,
          215.89520709808053,
          218.20597522460014,
          219.4307933926642,
          220.15814345074457,
          220.5161563156,
          221.0205583654602,
          221.88287762341906,
          222.60198612592995,
          222.66006682000867,
          223.39809273971466,
          224.61710388698603,
          225.70161567864233,
          227.55337764567582,
          228.94996935804056,
          230.28005961194683,
          231.1471199427876,
          232.33612464767043,
          234.1344792665465,
          236.5164682788447,
          238.6227235490306,
          239.5257566709194,
          239.82055292720685,
          239.78707771091743,
          239.30129356256012,
          238.68887568099058,
          237.80912121167958,
          237.4493229096849,
          237.12728542983984,
          236.1685903468217,
          235.99979888139484,
          235.9568509311697,
          236.10010275204053,
          235.98358677045383,
          236.80362937794453,
          237.37679880310176,
          236.45244351305274,
          235.88614365812975,
          234.61000429203344,
          232.22788284738039,
          229.48017690822468,
          228.17645043643859,
          228.27049758400847,
          228.59347750513643,
          228.932722767365,
          229.21365306396294,
          230.14262299803966,
          230.7304490663076,
          231.61437734061892,
          232.46870330789218,
          233.3734484113994,
          233.83638014862606,
          234.9137119979673,
          235.74093199500888,
          235.1475238539066,
          233.7346132635743,
          232.39004568686485,
          231.425787333769,
          230.86089856761245,
          230.50816913001978,
          230.44977077502077,
          230.411850954871,
          230.38389172269697,
          230.8913279912381,
          231.0966089042251,
          230.79571217883637,
          231.1931458787185
         ]
        }
       ],
       "layout": {
        "height": 800,
        "template": {
         "data": {
          "bar": [
           {
            "error_x": {
             "color": "#f2f5fa"
            },
            "error_y": {
             "color": "#f2f5fa"
            },
            "marker": {
             "line": {
              "color": "rgb(17,17,17)",
              "width": 0.5
             },
             "pattern": {
              "fillmode": "overlay",
              "size": 10,
              "solidity": 0.2
             }
            },
            "type": "bar"
           }
          ],
          "barpolar": [
           {
            "marker": {
             "line": {
              "color": "rgb(17,17,17)",
              "width": 0.5
             },
             "pattern": {
              "fillmode": "overlay",
              "size": 10,
              "solidity": 0.2
             }
            },
            "type": "barpolar"
           }
          ],
          "carpet": [
           {
            "aaxis": {
             "endlinecolor": "#A2B1C6",
             "gridcolor": "#506784",
             "linecolor": "#506784",
             "minorgridcolor": "#506784",
             "startlinecolor": "#A2B1C6"
            },
            "baxis": {
             "endlinecolor": "#A2B1C6",
             "gridcolor": "#506784",
             "linecolor": "#506784",
             "minorgridcolor": "#506784",
             "startlinecolor": "#A2B1C6"
            },
            "type": "carpet"
           }
          ],
          "choropleth": [
           {
            "colorbar": {
             "outlinewidth": 0,
             "ticks": ""
            },
            "type": "choropleth"
           }
          ],
          "contour": [
           {
            "colorbar": {
             "outlinewidth": 0,
             "ticks": ""
            },
            "colorscale": [
             [
              0,
              "#0d0887"
             ],
             [
              0.1111111111111111,
              "#46039f"
             ],
             [
              0.2222222222222222,
              "#7201a8"
             ],
             [
              0.3333333333333333,
              "#9c179e"
             ],
             [
              0.4444444444444444,
              "#bd3786"
             ],
             [
              0.5555555555555556,
              "#d8576b"
             ],
             [
              0.6666666666666666,
              "#ed7953"
             ],
             [
              0.7777777777777778,
              "#fb9f3a"
             ],
             [
              0.8888888888888888,
              "#fdca26"
             ],
             [
              1,
              "#f0f921"
             ]
            ],
            "type": "contour"
           }
          ],
          "contourcarpet": [
           {
            "colorbar": {
             "outlinewidth": 0,
             "ticks": ""
            },
            "type": "contourcarpet"
           }
          ],
          "heatmap": [
           {
            "colorbar": {
             "outlinewidth": 0,
             "ticks": ""
            },
            "colorscale": [
             [
              0,
              "#0d0887"
             ],
             [
              0.1111111111111111,
              "#46039f"
             ],
             [
              0.2222222222222222,
              "#7201a8"
             ],
             [
              0.3333333333333333,
              "#9c179e"
             ],
             [
              0.4444444444444444,
              "#bd3786"
             ],
             [
              0.5555555555555556,
              "#d8576b"
             ],
             [
              0.6666666666666666,
              "#ed7953"
             ],
             [
              0.7777777777777778,
              "#fb9f3a"
             ],
             [
              0.8888888888888888,
              "#fdca26"
             ],
             [
              1,
              "#f0f921"
             ]
            ],
            "type": "heatmap"
           }
          ],
          "heatmapgl": [
           {
            "colorbar": {
             "outlinewidth": 0,
             "ticks": ""
            },
            "colorscale": [
             [
              0,
              "#0d0887"
             ],
             [
              0.1111111111111111,
              "#46039f"
             ],
             [
              0.2222222222222222,
              "#7201a8"
             ],
             [
              0.3333333333333333,
              "#9c179e"
             ],
             [
              0.4444444444444444,
              "#bd3786"
             ],
             [
              0.5555555555555556,
              "#d8576b"
             ],
             [
              0.6666666666666666,
              "#ed7953"
             ],
             [
              0.7777777777777778,
              "#fb9f3a"
             ],
             [
              0.8888888888888888,
              "#fdca26"
             ],
             [
              1,
              "#f0f921"
             ]
            ],
            "type": "heatmapgl"
           }
          ],
          "histogram": [
           {
            "marker": {
             "pattern": {
              "fillmode": "overlay",
              "size": 10,
              "solidity": 0.2
             }
            },
            "type": "histogram"
           }
          ],
          "histogram2d": [
           {
            "colorbar": {
             "outlinewidth": 0,
             "ticks": ""
            },
            "colorscale": [
             [
              0,
              "#0d0887"
             ],
             [
              0.1111111111111111,
              "#46039f"
             ],
             [
              0.2222222222222222,
              "#7201a8"
             ],
             [
              0.3333333333333333,
              "#9c179e"
             ],
             [
              0.4444444444444444,
              "#bd3786"
             ],
             [
              0.5555555555555556,
              "#d8576b"
             ],
             [
              0.6666666666666666,
              "#ed7953"
             ],
             [
              0.7777777777777778,
              "#fb9f3a"
             ],
             [
              0.8888888888888888,
              "#fdca26"
             ],
             [
              1,
              "#f0f921"
             ]
            ],
            "type": "histogram2d"
           }
          ],
          "histogram2dcontour": [
           {
            "colorbar": {
             "outlinewidth": 0,
             "ticks": ""
            },
            "colorscale": [
             [
              0,
              "#0d0887"
             ],
             [
              0.1111111111111111,
              "#46039f"
             ],
             [
              0.2222222222222222,
              "#7201a8"
             ],
             [
              0.3333333333333333,
              "#9c179e"
             ],
             [
              0.4444444444444444,
              "#bd3786"
             ],
             [
              0.5555555555555556,
              "#d8576b"
             ],
             [
              0.6666666666666666,
              "#ed7953"
             ],
             [
              0.7777777777777778,
              "#fb9f3a"
             ],
             [
              0.8888888888888888,
              "#fdca26"
             ],
             [
              1,
              "#f0f921"
             ]
            ],
            "type": "histogram2dcontour"
           }
          ],
          "mesh3d": [
           {
            "colorbar": {
             "outlinewidth": 0,
             "ticks": ""
            },
            "type": "mesh3d"
           }
          ],
          "parcoords": [
           {
            "line": {
             "colorbar": {
              "outlinewidth": 0,
              "ticks": ""
             }
            },
            "type": "parcoords"
           }
          ],
          "pie": [
           {
            "automargin": true,
            "type": "pie"
           }
          ],
          "scatter": [
           {
            "marker": {
             "line": {
              "color": "#283442"
             }
            },
            "type": "scatter"
           }
          ],
          "scatter3d": [
           {
            "line": {
             "colorbar": {
              "outlinewidth": 0,
              "ticks": ""
             }
            },
            "marker": {
             "colorbar": {
              "outlinewidth": 0,
              "ticks": ""
             }
            },
            "type": "scatter3d"
           }
          ],
          "scattercarpet": [
           {
            "marker": {
             "colorbar": {
              "outlinewidth": 0,
              "ticks": ""
             }
            },
            "type": "scattercarpet"
           }
          ],
          "scattergeo": [
           {
            "marker": {
             "colorbar": {
              "outlinewidth": 0,
              "ticks": ""
             }
            },
            "type": "scattergeo"
           }
          ],
          "scattergl": [
           {
            "marker": {
             "line": {
              "color": "#283442"
             }
            },
            "type": "scattergl"
           }
          ],
          "scattermapbox": [
           {
            "marker": {
             "colorbar": {
              "outlinewidth": 0,
              "ticks": ""
             }
            },
            "type": "scattermapbox"
           }
          ],
          "scatterpolar": [
           {
            "marker": {
             "colorbar": {
              "outlinewidth": 0,
              "ticks": ""
             }
            },
            "type": "scatterpolar"
           }
          ],
          "scatterpolargl": [
           {
            "marker": {
             "colorbar": {
              "outlinewidth": 0,
              "ticks": ""
             }
            },
            "type": "scatterpolargl"
           }
          ],
          "scatterternary": [
           {
            "marker": {
             "colorbar": {
              "outlinewidth": 0,
              "ticks": ""
             }
            },
            "type": "scatterternary"
           }
          ],
          "surface": [
           {
            "colorbar": {
             "outlinewidth": 0,
             "ticks": ""
            },
            "colorscale": [
             [
              0,
              "#0d0887"
             ],
             [
              0.1111111111111111,
              "#46039f"
             ],
             [
              0.2222222222222222,
              "#7201a8"
             ],
             [
              0.3333333333333333,
              "#9c179e"
             ],
             [
              0.4444444444444444,
              "#bd3786"
             ],
             [
              0.5555555555555556,
              "#d8576b"
             ],
             [
              0.6666666666666666,
              "#ed7953"
             ],
             [
              0.7777777777777778,
              "#fb9f3a"
             ],
             [
              0.8888888888888888,
              "#fdca26"
             ],
             [
              1,
              "#f0f921"
             ]
            ],
            "type": "surface"
           }
          ],
          "table": [
           {
            "cells": {
             "fill": {
              "color": "#506784"
             },
             "line": {
              "color": "rgb(17,17,17)"
             }
            },
            "header": {
             "fill": {
              "color": "#2a3f5f"
             },
             "line": {
              "color": "rgb(17,17,17)"
             }
            },
            "type": "table"
           }
          ]
         },
         "layout": {
          "annotationdefaults": {
           "arrowcolor": "#f2f5fa",
           "arrowhead": 0,
           "arrowwidth": 1
          },
          "autotypenumbers": "strict",
          "coloraxis": {
           "colorbar": {
            "outlinewidth": 0,
            "ticks": ""
           }
          },
          "colorscale": {
           "diverging": [
            [
             0,
             "#8e0152"
            ],
            [
             0.1,
             "#c51b7d"
            ],
            [
             0.2,
             "#de77ae"
            ],
            [
             0.3,
             "#f1b6da"
            ],
            [
             0.4,
             "#fde0ef"
            ],
            [
             0.5,
             "#f7f7f7"
            ],
            [
             0.6,
             "#e6f5d0"
            ],
            [
             0.7,
             "#b8e186"
            ],
            [
             0.8,
             "#7fbc41"
            ],
            [
             0.9,
             "#4d9221"
            ],
            [
             1,
             "#276419"
            ]
           ],
           "sequential": [
            [
             0,
             "#0d0887"
            ],
            [
             0.1111111111111111,
             "#46039f"
            ],
            [
             0.2222222222222222,
             "#7201a8"
            ],
            [
             0.3333333333333333,
             "#9c179e"
            ],
            [
             0.4444444444444444,
             "#bd3786"
            ],
            [
             0.5555555555555556,
             "#d8576b"
            ],
            [
             0.6666666666666666,
             "#ed7953"
            ],
            [
             0.7777777777777778,
             "#fb9f3a"
            ],
            [
             0.8888888888888888,
             "#fdca26"
            ],
            [
             1,
             "#f0f921"
            ]
           ],
           "sequentialminus": [
            [
             0,
             "#0d0887"
            ],
            [
             0.1111111111111111,
             "#46039f"
            ],
            [
             0.2222222222222222,
             "#7201a8"
            ],
            [
             0.3333333333333333,
             "#9c179e"
            ],
            [
             0.4444444444444444,
             "#bd3786"
            ],
            [
             0.5555555555555556,
             "#d8576b"
            ],
            [
             0.6666666666666666,
             "#ed7953"
            ],
            [
             0.7777777777777778,
             "#fb9f3a"
            ],
            [
             0.8888888888888888,
             "#fdca26"
            ],
            [
             1,
             "#f0f921"
            ]
           ]
          },
          "colorway": [
           "#636efa",
           "#EF553B",
           "#00cc96",
           "#ab63fa",
           "#FFA15A",
           "#19d3f3",
           "#FF6692",
           "#B6E880",
           "#FF97FF",
           "#FECB52"
          ],
          "font": {
           "color": "#f2f5fa"
          },
          "geo": {
           "bgcolor": "rgb(17,17,17)",
           "lakecolor": "rgb(17,17,17)",
           "landcolor": "rgb(17,17,17)",
           "showlakes": true,
           "showland": true,
           "subunitcolor": "#506784"
          },
          "hoverlabel": {
           "align": "left"
          },
          "hovermode": "closest",
          "mapbox": {
           "style": "dark"
          },
          "paper_bgcolor": "rgb(17,17,17)",
          "plot_bgcolor": "rgb(17,17,17)",
          "polar": {
           "angularaxis": {
            "gridcolor": "#506784",
            "linecolor": "#506784",
            "ticks": ""
           },
           "bgcolor": "rgb(17,17,17)",
           "radialaxis": {
            "gridcolor": "#506784",
            "linecolor": "#506784",
            "ticks": ""
           }
          },
          "scene": {
           "xaxis": {
            "backgroundcolor": "rgb(17,17,17)",
            "gridcolor": "#506784",
            "gridwidth": 2,
            "linecolor": "#506784",
            "showbackground": true,
            "ticks": "",
            "zerolinecolor": "#C8D4E3"
           },
           "yaxis": {
            "backgroundcolor": "rgb(17,17,17)",
            "gridcolor": "#506784",
            "gridwidth": 2,
            "linecolor": "#506784",
            "showbackground": true,
            "ticks": "",
            "zerolinecolor": "#C8D4E3"
           },
           "zaxis": {
            "backgroundcolor": "rgb(17,17,17)",
            "gridcolor": "#506784",
            "gridwidth": 2,
            "linecolor": "#506784",
            "showbackground": true,
            "ticks": "",
            "zerolinecolor": "#C8D4E3"
           }
          },
          "shapedefaults": {
           "line": {
            "color": "#f2f5fa"
           }
          },
          "sliderdefaults": {
           "bgcolor": "#C8D4E3",
           "bordercolor": "rgb(17,17,17)",
           "borderwidth": 1,
           "tickwidth": 0
          },
          "ternary": {
           "aaxis": {
            "gridcolor": "#506784",
            "linecolor": "#506784",
            "ticks": ""
           },
           "baxis": {
            "gridcolor": "#506784",
            "linecolor": "#506784",
            "ticks": ""
           },
           "bgcolor": "rgb(17,17,17)",
           "caxis": {
            "gridcolor": "#506784",
            "linecolor": "#506784",
            "ticks": ""
           }
          },
          "title": {
           "x": 0.05
          },
          "updatemenudefaults": {
           "bgcolor": "#506784",
           "borderwidth": 0
          },
          "xaxis": {
           "automargin": true,
           "gridcolor": "#283442",
           "linecolor": "#506784",
           "ticks": "",
           "title": {
            "standoff": 15
           },
           "zerolinecolor": "#283442",
           "zerolinewidth": 2
          },
          "yaxis": {
           "automargin": true,
           "gridcolor": "#283442",
           "linecolor": "#506784",
           "ticks": "",
           "title": {
            "standoff": 15
           },
           "zerolinecolor": "#283442",
           "zerolinewidth": 2
          }
         }
        },
        "title": {
         "font": {
          "size": 32
         },
         "text": "AAPL Prices - Hollow Candles",
         "x": 0.45,
         "xanchor": "center",
         "y": 0.95,
         "yanchor": "top"
        },
        "width": 1600,
        "xaxis": {
         "anchor": "y",
         "domain": [
          0,
          1
         ],
         "nticks": 36,
         "rangeslider": {
          "visible": false
         },
         "tickangle": -90,
         "tickformat": "%Y-%m-%d",
         "type": "category"
        },
        "yaxis": {
         "anchor": "x",
         "domain": [
          0,
          1
         ],
         "title": {
          "text": "Price"
         }
        }
       }
      }
     },
     "metadata": {},
     "output_type": "display_data"
    }
   ],
   "source": [
    "fig = make_subplots(\n",
    "    rows = 1,\n",
    "    cols = 1\n",
    ")\n",
    "ohlc = data.copy()\n",
    "df = ohlc\n",
    "\n",
    "df_10d_sma = ohlc['Close'].rolling(window=10, min_periods=1).mean()\n",
    "df_20d_sma = ohlc['Close'].rolling(window=20, min_periods=1).mean()\n",
    "df_30d_sma = ohlc['Close'].rolling(window=30, min_periods=1).mean()\n",
    "\n",
    "ohlc['Date'] = ohlc.index.astype(str)\n",
    "\n",
    "ohlc['previousClose'] = ohlc['Close'].shift(1)\n",
    "\n",
    "# Define color based on close and previous close\n",
    "ohlc['color'] = np.where(ohlc['Close'] > ohlc['previousClose'], 'green', 'red')\n",
    "\n",
    "# Set fill to transparent if close > open and the previously defined color otherwise\n",
    "ohlc['fill'] = np.where(ohlc['Close'] > ohlc['Open'], 'rgba(255, 0, 0, 0)', ohlc['color'])\n",
    "\n",
    "\n",
    "shown_red_fill = False\n",
    "shown_red_hollow = False\n",
    "shown_green_fill = False\n",
    "shown_green_hollow = False\n",
    "\n",
    "for index, row in ohlc.iterrows():\n",
    "    \n",
    "    if (row['color'] == 'green') & (row['fill'] == 'green'):\n",
    "        name = 'Open > Close > Prev Close'\n",
    "        current_candle = 'green_fill'\n",
    "    elif (row['color'] == 'green') & (row['fill'] == 'rgba(255, 0, 0, 0)'):\n",
    "        name = 'Prev Close < Close > Open'\n",
    "        current_candle = 'green_hollow'\n",
    "    elif (row['color'] == 'red') & (row['fill'] == 'red'):\n",
    "        name = 'Open > Close < Prev Close'\n",
    "        current_candle = 'red_fill'\n",
    "    elif (row['color'] == 'red') & (row['fill'] == 'rgba(255, 0, 0, 0)'):\n",
    "        name = 'Prev Close > Close > Open'\n",
    "        current_candle = 'red_hollow'\n",
    "    else:\n",
    "        name = 'Hollow Candles'\n",
    "            \n",
    "    # print(f'{str(index.date())}, {row[\"color\"]}, {row[\"fill\"]}, {current_candle}, {name}')\n",
    "\n",
    "    if ~shown_green_fill & (current_candle == 'green_fill'):\n",
    "        showlegend = True\n",
    "        shown_green_fill = True\n",
    "    elif ~shown_green_hollow & (current_candle == 'green_hollow'):\n",
    "        showlegend = True\n",
    "        shown_green_hollow = True\n",
    "    elif ~shown_red_fill & (current_candle == 'red_fill'):\n",
    "        showlegend = True\n",
    "        shown_red_fill = True\n",
    "    elif ~shown_red_hollow & (current_candle == 'red_hollow'):\n",
    "        showlegend = True\n",
    "        shown_red_hollow = True\n",
    "    else:\n",
    "        showlegend = False\n",
    "\n",
    "    color_dict = dict(fillcolor=row['fill'], line=dict(color=row['color']))\n",
    "    \n",
    "    fig.add_trace(\n",
    "        go.Candlestick(\n",
    "            x = [row['Date']],\n",
    "            open = [row['Open']],\n",
    "            high = [row['High']],\n",
    "            low = [row['Low']],\n",
    "            close = [row['Close']],\n",
    "            increasing = color_dict,\n",
    "            decreasing = color_dict,\n",
    "            showlegend = showlegend,\n",
    "            name = name,\n",
    "            legendgroup = 'Hollow Candlesticks'\n",
    "        )\n",
    "    )\n",
    "\n",
    "fig.add_trace(\n",
    "    go.Scatter(\n",
    "        x = ohlc['Date'],\n",
    "        y = df_20d_sma,\n",
    "        line = {'color': 'lemonchiffon'},  # or 'palegoldenrod' - slightly darker\n",
    "        name = 'SMA 20'\n",
    "    )\n",
    ")\n",
    "\n",
    "# Add Bollinger bands\n",
    "upper_bollinger_close = bollinger_bands(df['Close'])['upper']\n",
    "lower_bollinger_close = bollinger_bands(df['Close'])['lower']\n",
    "fig.add_trace(\n",
    "    go.Scatter(\n",
    "        x = df['Date'],\n",
    "        y = lower_bollinger_close,\n",
    "        line = dict(color='gold'),\n",
    "        # name = '2-SD Bollinger Bands'\n",
    "        name = '(20, 2) Bollinger Bands'\n",
    "    )\n",
    ")\n",
    "fig.add_trace(\n",
    "    go.Scatter(\n",
    "        x = df['Date'],\n",
    "        y = upper_bollinger_close,\n",
    "        line = dict(color='gold'),\n",
    "        showlegend = False\n",
    "    )\n",
    ")\n",
    "\"\"\"\n",
    "fig.add_trace(\n",
    "    go.Scatter(\n",
    "        x = ohlc['Date'],\n",
    "        y = df_30d_sma,\n",
    "        line = {'color': 'palegoldenrod'},  # or 'khaki' - slightly darker\n",
    "        name = '30-Day SMA'\n",
    "    )\n",
    ")\n",
    "\"\"\"\n",
    "\n",
    "fig.update_layout(\n",
    "    width = 1600,\n",
    "    height = 800,\n",
    "    xaxis_rangeslider_visible = False,\n",
    "    template = 'plotly_dark',\n",
    "    yaxis_title = f'Price',\n",
    "    title = dict(\n",
    "        text = f'{tk} Prices - Hollow Candles',\n",
    "        font_size = 32,\n",
    "        y = 0.95,\n",
    "        x = 0.45,\n",
    "        xanchor = 'center',\n",
    "        yanchor = 'top'\n",
    "    )\n",
    ")\n",
    "fig.update_xaxes(\n",
    "    nticks = 36,\n",
    "    tickformat = '%Y-%m-%d',\n",
    "    type = 'category',\n",
    "    tickangle = -90\n",
    ")\n",
    "\n",
    "fig.show()"
   ]
  },
  {
   "cell_type": "code",
   "execution_count": 11,
   "metadata": {},
   "outputs": [
    {
     "data": {
      "text/html": [
       "<div>\n",
       "<style scoped>\n",
       "    .dataframe tbody tr th:only-of-type {\n",
       "        vertical-align: middle;\n",
       "    }\n",
       "\n",
       "    .dataframe tbody tr th {\n",
       "        vertical-align: top;\n",
       "    }\n",
       "\n",
       "    .dataframe thead th {\n",
       "        text-align: right;\n",
       "    }\n",
       "</style>\n",
       "<table border=\"1\" class=\"dataframe\">\n",
       "  <thead>\n",
       "    <tr style=\"text-align: right;\">\n",
       "      <th></th>\n",
       "      <th>Open</th>\n",
       "      <th>High</th>\n",
       "      <th>Low</th>\n",
       "      <th>Close</th>\n",
       "      <th>Adj Close</th>\n",
       "      <th>Volume</th>\n",
       "    </tr>\n",
       "    <tr>\n",
       "      <th>Date</th>\n",
       "      <th></th>\n",
       "      <th></th>\n",
       "      <th></th>\n",
       "      <th></th>\n",
       "      <th></th>\n",
       "      <th></th>\n",
       "    </tr>\n",
       "  </thead>\n",
       "  <tbody>\n",
       "    <tr>\n",
       "      <th>2023-09-19</th>\n",
       "      <td>177.520004</td>\n",
       "      <td>179.630005</td>\n",
       "      <td>177.130005</td>\n",
       "      <td>179.070007</td>\n",
       "      <td>178.158356</td>\n",
       "      <td>51826900</td>\n",
       "    </tr>\n",
       "    <tr>\n",
       "      <th>2023-09-20</th>\n",
       "      <td>179.259995</td>\n",
       "      <td>179.699997</td>\n",
       "      <td>175.399994</td>\n",
       "      <td>175.490005</td>\n",
       "      <td>174.596573</td>\n",
       "      <td>58436200</td>\n",
       "    </tr>\n",
       "    <tr>\n",
       "      <th>2023-09-21</th>\n",
       "      <td>174.550003</td>\n",
       "      <td>176.300003</td>\n",
       "      <td>173.860001</td>\n",
       "      <td>173.929993</td>\n",
       "      <td>173.044495</td>\n",
       "      <td>63047900</td>\n",
       "    </tr>\n",
       "    <tr>\n",
       "      <th>2023-09-22</th>\n",
       "      <td>174.669998</td>\n",
       "      <td>177.080002</td>\n",
       "      <td>174.050003</td>\n",
       "      <td>174.789993</td>\n",
       "      <td>173.900131</td>\n",
       "      <td>56725400</td>\n",
       "    </tr>\n",
       "    <tr>\n",
       "      <th>2023-09-25</th>\n",
       "      <td>174.199997</td>\n",
       "      <td>176.970001</td>\n",
       "      <td>174.149994</td>\n",
       "      <td>176.080002</td>\n",
       "      <td>175.183578</td>\n",
       "      <td>46172700</td>\n",
       "    </tr>\n",
       "    <tr>\n",
       "      <th>...</th>\n",
       "      <td>...</td>\n",
       "      <td>...</td>\n",
       "      <td>...</td>\n",
       "      <td>...</td>\n",
       "      <td>...</td>\n",
       "      <td>...</td>\n",
       "    </tr>\n",
       "    <tr>\n",
       "      <th>2024-09-13</th>\n",
       "      <td>223.580002</td>\n",
       "      <td>224.039993</td>\n",
       "      <td>221.910004</td>\n",
       "      <td>222.500000</td>\n",
       "      <td>222.500000</td>\n",
       "      <td>36766600</td>\n",
       "    </tr>\n",
       "    <tr>\n",
       "      <th>2024-09-16</th>\n",
       "      <td>216.539993</td>\n",
       "      <td>217.220001</td>\n",
       "      <td>213.919998</td>\n",
       "      <td>216.320007</td>\n",
       "      <td>216.320007</td>\n",
       "      <td>59357400</td>\n",
       "    </tr>\n",
       "    <tr>\n",
       "      <th>2024-09-17</th>\n",
       "      <td>215.750000</td>\n",
       "      <td>216.899994</td>\n",
       "      <td>214.500000</td>\n",
       "      <td>216.789993</td>\n",
       "      <td>216.789993</td>\n",
       "      <td>45519300</td>\n",
       "    </tr>\n",
       "    <tr>\n",
       "      <th>2024-09-18</th>\n",
       "      <td>217.550003</td>\n",
       "      <td>222.710007</td>\n",
       "      <td>217.539993</td>\n",
       "      <td>220.690002</td>\n",
       "      <td>220.690002</td>\n",
       "      <td>59894900</td>\n",
       "    </tr>\n",
       "    <tr>\n",
       "      <th>2024-09-19</th>\n",
       "      <td>225.139999</td>\n",
       "      <td>229.820007</td>\n",
       "      <td>224.639999</td>\n",
       "      <td>228.869995</td>\n",
       "      <td>228.869995</td>\n",
       "      <td>66307649</td>\n",
       "    </tr>\n",
       "  </tbody>\n",
       "</table>\n",
       "<p>253 rows × 6 columns</p>\n",
       "</div>"
      ],
      "text/plain": [
       "                  Open        High         Low       Close   Adj Close  \\\n",
       "Date                                                                     \n",
       "2023-09-19  177.520004  179.630005  177.130005  179.070007  178.158356   \n",
       "2023-09-20  179.259995  179.699997  175.399994  175.490005  174.596573   \n",
       "2023-09-21  174.550003  176.300003  173.860001  173.929993  173.044495   \n",
       "2023-09-22  174.669998  177.080002  174.050003  174.789993  173.900131   \n",
       "2023-09-25  174.199997  176.970001  174.149994  176.080002  175.183578   \n",
       "...                ...         ...         ...         ...         ...   \n",
       "2024-09-13  223.580002  224.039993  221.910004  222.500000  222.500000   \n",
       "2024-09-16  216.539993  217.220001  213.919998  216.320007  216.320007   \n",
       "2024-09-17  215.750000  216.899994  214.500000  216.789993  216.789993   \n",
       "2024-09-18  217.550003  222.710007  217.539993  220.690002  220.690002   \n",
       "2024-09-19  225.139999  229.820007  224.639999  228.869995  228.869995   \n",
       "\n",
       "              Volume  \n",
       "Date                  \n",
       "2023-09-19  51826900  \n",
       "2023-09-20  58436200  \n",
       "2023-09-21  63047900  \n",
       "2023-09-22  56725400  \n",
       "2023-09-25  46172700  \n",
       "...              ...  \n",
       "2024-09-13  36766600  \n",
       "2024-09-16  59357400  \n",
       "2024-09-17  45519300  \n",
       "2024-09-18  59894900  \n",
       "2024-09-19  66307649  \n",
       "\n",
       "[253 rows x 6 columns]"
      ]
     },
     "metadata": {},
     "output_type": "display_data"
    },
    {
     "data": {
      "application/vnd.plotly.v1+json": {
       "config": {
        "plotlyServerURL": "https://plot.ly"
       },
       "data": [
        {
         "close": [
          179.07000732421875
         ],
         "decreasing": {
          "fillcolor": "rgba(0, 255, 0, 0.3)",
          "line": {
           "color": "green"
          }
         },
         "high": [
          179.6300048828125
         ],
         "increasing": {
          "fillcolor": "rgba(0, 255, 0, 0.3)",
          "line": {
           "color": "green"
          }
         },
         "low": [
          177.1300048828125
         ],
         "name": "Close > Open",
         "open": [
          177.52000427246094
         ],
         "showlegend": true,
         "type": "candlestick",
         "x": [
          "2023-09-19"
         ]
        },
        {
         "close": [
          175.49000549316406
         ],
         "decreasing": {
          "fillcolor": "rgba(255, 0, 0, 0.6)",
          "line": {
           "color": "red"
          }
         },
         "high": [
          179.6999969482422
         ],
         "increasing": {
          "fillcolor": "rgba(255, 0, 0, 0.6)",
          "line": {
           "color": "red"
          }
         },
         "low": [
          175.39999389648438
         ],
         "name": "Open > Close",
         "open": [
          179.25999450683594
         ],
         "showlegend": true,
         "type": "candlestick",
         "x": [
          "2023-09-20"
         ]
        },
        {
         "close": [
          173.92999267578125
         ],
         "decreasing": {
          "fillcolor": "rgba(255, 0, 0, 0.6)",
          "line": {
           "color": "red"
          }
         },
         "high": [
          176.3000030517578
         ],
         "increasing": {
          "fillcolor": "rgba(255, 0, 0, 0.6)",
          "line": {
           "color": "red"
          }
         },
         "low": [
          173.86000061035156
         ],
         "name": "Open > Close",
         "open": [
          174.5500030517578
         ],
         "showlegend": false,
         "type": "candlestick",
         "x": [
          "2023-09-21"
         ]
        },
        {
         "close": [
          174.7899932861328
         ],
         "decreasing": {
          "fillcolor": "rgba(0, 255, 0, 0.3)",
          "line": {
           "color": "green"
          }
         },
         "high": [
          177.0800018310547
         ],
         "increasing": {
          "fillcolor": "rgba(0, 255, 0, 0.3)",
          "line": {
           "color": "green"
          }
         },
         "low": [
          174.0500030517578
         ],
         "name": "Close > Open",
         "open": [
          174.6699981689453
         ],
         "showlegend": false,
         "type": "candlestick",
         "x": [
          "2023-09-22"
         ]
        },
        {
         "close": [
          176.0800018310547
         ],
         "decreasing": {
          "fillcolor": "rgba(0, 255, 0, 0.3)",
          "line": {
           "color": "green"
          }
         },
         "high": [
          176.97000122070312
         ],
         "increasing": {
          "fillcolor": "rgba(0, 255, 0, 0.3)",
          "line": {
           "color": "green"
          }
         },
         "low": [
          174.14999389648438
         ],
         "name": "Close > Open",
         "open": [
          174.1999969482422
         ],
         "showlegend": false,
         "type": "candlestick",
         "x": [
          "2023-09-25"
         ]
        },
        {
         "close": [
          171.9600067138672
         ],
         "decreasing": {
          "fillcolor": "rgba(255, 0, 0, 0.6)",
          "line": {
           "color": "red"
          }
         },
         "high": [
          175.1999969482422
         ],
         "increasing": {
          "fillcolor": "rgba(255, 0, 0, 0.6)",
          "line": {
           "color": "red"
          }
         },
         "low": [
          171.66000366210938
         ],
         "name": "Open > Close",
         "open": [
          174.82000732421875
         ],
         "showlegend": false,
         "type": "candlestick",
         "x": [
          "2023-09-26"
         ]
        },
        {
         "close": [
          170.42999267578125
         ],
         "decreasing": {
          "fillcolor": "rgba(255, 0, 0, 0.6)",
          "line": {
           "color": "red"
          }
         },
         "high": [
          173.0399932861328
         ],
         "increasing": {
          "fillcolor": "rgba(255, 0, 0, 0.6)",
          "line": {
           "color": "red"
          }
         },
         "low": [
          169.0500030517578
         ],
         "name": "Open > Close",
         "open": [
          172.6199951171875
         ],
         "showlegend": false,
         "type": "candlestick",
         "x": [
          "2023-09-27"
         ]
        },
        {
         "close": [
          170.69000244140625
         ],
         "decreasing": {
          "fillcolor": "rgba(0, 255, 0, 0.3)",
          "line": {
           "color": "green"
          }
         },
         "high": [
          172.02999877929688
         ],
         "increasing": {
          "fillcolor": "rgba(0, 255, 0, 0.3)",
          "line": {
           "color": "green"
          }
         },
         "low": [
          167.6199951171875
         ],
         "name": "Close > Open",
         "open": [
          169.33999633789062
         ],
         "showlegend": false,
         "type": "candlestick",
         "x": [
          "2023-09-28"
         ]
        },
        {
         "close": [
          171.2100067138672
         ],
         "decreasing": {
          "fillcolor": "rgba(255, 0, 0, 0.6)",
          "line": {
           "color": "red"
          }
         },
         "high": [
          173.07000732421875
         ],
         "increasing": {
          "fillcolor": "rgba(255, 0, 0, 0.6)",
          "line": {
           "color": "red"
          }
         },
         "low": [
          170.33999633789062
         ],
         "name": "Open > Close",
         "open": [
          172.02000427246094
         ],
         "showlegend": false,
         "type": "candlestick",
         "x": [
          "2023-09-29"
         ]
        },
        {
         "close": [
          173.75
         ],
         "decreasing": {
          "fillcolor": "rgba(0, 255, 0, 0.3)",
          "line": {
           "color": "green"
          }
         },
         "high": [
          174.3000030517578
         ],
         "increasing": {
          "fillcolor": "rgba(0, 255, 0, 0.3)",
          "line": {
           "color": "green"
          }
         },
         "low": [
          170.92999267578125
         ],
         "name": "Close > Open",
         "open": [
          171.22000122070312
         ],
         "showlegend": false,
         "type": "candlestick",
         "x": [
          "2023-10-02"
         ]
        },
        {
         "close": [
          172.39999389648438
         ],
         "decreasing": {
          "fillcolor": "rgba(0, 255, 0, 0.3)",
          "line": {
           "color": "green"
          }
         },
         "high": [
          173.6300048828125
         ],
         "increasing": {
          "fillcolor": "rgba(0, 255, 0, 0.3)",
          "line": {
           "color": "green"
          }
         },
         "low": [
          170.82000732421875
         ],
         "name": "Close > Open",
         "open": [
          172.25999450683594
         ],
         "showlegend": false,
         "type": "candlestick",
         "x": [
          "2023-10-03"
         ]
        },
        {
         "close": [
          173.66000366210938
         ],
         "decreasing": {
          "fillcolor": "rgba(0, 255, 0, 0.3)",
          "line": {
           "color": "green"
          }
         },
         "high": [
          174.2100067138672
         ],
         "increasing": {
          "fillcolor": "rgba(0, 255, 0, 0.3)",
          "line": {
           "color": "green"
          }
         },
         "low": [
          170.97000122070312
         ],
         "name": "Close > Open",
         "open": [
          171.08999633789062
         ],
         "showlegend": false,
         "type": "candlestick",
         "x": [
          "2023-10-04"
         ]
        },
        {
         "close": [
          174.91000366210938
         ],
         "decreasing": {
          "fillcolor": "rgba(0, 255, 0, 0.3)",
          "line": {
           "color": "green"
          }
         },
         "high": [
          175.4499969482422
         ],
         "increasing": {
          "fillcolor": "rgba(0, 255, 0, 0.3)",
          "line": {
           "color": "green"
          }
         },
         "low": [
          172.67999267578125
         ],
         "name": "Close > Open",
         "open": [
          173.7899932861328
         ],
         "showlegend": false,
         "type": "candlestick",
         "x": [
          "2023-10-05"
         ]
        },
        {
         "close": [
          177.49000549316406
         ],
         "decreasing": {
          "fillcolor": "rgba(0, 255, 0, 0.3)",
          "line": {
           "color": "green"
          }
         },
         "high": [
          177.99000549316406
         ],
         "increasing": {
          "fillcolor": "rgba(0, 255, 0, 0.3)",
          "line": {
           "color": "green"
          }
         },
         "low": [
          173.17999267578125
         ],
         "name": "Close > Open",
         "open": [
          173.8000030517578
         ],
         "showlegend": false,
         "type": "candlestick",
         "x": [
          "2023-10-06"
         ]
        },
        {
         "close": [
          178.99000549316406
         ],
         "decreasing": {
          "fillcolor": "rgba(0, 255, 0, 0.3)",
          "line": {
           "color": "green"
          }
         },
         "high": [
          179.0500030517578
         ],
         "increasing": {
          "fillcolor": "rgba(0, 255, 0, 0.3)",
          "line": {
           "color": "green"
          }
         },
         "low": [
          175.8000030517578
         ],
         "name": "Close > Open",
         "open": [
          176.80999755859375
         ],
         "showlegend": false,
         "type": "candlestick",
         "x": [
          "2023-10-09"
         ]
        },
        {
         "close": [
          178.38999938964844
         ],
         "decreasing": {
          "fillcolor": "rgba(0, 255, 0, 0.3)",
          "line": {
           "color": "green"
          }
         },
         "high": [
          179.72000122070312
         ],
         "increasing": {
          "fillcolor": "rgba(0, 255, 0, 0.3)",
          "line": {
           "color": "green"
          }
         },
         "low": [
          177.9499969482422
         ],
         "name": "Close > Open",
         "open": [
          178.10000610351562
         ],
         "showlegend": false,
         "type": "candlestick",
         "x": [
          "2023-10-10"
         ]
        },
        {
         "close": [
          179.8000030517578
         ],
         "decreasing": {
          "fillcolor": "rgba(0, 255, 0, 0.3)",
          "line": {
           "color": "green"
          }
         },
         "high": [
          179.85000610351562
         ],
         "increasing": {
          "fillcolor": "rgba(0, 255, 0, 0.3)",
          "line": {
           "color": "green"
          }
         },
         "low": [
          177.60000610351562
         ],
         "name": "Close > Open",
         "open": [
          178.1999969482422
         ],
         "showlegend": false,
         "type": "candlestick",
         "x": [
          "2023-10-11"
         ]
        },
        {
         "close": [
          180.7100067138672
         ],
         "decreasing": {
          "fillcolor": "rgba(0, 255, 0, 0.3)",
          "line": {
           "color": "green"
          }
         },
         "high": [
          182.33999633789062
         ],
         "increasing": {
          "fillcolor": "rgba(0, 255, 0, 0.3)",
          "line": {
           "color": "green"
          }
         },
         "low": [
          179.0399932861328
         ],
         "name": "Close > Open",
         "open": [
          180.07000732421875
         ],
         "showlegend": false,
         "type": "candlestick",
         "x": [
          "2023-10-12"
         ]
        },
        {
         "close": [
          178.85000610351562
         ],
         "decreasing": {
          "fillcolor": "rgba(255, 0, 0, 0.6)",
          "line": {
           "color": "red"
          }
         },
         "high": [
          181.92999267578125
         ],
         "increasing": {
          "fillcolor": "rgba(255, 0, 0, 0.6)",
          "line": {
           "color": "red"
          }
         },
         "low": [
          178.13999938964844
         ],
         "name": "Open > Close",
         "open": [
          181.4199981689453
         ],
         "showlegend": false,
         "type": "candlestick",
         "x": [
          "2023-10-13"
         ]
        },
        {
         "close": [
          178.72000122070312
         ],
         "decreasing": {
          "fillcolor": "rgba(0, 255, 0, 0.3)",
          "line": {
           "color": "green"
          }
         },
         "high": [
          179.0800018310547
         ],
         "increasing": {
          "fillcolor": "rgba(0, 255, 0, 0.3)",
          "line": {
           "color": "green"
          }
         },
         "low": [
          176.50999450683594
         ],
         "name": "Close > Open",
         "open": [
          176.75
         ],
         "showlegend": false,
         "type": "candlestick",
         "x": [
          "2023-10-16"
         ]
        },
        {
         "close": [
          177.14999389648438
         ],
         "decreasing": {
          "fillcolor": "rgba(0, 255, 0, 0.3)",
          "line": {
           "color": "green"
          }
         },
         "high": [
          178.4199981689453
         ],
         "increasing": {
          "fillcolor": "rgba(0, 255, 0, 0.3)",
          "line": {
           "color": "green"
          }
         },
         "low": [
          174.8000030517578
         ],
         "name": "Close > Open",
         "open": [
          176.64999389648438
         ],
         "showlegend": false,
         "type": "candlestick",
         "x": [
          "2023-10-17"
         ]
        },
        {
         "close": [
          175.83999633789062
         ],
         "decreasing": {
          "fillcolor": "rgba(0, 255, 0, 0.3)",
          "line": {
           "color": "green"
          }
         },
         "high": [
          177.5800018310547
         ],
         "increasing": {
          "fillcolor": "rgba(0, 255, 0, 0.3)",
          "line": {
           "color": "green"
          }
         },
         "low": [
          175.11000061035156
         ],
         "name": "Close > Open",
         "open": [
          175.5800018310547
         ],
         "showlegend": false,
         "type": "candlestick",
         "x": [
          "2023-10-18"
         ]
        },
        {
         "close": [
          175.4600067138672
         ],
         "decreasing": {
          "fillcolor": "rgba(255, 0, 0, 0.6)",
          "line": {
           "color": "red"
          }
         },
         "high": [
          177.83999633789062
         ],
         "increasing": {
          "fillcolor": "rgba(255, 0, 0, 0.6)",
          "line": {
           "color": "red"
          }
         },
         "low": [
          175.19000244140625
         ],
         "name": "Open > Close",
         "open": [
          176.0399932861328
         ],
         "showlegend": false,
         "type": "candlestick",
         "x": [
          "2023-10-19"
         ]
        },
        {
         "close": [
          172.8800048828125
         ],
         "decreasing": {
          "fillcolor": "rgba(255, 0, 0, 0.6)",
          "line": {
           "color": "red"
          }
         },
         "high": [
          175.4199981689453
         ],
         "increasing": {
          "fillcolor": "rgba(255, 0, 0, 0.6)",
          "line": {
           "color": "red"
          }
         },
         "low": [
          172.63999938964844
         ],
         "name": "Open > Close",
         "open": [
          175.30999755859375
         ],
         "showlegend": false,
         "type": "candlestick",
         "x": [
          "2023-10-20"
         ]
        },
        {
         "close": [
          173
         ],
         "decreasing": {
          "fillcolor": "rgba(0, 255, 0, 0.3)",
          "line": {
           "color": "green"
          }
         },
         "high": [
          174.00999450683594
         ],
         "increasing": {
          "fillcolor": "rgba(0, 255, 0, 0.3)",
          "line": {
           "color": "green"
          }
         },
         "low": [
          169.92999267578125
         ],
         "name": "Close > Open",
         "open": [
          170.91000366210938
         ],
         "showlegend": false,
         "type": "candlestick",
         "x": [
          "2023-10-23"
         ]
        },
        {
         "close": [
          173.44000244140625
         ],
         "decreasing": {
          "fillcolor": "rgba(0, 255, 0, 0.3)",
          "line": {
           "color": "green"
          }
         },
         "high": [
          173.6699981689453
         ],
         "increasing": {
          "fillcolor": "rgba(0, 255, 0, 0.3)",
          "line": {
           "color": "green"
          }
         },
         "low": [
          171.4499969482422
         ],
         "name": "Close > Open",
         "open": [
          173.0500030517578
         ],
         "showlegend": false,
         "type": "candlestick",
         "x": [
          "2023-10-24"
         ]
        },
        {
         "close": [
          171.10000610351562
         ],
         "decreasing": {
          "fillcolor": "rgba(255, 0, 0, 0.6)",
          "line": {
           "color": "red"
          }
         },
         "high": [
          173.05999755859375
         ],
         "increasing": {
          "fillcolor": "rgba(255, 0, 0, 0.6)",
          "line": {
           "color": "red"
          }
         },
         "low": [
          170.64999389648438
         ],
         "name": "Open > Close",
         "open": [
          171.8800048828125
         ],
         "showlegend": false,
         "type": "candlestick",
         "x": [
          "2023-10-25"
         ]
        },
        {
         "close": [
          166.88999938964844
         ],
         "decreasing": {
          "fillcolor": "rgba(255, 0, 0, 0.6)",
          "line": {
           "color": "red"
          }
         },
         "high": [
          171.3800048828125
         ],
         "increasing": {
          "fillcolor": "rgba(255, 0, 0, 0.6)",
          "line": {
           "color": "red"
          }
         },
         "low": [
          165.6699981689453
         ],
         "name": "Open > Close",
         "open": [
          170.3699951171875
         ],
         "showlegend": false,
         "type": "candlestick",
         "x": [
          "2023-10-26"
         ]
        },
        {
         "close": [
          168.22000122070312
         ],
         "decreasing": {
          "fillcolor": "rgba(0, 255, 0, 0.3)",
          "line": {
           "color": "green"
          }
         },
         "high": [
          168.9600067138672
         ],
         "increasing": {
          "fillcolor": "rgba(0, 255, 0, 0.3)",
          "line": {
           "color": "green"
          }
         },
         "low": [
          166.8300018310547
         ],
         "name": "Close > Open",
         "open": [
          166.91000366210938
         ],
         "showlegend": false,
         "type": "candlestick",
         "x": [
          "2023-10-27"
         ]
        },
        {
         "close": [
          170.2899932861328
         ],
         "decreasing": {
          "fillcolor": "rgba(0, 255, 0, 0.3)",
          "line": {
           "color": "green"
          }
         },
         "high": [
          171.1699981689453
         ],
         "increasing": {
          "fillcolor": "rgba(0, 255, 0, 0.3)",
          "line": {
           "color": "green"
          }
         },
         "low": [
          168.8699951171875
         ],
         "name": "Close > Open",
         "open": [
          169.02000427246094
         ],
         "showlegend": false,
         "type": "candlestick",
         "x": [
          "2023-10-30"
         ]
        },
        {
         "close": [
          170.77000427246094
         ],
         "decreasing": {
          "fillcolor": "rgba(0, 255, 0, 0.3)",
          "line": {
           "color": "green"
          }
         },
         "high": [
          170.89999389648438
         ],
         "increasing": {
          "fillcolor": "rgba(0, 255, 0, 0.3)",
          "line": {
           "color": "green"
          }
         },
         "low": [
          167.89999389648438
         ],
         "name": "Close > Open",
         "open": [
          169.35000610351562
         ],
         "showlegend": false,
         "type": "candlestick",
         "x": [
          "2023-10-31"
         ]
        },
        {
         "close": [
          173.97000122070312
         ],
         "decreasing": {
          "fillcolor": "rgba(0, 255, 0, 0.3)",
          "line": {
           "color": "green"
          }
         },
         "high": [
          174.22999572753906
         ],
         "increasing": {
          "fillcolor": "rgba(0, 255, 0, 0.3)",
          "line": {
           "color": "green"
          }
         },
         "low": [
          170.1199951171875
         ],
         "name": "Close > Open",
         "open": [
          171
         ],
         "showlegend": false,
         "type": "candlestick",
         "x": [
          "2023-11-01"
         ]
        },
        {
         "close": [
          177.57000732421875
         ],
         "decreasing": {
          "fillcolor": "rgba(0, 255, 0, 0.3)",
          "line": {
           "color": "green"
          }
         },
         "high": [
          177.77999877929688
         ],
         "increasing": {
          "fillcolor": "rgba(0, 255, 0, 0.3)",
          "line": {
           "color": "green"
          }
         },
         "low": [
          175.4600067138672
         ],
         "name": "Close > Open",
         "open": [
          175.52000427246094
         ],
         "showlegend": false,
         "type": "candlestick",
         "x": [
          "2023-11-02"
         ]
        },
        {
         "close": [
          176.64999389648438
         ],
         "decreasing": {
          "fillcolor": "rgba(0, 255, 0, 0.3)",
          "line": {
           "color": "green"
          }
         },
         "high": [
          176.82000732421875
         ],
         "increasing": {
          "fillcolor": "rgba(0, 255, 0, 0.3)",
          "line": {
           "color": "green"
          }
         },
         "low": [
          173.35000610351562
         ],
         "name": "Close > Open",
         "open": [
          174.24000549316406
         ],
         "showlegend": false,
         "type": "candlestick",
         "x": [
          "2023-11-03"
         ]
        },
        {
         "close": [
          179.22999572753906
         ],
         "decreasing": {
          "fillcolor": "rgba(0, 255, 0, 0.3)",
          "line": {
           "color": "green"
          }
         },
         "high": [
          179.42999267578125
         ],
         "increasing": {
          "fillcolor": "rgba(0, 255, 0, 0.3)",
          "line": {
           "color": "green"
          }
         },
         "low": [
          176.2100067138672
         ],
         "name": "Close > Open",
         "open": [
          176.3800048828125
         ],
         "showlegend": false,
         "type": "candlestick",
         "x": [
          "2023-11-06"
         ]
        },
        {
         "close": [
          181.82000732421875
         ],
         "decreasing": {
          "fillcolor": "rgba(0, 255, 0, 0.3)",
          "line": {
           "color": "green"
          }
         },
         "high": [
          182.44000244140625
         ],
         "increasing": {
          "fillcolor": "rgba(0, 255, 0, 0.3)",
          "line": {
           "color": "green"
          }
         },
         "low": [
          178.97000122070312
         ],
         "name": "Close > Open",
         "open": [
          179.17999267578125
         ],
         "showlegend": false,
         "type": "candlestick",
         "x": [
          "2023-11-07"
         ]
        },
        {
         "close": [
          182.88999938964844
         ],
         "decreasing": {
          "fillcolor": "rgba(0, 255, 0, 0.3)",
          "line": {
           "color": "green"
          }
         },
         "high": [
          183.4499969482422
         ],
         "increasing": {
          "fillcolor": "rgba(0, 255, 0, 0.3)",
          "line": {
           "color": "green"
          }
         },
         "low": [
          181.58999633789062
         ],
         "name": "Close > Open",
         "open": [
          182.35000610351562
         ],
         "showlegend": false,
         "type": "candlestick",
         "x": [
          "2023-11-08"
         ]
        },
        {
         "close": [
          182.41000366210938
         ],
         "decreasing": {
          "fillcolor": "rgba(255, 0, 0, 0.6)",
          "line": {
           "color": "red"
          }
         },
         "high": [
          184.1199951171875
         ],
         "increasing": {
          "fillcolor": "rgba(255, 0, 0, 0.6)",
          "line": {
           "color": "red"
          }
         },
         "low": [
          181.80999755859375
         ],
         "name": "Open > Close",
         "open": [
          182.9600067138672
         ],
         "showlegend": false,
         "type": "candlestick",
         "x": [
          "2023-11-09"
         ]
        },
        {
         "close": [
          186.39999389648438
         ],
         "decreasing": {
          "fillcolor": "rgba(0, 255, 0, 0.3)",
          "line": {
           "color": "green"
          }
         },
         "high": [
          186.57000732421875
         ],
         "increasing": {
          "fillcolor": "rgba(0, 255, 0, 0.3)",
          "line": {
           "color": "green"
          }
         },
         "low": [
          183.52999877929688
         ],
         "name": "Close > Open",
         "open": [
          183.97000122070312
         ],
         "showlegend": false,
         "type": "candlestick",
         "x": [
          "2023-11-10"
         ]
        },
        {
         "close": [
          184.8000030517578
         ],
         "decreasing": {
          "fillcolor": "rgba(255, 0, 0, 0.6)",
          "line": {
           "color": "red"
          }
         },
         "high": [
          186.02999877929688
         ],
         "increasing": {
          "fillcolor": "rgba(255, 0, 0, 0.6)",
          "line": {
           "color": "red"
          }
         },
         "low": [
          184.2100067138672
         ],
         "name": "Open > Close",
         "open": [
          185.82000732421875
         ],
         "showlegend": false,
         "type": "candlestick",
         "x": [
          "2023-11-13"
         ]
        },
        {
         "close": [
          187.44000244140625
         ],
         "decreasing": {
          "fillcolor": "rgba(255, 0, 0, 0.6)",
          "line": {
           "color": "red"
          }
         },
         "high": [
          188.11000061035156
         ],
         "increasing": {
          "fillcolor": "rgba(255, 0, 0, 0.6)",
          "line": {
           "color": "red"
          }
         },
         "low": [
          186.3000030517578
         ],
         "name": "Open > Close",
         "open": [
          187.6999969482422
         ],
         "showlegend": false,
         "type": "candlestick",
         "x": [
          "2023-11-14"
         ]
        },
        {
         "close": [
          188.00999450683594
         ],
         "decreasing": {
          "fillcolor": "rgba(0, 255, 0, 0.3)",
          "line": {
           "color": "green"
          }
         },
         "high": [
          189.5
         ],
         "increasing": {
          "fillcolor": "rgba(0, 255, 0, 0.3)",
          "line": {
           "color": "green"
          }
         },
         "low": [
          187.77999877929688
         ],
         "name": "Close > Open",
         "open": [
          187.85000610351562
         ],
         "showlegend": false,
         "type": "candlestick",
         "x": [
          "2023-11-15"
         ]
        },
        {
         "close": [
          189.7100067138672
         ],
         "decreasing": {
          "fillcolor": "rgba(0, 255, 0, 0.3)",
          "line": {
           "color": "green"
          }
         },
         "high": [
          190.9600067138672
         ],
         "increasing": {
          "fillcolor": "rgba(0, 255, 0, 0.3)",
          "line": {
           "color": "green"
          }
         },
         "low": [
          188.64999389648438
         ],
         "name": "Close > Open",
         "open": [
          189.57000732421875
         ],
         "showlegend": false,
         "type": "candlestick",
         "x": [
          "2023-11-16"
         ]
        },
        {
         "close": [
          189.69000244140625
         ],
         "decreasing": {
          "fillcolor": "rgba(255, 0, 0, 0.6)",
          "line": {
           "color": "red"
          }
         },
         "high": [
          190.3800048828125
         ],
         "increasing": {
          "fillcolor": "rgba(255, 0, 0, 0.6)",
          "line": {
           "color": "red"
          }
         },
         "low": [
          188.57000732421875
         ],
         "name": "Open > Close",
         "open": [
          190.25
         ],
         "showlegend": false,
         "type": "candlestick",
         "x": [
          "2023-11-17"
         ]
        },
        {
         "close": [
          191.4499969482422
         ],
         "decreasing": {
          "fillcolor": "rgba(0, 255, 0, 0.3)",
          "line": {
           "color": "green"
          }
         },
         "high": [
          191.91000366210938
         ],
         "increasing": {
          "fillcolor": "rgba(0, 255, 0, 0.3)",
          "line": {
           "color": "green"
          }
         },
         "low": [
          189.8800048828125
         ],
         "name": "Close > Open",
         "open": [
          189.88999938964844
         ],
         "showlegend": false,
         "type": "candlestick",
         "x": [
          "2023-11-20"
         ]
        },
        {
         "close": [
          190.63999938964844
         ],
         "decreasing": {
          "fillcolor": "rgba(255, 0, 0, 0.6)",
          "line": {
           "color": "red"
          }
         },
         "high": [
          191.52000427246094
         ],
         "increasing": {
          "fillcolor": "rgba(255, 0, 0, 0.6)",
          "line": {
           "color": "red"
          }
         },
         "low": [
          189.74000549316406
         ],
         "name": "Open > Close",
         "open": [
          191.41000366210938
         ],
         "showlegend": false,
         "type": "candlestick",
         "x": [
          "2023-11-21"
         ]
        },
        {
         "close": [
          191.30999755859375
         ],
         "decreasing": {
          "fillcolor": "rgba(255, 0, 0, 0.6)",
          "line": {
           "color": "red"
          }
         },
         "high": [
          192.92999267578125
         ],
         "increasing": {
          "fillcolor": "rgba(255, 0, 0, 0.6)",
          "line": {
           "color": "red"
          }
         },
         "low": [
          190.8300018310547
         ],
         "name": "Open > Close",
         "open": [
          191.49000549316406
         ],
         "showlegend": false,
         "type": "candlestick",
         "x": [
          "2023-11-22"
         ]
        },
        {
         "close": [
          189.97000122070312
         ],
         "decreasing": {
          "fillcolor": "rgba(255, 0, 0, 0.6)",
          "line": {
           "color": "red"
          }
         },
         "high": [
          190.89999389648438
         ],
         "increasing": {
          "fillcolor": "rgba(255, 0, 0, 0.6)",
          "line": {
           "color": "red"
          }
         },
         "low": [
          189.25
         ],
         "name": "Open > Close",
         "open": [
          190.8699951171875
         ],
         "showlegend": false,
         "type": "candlestick",
         "x": [
          "2023-11-24"
         ]
        },
        {
         "close": [
          189.7899932861328
         ],
         "decreasing": {
          "fillcolor": "rgba(255, 0, 0, 0.6)",
          "line": {
           "color": "red"
          }
         },
         "high": [
          190.6699981689453
         ],
         "increasing": {
          "fillcolor": "rgba(255, 0, 0, 0.6)",
          "line": {
           "color": "red"
          }
         },
         "low": [
          188.89999389648438
         ],
         "name": "Open > Close",
         "open": [
          189.9199981689453
         ],
         "showlegend": false,
         "type": "candlestick",
         "x": [
          "2023-11-27"
         ]
        },
        {
         "close": [
          190.39999389648438
         ],
         "decreasing": {
          "fillcolor": "rgba(0, 255, 0, 0.3)",
          "line": {
           "color": "green"
          }
         },
         "high": [
          191.0800018310547
         ],
         "increasing": {
          "fillcolor": "rgba(0, 255, 0, 0.3)",
          "line": {
           "color": "green"
          }
         },
         "low": [
          189.39999389648438
         ],
         "name": "Close > Open",
         "open": [
          189.77999877929688
         ],
         "showlegend": false,
         "type": "candlestick",
         "x": [
          "2023-11-28"
         ]
        },
        {
         "close": [
          189.3699951171875
         ],
         "decreasing": {
          "fillcolor": "rgba(255, 0, 0, 0.6)",
          "line": {
           "color": "red"
          }
         },
         "high": [
          192.08999633789062
         ],
         "increasing": {
          "fillcolor": "rgba(255, 0, 0, 0.6)",
          "line": {
           "color": "red"
          }
         },
         "low": [
          188.97000122070312
         ],
         "name": "Open > Close",
         "open": [
          190.89999389648438
         ],
         "showlegend": false,
         "type": "candlestick",
         "x": [
          "2023-11-29"
         ]
        },
        {
         "close": [
          189.9499969482422
         ],
         "decreasing": {
          "fillcolor": "rgba(0, 255, 0, 0.3)",
          "line": {
           "color": "green"
          }
         },
         "high": [
          190.32000732421875
         ],
         "increasing": {
          "fillcolor": "rgba(0, 255, 0, 0.3)",
          "line": {
           "color": "green"
          }
         },
         "low": [
          188.19000244140625
         ],
         "name": "Close > Open",
         "open": [
          189.83999633789062
         ],
         "showlegend": false,
         "type": "candlestick",
         "x": [
          "2023-11-30"
         ]
        },
        {
         "close": [
          191.24000549316406
         ],
         "decreasing": {
          "fillcolor": "rgba(0, 255, 0, 0.3)",
          "line": {
           "color": "green"
          }
         },
         "high": [
          191.55999755859375
         ],
         "increasing": {
          "fillcolor": "rgba(0, 255, 0, 0.3)",
          "line": {
           "color": "green"
          }
         },
         "low": [
          189.22999572753906
         ],
         "name": "Close > Open",
         "open": [
          190.3300018310547
         ],
         "showlegend": false,
         "type": "candlestick",
         "x": [
          "2023-12-01"
         ]
        },
        {
         "close": [
          189.42999267578125
         ],
         "decreasing": {
          "fillcolor": "rgba(255, 0, 0, 0.6)",
          "line": {
           "color": "red"
          }
         },
         "high": [
          190.0500030517578
         ],
         "increasing": {
          "fillcolor": "rgba(255, 0, 0, 0.6)",
          "line": {
           "color": "red"
          }
         },
         "low": [
          187.4499969482422
         ],
         "name": "Open > Close",
         "open": [
          189.97999572753906
         ],
         "showlegend": false,
         "type": "candlestick",
         "x": [
          "2023-12-04"
         ]
        },
        {
         "close": [
          193.4199981689453
         ],
         "decreasing": {
          "fillcolor": "rgba(0, 255, 0, 0.3)",
          "line": {
           "color": "green"
          }
         },
         "high": [
          194.39999389648438
         ],
         "increasing": {
          "fillcolor": "rgba(0, 255, 0, 0.3)",
          "line": {
           "color": "green"
          }
         },
         "low": [
          190.17999267578125
         ],
         "name": "Close > Open",
         "open": [
          190.2100067138672
         ],
         "showlegend": false,
         "type": "candlestick",
         "x": [
          "2023-12-05"
         ]
        },
        {
         "close": [
          192.32000732421875
         ],
         "decreasing": {
          "fillcolor": "rgba(255, 0, 0, 0.6)",
          "line": {
           "color": "red"
          }
         },
         "high": [
          194.75999450683594
         ],
         "increasing": {
          "fillcolor": "rgba(255, 0, 0, 0.6)",
          "line": {
           "color": "red"
          }
         },
         "low": [
          192.11000061035156
         ],
         "name": "Open > Close",
         "open": [
          194.4499969482422
         ],
         "showlegend": false,
         "type": "candlestick",
         "x": [
          "2023-12-06"
         ]
        },
        {
         "close": [
          194.27000427246094
         ],
         "decreasing": {
          "fillcolor": "rgba(0, 255, 0, 0.3)",
          "line": {
           "color": "green"
          }
         },
         "high": [
          195
         ],
         "increasing": {
          "fillcolor": "rgba(0, 255, 0, 0.3)",
          "line": {
           "color": "green"
          }
         },
         "low": [
          193.58999633789062
         ],
         "name": "Close > Open",
         "open": [
          193.6300048828125
         ],
         "showlegend": false,
         "type": "candlestick",
         "x": [
          "2023-12-07"
         ]
        },
        {
         "close": [
          195.7100067138672
         ],
         "decreasing": {
          "fillcolor": "rgba(0, 255, 0, 0.3)",
          "line": {
           "color": "green"
          }
         },
         "high": [
          195.99000549316406
         ],
         "increasing": {
          "fillcolor": "rgba(0, 255, 0, 0.3)",
          "line": {
           "color": "green"
          }
         },
         "low": [
          193.6699981689453
         ],
         "name": "Close > Open",
         "open": [
          194.1999969482422
         ],
         "showlegend": false,
         "type": "candlestick",
         "x": [
          "2023-12-08"
         ]
        },
        {
         "close": [
          193.17999267578125
         ],
         "decreasing": {
          "fillcolor": "rgba(0, 255, 0, 0.3)",
          "line": {
           "color": "green"
          }
         },
         "high": [
          193.49000549316406
         ],
         "increasing": {
          "fillcolor": "rgba(0, 255, 0, 0.3)",
          "line": {
           "color": "green"
          }
         },
         "low": [
          191.4199981689453
         ],
         "name": "Close > Open",
         "open": [
          193.11000061035156
         ],
         "showlegend": false,
         "type": "candlestick",
         "x": [
          "2023-12-11"
         ]
        },
        {
         "close": [
          194.7100067138672
         ],
         "decreasing": {
          "fillcolor": "rgba(0, 255, 0, 0.3)",
          "line": {
           "color": "green"
          }
         },
         "high": [
          194.72000122070312
         ],
         "increasing": {
          "fillcolor": "rgba(0, 255, 0, 0.3)",
          "line": {
           "color": "green"
          }
         },
         "low": [
          191.72000122070312
         ],
         "name": "Close > Open",
         "open": [
          193.0800018310547
         ],
         "showlegend": false,
         "type": "candlestick",
         "x": [
          "2023-12-12"
         ]
        },
        {
         "close": [
          197.9600067138672
         ],
         "decreasing": {
          "fillcolor": "rgba(0, 255, 0, 0.3)",
          "line": {
           "color": "green"
          }
         },
         "high": [
          198
         ],
         "increasing": {
          "fillcolor": "rgba(0, 255, 0, 0.3)",
          "line": {
           "color": "green"
          }
         },
         "low": [
          194.85000610351562
         ],
         "name": "Close > Open",
         "open": [
          195.08999633789062
         ],
         "showlegend": false,
         "type": "candlestick",
         "x": [
          "2023-12-13"
         ]
        },
        {
         "close": [
          198.11000061035156
         ],
         "decreasing": {
          "fillcolor": "rgba(0, 255, 0, 0.3)",
          "line": {
           "color": "green"
          }
         },
         "high": [
          199.6199951171875
         ],
         "increasing": {
          "fillcolor": "rgba(0, 255, 0, 0.3)",
          "line": {
           "color": "green"
          }
         },
         "low": [
          196.16000366210938
         ],
         "name": "Close > Open",
         "open": [
          198.02000427246094
         ],
         "showlegend": false,
         "type": "candlestick",
         "x": [
          "2023-12-14"
         ]
        },
        {
         "close": [
          197.57000732421875
         ],
         "decreasing": {
          "fillcolor": "rgba(0, 255, 0, 0.3)",
          "line": {
           "color": "green"
          }
         },
         "high": [
          198.39999389648438
         ],
         "increasing": {
          "fillcolor": "rgba(0, 255, 0, 0.3)",
          "line": {
           "color": "green"
          }
         },
         "low": [
          197
         ],
         "name": "Close > Open",
         "open": [
          197.52999877929688
         ],
         "showlegend": false,
         "type": "candlestick",
         "x": [
          "2023-12-15"
         ]
        },
        {
         "close": [
          195.88999938964844
         ],
         "decreasing": {
          "fillcolor": "rgba(255, 0, 0, 0.6)",
          "line": {
           "color": "red"
          }
         },
         "high": [
          196.6300048828125
         ],
         "increasing": {
          "fillcolor": "rgba(255, 0, 0, 0.6)",
          "line": {
           "color": "red"
          }
         },
         "low": [
          194.38999938964844
         ],
         "name": "Open > Close",
         "open": [
          196.08999633789062
         ],
         "showlegend": false,
         "type": "candlestick",
         "x": [
          "2023-12-18"
         ]
        },
        {
         "close": [
          196.94000244140625
         ],
         "decreasing": {
          "fillcolor": "rgba(0, 255, 0, 0.3)",
          "line": {
           "color": "green"
          }
         },
         "high": [
          196.9499969482422
         ],
         "increasing": {
          "fillcolor": "rgba(0, 255, 0, 0.3)",
          "line": {
           "color": "green"
          }
         },
         "low": [
          195.88999938964844
         ],
         "name": "Close > Open",
         "open": [
          196.16000366210938
         ],
         "showlegend": false,
         "type": "candlestick",
         "x": [
          "2023-12-19"
         ]
        },
        {
         "close": [
          194.8300018310547
         ],
         "decreasing": {
          "fillcolor": "rgba(255, 0, 0, 0.6)",
          "line": {
           "color": "red"
          }
         },
         "high": [
          197.67999267578125
         ],
         "increasing": {
          "fillcolor": "rgba(255, 0, 0, 0.6)",
          "line": {
           "color": "red"
          }
         },
         "low": [
          194.8300018310547
         ],
         "name": "Open > Close",
         "open": [
          196.89999389648438
         ],
         "showlegend": false,
         "type": "candlestick",
         "x": [
          "2023-12-20"
         ]
        },
        {
         "close": [
          194.67999267578125
         ],
         "decreasing": {
          "fillcolor": "rgba(255, 0, 0, 0.6)",
          "line": {
           "color": "red"
          }
         },
         "high": [
          197.0800018310547
         ],
         "increasing": {
          "fillcolor": "rgba(255, 0, 0, 0.6)",
          "line": {
           "color": "red"
          }
         },
         "low": [
          193.5
         ],
         "name": "Open > Close",
         "open": [
          196.10000610351562
         ],
         "showlegend": false,
         "type": "candlestick",
         "x": [
          "2023-12-21"
         ]
        },
        {
         "close": [
          193.60000610351562
         ],
         "decreasing": {
          "fillcolor": "rgba(255, 0, 0, 0.6)",
          "line": {
           "color": "red"
          }
         },
         "high": [
          195.41000366210938
         ],
         "increasing": {
          "fillcolor": "rgba(255, 0, 0, 0.6)",
          "line": {
           "color": "red"
          }
         },
         "low": [
          192.97000122070312
         ],
         "name": "Open > Close",
         "open": [
          195.17999267578125
         ],
         "showlegend": false,
         "type": "candlestick",
         "x": [
          "2023-12-22"
         ]
        },
        {
         "close": [
          193.0500030517578
         ],
         "decreasing": {
          "fillcolor": "rgba(255, 0, 0, 0.6)",
          "line": {
           "color": "red"
          }
         },
         "high": [
          193.88999938964844
         ],
         "increasing": {
          "fillcolor": "rgba(255, 0, 0, 0.6)",
          "line": {
           "color": "red"
          }
         },
         "low": [
          192.8300018310547
         ],
         "name": "Open > Close",
         "open": [
          193.61000061035156
         ],
         "showlegend": false,
         "type": "candlestick",
         "x": [
          "2023-12-26"
         ]
        },
        {
         "close": [
          193.14999389648438
         ],
         "decreasing": {
          "fillcolor": "rgba(0, 255, 0, 0.3)",
          "line": {
           "color": "green"
          }
         },
         "high": [
          193.5
         ],
         "increasing": {
          "fillcolor": "rgba(0, 255, 0, 0.3)",
          "line": {
           "color": "green"
          }
         },
         "low": [
          191.08999633789062
         ],
         "name": "Close > Open",
         "open": [
          192.49000549316406
         ],
         "showlegend": false,
         "type": "candlestick",
         "x": [
          "2023-12-27"
         ]
        },
        {
         "close": [
          193.5800018310547
         ],
         "decreasing": {
          "fillcolor": "rgba(255, 0, 0, 0.6)",
          "line": {
           "color": "red"
          }
         },
         "high": [
          194.66000366210938
         ],
         "increasing": {
          "fillcolor": "rgba(255, 0, 0, 0.6)",
          "line": {
           "color": "red"
          }
         },
         "low": [
          193.1699981689453
         ],
         "name": "Open > Close",
         "open": [
          194.13999938964844
         ],
         "showlegend": false,
         "type": "candlestick",
         "x": [
          "2023-12-28"
         ]
        },
        {
         "close": [
          192.52999877929688
         ],
         "decreasing": {
          "fillcolor": "rgba(255, 0, 0, 0.6)",
          "line": {
           "color": "red"
          }
         },
         "high": [
          194.39999389648438
         ],
         "increasing": {
          "fillcolor": "rgba(255, 0, 0, 0.6)",
          "line": {
           "color": "red"
          }
         },
         "low": [
          191.72999572753906
         ],
         "name": "Open > Close",
         "open": [
          193.89999389648438
         ],
         "showlegend": false,
         "type": "candlestick",
         "x": [
          "2023-12-29"
         ]
        },
        {
         "close": [
          185.63999938964844
         ],
         "decreasing": {
          "fillcolor": "rgba(255, 0, 0, 0.6)",
          "line": {
           "color": "red"
          }
         },
         "high": [
          188.44000244140625
         ],
         "increasing": {
          "fillcolor": "rgba(255, 0, 0, 0.6)",
          "line": {
           "color": "red"
          }
         },
         "low": [
          183.88999938964844
         ],
         "name": "Open > Close",
         "open": [
          187.14999389648438
         ],
         "showlegend": false,
         "type": "candlestick",
         "x": [
          "2024-01-02"
         ]
        },
        {
         "close": [
          184.25
         ],
         "decreasing": {
          "fillcolor": "rgba(0, 255, 0, 0.3)",
          "line": {
           "color": "green"
          }
         },
         "high": [
          185.8800048828125
         ],
         "increasing": {
          "fillcolor": "rgba(0, 255, 0, 0.3)",
          "line": {
           "color": "green"
          }
         },
         "low": [
          183.42999267578125
         ],
         "name": "Close > Open",
         "open": [
          184.22000122070312
         ],
         "showlegend": false,
         "type": "candlestick",
         "x": [
          "2024-01-03"
         ]
        },
        {
         "close": [
          181.91000366210938
         ],
         "decreasing": {
          "fillcolor": "rgba(255, 0, 0, 0.6)",
          "line": {
           "color": "red"
          }
         },
         "high": [
          183.08999633789062
         ],
         "increasing": {
          "fillcolor": "rgba(255, 0, 0, 0.6)",
          "line": {
           "color": "red"
          }
         },
         "low": [
          180.8800048828125
         ],
         "name": "Open > Close",
         "open": [
          182.14999389648438
         ],
         "showlegend": false,
         "type": "candlestick",
         "x": [
          "2024-01-04"
         ]
        },
        {
         "close": [
          181.17999267578125
         ],
         "decreasing": {
          "fillcolor": "rgba(255, 0, 0, 0.6)",
          "line": {
           "color": "red"
          }
         },
         "high": [
          182.75999450683594
         ],
         "increasing": {
          "fillcolor": "rgba(255, 0, 0, 0.6)",
          "line": {
           "color": "red"
          }
         },
         "low": [
          180.1699981689453
         ],
         "name": "Open > Close",
         "open": [
          181.99000549316406
         ],
         "showlegend": false,
         "type": "candlestick",
         "x": [
          "2024-01-05"
         ]
        },
        {
         "close": [
          185.55999755859375
         ],
         "decreasing": {
          "fillcolor": "rgba(0, 255, 0, 0.3)",
          "line": {
           "color": "green"
          }
         },
         "high": [
          185.60000610351562
         ],
         "increasing": {
          "fillcolor": "rgba(0, 255, 0, 0.3)",
          "line": {
           "color": "green"
          }
         },
         "low": [
          181.5
         ],
         "name": "Close > Open",
         "open": [
          182.08999633789062
         ],
         "showlegend": false,
         "type": "candlestick",
         "x": [
          "2024-01-08"
         ]
        },
        {
         "close": [
          185.13999938964844
         ],
         "decreasing": {
          "fillcolor": "rgba(0, 255, 0, 0.3)",
          "line": {
           "color": "green"
          }
         },
         "high": [
          185.14999389648438
         ],
         "increasing": {
          "fillcolor": "rgba(0, 255, 0, 0.3)",
          "line": {
           "color": "green"
          }
         },
         "low": [
          182.72999572753906
         ],
         "name": "Close > Open",
         "open": [
          183.9199981689453
         ],
         "showlegend": false,
         "type": "candlestick",
         "x": [
          "2024-01-09"
         ]
        },
        {
         "close": [
          186.19000244140625
         ],
         "decreasing": {
          "fillcolor": "rgba(0, 255, 0, 0.3)",
          "line": {
           "color": "green"
          }
         },
         "high": [
          186.39999389648438
         ],
         "increasing": {
          "fillcolor": "rgba(0, 255, 0, 0.3)",
          "line": {
           "color": "green"
          }
         },
         "low": [
          183.9199981689453
         ],
         "name": "Close > Open",
         "open": [
          184.35000610351562
         ],
         "showlegend": false,
         "type": "candlestick",
         "x": [
          "2024-01-10"
         ]
        },
        {
         "close": [
          185.58999633789062
         ],
         "decreasing": {
          "fillcolor": "rgba(255, 0, 0, 0.6)",
          "line": {
           "color": "red"
          }
         },
         "high": [
          187.0500030517578
         ],
         "increasing": {
          "fillcolor": "rgba(255, 0, 0, 0.6)",
          "line": {
           "color": "red"
          }
         },
         "low": [
          183.6199951171875
         ],
         "name": "Open > Close",
         "open": [
          186.5399932861328
         ],
         "showlegend": false,
         "type": "candlestick",
         "x": [
          "2024-01-11"
         ]
        },
        {
         "close": [
          185.9199981689453
         ],
         "decreasing": {
          "fillcolor": "rgba(255, 0, 0, 0.6)",
          "line": {
           "color": "red"
          }
         },
         "high": [
          186.74000549316406
         ],
         "increasing": {
          "fillcolor": "rgba(255, 0, 0, 0.6)",
          "line": {
           "color": "red"
          }
         },
         "low": [
          185.19000244140625
         ],
         "name": "Open > Close",
         "open": [
          186.05999755859375
         ],
         "showlegend": false,
         "type": "candlestick",
         "x": [
          "2024-01-12"
         ]
        },
        {
         "close": [
          183.6300048828125
         ],
         "decreasing": {
          "fillcolor": "rgba(0, 255, 0, 0.3)",
          "line": {
           "color": "green"
          }
         },
         "high": [
          184.25999450683594
         ],
         "increasing": {
          "fillcolor": "rgba(0, 255, 0, 0.3)",
          "line": {
           "color": "green"
          }
         },
         "low": [
          180.92999267578125
         ],
         "name": "Close > Open",
         "open": [
          182.16000366210938
         ],
         "showlegend": false,
         "type": "candlestick",
         "x": [
          "2024-01-16"
         ]
        },
        {
         "close": [
          182.67999267578125
         ],
         "decreasing": {
          "fillcolor": "rgba(0, 255, 0, 0.3)",
          "line": {
           "color": "green"
          }
         },
         "high": [
          182.92999267578125
         ],
         "increasing": {
          "fillcolor": "rgba(0, 255, 0, 0.3)",
          "line": {
           "color": "green"
          }
         },
         "low": [
          180.3000030517578
         ],
         "name": "Close > Open",
         "open": [
          181.27000427246094
         ],
         "showlegend": false,
         "type": "candlestick",
         "x": [
          "2024-01-17"
         ]
        },
        {
         "close": [
          188.6300048828125
         ],
         "decreasing": {
          "fillcolor": "rgba(0, 255, 0, 0.3)",
          "line": {
           "color": "green"
          }
         },
         "high": [
          189.13999938964844
         ],
         "increasing": {
          "fillcolor": "rgba(0, 255, 0, 0.3)",
          "line": {
           "color": "green"
          }
         },
         "low": [
          185.8300018310547
         ],
         "name": "Close > Open",
         "open": [
          186.08999633789062
         ],
         "showlegend": false,
         "type": "candlestick",
         "x": [
          "2024-01-18"
         ]
        },
        {
         "close": [
          191.55999755859375
         ],
         "decreasing": {
          "fillcolor": "rgba(0, 255, 0, 0.3)",
          "line": {
           "color": "green"
          }
         },
         "high": [
          191.9499969482422
         ],
         "increasing": {
          "fillcolor": "rgba(0, 255, 0, 0.3)",
          "line": {
           "color": "green"
          }
         },
         "low": [
          188.82000732421875
         ],
         "name": "Close > Open",
         "open": [
          189.3300018310547
         ],
         "showlegend": false,
         "type": "candlestick",
         "x": [
          "2024-01-19"
         ]
        },
        {
         "close": [
          193.88999938964844
         ],
         "decreasing": {
          "fillcolor": "rgba(0, 255, 0, 0.3)",
          "line": {
           "color": "green"
          }
         },
         "high": [
          195.3300018310547
         ],
         "increasing": {
          "fillcolor": "rgba(0, 255, 0, 0.3)",
          "line": {
           "color": "green"
          }
         },
         "low": [
          192.25999450683594
         ],
         "name": "Close > Open",
         "open": [
          192.3000030517578
         ],
         "showlegend": false,
         "type": "candlestick",
         "x": [
          "2024-01-22"
         ]
        },
        {
         "close": [
          195.17999267578125
         ],
         "decreasing": {
          "fillcolor": "rgba(0, 255, 0, 0.3)",
          "line": {
           "color": "green"
          }
         },
         "high": [
          195.75
         ],
         "increasing": {
          "fillcolor": "rgba(0, 255, 0, 0.3)",
          "line": {
           "color": "green"
          }
         },
         "low": [
          193.8300018310547
         ],
         "name": "Close > Open",
         "open": [
          195.02000427246094
         ],
         "showlegend": false,
         "type": "candlestick",
         "x": [
          "2024-01-23"
         ]
        },
        {
         "close": [
          194.5
         ],
         "decreasing": {
          "fillcolor": "rgba(255, 0, 0, 0.6)",
          "line": {
           "color": "red"
          }
         },
         "high": [
          196.3800048828125
         ],
         "increasing": {
          "fillcolor": "rgba(255, 0, 0, 0.6)",
          "line": {
           "color": "red"
          }
         },
         "low": [
          194.33999633789062
         ],
         "name": "Open > Close",
         "open": [
          195.4199981689453
         ],
         "showlegend": false,
         "type": "candlestick",
         "x": [
          "2024-01-24"
         ]
        },
        {
         "close": [
          194.1699981689453
         ],
         "decreasing": {
          "fillcolor": "rgba(255, 0, 0, 0.6)",
          "line": {
           "color": "red"
          }
         },
         "high": [
          196.27000427246094
         ],
         "increasing": {
          "fillcolor": "rgba(255, 0, 0, 0.6)",
          "line": {
           "color": "red"
          }
         },
         "low": [
          193.11000061035156
         ],
         "name": "Open > Close",
         "open": [
          195.22000122070312
         ],
         "showlegend": false,
         "type": "candlestick",
         "x": [
          "2024-01-25"
         ]
        },
        {
         "close": [
          192.4199981689453
         ],
         "decreasing": {
          "fillcolor": "rgba(255, 0, 0, 0.6)",
          "line": {
           "color": "red"
          }
         },
         "high": [
          194.75999450683594
         ],
         "increasing": {
          "fillcolor": "rgba(255, 0, 0, 0.6)",
          "line": {
           "color": "red"
          }
         },
         "low": [
          191.94000244140625
         ],
         "name": "Open > Close",
         "open": [
          194.27000427246094
         ],
         "showlegend": false,
         "type": "candlestick",
         "x": [
          "2024-01-26"
         ]
        },
        {
         "close": [
          191.72999572753906
         ],
         "decreasing": {
          "fillcolor": "rgba(255, 0, 0, 0.6)",
          "line": {
           "color": "red"
          }
         },
         "high": [
          192.1999969482422
         ],
         "increasing": {
          "fillcolor": "rgba(255, 0, 0, 0.6)",
          "line": {
           "color": "red"
          }
         },
         "low": [
          189.5800018310547
         ],
         "name": "Open > Close",
         "open": [
          192.00999450683594
         ],
         "showlegend": false,
         "type": "candlestick",
         "x": [
          "2024-01-29"
         ]
        },
        {
         "close": [
          188.0399932861328
         ],
         "decreasing": {
          "fillcolor": "rgba(255, 0, 0, 0.6)",
          "line": {
           "color": "red"
          }
         },
         "high": [
          191.8000030517578
         ],
         "increasing": {
          "fillcolor": "rgba(255, 0, 0, 0.6)",
          "line": {
           "color": "red"
          }
         },
         "low": [
          187.47000122070312
         ],
         "name": "Open > Close",
         "open": [
          190.94000244140625
         ],
         "showlegend": false,
         "type": "candlestick",
         "x": [
          "2024-01-30"
         ]
        },
        {
         "close": [
          184.39999389648438
         ],
         "decreasing": {
          "fillcolor": "rgba(255, 0, 0, 0.6)",
          "line": {
           "color": "red"
          }
         },
         "high": [
          187.10000610351562
         ],
         "increasing": {
          "fillcolor": "rgba(255, 0, 0, 0.6)",
          "line": {
           "color": "red"
          }
         },
         "low": [
          184.35000610351562
         ],
         "name": "Open > Close",
         "open": [
          187.0399932861328
         ],
         "showlegend": false,
         "type": "candlestick",
         "x": [
          "2024-01-31"
         ]
        },
        {
         "close": [
          186.86000061035156
         ],
         "decreasing": {
          "fillcolor": "rgba(0, 255, 0, 0.3)",
          "line": {
           "color": "green"
          }
         },
         "high": [
          186.9499969482422
         ],
         "increasing": {
          "fillcolor": "rgba(0, 255, 0, 0.3)",
          "line": {
           "color": "green"
          }
         },
         "low": [
          183.82000732421875
         ],
         "name": "Close > Open",
         "open": [
          183.99000549316406
         ],
         "showlegend": false,
         "type": "candlestick",
         "x": [
          "2024-02-01"
         ]
        },
        {
         "close": [
          185.85000610351562
         ],
         "decreasing": {
          "fillcolor": "rgba(0, 255, 0, 0.3)",
          "line": {
           "color": "green"
          }
         },
         "high": [
          187.3300018310547
         ],
         "increasing": {
          "fillcolor": "rgba(0, 255, 0, 0.3)",
          "line": {
           "color": "green"
          }
         },
         "low": [
          179.25
         ],
         "name": "Close > Open",
         "open": [
          179.86000061035156
         ],
         "showlegend": false,
         "type": "candlestick",
         "x": [
          "2024-02-02"
         ]
        },
        {
         "close": [
          187.67999267578125
         ],
         "decreasing": {
          "fillcolor": "rgba(255, 0, 0, 0.6)",
          "line": {
           "color": "red"
          }
         },
         "high": [
          189.25
         ],
         "increasing": {
          "fillcolor": "rgba(255, 0, 0, 0.6)",
          "line": {
           "color": "red"
          }
         },
         "low": [
          185.83999633789062
         ],
         "name": "Open > Close",
         "open": [
          188.14999389648438
         ],
         "showlegend": false,
         "type": "candlestick",
         "x": [
          "2024-02-05"
         ]
        },
        {
         "close": [
          189.3000030517578
         ],
         "decreasing": {
          "fillcolor": "rgba(0, 255, 0, 0.3)",
          "line": {
           "color": "green"
          }
         },
         "high": [
          189.30999755859375
         ],
         "increasing": {
          "fillcolor": "rgba(0, 255, 0, 0.3)",
          "line": {
           "color": "green"
          }
         },
         "low": [
          186.77000427246094
         ],
         "name": "Close > Open",
         "open": [
          186.86000061035156
         ],
         "showlegend": false,
         "type": "candlestick",
         "x": [
          "2024-02-06"
         ]
        },
        {
         "close": [
          189.41000366210938
         ],
         "decreasing": {
          "fillcolor": "rgba(255, 0, 0, 0.6)",
          "line": {
           "color": "red"
          }
         },
         "high": [
          191.0500030517578
         ],
         "increasing": {
          "fillcolor": "rgba(255, 0, 0, 0.6)",
          "line": {
           "color": "red"
          }
         },
         "low": [
          188.61000061035156
         ],
         "name": "Open > Close",
         "open": [
          190.63999938964844
         ],
         "showlegend": false,
         "type": "candlestick",
         "x": [
          "2024-02-07"
         ]
        },
        {
         "close": [
          188.32000732421875
         ],
         "decreasing": {
          "fillcolor": "rgba(255, 0, 0, 0.6)",
          "line": {
           "color": "red"
          }
         },
         "high": [
          189.5399932861328
         ],
         "increasing": {
          "fillcolor": "rgba(255, 0, 0, 0.6)",
          "line": {
           "color": "red"
          }
         },
         "low": [
          187.35000610351562
         ],
         "name": "Open > Close",
         "open": [
          189.38999938964844
         ],
         "showlegend": false,
         "type": "candlestick",
         "x": [
          "2024-02-08"
         ]
        },
        {
         "close": [
          188.85000610351562
         ],
         "decreasing": {
          "fillcolor": "rgba(0, 255, 0, 0.3)",
          "line": {
           "color": "green"
          }
         },
         "high": [
          189.99000549316406
         ],
         "increasing": {
          "fillcolor": "rgba(0, 255, 0, 0.3)",
          "line": {
           "color": "green"
          }
         },
         "low": [
          188
         ],
         "name": "Close > Open",
         "open": [
          188.64999389648438
         ],
         "showlegend": false,
         "type": "candlestick",
         "x": [
          "2024-02-09"
         ]
        },
        {
         "close": [
          187.14999389648438
         ],
         "decreasing": {
          "fillcolor": "rgba(255, 0, 0, 0.6)",
          "line": {
           "color": "red"
          }
         },
         "high": [
          188.6699981689453
         ],
         "increasing": {
          "fillcolor": "rgba(255, 0, 0, 0.6)",
          "line": {
           "color": "red"
          }
         },
         "low": [
          186.7899932861328
         ],
         "name": "Open > Close",
         "open": [
          188.4199981689453
         ],
         "showlegend": false,
         "type": "candlestick",
         "x": [
          "2024-02-12"
         ]
        },
        {
         "close": [
          185.0399932861328
         ],
         "decreasing": {
          "fillcolor": "rgba(255, 0, 0, 0.6)",
          "line": {
           "color": "red"
          }
         },
         "high": [
          186.2100067138672
         ],
         "increasing": {
          "fillcolor": "rgba(255, 0, 0, 0.6)",
          "line": {
           "color": "red"
          }
         },
         "low": [
          183.50999450683594
         ],
         "name": "Open > Close",
         "open": [
          185.77000427246094
         ],
         "showlegend": false,
         "type": "candlestick",
         "x": [
          "2024-02-13"
         ]
        },
        {
         "close": [
          184.14999389648438
         ],
         "decreasing": {
          "fillcolor": "rgba(255, 0, 0, 0.6)",
          "line": {
           "color": "red"
          }
         },
         "high": [
          185.52999877929688
         ],
         "increasing": {
          "fillcolor": "rgba(255, 0, 0, 0.6)",
          "line": {
           "color": "red"
          }
         },
         "low": [
          182.44000244140625
         ],
         "name": "Open > Close",
         "open": [
          185.32000732421875
         ],
         "showlegend": false,
         "type": "candlestick",
         "x": [
          "2024-02-14"
         ]
        },
        {
         "close": [
          183.86000061035156
         ],
         "decreasing": {
          "fillcolor": "rgba(0, 255, 0, 0.3)",
          "line": {
           "color": "green"
          }
         },
         "high": [
          184.49000549316406
         ],
         "increasing": {
          "fillcolor": "rgba(0, 255, 0, 0.3)",
          "line": {
           "color": "green"
          }
         },
         "low": [
          181.35000610351562
         ],
         "name": "Close > Open",
         "open": [
          183.5500030517578
         ],
         "showlegend": false,
         "type": "candlestick",
         "x": [
          "2024-02-15"
         ]
        },
        {
         "close": [
          182.30999755859375
         ],
         "decreasing": {
          "fillcolor": "rgba(255, 0, 0, 0.6)",
          "line": {
           "color": "red"
          }
         },
         "high": [
          184.85000610351562
         ],
         "increasing": {
          "fillcolor": "rgba(255, 0, 0, 0.6)",
          "line": {
           "color": "red"
          }
         },
         "low": [
          181.6699981689453
         ],
         "name": "Open > Close",
         "open": [
          183.4199981689453
         ],
         "showlegend": false,
         "type": "candlestick",
         "x": [
          "2024-02-16"
         ]
        },
        {
         "close": [
          181.55999755859375
         ],
         "decreasing": {
          "fillcolor": "rgba(255, 0, 0, 0.6)",
          "line": {
           "color": "red"
          }
         },
         "high": [
          182.42999267578125
         ],
         "increasing": {
          "fillcolor": "rgba(255, 0, 0, 0.6)",
          "line": {
           "color": "red"
          }
         },
         "low": [
          180
         ],
         "name": "Open > Close",
         "open": [
          181.7899932861328
         ],
         "showlegend": false,
         "type": "candlestick",
         "x": [
          "2024-02-20"
         ]
        },
        {
         "close": [
          182.32000732421875
         ],
         "decreasing": {
          "fillcolor": "rgba(0, 255, 0, 0.3)",
          "line": {
           "color": "green"
          }
         },
         "high": [
          182.88999938964844
         ],
         "increasing": {
          "fillcolor": "rgba(0, 255, 0, 0.3)",
          "line": {
           "color": "green"
          }
         },
         "low": [
          180.66000366210938
         ],
         "name": "Close > Open",
         "open": [
          181.94000244140625
         ],
         "showlegend": false,
         "type": "candlestick",
         "x": [
          "2024-02-21"
         ]
        },
        {
         "close": [
          184.3699951171875
         ],
         "decreasing": {
          "fillcolor": "rgba(0, 255, 0, 0.3)",
          "line": {
           "color": "green"
          }
         },
         "high": [
          184.9600067138672
         ],
         "increasing": {
          "fillcolor": "rgba(0, 255, 0, 0.3)",
          "line": {
           "color": "green"
          }
         },
         "low": [
          182.4600067138672
         ],
         "name": "Close > Open",
         "open": [
          183.47999572753906
         ],
         "showlegend": false,
         "type": "candlestick",
         "x": [
          "2024-02-22"
         ]
        },
        {
         "close": [
          182.52000427246094
         ],
         "decreasing": {
          "fillcolor": "rgba(255, 0, 0, 0.6)",
          "line": {
           "color": "red"
          }
         },
         "high": [
          185.0399932861328
         ],
         "increasing": {
          "fillcolor": "rgba(255, 0, 0, 0.6)",
          "line": {
           "color": "red"
          }
         },
         "low": [
          182.22999572753906
         ],
         "name": "Open > Close",
         "open": [
          185.00999450683594
         ],
         "showlegend": false,
         "type": "candlestick",
         "x": [
          "2024-02-23"
         ]
        },
        {
         "close": [
          181.16000366210938
         ],
         "decreasing": {
          "fillcolor": "rgba(255, 0, 0, 0.6)",
          "line": {
           "color": "red"
          }
         },
         "high": [
          182.75999450683594
         ],
         "increasing": {
          "fillcolor": "rgba(255, 0, 0, 0.6)",
          "line": {
           "color": "red"
          }
         },
         "low": [
          180.64999389648438
         ],
         "name": "Open > Close",
         "open": [
          182.24000549316406
         ],
         "showlegend": false,
         "type": "candlestick",
         "x": [
          "2024-02-26"
         ]
        },
        {
         "close": [
          182.6300048828125
         ],
         "decreasing": {
          "fillcolor": "rgba(0, 255, 0, 0.3)",
          "line": {
           "color": "green"
          }
         },
         "high": [
          183.9199981689453
         ],
         "increasing": {
          "fillcolor": "rgba(0, 255, 0, 0.3)",
          "line": {
           "color": "green"
          }
         },
         "low": [
          179.55999755859375
         ],
         "name": "Close > Open",
         "open": [
          181.10000610351562
         ],
         "showlegend": false,
         "type": "candlestick",
         "x": [
          "2024-02-27"
         ]
        },
        {
         "close": [
          181.4199981689453
         ],
         "decreasing": {
          "fillcolor": "rgba(255, 0, 0, 0.6)",
          "line": {
           "color": "red"
          }
         },
         "high": [
          183.1199951171875
         ],
         "increasing": {
          "fillcolor": "rgba(255, 0, 0, 0.6)",
          "line": {
           "color": "red"
          }
         },
         "low": [
          180.1300048828125
         ],
         "name": "Open > Close",
         "open": [
          182.50999450683594
         ],
         "showlegend": false,
         "type": "candlestick",
         "x": [
          "2024-02-28"
         ]
        },
        {
         "close": [
          180.75
         ],
         "decreasing": {
          "fillcolor": "rgba(255, 0, 0, 0.6)",
          "line": {
           "color": "red"
          }
         },
         "high": [
          182.57000732421875
         ],
         "increasing": {
          "fillcolor": "rgba(255, 0, 0, 0.6)",
          "line": {
           "color": "red"
          }
         },
         "low": [
          179.52999877929688
         ],
         "name": "Open > Close",
         "open": [
          181.27000427246094
         ],
         "showlegend": false,
         "type": "candlestick",
         "x": [
          "2024-02-29"
         ]
        },
        {
         "close": [
          179.66000366210938
         ],
         "decreasing": {
          "fillcolor": "rgba(0, 255, 0, 0.3)",
          "line": {
           "color": "green"
          }
         },
         "high": [
          180.52999877929688
         ],
         "increasing": {
          "fillcolor": "rgba(0, 255, 0, 0.3)",
          "line": {
           "color": "green"
          }
         },
         "low": [
          177.3800048828125
         ],
         "name": "Close > Open",
         "open": [
          179.5500030517578
         ],
         "showlegend": false,
         "type": "candlestick",
         "x": [
          "2024-03-01"
         ]
        },
        {
         "close": [
          175.10000610351562
         ],
         "decreasing": {
          "fillcolor": "rgba(255, 0, 0, 0.6)",
          "line": {
           "color": "red"
          }
         },
         "high": [
          176.89999389648438
         ],
         "increasing": {
          "fillcolor": "rgba(255, 0, 0, 0.6)",
          "line": {
           "color": "red"
          }
         },
         "low": [
          173.7899932861328
         ],
         "name": "Open > Close",
         "open": [
          176.14999389648438
         ],
         "showlegend": false,
         "type": "candlestick",
         "x": [
          "2024-03-04"
         ]
        },
        {
         "close": [
          170.1199951171875
         ],
         "decreasing": {
          "fillcolor": "rgba(255, 0, 0, 0.6)",
          "line": {
           "color": "red"
          }
         },
         "high": [
          172.0399932861328
         ],
         "increasing": {
          "fillcolor": "rgba(255, 0, 0, 0.6)",
          "line": {
           "color": "red"
          }
         },
         "low": [
          169.6199951171875
         ],
         "name": "Open > Close",
         "open": [
          170.75999450683594
         ],
         "showlegend": false,
         "type": "candlestick",
         "x": [
          "2024-03-05"
         ]
        },
        {
         "close": [
          169.1199951171875
         ],
         "decreasing": {
          "fillcolor": "rgba(255, 0, 0, 0.6)",
          "line": {
           "color": "red"
          }
         },
         "high": [
          171.24000549316406
         ],
         "increasing": {
          "fillcolor": "rgba(255, 0, 0, 0.6)",
          "line": {
           "color": "red"
          }
         },
         "low": [
          168.67999267578125
         ],
         "name": "Open > Close",
         "open": [
          171.05999755859375
         ],
         "showlegend": false,
         "type": "candlestick",
         "x": [
          "2024-03-06"
         ]
        },
        {
         "close": [
          169
         ],
         "decreasing": {
          "fillcolor": "rgba(255, 0, 0, 0.6)",
          "line": {
           "color": "red"
          }
         },
         "high": [
          170.72999572753906
         ],
         "increasing": {
          "fillcolor": "rgba(255, 0, 0, 0.6)",
          "line": {
           "color": "red"
          }
         },
         "low": [
          168.49000549316406
         ],
         "name": "Open > Close",
         "open": [
          169.14999389648438
         ],
         "showlegend": false,
         "type": "candlestick",
         "x": [
          "2024-03-07"
         ]
        },
        {
         "close": [
          170.72999572753906
         ],
         "decreasing": {
          "fillcolor": "rgba(0, 255, 0, 0.3)",
          "line": {
           "color": "green"
          }
         },
         "high": [
          173.6999969482422
         ],
         "increasing": {
          "fillcolor": "rgba(0, 255, 0, 0.3)",
          "line": {
           "color": "green"
          }
         },
         "low": [
          168.94000244140625
         ],
         "name": "Close > Open",
         "open": [
          169
         ],
         "showlegend": false,
         "type": "candlestick",
         "x": [
          "2024-03-08"
         ]
        },
        {
         "close": [
          172.75
         ],
         "decreasing": {
          "fillcolor": "rgba(255, 0, 0, 0.6)",
          "line": {
           "color": "red"
          }
         },
         "high": [
          174.3800048828125
         ],
         "increasing": {
          "fillcolor": "rgba(255, 0, 0, 0.6)",
          "line": {
           "color": "red"
          }
         },
         "low": [
          172.0500030517578
         ],
         "name": "Open > Close",
         "open": [
          172.94000244140625
         ],
         "showlegend": false,
         "type": "candlestick",
         "x": [
          "2024-03-11"
         ]
        },
        {
         "close": [
          173.22999572753906
         ],
         "decreasing": {
          "fillcolor": "rgba(0, 255, 0, 0.3)",
          "line": {
           "color": "green"
          }
         },
         "high": [
          174.02999877929688
         ],
         "increasing": {
          "fillcolor": "rgba(0, 255, 0, 0.3)",
          "line": {
           "color": "green"
          }
         },
         "low": [
          171.00999450683594
         ],
         "name": "Close > Open",
         "open": [
          173.14999389648438
         ],
         "showlegend": false,
         "type": "candlestick",
         "x": [
          "2024-03-12"
         ]
        },
        {
         "close": [
          171.1300048828125
         ],
         "decreasing": {
          "fillcolor": "rgba(255, 0, 0, 0.6)",
          "line": {
           "color": "red"
          }
         },
         "high": [
          173.19000244140625
         ],
         "increasing": {
          "fillcolor": "rgba(255, 0, 0, 0.6)",
          "line": {
           "color": "red"
          }
         },
         "low": [
          170.75999450683594
         ],
         "name": "Open > Close",
         "open": [
          172.77000427246094
         ],
         "showlegend": false,
         "type": "candlestick",
         "x": [
          "2024-03-13"
         ]
        },
        {
         "close": [
          173
         ],
         "decreasing": {
          "fillcolor": "rgba(0, 255, 0, 0.3)",
          "line": {
           "color": "green"
          }
         },
         "high": [
          174.30999755859375
         ],
         "increasing": {
          "fillcolor": "rgba(0, 255, 0, 0.3)",
          "line": {
           "color": "green"
          }
         },
         "low": [
          172.0500030517578
         ],
         "name": "Close > Open",
         "open": [
          172.91000366210938
         ],
         "showlegend": false,
         "type": "candlestick",
         "x": [
          "2024-03-14"
         ]
        },
        {
         "close": [
          172.6199951171875
         ],
         "decreasing": {
          "fillcolor": "rgba(0, 255, 0, 0.3)",
          "line": {
           "color": "green"
          }
         },
         "high": [
          172.6199951171875
         ],
         "increasing": {
          "fillcolor": "rgba(0, 255, 0, 0.3)",
          "line": {
           "color": "green"
          }
         },
         "low": [
          170.2899932861328
         ],
         "name": "Close > Open",
         "open": [
          171.1699981689453
         ],
         "showlegend": false,
         "type": "candlestick",
         "x": [
          "2024-03-15"
         ]
        },
        {
         "close": [
          173.72000122070312
         ],
         "decreasing": {
          "fillcolor": "rgba(255, 0, 0, 0.6)",
          "line": {
           "color": "red"
          }
         },
         "high": [
          177.7100067138672
         ],
         "increasing": {
          "fillcolor": "rgba(255, 0, 0, 0.6)",
          "line": {
           "color": "red"
          }
         },
         "low": [
          173.52000427246094
         ],
         "name": "Open > Close",
         "open": [
          175.57000732421875
         ],
         "showlegend": false,
         "type": "candlestick",
         "x": [
          "2024-03-18"
         ]
        },
        {
         "close": [
          176.0800018310547
         ],
         "decreasing": {
          "fillcolor": "rgba(0, 255, 0, 0.3)",
          "line": {
           "color": "green"
          }
         },
         "high": [
          176.61000061035156
         ],
         "increasing": {
          "fillcolor": "rgba(0, 255, 0, 0.3)",
          "line": {
           "color": "green"
          }
         },
         "low": [
          173.02999877929688
         ],
         "name": "Close > Open",
         "open": [
          174.33999633789062
         ],
         "showlegend": false,
         "type": "candlestick",
         "x": [
          "2024-03-19"
         ]
        },
        {
         "close": [
          178.6699981689453
         ],
         "decreasing": {
          "fillcolor": "rgba(0, 255, 0, 0.3)",
          "line": {
           "color": "green"
          }
         },
         "high": [
          178.6699981689453
         ],
         "increasing": {
          "fillcolor": "rgba(0, 255, 0, 0.3)",
          "line": {
           "color": "green"
          }
         },
         "low": [
          175.08999633789062
         ],
         "name": "Close > Open",
         "open": [
          175.72000122070312
         ],
         "showlegend": false,
         "type": "candlestick",
         "x": [
          "2024-03-20"
         ]
        },
        {
         "close": [
          171.3699951171875
         ],
         "decreasing": {
          "fillcolor": "rgba(255, 0, 0, 0.6)",
          "line": {
           "color": "red"
          }
         },
         "high": [
          177.49000549316406
         ],
         "increasing": {
          "fillcolor": "rgba(255, 0, 0, 0.6)",
          "line": {
           "color": "red"
          }
         },
         "low": [
          170.83999633789062
         ],
         "name": "Open > Close",
         "open": [
          177.0500030517578
         ],
         "showlegend": false,
         "type": "candlestick",
         "x": [
          "2024-03-21"
         ]
        },
        {
         "close": [
          172.27999877929688
         ],
         "decreasing": {
          "fillcolor": "rgba(0, 255, 0, 0.3)",
          "line": {
           "color": "green"
          }
         },
         "high": [
          173.0500030517578
         ],
         "increasing": {
          "fillcolor": "rgba(0, 255, 0, 0.3)",
          "line": {
           "color": "green"
          }
         },
         "low": [
          170.05999755859375
         ],
         "name": "Close > Open",
         "open": [
          171.75999450683594
         ],
         "showlegend": false,
         "type": "candlestick",
         "x": [
          "2024-03-22"
         ]
        },
        {
         "close": [
          170.85000610351562
         ],
         "decreasing": {
          "fillcolor": "rgba(0, 255, 0, 0.3)",
          "line": {
           "color": "green"
          }
         },
         "high": [
          171.94000244140625
         ],
         "increasing": {
          "fillcolor": "rgba(0, 255, 0, 0.3)",
          "line": {
           "color": "green"
          }
         },
         "low": [
          169.4499969482422
         ],
         "name": "Close > Open",
         "open": [
          170.57000732421875
         ],
         "showlegend": false,
         "type": "candlestick",
         "x": [
          "2024-03-25"
         ]
        },
        {
         "close": [
          169.7100067138672
         ],
         "decreasing": {
          "fillcolor": "rgba(255, 0, 0, 0.6)",
          "line": {
           "color": "red"
          }
         },
         "high": [
          171.4199981689453
         ],
         "increasing": {
          "fillcolor": "rgba(255, 0, 0, 0.6)",
          "line": {
           "color": "red"
          }
         },
         "low": [
          169.5800018310547
         ],
         "name": "Open > Close",
         "open": [
          170
         ],
         "showlegend": false,
         "type": "candlestick",
         "x": [
          "2024-03-26"
         ]
        },
        {
         "close": [
          173.30999755859375
         ],
         "decreasing": {
          "fillcolor": "rgba(0, 255, 0, 0.3)",
          "line": {
           "color": "green"
          }
         },
         "high": [
          173.60000610351562
         ],
         "increasing": {
          "fillcolor": "rgba(0, 255, 0, 0.3)",
          "line": {
           "color": "green"
          }
         },
         "low": [
          170.11000061035156
         ],
         "name": "Close > Open",
         "open": [
          170.41000366210938
         ],
         "showlegend": false,
         "type": "candlestick",
         "x": [
          "2024-03-27"
         ]
        },
        {
         "close": [
          171.47999572753906
         ],
         "decreasing": {
          "fillcolor": "rgba(255, 0, 0, 0.6)",
          "line": {
           "color": "red"
          }
         },
         "high": [
          172.22999572753906
         ],
         "increasing": {
          "fillcolor": "rgba(255, 0, 0, 0.6)",
          "line": {
           "color": "red"
          }
         },
         "low": [
          170.50999450683594
         ],
         "name": "Open > Close",
         "open": [
          171.75
         ],
         "showlegend": false,
         "type": "candlestick",
         "x": [
          "2024-03-28"
         ]
        },
        {
         "close": [
          170.02999877929688
         ],
         "decreasing": {
          "fillcolor": "rgba(255, 0, 0, 0.6)",
          "line": {
           "color": "red"
          }
         },
         "high": [
          171.25
         ],
         "increasing": {
          "fillcolor": "rgba(255, 0, 0, 0.6)",
          "line": {
           "color": "red"
          }
         },
         "low": [
          169.47999572753906
         ],
         "name": "Open > Close",
         "open": [
          171.19000244140625
         ],
         "showlegend": false,
         "type": "candlestick",
         "x": [
          "2024-04-01"
         ]
        },
        {
         "close": [
          168.83999633789062
         ],
         "decreasing": {
          "fillcolor": "rgba(255, 0, 0, 0.6)",
          "line": {
           "color": "red"
          }
         },
         "high": [
          169.33999633789062
         ],
         "increasing": {
          "fillcolor": "rgba(255, 0, 0, 0.6)",
          "line": {
           "color": "red"
          }
         },
         "low": [
          168.22999572753906
         ],
         "name": "Open > Close",
         "open": [
          169.0800018310547
         ],
         "showlegend": false,
         "type": "candlestick",
         "x": [
          "2024-04-02"
         ]
        },
        {
         "close": [
          169.64999389648438
         ],
         "decreasing": {
          "fillcolor": "rgba(0, 255, 0, 0.3)",
          "line": {
           "color": "green"
          }
         },
         "high": [
          170.67999267578125
         ],
         "increasing": {
          "fillcolor": "rgba(0, 255, 0, 0.3)",
          "line": {
           "color": "green"
          }
         },
         "low": [
          168.5800018310547
         ],
         "name": "Close > Open",
         "open": [
          168.7899932861328
         ],
         "showlegend": false,
         "type": "candlestick",
         "x": [
          "2024-04-03"
         ]
        },
        {
         "close": [
          168.82000732421875
         ],
         "decreasing": {
          "fillcolor": "rgba(255, 0, 0, 0.6)",
          "line": {
           "color": "red"
          }
         },
         "high": [
          171.9199981689453
         ],
         "increasing": {
          "fillcolor": "rgba(255, 0, 0, 0.6)",
          "line": {
           "color": "red"
          }
         },
         "low": [
          168.82000732421875
         ],
         "name": "Open > Close",
         "open": [
          170.2899932861328
         ],
         "showlegend": false,
         "type": "candlestick",
         "x": [
          "2024-04-04"
         ]
        },
        {
         "close": [
          169.5800018310547
         ],
         "decreasing": {
          "fillcolor": "rgba(255, 0, 0, 0.6)",
          "line": {
           "color": "red"
          }
         },
         "high": [
          170.38999938964844
         ],
         "increasing": {
          "fillcolor": "rgba(255, 0, 0, 0.6)",
          "line": {
           "color": "red"
          }
         },
         "low": [
          168.9499969482422
         ],
         "name": "Open > Close",
         "open": [
          169.58999633789062
         ],
         "showlegend": false,
         "type": "candlestick",
         "x": [
          "2024-04-05"
         ]
        },
        {
         "close": [
          168.4499969482422
         ],
         "decreasing": {
          "fillcolor": "rgba(255, 0, 0, 0.6)",
          "line": {
           "color": "red"
          }
         },
         "high": [
          169.1999969482422
         ],
         "increasing": {
          "fillcolor": "rgba(255, 0, 0, 0.6)",
          "line": {
           "color": "red"
          }
         },
         "low": [
          168.24000549316406
         ],
         "name": "Open > Close",
         "open": [
          169.02999877929688
         ],
         "showlegend": false,
         "type": "candlestick",
         "x": [
          "2024-04-08"
         ]
        },
        {
         "close": [
          169.6699981689453
         ],
         "decreasing": {
          "fillcolor": "rgba(0, 255, 0, 0.3)",
          "line": {
           "color": "green"
          }
         },
         "high": [
          170.0800018310547
         ],
         "increasing": {
          "fillcolor": "rgba(0, 255, 0, 0.3)",
          "line": {
           "color": "green"
          }
         },
         "low": [
          168.35000610351562
         ],
         "name": "Close > Open",
         "open": [
          168.6999969482422
         ],
         "showlegend": false,
         "type": "candlestick",
         "x": [
          "2024-04-09"
         ]
        },
        {
         "close": [
          167.77999877929688
         ],
         "decreasing": {
          "fillcolor": "rgba(255, 0, 0, 0.6)",
          "line": {
           "color": "red"
          }
         },
         "high": [
          169.08999633789062
         ],
         "increasing": {
          "fillcolor": "rgba(255, 0, 0, 0.6)",
          "line": {
           "color": "red"
          }
         },
         "low": [
          167.11000061035156
         ],
         "name": "Open > Close",
         "open": [
          168.8000030517578
         ],
         "showlegend": false,
         "type": "candlestick",
         "x": [
          "2024-04-10"
         ]
        },
        {
         "close": [
          175.0399932861328
         ],
         "decreasing": {
          "fillcolor": "rgba(0, 255, 0, 0.3)",
          "line": {
           "color": "green"
          }
         },
         "high": [
          175.4600067138672
         ],
         "increasing": {
          "fillcolor": "rgba(0, 255, 0, 0.3)",
          "line": {
           "color": "green"
          }
         },
         "low": [
          168.16000366210938
         ],
         "name": "Close > Open",
         "open": [
          168.33999633789062
         ],
         "showlegend": false,
         "type": "candlestick",
         "x": [
          "2024-04-11"
         ]
        },
        {
         "close": [
          176.5500030517578
         ],
         "decreasing": {
          "fillcolor": "rgba(0, 255, 0, 0.3)",
          "line": {
           "color": "green"
          }
         },
         "high": [
          178.36000061035156
         ],
         "increasing": {
          "fillcolor": "rgba(0, 255, 0, 0.3)",
          "line": {
           "color": "green"
          }
         },
         "low": [
          174.2100067138672
         ],
         "name": "Close > Open",
         "open": [
          174.25999450683594
         ],
         "showlegend": false,
         "type": "candlestick",
         "x": [
          "2024-04-12"
         ]
        },
        {
         "close": [
          172.69000244140625
         ],
         "decreasing": {
          "fillcolor": "rgba(255, 0, 0, 0.6)",
          "line": {
           "color": "red"
          }
         },
         "high": [
          176.6300048828125
         ],
         "increasing": {
          "fillcolor": "rgba(255, 0, 0, 0.6)",
          "line": {
           "color": "red"
          }
         },
         "low": [
          172.5
         ],
         "name": "Open > Close",
         "open": [
          175.36000061035156
         ],
         "showlegend": false,
         "type": "candlestick",
         "x": [
          "2024-04-15"
         ]
        },
        {
         "close": [
          169.3800048828125
         ],
         "decreasing": {
          "fillcolor": "rgba(255, 0, 0, 0.6)",
          "line": {
           "color": "red"
          }
         },
         "high": [
          173.75999450683594
         ],
         "increasing": {
          "fillcolor": "rgba(255, 0, 0, 0.6)",
          "line": {
           "color": "red"
          }
         },
         "low": [
          168.27000427246094
         ],
         "name": "Open > Close",
         "open": [
          171.75
         ],
         "showlegend": false,
         "type": "candlestick",
         "x": [
          "2024-04-16"
         ]
        },
        {
         "close": [
          168
         ],
         "decreasing": {
          "fillcolor": "rgba(255, 0, 0, 0.6)",
          "line": {
           "color": "red"
          }
         },
         "high": [
          170.64999389648438
         ],
         "increasing": {
          "fillcolor": "rgba(255, 0, 0, 0.6)",
          "line": {
           "color": "red"
          }
         },
         "low": [
          168
         ],
         "name": "Open > Close",
         "open": [
          169.61000061035156
         ],
         "showlegend": false,
         "type": "candlestick",
         "x": [
          "2024-04-17"
         ]
        },
        {
         "close": [
          167.0399932861328
         ],
         "decreasing": {
          "fillcolor": "rgba(255, 0, 0, 0.6)",
          "line": {
           "color": "red"
          }
         },
         "high": [
          168.63999938964844
         ],
         "increasing": {
          "fillcolor": "rgba(255, 0, 0, 0.6)",
          "line": {
           "color": "red"
          }
         },
         "low": [
          166.5500030517578
         ],
         "name": "Open > Close",
         "open": [
          168.02999877929688
         ],
         "showlegend": false,
         "type": "candlestick",
         "x": [
          "2024-04-18"
         ]
        },
        {
         "close": [
          165
         ],
         "decreasing": {
          "fillcolor": "rgba(255, 0, 0, 0.6)",
          "line": {
           "color": "red"
          }
         },
         "high": [
          166.39999389648438
         ],
         "increasing": {
          "fillcolor": "rgba(255, 0, 0, 0.6)",
          "line": {
           "color": "red"
          }
         },
         "low": [
          164.0800018310547
         ],
         "name": "Open > Close",
         "open": [
          166.2100067138672
         ],
         "showlegend": false,
         "type": "candlestick",
         "x": [
          "2024-04-19"
         ]
        },
        {
         "close": [
          165.83999633789062
         ],
         "decreasing": {
          "fillcolor": "rgba(0, 255, 0, 0.3)",
          "line": {
           "color": "green"
          }
         },
         "high": [
          167.25999450683594
         ],
         "increasing": {
          "fillcolor": "rgba(0, 255, 0, 0.3)",
          "line": {
           "color": "green"
          }
         },
         "low": [
          164.77000427246094
         ],
         "name": "Close > Open",
         "open": [
          165.52000427246094
         ],
         "showlegend": false,
         "type": "candlestick",
         "x": [
          "2024-04-22"
         ]
        },
        {
         "close": [
          166.89999389648438
         ],
         "decreasing": {
          "fillcolor": "rgba(0, 255, 0, 0.3)",
          "line": {
           "color": "green"
          }
         },
         "high": [
          167.0500030517578
         ],
         "increasing": {
          "fillcolor": "rgba(0, 255, 0, 0.3)",
          "line": {
           "color": "green"
          }
         },
         "low": [
          164.9199981689453
         ],
         "name": "Close > Open",
         "open": [
          165.35000610351562
         ],
         "showlegend": false,
         "type": "candlestick",
         "x": [
          "2024-04-23"
         ]
        },
        {
         "close": [
          169.02000427246094
         ],
         "decreasing": {
          "fillcolor": "rgba(0, 255, 0, 0.3)",
          "line": {
           "color": "green"
          }
         },
         "high": [
          169.3000030517578
         ],
         "increasing": {
          "fillcolor": "rgba(0, 255, 0, 0.3)",
          "line": {
           "color": "green"
          }
         },
         "low": [
          166.2100067138672
         ],
         "name": "Close > Open",
         "open": [
          166.5399932861328
         ],
         "showlegend": false,
         "type": "candlestick",
         "x": [
          "2024-04-24"
         ]
        },
        {
         "close": [
          169.88999938964844
         ],
         "decreasing": {
          "fillcolor": "rgba(0, 255, 0, 0.3)",
          "line": {
           "color": "green"
          }
         },
         "high": [
          170.61000061035156
         ],
         "increasing": {
          "fillcolor": "rgba(0, 255, 0, 0.3)",
          "line": {
           "color": "green"
          }
         },
         "low": [
          168.14999389648438
         ],
         "name": "Close > Open",
         "open": [
          169.52999877929688
         ],
         "showlegend": false,
         "type": "candlestick",
         "x": [
          "2024-04-25"
         ]
        },
        {
         "close": [
          169.3000030517578
         ],
         "decreasing": {
          "fillcolor": "rgba(255, 0, 0, 0.6)",
          "line": {
           "color": "red"
          }
         },
         "high": [
          171.33999633789062
         ],
         "increasing": {
          "fillcolor": "rgba(255, 0, 0, 0.6)",
          "line": {
           "color": "red"
          }
         },
         "low": [
          169.17999267578125
         ],
         "name": "Open > Close",
         "open": [
          169.8800048828125
         ],
         "showlegend": false,
         "type": "candlestick",
         "x": [
          "2024-04-26"
         ]
        },
        {
         "close": [
          173.5
         ],
         "decreasing": {
          "fillcolor": "rgba(0, 255, 0, 0.3)",
          "line": {
           "color": "green"
          }
         },
         "high": [
          176.02999877929688
         ],
         "increasing": {
          "fillcolor": "rgba(0, 255, 0, 0.3)",
          "line": {
           "color": "green"
          }
         },
         "low": [
          173.10000610351562
         ],
         "name": "Close > Open",
         "open": [
          173.3699951171875
         ],
         "showlegend": false,
         "type": "candlestick",
         "x": [
          "2024-04-29"
         ]
        },
        {
         "close": [
          170.3300018310547
         ],
         "decreasing": {
          "fillcolor": "rgba(255, 0, 0, 0.6)",
          "line": {
           "color": "red"
          }
         },
         "high": [
          174.99000549316406
         ],
         "increasing": {
          "fillcolor": "rgba(255, 0, 0, 0.6)",
          "line": {
           "color": "red"
          }
         },
         "low": [
          170
         ],
         "name": "Open > Close",
         "open": [
          173.3300018310547
         ],
         "showlegend": false,
         "type": "candlestick",
         "x": [
          "2024-04-30"
         ]
        },
        {
         "close": [
          169.3000030517578
         ],
         "decreasing": {
          "fillcolor": "rgba(255, 0, 0, 0.6)",
          "line": {
           "color": "red"
          }
         },
         "high": [
          172.7100067138672
         ],
         "increasing": {
          "fillcolor": "rgba(255, 0, 0, 0.6)",
          "line": {
           "color": "red"
          }
         },
         "low": [
          169.11000061035156
         ],
         "name": "Open > Close",
         "open": [
          169.5800018310547
         ],
         "showlegend": false,
         "type": "candlestick",
         "x": [
          "2024-05-01"
         ]
        },
        {
         "close": [
          173.02999877929688
         ],
         "decreasing": {
          "fillcolor": "rgba(0, 255, 0, 0.3)",
          "line": {
           "color": "green"
          }
         },
         "high": [
          173.4199981689453
         ],
         "increasing": {
          "fillcolor": "rgba(0, 255, 0, 0.3)",
          "line": {
           "color": "green"
          }
         },
         "low": [
          170.88999938964844
         ],
         "name": "Close > Open",
         "open": [
          172.50999450683594
         ],
         "showlegend": false,
         "type": "candlestick",
         "x": [
          "2024-05-02"
         ]
        },
        {
         "close": [
          183.3800048828125
         ],
         "decreasing": {
          "fillcolor": "rgba(255, 0, 0, 0.6)",
          "line": {
           "color": "red"
          }
         },
         "high": [
          187
         ],
         "increasing": {
          "fillcolor": "rgba(255, 0, 0, 0.6)",
          "line": {
           "color": "red"
          }
         },
         "low": [
          182.66000366210938
         ],
         "name": "Open > Close",
         "open": [
          186.64999389648438
         ],
         "showlegend": false,
         "type": "candlestick",
         "x": [
          "2024-05-03"
         ]
        },
        {
         "close": [
          181.7100067138672
         ],
         "decreasing": {
          "fillcolor": "rgba(255, 0, 0, 0.6)",
          "line": {
           "color": "red"
          }
         },
         "high": [
          184.1999969482422
         ],
         "increasing": {
          "fillcolor": "rgba(255, 0, 0, 0.6)",
          "line": {
           "color": "red"
          }
         },
         "low": [
          180.4199981689453
         ],
         "name": "Open > Close",
         "open": [
          182.35000610351562
         ],
         "showlegend": false,
         "type": "candlestick",
         "x": [
          "2024-05-06"
         ]
        },
        {
         "close": [
          182.39999389648438
         ],
         "decreasing": {
          "fillcolor": "rgba(255, 0, 0, 0.6)",
          "line": {
           "color": "red"
          }
         },
         "high": [
          184.89999389648438
         ],
         "increasing": {
          "fillcolor": "rgba(255, 0, 0, 0.6)",
          "line": {
           "color": "red"
          }
         },
         "low": [
          181.32000732421875
         ],
         "name": "Open > Close",
         "open": [
          183.4499969482422
         ],
         "showlegend": false,
         "type": "candlestick",
         "x": [
          "2024-05-07"
         ]
        },
        {
         "close": [
          182.74000549316406
         ],
         "decreasing": {
          "fillcolor": "rgba(255, 0, 0, 0.6)",
          "line": {
           "color": "red"
          }
         },
         "high": [
          183.07000732421875
         ],
         "increasing": {
          "fillcolor": "rgba(255, 0, 0, 0.6)",
          "line": {
           "color": "red"
          }
         },
         "low": [
          181.4499969482422
         ],
         "name": "Open > Close",
         "open": [
          182.85000610351562
         ],
         "showlegend": false,
         "type": "candlestick",
         "x": [
          "2024-05-08"
         ]
        },
        {
         "close": [
          184.57000732421875
         ],
         "decreasing": {
          "fillcolor": "rgba(0, 255, 0, 0.3)",
          "line": {
           "color": "green"
          }
         },
         "high": [
          184.66000366210938
         ],
         "increasing": {
          "fillcolor": "rgba(0, 255, 0, 0.3)",
          "line": {
           "color": "green"
          }
         },
         "low": [
          182.11000061035156
         ],
         "name": "Close > Open",
         "open": [
          182.55999755859375
         ],
         "showlegend": false,
         "type": "candlestick",
         "x": [
          "2024-05-09"
         ]
        },
        {
         "close": [
          183.0500030517578
         ],
         "decreasing": {
          "fillcolor": "rgba(255, 0, 0, 0.6)",
          "line": {
           "color": "red"
          }
         },
         "high": [
          185.08999633789062
         ],
         "increasing": {
          "fillcolor": "rgba(255, 0, 0, 0.6)",
          "line": {
           "color": "red"
          }
         },
         "low": [
          182.1300048828125
         ],
         "name": "Open > Close",
         "open": [
          184.89999389648438
         ],
         "showlegend": false,
         "type": "candlestick",
         "x": [
          "2024-05-10"
         ]
        },
        {
         "close": [
          186.27999877929688
         ],
         "decreasing": {
          "fillcolor": "rgba(0, 255, 0, 0.3)",
          "line": {
           "color": "green"
          }
         },
         "high": [
          187.10000610351562
         ],
         "increasing": {
          "fillcolor": "rgba(0, 255, 0, 0.3)",
          "line": {
           "color": "green"
          }
         },
         "low": [
          184.6199951171875
         ],
         "name": "Close > Open",
         "open": [
          185.44000244140625
         ],
         "showlegend": false,
         "type": "candlestick",
         "x": [
          "2024-05-13"
         ]
        },
        {
         "close": [
          187.42999267578125
         ],
         "decreasing": {
          "fillcolor": "rgba(255, 0, 0, 0.6)",
          "line": {
           "color": "red"
          }
         },
         "high": [
          188.3000030517578
         ],
         "increasing": {
          "fillcolor": "rgba(255, 0, 0, 0.6)",
          "line": {
           "color": "red"
          }
         },
         "low": [
          186.2899932861328
         ],
         "name": "Open > Close",
         "open": [
          187.50999450683594
         ],
         "showlegend": false,
         "type": "candlestick",
         "x": [
          "2024-05-14"
         ]
        },
        {
         "close": [
          189.72000122070312
         ],
         "decreasing": {
          "fillcolor": "rgba(0, 255, 0, 0.3)",
          "line": {
           "color": "green"
          }
         },
         "high": [
          190.64999389648438
         ],
         "increasing": {
          "fillcolor": "rgba(0, 255, 0, 0.3)",
          "line": {
           "color": "green"
          }
         },
         "low": [
          187.3699951171875
         ],
         "name": "Close > Open",
         "open": [
          187.91000366210938
         ],
         "showlegend": false,
         "type": "candlestick",
         "x": [
          "2024-05-15"
         ]
        },
        {
         "close": [
          189.83999633789062
         ],
         "decreasing": {
          "fillcolor": "rgba(255, 0, 0, 0.6)",
          "line": {
           "color": "red"
          }
         },
         "high": [
          191.10000610351562
         ],
         "increasing": {
          "fillcolor": "rgba(255, 0, 0, 0.6)",
          "line": {
           "color": "red"
          }
         },
         "low": [
          189.66000366210938
         ],
         "name": "Open > Close",
         "open": [
          190.47000122070312
         ],
         "showlegend": false,
         "type": "candlestick",
         "x": [
          "2024-05-16"
         ]
        },
        {
         "close": [
          189.8699951171875
         ],
         "decreasing": {
          "fillcolor": "rgba(0, 255, 0, 0.3)",
          "line": {
           "color": "green"
          }
         },
         "high": [
          190.80999755859375
         ],
         "increasing": {
          "fillcolor": "rgba(0, 255, 0, 0.3)",
          "line": {
           "color": "green"
          }
         },
         "low": [
          189.17999267578125
         ],
         "name": "Close > Open",
         "open": [
          189.50999450683594
         ],
         "showlegend": false,
         "type": "candlestick",
         "x": [
          "2024-05-17"
         ]
        },
        {
         "close": [
          191.0399932861328
         ],
         "decreasing": {
          "fillcolor": "rgba(0, 255, 0, 0.3)",
          "line": {
           "color": "green"
          }
         },
         "high": [
          191.9199981689453
         ],
         "increasing": {
          "fillcolor": "rgba(0, 255, 0, 0.3)",
          "line": {
           "color": "green"
          }
         },
         "low": [
          189.00999450683594
         ],
         "name": "Close > Open",
         "open": [
          189.3300018310547
         ],
         "showlegend": false,
         "type": "candlestick",
         "x": [
          "2024-05-20"
         ]
        },
        {
         "close": [
          192.35000610351562
         ],
         "decreasing": {
          "fillcolor": "rgba(0, 255, 0, 0.3)",
          "line": {
           "color": "green"
          }
         },
         "high": [
          192.72999572753906
         ],
         "increasing": {
          "fillcolor": "rgba(0, 255, 0, 0.3)",
          "line": {
           "color": "green"
          }
         },
         "low": [
          190.9199981689453
         ],
         "name": "Close > Open",
         "open": [
          191.08999633789062
         ],
         "showlegend": false,
         "type": "candlestick",
         "x": [
          "2024-05-21"
         ]
        },
        {
         "close": [
          190.89999389648438
         ],
         "decreasing": {
          "fillcolor": "rgba(255, 0, 0, 0.6)",
          "line": {
           "color": "red"
          }
         },
         "high": [
          192.82000732421875
         ],
         "increasing": {
          "fillcolor": "rgba(255, 0, 0, 0.6)",
          "line": {
           "color": "red"
          }
         },
         "low": [
          190.27000427246094
         ],
         "name": "Open > Close",
         "open": [
          192.27000427246094
         ],
         "showlegend": false,
         "type": "candlestick",
         "x": [
          "2024-05-22"
         ]
        },
        {
         "close": [
          186.8800048828125
         ],
         "decreasing": {
          "fillcolor": "rgba(255, 0, 0, 0.6)",
          "line": {
           "color": "red"
          }
         },
         "high": [
          191
         ],
         "increasing": {
          "fillcolor": "rgba(255, 0, 0, 0.6)",
          "line": {
           "color": "red"
          }
         },
         "low": [
          186.6300048828125
         ],
         "name": "Open > Close",
         "open": [
          190.97999572753906
         ],
         "showlegend": false,
         "type": "candlestick",
         "x": [
          "2024-05-23"
         ]
        },
        {
         "close": [
          189.97999572753906
         ],
         "decreasing": {
          "fillcolor": "rgba(0, 255, 0, 0.3)",
          "line": {
           "color": "green"
          }
         },
         "high": [
          190.5800018310547
         ],
         "increasing": {
          "fillcolor": "rgba(0, 255, 0, 0.3)",
          "line": {
           "color": "green"
          }
         },
         "low": [
          188.0399932861328
         ],
         "name": "Close > Open",
         "open": [
          188.82000732421875
         ],
         "showlegend": false,
         "type": "candlestick",
         "x": [
          "2024-05-24"
         ]
        },
        {
         "close": [
          189.99000549316406
         ],
         "decreasing": {
          "fillcolor": "rgba(255, 0, 0, 0.6)",
          "line": {
           "color": "red"
          }
         },
         "high": [
          193
         ],
         "increasing": {
          "fillcolor": "rgba(255, 0, 0, 0.6)",
          "line": {
           "color": "red"
          }
         },
         "low": [
          189.10000610351562
         ],
         "name": "Open > Close",
         "open": [
          191.50999450683594
         ],
         "showlegend": false,
         "type": "candlestick",
         "x": [
          "2024-05-28"
         ]
        },
        {
         "close": [
          190.2899932861328
         ],
         "decreasing": {
          "fillcolor": "rgba(0, 255, 0, 0.3)",
          "line": {
           "color": "green"
          }
         },
         "high": [
          192.25
         ],
         "increasing": {
          "fillcolor": "rgba(0, 255, 0, 0.3)",
          "line": {
           "color": "green"
          }
         },
         "low": [
          189.50999450683594
         ],
         "name": "Close > Open",
         "open": [
          189.61000061035156
         ],
         "showlegend": false,
         "type": "candlestick",
         "x": [
          "2024-05-29"
         ]
        },
        {
         "close": [
          191.2899932861328
         ],
         "decreasing": {
          "fillcolor": "rgba(0, 255, 0, 0.3)",
          "line": {
           "color": "green"
          }
         },
         "high": [
          192.17999267578125
         ],
         "increasing": {
          "fillcolor": "rgba(0, 255, 0, 0.3)",
          "line": {
           "color": "green"
          }
         },
         "low": [
          190.6300048828125
         ],
         "name": "Close > Open",
         "open": [
          190.75999450683594
         ],
         "showlegend": false,
         "type": "candlestick",
         "x": [
          "2024-05-30"
         ]
        },
        {
         "close": [
          192.25
         ],
         "decreasing": {
          "fillcolor": "rgba(0, 255, 0, 0.3)",
          "line": {
           "color": "green"
          }
         },
         "high": [
          192.57000732421875
         ],
         "increasing": {
          "fillcolor": "rgba(0, 255, 0, 0.3)",
          "line": {
           "color": "green"
          }
         },
         "low": [
          189.91000366210938
         ],
         "name": "Close > Open",
         "open": [
          191.44000244140625
         ],
         "showlegend": false,
         "type": "candlestick",
         "x": [
          "2024-05-31"
         ]
        },
        {
         "close": [
          194.02999877929688
         ],
         "decreasing": {
          "fillcolor": "rgba(0, 255, 0, 0.3)",
          "line": {
           "color": "green"
          }
         },
         "high": [
          194.99000549316406
         ],
         "increasing": {
          "fillcolor": "rgba(0, 255, 0, 0.3)",
          "line": {
           "color": "green"
          }
         },
         "low": [
          192.52000427246094
         ],
         "name": "Close > Open",
         "open": [
          192.89999389648438
         ],
         "showlegend": false,
         "type": "candlestick",
         "x": [
          "2024-06-03"
         ]
        },
        {
         "close": [
          194.35000610351562
         ],
         "decreasing": {
          "fillcolor": "rgba(255, 0, 0, 0.6)",
          "line": {
           "color": "red"
          }
         },
         "high": [
          195.32000732421875
         ],
         "increasing": {
          "fillcolor": "rgba(255, 0, 0, 0.6)",
          "line": {
           "color": "red"
          }
         },
         "low": [
          193.02999877929688
         ],
         "name": "Open > Close",
         "open": [
          194.63999938964844
         ],
         "showlegend": false,
         "type": "candlestick",
         "x": [
          "2024-06-04"
         ]
        },
        {
         "close": [
          195.8699951171875
         ],
         "decreasing": {
          "fillcolor": "rgba(0, 255, 0, 0.3)",
          "line": {
           "color": "green"
          }
         },
         "high": [
          196.89999389648438
         ],
         "increasing": {
          "fillcolor": "rgba(0, 255, 0, 0.3)",
          "line": {
           "color": "green"
          }
         },
         "low": [
          194.8699951171875
         ],
         "name": "Close > Open",
         "open": [
          195.39999389648438
         ],
         "showlegend": false,
         "type": "candlestick",
         "x": [
          "2024-06-05"
         ]
        },
        {
         "close": [
          194.47999572753906
         ],
         "decreasing": {
          "fillcolor": "rgba(255, 0, 0, 0.6)",
          "line": {
           "color": "red"
          }
         },
         "high": [
          196.5
         ],
         "increasing": {
          "fillcolor": "rgba(255, 0, 0, 0.6)",
          "line": {
           "color": "red"
          }
         },
         "low": [
          194.1699981689453
         ],
         "name": "Open > Close",
         "open": [
          195.69000244140625
         ],
         "showlegend": false,
         "type": "candlestick",
         "x": [
          "2024-06-06"
         ]
        },
        {
         "close": [
          196.88999938964844
         ],
         "decreasing": {
          "fillcolor": "rgba(0, 255, 0, 0.3)",
          "line": {
           "color": "green"
          }
         },
         "high": [
          196.94000244140625
         ],
         "increasing": {
          "fillcolor": "rgba(0, 255, 0, 0.3)",
          "line": {
           "color": "green"
          }
         },
         "low": [
          194.13999938964844
         ],
         "name": "Close > Open",
         "open": [
          194.64999389648438
         ],
         "showlegend": false,
         "type": "candlestick",
         "x": [
          "2024-06-07"
         ]
        },
        {
         "close": [
          193.1199951171875
         ],
         "decreasing": {
          "fillcolor": "rgba(255, 0, 0, 0.6)",
          "line": {
           "color": "red"
          }
         },
         "high": [
          197.3000030517578
         ],
         "increasing": {
          "fillcolor": "rgba(255, 0, 0, 0.6)",
          "line": {
           "color": "red"
          }
         },
         "low": [
          192.14999389648438
         ],
         "name": "Open > Close",
         "open": [
          196.89999389648438
         ],
         "showlegend": false,
         "type": "candlestick",
         "x": [
          "2024-06-10"
         ]
        },
        {
         "close": [
          207.14999389648438
         ],
         "decreasing": {
          "fillcolor": "rgba(0, 255, 0, 0.3)",
          "line": {
           "color": "green"
          }
         },
         "high": [
          207.16000366210938
         ],
         "increasing": {
          "fillcolor": "rgba(0, 255, 0, 0.3)",
          "line": {
           "color": "green"
          }
         },
         "low": [
          193.6300048828125
         ],
         "name": "Close > Open",
         "open": [
          193.64999389648438
         ],
         "showlegend": false,
         "type": "candlestick",
         "x": [
          "2024-06-11"
         ]
        },
        {
         "close": [
          213.07000732421875
         ],
         "decreasing": {
          "fillcolor": "rgba(0, 255, 0, 0.3)",
          "line": {
           "color": "green"
          }
         },
         "high": [
          220.1999969482422
         ],
         "increasing": {
          "fillcolor": "rgba(0, 255, 0, 0.3)",
          "line": {
           "color": "green"
          }
         },
         "low": [
          206.89999389648438
         ],
         "name": "Close > Open",
         "open": [
          207.3699951171875
         ],
         "showlegend": false,
         "type": "candlestick",
         "x": [
          "2024-06-12"
         ]
        },
        {
         "close": [
          214.24000549316406
         ],
         "decreasing": {
          "fillcolor": "rgba(255, 0, 0, 0.6)",
          "line": {
           "color": "red"
          }
         },
         "high": [
          216.75
         ],
         "increasing": {
          "fillcolor": "rgba(255, 0, 0, 0.6)",
          "line": {
           "color": "red"
          }
         },
         "low": [
          211.60000610351562
         ],
         "name": "Open > Close",
         "open": [
          214.74000549316406
         ],
         "showlegend": false,
         "type": "candlestick",
         "x": [
          "2024-06-13"
         ]
        },
        {
         "close": [
          212.49000549316406
         ],
         "decreasing": {
          "fillcolor": "rgba(255, 0, 0, 0.6)",
          "line": {
           "color": "red"
          }
         },
         "high": [
          215.1699981689453
         ],
         "increasing": {
          "fillcolor": "rgba(255, 0, 0, 0.6)",
          "line": {
           "color": "red"
          }
         },
         "low": [
          211.3000030517578
         ],
         "name": "Open > Close",
         "open": [
          213.85000610351562
         ],
         "showlegend": false,
         "type": "candlestick",
         "x": [
          "2024-06-14"
         ]
        },
        {
         "close": [
          216.6699981689453
         ],
         "decreasing": {
          "fillcolor": "rgba(0, 255, 0, 0.3)",
          "line": {
           "color": "green"
          }
         },
         "high": [
          218.9499969482422
         ],
         "increasing": {
          "fillcolor": "rgba(0, 255, 0, 0.3)",
          "line": {
           "color": "green"
          }
         },
         "low": [
          212.72000122070312
         ],
         "name": "Close > Open",
         "open": [
          213.3699951171875
         ],
         "showlegend": false,
         "type": "candlestick",
         "x": [
          "2024-06-17"
         ]
        },
        {
         "close": [
          214.2899932861328
         ],
         "decreasing": {
          "fillcolor": "rgba(255, 0, 0, 0.6)",
          "line": {
           "color": "red"
          }
         },
         "high": [
          218.6300048828125
         ],
         "increasing": {
          "fillcolor": "rgba(255, 0, 0, 0.6)",
          "line": {
           "color": "red"
          }
         },
         "low": [
          213
         ],
         "name": "Open > Close",
         "open": [
          217.58999633789062
         ],
         "showlegend": false,
         "type": "candlestick",
         "x": [
          "2024-06-18"
         ]
        },
        {
         "close": [
          209.67999267578125
         ],
         "decreasing": {
          "fillcolor": "rgba(255, 0, 0, 0.6)",
          "line": {
           "color": "red"
          }
         },
         "high": [
          214.24000549316406
         ],
         "increasing": {
          "fillcolor": "rgba(255, 0, 0, 0.6)",
          "line": {
           "color": "red"
          }
         },
         "low": [
          208.85000610351562
         ],
         "name": "Open > Close",
         "open": [
          213.92999267578125
         ],
         "showlegend": false,
         "type": "candlestick",
         "x": [
          "2024-06-20"
         ]
        },
        {
         "close": [
          207.49000549316406
         ],
         "decreasing": {
          "fillcolor": "rgba(255, 0, 0, 0.6)",
          "line": {
           "color": "red"
          }
         },
         "high": [
          211.88999938964844
         ],
         "increasing": {
          "fillcolor": "rgba(255, 0, 0, 0.6)",
          "line": {
           "color": "red"
          }
         },
         "low": [
          207.11000061035156
         ],
         "name": "Open > Close",
         "open": [
          210.38999938964844
         ],
         "showlegend": false,
         "type": "candlestick",
         "x": [
          "2024-06-21"
         ]
        },
        {
         "close": [
          208.13999938964844
         ],
         "decreasing": {
          "fillcolor": "rgba(0, 255, 0, 0.3)",
          "line": {
           "color": "green"
          }
         },
         "high": [
          212.6999969482422
         ],
         "increasing": {
          "fillcolor": "rgba(0, 255, 0, 0.3)",
          "line": {
           "color": "green"
          }
         },
         "low": [
          206.58999633789062
         ],
         "name": "Close > Open",
         "open": [
          207.72000122070312
         ],
         "showlegend": false,
         "type": "candlestick",
         "x": [
          "2024-06-24"
         ]
        },
        {
         "close": [
          209.07000732421875
         ],
         "decreasing": {
          "fillcolor": "rgba(255, 0, 0, 0.6)",
          "line": {
           "color": "red"
          }
         },
         "high": [
          211.3800048828125
         ],
         "increasing": {
          "fillcolor": "rgba(255, 0, 0, 0.6)",
          "line": {
           "color": "red"
          }
         },
         "low": [
          208.61000061035156
         ],
         "name": "Open > Close",
         "open": [
          209.14999389648438
         ],
         "showlegend": false,
         "type": "candlestick",
         "x": [
          "2024-06-25"
         ]
        },
        {
         "close": [
          213.25
         ],
         "decreasing": {
          "fillcolor": "rgba(0, 255, 0, 0.3)",
          "line": {
           "color": "green"
          }
         },
         "high": [
          214.86000061035156
         ],
         "increasing": {
          "fillcolor": "rgba(0, 255, 0, 0.3)",
          "line": {
           "color": "green"
          }
         },
         "low": [
          210.63999938964844
         ],
         "name": "Close > Open",
         "open": [
          211.5
         ],
         "showlegend": false,
         "type": "candlestick",
         "x": [
          "2024-06-26"
         ]
        },
        {
         "close": [
          214.10000610351562
         ],
         "decreasing": {
          "fillcolor": "rgba(255, 0, 0, 0.6)",
          "line": {
           "color": "red"
          }
         },
         "high": [
          215.74000549316406
         ],
         "increasing": {
          "fillcolor": "rgba(255, 0, 0, 0.6)",
          "line": {
           "color": "red"
          }
         },
         "low": [
          212.35000610351562
         ],
         "name": "Open > Close",
         "open": [
          214.69000244140625
         ],
         "showlegend": false,
         "type": "candlestick",
         "x": [
          "2024-06-27"
         ]
        },
        {
         "close": [
          210.6199951171875
         ],
         "decreasing": {
          "fillcolor": "rgba(255, 0, 0, 0.6)",
          "line": {
           "color": "red"
          }
         },
         "high": [
          216.07000732421875
         ],
         "increasing": {
          "fillcolor": "rgba(255, 0, 0, 0.6)",
          "line": {
           "color": "red"
          }
         },
         "low": [
          210.3000030517578
         ],
         "name": "Open > Close",
         "open": [
          215.77000427246094
         ],
         "showlegend": false,
         "type": "candlestick",
         "x": [
          "2024-06-28"
         ]
        },
        {
         "close": [
          216.75
         ],
         "decreasing": {
          "fillcolor": "rgba(0, 255, 0, 0.3)",
          "line": {
           "color": "green"
          }
         },
         "high": [
          217.50999450683594
         ],
         "increasing": {
          "fillcolor": "rgba(0, 255, 0, 0.3)",
          "line": {
           "color": "green"
          }
         },
         "low": [
          211.9199981689453
         ],
         "name": "Close > Open",
         "open": [
          212.08999633789062
         ],
         "showlegend": false,
         "type": "candlestick",
         "x": [
          "2024-07-01"
         ]
        },
        {
         "close": [
          220.27000427246094
         ],
         "decreasing": {
          "fillcolor": "rgba(0, 255, 0, 0.3)",
          "line": {
           "color": "green"
          }
         },
         "high": [
          220.3800048828125
         ],
         "increasing": {
          "fillcolor": "rgba(0, 255, 0, 0.3)",
          "line": {
           "color": "green"
          }
         },
         "low": [
          215.10000610351562
         ],
         "name": "Close > Open",
         "open": [
          216.14999389648438
         ],
         "showlegend": false,
         "type": "candlestick",
         "x": [
          "2024-07-02"
         ]
        },
        {
         "close": [
          221.5500030517578
         ],
         "decreasing": {
          "fillcolor": "rgba(0, 255, 0, 0.3)",
          "line": {
           "color": "green"
          }
         },
         "high": [
          221.5500030517578
         ],
         "increasing": {
          "fillcolor": "rgba(0, 255, 0, 0.3)",
          "line": {
           "color": "green"
          }
         },
         "low": [
          219.02999877929688
         ],
         "name": "Close > Open",
         "open": [
          220
         ],
         "showlegend": false,
         "type": "candlestick",
         "x": [
          "2024-07-03"
         ]
        },
        {
         "close": [
          226.33999633789062
         ],
         "decreasing": {
          "fillcolor": "rgba(0, 255, 0, 0.3)",
          "line": {
           "color": "green"
          }
         },
         "high": [
          226.4499969482422
         ],
         "increasing": {
          "fillcolor": "rgba(0, 255, 0, 0.3)",
          "line": {
           "color": "green"
          }
         },
         "low": [
          221.64999389648438
         ],
         "name": "Close > Open",
         "open": [
          221.64999389648438
         ],
         "showlegend": false,
         "type": "candlestick",
         "x": [
          "2024-07-05"
         ]
        },
        {
         "close": [
          227.82000732421875
         ],
         "decreasing": {
          "fillcolor": "rgba(0, 255, 0, 0.3)",
          "line": {
           "color": "green"
          }
         },
         "high": [
          227.85000610351562
         ],
         "increasing": {
          "fillcolor": "rgba(0, 255, 0, 0.3)",
          "line": {
           "color": "green"
          }
         },
         "low": [
          223.25
         ],
         "name": "Close > Open",
         "open": [
          227.08999633789062
         ],
         "showlegend": false,
         "type": "candlestick",
         "x": [
          "2024-07-08"
         ]
        },
        {
         "close": [
          228.67999267578125
         ],
         "decreasing": {
          "fillcolor": "rgba(0, 255, 0, 0.3)",
          "line": {
           "color": "green"
          }
         },
         "high": [
          229.39999389648438
         ],
         "increasing": {
          "fillcolor": "rgba(0, 255, 0, 0.3)",
          "line": {
           "color": "green"
          }
         },
         "low": [
          226.3699951171875
         ],
         "name": "Close > Open",
         "open": [
          227.92999267578125
         ],
         "showlegend": false,
         "type": "candlestick",
         "x": [
          "2024-07-09"
         ]
        },
        {
         "close": [
          232.97999572753906
         ],
         "decreasing": {
          "fillcolor": "rgba(0, 255, 0, 0.3)",
          "line": {
           "color": "green"
          }
         },
         "high": [
          233.0800018310547
         ],
         "increasing": {
          "fillcolor": "rgba(0, 255, 0, 0.3)",
          "line": {
           "color": "green"
          }
         },
         "low": [
          229.25
         ],
         "name": "Close > Open",
         "open": [
          229.3000030517578
         ],
         "showlegend": false,
         "type": "candlestick",
         "x": [
          "2024-07-10"
         ]
        },
        {
         "close": [
          227.57000732421875
         ],
         "decreasing": {
          "fillcolor": "rgba(255, 0, 0, 0.6)",
          "line": {
           "color": "red"
          }
         },
         "high": [
          232.38999938964844
         ],
         "increasing": {
          "fillcolor": "rgba(255, 0, 0, 0.6)",
          "line": {
           "color": "red"
          }
         },
         "low": [
          225.77000427246094
         ],
         "name": "Open > Close",
         "open": [
          231.38999938964844
         ],
         "showlegend": false,
         "type": "candlestick",
         "x": [
          "2024-07-11"
         ]
        },
        {
         "close": [
          230.5399932861328
         ],
         "decreasing": {
          "fillcolor": "rgba(0, 255, 0, 0.3)",
          "line": {
           "color": "green"
          }
         },
         "high": [
          232.63999938964844
         ],
         "increasing": {
          "fillcolor": "rgba(0, 255, 0, 0.3)",
          "line": {
           "color": "green"
          }
         },
         "low": [
          228.67999267578125
         ],
         "name": "Close > Open",
         "open": [
          228.9199981689453
         ],
         "showlegend": false,
         "type": "candlestick",
         "x": [
          "2024-07-12"
         ]
        },
        {
         "close": [
          234.39999389648438
         ],
         "decreasing": {
          "fillcolor": "rgba(255, 0, 0, 0.6)",
          "line": {
           "color": "red"
          }
         },
         "high": [
          237.22999572753906
         ],
         "increasing": {
          "fillcolor": "rgba(255, 0, 0, 0.6)",
          "line": {
           "color": "red"
          }
         },
         "low": [
          233.08999633789062
         ],
         "name": "Open > Close",
         "open": [
          236.47999572753906
         ],
         "showlegend": false,
         "type": "candlestick",
         "x": [
          "2024-07-15"
         ]
        },
        {
         "close": [
          234.82000732421875
         ],
         "decreasing": {
          "fillcolor": "rgba(255, 0, 0, 0.6)",
          "line": {
           "color": "red"
          }
         },
         "high": [
          236.27000427246094
         ],
         "increasing": {
          "fillcolor": "rgba(255, 0, 0, 0.6)",
          "line": {
           "color": "red"
          }
         },
         "low": [
          232.3300018310547
         ],
         "name": "Open > Close",
         "open": [
          235
         ],
         "showlegend": false,
         "type": "candlestick",
         "x": [
          "2024-07-16"
         ]
        },
        {
         "close": [
          228.8800048828125
         ],
         "decreasing": {
          "fillcolor": "rgba(255, 0, 0, 0.6)",
          "line": {
           "color": "red"
          }
         },
         "high": [
          231.4600067138672
         ],
         "increasing": {
          "fillcolor": "rgba(255, 0, 0, 0.6)",
          "line": {
           "color": "red"
          }
         },
         "low": [
          226.63999938964844
         ],
         "name": "Open > Close",
         "open": [
          229.4499969482422
         ],
         "showlegend": false,
         "type": "candlestick",
         "x": [
          "2024-07-17"
         ]
        },
        {
         "close": [
          224.17999267578125
         ],
         "decreasing": {
          "fillcolor": "rgba(255, 0, 0, 0.6)",
          "line": {
           "color": "red"
          }
         },
         "high": [
          230.44000244140625
         ],
         "increasing": {
          "fillcolor": "rgba(255, 0, 0, 0.6)",
          "line": {
           "color": "red"
          }
         },
         "low": [
          222.27000427246094
         ],
         "name": "Open > Close",
         "open": [
          230.27999877929688
         ],
         "showlegend": false,
         "type": "candlestick",
         "x": [
          "2024-07-18"
         ]
        },
        {
         "close": [
          224.30999755859375
         ],
         "decreasing": {
          "fillcolor": "rgba(255, 0, 0, 0.6)",
          "line": {
           "color": "red"
          }
         },
         "high": [
          226.8000030517578
         ],
         "increasing": {
          "fillcolor": "rgba(255, 0, 0, 0.6)",
          "line": {
           "color": "red"
          }
         },
         "low": [
          223.27999877929688
         ],
         "name": "Open > Close",
         "open": [
          224.82000732421875
         ],
         "showlegend": false,
         "type": "candlestick",
         "x": [
          "2024-07-19"
         ]
        },
        {
         "close": [
          223.9600067138672
         ],
         "decreasing": {
          "fillcolor": "rgba(255, 0, 0, 0.6)",
          "line": {
           "color": "red"
          }
         },
         "high": [
          227.77999877929688
         ],
         "increasing": {
          "fillcolor": "rgba(255, 0, 0, 0.6)",
          "line": {
           "color": "red"
          }
         },
         "low": [
          223.08999633789062
         ],
         "name": "Open > Close",
         "open": [
          227.00999450683594
         ],
         "showlegend": false,
         "type": "candlestick",
         "x": [
          "2024-07-22"
         ]
        },
        {
         "close": [
          225.00999450683594
         ],
         "decreasing": {
          "fillcolor": "rgba(0, 255, 0, 0.3)",
          "line": {
           "color": "green"
          }
         },
         "high": [
          226.94000244140625
         ],
         "increasing": {
          "fillcolor": "rgba(0, 255, 0, 0.3)",
          "line": {
           "color": "green"
          }
         },
         "low": [
          222.67999267578125
         ],
         "name": "Close > Open",
         "open": [
          224.3699951171875
         ],
         "showlegend": false,
         "type": "candlestick",
         "x": [
          "2024-07-23"
         ]
        },
        {
         "close": [
          218.5399932861328
         ],
         "decreasing": {
          "fillcolor": "rgba(255, 0, 0, 0.6)",
          "line": {
           "color": "red"
          }
         },
         "high": [
          224.8000030517578
         ],
         "increasing": {
          "fillcolor": "rgba(255, 0, 0, 0.6)",
          "line": {
           "color": "red"
          }
         },
         "low": [
          217.1300048828125
         ],
         "name": "Open > Close",
         "open": [
          224
         ],
         "showlegend": false,
         "type": "candlestick",
         "x": [
          "2024-07-24"
         ]
        },
        {
         "close": [
          217.49000549316406
         ],
         "decreasing": {
          "fillcolor": "rgba(255, 0, 0, 0.6)",
          "line": {
           "color": "red"
          }
         },
         "high": [
          220.85000610351562
         ],
         "increasing": {
          "fillcolor": "rgba(255, 0, 0, 0.6)",
          "line": {
           "color": "red"
          }
         },
         "low": [
          214.6199951171875
         ],
         "name": "Open > Close",
         "open": [
          218.92999267578125
         ],
         "showlegend": false,
         "type": "candlestick",
         "x": [
          "2024-07-25"
         ]
        },
        {
         "close": [
          217.9600067138672
         ],
         "decreasing": {
          "fillcolor": "rgba(255, 0, 0, 0.6)",
          "line": {
           "color": "red"
          }
         },
         "high": [
          219.49000549316406
         ],
         "increasing": {
          "fillcolor": "rgba(255, 0, 0, 0.6)",
          "line": {
           "color": "red"
          }
         },
         "low": [
          216.00999450683594
         ],
         "name": "Open > Close",
         "open": [
          218.6999969482422
         ],
         "showlegend": false,
         "type": "candlestick",
         "x": [
          "2024-07-26"
         ]
        },
        {
         "close": [
          218.24000549316406
         ],
         "decreasing": {
          "fillcolor": "rgba(0, 255, 0, 0.3)",
          "line": {
           "color": "green"
          }
         },
         "high": [
          219.3000030517578
         ],
         "increasing": {
          "fillcolor": "rgba(0, 255, 0, 0.3)",
          "line": {
           "color": "green"
          }
         },
         "low": [
          215.75
         ],
         "name": "Close > Open",
         "open": [
          216.9600067138672
         ],
         "showlegend": false,
         "type": "candlestick",
         "x": [
          "2024-07-29"
         ]
        },
        {
         "close": [
          218.8000030517578
         ],
         "decreasing": {
          "fillcolor": "rgba(255, 0, 0, 0.6)",
          "line": {
           "color": "red"
          }
         },
         "high": [
          220.3300018310547
         ],
         "increasing": {
          "fillcolor": "rgba(255, 0, 0, 0.6)",
          "line": {
           "color": "red"
          }
         },
         "low": [
          216.1199951171875
         ],
         "name": "Open > Close",
         "open": [
          219.19000244140625
         ],
         "showlegend": false,
         "type": "candlestick",
         "x": [
          "2024-07-30"
         ]
        },
        {
         "close": [
          222.0800018310547
         ],
         "decreasing": {
          "fillcolor": "rgba(0, 255, 0, 0.3)",
          "line": {
           "color": "green"
          }
         },
         "high": [
          223.82000732421875
         ],
         "increasing": {
          "fillcolor": "rgba(0, 255, 0, 0.3)",
          "line": {
           "color": "green"
          }
         },
         "low": [
          220.6300048828125
         ],
         "name": "Close > Open",
         "open": [
          221.44000244140625
         ],
         "showlegend": false,
         "type": "candlestick",
         "x": [
          "2024-07-31"
         ]
        },
        {
         "close": [
          218.36000061035156
         ],
         "decreasing": {
          "fillcolor": "rgba(255, 0, 0, 0.6)",
          "line": {
           "color": "red"
          }
         },
         "high": [
          224.47999572753906
         ],
         "increasing": {
          "fillcolor": "rgba(255, 0, 0, 0.6)",
          "line": {
           "color": "red"
          }
         },
         "low": [
          217.02000427246094
         ],
         "name": "Open > Close",
         "open": [
          224.3699951171875
         ],
         "showlegend": false,
         "type": "candlestick",
         "x": [
          "2024-08-01"
         ]
        },
        {
         "close": [
          219.86000061035156
         ],
         "decreasing": {
          "fillcolor": "rgba(0, 255, 0, 0.3)",
          "line": {
           "color": "green"
          }
         },
         "high": [
          225.60000610351562
         ],
         "increasing": {
          "fillcolor": "rgba(0, 255, 0, 0.3)",
          "line": {
           "color": "green"
          }
         },
         "low": [
          217.7100067138672
         ],
         "name": "Close > Open",
         "open": [
          219.14999389648438
         ],
         "showlegend": false,
         "type": "candlestick",
         "x": [
          "2024-08-02"
         ]
        },
        {
         "close": [
          209.27000427246094
         ],
         "decreasing": {
          "fillcolor": "rgba(0, 255, 0, 0.3)",
          "line": {
           "color": "green"
          }
         },
         "high": [
          213.5
         ],
         "increasing": {
          "fillcolor": "rgba(0, 255, 0, 0.3)",
          "line": {
           "color": "green"
          }
         },
         "low": [
          196
         ],
         "name": "Close > Open",
         "open": [
          199.08999633789062
         ],
         "showlegend": false,
         "type": "candlestick",
         "x": [
          "2024-08-05"
         ]
        },
        {
         "close": [
          207.22999572753906
         ],
         "decreasing": {
          "fillcolor": "rgba(0, 255, 0, 0.3)",
          "line": {
           "color": "green"
          }
         },
         "high": [
          209.99000549316406
         ],
         "increasing": {
          "fillcolor": "rgba(0, 255, 0, 0.3)",
          "line": {
           "color": "green"
          }
         },
         "low": [
          201.07000732421875
         ],
         "name": "Close > Open",
         "open": [
          205.3000030517578
         ],
         "showlegend": false,
         "type": "candlestick",
         "x": [
          "2024-08-06"
         ]
        },
        {
         "close": [
          209.82000732421875
         ],
         "decreasing": {
          "fillcolor": "rgba(0, 255, 0, 0.3)",
          "line": {
           "color": "green"
          }
         },
         "high": [
          213.63999938964844
         ],
         "increasing": {
          "fillcolor": "rgba(0, 255, 0, 0.3)",
          "line": {
           "color": "green"
          }
         },
         "low": [
          206.38999938964844
         ],
         "name": "Close > Open",
         "open": [
          206.89999389648438
         ],
         "showlegend": false,
         "type": "candlestick",
         "x": [
          "2024-08-07"
         ]
        },
        {
         "close": [
          213.30999755859375
         ],
         "decreasing": {
          "fillcolor": "rgba(0, 255, 0, 0.3)",
          "line": {
           "color": "green"
          }
         },
         "high": [
          214.1999969482422
         ],
         "increasing": {
          "fillcolor": "rgba(0, 255, 0, 0.3)",
          "line": {
           "color": "green"
          }
         },
         "low": [
          208.8300018310547
         ],
         "name": "Close > Open",
         "open": [
          213.11000061035156
         ],
         "showlegend": false,
         "type": "candlestick",
         "x": [
          "2024-08-08"
         ]
        },
        {
         "close": [
          216.24000549316406
         ],
         "decreasing": {
          "fillcolor": "rgba(0, 255, 0, 0.3)",
          "line": {
           "color": "green"
          }
         },
         "high": [
          216.77999877929688
         ],
         "increasing": {
          "fillcolor": "rgba(0, 255, 0, 0.3)",
          "line": {
           "color": "green"
          }
         },
         "low": [
          211.97000122070312
         ],
         "name": "Close > Open",
         "open": [
          212.10000610351562
         ],
         "showlegend": false,
         "type": "candlestick",
         "x": [
          "2024-08-09"
         ]
        },
        {
         "close": [
          217.52999877929688
         ],
         "decreasing": {
          "fillcolor": "rgba(0, 255, 0, 0.3)",
          "line": {
           "color": "green"
          }
         },
         "high": [
          219.50999450683594
         ],
         "increasing": {
          "fillcolor": "rgba(0, 255, 0, 0.3)",
          "line": {
           "color": "green"
          }
         },
         "low": [
          215.60000610351562
         ],
         "name": "Close > Open",
         "open": [
          216.07000732421875
         ],
         "showlegend": false,
         "type": "candlestick",
         "x": [
          "2024-08-12"
         ]
        },
        {
         "close": [
          221.27000427246094
         ],
         "decreasing": {
          "fillcolor": "rgba(0, 255, 0, 0.3)",
          "line": {
           "color": "green"
          }
         },
         "high": [
          221.88999938964844
         ],
         "increasing": {
          "fillcolor": "rgba(0, 255, 0, 0.3)",
          "line": {
           "color": "green"
          }
         },
         "low": [
          219.00999450683594
         ],
         "name": "Close > Open",
         "open": [
          219.00999450683594
         ],
         "showlegend": false,
         "type": "candlestick",
         "x": [
          "2024-08-13"
         ]
        },
        {
         "close": [
          221.72000122070312
         ],
         "decreasing": {
          "fillcolor": "rgba(0, 255, 0, 0.3)",
          "line": {
           "color": "green"
          }
         },
         "high": [
          223.02999877929688
         ],
         "increasing": {
          "fillcolor": "rgba(0, 255, 0, 0.3)",
          "line": {
           "color": "green"
          }
         },
         "low": [
          219.6999969482422
         ],
         "name": "Close > Open",
         "open": [
          220.57000732421875
         ],
         "showlegend": false,
         "type": "candlestick",
         "x": [
          "2024-08-14"
         ]
        },
        {
         "close": [
          224.72000122070312
         ],
         "decreasing": {
          "fillcolor": "rgba(0, 255, 0, 0.3)",
          "line": {
           "color": "green"
          }
         },
         "high": [
          225.35000610351562
         ],
         "increasing": {
          "fillcolor": "rgba(0, 255, 0, 0.3)",
          "line": {
           "color": "green"
          }
         },
         "low": [
          222.75999450683594
         ],
         "name": "Close > Open",
         "open": [
          224.60000610351562
         ],
         "showlegend": false,
         "type": "candlestick",
         "x": [
          "2024-08-15"
         ]
        },
        {
         "close": [
          226.0500030517578
         ],
         "decreasing": {
          "fillcolor": "rgba(0, 255, 0, 0.3)",
          "line": {
           "color": "green"
          }
         },
         "high": [
          226.8300018310547
         ],
         "increasing": {
          "fillcolor": "rgba(0, 255, 0, 0.3)",
          "line": {
           "color": "green"
          }
         },
         "low": [
          223.64999389648438
         ],
         "name": "Close > Open",
         "open": [
          223.9199981689453
         ],
         "showlegend": false,
         "type": "candlestick",
         "x": [
          "2024-08-16"
         ]
        },
        {
         "close": [
          225.88999938964844
         ],
         "decreasing": {
          "fillcolor": "rgba(0, 255, 0, 0.3)",
          "line": {
           "color": "green"
          }
         },
         "high": [
          225.99000549316406
         ],
         "increasing": {
          "fillcolor": "rgba(0, 255, 0, 0.3)",
          "line": {
           "color": "green"
          }
         },
         "low": [
          223.0399932861328
         ],
         "name": "Close > Open",
         "open": [
          225.72000122070312
         ],
         "showlegend": false,
         "type": "candlestick",
         "x": [
          "2024-08-19"
         ]
        },
        {
         "close": [
          226.50999450683594
         ],
         "decreasing": {
          "fillcolor": "rgba(0, 255, 0, 0.3)",
          "line": {
           "color": "green"
          }
         },
         "high": [
          227.1699981689453
         ],
         "increasing": {
          "fillcolor": "rgba(0, 255, 0, 0.3)",
          "line": {
           "color": "green"
          }
         },
         "low": [
          225.4499969482422
         ],
         "name": "Close > Open",
         "open": [
          225.77000427246094
         ],
         "showlegend": false,
         "type": "candlestick",
         "x": [
          "2024-08-20"
         ]
        },
        {
         "close": [
          226.39999389648438
         ],
         "decreasing": {
          "fillcolor": "rgba(255, 0, 0, 0.6)",
          "line": {
           "color": "red"
          }
         },
         "high": [
          227.97999572753906
         ],
         "increasing": {
          "fillcolor": "rgba(255, 0, 0, 0.6)",
          "line": {
           "color": "red"
          }
         },
         "low": [
          225.0500030517578
         ],
         "name": "Open > Close",
         "open": [
          226.52000427246094
         ],
         "showlegend": false,
         "type": "candlestick",
         "x": [
          "2024-08-21"
         ]
        },
        {
         "close": [
          224.52999877929688
         ],
         "decreasing": {
          "fillcolor": "rgba(255, 0, 0, 0.6)",
          "line": {
           "color": "red"
          }
         },
         "high": [
          228.33999633789062
         ],
         "increasing": {
          "fillcolor": "rgba(255, 0, 0, 0.6)",
          "line": {
           "color": "red"
          }
         },
         "low": [
          223.89999389648438
         ],
         "name": "Open > Close",
         "open": [
          227.7899932861328
         ],
         "showlegend": false,
         "type": "candlestick",
         "x": [
          "2024-08-22"
         ]
        },
        {
         "close": [
          226.83999633789062
         ],
         "decreasing": {
          "fillcolor": "rgba(0, 255, 0, 0.3)",
          "line": {
           "color": "green"
          }
         },
         "high": [
          228.22000122070312
         ],
         "increasing": {
          "fillcolor": "rgba(0, 255, 0, 0.3)",
          "line": {
           "color": "green"
          }
         },
         "low": [
          224.3300018310547
         ],
         "name": "Close > Open",
         "open": [
          225.66000366210938
         ],
         "showlegend": false,
         "type": "candlestick",
         "x": [
          "2024-08-23"
         ]
        },
        {
         "close": [
          227.17999267578125
         ],
         "decreasing": {
          "fillcolor": "rgba(0, 255, 0, 0.3)",
          "line": {
           "color": "green"
          }
         },
         "high": [
          227.27999877929688
         ],
         "increasing": {
          "fillcolor": "rgba(0, 255, 0, 0.3)",
          "line": {
           "color": "green"
          }
         },
         "low": [
          223.88999938964844
         ],
         "name": "Close > Open",
         "open": [
          226.75999450683594
         ],
         "showlegend": false,
         "type": "candlestick",
         "x": [
          "2024-08-26"
         ]
        },
        {
         "close": [
          228.02999877929688
         ],
         "decreasing": {
          "fillcolor": "rgba(0, 255, 0, 0.3)",
          "line": {
           "color": "green"
          }
         },
         "high": [
          228.85000610351562
         ],
         "increasing": {
          "fillcolor": "rgba(0, 255, 0, 0.3)",
          "line": {
           "color": "green"
          }
         },
         "low": [
          224.88999938964844
         ],
         "name": "Close > Open",
         "open": [
          226
         ],
         "showlegend": false,
         "type": "candlestick",
         "x": [
          "2024-08-27"
         ]
        },
        {
         "close": [
          226.49000549316406
         ],
         "decreasing": {
          "fillcolor": "rgba(255, 0, 0, 0.6)",
          "line": {
           "color": "red"
          }
         },
         "high": [
          229.86000061035156
         ],
         "increasing": {
          "fillcolor": "rgba(255, 0, 0, 0.6)",
          "line": {
           "color": "red"
          }
         },
         "low": [
          225.67999267578125
         ],
         "name": "Open > Close",
         "open": [
          227.9199981689453
         ],
         "showlegend": false,
         "type": "candlestick",
         "x": [
          "2024-08-28"
         ]
        },
        {
         "close": [
          229.7899932861328
         ],
         "decreasing": {
          "fillcolor": "rgba(255, 0, 0, 0.6)",
          "line": {
           "color": "red"
          }
         },
         "high": [
          232.9199981689453
         ],
         "increasing": {
          "fillcolor": "rgba(255, 0, 0, 0.6)",
          "line": {
           "color": "red"
          }
         },
         "low": [
          228.8800048828125
         ],
         "name": "Open > Close",
         "open": [
          230.10000610351562
         ],
         "showlegend": false,
         "type": "candlestick",
         "x": [
          "2024-08-29"
         ]
        },
        {
         "close": [
          229
         ],
         "decreasing": {
          "fillcolor": "rgba(255, 0, 0, 0.6)",
          "line": {
           "color": "red"
          }
         },
         "high": [
          230.39999389648438
         ],
         "increasing": {
          "fillcolor": "rgba(255, 0, 0, 0.6)",
          "line": {
           "color": "red"
          }
         },
         "low": [
          227.47999572753906
         ],
         "name": "Open > Close",
         "open": [
          230.19000244140625
         ],
         "showlegend": false,
         "type": "candlestick",
         "x": [
          "2024-08-30"
         ]
        },
        {
         "close": [
          222.77000427246094
         ],
         "decreasing": {
          "fillcolor": "rgba(255, 0, 0, 0.6)",
          "line": {
           "color": "red"
          }
         },
         "high": [
          229
         ],
         "increasing": {
          "fillcolor": "rgba(255, 0, 0, 0.6)",
          "line": {
           "color": "red"
          }
         },
         "low": [
          221.1699981689453
         ],
         "name": "Open > Close",
         "open": [
          228.5500030517578
         ],
         "showlegend": false,
         "type": "candlestick",
         "x": [
          "2024-09-03"
         ]
        },
        {
         "close": [
          220.85000610351562
         ],
         "decreasing": {
          "fillcolor": "rgba(255, 0, 0, 0.6)",
          "line": {
           "color": "red"
          }
         },
         "high": [
          221.77999877929688
         ],
         "increasing": {
          "fillcolor": "rgba(255, 0, 0, 0.6)",
          "line": {
           "color": "red"
          }
         },
         "low": [
          217.47999572753906
         ],
         "name": "Open > Close",
         "open": [
          221.66000366210938
         ],
         "showlegend": false,
         "type": "candlestick",
         "x": [
          "2024-09-04"
         ]
        },
        {
         "close": [
          222.3800048828125
         ],
         "decreasing": {
          "fillcolor": "rgba(0, 255, 0, 0.3)",
          "line": {
           "color": "green"
          }
         },
         "high": [
          225.47999572753906
         ],
         "increasing": {
          "fillcolor": "rgba(0, 255, 0, 0.3)",
          "line": {
           "color": "green"
          }
         },
         "low": [
          221.52000427246094
         ],
         "name": "Close > Open",
         "open": [
          221.6300048828125
         ],
         "showlegend": false,
         "type": "candlestick",
         "x": [
          "2024-09-05"
         ]
        },
        {
         "close": [
          220.82000732421875
         ],
         "decreasing": {
          "fillcolor": "rgba(255, 0, 0, 0.6)",
          "line": {
           "color": "red"
          }
         },
         "high": [
          225.24000549316406
         ],
         "increasing": {
          "fillcolor": "rgba(255, 0, 0, 0.6)",
          "line": {
           "color": "red"
          }
         },
         "low": [
          219.77000427246094
         ],
         "name": "Open > Close",
         "open": [
          223.9499969482422
         ],
         "showlegend": false,
         "type": "candlestick",
         "x": [
          "2024-09-06"
         ]
        },
        {
         "close": [
          220.91000366210938
         ],
         "decreasing": {
          "fillcolor": "rgba(0, 255, 0, 0.3)",
          "line": {
           "color": "green"
          }
         },
         "high": [
          221.27000427246094
         ],
         "increasing": {
          "fillcolor": "rgba(0, 255, 0, 0.3)",
          "line": {
           "color": "green"
          }
         },
         "low": [
          216.7100067138672
         ],
         "name": "Close > Open",
         "open": [
          220.82000732421875
         ],
         "showlegend": false,
         "type": "candlestick",
         "x": [
          "2024-09-09"
         ]
        },
        {
         "close": [
          220.11000061035156
         ],
         "decreasing": {
          "fillcolor": "rgba(0, 255, 0, 0.3)",
          "line": {
           "color": "green"
          }
         },
         "high": [
          221.47999572753906
         ],
         "increasing": {
          "fillcolor": "rgba(0, 255, 0, 0.3)",
          "line": {
           "color": "green"
          }
         },
         "low": [
          216.72999572753906
         ],
         "name": "Close > Open",
         "open": [
          218.9199981689453
         ],
         "showlegend": false,
         "type": "candlestick",
         "x": [
          "2024-09-10"
         ]
        },
        {
         "close": [
          222.66000366210938
         ],
         "decreasing": {
          "fillcolor": "rgba(0, 255, 0, 0.3)",
          "line": {
           "color": "green"
          }
         },
         "high": [
          223.08999633789062
         ],
         "increasing": {
          "fillcolor": "rgba(0, 255, 0, 0.3)",
          "line": {
           "color": "green"
          }
         },
         "low": [
          217.88999938964844
         ],
         "name": "Close > Open",
         "open": [
          221.4600067138672
         ],
         "showlegend": false,
         "type": "candlestick",
         "x": [
          "2024-09-11"
         ]
        },
        {
         "close": [
          222.77000427246094
         ],
         "decreasing": {
          "fillcolor": "rgba(0, 255, 0, 0.3)",
          "line": {
           "color": "green"
          }
         },
         "high": [
          223.5500030517578
         ],
         "increasing": {
          "fillcolor": "rgba(0, 255, 0, 0.3)",
          "line": {
           "color": "green"
          }
         },
         "low": [
          219.82000732421875
         ],
         "name": "Close > Open",
         "open": [
          222.5
         ],
         "showlegend": false,
         "type": "candlestick",
         "x": [
          "2024-09-12"
         ]
        },
        {
         "close": [
          222.5
         ],
         "decreasing": {
          "fillcolor": "rgba(255, 0, 0, 0.6)",
          "line": {
           "color": "red"
          }
         },
         "high": [
          224.0399932861328
         ],
         "increasing": {
          "fillcolor": "rgba(255, 0, 0, 0.6)",
          "line": {
           "color": "red"
          }
         },
         "low": [
          221.91000366210938
         ],
         "name": "Open > Close",
         "open": [
          223.5800018310547
         ],
         "showlegend": false,
         "type": "candlestick",
         "x": [
          "2024-09-13"
         ]
        },
        {
         "close": [
          216.32000732421875
         ],
         "decreasing": {
          "fillcolor": "rgba(255, 0, 0, 0.6)",
          "line": {
           "color": "red"
          }
         },
         "high": [
          217.22000122070312
         ],
         "increasing": {
          "fillcolor": "rgba(255, 0, 0, 0.6)",
          "line": {
           "color": "red"
          }
         },
         "low": [
          213.9199981689453
         ],
         "name": "Open > Close",
         "open": [
          216.5399932861328
         ],
         "showlegend": false,
         "type": "candlestick",
         "x": [
          "2024-09-16"
         ]
        },
        {
         "close": [
          216.7899932861328
         ],
         "decreasing": {
          "fillcolor": "rgba(0, 255, 0, 0.3)",
          "line": {
           "color": "green"
          }
         },
         "high": [
          216.89999389648438
         ],
         "increasing": {
          "fillcolor": "rgba(0, 255, 0, 0.3)",
          "line": {
           "color": "green"
          }
         },
         "low": [
          214.5
         ],
         "name": "Close > Open",
         "open": [
          215.75
         ],
         "showlegend": false,
         "type": "candlestick",
         "x": [
          "2024-09-17"
         ]
        },
        {
         "close": [
          220.69000244140625
         ],
         "decreasing": {
          "fillcolor": "rgba(0, 255, 0, 0.3)",
          "line": {
           "color": "green"
          }
         },
         "high": [
          222.7100067138672
         ],
         "increasing": {
          "fillcolor": "rgba(0, 255, 0, 0.3)",
          "line": {
           "color": "green"
          }
         },
         "low": [
          217.5399932861328
         ],
         "name": "Close > Open",
         "open": [
          217.5500030517578
         ],
         "showlegend": false,
         "type": "candlestick",
         "x": [
          "2024-09-18"
         ]
        },
        {
         "close": [
          228.8699951171875
         ],
         "decreasing": {
          "fillcolor": "rgba(0, 255, 0, 0.3)",
          "line": {
           "color": "green"
          }
         },
         "high": [
          229.82000732421875
         ],
         "increasing": {
          "fillcolor": "rgba(0, 255, 0, 0.3)",
          "line": {
           "color": "green"
          }
         },
         "low": [
          224.63999938964844
         ],
         "name": "Close > Open",
         "open": [
          225.13999938964844
         ],
         "showlegend": false,
         "type": "candlestick",
         "x": [
          "2024-09-19"
         ]
        },
        {
         "line": {
          "color": "lemonchiffon"
         },
         "name": "SMA 20",
         "type": "scatter",
         "x": [
          "2023-09-19",
          "2023-09-20",
          "2023-09-21",
          "2023-09-22",
          "2023-09-25",
          "2023-09-26",
          "2023-09-27",
          "2023-09-28",
          "2023-09-29",
          "2023-10-02",
          "2023-10-03",
          "2023-10-04",
          "2023-10-05",
          "2023-10-06",
          "2023-10-09",
          "2023-10-10",
          "2023-10-11",
          "2023-10-12",
          "2023-10-13",
          "2023-10-16",
          "2023-10-17",
          "2023-10-18",
          "2023-10-19",
          "2023-10-20",
          "2023-10-23",
          "2023-10-24",
          "2023-10-25",
          "2023-10-26",
          "2023-10-27",
          "2023-10-30",
          "2023-10-31",
          "2023-11-01",
          "2023-11-02",
          "2023-11-03",
          "2023-11-06",
          "2023-11-07",
          "2023-11-08",
          "2023-11-09",
          "2023-11-10",
          "2023-11-13",
          "2023-11-14",
          "2023-11-15",
          "2023-11-16",
          "2023-11-17",
          "2023-11-20",
          "2023-11-21",
          "2023-11-22",
          "2023-11-24",
          "2023-11-27",
          "2023-11-28",
          "2023-11-29",
          "2023-11-30",
          "2023-12-01",
          "2023-12-04",
          "2023-12-05",
          "2023-12-06",
          "2023-12-07",
          "2023-12-08",
          "2023-12-11",
          "2023-12-12",
          "2023-12-13",
          "2023-12-14",
          "2023-12-15",
          "2023-12-18",
          "2023-12-19",
          "2023-12-20",
          "2023-12-21",
          "2023-12-22",
          "2023-12-26",
          "2023-12-27",
          "2023-12-28",
          "2023-12-29",
          "2024-01-02",
          "2024-01-03",
          "2024-01-04",
          "2024-01-05",
          "2024-01-08",
          "2024-01-09",
          "2024-01-10",
          "2024-01-11",
          "2024-01-12",
          "2024-01-16",
          "2024-01-17",
          "2024-01-18",
          "2024-01-19",
          "2024-01-22",
          "2024-01-23",
          "2024-01-24",
          "2024-01-25",
          "2024-01-26",
          "2024-01-29",
          "2024-01-30",
          "2024-01-31",
          "2024-02-01",
          "2024-02-02",
          "2024-02-05",
          "2024-02-06",
          "2024-02-07",
          "2024-02-08",
          "2024-02-09",
          "2024-02-12",
          "2024-02-13",
          "2024-02-14",
          "2024-02-15",
          "2024-02-16",
          "2024-02-20",
          "2024-02-21",
          "2024-02-22",
          "2024-02-23",
          "2024-02-26",
          "2024-02-27",
          "2024-02-28",
          "2024-02-29",
          "2024-03-01",
          "2024-03-04",
          "2024-03-05",
          "2024-03-06",
          "2024-03-07",
          "2024-03-08",
          "2024-03-11",
          "2024-03-12",
          "2024-03-13",
          "2024-03-14",
          "2024-03-15",
          "2024-03-18",
          "2024-03-19",
          "2024-03-20",
          "2024-03-21",
          "2024-03-22",
          "2024-03-25",
          "2024-03-26",
          "2024-03-27",
          "2024-03-28",
          "2024-04-01",
          "2024-04-02",
          "2024-04-03",
          "2024-04-04",
          "2024-04-05",
          "2024-04-08",
          "2024-04-09",
          "2024-04-10",
          "2024-04-11",
          "2024-04-12",
          "2024-04-15",
          "2024-04-16",
          "2024-04-17",
          "2024-04-18",
          "2024-04-19",
          "2024-04-22",
          "2024-04-23",
          "2024-04-24",
          "2024-04-25",
          "2024-04-26",
          "2024-04-29",
          "2024-04-30",
          "2024-05-01",
          "2024-05-02",
          "2024-05-03",
          "2024-05-06",
          "2024-05-07",
          "2024-05-08",
          "2024-05-09",
          "2024-05-10",
          "2024-05-13",
          "2024-05-14",
          "2024-05-15",
          "2024-05-16",
          "2024-05-17",
          "2024-05-20",
          "2024-05-21",
          "2024-05-22",
          "2024-05-23",
          "2024-05-24",
          "2024-05-28",
          "2024-05-29",
          "2024-05-30",
          "2024-05-31",
          "2024-06-03",
          "2024-06-04",
          "2024-06-05",
          "2024-06-06",
          "2024-06-07",
          "2024-06-10",
          "2024-06-11",
          "2024-06-12",
          "2024-06-13",
          "2024-06-14",
          "2024-06-17",
          "2024-06-18",
          "2024-06-20",
          "2024-06-21",
          "2024-06-24",
          "2024-06-25",
          "2024-06-26",
          "2024-06-27",
          "2024-06-28",
          "2024-07-01",
          "2024-07-02",
          "2024-07-03",
          "2024-07-05",
          "2024-07-08",
          "2024-07-09",
          "2024-07-10",
          "2024-07-11",
          "2024-07-12",
          "2024-07-15",
          "2024-07-16",
          "2024-07-17",
          "2024-07-18",
          "2024-07-19",
          "2024-07-22",
          "2024-07-23",
          "2024-07-24",
          "2024-07-25",
          "2024-07-26",
          "2024-07-29",
          "2024-07-30",
          "2024-07-31",
          "2024-08-01",
          "2024-08-02",
          "2024-08-05",
          "2024-08-06",
          "2024-08-07",
          "2024-08-08",
          "2024-08-09",
          "2024-08-12",
          "2024-08-13",
          "2024-08-14",
          "2024-08-15",
          "2024-08-16",
          "2024-08-19",
          "2024-08-20",
          "2024-08-21",
          "2024-08-22",
          "2024-08-23",
          "2024-08-26",
          "2024-08-27",
          "2024-08-28",
          "2024-08-29",
          "2024-08-30",
          "2024-09-03",
          "2024-09-04",
          "2024-09-05",
          "2024-09-06",
          "2024-09-09",
          "2024-09-10",
          "2024-09-11",
          "2024-09-12",
          "2024-09-13",
          "2024-09-16",
          "2024-09-17",
          "2024-09-18",
          "2024-09-19"
         ],
         "y": [
          179.07000732421875,
          177.2800064086914,
          176.16333516438803,
          175.81999969482422,
          175.87200012207032,
          175.22000122070312,
          174.53571428571428,
          174.05500030517578,
          173.73888990614148,
          173.74000091552733,
          173.61818209561434,
          173.6216672261556,
          173.72077002892127,
          173.99000113351005,
          174.32333475748698,
          174.57750129699707,
          174.88470728257124,
          175.20833502875433,
          175.400001927426,
          175.56600189208984,
          175.47000122070312,
          175.48750076293945,
          175.56400146484376,
          175.46850204467773,
          175.314501953125,
          175.38850173950195,
          175.42200241088867,
          175.23200225830078,
          175.08250198364257,
          174.9095016479492,
          174.82800216674804,
          174.84350204467773,
          174.97650222778321,
          174.93450164794922,
          174.94650115966797,
          175.11800155639648,
          175.27250137329102,
          175.3575012207031,
          175.73500061035156,
          176.03900070190429,
          176.5535011291504,
          177.16200103759766,
          177.87450103759767,
          178.71500091552736,
          179.63750076293945,
          180.49750061035155,
          181.50800018310548,
          182.6620002746582,
          183.7404998779297,
          184.74599990844726,
          185.6759994506836,
          186.47499923706056,
          187.15849914550782,
          187.79749908447266,
          188.50699920654296,
          189.03199920654296,
          189.6009994506836,
          190.2659996032715,
          190.60499954223633,
          191.1004997253418,
          191.62649993896486,
          192.13150024414062,
          192.5245002746582,
          192.83450012207032,
          193.1090003967285,
          193.31850051879883,
          193.48700027465821,
          193.66850051879882,
          193.83150100708008,
          193.96900100708007,
          194.17950134277345,
          194.30850143432616,
          194.02850112915038,
          193.76950149536134,
          193.19400177001953,
          192.63700103759766,
          192.2015007019043,
          191.67300033569336,
          191.3235008239746,
          190.86750030517578,
          190.2654998779297,
          189.54150009155273,
          188.79699935913087,
          188.43399963378906,
          188.16499938964844,
          188.1179992675781,
          188.14299926757812,
          188.18799896240233,
          188.2439987182617,
          188.20749893188477,
          188.114998626709,
          187.89049835205077,
          187.82849807739257,
          187.95899810791016,
          188.15599822998047,
          188.48099822998046,
          188.66799850463866,
          188.88149871826172,
          188.98799896240234,
          189.1509994506836,
          189.21249923706054,
          189.28299865722656,
          189.35649871826172,
          189.11799850463868,
          188.65549850463867,
          188.03899841308595,
          187.3959991455078,
          186.88949890136718,
          186.30699920654297,
          185.74399948120117,
          185.28899993896485,
          184.95800018310547,
          184.77550048828124,
          184.41550064086914,
          183.87800064086915,
          183.00000076293946,
          181.99100036621093,
          180.97050018310546,
          180.09099960327148,
          179.2859992980957,
          178.58999938964843,
          177.8944999694824,
          177.3370002746582,
          176.775,
          176.34550018310546,
          176.0715003967285,
          175.88899993896484,
          175.23899993896484,
          174.72699966430665,
          174.21149978637695,
          173.56549987792968,
          173.1599998474121,
          172.69649963378907,
          172.21499938964843,
          171.9019989013672,
          171.87849884033204,
          171.8634994506836,
          171.89249954223632,
          171.77849960327148,
          171.62449951171874,
          171.35199966430665,
          171.54749908447266,
          171.72499923706056,
          171.72849960327147,
          171.51149978637696,
          171.1074996948242,
          170.5259994506836,
          170.2074996948242,
          169.8854995727539,
          169.68799896240233,
          169.65349884033202,
          169.48249893188478,
          169.3734992980957,
          169.54699935913087,
          169.62149963378906,
          169.60400009155273,
          169.81449966430665,
          170.50449981689454,
          171.1675003051758,
          171.80400009155272,
          172.5520004272461,
          173.02850112915038,
          173.3535011291504,
          174.03300094604492,
          174.93550033569335,
          176.02150039672853,
          177.1615005493164,
          178.40500030517578,
          179.66500015258788,
          180.93750076293946,
          182.03150024414063,
          182.88100051879883,
          183.91500015258788,
          184.7395004272461,
          185.7375,
          186.83699951171874,
          187.7979995727539,
          188.33049926757812,
          188.96249923706054,
          189.6359992980957,
          190.22299880981444,
          190.83899841308593,
          191.3424980163574,
          192.3859977722168,
          193.66799850463866,
          194.8939987182617,
          196.0264991760254,
          197.3664993286133,
          198.52899932861328,
          199.39549865722657,
          200.22499923706056,
          201.28799896240236,
          202.24249954223632,
          203.40549926757814,
          204.59599990844725,
          205.5625,
          206.7875,
          208.0995002746582,
          209.45950012207032,
          210.98300018310547,
          212.65000076293944,
          214.2395004272461,
          216.23250045776368,
          217.25350112915038,
          218.1270004272461,
          219.1349998474121,
          220.25149993896486,
          220.86200027465821,
          221.35650024414062,
          222.08800048828124,
          222.9115005493164,
          223.75500030517577,
          224.22849960327147,
          224.44049987792968,
          224.63349990844728,
          225.0145004272461,
          225.11700057983398,
          225.20750045776367,
          225.04800033569336,
          224.7240005493164,
          223.7965003967285,
          222.7240005493164,
          221.56600112915038,
          220.85300064086914,
          220.13800125122071,
          219.29450149536132,
          218.61700134277345,
          218.25900115966797,
          218.28600158691407,
          218.37300186157228,
          218.46950149536133,
          218.54450149536132,
          218.9375015258789,
          219.28950119018555,
          219.7335006713867,
          220.18050003051758,
          220.64199981689453,
          220.8625,
          221.43399963378906,
          221.8909996032715,
          222.56599960327148,
          223.24700012207032,
          223.875,
          224.25050048828126,
          224.4840003967285,
          224.61300048828124,
          224.68250045776367,
          224.73500061035156,
          224.6240005493164,
          224.13750076293945,
          223.68250045776367,
          223.3915008544922,
          223.51500091552734
         ]
        },
        {
         "line": {
          "color": "gold"
         },
         "name": "(20, 2) Bollinger Bands",
         "type": "scatter",
         "x": [
          "2023-09-19",
          "2023-09-20",
          "2023-09-21",
          "2023-09-22",
          "2023-09-25",
          "2023-09-26",
          "2023-09-27",
          "2023-09-28",
          "2023-09-29",
          "2023-10-02",
          "2023-10-03",
          "2023-10-04",
          "2023-10-05",
          "2023-10-06",
          "2023-10-09",
          "2023-10-10",
          "2023-10-11",
          "2023-10-12",
          "2023-10-13",
          "2023-10-16",
          "2023-10-17",
          "2023-10-18",
          "2023-10-19",
          "2023-10-20",
          "2023-10-23",
          "2023-10-24",
          "2023-10-25",
          "2023-10-26",
          "2023-10-27",
          "2023-10-30",
          "2023-10-31",
          "2023-11-01",
          "2023-11-02",
          "2023-11-03",
          "2023-11-06",
          "2023-11-07",
          "2023-11-08",
          "2023-11-09",
          "2023-11-10",
          "2023-11-13",
          "2023-11-14",
          "2023-11-15",
          "2023-11-16",
          "2023-11-17",
          "2023-11-20",
          "2023-11-21",
          "2023-11-22",
          "2023-11-24",
          "2023-11-27",
          "2023-11-28",
          "2023-11-29",
          "2023-11-30",
          "2023-12-01",
          "2023-12-04",
          "2023-12-05",
          "2023-12-06",
          "2023-12-07",
          "2023-12-08",
          "2023-12-11",
          "2023-12-12",
          "2023-12-13",
          "2023-12-14",
          "2023-12-15",
          "2023-12-18",
          "2023-12-19",
          "2023-12-20",
          "2023-12-21",
          "2023-12-22",
          "2023-12-26",
          "2023-12-27",
          "2023-12-28",
          "2023-12-29",
          "2024-01-02",
          "2024-01-03",
          "2024-01-04",
          "2024-01-05",
          "2024-01-08",
          "2024-01-09",
          "2024-01-10",
          "2024-01-11",
          "2024-01-12",
          "2024-01-16",
          "2024-01-17",
          "2024-01-18",
          "2024-01-19",
          "2024-01-22",
          "2024-01-23",
          "2024-01-24",
          "2024-01-25",
          "2024-01-26",
          "2024-01-29",
          "2024-01-30",
          "2024-01-31",
          "2024-02-01",
          "2024-02-02",
          "2024-02-05",
          "2024-02-06",
          "2024-02-07",
          "2024-02-08",
          "2024-02-09",
          "2024-02-12",
          "2024-02-13",
          "2024-02-14",
          "2024-02-15",
          "2024-02-16",
          "2024-02-20",
          "2024-02-21",
          "2024-02-22",
          "2024-02-23",
          "2024-02-26",
          "2024-02-27",
          "2024-02-28",
          "2024-02-29",
          "2024-03-01",
          "2024-03-04",
          "2024-03-05",
          "2024-03-06",
          "2024-03-07",
          "2024-03-08",
          "2024-03-11",
          "2024-03-12",
          "2024-03-13",
          "2024-03-14",
          "2024-03-15",
          "2024-03-18",
          "2024-03-19",
          "2024-03-20",
          "2024-03-21",
          "2024-03-22",
          "2024-03-25",
          "2024-03-26",
          "2024-03-27",
          "2024-03-28",
          "2024-04-01",
          "2024-04-02",
          "2024-04-03",
          "2024-04-04",
          "2024-04-05",
          "2024-04-08",
          "2024-04-09",
          "2024-04-10",
          "2024-04-11",
          "2024-04-12",
          "2024-04-15",
          "2024-04-16",
          "2024-04-17",
          "2024-04-18",
          "2024-04-19",
          "2024-04-22",
          "2024-04-23",
          "2024-04-24",
          "2024-04-25",
          "2024-04-26",
          "2024-04-29",
          "2024-04-30",
          "2024-05-01",
          "2024-05-02",
          "2024-05-03",
          "2024-05-06",
          "2024-05-07",
          "2024-05-08",
          "2024-05-09",
          "2024-05-10",
          "2024-05-13",
          "2024-05-14",
          "2024-05-15",
          "2024-05-16",
          "2024-05-17",
          "2024-05-20",
          "2024-05-21",
          "2024-05-22",
          "2024-05-23",
          "2024-05-24",
          "2024-05-28",
          "2024-05-29",
          "2024-05-30",
          "2024-05-31",
          "2024-06-03",
          "2024-06-04",
          "2024-06-05",
          "2024-06-06",
          "2024-06-07",
          "2024-06-10",
          "2024-06-11",
          "2024-06-12",
          "2024-06-13",
          "2024-06-14",
          "2024-06-17",
          "2024-06-18",
          "2024-06-20",
          "2024-06-21",
          "2024-06-24",
          "2024-06-25",
          "2024-06-26",
          "2024-06-27",
          "2024-06-28",
          "2024-07-01",
          "2024-07-02",
          "2024-07-03",
          "2024-07-05",
          "2024-07-08",
          "2024-07-09",
          "2024-07-10",
          "2024-07-11",
          "2024-07-12",
          "2024-07-15",
          "2024-07-16",
          "2024-07-17",
          "2024-07-18",
          "2024-07-19",
          "2024-07-22",
          "2024-07-23",
          "2024-07-24",
          "2024-07-25",
          "2024-07-26",
          "2024-07-29",
          "2024-07-30",
          "2024-07-31",
          "2024-08-01",
          "2024-08-02",
          "2024-08-05",
          "2024-08-06",
          "2024-08-07",
          "2024-08-08",
          "2024-08-09",
          "2024-08-12",
          "2024-08-13",
          "2024-08-14",
          "2024-08-15",
          "2024-08-16",
          "2024-08-19",
          "2024-08-20",
          "2024-08-21",
          "2024-08-22",
          "2024-08-23",
          "2024-08-26",
          "2024-08-27",
          "2024-08-28",
          "2024-08-29",
          "2024-08-30",
          "2024-09-03",
          "2024-09-04",
          "2024-09-05",
          "2024-09-06",
          "2024-09-09",
          "2024-09-10",
          "2024-09-11",
          "2024-09-12",
          "2024-09-13",
          "2024-09-16",
          "2024-09-17",
          "2024-09-18",
          "2024-09-19"
         ],
         "y": [
          179.07000732421875,
          173.70000457763672,
          171.8598583432891,
          171.90790492370363,
          172.36673934581933,
          170.89090251478098,
          169.3106054008297,
          168.54505941874856,
          168.24491123777563,
          168.52795085015765,
          168.5893183003132,
          168.8068412086359,
          169.0441577850832,
          169.08309281636997,
          168.96658210092798,
          169.0297619490309,
          168.96803516007787,
          168.86923812128845,
          169.01923388875215,
          169.1806478820453,
          169.24247549708826,
          169.25788191861713,
          169.37532418999717,
          169.17690481873237,
          168.9400807549378,
          169.1384166392646,
          169.27220964061988,
          168.3214160853361,
          167.71601421783146,
          167.2685631483208,
          167.0482248970081,
          167.07186370998832,
          167.11434680288616,
          167.11766041440487,
          167.1040995818883,
          166.84375873002884,
          166.55102351460698,
          166.39587351910257,
          165.65092609986738,
          165.26998483999188,
          164.69337605254515,
          164.30393319816085,
          163.9385613162048,
          164.07543561953088,
          164.2486533116324,
          164.67386559666176,
          165.63278601288803,
          167.88771643490418,
          170.24701230280562,
          172.46932966379285,
          175.07092466375198,
          177.19268591485164,
          178.61602100138282,
          180.70617697835388,
          182.18913849609493,
          183.30683562365198,
          184.17652159530408,
          185.28825221576753,
          185.80631677300948,
          186.7789381419811,
          186.69700617470886,
          186.73973416779987,
          186.76289537718282,
          187.04916239309648,
          187.09598192957864,
          187.37257705187687,
          187.58747889118405,
          187.99388328113923,
          188.43122802233177,
          188.7896993661108,
          189.44156751466068,
          189.90987856781396,
          188.35578268824915,
          186.92801246621372,
          184.61575721435315,
          182.58415119100312,
          181.72368587227632,
          180.8943923399903,
          180.3122230284868,
          179.70070026636623,
          179.39891664789485,
          178.9356220632879,
          178.46296846530885,
          178.62540305443505,
          179.03247081407517,
          179.11439356602867,
          179.06418798467251,
          178.99326017539016,
          178.918778955747,
          178.95393576809505,
          179.04289604488287,
          179.04718881021955,
          178.9059131004185,
          179.17430292764266,
          179.75438315240837,
          180.70430089301482,
          181.00217500973284,
          181.38461408063722,
          181.58717913367434,
          181.91495208080295,
          182.066998314569,
          182.33408397222604,
          182.66206698434382,
          182.00993080209415,
          181.05641270670725,
          180.2405984268826,
          179.94590772893235,
          180.0912883593326,
          180.13643960944677,
          179.85906172941537,
          179.9432206442149,
          179.51563351273938,
          179.03395807136144,
          178.34824894272154,
          176.62541181485017,
          173.80859042241278,
          171.45522310855472,
          169.58709928310458,
          168.40090695060752,
          167.9061846984057,
          167.5207143868262,
          166.7857641253205,
          166.42252486112815,
          166.1071737372172,
          165.91458456099244,
          165.91868805319055,
          166.06616719150216,
          166.04678212943338,
          166.09005437765742,
          165.9493347483906,
          166.05067786056316,
          166.56536138423454,
          167.0686413401566,
          167.47481092043196,
          167.13849327283071,
          167.0755856959309,
          167.024482994976,
          167.11592517431052,
          166.79216221536,
          166.5778085672648,
          166.0972324593783,
          166.05476740167825,
          165.84051680195057,
          165.84180891744006,
          165.61449704765593,
          165.41420003925674,
          165.7372902430709,
          164.8698189488522,
          164.31485633745297,
          163.9895224686649,
          163.9476229365886,
          164.02564582035617,
          163.99405839223405,
          163.878015440496,
          163.95247631174817,
          163.93327614166947,
          163.96604394462304,
          162.19224248313034,
          161.5965116441736,
          161.0909904321267,
          161.0102811675009,
          160.38130586470243,
          160.04429555346505,
          159.58935544882587,
          159.54307760031776,
          159.70264156907993,
          160.33404013293836,
          161.68079613255225,
          163.1210782677423,
          164.60296317016278,
          166.11061181800582,
          167.85414202285318,
          169.96077844583334,
          171.4095419512591,
          173.97575503510416,
          177.58330710987235,
          180.7502907527927,
          181.0917284246098,
          181.94232718431593,
          182.67914577663535,
          183.72673439230616,
          184.26768605280964,
          185.76800268678647,
          183.92614926810677,
          181.59951947341625,
          180.0225482904038,
          179.5084753368,
          178.83779155914604,
          178.85202343262642,
          179.36020392178892,
          180.29185502337654,
          182.0598416092047,
          183.46444071901243,
          184.9281209117372,
          186.59001369096455,
          188.46493317999133,
          190.17690726028533,
          191.58189666233037,
          193.21738456549832,
          194.41262272053513,
          196.35003216783832,
          198.19894124254537,
          201.31788097273974,
          202.17087761063033,
          202.11952158794568,
          201.7535314159795,
          201.8802763288991,
          202.19824387839702,
          202.8924475610744,
          204.38892326564505,
          206.52170753607268,
          208.82112492936096,
          210.64787799486336,
          211.43167684617447,
          212.1397143870547,
          213.8604105076705,
          214.23420227827313,
          214.45814998435765,
          213.9958979193462,
          213.46441432817898,
          210.78937141551248,
          208.07120229553104,
          206.67955874524802,
          205.81985762360853,
          205.665998210408,
          206.36112014334225,
          207.75382577732222,
          208.34155188289736,
          208.30150558981967,
          208.15252621800812,
          208.00628022335766,
          207.8753499267597,
          207.73238005371815,
          207.84855331406348,
          207.8526240021545,
          207.89229675314297,
          207.91055122238964,
          207.88861985137396,
          207.9542872696108,
          208.0410672115341,
          209.98447535263637,
          212.75938698056635,
          215.35995431313515,
          217.07521364279353,
          218.10710222584456,
          218.7178318465427,
          218.91523014050657,
          219.05815026583213,
          218.86410937593584,
          217.38367353464082,
          216.26839201130224,
          215.98728953014802,
          215.83685595233618
         ]
        },
        {
         "line": {
          "color": "gold"
         },
         "showlegend": false,
         "type": "scatter",
         "x": [
          "2023-09-19",
          "2023-09-20",
          "2023-09-21",
          "2023-09-22",
          "2023-09-25",
          "2023-09-26",
          "2023-09-27",
          "2023-09-28",
          "2023-09-29",
          "2023-10-02",
          "2023-10-03",
          "2023-10-04",
          "2023-10-05",
          "2023-10-06",
          "2023-10-09",
          "2023-10-10",
          "2023-10-11",
          "2023-10-12",
          "2023-10-13",
          "2023-10-16",
          "2023-10-17",
          "2023-10-18",
          "2023-10-19",
          "2023-10-20",
          "2023-10-23",
          "2023-10-24",
          "2023-10-25",
          "2023-10-26",
          "2023-10-27",
          "2023-10-30",
          "2023-10-31",
          "2023-11-01",
          "2023-11-02",
          "2023-11-03",
          "2023-11-06",
          "2023-11-07",
          "2023-11-08",
          "2023-11-09",
          "2023-11-10",
          "2023-11-13",
          "2023-11-14",
          "2023-11-15",
          "2023-11-16",
          "2023-11-17",
          "2023-11-20",
          "2023-11-21",
          "2023-11-22",
          "2023-11-24",
          "2023-11-27",
          "2023-11-28",
          "2023-11-29",
          "2023-11-30",
          "2023-12-01",
          "2023-12-04",
          "2023-12-05",
          "2023-12-06",
          "2023-12-07",
          "2023-12-08",
          "2023-12-11",
          "2023-12-12",
          "2023-12-13",
          "2023-12-14",
          "2023-12-15",
          "2023-12-18",
          "2023-12-19",
          "2023-12-20",
          "2023-12-21",
          "2023-12-22",
          "2023-12-26",
          "2023-12-27",
          "2023-12-28",
          "2023-12-29",
          "2024-01-02",
          "2024-01-03",
          "2024-01-04",
          "2024-01-05",
          "2024-01-08",
          "2024-01-09",
          "2024-01-10",
          "2024-01-11",
          "2024-01-12",
          "2024-01-16",
          "2024-01-17",
          "2024-01-18",
          "2024-01-19",
          "2024-01-22",
          "2024-01-23",
          "2024-01-24",
          "2024-01-25",
          "2024-01-26",
          "2024-01-29",
          "2024-01-30",
          "2024-01-31",
          "2024-02-01",
          "2024-02-02",
          "2024-02-05",
          "2024-02-06",
          "2024-02-07",
          "2024-02-08",
          "2024-02-09",
          "2024-02-12",
          "2024-02-13",
          "2024-02-14",
          "2024-02-15",
          "2024-02-16",
          "2024-02-20",
          "2024-02-21",
          "2024-02-22",
          "2024-02-23",
          "2024-02-26",
          "2024-02-27",
          "2024-02-28",
          "2024-02-29",
          "2024-03-01",
          "2024-03-04",
          "2024-03-05",
          "2024-03-06",
          "2024-03-07",
          "2024-03-08",
          "2024-03-11",
          "2024-03-12",
          "2024-03-13",
          "2024-03-14",
          "2024-03-15",
          "2024-03-18",
          "2024-03-19",
          "2024-03-20",
          "2024-03-21",
          "2024-03-22",
          "2024-03-25",
          "2024-03-26",
          "2024-03-27",
          "2024-03-28",
          "2024-04-01",
          "2024-04-02",
          "2024-04-03",
          "2024-04-04",
          "2024-04-05",
          "2024-04-08",
          "2024-04-09",
          "2024-04-10",
          "2024-04-11",
          "2024-04-12",
          "2024-04-15",
          "2024-04-16",
          "2024-04-17",
          "2024-04-18",
          "2024-04-19",
          "2024-04-22",
          "2024-04-23",
          "2024-04-24",
          "2024-04-25",
          "2024-04-26",
          "2024-04-29",
          "2024-04-30",
          "2024-05-01",
          "2024-05-02",
          "2024-05-03",
          "2024-05-06",
          "2024-05-07",
          "2024-05-08",
          "2024-05-09",
          "2024-05-10",
          "2024-05-13",
          "2024-05-14",
          "2024-05-15",
          "2024-05-16",
          "2024-05-17",
          "2024-05-20",
          "2024-05-21",
          "2024-05-22",
          "2024-05-23",
          "2024-05-24",
          "2024-05-28",
          "2024-05-29",
          "2024-05-30",
          "2024-05-31",
          "2024-06-03",
          "2024-06-04",
          "2024-06-05",
          "2024-06-06",
          "2024-06-07",
          "2024-06-10",
          "2024-06-11",
          "2024-06-12",
          "2024-06-13",
          "2024-06-14",
          "2024-06-17",
          "2024-06-18",
          "2024-06-20",
          "2024-06-21",
          "2024-06-24",
          "2024-06-25",
          "2024-06-26",
          "2024-06-27",
          "2024-06-28",
          "2024-07-01",
          "2024-07-02",
          "2024-07-03",
          "2024-07-05",
          "2024-07-08",
          "2024-07-09",
          "2024-07-10",
          "2024-07-11",
          "2024-07-12",
          "2024-07-15",
          "2024-07-16",
          "2024-07-17",
          "2024-07-18",
          "2024-07-19",
          "2024-07-22",
          "2024-07-23",
          "2024-07-24",
          "2024-07-25",
          "2024-07-26",
          "2024-07-29",
          "2024-07-30",
          "2024-07-31",
          "2024-08-01",
          "2024-08-02",
          "2024-08-05",
          "2024-08-06",
          "2024-08-07",
          "2024-08-08",
          "2024-08-09",
          "2024-08-12",
          "2024-08-13",
          "2024-08-14",
          "2024-08-15",
          "2024-08-16",
          "2024-08-19",
          "2024-08-20",
          "2024-08-21",
          "2024-08-22",
          "2024-08-23",
          "2024-08-26",
          "2024-08-27",
          "2024-08-28",
          "2024-08-29",
          "2024-08-30",
          "2024-09-03",
          "2024-09-04",
          "2024-09-05",
          "2024-09-06",
          "2024-09-09",
          "2024-09-10",
          "2024-09-11",
          "2024-09-12",
          "2024-09-13",
          "2024-09-16",
          "2024-09-17",
          "2024-09-18",
          "2024-09-19"
         ],
         "y": [
          179.07000732421875,
          180.8600082397461,
          180.46681198548697,
          179.7320944659448,
          179.3772608983213,
          179.54909992662527,
          179.76082317059885,
          179.564941191603,
          179.23286857450734,
          178.952050980897,
          178.64704589091548,
          178.43649324367533,
          178.39738227275933,
          178.89690945065013,
          179.68008741404597,
          180.12524064496324,
          180.8013794050646,
          181.54743193622022,
          181.78076996609983,
          181.9513559021344,
          181.69752694431799,
          181.71711960726176,
          181.75267873969034,
          181.7600992706231,
          181.68892315131217,
          181.6385868397393,
          181.57179518115746,
          182.14258843126547,
          182.4489897494537,
          182.55044014757763,
          182.60777943648796,
          182.61514037936715,
          182.83865765268027,
          182.75134288149357,
          182.78890273744764,
          183.39224438276412,
          183.99397923197506,
          184.31912892230366,
          185.81907512083575,
          186.8080165638167,
          188.41362620575563,
          190.02006887703448,
          191.81044075899052,
          193.35456621152383,
          195.0263482142465,
          196.32113562404135,
          197.38321435332293,
          197.43628411441222,
          197.23398745305377,
          197.02267015310167,
          196.28107423761523,
          195.75731255926948,
          195.70097728963282,
          194.88882119059144,
          194.824859916991,
          194.75716278943395,
          195.0254773060631,
          195.24374699077546,
          195.40368231146317,
          195.4220613087025,
          196.55599370322085,
          197.52326632048138,
          198.2861051721336,
          198.61983785104417,
          199.12201886387837,
          199.26442398572078,
          199.38652165813238,
          199.3431177564584,
          199.2317739918284,
          199.14830264804934,
          198.91743517088622,
          198.70712430083836,
          199.70121957005162,
          200.61099052450896,
          201.7722463256859,
          202.6898508841922,
          202.6793155315323,
          202.45160833139641,
          202.33477861946238,
          202.03430034398534,
          201.13208310796455,
          200.14737811981757,
          199.13103025295288,
          198.24259621314306,
          197.29752796522172,
          197.12160496912756,
          197.22181055048372,
          197.3827377494145,
          197.5692184807764,
          197.4610620956745,
          197.18710120853513,
          196.733807893882,
          196.75108305436663,
          196.74369328817767,
          196.55761330755257,
          196.2576955669461,
          196.33382199954448,
          196.37838335588623,
          196.38881879113035,
          196.38704682056425,
          196.3580001595521,
          196.23191334222707,
          196.0509304521796,
          196.2260662071832,
          196.2545843025701,
          195.8373983992893,
          194.84609056208325,
          193.68770944340176,
          192.47755880363917,
          191.62893723298697,
          190.6347792337148,
          190.40036685347155,
          190.51704290520104,
          190.48275233901674,
          191.13058946688813,
          192.19141110346615,
          192.52677762386713,
          192.35390108310634,
          191.78109225593545,
          190.6658138977857,
          189.65928439247065,
          189.00323581364432,
          188.25147568818826,
          187.4428262627828,
          186.77641580521848,
          186.22431274026647,
          185.71183268642753,
          184.4312177484963,
          183.36394495095587,
          182.47366482436328,
          181.0803218952962,
          179.75463831058968,
          178.32435792742154,
          176.9551878588649,
          176.66550452990367,
          176.6814119847332,
          176.7025159063912,
          176.66907391016213,
          176.76483699118296,
          176.67119045617267,
          176.606766869235,
          177.04023076726708,
          177.60948167217055,
          177.61519028910288,
          177.408502525098,
          176.80079935039169,
          175.3147086582963,
          175.5451804407962,
          175.45614280805484,
          175.38647545613978,
          175.35937474407544,
          174.93935204341338,
          174.75294020395737,
          175.21598327776573,
          175.29052295582994,
          175.274724041436,
          175.66295538399027,
          178.81675715065873,
          180.73848896617798,
          182.51700975097876,
          184.0937196869913,
          185.67569639359834,
          186.66270670483576,
          188.47664644326397,
          190.32792307106894,
          192.34035922437712,
          193.98896096569445,
          195.1292044777993,
          196.20892203743347,
          197.27203835571615,
          197.95238867027544,
          197.90785901474447,
          197.86922185934242,
          198.0694589032331,
          197.49924496489587,
          196.09069191356514,
          194.8457083927151,
          195.56927011054643,
          195.98267128980515,
          196.59285281955604,
          196.71926322732273,
          197.41031077336223,
          196.91699334592835,
          200.84584627632682,
          205.73647753586107,
          209.76544914611964,
          212.5445230152508,
          215.89520709808053,
          218.20597522460014,
          219.4307933926642,
          220.15814345074457,
          220.5161563156,
          221.0205583654602,
          221.88287762341906,
          222.60198612592995,
          222.66006682000867,
          223.39809273971466,
          224.61710388698603,
          225.70161567864233,
          227.55337764567582,
          228.94996935804056,
          230.28005961194683,
          231.1471199427876,
          232.33612464767043,
          234.1344792665465,
          236.5164682788447,
          238.6227235490306,
          239.5257566709194,
          239.82055292720685,
          239.78707771091743,
          239.30129356256012,
          238.68887568099058,
          237.80912121167958,
          237.4493229096849,
          237.12728542983984,
          236.1685903468217,
          235.99979888139484,
          235.9568509311697,
          236.10010275204053,
          235.98358677045383,
          236.80362937794453,
          237.37679880310176,
          236.45244351305274,
          235.88614365812975,
          234.61000429203344,
          232.22788284738039,
          229.48017690822468,
          228.17645043643859,
          228.27049758400847,
          228.59347750513643,
          228.932722767365,
          229.21365306396294,
          230.14262299803966,
          230.7304490663076,
          231.61437734061892,
          232.46870330789218,
          233.3734484113994,
          233.83638014862606,
          234.9137119979673,
          235.74093199500888,
          235.1475238539066,
          233.7346132635743,
          232.39004568686485,
          231.425787333769,
          230.86089856761245,
          230.50816913001978,
          230.44977077502077,
          230.411850954871,
          230.38389172269697,
          230.8913279912381,
          231.0966089042251,
          230.79571217883637,
          231.1931458787185
         ]
        }
       ],
       "layout": {
        "height": 725,
        "template": {
         "data": {
          "bar": [
           {
            "error_x": {
             "color": "#f2f5fa"
            },
            "error_y": {
             "color": "#f2f5fa"
            },
            "marker": {
             "line": {
              "color": "rgb(17,17,17)",
              "width": 0.5
             },
             "pattern": {
              "fillmode": "overlay",
              "size": 10,
              "solidity": 0.2
             }
            },
            "type": "bar"
           }
          ],
          "barpolar": [
           {
            "marker": {
             "line": {
              "color": "rgb(17,17,17)",
              "width": 0.5
             },
             "pattern": {
              "fillmode": "overlay",
              "size": 10,
              "solidity": 0.2
             }
            },
            "type": "barpolar"
           }
          ],
          "carpet": [
           {
            "aaxis": {
             "endlinecolor": "#A2B1C6",
             "gridcolor": "#506784",
             "linecolor": "#506784",
             "minorgridcolor": "#506784",
             "startlinecolor": "#A2B1C6"
            },
            "baxis": {
             "endlinecolor": "#A2B1C6",
             "gridcolor": "#506784",
             "linecolor": "#506784",
             "minorgridcolor": "#506784",
             "startlinecolor": "#A2B1C6"
            },
            "type": "carpet"
           }
          ],
          "choropleth": [
           {
            "colorbar": {
             "outlinewidth": 0,
             "ticks": ""
            },
            "type": "choropleth"
           }
          ],
          "contour": [
           {
            "colorbar": {
             "outlinewidth": 0,
             "ticks": ""
            },
            "colorscale": [
             [
              0,
              "#0d0887"
             ],
             [
              0.1111111111111111,
              "#46039f"
             ],
             [
              0.2222222222222222,
              "#7201a8"
             ],
             [
              0.3333333333333333,
              "#9c179e"
             ],
             [
              0.4444444444444444,
              "#bd3786"
             ],
             [
              0.5555555555555556,
              "#d8576b"
             ],
             [
              0.6666666666666666,
              "#ed7953"
             ],
             [
              0.7777777777777778,
              "#fb9f3a"
             ],
             [
              0.8888888888888888,
              "#fdca26"
             ],
             [
              1,
              "#f0f921"
             ]
            ],
            "type": "contour"
           }
          ],
          "contourcarpet": [
           {
            "colorbar": {
             "outlinewidth": 0,
             "ticks": ""
            },
            "type": "contourcarpet"
           }
          ],
          "heatmap": [
           {
            "colorbar": {
             "outlinewidth": 0,
             "ticks": ""
            },
            "colorscale": [
             [
              0,
              "#0d0887"
             ],
             [
              0.1111111111111111,
              "#46039f"
             ],
             [
              0.2222222222222222,
              "#7201a8"
             ],
             [
              0.3333333333333333,
              "#9c179e"
             ],
             [
              0.4444444444444444,
              "#bd3786"
             ],
             [
              0.5555555555555556,
              "#d8576b"
             ],
             [
              0.6666666666666666,
              "#ed7953"
             ],
             [
              0.7777777777777778,
              "#fb9f3a"
             ],
             [
              0.8888888888888888,
              "#fdca26"
             ],
             [
              1,
              "#f0f921"
             ]
            ],
            "type": "heatmap"
           }
          ],
          "heatmapgl": [
           {
            "colorbar": {
             "outlinewidth": 0,
             "ticks": ""
            },
            "colorscale": [
             [
              0,
              "#0d0887"
             ],
             [
              0.1111111111111111,
              "#46039f"
             ],
             [
              0.2222222222222222,
              "#7201a8"
             ],
             [
              0.3333333333333333,
              "#9c179e"
             ],
             [
              0.4444444444444444,
              "#bd3786"
             ],
             [
              0.5555555555555556,
              "#d8576b"
             ],
             [
              0.6666666666666666,
              "#ed7953"
             ],
             [
              0.7777777777777778,
              "#fb9f3a"
             ],
             [
              0.8888888888888888,
              "#fdca26"
             ],
             [
              1,
              "#f0f921"
             ]
            ],
            "type": "heatmapgl"
           }
          ],
          "histogram": [
           {
            "marker": {
             "pattern": {
              "fillmode": "overlay",
              "size": 10,
              "solidity": 0.2
             }
            },
            "type": "histogram"
           }
          ],
          "histogram2d": [
           {
            "colorbar": {
             "outlinewidth": 0,
             "ticks": ""
            },
            "colorscale": [
             [
              0,
              "#0d0887"
             ],
             [
              0.1111111111111111,
              "#46039f"
             ],
             [
              0.2222222222222222,
              "#7201a8"
             ],
             [
              0.3333333333333333,
              "#9c179e"
             ],
             [
              0.4444444444444444,
              "#bd3786"
             ],
             [
              0.5555555555555556,
              "#d8576b"
             ],
             [
              0.6666666666666666,
              "#ed7953"
             ],
             [
              0.7777777777777778,
              "#fb9f3a"
             ],
             [
              0.8888888888888888,
              "#fdca26"
             ],
             [
              1,
              "#f0f921"
             ]
            ],
            "type": "histogram2d"
           }
          ],
          "histogram2dcontour": [
           {
            "colorbar": {
             "outlinewidth": 0,
             "ticks": ""
            },
            "colorscale": [
             [
              0,
              "#0d0887"
             ],
             [
              0.1111111111111111,
              "#46039f"
             ],
             [
              0.2222222222222222,
              "#7201a8"
             ],
             [
              0.3333333333333333,
              "#9c179e"
             ],
             [
              0.4444444444444444,
              "#bd3786"
             ],
             [
              0.5555555555555556,
              "#d8576b"
             ],
             [
              0.6666666666666666,
              "#ed7953"
             ],
             [
              0.7777777777777778,
              "#fb9f3a"
             ],
             [
              0.8888888888888888,
              "#fdca26"
             ],
             [
              1,
              "#f0f921"
             ]
            ],
            "type": "histogram2dcontour"
           }
          ],
          "mesh3d": [
           {
            "colorbar": {
             "outlinewidth": 0,
             "ticks": ""
            },
            "type": "mesh3d"
           }
          ],
          "parcoords": [
           {
            "line": {
             "colorbar": {
              "outlinewidth": 0,
              "ticks": ""
             }
            },
            "type": "parcoords"
           }
          ],
          "pie": [
           {
            "automargin": true,
            "type": "pie"
           }
          ],
          "scatter": [
           {
            "marker": {
             "line": {
              "color": "#283442"
             }
            },
            "type": "scatter"
           }
          ],
          "scatter3d": [
           {
            "line": {
             "colorbar": {
              "outlinewidth": 0,
              "ticks": ""
             }
            },
            "marker": {
             "colorbar": {
              "outlinewidth": 0,
              "ticks": ""
             }
            },
            "type": "scatter3d"
           }
          ],
          "scattercarpet": [
           {
            "marker": {
             "colorbar": {
              "outlinewidth": 0,
              "ticks": ""
             }
            },
            "type": "scattercarpet"
           }
          ],
          "scattergeo": [
           {
            "marker": {
             "colorbar": {
              "outlinewidth": 0,
              "ticks": ""
             }
            },
            "type": "scattergeo"
           }
          ],
          "scattergl": [
           {
            "marker": {
             "line": {
              "color": "#283442"
             }
            },
            "type": "scattergl"
           }
          ],
          "scattermapbox": [
           {
            "marker": {
             "colorbar": {
              "outlinewidth": 0,
              "ticks": ""
             }
            },
            "type": "scattermapbox"
           }
          ],
          "scatterpolar": [
           {
            "marker": {
             "colorbar": {
              "outlinewidth": 0,
              "ticks": ""
             }
            },
            "type": "scatterpolar"
           }
          ],
          "scatterpolargl": [
           {
            "marker": {
             "colorbar": {
              "outlinewidth": 0,
              "ticks": ""
             }
            },
            "type": "scatterpolargl"
           }
          ],
          "scatterternary": [
           {
            "marker": {
             "colorbar": {
              "outlinewidth": 0,
              "ticks": ""
             }
            },
            "type": "scatterternary"
           }
          ],
          "surface": [
           {
            "colorbar": {
             "outlinewidth": 0,
             "ticks": ""
            },
            "colorscale": [
             [
              0,
              "#0d0887"
             ],
             [
              0.1111111111111111,
              "#46039f"
             ],
             [
              0.2222222222222222,
              "#7201a8"
             ],
             [
              0.3333333333333333,
              "#9c179e"
             ],
             [
              0.4444444444444444,
              "#bd3786"
             ],
             [
              0.5555555555555556,
              "#d8576b"
             ],
             [
              0.6666666666666666,
              "#ed7953"
             ],
             [
              0.7777777777777778,
              "#fb9f3a"
             ],
             [
              0.8888888888888888,
              "#fdca26"
             ],
             [
              1,
              "#f0f921"
             ]
            ],
            "type": "surface"
           }
          ],
          "table": [
           {
            "cells": {
             "fill": {
              "color": "#506784"
             },
             "line": {
              "color": "rgb(17,17,17)"
             }
            },
            "header": {
             "fill": {
              "color": "#2a3f5f"
             },
             "line": {
              "color": "rgb(17,17,17)"
             }
            },
            "type": "table"
           }
          ]
         },
         "layout": {
          "annotationdefaults": {
           "arrowcolor": "#f2f5fa",
           "arrowhead": 0,
           "arrowwidth": 1
          },
          "autotypenumbers": "strict",
          "coloraxis": {
           "colorbar": {
            "outlinewidth": 0,
            "ticks": ""
           }
          },
          "colorscale": {
           "diverging": [
            [
             0,
             "#8e0152"
            ],
            [
             0.1,
             "#c51b7d"
            ],
            [
             0.2,
             "#de77ae"
            ],
            [
             0.3,
             "#f1b6da"
            ],
            [
             0.4,
             "#fde0ef"
            ],
            [
             0.5,
             "#f7f7f7"
            ],
            [
             0.6,
             "#e6f5d0"
            ],
            [
             0.7,
             "#b8e186"
            ],
            [
             0.8,
             "#7fbc41"
            ],
            [
             0.9,
             "#4d9221"
            ],
            [
             1,
             "#276419"
            ]
           ],
           "sequential": [
            [
             0,
             "#0d0887"
            ],
            [
             0.1111111111111111,
             "#46039f"
            ],
            [
             0.2222222222222222,
             "#7201a8"
            ],
            [
             0.3333333333333333,
             "#9c179e"
            ],
            [
             0.4444444444444444,
             "#bd3786"
            ],
            [
             0.5555555555555556,
             "#d8576b"
            ],
            [
             0.6666666666666666,
             "#ed7953"
            ],
            [
             0.7777777777777778,
             "#fb9f3a"
            ],
            [
             0.8888888888888888,
             "#fdca26"
            ],
            [
             1,
             "#f0f921"
            ]
           ],
           "sequentialminus": [
            [
             0,
             "#0d0887"
            ],
            [
             0.1111111111111111,
             "#46039f"
            ],
            [
             0.2222222222222222,
             "#7201a8"
            ],
            [
             0.3333333333333333,
             "#9c179e"
            ],
            [
             0.4444444444444444,
             "#bd3786"
            ],
            [
             0.5555555555555556,
             "#d8576b"
            ],
            [
             0.6666666666666666,
             "#ed7953"
            ],
            [
             0.7777777777777778,
             "#fb9f3a"
            ],
            [
             0.8888888888888888,
             "#fdca26"
            ],
            [
             1,
             "#f0f921"
            ]
           ]
          },
          "colorway": [
           "#636efa",
           "#EF553B",
           "#00cc96",
           "#ab63fa",
           "#FFA15A",
           "#19d3f3",
           "#FF6692",
           "#B6E880",
           "#FF97FF",
           "#FECB52"
          ],
          "font": {
           "color": "#f2f5fa"
          },
          "geo": {
           "bgcolor": "rgb(17,17,17)",
           "lakecolor": "rgb(17,17,17)",
           "landcolor": "rgb(17,17,17)",
           "showlakes": true,
           "showland": true,
           "subunitcolor": "#506784"
          },
          "hoverlabel": {
           "align": "left"
          },
          "hovermode": "closest",
          "mapbox": {
           "style": "dark"
          },
          "paper_bgcolor": "rgb(17,17,17)",
          "plot_bgcolor": "rgb(17,17,17)",
          "polar": {
           "angularaxis": {
            "gridcolor": "#506784",
            "linecolor": "#506784",
            "ticks": ""
           },
           "bgcolor": "rgb(17,17,17)",
           "radialaxis": {
            "gridcolor": "#506784",
            "linecolor": "#506784",
            "ticks": ""
           }
          },
          "scene": {
           "xaxis": {
            "backgroundcolor": "rgb(17,17,17)",
            "gridcolor": "#506784",
            "gridwidth": 2,
            "linecolor": "#506784",
            "showbackground": true,
            "ticks": "",
            "zerolinecolor": "#C8D4E3"
           },
           "yaxis": {
            "backgroundcolor": "rgb(17,17,17)",
            "gridcolor": "#506784",
            "gridwidth": 2,
            "linecolor": "#506784",
            "showbackground": true,
            "ticks": "",
            "zerolinecolor": "#C8D4E3"
           },
           "zaxis": {
            "backgroundcolor": "rgb(17,17,17)",
            "gridcolor": "#506784",
            "gridwidth": 2,
            "linecolor": "#506784",
            "showbackground": true,
            "ticks": "",
            "zerolinecolor": "#C8D4E3"
           }
          },
          "shapedefaults": {
           "line": {
            "color": "#f2f5fa"
           }
          },
          "sliderdefaults": {
           "bgcolor": "#C8D4E3",
           "bordercolor": "rgb(17,17,17)",
           "borderwidth": 1,
           "tickwidth": 0
          },
          "ternary": {
           "aaxis": {
            "gridcolor": "#506784",
            "linecolor": "#506784",
            "ticks": ""
           },
           "baxis": {
            "gridcolor": "#506784",
            "linecolor": "#506784",
            "ticks": ""
           },
           "bgcolor": "rgb(17,17,17)",
           "caxis": {
            "gridcolor": "#506784",
            "linecolor": "#506784",
            "ticks": ""
           }
          },
          "title": {
           "x": 0.05
          },
          "updatemenudefaults": {
           "bgcolor": "#506784",
           "borderwidth": 0
          },
          "xaxis": {
           "automargin": true,
           "gridcolor": "#283442",
           "linecolor": "#506784",
           "ticks": "",
           "title": {
            "standoff": 15
           },
           "zerolinecolor": "#283442",
           "zerolinewidth": 2
          },
          "yaxis": {
           "automargin": true,
           "gridcolor": "#283442",
           "linecolor": "#506784",
           "ticks": "",
           "title": {
            "standoff": 15
           },
           "zerolinecolor": "#283442",
           "zerolinewidth": 2
          }
         }
        },
        "title": {
         "font": {
          "size": 32
         },
         "text": "AAPL Prices - Traditional Candles",
         "x": 0.45,
         "xanchor": "center",
         "y": 0.95,
         "yanchor": "top"
        },
        "width": 1450,
        "xaxis": {
         "anchor": "y",
         "domain": [
          0,
          1
         ],
         "nticks": 32,
         "rangeslider": {
          "visible": false
         },
         "tickangle": -90,
         "type": "category"
        },
        "yaxis": {
         "anchor": "x",
         "domain": [
          0,
          1
         ],
         "title": {
          "text": "Price"
         }
        }
       }
      }
     },
     "metadata": {},
     "output_type": "display_data"
    }
   ],
   "source": [
    "fig = make_subplots(\n",
    "    rows = 1,\n",
    "    cols = 1\n",
    ")\n",
    "\n",
    "df = data.copy()\n",
    "display(df)\n",
    "n_ticks_max = 32\n",
    "\n",
    "df_15dma_close = df['Close'].rolling(window=15, min_periods=1).mean()\n",
    "df_20dma_close = df['Close'].rolling(window=20, min_periods=1).mean()\n",
    "df_30dma_close = df['Close'].rolling(window=30, min_periods=1).mean()\n",
    "df_15dma_adjclose = df['Adj Close'].rolling(window=15, min_periods=1).mean()\n",
    "df_20dma_adjclose = df['Adj Close'].rolling(window=20, min_periods=1).mean()\n",
    "df_30dma_adjclose = df['Adj Close'].rolling(window=30, min_periods=1).mean()\n",
    "\n",
    "df['Date'] = df.index.astype(str)\n",
    "\n",
    "# n = len(df)\n",
    "# x_tick_spacing = max(1, round(n / n_ticks_max))\n",
    "# print(n, x_tick_spacing)\n",
    "# x_dtick = 86400000 * x_tick_spacing  # convert days to milliseconds\n",
    "\n",
    "shown_green = False\n",
    "shown_red = False\n",
    "\n",
    "for index, row in df.iterrows():\n",
    "    \n",
    "    if row['Close'] >= row['Open']:\n",
    "        color_dict = dict(fillcolor='rgba(0, 255, 0, 0.3)', line=dict(color='green'))\n",
    "        name = 'Close > Open'\n",
    "        current_candle = 'green'\n",
    "    else:\n",
    "        color_dict = dict(fillcolor='rgba(255, 0, 0, 0.6)', line=dict(color='red'))\n",
    "        name = 'Open > Close'\n",
    "        current_candle = 'red'\n",
    "\n",
    "    if (not shown_green) & (current_candle == 'green'):\n",
    "        showlegend = True\n",
    "        shown_green = True\n",
    "    elif (not shown_red) & (current_candle == 'red'):\n",
    "        showlegend = True\n",
    "        shown_red = True\n",
    "    else:\n",
    "        showlegend = False\n",
    "\n",
    "    # print(f'{str(index.date())}, {row[\"Open\"]}, {row[\"Close\"]}, {current_candle}, {name}')\n",
    "\n",
    "    fig.add_trace(\n",
    "        go.Candlestick(\n",
    "            x = [row['Date']],\n",
    "            open = [row['Open']],\n",
    "            high = [row['High']],\n",
    "            low = [row['Low']],\n",
    "            close = [row['Close']],\n",
    "            name = name,\n",
    "            increasing = color_dict,\n",
    "            decreasing = color_dict,\n",
    "            showlegend = showlegend\n",
    "        )\n",
    "    )\n",
    "    \"\"\"\n",
    "    fig.add_trace(\n",
    "        go.Scatter(\n",
    "            x = df['Date'],\n",
    "            y = df_15dma_close,\n",
    "            line = dict(color='gold'),        \n",
    "            name = '15-Day SMA'\n",
    "        )\n",
    "    )\n",
    "    fig.add_trace(\n",
    "        go.Scatter(\n",
    "            x = df['Date'],\n",
    "            y = df_30dma,\n",
    "            line = dict(color='palegoldenrod'),  # 'khaki' - slightly darker\n",
    "            name = '30-Day SMA'\n",
    "        )\n",
    "    )\n",
    "    \"\"\"\n",
    "\n",
    "fig.add_trace(\n",
    "    go.Scatter(\n",
    "        x = df['Date'],\n",
    "        y = df_20dma_close,\n",
    "        line = {'color': 'lemonchiffon'},  # or 'palegoldenrod' - slightly darker\n",
    "        name = 'SMA 20'\n",
    "    )\n",
    ")\n",
    "\n",
    "# Add Bollinger bands\n",
    "upper_bollinger_adjclose = bollinger_bands(df['Adj Close'])['upper']\n",
    "lower_bollinger_adjclose = bollinger_bands(df['Adj Close'])['lower']\n",
    "upper_bollinger_close = bollinger_bands(df['Close'])['upper']\n",
    "lower_bollinger_close = bollinger_bands(df['Close'])['lower']\n",
    "fig.add_trace(\n",
    "    go.Scatter(\n",
    "        x = df['Date'],\n",
    "        y = lower_bollinger_close,\n",
    "        line = dict(color='gold'),  # gold\n",
    "        # name = '2-SD Bollinger Bands'\n",
    "        name = '(20, 2) Bollinger Bands'\n",
    "    )\n",
    ")\n",
    "fig.add_trace(\n",
    "    go.Scatter(\n",
    "        x = df['Date'],\n",
    "        y = upper_bollinger_close,\n",
    "        line = dict(color='gold'),\n",
    "        showlegend = False\n",
    "    )\n",
    ")\n",
    "\"\"\"\n",
    "fig.add_trace(\n",
    "    go.Scatter(\n",
    "        x = df['Date'],\n",
    "        y = lower_bollinger_adjclose,\n",
    "        line = dict(color='orange'),  # gold\n",
    "        name = '2-SD Bollinger Bands (Adj Close)'\n",
    "    )\n",
    ")\n",
    "fig.add_trace(\n",
    "    go.Scatter(\n",
    "        x = df['Date'],\n",
    "        y = upper_bollinger_adjclose,\n",
    "        line = dict(color='orange'),\n",
    "        showlegend = False\n",
    "    )\n",
    ")\n",
    "\"\"\"\n",
    "fig.update_layout(\n",
    "    width = 1450,\n",
    "    height = 725,\n",
    "    xaxis_rangeslider_visible = False,\n",
    "    template = 'plotly_dark',\n",
    "    yaxis_title = f'Price',\n",
    "    title = dict(\n",
    "        text = f'{tk} Prices - Traditional Candles',\n",
    "        font_size = 32,\n",
    "        y = 0.95,\n",
    "        x = 0.45,\n",
    "        xanchor = 'center',\n",
    "        yanchor = 'top'\n",
    "    )\n",
    ")\n",
    "fig.update_xaxes(\n",
    "    # tickformat = \"%Y-%m-%d\",\n",
    "    type = 'category',\n",
    "    nticks = n_ticks_max,\n",
    "    tickangle = -90,\n",
    ")\n",
    "\n",
    "fig.show()"
   ]
  },
  {
   "cell_type": "code",
   "execution_count": null,
   "metadata": {},
   "outputs": [],
   "source": []
  }
 ],
 "metadata": {
  "kernelspec": {
   "display_name": "Python 3",
   "language": "python",
   "name": "python3"
  },
  "language_info": {
   "codemirror_mode": {
    "name": "ipython",
    "version": 3
   },
   "file_extension": ".py",
   "mimetype": "text/x-python",
   "name": "python",
   "nbconvert_exporter": "python",
   "pygments_lexer": "ipython3",
   "version": "3.11.2"
  }
 },
 "nbformat": 4,
 "nbformat_minor": 2
}
