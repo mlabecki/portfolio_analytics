{
 "cells": [
  {
   "cell_type": "code",
   "execution_count": 85,
   "metadata": {},
   "outputs": [],
   "source": [
    "import mplfinance as mpf\n",
    "import yfinance as yf\n",
    "import pandas as pd\n",
    "import numpy as np\n",
    "import math\n",
    "from datetime import datetime, timedelta, date\n",
    "import time\n",
    "import plotly.graph_objects as go\n",
    "from plotly.subplots import make_subplots\n",
    "import matplotlib\n",
    "import matplotlib.pyplot as plt\n",
    "import matplotlib.ticker as plticker\n",
    "import matplotlib.patches as patches\n",
    "from matplotlib.colors import TwoSlopeNorm\n",
    "import seaborn as sns\n",
    "import os\n",
    "from scipy import linalg\n",
    "from scipy import stats\n",
    "from scipy.optimize import minimize\n",
    "from sklearn.preprocessing import StandardScaler\n",
    "from sklearn.decomposition import PCA\n",
    "from mapping_tickers import *"
   ]
  },
  {
   "cell_type": "code",
   "execution_count": 2,
   "metadata": {},
   "outputs": [
    {
     "name": "stderr",
     "output_type": "stream",
     "text": [
      "[*********************100%%**********************]  1 of 1 completed\n"
     ]
    },
    {
     "data": {
      "text/html": [
       "<div>\n",
       "<style scoped>\n",
       "    .dataframe tbody tr th:only-of-type {\n",
       "        vertical-align: middle;\n",
       "    }\n",
       "\n",
       "    .dataframe tbody tr th {\n",
       "        vertical-align: top;\n",
       "    }\n",
       "\n",
       "    .dataframe thead th {\n",
       "        text-align: right;\n",
       "    }\n",
       "</style>\n",
       "<table border=\"1\" class=\"dataframe\">\n",
       "  <thead>\n",
       "    <tr style=\"text-align: right;\">\n",
       "      <th></th>\n",
       "      <th>Open</th>\n",
       "      <th>High</th>\n",
       "      <th>Low</th>\n",
       "      <th>Close</th>\n",
       "      <th>Adj Close</th>\n",
       "      <th>Volume</th>\n",
       "    </tr>\n",
       "    <tr>\n",
       "      <th>Date</th>\n",
       "      <th></th>\n",
       "      <th></th>\n",
       "      <th></th>\n",
       "      <th></th>\n",
       "      <th></th>\n",
       "      <th></th>\n",
       "    </tr>\n",
       "  </thead>\n",
       "  <tbody>\n",
       "    <tr>\n",
       "      <th>2023-08-30</th>\n",
       "      <td>184.940002</td>\n",
       "      <td>187.850006</td>\n",
       "      <td>184.740005</td>\n",
       "      <td>187.649994</td>\n",
       "      <td>186.694656</td>\n",
       "      <td>60813900</td>\n",
       "    </tr>\n",
       "    <tr>\n",
       "      <th>2023-08-31</th>\n",
       "      <td>187.839996</td>\n",
       "      <td>189.119995</td>\n",
       "      <td>187.479996</td>\n",
       "      <td>187.869995</td>\n",
       "      <td>186.913544</td>\n",
       "      <td>60794500</td>\n",
       "    </tr>\n",
       "    <tr>\n",
       "      <th>2023-09-01</th>\n",
       "      <td>189.490005</td>\n",
       "      <td>189.919998</td>\n",
       "      <td>188.279999</td>\n",
       "      <td>189.460007</td>\n",
       "      <td>188.495453</td>\n",
       "      <td>45732600</td>\n",
       "    </tr>\n",
       "    <tr>\n",
       "      <th>2023-09-05</th>\n",
       "      <td>188.279999</td>\n",
       "      <td>189.979996</td>\n",
       "      <td>187.610001</td>\n",
       "      <td>189.699997</td>\n",
       "      <td>188.734222</td>\n",
       "      <td>45280000</td>\n",
       "    </tr>\n",
       "    <tr>\n",
       "      <th>2023-09-06</th>\n",
       "      <td>188.399994</td>\n",
       "      <td>188.850006</td>\n",
       "      <td>181.470001</td>\n",
       "      <td>182.910004</td>\n",
       "      <td>181.978790</td>\n",
       "      <td>81755800</td>\n",
       "    </tr>\n",
       "    <tr>\n",
       "      <th>...</th>\n",
       "      <td>...</td>\n",
       "      <td>...</td>\n",
       "      <td>...</td>\n",
       "      <td>...</td>\n",
       "      <td>...</td>\n",
       "      <td>...</td>\n",
       "    </tr>\n",
       "    <tr>\n",
       "      <th>2024-08-23</th>\n",
       "      <td>225.660004</td>\n",
       "      <td>228.220001</td>\n",
       "      <td>224.330002</td>\n",
       "      <td>226.839996</td>\n",
       "      <td>226.839996</td>\n",
       "      <td>38677300</td>\n",
       "    </tr>\n",
       "    <tr>\n",
       "      <th>2024-08-26</th>\n",
       "      <td>226.759995</td>\n",
       "      <td>227.279999</td>\n",
       "      <td>223.889999</td>\n",
       "      <td>227.179993</td>\n",
       "      <td>227.179993</td>\n",
       "      <td>30602200</td>\n",
       "    </tr>\n",
       "    <tr>\n",
       "      <th>2024-08-27</th>\n",
       "      <td>226.000000</td>\n",
       "      <td>228.850006</td>\n",
       "      <td>224.889999</td>\n",
       "      <td>228.029999</td>\n",
       "      <td>228.029999</td>\n",
       "      <td>35934600</td>\n",
       "    </tr>\n",
       "    <tr>\n",
       "      <th>2024-08-28</th>\n",
       "      <td>227.919998</td>\n",
       "      <td>229.860001</td>\n",
       "      <td>225.679993</td>\n",
       "      <td>226.490005</td>\n",
       "      <td>226.490005</td>\n",
       "      <td>38052200</td>\n",
       "    </tr>\n",
       "    <tr>\n",
       "      <th>2024-08-29</th>\n",
       "      <td>230.100006</td>\n",
       "      <td>232.919998</td>\n",
       "      <td>228.880005</td>\n",
       "      <td>229.789993</td>\n",
       "      <td>229.789993</td>\n",
       "      <td>51852200</td>\n",
       "    </tr>\n",
       "  </tbody>\n",
       "</table>\n",
       "<p>252 rows × 6 columns</p>\n",
       "</div>"
      ],
      "text/plain": [
       "                  Open        High         Low       Close   Adj Close  \\\n",
       "Date                                                                     \n",
       "2023-08-30  184.940002  187.850006  184.740005  187.649994  186.694656   \n",
       "2023-08-31  187.839996  189.119995  187.479996  187.869995  186.913544   \n",
       "2023-09-01  189.490005  189.919998  188.279999  189.460007  188.495453   \n",
       "2023-09-05  188.279999  189.979996  187.610001  189.699997  188.734222   \n",
       "2023-09-06  188.399994  188.850006  181.470001  182.910004  181.978790   \n",
       "...                ...         ...         ...         ...         ...   \n",
       "2024-08-23  225.660004  228.220001  224.330002  226.839996  226.839996   \n",
       "2024-08-26  226.759995  227.279999  223.889999  227.179993  227.179993   \n",
       "2024-08-27  226.000000  228.850006  224.889999  228.029999  228.029999   \n",
       "2024-08-28  227.919998  229.860001  225.679993  226.490005  226.490005   \n",
       "2024-08-29  230.100006  232.919998  228.880005  229.789993  229.789993   \n",
       "\n",
       "              Volume  \n",
       "Date                  \n",
       "2023-08-30  60813900  \n",
       "2023-08-31  60794500  \n",
       "2023-09-01  45732600  \n",
       "2023-09-05  45280000  \n",
       "2023-09-06  81755800  \n",
       "...              ...  \n",
       "2024-08-23  38677300  \n",
       "2024-08-26  30602200  \n",
       "2024-08-27  35934600  \n",
       "2024-08-28  38052200  \n",
       "2024-08-29  51852200  \n",
       "\n",
       "[252 rows x 6 columns]"
      ]
     },
     "metadata": {},
     "output_type": "display_data"
    }
   ],
   "source": [
    "tk = 'AAPL'\n",
    "end_date = datetime.today()\n",
    "start_date = datetime(end_date.year - 1, end_date.month, end_date.day)\n",
    "\n",
    "df_adj_close = pd.DataFrame()\n",
    "data = yf.download(tk, start=start_date, end=end_date)\n",
    "df_adj_close[tk] = data['Adj Close']\n",
    "display(data)"
   ]
  },
  {
   "cell_type": "code",
   "execution_count": 3,
   "metadata": {},
   "outputs": [
    {
     "data": {
      "image/png": "[encoded data removed]",
      "text/plain": [
       "<Figure size 800x575 with 4 Axes>"
      ]
     },
     "metadata": {},
     "output_type": "display_data"
    }
   ],
   "source": [
    "# mpf.plot(aapl, volume=True, style='yahoo', type='candle')\n",
    "mpf.plot(data, volume=True, style='yahoo', type='hollow_and_filled')"
   ]
  },
  {
   "cell_type": "markdown",
   "metadata": {},
   "source": [
    "How to combine matplotlib axes with mpl_finance plot? See https://github.com/matplotlib/mplfinance/blob/master/examples/external_axes.ipynb"
   ]
  },
  {
   "cell_type": "code",
   "execution_count": 4,
   "metadata": {},
   "outputs": [],
   "source": [
    "def set_axis_limits(x_min, x_max):\n",
    "    \"\"\"\n",
    "    Returns the lower and upper limits for an axis where x_min and x_max are the min/max values.\n",
    "    units: increments of values at axis ticks, will be scaled to correspond with the\n",
    "        order of magntitude of x_max - x_min\n",
    "    intervals: how many intervals of units between the lower and the upper limit do we want to have\n",
    "    \"\"\"\n",
    "\n",
    "    if x_min == x_max:\n",
    "        return x_min, x_max\n",
    "    \n",
    "    else:\n",
    "        units = np.array([0.05, 0.1, 0.2, 0.25, 0.5])\n",
    "        intervals = np.array([4, 5, 6, 7, 8, 9])\n",
    "        max_n_intervals = max(intervals)\n",
    "\n",
    "        x_maxmax = max(abs(x_max), abs(x_min))\n",
    "        diff = 2 * x_maxmax\n",
    "        order = 10 ** round(math.log10(x_maxmax))\n",
    "        # print(f'order = {order}')\n",
    "        eps = order * 1e-10\n",
    "\n",
    "        for unit in units:\n",
    "            unit_scaled = order * unit\n",
    "            # print(f'unit scaled = {unit_scaled}')\n",
    "\n",
    "            lower_anchor = 0\n",
    "            increment = unit_scaled\n",
    "            while lower_anchor - abs(x_min) < eps:\n",
    "                lower_anchor += increment\n",
    "            lower_anchor *= np.sign(x_min)\n",
    "            if x_min > eps:\n",
    "                lower_anchor -= increment\n",
    "\n",
    "            diff_lower = abs(lower_anchor - x_min)\n",
    "            if diff_lower < eps:\n",
    "                diff_lower = 0\n",
    "\n",
    "            # print(f'\\tlower anchor = {lower_anchor}')\n",
    "            # print(f'\\tdiff lower = {diff_lower}')\n",
    "\n",
    "            upper_anchor = lower_anchor\n",
    "            while (upper_anchor < x_max) & (abs(upper_anchor - x_max) > eps) & ((upper_anchor - lower_anchor) / unit_scaled <= max_n_intervals):\n",
    "                upper_anchor += unit_scaled\n",
    "                # print(f'\\tupper anchor = {upper_anchor}')\n",
    "            diff_upper = abs(upper_anchor - x_max)\n",
    "            if diff_upper < eps:\n",
    "                diff_upper = 0\n",
    "            \n",
    "            # print(f'\\tupper anchor = {upper_anchor}')\n",
    "            # print(f'\\tdiff upper = {diff_upper}')\n",
    "\n",
    "            if (upper_anchor - x_max > -eps) & (diff_lower + diff_upper < diff):\n",
    "                diff = diff_lower + diff_upper\n",
    "                lower_limit = lower_anchor\n",
    "                upper_limit = upper_anchor\n",
    "        \n",
    "        return lower_limit, upper_limit"
   ]
  },
  {
   "cell_type": "code",
   "execution_count": 5,
   "metadata": {},
   "outputs": [],
   "source": [
    "def plot_candlestick(\n",
    "    tk,\n",
    "    df,\n",
    "    start_date,\n",
    "    end_date,\n",
    "    title=None,\n",
    "    y_min=None,\n",
    "    y_max=None,\n",
    "    color=None,\n",
    "    x_dim=12,\n",
    "    y_dim=8,\n",
    "    grid='both'\n",
    "):\n",
    "    \"\"\"\n",
    "    Create a plot of a historical profile\n",
    "    tk: ticker profile to be plotted\n",
    "    df: dataframe containing data for ticker tk\n",
    "    \"\"\"\n",
    "\n",
    "    \"\"\"\n",
    "    if isinstance(df, pd.Series):\n",
    "        df_tk = df.copy()\n",
    "    elif isinstance(df, pd.DataFrame):\n",
    "        df_tk = df[tk]\n",
    "    else:\n",
    "        print('df must a a series or a dataframe')\n",
    "        exit\n",
    "    \"\"\"\n",
    "\n",
    "    if title is None:\n",
    "        title = tk\n",
    "    if color is None:\n",
    "        color = 'tab:blue'  # same as '#1f77b4'\n",
    "\n",
    "    # Set x-axis limits\n",
    "    if isinstance(start_date, datetime):\n",
    "        x_min = str(start_date.date())\n",
    "    elif isinstance(start_date, date):\n",
    "        x_min = str(start_date)\n",
    "    elif isinstance(start_date, str):\n",
    "        x_min = start_date\n",
    "    else:\n",
    "        print('Incorrect format of start_date')\n",
    "        exit\n",
    "\n",
    "    if isinstance(end_date, datetime):\n",
    "        x_max = str(end_date.date())\n",
    "    elif isinstance(end_date, date):\n",
    "        x_max = str(end_date)\n",
    "    elif isinstance(end_date, str):\n",
    "        x_max = end_date\n",
    "    else:\n",
    "        print('Incorrect format of end_date')\n",
    "        exit\n",
    "\n",
    "    if x_min not in data.index:\n",
    "        while x_min not in data.index:\n",
    "            new_start_date = datetime.strptime(x_min, '%Y-%m-%d') + timedelta(1)\n",
    "            x_min = str(new_start_date.date())\n",
    "\n",
    "    if x_max not in data.index:\n",
    "        while x_max not in data.index:\n",
    "            new_end_date = datetime.strptime(x_max, '%Y-%m-%d') - timedelta(1)\n",
    "            x_max = str(new_end_date.date())\n",
    "\n",
    "    print(f'x_min, x_max = {x_min, x_max}')\n",
    "\n",
    "    y_lower, y_upper = set_axis_limits(min(data['Low']), max(data['High']))\n",
    "    if y_min is None:\n",
    "        y_min = y_lower\n",
    "    if y_max is None:\n",
    "        y_max = y_upper\n",
    "    print(y_min, y_max)\n",
    "\n",
    "    # Set tick spacing based on the total number of date points\n",
    "    n_ticks_max = 36\n",
    "    cond_start = data.index >= x_min\n",
    "    cond_end = data.index <= x_max\n",
    "    n = len(data.loc[cond_start & cond_end])\n",
    "    tick_spacing = max(1, round(n / n_ticks_max))\n",
    "\n",
    "    fig = mpf.figure(figsize=(x_dim, y_dim), style='yahoo')\n",
    "    ax = fig.add_subplot(1, 1, 1)\n",
    "\n",
    "    print(f'dir(ax):\\n{dir(ax)}')\n",
    "    print(f'dir(ax.set_xticks):\\n{dir(ax.set_xticks)}')\n",
    "    print(f'dir(ax.get_xticks):\\n{dir(ax.get_xticks)}')\n",
    "    print(f'dir(ax.get_xgridlines):\\n{dir(ax.get_xgridlines)}')\n",
    "\n",
    "    mpf.plot(\n",
    "        data,\n",
    "        ax=ax,\n",
    "        volume=False,\n",
    "        style='yahoo',\n",
    "        type='hollow_and_filled',\n",
    "        datetime_format='%Y-%m-%d',\n",
    "        xlim=(x_min, x_max),\n",
    "        ylim=(y_min, y_max),\n",
    "        xrotation=90\n",
    "    )\n",
    "\n",
    "    ax.set_title(title)\n",
    "    # ax.set_xlim(x_min, x_max)\n",
    "    ax.set_ylim(y_min, y_max)\n",
    "    # plt.xlabel('Date')\n",
    "    # ax.get_xticks()\n",
    "    # ax.set_xticks()\n",
    "\n",
    "    if grid in ['x', 'both']:\n",
    "        ax.get_xgridlines()\n",
    "    if grid in ['y', 'both']:\n",
    "        ax.get_ygridlines()\n",
    "\n",
    "    # ax.xaxis.set_major_locator(plticker.MultipleLocator(tick_spacing))\n",
    "\n",
    "    return fig\n"
   ]
  },
  {
   "cell_type": "code",
   "execution_count": 6,
   "metadata": {},
   "outputs": [
    {
     "name": "stdout",
     "output_type": "stream",
     "text": [
      "x_min, x_max = ('2023-08-30', '2024-08-29')\n",
      "160.0 240.0\n",
      "dir(ax):\n",
      "['ArtistList', '_AxesBase__clear', '_PROPERTIES_EXCLUDED_FROM_SET', '__class__', '__delattr__', '__dict__', '__dir__', '__doc__', '__eq__', '__format__', '__ge__', '__getattribute__', '__getstate__', '__gt__', '__hash__', '__init__', '__init_subclass__', '__le__', '__lt__', '__module__', '__ne__', '__new__', '__reduce__', '__reduce_ex__', '__repr__', '__setattr__', '__setstate__', '__sizeof__', '__str__', '__subclasshook__', '__weakref__', '_add_text', '_adjustable', '_agg_filter', '_alias_map', '_alpha', '_anchor', '_animated', '_aspect', '_autotitlepos', '_axes', '_axes_locator', '_axis_map', '_axis_names', '_axisbelow', '_box_aspect', '_callbacks', '_check_no_units', '_children', '_clipon', '_clippath', '_cm_set', '_colorbars', '_convert_dx', '_current_image', '_default_contains', '_errorevery_to_mask', '_facecolor', '_fill_between_x_or_y', '_frameon', '_fully_clipped_to_axes', '_gci', '_gen_axes_patch', '_gen_axes_spines', '_get_aspect_ratio', '_get_lines', '_get_pan_points', '_get_patches_for_fill', '_get_view', '_gid', '_gridOn', '_in_layout', '_init_axis', '_internal_update', '_label', '_label_outer_xaxis', '_label_outer_yaxis', '_left_title', '_make_twin_axes', '_mouseover', '_mouseover_set', '_navigate', '_navigate_mode', '_originalPosition', '_parse_scatter_color_args', '_path_effects', '_pcolorargs', '_picker', '_position', '_prepare_view_from_bbox', '_process_unit_info', '_projection_init', '_quiver_units', '_rasterization_zorder', '_rasterized', '_remove_legend', '_remove_method', '_request_autoscale_view', '_right_title', '_sci', '_set_alpha_for_array', '_set_artist_props', '_set_gc_clip', '_set_lim_and_transforms', '_set_position', '_set_title_offset_trans', '_set_view', '_set_view_from_bbox', '_shared_axes', '_sharex', '_sharey', '_sketch', '_snap', '_stale', '_stale_viewlims', '_sticky_edges', '_subclass_uses_cla', '_subplotspec', '_tight', '_transform', '_transformSet', '_twinned_axes', '_unit_change_handler', '_unstale_viewLim', '_update_image_limits', '_update_line_limits', '_update_patch_limits', '_update_props', '_update_set_signature_and_docstring', '_update_title_position', '_update_transScale', '_url', '_use_sticky_edges', '_validate_converted_limits', '_viewLim', '_visible', '_xaxis_transform', '_xmargin', '_yaxis_transform', '_ymargin', 'acorr', 'add_artist', 'add_callback', 'add_child_axes', 'add_collection', 'add_container', 'add_image', 'add_line', 'add_patch', 'add_table', 'angle_spectrum', 'annotate', 'apply_aspect', 'arrow', 'artists', 'autoscale', 'autoscale_view', 'axes', 'axhline', 'axhspan', 'axis', 'axison', 'axline', 'axvline', 'axvspan', 'bar', 'bar_label', 'barbs', 'barh', 'bbox', 'boxplot', 'broken_barh', 'bxp', 'callbacks', 'can_pan', 'can_zoom', 'child_axes', 'cla', 'clabel', 'clear', 'clipbox', 'cohere', 'collections', 'containers', 'contains', 'contains_point', 'contour', 'contourf', 'convert_xunits', 'convert_yunits', 'csd', 'dataLim', 'drag_pan', 'draw', 'draw_artist', 'end_pan', 'errorbar', 'eventplot', 'figure', 'fill', 'fill_between', 'fill_betweenx', 'findobj', 'fmt_xdata', 'fmt_ydata', 'format_coord', 'format_cursor_data', 'format_xdata', 'format_ydata', 'get_adjustable', 'get_agg_filter', 'get_alpha', 'get_anchor', 'get_animated', 'get_aspect', 'get_autoscale_on', 'get_autoscalex_on', 'get_autoscaley_on', 'get_axes_locator', 'get_axisbelow', 'get_box_aspect', 'get_children', 'get_clip_box', 'get_clip_on', 'get_clip_path', 'get_cursor_data', 'get_data_ratio', 'get_default_bbox_extra_artists', 'get_facecolor', 'get_fc', 'get_figure', 'get_frame_on', 'get_gid', 'get_gridspec', 'get_images', 'get_in_layout', 'get_label', 'get_legend', 'get_legend_handles_labels', 'get_lines', 'get_mouseover', 'get_navigate', 'get_navigate_mode', 'get_path_effects', 'get_picker', 'get_position', 'get_rasterization_zorder', 'get_rasterized', 'get_renderer_cache', 'get_shared_x_axes', 'get_shared_y_axes', 'get_sketch_params', 'get_snap', 'get_subplotspec', 'get_tightbbox', 'get_title', 'get_transform', 'get_transformed_clip_path_and_affine', 'get_url', 'get_visible', 'get_window_extent', 'get_xaxis', 'get_xaxis_text1_transform', 'get_xaxis_text2_transform', 'get_xaxis_transform', 'get_xbound', 'get_xgridlines', 'get_xlabel', 'get_xlim', 'get_xmajorticklabels', 'get_xminorticklabels', 'get_xscale', 'get_xticklabels', 'get_xticklines', 'get_xticks', 'get_yaxis', 'get_yaxis_text1_transform', 'get_yaxis_text2_transform', 'get_yaxis_transform', 'get_ybound', 'get_ygridlines', 'get_ylabel', 'get_ylim', 'get_ymajorticklabels', 'get_yminorticklabels', 'get_yscale', 'get_yticklabels', 'get_yticklines', 'get_yticks', 'get_zorder', 'grid', 'has_data', 'have_units', 'hexbin', 'hist', 'hist2d', 'hlines', 'ignore_existing_data_limits', 'images', 'imshow', 'in_axes', 'indicate_inset', 'indicate_inset_zoom', 'inset_axes', 'invert_xaxis', 'invert_yaxis', 'is_transform_set', 'label_outer', 'legend', 'legend_', 'lines', 'locator_params', 'loglog', 'magnitude_spectrum', 'margins', 'matshow', 'minorticks_off', 'minorticks_on', 'mouseover', 'mpfstyle', 'name', 'patch', 'patches', 'pchanged', 'pcolor', 'pcolorfast', 'pcolormesh', 'phase_spectrum', 'pick', 'pickable', 'pie', 'plot', 'plot_date', 'properties', 'psd', 'quiver', 'quiverkey', 'redraw_in_frame', 'relim', 'remove', 'remove_callback', 'reset_position', 'scatter', 'secondary_xaxis', 'secondary_yaxis', 'semilogx', 'semilogy', 'set', 'set_adjustable', 'set_agg_filter', 'set_alpha', 'set_anchor', 'set_animated', 'set_aspect', 'set_autoscale_on', 'set_autoscalex_on', 'set_autoscaley_on', 'set_axes_locator', 'set_axis_off', 'set_axis_on', 'set_axisbelow', 'set_box_aspect', 'set_clip_box', 'set_clip_on', 'set_clip_path', 'set_facecolor', 'set_fc', 'set_figure', 'set_frame_on', 'set_gid', 'set_in_layout', 'set_label', 'set_mouseover', 'set_navigate', 'set_navigate_mode', 'set_path_effects', 'set_picker', 'set_position', 'set_prop_cycle', 'set_rasterization_zorder', 'set_rasterized', 'set_sketch_params', 'set_snap', 'set_subplotspec', 'set_title', 'set_transform', 'set_url', 'set_visible', 'set_xbound', 'set_xlabel', 'set_xlim', 'set_xmargin', 'set_xscale', 'set_xticklabels', 'set_xticks', 'set_ybound', 'set_ylabel', 'set_ylim', 'set_ymargin', 'set_yscale', 'set_yticklabels', 'set_yticks', 'set_zorder', 'sharex', 'sharey', 'specgram', 'spines', 'spy', 'stackplot', 'stairs', 'stale', 'stale_callback', 'start_pan', 'stem', 'step', 'sticky_edges', 'streamplot', 'table', 'tables', 'text', 'texts', 'tick_params', 'ticklabel_format', 'title', 'titleOffsetTrans', 'transAxes', 'transData', 'transLimits', 'transScale', 'tricontour', 'tricontourf', 'tripcolor', 'triplot', 'twinx', 'twiny', 'update', 'update_datalim', 'update_from', 'use_sticky_edges', 'viewLim', 'violin', 'violinplot', 'vlines', 'xaxis', 'xaxis_date', 'xaxis_inverted', 'xcorr', 'yaxis', 'yaxis_date', 'yaxis_inverted', 'zorder']\n",
      "dir(ax.set_xticks):\n",
      "['__call__', '__class__', '__delattr__', '__dir__', '__doc__', '__eq__', '__format__', '__func__', '__ge__', '__getattribute__', '__getstate__', '__gt__', '__hash__', '__init__', '__init_subclass__', '__le__', '__lt__', '__ne__', '__new__', '__reduce__', '__reduce_ex__', '__repr__', '__self__', '__setattr__', '__signature__', '__sizeof__', '__str__', '__subclasshook__']\n",
      "dir(ax.get_xticks):\n",
      "['__call__', '__class__', '__delattr__', '__dir__', '__doc__', '__eq__', '__format__', '__func__', '__ge__', '__getattribute__', '__getstate__', '__gt__', '__hash__', '__init__', '__init_subclass__', '__le__', '__lt__', '__ne__', '__new__', '__reduce__', '__reduce_ex__', '__repr__', '__self__', '__setattr__', '__signature__', '__sizeof__', '__str__', '__subclasshook__']\n",
      "dir(ax.get_xgridlines):\n",
      "['__call__', '__class__', '__delattr__', '__dir__', '__doc__', '__eq__', '__format__', '__func__', '__ge__', '__getattribute__', '__getstate__', '__gt__', '__hash__', '__init__', '__init_subclass__', '__le__', '__lt__', '__ne__', '__new__', '__reduce__', '__reduce_ex__', '__repr__', '__self__', '__setattr__', '__signature__', '__sizeof__', '__str__', '__subclasshook__']\n"
     ]
    },
    {
     "data": {
      "image/png": "[encoded data removed]",
      "text/plain": [
       "<Mpf_Figure size 1200x800 with 1 Axes>"
      ]
     },
     "metadata": {},
     "output_type": "display_data"
    }
   ],
   "source": [
    "title_candles = f'{tk} Candlestick'\n",
    "plot_candles = plot_candlestick(\n",
    "    tk,\n",
    "    data,\n",
    "    start_date,\n",
    "    end_date,\n",
    "    title_candles\n",
    " )"
   ]
  },
  {
   "cell_type": "markdown",
   "metadata": {},
   "source": [
    "Bollinger Bands"
   ]
  },
  {
   "cell_type": "code",
   "execution_count": 7,
   "metadata": {},
   "outputs": [],
   "source": [
    "def bollinger_bands(prices, window=20, n_std=2):\n",
    "    \"\"\"\n",
    "    prices: series or dataframe of ticker prices, could be adj_close or any of the open, high, low, close (ohlc)\n",
    "    window: size of the rolling window in days, defaults to 20\n",
    "    n_sd: width of each band in standard deviations, defaults to 2\n",
    "    returns: dictionary boll_bands = {\n",
    "            'upper': upper_band,\n",
    "            'lower': lower_band\n",
    "        }\n",
    "    \"\"\"\n",
    " \n",
    "    df_sma = prices.rolling(window=window, min_periods=1).mean()\n",
    "    df_std = prices.rolling(window=window, min_periods=1).std(ddof=0)\n",
    "\n",
    "    upper_band = df_sma + n_std * df_std\n",
    "    lower_band = df_sma - n_std * df_std\n",
    "\n",
    "    boll_bands = {\n",
    "        'upper': upper_band,\n",
    "        'lower': lower_band\n",
    "    }\n",
    "\n",
    "    return boll_bands"
   ]
  },
  {
   "cell_type": "markdown",
   "metadata": {},
   "source": [
    "Hollow Candles - see e.g. https://trendspider.com/learning-center/understanding-hollow-candles-the-basics/"
   ]
  },
  {
   "cell_type": "code",
   "execution_count": 84,
   "metadata": {},
   "outputs": [
    {
     "data": {
      "application/vnd.plotly.v1+json": {
       "config": {
        "plotlyServerURL": "https://plot.ly"
       },
       "data": [
        {
         "close": [
          187.64999389648438
         ],
         "decreasing": {
          "fillcolor": "rgba(255, 0, 0, 0)",
          "line": {
           "color": "red"
          }
         },
         "high": [
          187.85000610351562
         ],
         "increasing": {
          "fillcolor": "rgba(255, 0, 0, 0)",
          "line": {
           "color": "red"
          }
         },
         "legendgroup": "Hollow Candlesticks",
         "low": [
          184.74000549316406
         ],
         "name": "Prev Close > Close > Open",
         "open": [
          184.94000244140625
         ],
         "showlegend": true,
         "type": "candlestick",
         "x": [
          "2023-08-30"
         ]
        },
        {
         "close": [
          187.8699951171875
         ],
         "decreasing": {
          "fillcolor": "rgba(255, 0, 0, 0)",
          "line": {
           "color": "green"
          }
         },
         "high": [
          189.1199951171875
         ],
         "increasing": {
          "fillcolor": "rgba(255, 0, 0, 0)",
          "line": {
           "color": "green"
          }
         },
         "legendgroup": "Hollow Candlesticks",
         "low": [
          187.47999572753906
         ],
         "name": "Prev Close < Close > Open",
         "open": [
          187.83999633789062
         ],
         "showlegend": true,
         "type": "candlestick",
         "x": [
          "2023-08-31"
         ]
        },
        {
         "close": [
          189.4600067138672
         ],
         "decreasing": {
          "fillcolor": "green",
          "line": {
           "color": "green"
          }
         },
         "high": [
          189.9199981689453
         ],
         "increasing": {
          "fillcolor": "green",
          "line": {
           "color": "green"
          }
         },
         "legendgroup": "Hollow Candlesticks",
         "low": [
          188.27999877929688
         ],
         "name": "Open > Close > Prev Close",
         "open": [
          189.49000549316406
         ],
         "showlegend": true,
         "type": "candlestick",
         "x": [
          "2023-09-01"
         ]
        },
        {
         "close": [
          189.6999969482422
         ],
         "decreasing": {
          "fillcolor": "rgba(255, 0, 0, 0)",
          "line": {
           "color": "green"
          }
         },
         "high": [
          189.97999572753906
         ],
         "increasing": {
          "fillcolor": "rgba(255, 0, 0, 0)",
          "line": {
           "color": "green"
          }
         },
         "legendgroup": "Hollow Candlesticks",
         "low": [
          187.61000061035156
         ],
         "name": "Prev Close < Close > Open",
         "open": [
          188.27999877929688
         ],
         "showlegend": false,
         "type": "candlestick",
         "x": [
          "2023-09-05"
         ]
        },
        {
         "close": [
          182.91000366210938
         ],
         "decreasing": {
          "fillcolor": "red",
          "line": {
           "color": "red"
          }
         },
         "high": [
          188.85000610351562
         ],
         "increasing": {
          "fillcolor": "red",
          "line": {
           "color": "red"
          }
         },
         "legendgroup": "Hollow Candlesticks",
         "low": [
          181.47000122070312
         ],
         "name": "Open > Close < Prev Close",
         "open": [
          188.39999389648438
         ],
         "showlegend": true,
         "type": "candlestick",
         "x": [
          "2023-09-06"
         ]
        },
        {
         "close": [
          177.55999755859375
         ],
         "decreasing": {
          "fillcolor": "rgba(255, 0, 0, 0)",
          "line": {
           "color": "red"
          }
         },
         "high": [
          178.2100067138672
         ],
         "increasing": {
          "fillcolor": "rgba(255, 0, 0, 0)",
          "line": {
           "color": "red"
          }
         },
         "legendgroup": "Hollow Candlesticks",
         "low": [
          173.5399932861328
         ],
         "name": "Prev Close > Close > Open",
         "open": [
          175.17999267578125
         ],
         "showlegend": false,
         "type": "candlestick",
         "x": [
          "2023-09-07"
         ]
        },
        {
         "close": [
          178.17999267578125
         ],
         "decreasing": {
          "fillcolor": "green",
          "line": {
           "color": "green"
          }
         },
         "high": [
          180.24000549316406
         ],
         "increasing": {
          "fillcolor": "green",
          "line": {
           "color": "green"
          }
         },
         "legendgroup": "Hollow Candlesticks",
         "low": [
          177.7899932861328
         ],
         "name": "Open > Close > Prev Close",
         "open": [
          178.35000610351562
         ],
         "showlegend": false,
         "type": "candlestick",
         "x": [
          "2023-09-08"
         ]
        },
        {
         "close": [
          179.36000061035156
         ],
         "decreasing": {
          "fillcolor": "green",
          "line": {
           "color": "green"
          }
         },
         "high": [
          180.3000030517578
         ],
         "increasing": {
          "fillcolor": "green",
          "line": {
           "color": "green"
          }
         },
         "legendgroup": "Hollow Candlesticks",
         "low": [
          177.33999633789062
         ],
         "name": "Open > Close > Prev Close",
         "open": [
          180.07000732421875
         ],
         "showlegend": false,
         "type": "candlestick",
         "x": [
          "2023-09-11"
         ]
        },
        {
         "close": [
          176.3000030517578
         ],
         "decreasing": {
          "fillcolor": "red",
          "line": {
           "color": "red"
          }
         },
         "high": [
          180.1300048828125
         ],
         "increasing": {
          "fillcolor": "red",
          "line": {
           "color": "red"
          }
         },
         "legendgroup": "Hollow Candlesticks",
         "low": [
          174.82000732421875
         ],
         "name": "Open > Close < Prev Close",
         "open": [
          179.49000549316406
         ],
         "showlegend": false,
         "type": "candlestick",
         "x": [
          "2023-09-12"
         ]
        },
        {
         "close": [
          174.2100067138672
         ],
         "decreasing": {
          "fillcolor": "red",
          "line": {
           "color": "red"
          }
         },
         "high": [
          177.3000030517578
         ],
         "increasing": {
          "fillcolor": "red",
          "line": {
           "color": "red"
          }
         },
         "legendgroup": "Hollow Candlesticks",
         "low": [
          173.97999572753906
         ],
         "name": "Open > Close < Prev Close",
         "open": [
          176.50999450683594
         ],
         "showlegend": false,
         "type": "candlestick",
         "x": [
          "2023-09-13"
         ]
        },
        {
         "close": [
          175.74000549316406
         ],
         "decreasing": {
          "fillcolor": "rgba(255, 0, 0, 0)",
          "line": {
           "color": "green"
          }
         },
         "high": [
          176.10000610351562
         ],
         "increasing": {
          "fillcolor": "rgba(255, 0, 0, 0)",
          "line": {
           "color": "green"
          }
         },
         "legendgroup": "Hollow Candlesticks",
         "low": [
          173.5800018310547
         ],
         "name": "Prev Close < Close > Open",
         "open": [
          174
         ],
         "showlegend": false,
         "type": "candlestick",
         "x": [
          "2023-09-14"
         ]
        },
        {
         "close": [
          175.00999450683594
         ],
         "decreasing": {
          "fillcolor": "red",
          "line": {
           "color": "red"
          }
         },
         "high": [
          176.5
         ],
         "increasing": {
          "fillcolor": "red",
          "line": {
           "color": "red"
          }
         },
         "legendgroup": "Hollow Candlesticks",
         "low": [
          173.82000732421875
         ],
         "name": "Open > Close < Prev Close",
         "open": [
          176.47999572753906
         ],
         "showlegend": false,
         "type": "candlestick",
         "x": [
          "2023-09-15"
         ]
        },
        {
         "close": [
          177.97000122070312
         ],
         "decreasing": {
          "fillcolor": "rgba(255, 0, 0, 0)",
          "line": {
           "color": "green"
          }
         },
         "high": [
          179.3800048828125
         ],
         "increasing": {
          "fillcolor": "rgba(255, 0, 0, 0)",
          "line": {
           "color": "green"
          }
         },
         "legendgroup": "Hollow Candlesticks",
         "low": [
          176.1699981689453
         ],
         "name": "Prev Close < Close > Open",
         "open": [
          176.47999572753906
         ],
         "showlegend": false,
         "type": "candlestick",
         "x": [
          "2023-09-18"
         ]
        },
        {
         "close": [
          179.07000732421875
         ],
         "decreasing": {
          "fillcolor": "rgba(255, 0, 0, 0)",
          "line": {
           "color": "green"
          }
         },
         "high": [
          179.6300048828125
         ],
         "increasing": {
          "fillcolor": "rgba(255, 0, 0, 0)",
          "line": {
           "color": "green"
          }
         },
         "legendgroup": "Hollow Candlesticks",
         "low": [
          177.1300048828125
         ],
         "name": "Prev Close < Close > Open",
         "open": [
          177.52000427246094
         ],
         "showlegend": false,
         "type": "candlestick",
         "x": [
          "2023-09-19"
         ]
        },
        {
         "close": [
          175.49000549316406
         ],
         "decreasing": {
          "fillcolor": "red",
          "line": {
           "color": "red"
          }
         },
         "high": [
          179.6999969482422
         ],
         "increasing": {
          "fillcolor": "red",
          "line": {
           "color": "red"
          }
         },
         "legendgroup": "Hollow Candlesticks",
         "low": [
          175.39999389648438
         ],
         "name": "Open > Close < Prev Close",
         "open": [
          179.25999450683594
         ],
         "showlegend": false,
         "type": "candlestick",
         "x": [
          "2023-09-20"
         ]
        },
        {
         "close": [
          173.92999267578125
         ],
         "decreasing": {
          "fillcolor": "red",
          "line": {
           "color": "red"
          }
         },
         "high": [
          176.3000030517578
         ],
         "increasing": {
          "fillcolor": "red",
          "line": {
           "color": "red"
          }
         },
         "legendgroup": "Hollow Candlesticks",
         "low": [
          173.86000061035156
         ],
         "name": "Open > Close < Prev Close",
         "open": [
          174.5500030517578
         ],
         "showlegend": false,
         "type": "candlestick",
         "x": [
          "2023-09-21"
         ]
        },
        {
         "close": [
          174.7899932861328
         ],
         "decreasing": {
          "fillcolor": "rgba(255, 0, 0, 0)",
          "line": {
           "color": "green"
          }
         },
         "high": [
          177.0800018310547
         ],
         "increasing": {
          "fillcolor": "rgba(255, 0, 0, 0)",
          "line": {
           "color": "green"
          }
         },
         "legendgroup": "Hollow Candlesticks",
         "low": [
          174.0500030517578
         ],
         "name": "Prev Close < Close > Open",
         "open": [
          174.6699981689453
         ],
         "showlegend": false,
         "type": "candlestick",
         "x": [
          "2023-09-22"
         ]
        },
        {
         "close": [
          176.0800018310547
         ],
         "decreasing": {
          "fillcolor": "rgba(255, 0, 0, 0)",
          "line": {
           "color": "green"
          }
         },
         "high": [
          176.97000122070312
         ],
         "increasing": {
          "fillcolor": "rgba(255, 0, 0, 0)",
          "line": {
           "color": "green"
          }
         },
         "legendgroup": "Hollow Candlesticks",
         "low": [
          174.14999389648438
         ],
         "name": "Prev Close < Close > Open",
         "open": [
          174.1999969482422
         ],
         "showlegend": false,
         "type": "candlestick",
         "x": [
          "2023-09-25"
         ]
        },
        {
         "close": [
          171.9600067138672
         ],
         "decreasing": {
          "fillcolor": "red",
          "line": {
           "color": "red"
          }
         },
         "high": [
          175.1999969482422
         ],
         "increasing": {
          "fillcolor": "red",
          "line": {
           "color": "red"
          }
         },
         "legendgroup": "Hollow Candlesticks",
         "low": [
          171.66000366210938
         ],
         "name": "Open > Close < Prev Close",
         "open": [
          174.82000732421875
         ],
         "showlegend": false,
         "type": "candlestick",
         "x": [
          "2023-09-26"
         ]
        },
        {
         "close": [
          170.42999267578125
         ],
         "decreasing": {
          "fillcolor": "red",
          "line": {
           "color": "red"
          }
         },
         "high": [
          173.0399932861328
         ],
         "increasing": {
          "fillcolor": "red",
          "line": {
           "color": "red"
          }
         },
         "legendgroup": "Hollow Candlesticks",
         "low": [
          169.0500030517578
         ],
         "name": "Open > Close < Prev Close",
         "open": [
          172.6199951171875
         ],
         "showlegend": false,
         "type": "candlestick",
         "x": [
          "2023-09-27"
         ]
        },
        {
         "close": [
          170.69000244140625
         ],
         "decreasing": {
          "fillcolor": "rgba(255, 0, 0, 0)",
          "line": {
           "color": "green"
          }
         },
         "high": [
          172.02999877929688
         ],
         "increasing": {
          "fillcolor": "rgba(255, 0, 0, 0)",
          "line": {
           "color": "green"
          }
         },
         "legendgroup": "Hollow Candlesticks",
         "low": [
          167.6199951171875
         ],
         "name": "Prev Close < Close > Open",
         "open": [
          169.33999633789062
         ],
         "showlegend": false,
         "type": "candlestick",
         "x": [
          "2023-09-28"
         ]
        },
        {
         "close": [
          171.2100067138672
         ],
         "decreasing": {
          "fillcolor": "green",
          "line": {
           "color": "green"
          }
         },
         "high": [
          173.07000732421875
         ],
         "increasing": {
          "fillcolor": "green",
          "line": {
           "color": "green"
          }
         },
         "legendgroup": "Hollow Candlesticks",
         "low": [
          170.33999633789062
         ],
         "name": "Open > Close > Prev Close",
         "open": [
          172.02000427246094
         ],
         "showlegend": false,
         "type": "candlestick",
         "x": [
          "2023-09-29"
         ]
        },
        {
         "close": [
          173.75
         ],
         "decreasing": {
          "fillcolor": "rgba(255, 0, 0, 0)",
          "line": {
           "color": "green"
          }
         },
         "high": [
          174.3000030517578
         ],
         "increasing": {
          "fillcolor": "rgba(255, 0, 0, 0)",
          "line": {
           "color": "green"
          }
         },
         "legendgroup": "Hollow Candlesticks",
         "low": [
          170.92999267578125
         ],
         "name": "Prev Close < Close > Open",
         "open": [
          171.22000122070312
         ],
         "showlegend": false,
         "type": "candlestick",
         "x": [
          "2023-10-02"
         ]
        },
        {
         "close": [
          172.39999389648438
         ],
         "decreasing": {
          "fillcolor": "rgba(255, 0, 0, 0)",
          "line": {
           "color": "red"
          }
         },
         "high": [
          173.6300048828125
         ],
         "increasing": {
          "fillcolor": "rgba(255, 0, 0, 0)",
          "line": {
           "color": "red"
          }
         },
         "legendgroup": "Hollow Candlesticks",
         "low": [
          170.82000732421875
         ],
         "name": "Prev Close > Close > Open",
         "open": [
          172.25999450683594
         ],
         "showlegend": false,
         "type": "candlestick",
         "x": [
          "2023-10-03"
         ]
        },
        {
         "close": [
          173.66000366210938
         ],
         "decreasing": {
          "fillcolor": "rgba(255, 0, 0, 0)",
          "line": {
           "color": "green"
          }
         },
         "high": [
          174.2100067138672
         ],
         "increasing": {
          "fillcolor": "rgba(255, 0, 0, 0)",
          "line": {
           "color": "green"
          }
         },
         "legendgroup": "Hollow Candlesticks",
         "low": [
          170.97000122070312
         ],
         "name": "Prev Close < Close > Open",
         "open": [
          171.08999633789062
         ],
         "showlegend": false,
         "type": "candlestick",
         "x": [
          "2023-10-04"
         ]
        },
        {
         "close": [
          174.91000366210938
         ],
         "decreasing": {
          "fillcolor": "rgba(255, 0, 0, 0)",
          "line": {
           "color": "green"
          }
         },
         "high": [
          175.4499969482422
         ],
         "increasing": {
          "fillcolor": "rgba(255, 0, 0, 0)",
          "line": {
           "color": "green"
          }
         },
         "legendgroup": "Hollow Candlesticks",
         "low": [
          172.67999267578125
         ],
         "name": "Prev Close < Close > Open",
         "open": [
          173.7899932861328
         ],
         "showlegend": false,
         "type": "candlestick",
         "x": [
          "2023-10-05"
         ]
        },
        {
         "close": [
          177.49000549316406
         ],
         "decreasing": {
          "fillcolor": "rgba(255, 0, 0, 0)",
          "line": {
           "color": "green"
          }
         },
         "high": [
          177.99000549316406
         ],
         "increasing": {
          "fillcolor": "rgba(255, 0, 0, 0)",
          "line": {
           "color": "green"
          }
         },
         "legendgroup": "Hollow Candlesticks",
         "low": [
          173.17999267578125
         ],
         "name": "Prev Close < Close > Open",
         "open": [
          173.8000030517578
         ],
         "showlegend": false,
         "type": "candlestick",
         "x": [
          "2023-10-06"
         ]
        },
        {
         "close": [
          178.99000549316406
         ],
         "decreasing": {
          "fillcolor": "rgba(255, 0, 0, 0)",
          "line": {
           "color": "green"
          }
         },
         "high": [
          179.0500030517578
         ],
         "increasing": {
          "fillcolor": "rgba(255, 0, 0, 0)",
          "line": {
           "color": "green"
          }
         },
         "legendgroup": "Hollow Candlesticks",
         "low": [
          175.8000030517578
         ],
         "name": "Prev Close < Close > Open",
         "open": [
          176.80999755859375
         ],
         "showlegend": false,
         "type": "candlestick",
         "x": [
          "2023-10-09"
         ]
        },
        {
         "close": [
          178.38999938964844
         ],
         "decreasing": {
          "fillcolor": "rgba(255, 0, 0, 0)",
          "line": {
           "color": "red"
          }
         },
         "high": [
          179.72000122070312
         ],
         "increasing": {
          "fillcolor": "rgba(255, 0, 0, 0)",
          "line": {
           "color": "red"
          }
         },
         "legendgroup": "Hollow Candlesticks",
         "low": [
          177.9499969482422
         ],
         "name": "Prev Close > Close > Open",
         "open": [
          178.10000610351562
         ],
         "showlegend": false,
         "type": "candlestick",
         "x": [
          "2023-10-10"
         ]
        },
        {
         "close": [
          179.8000030517578
         ],
         "decreasing": {
          "fillcolor": "rgba(255, 0, 0, 0)",
          "line": {
           "color": "green"
          }
         },
         "high": [
          179.85000610351562
         ],
         "increasing": {
          "fillcolor": "rgba(255, 0, 0, 0)",
          "line": {
           "color": "green"
          }
         },
         "legendgroup": "Hollow Candlesticks",
         "low": [
          177.60000610351562
         ],
         "name": "Prev Close < Close > Open",
         "open": [
          178.1999969482422
         ],
         "showlegend": false,
         "type": "candlestick",
         "x": [
          "2023-10-11"
         ]
        },
        {
         "close": [
          180.7100067138672
         ],
         "decreasing": {
          "fillcolor": "rgba(255, 0, 0, 0)",
          "line": {
           "color": "green"
          }
         },
         "high": [
          182.33999633789062
         ],
         "increasing": {
          "fillcolor": "rgba(255, 0, 0, 0)",
          "line": {
           "color": "green"
          }
         },
         "legendgroup": "Hollow Candlesticks",
         "low": [
          179.0399932861328
         ],
         "name": "Prev Close < Close > Open",
         "open": [
          180.07000732421875
         ],
         "showlegend": false,
         "type": "candlestick",
         "x": [
          "2023-10-12"
         ]
        },
        {
         "close": [
          178.85000610351562
         ],
         "decreasing": {
          "fillcolor": "red",
          "line": {
           "color": "red"
          }
         },
         "high": [
          181.92999267578125
         ],
         "increasing": {
          "fillcolor": "red",
          "line": {
           "color": "red"
          }
         },
         "legendgroup": "Hollow Candlesticks",
         "low": [
          178.13999938964844
         ],
         "name": "Open > Close < Prev Close",
         "open": [
          181.4199981689453
         ],
         "showlegend": false,
         "type": "candlestick",
         "x": [
          "2023-10-13"
         ]
        },
        {
         "close": [
          178.72000122070312
         ],
         "decreasing": {
          "fillcolor": "rgba(255, 0, 0, 0)",
          "line": {
           "color": "red"
          }
         },
         "high": [
          179.0800018310547
         ],
         "increasing": {
          "fillcolor": "rgba(255, 0, 0, 0)",
          "line": {
           "color": "red"
          }
         },
         "legendgroup": "Hollow Candlesticks",
         "low": [
          176.50999450683594
         ],
         "name": "Prev Close > Close > Open",
         "open": [
          176.75
         ],
         "showlegend": false,
         "type": "candlestick",
         "x": [
          "2023-10-16"
         ]
        },
        {
         "close": [
          177.14999389648438
         ],
         "decreasing": {
          "fillcolor": "rgba(255, 0, 0, 0)",
          "line": {
           "color": "red"
          }
         },
         "high": [
          178.4199981689453
         ],
         "increasing": {
          "fillcolor": "rgba(255, 0, 0, 0)",
          "line": {
           "color": "red"
          }
         },
         "legendgroup": "Hollow Candlesticks",
         "low": [
          174.8000030517578
         ],
         "name": "Prev Close > Close > Open",
         "open": [
          176.64999389648438
         ],
         "showlegend": false,
         "type": "candlestick",
         "x": [
          "2023-10-17"
         ]
        },
        {
         "close": [
          175.83999633789062
         ],
         "decreasing": {
          "fillcolor": "rgba(255, 0, 0, 0)",
          "line": {
           "color": "red"
          }
         },
         "high": [
          177.5800018310547
         ],
         "increasing": {
          "fillcolor": "rgba(255, 0, 0, 0)",
          "line": {
           "color": "red"
          }
         },
         "legendgroup": "Hollow Candlesticks",
         "low": [
          175.11000061035156
         ],
         "name": "Prev Close > Close > Open",
         "open": [
          175.5800018310547
         ],
         "showlegend": false,
         "type": "candlestick",
         "x": [
          "2023-10-18"
         ]
        },
        {
         "close": [
          175.4600067138672
         ],
         "decreasing": {
          "fillcolor": "red",
          "line": {
           "color": "red"
          }
         },
         "high": [
          177.83999633789062
         ],
         "increasing": {
          "fillcolor": "red",
          "line": {
           "color": "red"
          }
         },
         "legendgroup": "Hollow Candlesticks",
         "low": [
          175.19000244140625
         ],
         "name": "Open > Close < Prev Close",
         "open": [
          176.0399932861328
         ],
         "showlegend": false,
         "type": "candlestick",
         "x": [
          "2023-10-19"
         ]
        },
        {
         "close": [
          172.8800048828125
         ],
         "decreasing": {
          "fillcolor": "red",
          "line": {
           "color": "red"
          }
         },
         "high": [
          175.4199981689453
         ],
         "increasing": {
          "fillcolor": "red",
          "line": {
           "color": "red"
          }
         },
         "legendgroup": "Hollow Candlesticks",
         "low": [
          172.63999938964844
         ],
         "name": "Open > Close < Prev Close",
         "open": [
          175.30999755859375
         ],
         "showlegend": false,
         "type": "candlestick",
         "x": [
          "2023-10-20"
         ]
        },
        {
         "close": [
          173
         ],
         "decreasing": {
          "fillcolor": "rgba(255, 0, 0, 0)",
          "line": {
           "color": "green"
          }
         },
         "high": [
          174.00999450683594
         ],
         "increasing": {
          "fillcolor": "rgba(255, 0, 0, 0)",
          "line": {
           "color": "green"
          }
         },
         "legendgroup": "Hollow Candlesticks",
         "low": [
          169.92999267578125
         ],
         "name": "Prev Close < Close > Open",
         "open": [
          170.91000366210938
         ],
         "showlegend": false,
         "type": "candlestick",
         "x": [
          "2023-10-23"
         ]
        },
        {
         "close": [
          173.44000244140625
         ],
         "decreasing": {
          "fillcolor": "rgba(255, 0, 0, 0)",
          "line": {
           "color": "green"
          }
         },
         "high": [
          173.6699981689453
         ],
         "increasing": {
          "fillcolor": "rgba(255, 0, 0, 0)",
          "line": {
           "color": "green"
          }
         },
         "legendgroup": "Hollow Candlesticks",
         "low": [
          171.4499969482422
         ],
         "name": "Prev Close < Close > Open",
         "open": [
          173.0500030517578
         ],
         "showlegend": false,
         "type": "candlestick",
         "x": [
          "2023-10-24"
         ]
        },
        {
         "close": [
          171.10000610351562
         ],
         "decreasing": {
          "fillcolor": "red",
          "line": {
           "color": "red"
          }
         },
         "high": [
          173.05999755859375
         ],
         "increasing": {
          "fillcolor": "red",
          "line": {
           "color": "red"
          }
         },
         "legendgroup": "Hollow Candlesticks",
         "low": [
          170.64999389648438
         ],
         "name": "Open > Close < Prev Close",
         "open": [
          171.8800048828125
         ],
         "showlegend": false,
         "type": "candlestick",
         "x": [
          "2023-10-25"
         ]
        },
        {
         "close": [
          166.88999938964844
         ],
         "decreasing": {
          "fillcolor": "red",
          "line": {
           "color": "red"
          }
         },
         "high": [
          171.3800048828125
         ],
         "increasing": {
          "fillcolor": "red",
          "line": {
           "color": "red"
          }
         },
         "legendgroup": "Hollow Candlesticks",
         "low": [
          165.6699981689453
         ],
         "name": "Open > Close < Prev Close",
         "open": [
          170.3699951171875
         ],
         "showlegend": false,
         "type": "candlestick",
         "x": [
          "2023-10-26"
         ]
        },
        {
         "close": [
          168.22000122070312
         ],
         "decreasing": {
          "fillcolor": "rgba(255, 0, 0, 0)",
          "line": {
           "color": "green"
          }
         },
         "high": [
          168.9600067138672
         ],
         "increasing": {
          "fillcolor": "rgba(255, 0, 0, 0)",
          "line": {
           "color": "green"
          }
         },
         "legendgroup": "Hollow Candlesticks",
         "low": [
          166.8300018310547
         ],
         "name": "Prev Close < Close > Open",
         "open": [
          166.91000366210938
         ],
         "showlegend": false,
         "type": "candlestick",
         "x": [
          "2023-10-27"
         ]
        },
        {
         "close": [
          170.2899932861328
         ],
         "decreasing": {
          "fillcolor": "rgba(255, 0, 0, 0)",
          "line": {
           "color": "green"
          }
         },
         "high": [
          171.1699981689453
         ],
         "increasing": {
          "fillcolor": "rgba(255, 0, 0, 0)",
          "line": {
           "color": "green"
          }
         },
         "legendgroup": "Hollow Candlesticks",
         "low": [
          168.8699951171875
         ],
         "name": "Prev Close < Close > Open",
         "open": [
          169.02000427246094
         ],
         "showlegend": false,
         "type": "candlestick",
         "x": [
          "2023-10-30"
         ]
        },
        {
         "close": [
          170.77000427246094
         ],
         "decreasing": {
          "fillcolor": "rgba(255, 0, 0, 0)",
          "line": {
           "color": "green"
          }
         },
         "high": [
          170.89999389648438
         ],
         "increasing": {
          "fillcolor": "rgba(255, 0, 0, 0)",
          "line": {
           "color": "green"
          }
         },
         "legendgroup": "Hollow Candlesticks",
         "low": [
          167.89999389648438
         ],
         "name": "Prev Close < Close > Open",
         "open": [
          169.35000610351562
         ],
         "showlegend": false,
         "type": "candlestick",
         "x": [
          "2023-10-31"
         ]
        },
        {
         "close": [
          173.97000122070312
         ],
         "decreasing": {
          "fillcolor": "rgba(255, 0, 0, 0)",
          "line": {
           "color": "green"
          }
         },
         "high": [
          174.22999572753906
         ],
         "increasing": {
          "fillcolor": "rgba(255, 0, 0, 0)",
          "line": {
           "color": "green"
          }
         },
         "legendgroup": "Hollow Candlesticks",
         "low": [
          170.1199951171875
         ],
         "name": "Prev Close < Close > Open",
         "open": [
          171
         ],
         "showlegend": false,
         "type": "candlestick",
         "x": [
          "2023-11-01"
         ]
        },
        {
         "close": [
          177.57000732421875
         ],
         "decreasing": {
          "fillcolor": "rgba(255, 0, 0, 0)",
          "line": {
           "color": "green"
          }
         },
         "high": [
          177.77999877929688
         ],
         "increasing": {
          "fillcolor": "rgba(255, 0, 0, 0)",
          "line": {
           "color": "green"
          }
         },
         "legendgroup": "Hollow Candlesticks",
         "low": [
          175.4600067138672
         ],
         "name": "Prev Close < Close > Open",
         "open": [
          175.52000427246094
         ],
         "showlegend": false,
         "type": "candlestick",
         "x": [
          "2023-11-02"
         ]
        },
        {
         "close": [
          176.64999389648438
         ],
         "decreasing": {
          "fillcolor": "rgba(255, 0, 0, 0)",
          "line": {
           "color": "red"
          }
         },
         "high": [
          176.82000732421875
         ],
         "increasing": {
          "fillcolor": "rgba(255, 0, 0, 0)",
          "line": {
           "color": "red"
          }
         },
         "legendgroup": "Hollow Candlesticks",
         "low": [
          173.35000610351562
         ],
         "name": "Prev Close > Close > Open",
         "open": [
          174.24000549316406
         ],
         "showlegend": false,
         "type": "candlestick",
         "x": [
          "2023-11-03"
         ]
        },
        {
         "close": [
          179.22999572753906
         ],
         "decreasing": {
          "fillcolor": "rgba(255, 0, 0, 0)",
          "line": {
           "color": "green"
          }
         },
         "high": [
          179.42999267578125
         ],
         "increasing": {
          "fillcolor": "rgba(255, 0, 0, 0)",
          "line": {
           "color": "green"
          }
         },
         "legendgroup": "Hollow Candlesticks",
         "low": [
          176.2100067138672
         ],
         "name": "Prev Close < Close > Open",
         "open": [
          176.3800048828125
         ],
         "showlegend": false,
         "type": "candlestick",
         "x": [
          "2023-11-06"
         ]
        },
        {
         "close": [
          181.82000732421875
         ],
         "decreasing": {
          "fillcolor": "rgba(255, 0, 0, 0)",
          "line": {
           "color": "green"
          }
         },
         "high": [
          182.44000244140625
         ],
         "increasing": {
          "fillcolor": "rgba(255, 0, 0, 0)",
          "line": {
           "color": "green"
          }
         },
         "legendgroup": "Hollow Candlesticks",
         "low": [
          178.97000122070312
         ],
         "name": "Prev Close < Close > Open",
         "open": [
          179.17999267578125
         ],
         "showlegend": false,
         "type": "candlestick",
         "x": [
          "2023-11-07"
         ]
        },
        {
         "close": [
          182.88999938964844
         ],
         "decreasing": {
          "fillcolor": "rgba(255, 0, 0, 0)",
          "line": {
           "color": "green"
          }
         },
         "high": [
          183.4499969482422
         ],
         "increasing": {
          "fillcolor": "rgba(255, 0, 0, 0)",
          "line": {
           "color": "green"
          }
         },
         "legendgroup": "Hollow Candlesticks",
         "low": [
          181.58999633789062
         ],
         "name": "Prev Close < Close > Open",
         "open": [
          182.35000610351562
         ],
         "showlegend": false,
         "type": "candlestick",
         "x": [
          "2023-11-08"
         ]
        },
        {
         "close": [
          182.41000366210938
         ],
         "decreasing": {
          "fillcolor": "red",
          "line": {
           "color": "red"
          }
         },
         "high": [
          184.1199951171875
         ],
         "increasing": {
          "fillcolor": "red",
          "line": {
           "color": "red"
          }
         },
         "legendgroup": "Hollow Candlesticks",
         "low": [
          181.80999755859375
         ],
         "name": "Open > Close < Prev Close",
         "open": [
          182.9600067138672
         ],
         "showlegend": false,
         "type": "candlestick",
         "x": [
          "2023-11-09"
         ]
        },
        {
         "close": [
          186.39999389648438
         ],
         "decreasing": {
          "fillcolor": "rgba(255, 0, 0, 0)",
          "line": {
           "color": "green"
          }
         },
         "high": [
          186.57000732421875
         ],
         "increasing": {
          "fillcolor": "rgba(255, 0, 0, 0)",
          "line": {
           "color": "green"
          }
         },
         "legendgroup": "Hollow Candlesticks",
         "low": [
          183.52999877929688
         ],
         "name": "Prev Close < Close > Open",
         "open": [
          183.97000122070312
         ],
         "showlegend": false,
         "type": "candlestick",
         "x": [
          "2023-11-10"
         ]
        },
        {
         "close": [
          184.8000030517578
         ],
         "decreasing": {
          "fillcolor": "red",
          "line": {
           "color": "red"
          }
         },
         "high": [
          186.02999877929688
         ],
         "increasing": {
          "fillcolor": "red",
          "line": {
           "color": "red"
          }
         },
         "legendgroup": "Hollow Candlesticks",
         "low": [
          184.2100067138672
         ],
         "name": "Open > Close < Prev Close",
         "open": [
          185.82000732421875
         ],
         "showlegend": false,
         "type": "candlestick",
         "x": [
          "2023-11-13"
         ]
        },
        {
         "close": [
          187.44000244140625
         ],
         "decreasing": {
          "fillcolor": "green",
          "line": {
           "color": "green"
          }
         },
         "high": [
          188.11000061035156
         ],
         "increasing": {
          "fillcolor": "green",
          "line": {
           "color": "green"
          }
         },
         "legendgroup": "Hollow Candlesticks",
         "low": [
          186.3000030517578
         ],
         "name": "Open > Close > Prev Close",
         "open": [
          187.6999969482422
         ],
         "showlegend": false,
         "type": "candlestick",
         "x": [
          "2023-11-14"
         ]
        },
        {
         "close": [
          188.00999450683594
         ],
         "decreasing": {
          "fillcolor": "rgba(255, 0, 0, 0)",
          "line": {
           "color": "green"
          }
         },
         "high": [
          189.5
         ],
         "increasing": {
          "fillcolor": "rgba(255, 0, 0, 0)",
          "line": {
           "color": "green"
          }
         },
         "legendgroup": "Hollow Candlesticks",
         "low": [
          187.77999877929688
         ],
         "name": "Prev Close < Close > Open",
         "open": [
          187.85000610351562
         ],
         "showlegend": false,
         "type": "candlestick",
         "x": [
          "2023-11-15"
         ]
        },
        {
         "close": [
          189.7100067138672
         ],
         "decreasing": {
          "fillcolor": "rgba(255, 0, 0, 0)",
          "line": {
           "color": "green"
          }
         },
         "high": [
          190.9600067138672
         ],
         "increasing": {
          "fillcolor": "rgba(255, 0, 0, 0)",
          "line": {
           "color": "green"
          }
         },
         "legendgroup": "Hollow Candlesticks",
         "low": [
          188.64999389648438
         ],
         "name": "Prev Close < Close > Open",
         "open": [
          189.57000732421875
         ],
         "showlegend": false,
         "type": "candlestick",
         "x": [
          "2023-11-16"
         ]
        },
        {
         "close": [
          189.69000244140625
         ],
         "decreasing": {
          "fillcolor": "red",
          "line": {
           "color": "red"
          }
         },
         "high": [
          190.3800048828125
         ],
         "increasing": {
          "fillcolor": "red",
          "line": {
           "color": "red"
          }
         },
         "legendgroup": "Hollow Candlesticks",
         "low": [
          188.57000732421875
         ],
         "name": "Open > Close < Prev Close",
         "open": [
          190.25
         ],
         "showlegend": false,
         "type": "candlestick",
         "x": [
          "2023-11-17"
         ]
        },
        {
         "close": [
          191.4499969482422
         ],
         "decreasing": {
          "fillcolor": "rgba(255, 0, 0, 0)",
          "line": {
           "color": "green"
          }
         },
         "high": [
          191.91000366210938
         ],
         "increasing": {
          "fillcolor": "rgba(255, 0, 0, 0)",
          "line": {
           "color": "green"
          }
         },
         "legendgroup": "Hollow Candlesticks",
         "low": [
          189.8800048828125
         ],
         "name": "Prev Close < Close > Open",
         "open": [
          189.88999938964844
         ],
         "showlegend": false,
         "type": "candlestick",
         "x": [
          "2023-11-20"
         ]
        },
        {
         "close": [
          190.63999938964844
         ],
         "decreasing": {
          "fillcolor": "red",
          "line": {
           "color": "red"
          }
         },
         "high": [
          191.52000427246094
         ],
         "increasing": {
          "fillcolor": "red",
          "line": {
           "color": "red"
          }
         },
         "legendgroup": "Hollow Candlesticks",
         "low": [
          189.74000549316406
         ],
         "name": "Open > Close < Prev Close",
         "open": [
          191.41000366210938
         ],
         "showlegend": false,
         "type": "candlestick",
         "x": [
          "2023-11-21"
         ]
        },
        {
         "close": [
          191.30999755859375
         ],
         "decreasing": {
          "fillcolor": "green",
          "line": {
           "color": "green"
          }
         },
         "high": [
          192.92999267578125
         ],
         "increasing": {
          "fillcolor": "green",
          "line": {
           "color": "green"
          }
         },
         "legendgroup": "Hollow Candlesticks",
         "low": [
          190.8300018310547
         ],
         "name": "Open > Close > Prev Close",
         "open": [
          191.49000549316406
         ],
         "showlegend": false,
         "type": "candlestick",
         "x": [
          "2023-11-22"
         ]
        },
        {
         "close": [
          189.97000122070312
         ],
         "decreasing": {
          "fillcolor": "red",
          "line": {
           "color": "red"
          }
         },
         "high": [
          190.89999389648438
         ],
         "increasing": {
          "fillcolor": "red",
          "line": {
           "color": "red"
          }
         },
         "legendgroup": "Hollow Candlesticks",
         "low": [
          189.25
         ],
         "name": "Open > Close < Prev Close",
         "open": [
          190.8699951171875
         ],
         "showlegend": false,
         "type": "candlestick",
         "x": [
          "2023-11-24"
         ]
        },
        {
         "close": [
          189.7899932861328
         ],
         "decreasing": {
          "fillcolor": "red",
          "line": {
           "color": "red"
          }
         },
         "high": [
          190.6699981689453
         ],
         "increasing": {
          "fillcolor": "red",
          "line": {
           "color": "red"
          }
         },
         "legendgroup": "Hollow Candlesticks",
         "low": [
          188.89999389648438
         ],
         "name": "Open > Close < Prev Close",
         "open": [
          189.9199981689453
         ],
         "showlegend": false,
         "type": "candlestick",
         "x": [
          "2023-11-27"
         ]
        },
        {
         "close": [
          190.39999389648438
         ],
         "decreasing": {
          "fillcolor": "rgba(255, 0, 0, 0)",
          "line": {
           "color": "green"
          }
         },
         "high": [
          191.0800018310547
         ],
         "increasing": {
          "fillcolor": "rgba(255, 0, 0, 0)",
          "line": {
           "color": "green"
          }
         },
         "legendgroup": "Hollow Candlesticks",
         "low": [
          189.39999389648438
         ],
         "name": "Prev Close < Close > Open",
         "open": [
          189.77999877929688
         ],
         "showlegend": false,
         "type": "candlestick",
         "x": [
          "2023-11-28"
         ]
        },
        {
         "close": [
          189.3699951171875
         ],
         "decreasing": {
          "fillcolor": "red",
          "line": {
           "color": "red"
          }
         },
         "high": [
          192.08999633789062
         ],
         "increasing": {
          "fillcolor": "red",
          "line": {
           "color": "red"
          }
         },
         "legendgroup": "Hollow Candlesticks",
         "low": [
          188.97000122070312
         ],
         "name": "Open > Close < Prev Close",
         "open": [
          190.89999389648438
         ],
         "showlegend": false,
         "type": "candlestick",
         "x": [
          "2023-11-29"
         ]
        },
        {
         "close": [
          189.9499969482422
         ],
         "decreasing": {
          "fillcolor": "rgba(255, 0, 0, 0)",
          "line": {
           "color": "green"
          }
         },
         "high": [
          190.32000732421875
         ],
         "increasing": {
          "fillcolor": "rgba(255, 0, 0, 0)",
          "line": {
           "color": "green"
          }
         },
         "legendgroup": "Hollow Candlesticks",
         "low": [
          188.19000244140625
         ],
         "name": "Prev Close < Close > Open",
         "open": [
          189.83999633789062
         ],
         "showlegend": false,
         "type": "candlestick",
         "x": [
          "2023-11-30"
         ]
        },
        {
         "close": [
          191.24000549316406
         ],
         "decreasing": {
          "fillcolor": "rgba(255, 0, 0, 0)",
          "line": {
           "color": "green"
          }
         },
         "high": [
          191.55999755859375
         ],
         "increasing": {
          "fillcolor": "rgba(255, 0, 0, 0)",
          "line": {
           "color": "green"
          }
         },
         "legendgroup": "Hollow Candlesticks",
         "low": [
          189.22999572753906
         ],
         "name": "Prev Close < Close > Open",
         "open": [
          190.3300018310547
         ],
         "showlegend": false,
         "type": "candlestick",
         "x": [
          "2023-12-01"
         ]
        },
        {
         "close": [
          189.42999267578125
         ],
         "decreasing": {
          "fillcolor": "red",
          "line": {
           "color": "red"
          }
         },
         "high": [
          190.0500030517578
         ],
         "increasing": {
          "fillcolor": "red",
          "line": {
           "color": "red"
          }
         },
         "legendgroup": "Hollow Candlesticks",
         "low": [
          187.4499969482422
         ],
         "name": "Open > Close < Prev Close",
         "open": [
          189.97999572753906
         ],
         "showlegend": false,
         "type": "candlestick",
         "x": [
          "2023-12-04"
         ]
        },
        {
         "close": [
          193.4199981689453
         ],
         "decreasing": {
          "fillcolor": "rgba(255, 0, 0, 0)",
          "line": {
           "color": "green"
          }
         },
         "high": [
          194.39999389648438
         ],
         "increasing": {
          "fillcolor": "rgba(255, 0, 0, 0)",
          "line": {
           "color": "green"
          }
         },
         "legendgroup": "Hollow Candlesticks",
         "low": [
          190.17999267578125
         ],
         "name": "Prev Close < Close > Open",
         "open": [
          190.2100067138672
         ],
         "showlegend": false,
         "type": "candlestick",
         "x": [
          "2023-12-05"
         ]
        },
        {
         "close": [
          192.32000732421875
         ],
         "decreasing": {
          "fillcolor": "red",
          "line": {
           "color": "red"
          }
         },
         "high": [
          194.75999450683594
         ],
         "increasing": {
          "fillcolor": "red",
          "line": {
           "color": "red"
          }
         },
         "legendgroup": "Hollow Candlesticks",
         "low": [
          192.11000061035156
         ],
         "name": "Open > Close < Prev Close",
         "open": [
          194.4499969482422
         ],
         "showlegend": false,
         "type": "candlestick",
         "x": [
          "2023-12-06"
         ]
        },
        {
         "close": [
          194.27000427246094
         ],
         "decreasing": {
          "fillcolor": "rgba(255, 0, 0, 0)",
          "line": {
           "color": "green"
          }
         },
         "high": [
          195
         ],
         "increasing": {
          "fillcolor": "rgba(255, 0, 0, 0)",
          "line": {
           "color": "green"
          }
         },
         "legendgroup": "Hollow Candlesticks",
         "low": [
          193.58999633789062
         ],
         "name": "Prev Close < Close > Open",
         "open": [
          193.6300048828125
         ],
         "showlegend": false,
         "type": "candlestick",
         "x": [
          "2023-12-07"
         ]
        },
        {
         "close": [
          195.7100067138672
         ],
         "decreasing": {
          "fillcolor": "rgba(255, 0, 0, 0)",
          "line": {
           "color": "green"
          }
         },
         "high": [
          195.99000549316406
         ],
         "increasing": {
          "fillcolor": "rgba(255, 0, 0, 0)",
          "line": {
           "color": "green"
          }
         },
         "legendgroup": "Hollow Candlesticks",
         "low": [
          193.6699981689453
         ],
         "name": "Prev Close < Close > Open",
         "open": [
          194.1999969482422
         ],
         "showlegend": false,
         "type": "candlestick",
         "x": [
          "2023-12-08"
         ]
        },
        {
         "close": [
          193.17999267578125
         ],
         "decreasing": {
          "fillcolor": "rgba(255, 0, 0, 0)",
          "line": {
           "color": "red"
          }
         },
         "high": [
          193.49000549316406
         ],
         "increasing": {
          "fillcolor": "rgba(255, 0, 0, 0)",
          "line": {
           "color": "red"
          }
         },
         "legendgroup": "Hollow Candlesticks",
         "low": [
          191.4199981689453
         ],
         "name": "Prev Close > Close > Open",
         "open": [
          193.11000061035156
         ],
         "showlegend": false,
         "type": "candlestick",
         "x": [
          "2023-12-11"
         ]
        },
        {
         "close": [
          194.7100067138672
         ],
         "decreasing": {
          "fillcolor": "rgba(255, 0, 0, 0)",
          "line": {
           "color": "green"
          }
         },
         "high": [
          194.72000122070312
         ],
         "increasing": {
          "fillcolor": "rgba(255, 0, 0, 0)",
          "line": {
           "color": "green"
          }
         },
         "legendgroup": "Hollow Candlesticks",
         "low": [
          191.72000122070312
         ],
         "name": "Prev Close < Close > Open",
         "open": [
          193.0800018310547
         ],
         "showlegend": false,
         "type": "candlestick",
         "x": [
          "2023-12-12"
         ]
        },
        {
         "close": [
          197.9600067138672
         ],
         "decreasing": {
          "fillcolor": "rgba(255, 0, 0, 0)",
          "line": {
           "color": "green"
          }
         },
         "high": [
          198
         ],
         "increasing": {
          "fillcolor": "rgba(255, 0, 0, 0)",
          "line": {
           "color": "green"
          }
         },
         "legendgroup": "Hollow Candlesticks",
         "low": [
          194.85000610351562
         ],
         "name": "Prev Close < Close > Open",
         "open": [
          195.08999633789062
         ],
         "showlegend": false,
         "type": "candlestick",
         "x": [
          "2023-12-13"
         ]
        },
        {
         "close": [
          198.11000061035156
         ],
         "decreasing": {
          "fillcolor": "rgba(255, 0, 0, 0)",
          "line": {
           "color": "green"
          }
         },
         "high": [
          199.6199951171875
         ],
         "increasing": {
          "fillcolor": "rgba(255, 0, 0, 0)",
          "line": {
           "color": "green"
          }
         },
         "legendgroup": "Hollow Candlesticks",
         "low": [
          196.16000366210938
         ],
         "name": "Prev Close < Close > Open",
         "open": [
          198.02000427246094
         ],
         "showlegend": false,
         "type": "candlestick",
         "x": [
          "2023-12-14"
         ]
        },
        {
         "close": [
          197.57000732421875
         ],
         "decreasing": {
          "fillcolor": "rgba(255, 0, 0, 0)",
          "line": {
           "color": "red"
          }
         },
         "high": [
          198.39999389648438
         ],
         "increasing": {
          "fillcolor": "rgba(255, 0, 0, 0)",
          "line": {
           "color": "red"
          }
         },
         "legendgroup": "Hollow Candlesticks",
         "low": [
          197
         ],
         "name": "Prev Close > Close > Open",
         "open": [
          197.52999877929688
         ],
         "showlegend": false,
         "type": "candlestick",
         "x": [
          "2023-12-15"
         ]
        },
        {
         "close": [
          195.88999938964844
         ],
         "decreasing": {
          "fillcolor": "red",
          "line": {
           "color": "red"
          }
         },
         "high": [
          196.6300048828125
         ],
         "increasing": {
          "fillcolor": "red",
          "line": {
           "color": "red"
          }
         },
         "legendgroup": "Hollow Candlesticks",
         "low": [
          194.38999938964844
         ],
         "name": "Open > Close < Prev Close",
         "open": [
          196.08999633789062
         ],
         "showlegend": false,
         "type": "candlestick",
         "x": [
          "2023-12-18"
         ]
        },
        {
         "close": [
          196.94000244140625
         ],
         "decreasing": {
          "fillcolor": "rgba(255, 0, 0, 0)",
          "line": {
           "color": "green"
          }
         },
         "high": [
          196.9499969482422
         ],
         "increasing": {
          "fillcolor": "rgba(255, 0, 0, 0)",
          "line": {
           "color": "green"
          }
         },
         "legendgroup": "Hollow Candlesticks",
         "low": [
          195.88999938964844
         ],
         "name": "Prev Close < Close > Open",
         "open": [
          196.16000366210938
         ],
         "showlegend": false,
         "type": "candlestick",
         "x": [
          "2023-12-19"
         ]
        },
        {
         "close": [
          194.8300018310547
         ],
         "decreasing": {
          "fillcolor": "red",
          "line": {
           "color": "red"
          }
         },
         "high": [
          197.67999267578125
         ],
         "increasing": {
          "fillcolor": "red",
          "line": {
           "color": "red"
          }
         },
         "legendgroup": "Hollow Candlesticks",
         "low": [
          194.8300018310547
         ],
         "name": "Open > Close < Prev Close",
         "open": [
          196.89999389648438
         ],
         "showlegend": false,
         "type": "candlestick",
         "x": [
          "2023-12-20"
         ]
        },
        {
         "close": [
          194.67999267578125
         ],
         "decreasing": {
          "fillcolor": "red",
          "line": {
           "color": "red"
          }
         },
         "high": [
          197.0800018310547
         ],
         "increasing": {
          "fillcolor": "red",
          "line": {
           "color": "red"
          }
         },
         "legendgroup": "Hollow Candlesticks",
         "low": [
          193.5
         ],
         "name": "Open > Close < Prev Close",
         "open": [
          196.10000610351562
         ],
         "showlegend": false,
         "type": "candlestick",
         "x": [
          "2023-12-21"
         ]
        },
        {
         "close": [
          193.60000610351562
         ],
         "decreasing": {
          "fillcolor": "red",
          "line": {
           "color": "red"
          }
         },
         "high": [
          195.41000366210938
         ],
         "increasing": {
          "fillcolor": "red",
          "line": {
           "color": "red"
          }
         },
         "legendgroup": "Hollow Candlesticks",
         "low": [
          192.97000122070312
         ],
         "name": "Open > Close < Prev Close",
         "open": [
          195.17999267578125
         ],
         "showlegend": false,
         "type": "candlestick",
         "x": [
          "2023-12-22"
         ]
        },
        {
         "close": [
          193.0500030517578
         ],
         "decreasing": {
          "fillcolor": "red",
          "line": {
           "color": "red"
          }
         },
         "high": [
          193.88999938964844
         ],
         "increasing": {
          "fillcolor": "red",
          "line": {
           "color": "red"
          }
         },
         "legendgroup": "Hollow Candlesticks",
         "low": [
          192.8300018310547
         ],
         "name": "Open > Close < Prev Close",
         "open": [
          193.61000061035156
         ],
         "showlegend": false,
         "type": "candlestick",
         "x": [
          "2023-12-26"
         ]
        },
        {
         "close": [
          193.14999389648438
         ],
         "decreasing": {
          "fillcolor": "rgba(255, 0, 0, 0)",
          "line": {
           "color": "green"
          }
         },
         "high": [
          193.5
         ],
         "increasing": {
          "fillcolor": "rgba(255, 0, 0, 0)",
          "line": {
           "color": "green"
          }
         },
         "legendgroup": "Hollow Candlesticks",
         "low": [
          191.08999633789062
         ],
         "name": "Prev Close < Close > Open",
         "open": [
          192.49000549316406
         ],
         "showlegend": false,
         "type": "candlestick",
         "x": [
          "2023-12-27"
         ]
        },
        {
         "close": [
          193.5800018310547
         ],
         "decreasing": {
          "fillcolor": "green",
          "line": {
           "color": "green"
          }
         },
         "high": [
          194.66000366210938
         ],
         "increasing": {
          "fillcolor": "green",
          "line": {
           "color": "green"
          }
         },
         "legendgroup": "Hollow Candlesticks",
         "low": [
          193.1699981689453
         ],
         "name": "Open > Close > Prev Close",
         "open": [
          194.13999938964844
         ],
         "showlegend": false,
         "type": "candlestick",
         "x": [
          "2023-12-28"
         ]
        },
        {
         "close": [
          192.52999877929688
         ],
         "decreasing": {
          "fillcolor": "red",
          "line": {
           "color": "red"
          }
         },
         "high": [
          194.39999389648438
         ],
         "increasing": {
          "fillcolor": "red",
          "line": {
           "color": "red"
          }
         },
         "legendgroup": "Hollow Candlesticks",
         "low": [
          191.72999572753906
         ],
         "name": "Open > Close < Prev Close",
         "open": [
          193.89999389648438
         ],
         "showlegend": false,
         "type": "candlestick",
         "x": [
          "2023-12-29"
         ]
        },
        {
         "close": [
          185.63999938964844
         ],
         "decreasing": {
          "fillcolor": "red",
          "line": {
           "color": "red"
          }
         },
         "high": [
          188.44000244140625
         ],
         "increasing": {
          "fillcolor": "red",
          "line": {
           "color": "red"
          }
         },
         "legendgroup": "Hollow Candlesticks",
         "low": [
          183.88999938964844
         ],
         "name": "Open > Close < Prev Close",
         "open": [
          187.14999389648438
         ],
         "showlegend": false,
         "type": "candlestick",
         "x": [
          "2024-01-02"
         ]
        },
        {
         "close": [
          184.25
         ],
         "decreasing": {
          "fillcolor": "rgba(255, 0, 0, 0)",
          "line": {
           "color": "red"
          }
         },
         "high": [
          185.8800048828125
         ],
         "increasing": {
          "fillcolor": "rgba(255, 0, 0, 0)",
          "line": {
           "color": "red"
          }
         },
         "legendgroup": "Hollow Candlesticks",
         "low": [
          183.42999267578125
         ],
         "name": "Prev Close > Close > Open",
         "open": [
          184.22000122070312
         ],
         "showlegend": false,
         "type": "candlestick",
         "x": [
          "2024-01-03"
         ]
        },
        {
         "close": [
          181.91000366210938
         ],
         "decreasing": {
          "fillcolor": "red",
          "line": {
           "color": "red"
          }
         },
         "high": [
          183.08999633789062
         ],
         "increasing": {
          "fillcolor": "red",
          "line": {
           "color": "red"
          }
         },
         "legendgroup": "Hollow Candlesticks",
         "low": [
          180.8800048828125
         ],
         "name": "Open > Close < Prev Close",
         "open": [
          182.14999389648438
         ],
         "showlegend": false,
         "type": "candlestick",
         "x": [
          "2024-01-04"
         ]
        },
        {
         "close": [
          181.17999267578125
         ],
         "decreasing": {
          "fillcolor": "red",
          "line": {
           "color": "red"
          }
         },
         "high": [
          182.75999450683594
         ],
         "increasing": {
          "fillcolor": "red",
          "line": {
           "color": "red"
          }
         },
         "legendgroup": "Hollow Candlesticks",
         "low": [
          180.1699981689453
         ],
         "name": "Open > Close < Prev Close",
         "open": [
          181.99000549316406
         ],
         "showlegend": false,
         "type": "candlestick",
         "x": [
          "2024-01-05"
         ]
        },
        {
         "close": [
          185.55999755859375
         ],
         "decreasing": {
          "fillcolor": "rgba(255, 0, 0, 0)",
          "line": {
           "color": "green"
          }
         },
         "high": [
          185.60000610351562
         ],
         "increasing": {
          "fillcolor": "rgba(255, 0, 0, 0)",
          "line": {
           "color": "green"
          }
         },
         "legendgroup": "Hollow Candlesticks",
         "low": [
          181.5
         ],
         "name": "Prev Close < Close > Open",
         "open": [
          182.08999633789062
         ],
         "showlegend": false,
         "type": "candlestick",
         "x": [
          "2024-01-08"
         ]
        },
        {
         "close": [
          185.13999938964844
         ],
         "decreasing": {
          "fillcolor": "rgba(255, 0, 0, 0)",
          "line": {
           "color": "red"
          }
         },
         "high": [
          185.14999389648438
         ],
         "increasing": {
          "fillcolor": "rgba(255, 0, 0, 0)",
          "line": {
           "color": "red"
          }
         },
         "legendgroup": "Hollow Candlesticks",
         "low": [
          182.72999572753906
         ],
         "name": "Prev Close > Close > Open",
         "open": [
          183.9199981689453
         ],
         "showlegend": false,
         "type": "candlestick",
         "x": [
          "2024-01-09"
         ]
        },
        {
         "close": [
          186.19000244140625
         ],
         "decreasing": {
          "fillcolor": "rgba(255, 0, 0, 0)",
          "line": {
           "color": "green"
          }
         },
         "high": [
          186.39999389648438
         ],
         "increasing": {
          "fillcolor": "rgba(255, 0, 0, 0)",
          "line": {
           "color": "green"
          }
         },
         "legendgroup": "Hollow Candlesticks",
         "low": [
          183.9199981689453
         ],
         "name": "Prev Close < Close > Open",
         "open": [
          184.35000610351562
         ],
         "showlegend": false,
         "type": "candlestick",
         "x": [
          "2024-01-10"
         ]
        },
        {
         "close": [
          185.58999633789062
         ],
         "decreasing": {
          "fillcolor": "red",
          "line": {
           "color": "red"
          }
         },
         "high": [
          187.0500030517578
         ],
         "increasing": {
          "fillcolor": "red",
          "line": {
           "color": "red"
          }
         },
         "legendgroup": "Hollow Candlesticks",
         "low": [
          183.6199951171875
         ],
         "name": "Open > Close < Prev Close",
         "open": [
          186.5399932861328
         ],
         "showlegend": false,
         "type": "candlestick",
         "x": [
          "2024-01-11"
         ]
        },
        {
         "close": [
          185.9199981689453
         ],
         "decreasing": {
          "fillcolor": "green",
          "line": {
           "color": "green"
          }
         },
         "high": [
          186.74000549316406
         ],
         "increasing": {
          "fillcolor": "green",
          "line": {
           "color": "green"
          }
         },
         "legendgroup": "Hollow Candlesticks",
         "low": [
          185.19000244140625
         ],
         "name": "Open > Close > Prev Close",
         "open": [
          186.05999755859375
         ],
         "showlegend": false,
         "type": "candlestick",
         "x": [
          "2024-01-12"
         ]
        },
        {
         "close": [
          183.6300048828125
         ],
         "decreasing": {
          "fillcolor": "rgba(255, 0, 0, 0)",
          "line": {
           "color": "red"
          }
         },
         "high": [
          184.25999450683594
         ],
         "increasing": {
          "fillcolor": "rgba(255, 0, 0, 0)",
          "line": {
           "color": "red"
          }
         },
         "legendgroup": "Hollow Candlesticks",
         "low": [
          180.92999267578125
         ],
         "name": "Prev Close > Close > Open",
         "open": [
          182.16000366210938
         ],
         "showlegend": false,
         "type": "candlestick",
         "x": [
          "2024-01-16"
         ]
        },
        {
         "close": [
          182.67999267578125
         ],
         "decreasing": {
          "fillcolor": "rgba(255, 0, 0, 0)",
          "line": {
           "color": "red"
          }
         },
         "high": [
          182.92999267578125
         ],
         "increasing": {
          "fillcolor": "rgba(255, 0, 0, 0)",
          "line": {
           "color": "red"
          }
         },
         "legendgroup": "Hollow Candlesticks",
         "low": [
          180.3000030517578
         ],
         "name": "Prev Close > Close > Open",
         "open": [
          181.27000427246094
         ],
         "showlegend": false,
         "type": "candlestick",
         "x": [
          "2024-01-17"
         ]
        },
        {
         "close": [
          188.6300048828125
         ],
         "decreasing": {
          "fillcolor": "rgba(255, 0, 0, 0)",
          "line": {
           "color": "green"
          }
         },
         "high": [
          189.13999938964844
         ],
         "increasing": {
          "fillcolor": "rgba(255, 0, 0, 0)",
          "line": {
           "color": "green"
          }
         },
         "legendgroup": "Hollow Candlesticks",
         "low": [
          185.8300018310547
         ],
         "name": "Prev Close < Close > Open",
         "open": [
          186.08999633789062
         ],
         "showlegend": false,
         "type": "candlestick",
         "x": [
          "2024-01-18"
         ]
        },
        {
         "close": [
          191.55999755859375
         ],
         "decreasing": {
          "fillcolor": "rgba(255, 0, 0, 0)",
          "line": {
           "color": "green"
          }
         },
         "high": [
          191.9499969482422
         ],
         "increasing": {
          "fillcolor": "rgba(255, 0, 0, 0)",
          "line": {
           "color": "green"
          }
         },
         "legendgroup": "Hollow Candlesticks",
         "low": [
          188.82000732421875
         ],
         "name": "Prev Close < Close > Open",
         "open": [
          189.3300018310547
         ],
         "showlegend": false,
         "type": "candlestick",
         "x": [
          "2024-01-19"
         ]
        },
        {
         "close": [
          193.88999938964844
         ],
         "decreasing": {
          "fillcolor": "rgba(255, 0, 0, 0)",
          "line": {
           "color": "green"
          }
         },
         "high": [
          195.3300018310547
         ],
         "increasing": {
          "fillcolor": "rgba(255, 0, 0, 0)",
          "line": {
           "color": "green"
          }
         },
         "legendgroup": "Hollow Candlesticks",
         "low": [
          192.25999450683594
         ],
         "name": "Prev Close < Close > Open",
         "open": [
          192.3000030517578
         ],
         "showlegend": false,
         "type": "candlestick",
         "x": [
          "2024-01-22"
         ]
        },
        {
         "close": [
          195.17999267578125
         ],
         "decreasing": {
          "fillcolor": "rgba(255, 0, 0, 0)",
          "line": {
           "color": "green"
          }
         },
         "high": [
          195.75
         ],
         "increasing": {
          "fillcolor": "rgba(255, 0, 0, 0)",
          "line": {
           "color": "green"
          }
         },
         "legendgroup": "Hollow Candlesticks",
         "low": [
          193.8300018310547
         ],
         "name": "Prev Close < Close > Open",
         "open": [
          195.02000427246094
         ],
         "showlegend": false,
         "type": "candlestick",
         "x": [
          "2024-01-23"
         ]
        },
        {
         "close": [
          194.5
         ],
         "decreasing": {
          "fillcolor": "red",
          "line": {
           "color": "red"
          }
         },
         "high": [
          196.3800048828125
         ],
         "increasing": {
          "fillcolor": "red",
          "line": {
           "color": "red"
          }
         },
         "legendgroup": "Hollow Candlesticks",
         "low": [
          194.33999633789062
         ],
         "name": "Open > Close < Prev Close",
         "open": [
          195.4199981689453
         ],
         "showlegend": false,
         "type": "candlestick",
         "x": [
          "2024-01-24"
         ]
        },
        {
         "close": [
          194.1699981689453
         ],
         "decreasing": {
          "fillcolor": "red",
          "line": {
           "color": "red"
          }
         },
         "high": [
          196.27000427246094
         ],
         "increasing": {
          "fillcolor": "red",
          "line": {
           "color": "red"
          }
         },
         "legendgroup": "Hollow Candlesticks",
         "low": [
          193.11000061035156
         ],
         "name": "Open > Close < Prev Close",
         "open": [
          195.22000122070312
         ],
         "showlegend": false,
         "type": "candlestick",
         "x": [
          "2024-01-25"
         ]
        },
        {
         "close": [
          192.4199981689453
         ],
         "decreasing": {
          "fillcolor": "red",
          "line": {
           "color": "red"
          }
         },
         "high": [
          194.75999450683594
         ],
         "increasing": {
          "fillcolor": "red",
          "line": {
           "color": "red"
          }
         },
         "legendgroup": "Hollow Candlesticks",
         "low": [
          191.94000244140625
         ],
         "name": "Open > Close < Prev Close",
         "open": [
          194.27000427246094
         ],
         "showlegend": false,
         "type": "candlestick",
         "x": [
          "2024-01-26"
         ]
        },
        {
         "close": [
          191.72999572753906
         ],
         "decreasing": {
          "fillcolor": "red",
          "line": {
           "color": "red"
          }
         },
         "high": [
          192.1999969482422
         ],
         "increasing": {
          "fillcolor": "red",
          "line": {
           "color": "red"
          }
         },
         "legendgroup": "Hollow Candlesticks",
         "low": [
          189.5800018310547
         ],
         "name": "Open > Close < Prev Close",
         "open": [
          192.00999450683594
         ],
         "showlegend": false,
         "type": "candlestick",
         "x": [
          "2024-01-29"
         ]
        },
        {
         "close": [
          188.0399932861328
         ],
         "decreasing": {
          "fillcolor": "red",
          "line": {
           "color": "red"
          }
         },
         "high": [
          191.8000030517578
         ],
         "increasing": {
          "fillcolor": "red",
          "line": {
           "color": "red"
          }
         },
         "legendgroup": "Hollow Candlesticks",
         "low": [
          187.47000122070312
         ],
         "name": "Open > Close < Prev Close",
         "open": [
          190.94000244140625
         ],
         "showlegend": false,
         "type": "candlestick",
         "x": [
          "2024-01-30"
         ]
        },
        {
         "close": [
          184.39999389648438
         ],
         "decreasing": {
          "fillcolor": "red",
          "line": {
           "color": "red"
          }
         },
         "high": [
          187.10000610351562
         ],
         "increasing": {
          "fillcolor": "red",
          "line": {
           "color": "red"
          }
         },
         "legendgroup": "Hollow Candlesticks",
         "low": [
          184.35000610351562
         ],
         "name": "Open > Close < Prev Close",
         "open": [
          187.0399932861328
         ],
         "showlegend": false,
         "type": "candlestick",
         "x": [
          "2024-01-31"
         ]
        },
        {
         "close": [
          186.86000061035156
         ],
         "decreasing": {
          "fillcolor": "rgba(255, 0, 0, 0)",
          "line": {
           "color": "green"
          }
         },
         "high": [
          186.9499969482422
         ],
         "increasing": {
          "fillcolor": "rgba(255, 0, 0, 0)",
          "line": {
           "color": "green"
          }
         },
         "legendgroup": "Hollow Candlesticks",
         "low": [
          183.82000732421875
         ],
         "name": "Prev Close < Close > Open",
         "open": [
          183.99000549316406
         ],
         "showlegend": false,
         "type": "candlestick",
         "x": [
          "2024-02-01"
         ]
        },
        {
         "close": [
          185.85000610351562
         ],
         "decreasing": {
          "fillcolor": "rgba(255, 0, 0, 0)",
          "line": {
           "color": "red"
          }
         },
         "high": [
          187.3300018310547
         ],
         "increasing": {
          "fillcolor": "rgba(255, 0, 0, 0)",
          "line": {
           "color": "red"
          }
         },
         "legendgroup": "Hollow Candlesticks",
         "low": [
          179.25
         ],
         "name": "Prev Close > Close > Open",
         "open": [
          179.86000061035156
         ],
         "showlegend": false,
         "type": "candlestick",
         "x": [
          "2024-02-02"
         ]
        },
        {
         "close": [
          187.67999267578125
         ],
         "decreasing": {
          "fillcolor": "green",
          "line": {
           "color": "green"
          }
         },
         "high": [
          189.25
         ],
         "increasing": {
          "fillcolor": "green",
          "line": {
           "color": "green"
          }
         },
         "legendgroup": "Hollow Candlesticks",
         "low": [
          185.83999633789062
         ],
         "name": "Open > Close > Prev Close",
         "open": [
          188.14999389648438
         ],
         "showlegend": false,
         "type": "candlestick",
         "x": [
          "2024-02-05"
         ]
        },
        {
         "close": [
          189.3000030517578
         ],
         "decreasing": {
          "fillcolor": "rgba(255, 0, 0, 0)",
          "line": {
           "color": "green"
          }
         },
         "high": [
          189.30999755859375
         ],
         "increasing": {
          "fillcolor": "rgba(255, 0, 0, 0)",
          "line": {
           "color": "green"
          }
         },
         "legendgroup": "Hollow Candlesticks",
         "low": [
          186.77000427246094
         ],
         "name": "Prev Close < Close > Open",
         "open": [
          186.86000061035156
         ],
         "showlegend": false,
         "type": "candlestick",
         "x": [
          "2024-02-06"
         ]
        },
        {
         "close": [
          189.41000366210938
         ],
         "decreasing": {
          "fillcolor": "green",
          "line": {
           "color": "green"
          }
         },
         "high": [
          191.0500030517578
         ],
         "increasing": {
          "fillcolor": "green",
          "line": {
           "color": "green"
          }
         },
         "legendgroup": "Hollow Candlesticks",
         "low": [
          188.61000061035156
         ],
         "name": "Open > Close > Prev Close",
         "open": [
          190.63999938964844
         ],
         "showlegend": false,
         "type": "candlestick",
         "x": [
          "2024-02-07"
         ]
        },
        {
         "close": [
          188.32000732421875
         ],
         "decreasing": {
          "fillcolor": "red",
          "line": {
           "color": "red"
          }
         },
         "high": [
          189.5399932861328
         ],
         "increasing": {
          "fillcolor": "red",
          "line": {
           "color": "red"
          }
         },
         "legendgroup": "Hollow Candlesticks",
         "low": [
          187.35000610351562
         ],
         "name": "Open > Close < Prev Close",
         "open": [
          189.38999938964844
         ],
         "showlegend": false,
         "type": "candlestick",
         "x": [
          "2024-02-08"
         ]
        },
        {
         "close": [
          188.85000610351562
         ],
         "decreasing": {
          "fillcolor": "rgba(255, 0, 0, 0)",
          "line": {
           "color": "green"
          }
         },
         "high": [
          189.99000549316406
         ],
         "increasing": {
          "fillcolor": "rgba(255, 0, 0, 0)",
          "line": {
           "color": "green"
          }
         },
         "legendgroup": "Hollow Candlesticks",
         "low": [
          188
         ],
         "name": "Prev Close < Close > Open",
         "open": [
          188.64999389648438
         ],
         "showlegend": false,
         "type": "candlestick",
         "x": [
          "2024-02-09"
         ]
        },
        {
         "close": [
          187.14999389648438
         ],
         "decreasing": {
          "fillcolor": "red",
          "line": {
           "color": "red"
          }
         },
         "high": [
          188.6699981689453
         ],
         "increasing": {
          "fillcolor": "red",
          "line": {
           "color": "red"
          }
         },
         "legendgroup": "Hollow Candlesticks",
         "low": [
          186.7899932861328
         ],
         "name": "Open > Close < Prev Close",
         "open": [
          188.4199981689453
         ],
         "showlegend": false,
         "type": "candlestick",
         "x": [
          "2024-02-12"
         ]
        },
        {
         "close": [
          185.0399932861328
         ],
         "decreasing": {
          "fillcolor": "red",
          "line": {
           "color": "red"
          }
         },
         "high": [
          186.2100067138672
         ],
         "increasing": {
          "fillcolor": "red",
          "line": {
           "color": "red"
          }
         },
         "legendgroup": "Hollow Candlesticks",
         "low": [
          183.50999450683594
         ],
         "name": "Open > Close < Prev Close",
         "open": [
          185.77000427246094
         ],
         "showlegend": false,
         "type": "candlestick",
         "x": [
          "2024-02-13"
         ]
        },
        {
         "close": [
          184.14999389648438
         ],
         "decreasing": {
          "fillcolor": "red",
          "line": {
           "color": "red"
          }
         },
         "high": [
          185.52999877929688
         ],
         "increasing": {
          "fillcolor": "red",
          "line": {
           "color": "red"
          }
         },
         "legendgroup": "Hollow Candlesticks",
         "low": [
          182.44000244140625
         ],
         "name": "Open > Close < Prev Close",
         "open": [
          185.32000732421875
         ],
         "showlegend": false,
         "type": "candlestick",
         "x": [
          "2024-02-14"
         ]
        },
        {
         "close": [
          183.86000061035156
         ],
         "decreasing": {
          "fillcolor": "rgba(255, 0, 0, 0)",
          "line": {
           "color": "red"
          }
         },
         "high": [
          184.49000549316406
         ],
         "increasing": {
          "fillcolor": "rgba(255, 0, 0, 0)",
          "line": {
           "color": "red"
          }
         },
         "legendgroup": "Hollow Candlesticks",
         "low": [
          181.35000610351562
         ],
         "name": "Prev Close > Close > Open",
         "open": [
          183.5500030517578
         ],
         "showlegend": false,
         "type": "candlestick",
         "x": [
          "2024-02-15"
         ]
        },
        {
         "close": [
          182.30999755859375
         ],
         "decreasing": {
          "fillcolor": "red",
          "line": {
           "color": "red"
          }
         },
         "high": [
          184.85000610351562
         ],
         "increasing": {
          "fillcolor": "red",
          "line": {
           "color": "red"
          }
         },
         "legendgroup": "Hollow Candlesticks",
         "low": [
          181.6699981689453
         ],
         "name": "Open > Close < Prev Close",
         "open": [
          183.4199981689453
         ],
         "showlegend": false,
         "type": "candlestick",
         "x": [
          "2024-02-16"
         ]
        },
        {
         "close": [
          181.55999755859375
         ],
         "decreasing": {
          "fillcolor": "red",
          "line": {
           "color": "red"
          }
         },
         "high": [
          182.42999267578125
         ],
         "increasing": {
          "fillcolor": "red",
          "line": {
           "color": "red"
          }
         },
         "legendgroup": "Hollow Candlesticks",
         "low": [
          180
         ],
         "name": "Open > Close < Prev Close",
         "open": [
          181.7899932861328
         ],
         "showlegend": false,
         "type": "candlestick",
         "x": [
          "2024-02-20"
         ]
        },
        {
         "close": [
          182.32000732421875
         ],
         "decreasing": {
          "fillcolor": "rgba(255, 0, 0, 0)",
          "line": {
           "color": "green"
          }
         },
         "high": [
          182.88999938964844
         ],
         "increasing": {
          "fillcolor": "rgba(255, 0, 0, 0)",
          "line": {
           "color": "green"
          }
         },
         "legendgroup": "Hollow Candlesticks",
         "low": [
          180.66000366210938
         ],
         "name": "Prev Close < Close > Open",
         "open": [
          181.94000244140625
         ],
         "showlegend": false,
         "type": "candlestick",
         "x": [
          "2024-02-21"
         ]
        },
        {
         "close": [
          184.3699951171875
         ],
         "decreasing": {
          "fillcolor": "rgba(255, 0, 0, 0)",
          "line": {
           "color": "green"
          }
         },
         "high": [
          184.9600067138672
         ],
         "increasing": {
          "fillcolor": "rgba(255, 0, 0, 0)",
          "line": {
           "color": "green"
          }
         },
         "legendgroup": "Hollow Candlesticks",
         "low": [
          182.4600067138672
         ],
         "name": "Prev Close < Close > Open",
         "open": [
          183.47999572753906
         ],
         "showlegend": false,
         "type": "candlestick",
         "x": [
          "2024-02-22"
         ]
        },
        {
         "close": [
          182.52000427246094
         ],
         "decreasing": {
          "fillcolor": "red",
          "line": {
           "color": "red"
          }
         },
         "high": [
          185.0399932861328
         ],
         "increasing": {
          "fillcolor": "red",
          "line": {
           "color": "red"
          }
         },
         "legendgroup": "Hollow Candlesticks",
         "low": [
          182.22999572753906
         ],
         "name": "Open > Close < Prev Close",
         "open": [
          185.00999450683594
         ],
         "showlegend": false,
         "type": "candlestick",
         "x": [
          "2024-02-23"
         ]
        },
        {
         "close": [
          181.16000366210938
         ],
         "decreasing": {
          "fillcolor": "red",
          "line": {
           "color": "red"
          }
         },
         "high": [
          182.75999450683594
         ],
         "increasing": {
          "fillcolor": "red",
          "line": {
           "color": "red"
          }
         },
         "legendgroup": "Hollow Candlesticks",
         "low": [
          180.64999389648438
         ],
         "name": "Open > Close < Prev Close",
         "open": [
          182.24000549316406
         ],
         "showlegend": false,
         "type": "candlestick",
         "x": [
          "2024-02-26"
         ]
        },
        {
         "close": [
          182.6300048828125
         ],
         "decreasing": {
          "fillcolor": "rgba(255, 0, 0, 0)",
          "line": {
           "color": "green"
          }
         },
         "high": [
          183.9199981689453
         ],
         "increasing": {
          "fillcolor": "rgba(255, 0, 0, 0)",
          "line": {
           "color": "green"
          }
         },
         "legendgroup": "Hollow Candlesticks",
         "low": [
          179.55999755859375
         ],
         "name": "Prev Close < Close > Open",
         "open": [
          181.10000610351562
         ],
         "showlegend": false,
         "type": "candlestick",
         "x": [
          "2024-02-27"
         ]
        },
        {
         "close": [
          181.4199981689453
         ],
         "decreasing": {
          "fillcolor": "red",
          "line": {
           "color": "red"
          }
         },
         "high": [
          183.1199951171875
         ],
         "increasing": {
          "fillcolor": "red",
          "line": {
           "color": "red"
          }
         },
         "legendgroup": "Hollow Candlesticks",
         "low": [
          180.1300048828125
         ],
         "name": "Open > Close < Prev Close",
         "open": [
          182.50999450683594
         ],
         "showlegend": false,
         "type": "candlestick",
         "x": [
          "2024-02-28"
         ]
        },
        {
         "close": [
          180.75
         ],
         "decreasing": {
          "fillcolor": "red",
          "line": {
           "color": "red"
          }
         },
         "high": [
          182.57000732421875
         ],
         "increasing": {
          "fillcolor": "red",
          "line": {
           "color": "red"
          }
         },
         "legendgroup": "Hollow Candlesticks",
         "low": [
          179.52999877929688
         ],
         "name": "Open > Close < Prev Close",
         "open": [
          181.27000427246094
         ],
         "showlegend": false,
         "type": "candlestick",
         "x": [
          "2024-02-29"
         ]
        },
        {
         "close": [
          179.66000366210938
         ],
         "decreasing": {
          "fillcolor": "rgba(255, 0, 0, 0)",
          "line": {
           "color": "red"
          }
         },
         "high": [
          180.52999877929688
         ],
         "increasing": {
          "fillcolor": "rgba(255, 0, 0, 0)",
          "line": {
           "color": "red"
          }
         },
         "legendgroup": "Hollow Candlesticks",
         "low": [
          177.3800048828125
         ],
         "name": "Prev Close > Close > Open",
         "open": [
          179.5500030517578
         ],
         "showlegend": false,
         "type": "candlestick",
         "x": [
          "2024-03-01"
         ]
        },
        {
         "close": [
          175.10000610351562
         ],
         "decreasing": {
          "fillcolor": "red",
          "line": {
           "color": "red"
          }
         },
         "high": [
          176.89999389648438
         ],
         "increasing": {
          "fillcolor": "red",
          "line": {
           "color": "red"
          }
         },
         "legendgroup": "Hollow Candlesticks",
         "low": [
          173.7899932861328
         ],
         "name": "Open > Close < Prev Close",
         "open": [
          176.14999389648438
         ],
         "showlegend": false,
         "type": "candlestick",
         "x": [
          "2024-03-04"
         ]
        },
        {
         "close": [
          170.1199951171875
         ],
         "decreasing": {
          "fillcolor": "red",
          "line": {
           "color": "red"
          }
         },
         "high": [
          172.0399932861328
         ],
         "increasing": {
          "fillcolor": "red",
          "line": {
           "color": "red"
          }
         },
         "legendgroup": "Hollow Candlesticks",
         "low": [
          169.6199951171875
         ],
         "name": "Open > Close < Prev Close",
         "open": [
          170.75999450683594
         ],
         "showlegend": false,
         "type": "candlestick",
         "x": [
          "2024-03-05"
         ]
        },
        {
         "close": [
          169.1199951171875
         ],
         "decreasing": {
          "fillcolor": "red",
          "line": {
           "color": "red"
          }
         },
         "high": [
          171.24000549316406
         ],
         "increasing": {
          "fillcolor": "red",
          "line": {
           "color": "red"
          }
         },
         "legendgroup": "Hollow Candlesticks",
         "low": [
          168.67999267578125
         ],
         "name": "Open > Close < Prev Close",
         "open": [
          171.05999755859375
         ],
         "showlegend": false,
         "type": "candlestick",
         "x": [
          "2024-03-06"
         ]
        },
        {
         "close": [
          169
         ],
         "decreasing": {
          "fillcolor": "red",
          "line": {
           "color": "red"
          }
         },
         "high": [
          170.72999572753906
         ],
         "increasing": {
          "fillcolor": "red",
          "line": {
           "color": "red"
          }
         },
         "legendgroup": "Hollow Candlesticks",
         "low": [
          168.49000549316406
         ],
         "name": "Open > Close < Prev Close",
         "open": [
          169.14999389648438
         ],
         "showlegend": false,
         "type": "candlestick",
         "x": [
          "2024-03-07"
         ]
        },
        {
         "close": [
          170.72999572753906
         ],
         "decreasing": {
          "fillcolor": "rgba(255, 0, 0, 0)",
          "line": {
           "color": "green"
          }
         },
         "high": [
          173.6999969482422
         ],
         "increasing": {
          "fillcolor": "rgba(255, 0, 0, 0)",
          "line": {
           "color": "green"
          }
         },
         "legendgroup": "Hollow Candlesticks",
         "low": [
          168.94000244140625
         ],
         "name": "Prev Close < Close > Open",
         "open": [
          169
         ],
         "showlegend": false,
         "type": "candlestick",
         "x": [
          "2024-03-08"
         ]
        },
        {
         "close": [
          172.75
         ],
         "decreasing": {
          "fillcolor": "green",
          "line": {
           "color": "green"
          }
         },
         "high": [
          174.3800048828125
         ],
         "increasing": {
          "fillcolor": "green",
          "line": {
           "color": "green"
          }
         },
         "legendgroup": "Hollow Candlesticks",
         "low": [
          172.0500030517578
         ],
         "name": "Open > Close > Prev Close",
         "open": [
          172.94000244140625
         ],
         "showlegend": false,
         "type": "candlestick",
         "x": [
          "2024-03-11"
         ]
        },
        {
         "close": [
          173.22999572753906
         ],
         "decreasing": {
          "fillcolor": "rgba(255, 0, 0, 0)",
          "line": {
           "color": "green"
          }
         },
         "high": [
          174.02999877929688
         ],
         "increasing": {
          "fillcolor": "rgba(255, 0, 0, 0)",
          "line": {
           "color": "green"
          }
         },
         "legendgroup": "Hollow Candlesticks",
         "low": [
          171.00999450683594
         ],
         "name": "Prev Close < Close > Open",
         "open": [
          173.14999389648438
         ],
         "showlegend": false,
         "type": "candlestick",
         "x": [
          "2024-03-12"
         ]
        },
        {
         "close": [
          171.1300048828125
         ],
         "decreasing": {
          "fillcolor": "red",
          "line": {
           "color": "red"
          }
         },
         "high": [
          173.19000244140625
         ],
         "increasing": {
          "fillcolor": "red",
          "line": {
           "color": "red"
          }
         },
         "legendgroup": "Hollow Candlesticks",
         "low": [
          170.75999450683594
         ],
         "name": "Open > Close < Prev Close",
         "open": [
          172.77000427246094
         ],
         "showlegend": false,
         "type": "candlestick",
         "x": [
          "2024-03-13"
         ]
        },
        {
         "close": [
          173
         ],
         "decreasing": {
          "fillcolor": "rgba(255, 0, 0, 0)",
          "line": {
           "color": "green"
          }
         },
         "high": [
          174.30999755859375
         ],
         "increasing": {
          "fillcolor": "rgba(255, 0, 0, 0)",
          "line": {
           "color": "green"
          }
         },
         "legendgroup": "Hollow Candlesticks",
         "low": [
          172.0500030517578
         ],
         "name": "Prev Close < Close > Open",
         "open": [
          172.91000366210938
         ],
         "showlegend": false,
         "type": "candlestick",
         "x": [
          "2024-03-14"
         ]
        },
        {
         "close": [
          172.6199951171875
         ],
         "decreasing": {
          "fillcolor": "rgba(255, 0, 0, 0)",
          "line": {
           "color": "red"
          }
         },
         "high": [
          172.6199951171875
         ],
         "increasing": {
          "fillcolor": "rgba(255, 0, 0, 0)",
          "line": {
           "color": "red"
          }
         },
         "legendgroup": "Hollow Candlesticks",
         "low": [
          170.2899932861328
         ],
         "name": "Prev Close > Close > Open",
         "open": [
          171.1699981689453
         ],
         "showlegend": false,
         "type": "candlestick",
         "x": [
          "2024-03-15"
         ]
        },
        {
         "close": [
          173.72000122070312
         ],
         "decreasing": {
          "fillcolor": "green",
          "line": {
           "color": "green"
          }
         },
         "high": [
          177.7100067138672
         ],
         "increasing": {
          "fillcolor": "green",
          "line": {
           "color": "green"
          }
         },
         "legendgroup": "Hollow Candlesticks",
         "low": [
          173.52000427246094
         ],
         "name": "Open > Close > Prev Close",
         "open": [
          175.57000732421875
         ],
         "showlegend": false,
         "type": "candlestick",
         "x": [
          "2024-03-18"
         ]
        },
        {
         "close": [
          176.0800018310547
         ],
         "decreasing": {
          "fillcolor": "rgba(255, 0, 0, 0)",
          "line": {
           "color": "green"
          }
         },
         "high": [
          176.61000061035156
         ],
         "increasing": {
          "fillcolor": "rgba(255, 0, 0, 0)",
          "line": {
           "color": "green"
          }
         },
         "legendgroup": "Hollow Candlesticks",
         "low": [
          173.02999877929688
         ],
         "name": "Prev Close < Close > Open",
         "open": [
          174.33999633789062
         ],
         "showlegend": false,
         "type": "candlestick",
         "x": [
          "2024-03-19"
         ]
        },
        {
         "close": [
          178.6699981689453
         ],
         "decreasing": {
          "fillcolor": "rgba(255, 0, 0, 0)",
          "line": {
           "color": "green"
          }
         },
         "high": [
          178.6699981689453
         ],
         "increasing": {
          "fillcolor": "rgba(255, 0, 0, 0)",
          "line": {
           "color": "green"
          }
         },
         "legendgroup": "Hollow Candlesticks",
         "low": [
          175.08999633789062
         ],
         "name": "Prev Close < Close > Open",
         "open": [
          175.72000122070312
         ],
         "showlegend": false,
         "type": "candlestick",
         "x": [
          "2024-03-20"
         ]
        },
        {
         "close": [
          171.3699951171875
         ],
         "decreasing": {
          "fillcolor": "red",
          "line": {
           "color": "red"
          }
         },
         "high": [
          177.49000549316406
         ],
         "increasing": {
          "fillcolor": "red",
          "line": {
           "color": "red"
          }
         },
         "legendgroup": "Hollow Candlesticks",
         "low": [
          170.83999633789062
         ],
         "name": "Open > Close < Prev Close",
         "open": [
          177.0500030517578
         ],
         "showlegend": false,
         "type": "candlestick",
         "x": [
          "2024-03-21"
         ]
        },
        {
         "close": [
          172.27999877929688
         ],
         "decreasing": {
          "fillcolor": "rgba(255, 0, 0, 0)",
          "line": {
           "color": "green"
          }
         },
         "high": [
          173.0500030517578
         ],
         "increasing": {
          "fillcolor": "rgba(255, 0, 0, 0)",
          "line": {
           "color": "green"
          }
         },
         "legendgroup": "Hollow Candlesticks",
         "low": [
          170.05999755859375
         ],
         "name": "Prev Close < Close > Open",
         "open": [
          171.75999450683594
         ],
         "showlegend": false,
         "type": "candlestick",
         "x": [
          "2024-03-22"
         ]
        },
        {
         "close": [
          170.85000610351562
         ],
         "decreasing": {
          "fillcolor": "rgba(255, 0, 0, 0)",
          "line": {
           "color": "red"
          }
         },
         "high": [
          171.94000244140625
         ],
         "increasing": {
          "fillcolor": "rgba(255, 0, 0, 0)",
          "line": {
           "color": "red"
          }
         },
         "legendgroup": "Hollow Candlesticks",
         "low": [
          169.4499969482422
         ],
         "name": "Prev Close > Close > Open",
         "open": [
          170.57000732421875
         ],
         "showlegend": false,
         "type": "candlestick",
         "x": [
          "2024-03-25"
         ]
        },
        {
         "close": [
          169.7100067138672
         ],
         "decreasing": {
          "fillcolor": "red",
          "line": {
           "color": "red"
          }
         },
         "high": [
          171.4199981689453
         ],
         "increasing": {
          "fillcolor": "red",
          "line": {
           "color": "red"
          }
         },
         "legendgroup": "Hollow Candlesticks",
         "low": [
          169.5800018310547
         ],
         "name": "Open > Close < Prev Close",
         "open": [
          170
         ],
         "showlegend": false,
         "type": "candlestick",
         "x": [
          "2024-03-26"
         ]
        },
        {
         "close": [
          173.30999755859375
         ],
         "decreasing": {
          "fillcolor": "rgba(255, 0, 0, 0)",
          "line": {
           "color": "green"
          }
         },
         "high": [
          173.60000610351562
         ],
         "increasing": {
          "fillcolor": "rgba(255, 0, 0, 0)",
          "line": {
           "color": "green"
          }
         },
         "legendgroup": "Hollow Candlesticks",
         "low": [
          170.11000061035156
         ],
         "name": "Prev Close < Close > Open",
         "open": [
          170.41000366210938
         ],
         "showlegend": false,
         "type": "candlestick",
         "x": [
          "2024-03-27"
         ]
        },
        {
         "close": [
          171.47999572753906
         ],
         "decreasing": {
          "fillcolor": "red",
          "line": {
           "color": "red"
          }
         },
         "high": [
          172.22999572753906
         ],
         "increasing": {
          "fillcolor": "red",
          "line": {
           "color": "red"
          }
         },
         "legendgroup": "Hollow Candlesticks",
         "low": [
          170.50999450683594
         ],
         "name": "Open > Close < Prev Close",
         "open": [
          171.75
         ],
         "showlegend": false,
         "type": "candlestick",
         "x": [
          "2024-03-28"
         ]
        },
        {
         "close": [
          170.02999877929688
         ],
         "decreasing": {
          "fillcolor": "red",
          "line": {
           "color": "red"
          }
         },
         "high": [
          171.25
         ],
         "increasing": {
          "fillcolor": "red",
          "line": {
           "color": "red"
          }
         },
         "legendgroup": "Hollow Candlesticks",
         "low": [
          169.47999572753906
         ],
         "name": "Open > Close < Prev Close",
         "open": [
          171.19000244140625
         ],
         "showlegend": false,
         "type": "candlestick",
         "x": [
          "2024-04-01"
         ]
        },
        {
         "close": [
          168.83999633789062
         ],
         "decreasing": {
          "fillcolor": "red",
          "line": {
           "color": "red"
          }
         },
         "high": [
          169.33999633789062
         ],
         "increasing": {
          "fillcolor": "red",
          "line": {
           "color": "red"
          }
         },
         "legendgroup": "Hollow Candlesticks",
         "low": [
          168.22999572753906
         ],
         "name": "Open > Close < Prev Close",
         "open": [
          169.0800018310547
         ],
         "showlegend": false,
         "type": "candlestick",
         "x": [
          "2024-04-02"
         ]
        },
        {
         "close": [
          169.64999389648438
         ],
         "decreasing": {
          "fillcolor": "rgba(255, 0, 0, 0)",
          "line": {
           "color": "green"
          }
         },
         "high": [
          170.67999267578125
         ],
         "increasing": {
          "fillcolor": "rgba(255, 0, 0, 0)",
          "line": {
           "color": "green"
          }
         },
         "legendgroup": "Hollow Candlesticks",
         "low": [
          168.5800018310547
         ],
         "name": "Prev Close < Close > Open",
         "open": [
          168.7899932861328
         ],
         "showlegend": false,
         "type": "candlestick",
         "x": [
          "2024-04-03"
         ]
        },
        {
         "close": [
          168.82000732421875
         ],
         "decreasing": {
          "fillcolor": "red",
          "line": {
           "color": "red"
          }
         },
         "high": [
          171.9199981689453
         ],
         "increasing": {
          "fillcolor": "red",
          "line": {
           "color": "red"
          }
         },
         "legendgroup": "Hollow Candlesticks",
         "low": [
          168.82000732421875
         ],
         "name": "Open > Close < Prev Close",
         "open": [
          170.2899932861328
         ],
         "showlegend": false,
         "type": "candlestick",
         "x": [
          "2024-04-04"
         ]
        },
        {
         "close": [
          169.5800018310547
         ],
         "decreasing": {
          "fillcolor": "green",
          "line": {
           "color": "green"
          }
         },
         "high": [
          170.38999938964844
         ],
         "increasing": {
          "fillcolor": "green",
          "line": {
           "color": "green"
          }
         },
         "legendgroup": "Hollow Candlesticks",
         "low": [
          168.9499969482422
         ],
         "name": "Open > Close > Prev Close",
         "open": [
          169.58999633789062
         ],
         "showlegend": false,
         "type": "candlestick",
         "x": [
          "2024-04-05"
         ]
        },
        {
         "close": [
          168.4499969482422
         ],
         "decreasing": {
          "fillcolor": "red",
          "line": {
           "color": "red"
          }
         },
         "high": [
          169.1999969482422
         ],
         "increasing": {
          "fillcolor": "red",
          "line": {
           "color": "red"
          }
         },
         "legendgroup": "Hollow Candlesticks",
         "low": [
          168.24000549316406
         ],
         "name": "Open > Close < Prev Close",
         "open": [
          169.02999877929688
         ],
         "showlegend": false,
         "type": "candlestick",
         "x": [
          "2024-04-08"
         ]
        },
        {
         "close": [
          169.6699981689453
         ],
         "decreasing": {
          "fillcolor": "rgba(255, 0, 0, 0)",
          "line": {
           "color": "green"
          }
         },
         "high": [
          170.0800018310547
         ],
         "increasing": {
          "fillcolor": "rgba(255, 0, 0, 0)",
          "line": {
           "color": "green"
          }
         },
         "legendgroup": "Hollow Candlesticks",
         "low": [
          168.35000610351562
         ],
         "name": "Prev Close < Close > Open",
         "open": [
          168.6999969482422
         ],
         "showlegend": false,
         "type": "candlestick",
         "x": [
          "2024-04-09"
         ]
        },
        {
         "close": [
          167.77999877929688
         ],
         "decreasing": {
          "fillcolor": "red",
          "line": {
           "color": "red"
          }
         },
         "high": [
          169.08999633789062
         ],
         "increasing": {
          "fillcolor": "red",
          "line": {
           "color": "red"
          }
         },
         "legendgroup": "Hollow Candlesticks",
         "low": [
          167.11000061035156
         ],
         "name": "Open > Close < Prev Close",
         "open": [
          168.8000030517578
         ],
         "showlegend": false,
         "type": "candlestick",
         "x": [
          "2024-04-10"
         ]
        },
        {
         "close": [
          175.0399932861328
         ],
         "decreasing": {
          "fillcolor": "rgba(255, 0, 0, 0)",
          "line": {
           "color": "green"
          }
         },
         "high": [
          175.4600067138672
         ],
         "increasing": {
          "fillcolor": "rgba(255, 0, 0, 0)",
          "line": {
           "color": "green"
          }
         },
         "legendgroup": "Hollow Candlesticks",
         "low": [
          168.16000366210938
         ],
         "name": "Prev Close < Close > Open",
         "open": [
          168.33999633789062
         ],
         "showlegend": false,
         "type": "candlestick",
         "x": [
          "2024-04-11"
         ]
        },
        {
         "close": [
          176.5500030517578
         ],
         "decreasing": {
          "fillcolor": "rgba(255, 0, 0, 0)",
          "line": {
           "color": "green"
          }
         },
         "high": [
          178.36000061035156
         ],
         "increasing": {
          "fillcolor": "rgba(255, 0, 0, 0)",
          "line": {
           "color": "green"
          }
         },
         "legendgroup": "Hollow Candlesticks",
         "low": [
          174.2100067138672
         ],
         "name": "Prev Close < Close > Open",
         "open": [
          174.25999450683594
         ],
         "showlegend": false,
         "type": "candlestick",
         "x": [
          "2024-04-12"
         ]
        },
        {
         "close": [
          172.69000244140625
         ],
         "decreasing": {
          "fillcolor": "red",
          "line": {
           "color": "red"
          }
         },
         "high": [
          176.6300048828125
         ],
         "increasing": {
          "fillcolor": "red",
          "line": {
           "color": "red"
          }
         },
         "legendgroup": "Hollow Candlesticks",
         "low": [
          172.5
         ],
         "name": "Open > Close < Prev Close",
         "open": [
          175.36000061035156
         ],
         "showlegend": false,
         "type": "candlestick",
         "x": [
          "2024-04-15"
         ]
        },
        {
         "close": [
          169.3800048828125
         ],
         "decreasing": {
          "fillcolor": "red",
          "line": {
           "color": "red"
          }
         },
         "high": [
          173.75999450683594
         ],
         "increasing": {
          "fillcolor": "red",
          "line": {
           "color": "red"
          }
         },
         "legendgroup": "Hollow Candlesticks",
         "low": [
          168.27000427246094
         ],
         "name": "Open > Close < Prev Close",
         "open": [
          171.75
         ],
         "showlegend": false,
         "type": "candlestick",
         "x": [
          "2024-04-16"
         ]
        },
        {
         "close": [
          168
         ],
         "decreasing": {
          "fillcolor": "red",
          "line": {
           "color": "red"
          }
         },
         "high": [
          170.64999389648438
         ],
         "increasing": {
          "fillcolor": "red",
          "line": {
           "color": "red"
          }
         },
         "legendgroup": "Hollow Candlesticks",
         "low": [
          168
         ],
         "name": "Open > Close < Prev Close",
         "open": [
          169.61000061035156
         ],
         "showlegend": false,
         "type": "candlestick",
         "x": [
          "2024-04-17"
         ]
        },
        {
         "close": [
          167.0399932861328
         ],
         "decreasing": {
          "fillcolor": "red",
          "line": {
           "color": "red"
          }
         },
         "high": [
          168.63999938964844
         ],
         "increasing": {
          "fillcolor": "red",
          "line": {
           "color": "red"
          }
         },
         "legendgroup": "Hollow Candlesticks",
         "low": [
          166.5500030517578
         ],
         "name": "Open > Close < Prev Close",
         "open": [
          168.02999877929688
         ],
         "showlegend": false,
         "type": "candlestick",
         "x": [
          "2024-04-18"
         ]
        },
        {
         "close": [
          165
         ],
         "decreasing": {
          "fillcolor": "red",
          "line": {
           "color": "red"
          }
         },
         "high": [
          166.39999389648438
         ],
         "increasing": {
          "fillcolor": "red",
          "line": {
           "color": "red"
          }
         },
         "legendgroup": "Hollow Candlesticks",
         "low": [
          164.0800018310547
         ],
         "name": "Open > Close < Prev Close",
         "open": [
          166.2100067138672
         ],
         "showlegend": false,
         "type": "candlestick",
         "x": [
          "2024-04-19"
         ]
        },
        {
         "close": [
          165.83999633789062
         ],
         "decreasing": {
          "fillcolor": "rgba(255, 0, 0, 0)",
          "line": {
           "color": "green"
          }
         },
         "high": [
          167.25999450683594
         ],
         "increasing": {
          "fillcolor": "rgba(255, 0, 0, 0)",
          "line": {
           "color": "green"
          }
         },
         "legendgroup": "Hollow Candlesticks",
         "low": [
          164.77000427246094
         ],
         "name": "Prev Close < Close > Open",
         "open": [
          165.52000427246094
         ],
         "showlegend": false,
         "type": "candlestick",
         "x": [
          "2024-04-22"
         ]
        },
        {
         "close": [
          166.89999389648438
         ],
         "decreasing": {
          "fillcolor": "rgba(255, 0, 0, 0)",
          "line": {
           "color": "green"
          }
         },
         "high": [
          167.0500030517578
         ],
         "increasing": {
          "fillcolor": "rgba(255, 0, 0, 0)",
          "line": {
           "color": "green"
          }
         },
         "legendgroup": "Hollow Candlesticks",
         "low": [
          164.9199981689453
         ],
         "name": "Prev Close < Close > Open",
         "open": [
          165.35000610351562
         ],
         "showlegend": false,
         "type": "candlestick",
         "x": [
          "2024-04-23"
         ]
        },
        {
         "close": [
          169.02000427246094
         ],
         "decreasing": {
          "fillcolor": "rgba(255, 0, 0, 0)",
          "line": {
           "color": "green"
          }
         },
         "high": [
          169.3000030517578
         ],
         "increasing": {
          "fillcolor": "rgba(255, 0, 0, 0)",
          "line": {
           "color": "green"
          }
         },
         "legendgroup": "Hollow Candlesticks",
         "low": [
          166.2100067138672
         ],
         "name": "Prev Close < Close > Open",
         "open": [
          166.5399932861328
         ],
         "showlegend": false,
         "type": "candlestick",
         "x": [
          "2024-04-24"
         ]
        },
        {
         "close": [
          169.88999938964844
         ],
         "decreasing": {
          "fillcolor": "rgba(255, 0, 0, 0)",
          "line": {
           "color": "green"
          }
         },
         "high": [
          170.61000061035156
         ],
         "increasing": {
          "fillcolor": "rgba(255, 0, 0, 0)",
          "line": {
           "color": "green"
          }
         },
         "legendgroup": "Hollow Candlesticks",
         "low": [
          168.14999389648438
         ],
         "name": "Prev Close < Close > Open",
         "open": [
          169.52999877929688
         ],
         "showlegend": false,
         "type": "candlestick",
         "x": [
          "2024-04-25"
         ]
        },
        {
         "close": [
          169.3000030517578
         ],
         "decreasing": {
          "fillcolor": "red",
          "line": {
           "color": "red"
          }
         },
         "high": [
          171.33999633789062
         ],
         "increasing": {
          "fillcolor": "red",
          "line": {
           "color": "red"
          }
         },
         "legendgroup": "Hollow Candlesticks",
         "low": [
          169.17999267578125
         ],
         "name": "Open > Close < Prev Close",
         "open": [
          169.8800048828125
         ],
         "showlegend": false,
         "type": "candlestick",
         "x": [
          "2024-04-26"
         ]
        },
        {
         "close": [
          173.5
         ],
         "decreasing": {
          "fillcolor": "rgba(255, 0, 0, 0)",
          "line": {
           "color": "green"
          }
         },
         "high": [
          176.02999877929688
         ],
         "increasing": {
          "fillcolor": "rgba(255, 0, 0, 0)",
          "line": {
           "color": "green"
          }
         },
         "legendgroup": "Hollow Candlesticks",
         "low": [
          173.10000610351562
         ],
         "name": "Prev Close < Close > Open",
         "open": [
          173.3699951171875
         ],
         "showlegend": false,
         "type": "candlestick",
         "x": [
          "2024-04-29"
         ]
        },
        {
         "close": [
          170.3300018310547
         ],
         "decreasing": {
          "fillcolor": "red",
          "line": {
           "color": "red"
          }
         },
         "high": [
          174.99000549316406
         ],
         "increasing": {
          "fillcolor": "red",
          "line": {
           "color": "red"
          }
         },
         "legendgroup": "Hollow Candlesticks",
         "low": [
          170
         ],
         "name": "Open > Close < Prev Close",
         "open": [
          173.3300018310547
         ],
         "showlegend": false,
         "type": "candlestick",
         "x": [
          "2024-04-30"
         ]
        },
        {
         "close": [
          169.3000030517578
         ],
         "decreasing": {
          "fillcolor": "red",
          "line": {
           "color": "red"
          }
         },
         "high": [
          172.7100067138672
         ],
         "increasing": {
          "fillcolor": "red",
          "line": {
           "color": "red"
          }
         },
         "legendgroup": "Hollow Candlesticks",
         "low": [
          169.11000061035156
         ],
         "name": "Open > Close < Prev Close",
         "open": [
          169.5800018310547
         ],
         "showlegend": false,
         "type": "candlestick",
         "x": [
          "2024-05-01"
         ]
        },
        {
         "close": [
          173.02999877929688
         ],
         "decreasing": {
          "fillcolor": "rgba(255, 0, 0, 0)",
          "line": {
           "color": "green"
          }
         },
         "high": [
          173.4199981689453
         ],
         "increasing": {
          "fillcolor": "rgba(255, 0, 0, 0)",
          "line": {
           "color": "green"
          }
         },
         "legendgroup": "Hollow Candlesticks",
         "low": [
          170.88999938964844
         ],
         "name": "Prev Close < Close > Open",
         "open": [
          172.50999450683594
         ],
         "showlegend": false,
         "type": "candlestick",
         "x": [
          "2024-05-02"
         ]
        },
        {
         "close": [
          183.3800048828125
         ],
         "decreasing": {
          "fillcolor": "green",
          "line": {
           "color": "green"
          }
         },
         "high": [
          187
         ],
         "increasing": {
          "fillcolor": "green",
          "line": {
           "color": "green"
          }
         },
         "legendgroup": "Hollow Candlesticks",
         "low": [
          182.66000366210938
         ],
         "name": "Open > Close > Prev Close",
         "open": [
          186.64999389648438
         ],
         "showlegend": false,
         "type": "candlestick",
         "x": [
          "2024-05-03"
         ]
        },
        {
         "close": [
          181.7100067138672
         ],
         "decreasing": {
          "fillcolor": "red",
          "line": {
           "color": "red"
          }
         },
         "high": [
          184.1999969482422
         ],
         "increasing": {
          "fillcolor": "red",
          "line": {
           "color": "red"
          }
         },
         "legendgroup": "Hollow Candlesticks",
         "low": [
          180.4199981689453
         ],
         "name": "Open > Close < Prev Close",
         "open": [
          182.35000610351562
         ],
         "showlegend": false,
         "type": "candlestick",
         "x": [
          "2024-05-06"
         ]
        },
        {
         "close": [
          182.39999389648438
         ],
         "decreasing": {
          "fillcolor": "green",
          "line": {
           "color": "green"
          }
         },
         "high": [
          184.89999389648438
         ],
         "increasing": {
          "fillcolor": "green",
          "line": {
           "color": "green"
          }
         },
         "legendgroup": "Hollow Candlesticks",
         "low": [
          181.32000732421875
         ],
         "name": "Open > Close > Prev Close",
         "open": [
          183.4499969482422
         ],
         "showlegend": false,
         "type": "candlestick",
         "x": [
          "2024-05-07"
         ]
        },
        {
         "close": [
          182.74000549316406
         ],
         "decreasing": {
          "fillcolor": "green",
          "line": {
           "color": "green"
          }
         },
         "high": [
          183.07000732421875
         ],
         "increasing": {
          "fillcolor": "green",
          "line": {
           "color": "green"
          }
         },
         "legendgroup": "Hollow Candlesticks",
         "low": [
          181.4499969482422
         ],
         "name": "Open > Close > Prev Close",
         "open": [
          182.85000610351562
         ],
         "showlegend": false,
         "type": "candlestick",
         "x": [
          "2024-05-08"
         ]
        },
        {
         "close": [
          184.57000732421875
         ],
         "decreasing": {
          "fillcolor": "rgba(255, 0, 0, 0)",
          "line": {
           "color": "green"
          }
         },
         "high": [
          184.66000366210938
         ],
         "increasing": {
          "fillcolor": "rgba(255, 0, 0, 0)",
          "line": {
           "color": "green"
          }
         },
         "legendgroup": "Hollow Candlesticks",
         "low": [
          182.11000061035156
         ],
         "name": "Prev Close < Close > Open",
         "open": [
          182.55999755859375
         ],
         "showlegend": false,
         "type": "candlestick",
         "x": [
          "2024-05-09"
         ]
        },
        {
         "close": [
          183.0500030517578
         ],
         "decreasing": {
          "fillcolor": "red",
          "line": {
           "color": "red"
          }
         },
         "high": [
          185.08999633789062
         ],
         "increasing": {
          "fillcolor": "red",
          "line": {
           "color": "red"
          }
         },
         "legendgroup": "Hollow Candlesticks",
         "low": [
          182.1300048828125
         ],
         "name": "Open > Close < Prev Close",
         "open": [
          184.89999389648438
         ],
         "showlegend": false,
         "type": "candlestick",
         "x": [
          "2024-05-10"
         ]
        },
        {
         "close": [
          186.27999877929688
         ],
         "decreasing": {
          "fillcolor": "rgba(255, 0, 0, 0)",
          "line": {
           "color": "green"
          }
         },
         "high": [
          187.10000610351562
         ],
         "increasing": {
          "fillcolor": "rgba(255, 0, 0, 0)",
          "line": {
           "color": "green"
          }
         },
         "legendgroup": "Hollow Candlesticks",
         "low": [
          184.6199951171875
         ],
         "name": "Prev Close < Close > Open",
         "open": [
          185.44000244140625
         ],
         "showlegend": false,
         "type": "candlestick",
         "x": [
          "2024-05-13"
         ]
        },
        {
         "close": [
          187.42999267578125
         ],
         "decreasing": {
          "fillcolor": "green",
          "line": {
           "color": "green"
          }
         },
         "high": [
          188.3000030517578
         ],
         "increasing": {
          "fillcolor": "green",
          "line": {
           "color": "green"
          }
         },
         "legendgroup": "Hollow Candlesticks",
         "low": [
          186.2899932861328
         ],
         "name": "Open > Close > Prev Close",
         "open": [
          187.50999450683594
         ],
         "showlegend": false,
         "type": "candlestick",
         "x": [
          "2024-05-14"
         ]
        },
        {
         "close": [
          189.72000122070312
         ],
         "decreasing": {
          "fillcolor": "rgba(255, 0, 0, 0)",
          "line": {
           "color": "green"
          }
         },
         "high": [
          190.64999389648438
         ],
         "increasing": {
          "fillcolor": "rgba(255, 0, 0, 0)",
          "line": {
           "color": "green"
          }
         },
         "legendgroup": "Hollow Candlesticks",
         "low": [
          187.3699951171875
         ],
         "name": "Prev Close < Close > Open",
         "open": [
          187.91000366210938
         ],
         "showlegend": false,
         "type": "candlestick",
         "x": [
          "2024-05-15"
         ]
        },
        {
         "close": [
          189.83999633789062
         ],
         "decreasing": {
          "fillcolor": "green",
          "line": {
           "color": "green"
          }
         },
         "high": [
          191.10000610351562
         ],
         "increasing": {
          "fillcolor": "green",
          "line": {
           "color": "green"
          }
         },
         "legendgroup": "Hollow Candlesticks",
         "low": [
          189.66000366210938
         ],
         "name": "Open > Close > Prev Close",
         "open": [
          190.47000122070312
         ],
         "showlegend": false,
         "type": "candlestick",
         "x": [
          "2024-05-16"
         ]
        },
        {
         "close": [
          189.8699951171875
         ],
         "decreasing": {
          "fillcolor": "rgba(255, 0, 0, 0)",
          "line": {
           "color": "green"
          }
         },
         "high": [
          190.80999755859375
         ],
         "increasing": {
          "fillcolor": "rgba(255, 0, 0, 0)",
          "line": {
           "color": "green"
          }
         },
         "legendgroup": "Hollow Candlesticks",
         "low": [
          189.17999267578125
         ],
         "name": "Prev Close < Close > Open",
         "open": [
          189.50999450683594
         ],
         "showlegend": false,
         "type": "candlestick",
         "x": [
          "2024-05-17"
         ]
        },
        {
         "close": [
          191.0399932861328
         ],
         "decreasing": {
          "fillcolor": "rgba(255, 0, 0, 0)",
          "line": {
           "color": "green"
          }
         },
         "high": [
          191.9199981689453
         ],
         "increasing": {
          "fillcolor": "rgba(255, 0, 0, 0)",
          "line": {
           "color": "green"
          }
         },
         "legendgroup": "Hollow Candlesticks",
         "low": [
          189.00999450683594
         ],
         "name": "Prev Close < Close > Open",
         "open": [
          189.3300018310547
         ],
         "showlegend": false,
         "type": "candlestick",
         "x": [
          "2024-05-20"
         ]
        },
        {
         "close": [
          192.35000610351562
         ],
         "decreasing": {
          "fillcolor": "rgba(255, 0, 0, 0)",
          "line": {
           "color": "green"
          }
         },
         "high": [
          192.72999572753906
         ],
         "increasing": {
          "fillcolor": "rgba(255, 0, 0, 0)",
          "line": {
           "color": "green"
          }
         },
         "legendgroup": "Hollow Candlesticks",
         "low": [
          190.9199981689453
         ],
         "name": "Prev Close < Close > Open",
         "open": [
          191.08999633789062
         ],
         "showlegend": false,
         "type": "candlestick",
         "x": [
          "2024-05-21"
         ]
        },
        {
         "close": [
          190.89999389648438
         ],
         "decreasing": {
          "fillcolor": "red",
          "line": {
           "color": "red"
          }
         },
         "high": [
          192.82000732421875
         ],
         "increasing": {
          "fillcolor": "red",
          "line": {
           "color": "red"
          }
         },
         "legendgroup": "Hollow Candlesticks",
         "low": [
          190.27000427246094
         ],
         "name": "Open > Close < Prev Close",
         "open": [
          192.27000427246094
         ],
         "showlegend": false,
         "type": "candlestick",
         "x": [
          "2024-05-22"
         ]
        },
        {
         "close": [
          186.8800048828125
         ],
         "decreasing": {
          "fillcolor": "red",
          "line": {
           "color": "red"
          }
         },
         "high": [
          191
         ],
         "increasing": {
          "fillcolor": "red",
          "line": {
           "color": "red"
          }
         },
         "legendgroup": "Hollow Candlesticks",
         "low": [
          186.6300048828125
         ],
         "name": "Open > Close < Prev Close",
         "open": [
          190.97999572753906
         ],
         "showlegend": false,
         "type": "candlestick",
         "x": [
          "2024-05-23"
         ]
        },
        {
         "close": [
          189.97999572753906
         ],
         "decreasing": {
          "fillcolor": "rgba(255, 0, 0, 0)",
          "line": {
           "color": "green"
          }
         },
         "high": [
          190.5800018310547
         ],
         "increasing": {
          "fillcolor": "rgba(255, 0, 0, 0)",
          "line": {
           "color": "green"
          }
         },
         "legendgroup": "Hollow Candlesticks",
         "low": [
          188.0399932861328
         ],
         "name": "Prev Close < Close > Open",
         "open": [
          188.82000732421875
         ],
         "showlegend": false,
         "type": "candlestick",
         "x": [
          "2024-05-24"
         ]
        },
        {
         "close": [
          189.99000549316406
         ],
         "decreasing": {
          "fillcolor": "green",
          "line": {
           "color": "green"
          }
         },
         "high": [
          193
         ],
         "increasing": {
          "fillcolor": "green",
          "line": {
           "color": "green"
          }
         },
         "legendgroup": "Hollow Candlesticks",
         "low": [
          189.10000610351562
         ],
         "name": "Open > Close > Prev Close",
         "open": [
          191.50999450683594
         ],
         "showlegend": false,
         "type": "candlestick",
         "x": [
          "2024-05-28"
         ]
        },
        {
         "close": [
          190.2899932861328
         ],
         "decreasing": {
          "fillcolor": "rgba(255, 0, 0, 0)",
          "line": {
           "color": "green"
          }
         },
         "high": [
          192.25
         ],
         "increasing": {
          "fillcolor": "rgba(255, 0, 0, 0)",
          "line": {
           "color": "green"
          }
         },
         "legendgroup": "Hollow Candlesticks",
         "low": [
          189.50999450683594
         ],
         "name": "Prev Close < Close > Open",
         "open": [
          189.61000061035156
         ],
         "showlegend": false,
         "type": "candlestick",
         "x": [
          "2024-05-29"
         ]
        },
        {
         "close": [
          191.2899932861328
         ],
         "decreasing": {
          "fillcolor": "rgba(255, 0, 0, 0)",
          "line": {
           "color": "green"
          }
         },
         "high": [
          192.17999267578125
         ],
         "increasing": {
          "fillcolor": "rgba(255, 0, 0, 0)",
          "line": {
           "color": "green"
          }
         },
         "legendgroup": "Hollow Candlesticks",
         "low": [
          190.6300048828125
         ],
         "name": "Prev Close < Close > Open",
         "open": [
          190.75999450683594
         ],
         "showlegend": false,
         "type": "candlestick",
         "x": [
          "2024-05-30"
         ]
        },
        {
         "close": [
          192.25
         ],
         "decreasing": {
          "fillcolor": "rgba(255, 0, 0, 0)",
          "line": {
           "color": "green"
          }
         },
         "high": [
          192.57000732421875
         ],
         "increasing": {
          "fillcolor": "rgba(255, 0, 0, 0)",
          "line": {
           "color": "green"
          }
         },
         "legendgroup": "Hollow Candlesticks",
         "low": [
          189.91000366210938
         ],
         "name": "Prev Close < Close > Open",
         "open": [
          191.44000244140625
         ],
         "showlegend": false,
         "type": "candlestick",
         "x": [
          "2024-05-31"
         ]
        },
        {
         "close": [
          194.02999877929688
         ],
         "decreasing": {
          "fillcolor": "rgba(255, 0, 0, 0)",
          "line": {
           "color": "green"
          }
         },
         "high": [
          194.99000549316406
         ],
         "increasing": {
          "fillcolor": "rgba(255, 0, 0, 0)",
          "line": {
           "color": "green"
          }
         },
         "legendgroup": "Hollow Candlesticks",
         "low": [
          192.52000427246094
         ],
         "name": "Prev Close < Close > Open",
         "open": [
          192.89999389648438
         ],
         "showlegend": false,
         "type": "candlestick",
         "x": [
          "2024-06-03"
         ]
        },
        {
         "close": [
          194.35000610351562
         ],
         "decreasing": {
          "fillcolor": "green",
          "line": {
           "color": "green"
          }
         },
         "high": [
          195.32000732421875
         ],
         "increasing": {
          "fillcolor": "green",
          "line": {
           "color": "green"
          }
         },
         "legendgroup": "Hollow Candlesticks",
         "low": [
          193.02999877929688
         ],
         "name": "Open > Close > Prev Close",
         "open": [
          194.63999938964844
         ],
         "showlegend": false,
         "type": "candlestick",
         "x": [
          "2024-06-04"
         ]
        },
        {
         "close": [
          195.8699951171875
         ],
         "decreasing": {
          "fillcolor": "rgba(255, 0, 0, 0)",
          "line": {
           "color": "green"
          }
         },
         "high": [
          196.89999389648438
         ],
         "increasing": {
          "fillcolor": "rgba(255, 0, 0, 0)",
          "line": {
           "color": "green"
          }
         },
         "legendgroup": "Hollow Candlesticks",
         "low": [
          194.8699951171875
         ],
         "name": "Prev Close < Close > Open",
         "open": [
          195.39999389648438
         ],
         "showlegend": false,
         "type": "candlestick",
         "x": [
          "2024-06-05"
         ]
        },
        {
         "close": [
          194.47999572753906
         ],
         "decreasing": {
          "fillcolor": "red",
          "line": {
           "color": "red"
          }
         },
         "high": [
          196.5
         ],
         "increasing": {
          "fillcolor": "red",
          "line": {
           "color": "red"
          }
         },
         "legendgroup": "Hollow Candlesticks",
         "low": [
          194.1699981689453
         ],
         "name": "Open > Close < Prev Close",
         "open": [
          195.69000244140625
         ],
         "showlegend": false,
         "type": "candlestick",
         "x": [
          "2024-06-06"
         ]
        },
        {
         "close": [
          196.88999938964844
         ],
         "decreasing": {
          "fillcolor": "rgba(255, 0, 0, 0)",
          "line": {
           "color": "green"
          }
         },
         "high": [
          196.94000244140625
         ],
         "increasing": {
          "fillcolor": "rgba(255, 0, 0, 0)",
          "line": {
           "color": "green"
          }
         },
         "legendgroup": "Hollow Candlesticks",
         "low": [
          194.13999938964844
         ],
         "name": "Prev Close < Close > Open",
         "open": [
          194.64999389648438
         ],
         "showlegend": false,
         "type": "candlestick",
         "x": [
          "2024-06-07"
         ]
        },
        {
         "close": [
          193.1199951171875
         ],
         "decreasing": {
          "fillcolor": "red",
          "line": {
           "color": "red"
          }
         },
         "high": [
          197.3000030517578
         ],
         "increasing": {
          "fillcolor": "red",
          "line": {
           "color": "red"
          }
         },
         "legendgroup": "Hollow Candlesticks",
         "low": [
          192.14999389648438
         ],
         "name": "Open > Close < Prev Close",
         "open": [
          196.89999389648438
         ],
         "showlegend": false,
         "type": "candlestick",
         "x": [
          "2024-06-10"
         ]
        },
        {
         "close": [
          207.14999389648438
         ],
         "decreasing": {
          "fillcolor": "rgba(255, 0, 0, 0)",
          "line": {
           "color": "green"
          }
         },
         "high": [
          207.16000366210938
         ],
         "increasing": {
          "fillcolor": "rgba(255, 0, 0, 0)",
          "line": {
           "color": "green"
          }
         },
         "legendgroup": "Hollow Candlesticks",
         "low": [
          193.6300048828125
         ],
         "name": "Prev Close < Close > Open",
         "open": [
          193.64999389648438
         ],
         "showlegend": false,
         "type": "candlestick",
         "x": [
          "2024-06-11"
         ]
        },
        {
         "close": [
          213.07000732421875
         ],
         "decreasing": {
          "fillcolor": "rgba(255, 0, 0, 0)",
          "line": {
           "color": "green"
          }
         },
         "high": [
          220.1999969482422
         ],
         "increasing": {
          "fillcolor": "rgba(255, 0, 0, 0)",
          "line": {
           "color": "green"
          }
         },
         "legendgroup": "Hollow Candlesticks",
         "low": [
          206.89999389648438
         ],
         "name": "Prev Close < Close > Open",
         "open": [
          207.3699951171875
         ],
         "showlegend": false,
         "type": "candlestick",
         "x": [
          "2024-06-12"
         ]
        },
        {
         "close": [
          214.24000549316406
         ],
         "decreasing": {
          "fillcolor": "green",
          "line": {
           "color": "green"
          }
         },
         "high": [
          216.75
         ],
         "increasing": {
          "fillcolor": "green",
          "line": {
           "color": "green"
          }
         },
         "legendgroup": "Hollow Candlesticks",
         "low": [
          211.60000610351562
         ],
         "name": "Open > Close > Prev Close",
         "open": [
          214.74000549316406
         ],
         "showlegend": false,
         "type": "candlestick",
         "x": [
          "2024-06-13"
         ]
        },
        {
         "close": [
          212.49000549316406
         ],
         "decreasing": {
          "fillcolor": "red",
          "line": {
           "color": "red"
          }
         },
         "high": [
          215.1699981689453
         ],
         "increasing": {
          "fillcolor": "red",
          "line": {
           "color": "red"
          }
         },
         "legendgroup": "Hollow Candlesticks",
         "low": [
          211.3000030517578
         ],
         "name": "Open > Close < Prev Close",
         "open": [
          213.85000610351562
         ],
         "showlegend": false,
         "type": "candlestick",
         "x": [
          "2024-06-14"
         ]
        },
        {
         "close": [
          216.6699981689453
         ],
         "decreasing": {
          "fillcolor": "rgba(255, 0, 0, 0)",
          "line": {
           "color": "green"
          }
         },
         "high": [
          218.9499969482422
         ],
         "increasing": {
          "fillcolor": "rgba(255, 0, 0, 0)",
          "line": {
           "color": "green"
          }
         },
         "legendgroup": "Hollow Candlesticks",
         "low": [
          212.72000122070312
         ],
         "name": "Prev Close < Close > Open",
         "open": [
          213.3699951171875
         ],
         "showlegend": false,
         "type": "candlestick",
         "x": [
          "2024-06-17"
         ]
        },
        {
         "close": [
          214.2899932861328
         ],
         "decreasing": {
          "fillcolor": "red",
          "line": {
           "color": "red"
          }
         },
         "high": [
          218.6300048828125
         ],
         "increasing": {
          "fillcolor": "red",
          "line": {
           "color": "red"
          }
         },
         "legendgroup": "Hollow Candlesticks",
         "low": [
          213
         ],
         "name": "Open > Close < Prev Close",
         "open": [
          217.58999633789062
         ],
         "showlegend": false,
         "type": "candlestick",
         "x": [
          "2024-06-18"
         ]
        },
        {
         "close": [
          209.67999267578125
         ],
         "decreasing": {
          "fillcolor": "red",
          "line": {
           "color": "red"
          }
         },
         "high": [
          214.24000549316406
         ],
         "increasing": {
          "fillcolor": "red",
          "line": {
           "color": "red"
          }
         },
         "legendgroup": "Hollow Candlesticks",
         "low": [
          208.85000610351562
         ],
         "name": "Open > Close < Prev Close",
         "open": [
          213.92999267578125
         ],
         "showlegend": false,
         "type": "candlestick",
         "x": [
          "2024-06-20"
         ]
        },
        {
         "close": [
          207.49000549316406
         ],
         "decreasing": {
          "fillcolor": "red",
          "line": {
           "color": "red"
          }
         },
         "high": [
          211.88999938964844
         ],
         "increasing": {
          "fillcolor": "red",
          "line": {
           "color": "red"
          }
         },
         "legendgroup": "Hollow Candlesticks",
         "low": [
          207.11000061035156
         ],
         "name": "Open > Close < Prev Close",
         "open": [
          210.38999938964844
         ],
         "showlegend": false,
         "type": "candlestick",
         "x": [
          "2024-06-21"
         ]
        },
        {
         "close": [
          208.13999938964844
         ],
         "decreasing": {
          "fillcolor": "rgba(255, 0, 0, 0)",
          "line": {
           "color": "green"
          }
         },
         "high": [
          212.6999969482422
         ],
         "increasing": {
          "fillcolor": "rgba(255, 0, 0, 0)",
          "line": {
           "color": "green"
          }
         },
         "legendgroup": "Hollow Candlesticks",
         "low": [
          206.58999633789062
         ],
         "name": "Prev Close < Close > Open",
         "open": [
          207.72000122070312
         ],
         "showlegend": false,
         "type": "candlestick",
         "x": [
          "2024-06-24"
         ]
        },
        {
         "close": [
          209.07000732421875
         ],
         "decreasing": {
          "fillcolor": "green",
          "line": {
           "color": "green"
          }
         },
         "high": [
          211.3800048828125
         ],
         "increasing": {
          "fillcolor": "green",
          "line": {
           "color": "green"
          }
         },
         "legendgroup": "Hollow Candlesticks",
         "low": [
          208.61000061035156
         ],
         "name": "Open > Close > Prev Close",
         "open": [
          209.14999389648438
         ],
         "showlegend": false,
         "type": "candlestick",
         "x": [
          "2024-06-25"
         ]
        },
        {
         "close": [
          213.25
         ],
         "decreasing": {
          "fillcolor": "rgba(255, 0, 0, 0)",
          "line": {
           "color": "green"
          }
         },
         "high": [
          214.86000061035156
         ],
         "increasing": {
          "fillcolor": "rgba(255, 0, 0, 0)",
          "line": {
           "color": "green"
          }
         },
         "legendgroup": "Hollow Candlesticks",
         "low": [
          210.63999938964844
         ],
         "name": "Prev Close < Close > Open",
         "open": [
          211.5
         ],
         "showlegend": false,
         "type": "candlestick",
         "x": [
          "2024-06-26"
         ]
        },
        {
         "close": [
          214.10000610351562
         ],
         "decreasing": {
          "fillcolor": "green",
          "line": {
           "color": "green"
          }
         },
         "high": [
          215.74000549316406
         ],
         "increasing": {
          "fillcolor": "green",
          "line": {
           "color": "green"
          }
         },
         "legendgroup": "Hollow Candlesticks",
         "low": [
          212.35000610351562
         ],
         "name": "Open > Close > Prev Close",
         "open": [
          214.69000244140625
         ],
         "showlegend": false,
         "type": "candlestick",
         "x": [
          "2024-06-27"
         ]
        },
        {
         "close": [
          210.6199951171875
         ],
         "decreasing": {
          "fillcolor": "red",
          "line": {
           "color": "red"
          }
         },
         "high": [
          216.07000732421875
         ],
         "increasing": {
          "fillcolor": "red",
          "line": {
           "color": "red"
          }
         },
         "legendgroup": "Hollow Candlesticks",
         "low": [
          210.3000030517578
         ],
         "name": "Open > Close < Prev Close",
         "open": [
          215.77000427246094
         ],
         "showlegend": false,
         "type": "candlestick",
         "x": [
          "2024-06-28"
         ]
        },
        {
         "close": [
          216.75
         ],
         "decreasing": {
          "fillcolor": "rgba(255, 0, 0, 0)",
          "line": {
           "color": "green"
          }
         },
         "high": [
          217.50999450683594
         ],
         "increasing": {
          "fillcolor": "rgba(255, 0, 0, 0)",
          "line": {
           "color": "green"
          }
         },
         "legendgroup": "Hollow Candlesticks",
         "low": [
          211.9199981689453
         ],
         "name": "Prev Close < Close > Open",
         "open": [
          212.08999633789062
         ],
         "showlegend": false,
         "type": "candlestick",
         "x": [
          "2024-07-01"
         ]
        },
        {
         "close": [
          220.27000427246094
         ],
         "decreasing": {
          "fillcolor": "rgba(255, 0, 0, 0)",
          "line": {
           "color": "green"
          }
         },
         "high": [
          220.3800048828125
         ],
         "increasing": {
          "fillcolor": "rgba(255, 0, 0, 0)",
          "line": {
           "color": "green"
          }
         },
         "legendgroup": "Hollow Candlesticks",
         "low": [
          215.10000610351562
         ],
         "name": "Prev Close < Close > Open",
         "open": [
          216.14999389648438
         ],
         "showlegend": false,
         "type": "candlestick",
         "x": [
          "2024-07-02"
         ]
        },
        {
         "close": [
          221.5500030517578
         ],
         "decreasing": {
          "fillcolor": "rgba(255, 0, 0, 0)",
          "line": {
           "color": "green"
          }
         },
         "high": [
          221.5500030517578
         ],
         "increasing": {
          "fillcolor": "rgba(255, 0, 0, 0)",
          "line": {
           "color": "green"
          }
         },
         "legendgroup": "Hollow Candlesticks",
         "low": [
          219.02999877929688
         ],
         "name": "Prev Close < Close > Open",
         "open": [
          220
         ],
         "showlegend": false,
         "type": "candlestick",
         "x": [
          "2024-07-03"
         ]
        },
        {
         "close": [
          226.33999633789062
         ],
         "decreasing": {
          "fillcolor": "rgba(255, 0, 0, 0)",
          "line": {
           "color": "green"
          }
         },
         "high": [
          226.4499969482422
         ],
         "increasing": {
          "fillcolor": "rgba(255, 0, 0, 0)",
          "line": {
           "color": "green"
          }
         },
         "legendgroup": "Hollow Candlesticks",
         "low": [
          221.64999389648438
         ],
         "name": "Prev Close < Close > Open",
         "open": [
          221.64999389648438
         ],
         "showlegend": false,
         "type": "candlestick",
         "x": [
          "2024-07-05"
         ]
        },
        {
         "close": [
          227.82000732421875
         ],
         "decreasing": {
          "fillcolor": "rgba(255, 0, 0, 0)",
          "line": {
           "color": "green"
          }
         },
         "high": [
          227.85000610351562
         ],
         "increasing": {
          "fillcolor": "rgba(255, 0, 0, 0)",
          "line": {
           "color": "green"
          }
         },
         "legendgroup": "Hollow Candlesticks",
         "low": [
          223.25
         ],
         "name": "Prev Close < Close > Open",
         "open": [
          227.08999633789062
         ],
         "showlegend": false,
         "type": "candlestick",
         "x": [
          "2024-07-08"
         ]
        },
        {
         "close": [
          228.67999267578125
         ],
         "decreasing": {
          "fillcolor": "rgba(255, 0, 0, 0)",
          "line": {
           "color": "green"
          }
         },
         "high": [
          229.39999389648438
         ],
         "increasing": {
          "fillcolor": "rgba(255, 0, 0, 0)",
          "line": {
           "color": "green"
          }
         },
         "legendgroup": "Hollow Candlesticks",
         "low": [
          226.3699951171875
         ],
         "name": "Prev Close < Close > Open",
         "open": [
          227.92999267578125
         ],
         "showlegend": false,
         "type": "candlestick",
         "x": [
          "2024-07-09"
         ]
        },
        {
         "close": [
          232.97999572753906
         ],
         "decreasing": {
          "fillcolor": "rgba(255, 0, 0, 0)",
          "line": {
           "color": "green"
          }
         },
         "high": [
          233.0800018310547
         ],
         "increasing": {
          "fillcolor": "rgba(255, 0, 0, 0)",
          "line": {
           "color": "green"
          }
         },
         "legendgroup": "Hollow Candlesticks",
         "low": [
          229.25
         ],
         "name": "Prev Close < Close > Open",
         "open": [
          229.3000030517578
         ],
         "showlegend": false,
         "type": "candlestick",
         "x": [
          "2024-07-10"
         ]
        },
        {
         "close": [
          227.57000732421875
         ],
         "decreasing": {
          "fillcolor": "red",
          "line": {
           "color": "red"
          }
         },
         "high": [
          232.38999938964844
         ],
         "increasing": {
          "fillcolor": "red",
          "line": {
           "color": "red"
          }
         },
         "legendgroup": "Hollow Candlesticks",
         "low": [
          225.77000427246094
         ],
         "name": "Open > Close < Prev Close",
         "open": [
          231.38999938964844
         ],
         "showlegend": false,
         "type": "candlestick",
         "x": [
          "2024-07-11"
         ]
        },
        {
         "close": [
          230.5399932861328
         ],
         "decreasing": {
          "fillcolor": "rgba(255, 0, 0, 0)",
          "line": {
           "color": "green"
          }
         },
         "high": [
          232.63999938964844
         ],
         "increasing": {
          "fillcolor": "rgba(255, 0, 0, 0)",
          "line": {
           "color": "green"
          }
         },
         "legendgroup": "Hollow Candlesticks",
         "low": [
          228.67999267578125
         ],
         "name": "Prev Close < Close > Open",
         "open": [
          228.9199981689453
         ],
         "showlegend": false,
         "type": "candlestick",
         "x": [
          "2024-07-12"
         ]
        },
        {
         "close": [
          234.39999389648438
         ],
         "decreasing": {
          "fillcolor": "green",
          "line": {
           "color": "green"
          }
         },
         "high": [
          237.22999572753906
         ],
         "increasing": {
          "fillcolor": "green",
          "line": {
           "color": "green"
          }
         },
         "legendgroup": "Hollow Candlesticks",
         "low": [
          233.08999633789062
         ],
         "name": "Open > Close > Prev Close",
         "open": [
          236.47999572753906
         ],
         "showlegend": false,
         "type": "candlestick",
         "x": [
          "2024-07-15"
         ]
        },
        {
         "close": [
          234.82000732421875
         ],
         "decreasing": {
          "fillcolor": "green",
          "line": {
           "color": "green"
          }
         },
         "high": [
          236.27000427246094
         ],
         "increasing": {
          "fillcolor": "green",
          "line": {
           "color": "green"
          }
         },
         "legendgroup": "Hollow Candlesticks",
         "low": [
          232.3300018310547
         ],
         "name": "Open > Close > Prev Close",
         "open": [
          235
         ],
         "showlegend": false,
         "type": "candlestick",
         "x": [
          "2024-07-16"
         ]
        },
        {
         "close": [
          228.8800048828125
         ],
         "decreasing": {
          "fillcolor": "red",
          "line": {
           "color": "red"
          }
         },
         "high": [
          231.4600067138672
         ],
         "increasing": {
          "fillcolor": "red",
          "line": {
           "color": "red"
          }
         },
         "legendgroup": "Hollow Candlesticks",
         "low": [
          226.63999938964844
         ],
         "name": "Open > Close < Prev Close",
         "open": [
          229.4499969482422
         ],
         "showlegend": false,
         "type": "candlestick",
         "x": [
          "2024-07-17"
         ]
        },
        {
         "close": [
          224.17999267578125
         ],
         "decreasing": {
          "fillcolor": "red",
          "line": {
           "color": "red"
          }
         },
         "high": [
          230.44000244140625
         ],
         "increasing": {
          "fillcolor": "red",
          "line": {
           "color": "red"
          }
         },
         "legendgroup": "Hollow Candlesticks",
         "low": [
          222.27000427246094
         ],
         "name": "Open > Close < Prev Close",
         "open": [
          230.27999877929688
         ],
         "showlegend": false,
         "type": "candlestick",
         "x": [
          "2024-07-18"
         ]
        },
        {
         "close": [
          224.30999755859375
         ],
         "decreasing": {
          "fillcolor": "green",
          "line": {
           "color": "green"
          }
         },
         "high": [
          226.8000030517578
         ],
         "increasing": {
          "fillcolor": "green",
          "line": {
           "color": "green"
          }
         },
         "legendgroup": "Hollow Candlesticks",
         "low": [
          223.27999877929688
         ],
         "name": "Open > Close > Prev Close",
         "open": [
          224.82000732421875
         ],
         "showlegend": false,
         "type": "candlestick",
         "x": [
          "2024-07-19"
         ]
        },
        {
         "close": [
          223.9600067138672
         ],
         "decreasing": {
          "fillcolor": "red",
          "line": {
           "color": "red"
          }
         },
         "high": [
          227.77999877929688
         ],
         "increasing": {
          "fillcolor": "red",
          "line": {
           "color": "red"
          }
         },
         "legendgroup": "Hollow Candlesticks",
         "low": [
          223.08999633789062
         ],
         "name": "Open > Close < Prev Close",
         "open": [
          227.00999450683594
         ],
         "showlegend": false,
         "type": "candlestick",
         "x": [
          "2024-07-22"
         ]
        },
        {
         "close": [
          225.00999450683594
         ],
         "decreasing": {
          "fillcolor": "rgba(255, 0, 0, 0)",
          "line": {
           "color": "green"
          }
         },
         "high": [
          226.94000244140625
         ],
         "increasing": {
          "fillcolor": "rgba(255, 0, 0, 0)",
          "line": {
           "color": "green"
          }
         },
         "legendgroup": "Hollow Candlesticks",
         "low": [
          222.67999267578125
         ],
         "name": "Prev Close < Close > Open",
         "open": [
          224.3699951171875
         ],
         "showlegend": false,
         "type": "candlestick",
         "x": [
          "2024-07-23"
         ]
        },
        {
         "close": [
          218.5399932861328
         ],
         "decreasing": {
          "fillcolor": "red",
          "line": {
           "color": "red"
          }
         },
         "high": [
          224.8000030517578
         ],
         "increasing": {
          "fillcolor": "red",
          "line": {
           "color": "red"
          }
         },
         "legendgroup": "Hollow Candlesticks",
         "low": [
          217.1300048828125
         ],
         "name": "Open > Close < Prev Close",
         "open": [
          224
         ],
         "showlegend": false,
         "type": "candlestick",
         "x": [
          "2024-07-24"
         ]
        },
        {
         "close": [
          217.49000549316406
         ],
         "decreasing": {
          "fillcolor": "red",
          "line": {
           "color": "red"
          }
         },
         "high": [
          220.85000610351562
         ],
         "increasing": {
          "fillcolor": "red",
          "line": {
           "color": "red"
          }
         },
         "legendgroup": "Hollow Candlesticks",
         "low": [
          214.6199951171875
         ],
         "name": "Open > Close < Prev Close",
         "open": [
          218.92999267578125
         ],
         "showlegend": false,
         "type": "candlestick",
         "x": [
          "2024-07-25"
         ]
        },
        {
         "close": [
          217.9600067138672
         ],
         "decreasing": {
          "fillcolor": "green",
          "line": {
           "color": "green"
          }
         },
         "high": [
          219.49000549316406
         ],
         "increasing": {
          "fillcolor": "green",
          "line": {
           "color": "green"
          }
         },
         "legendgroup": "Hollow Candlesticks",
         "low": [
          216.00999450683594
         ],
         "name": "Open > Close > Prev Close",
         "open": [
          218.6999969482422
         ],
         "showlegend": false,
         "type": "candlestick",
         "x": [
          "2024-07-26"
         ]
        },
        {
         "close": [
          218.24000549316406
         ],
         "decreasing": {
          "fillcolor": "rgba(255, 0, 0, 0)",
          "line": {
           "color": "green"
          }
         },
         "high": [
          219.3000030517578
         ],
         "increasing": {
          "fillcolor": "rgba(255, 0, 0, 0)",
          "line": {
           "color": "green"
          }
         },
         "legendgroup": "Hollow Candlesticks",
         "low": [
          215.75
         ],
         "name": "Prev Close < Close > Open",
         "open": [
          216.9600067138672
         ],
         "showlegend": false,
         "type": "candlestick",
         "x": [
          "2024-07-29"
         ]
        },
        {
         "close": [
          218.8000030517578
         ],
         "decreasing": {
          "fillcolor": "green",
          "line": {
           "color": "green"
          }
         },
         "high": [
          220.3300018310547
         ],
         "increasing": {
          "fillcolor": "green",
          "line": {
           "color": "green"
          }
         },
         "legendgroup": "Hollow Candlesticks",
         "low": [
          216.1199951171875
         ],
         "name": "Open > Close > Prev Close",
         "open": [
          219.19000244140625
         ],
         "showlegend": false,
         "type": "candlestick",
         "x": [
          "2024-07-30"
         ]
        },
        {
         "close": [
          222.0800018310547
         ],
         "decreasing": {
          "fillcolor": "rgba(255, 0, 0, 0)",
          "line": {
           "color": "green"
          }
         },
         "high": [
          223.82000732421875
         ],
         "increasing": {
          "fillcolor": "rgba(255, 0, 0, 0)",
          "line": {
           "color": "green"
          }
         },
         "legendgroup": "Hollow Candlesticks",
         "low": [
          220.6300048828125
         ],
         "name": "Prev Close < Close > Open",
         "open": [
          221.44000244140625
         ],
         "showlegend": false,
         "type": "candlestick",
         "x": [
          "2024-07-31"
         ]
        },
        {
         "close": [
          218.36000061035156
         ],
         "decreasing": {
          "fillcolor": "red",
          "line": {
           "color": "red"
          }
         },
         "high": [
          224.47999572753906
         ],
         "increasing": {
          "fillcolor": "red",
          "line": {
           "color": "red"
          }
         },
         "legendgroup": "Hollow Candlesticks",
         "low": [
          217.02000427246094
         ],
         "name": "Open > Close < Prev Close",
         "open": [
          224.3699951171875
         ],
         "showlegend": false,
         "type": "candlestick",
         "x": [
          "2024-08-01"
         ]
        },
        {
         "close": [
          219.86000061035156
         ],
         "decreasing": {
          "fillcolor": "rgba(255, 0, 0, 0)",
          "line": {
           "color": "green"
          }
         },
         "high": [
          225.60000610351562
         ],
         "increasing": {
          "fillcolor": "rgba(255, 0, 0, 0)",
          "line": {
           "color": "green"
          }
         },
         "legendgroup": "Hollow Candlesticks",
         "low": [
          217.7100067138672
         ],
         "name": "Prev Close < Close > Open",
         "open": [
          219.14999389648438
         ],
         "showlegend": false,
         "type": "candlestick",
         "x": [
          "2024-08-02"
         ]
        },
        {
         "close": [
          209.27000427246094
         ],
         "decreasing": {
          "fillcolor": "rgba(255, 0, 0, 0)",
          "line": {
           "color": "red"
          }
         },
         "high": [
          213.5
         ],
         "increasing": {
          "fillcolor": "rgba(255, 0, 0, 0)",
          "line": {
           "color": "red"
          }
         },
         "legendgroup": "Hollow Candlesticks",
         "low": [
          196
         ],
         "name": "Prev Close > Close > Open",
         "open": [
          199.08999633789062
         ],
         "showlegend": false,
         "type": "candlestick",
         "x": [
          "2024-08-05"
         ]
        },
        {
         "close": [
          207.22999572753906
         ],
         "decreasing": {
          "fillcolor": "rgba(255, 0, 0, 0)",
          "line": {
           "color": "red"
          }
         },
         "high": [
          209.99000549316406
         ],
         "increasing": {
          "fillcolor": "rgba(255, 0, 0, 0)",
          "line": {
           "color": "red"
          }
         },
         "legendgroup": "Hollow Candlesticks",
         "low": [
          201.07000732421875
         ],
         "name": "Prev Close > Close > Open",
         "open": [
          205.3000030517578
         ],
         "showlegend": false,
         "type": "candlestick",
         "x": [
          "2024-08-06"
         ]
        },
        {
         "close": [
          209.82000732421875
         ],
         "decreasing": {
          "fillcolor": "rgba(255, 0, 0, 0)",
          "line": {
           "color": "green"
          }
         },
         "high": [
          213.63999938964844
         ],
         "increasing": {
          "fillcolor": "rgba(255, 0, 0, 0)",
          "line": {
           "color": "green"
          }
         },
         "legendgroup": "Hollow Candlesticks",
         "low": [
          206.38999938964844
         ],
         "name": "Prev Close < Close > Open",
         "open": [
          206.89999389648438
         ],
         "showlegend": false,
         "type": "candlestick",
         "x": [
          "2024-08-07"
         ]
        },
        {
         "close": [
          213.30999755859375
         ],
         "decreasing": {
          "fillcolor": "rgba(255, 0, 0, 0)",
          "line": {
           "color": "green"
          }
         },
         "high": [
          214.1999969482422
         ],
         "increasing": {
          "fillcolor": "rgba(255, 0, 0, 0)",
          "line": {
           "color": "green"
          }
         },
         "legendgroup": "Hollow Candlesticks",
         "low": [
          208.8300018310547
         ],
         "name": "Prev Close < Close > Open",
         "open": [
          213.11000061035156
         ],
         "showlegend": false,
         "type": "candlestick",
         "x": [
          "2024-08-08"
         ]
        },
        {
         "close": [
          216.24000549316406
         ],
         "decreasing": {
          "fillcolor": "rgba(255, 0, 0, 0)",
          "line": {
           "color": "green"
          }
         },
         "high": [
          216.77999877929688
         ],
         "increasing": {
          "fillcolor": "rgba(255, 0, 0, 0)",
          "line": {
           "color": "green"
          }
         },
         "legendgroup": "Hollow Candlesticks",
         "low": [
          211.97000122070312
         ],
         "name": "Prev Close < Close > Open",
         "open": [
          212.10000610351562
         ],
         "showlegend": false,
         "type": "candlestick",
         "x": [
          "2024-08-09"
         ]
        },
        {
         "close": [
          217.52999877929688
         ],
         "decreasing": {
          "fillcolor": "rgba(255, 0, 0, 0)",
          "line": {
           "color": "green"
          }
         },
         "high": [
          219.50999450683594
         ],
         "increasing": {
          "fillcolor": "rgba(255, 0, 0, 0)",
          "line": {
           "color": "green"
          }
         },
         "legendgroup": "Hollow Candlesticks",
         "low": [
          215.60000610351562
         ],
         "name": "Prev Close < Close > Open",
         "open": [
          216.07000732421875
         ],
         "showlegend": false,
         "type": "candlestick",
         "x": [
          "2024-08-12"
         ]
        },
        {
         "close": [
          221.27000427246094
         ],
         "decreasing": {
          "fillcolor": "rgba(255, 0, 0, 0)",
          "line": {
           "color": "green"
          }
         },
         "high": [
          221.88999938964844
         ],
         "increasing": {
          "fillcolor": "rgba(255, 0, 0, 0)",
          "line": {
           "color": "green"
          }
         },
         "legendgroup": "Hollow Candlesticks",
         "low": [
          219.00999450683594
         ],
         "name": "Prev Close < Close > Open",
         "open": [
          219.00999450683594
         ],
         "showlegend": false,
         "type": "candlestick",
         "x": [
          "2024-08-13"
         ]
        },
        {
         "close": [
          221.72000122070312
         ],
         "decreasing": {
          "fillcolor": "rgba(255, 0, 0, 0)",
          "line": {
           "color": "green"
          }
         },
         "high": [
          223.02999877929688
         ],
         "increasing": {
          "fillcolor": "rgba(255, 0, 0, 0)",
          "line": {
           "color": "green"
          }
         },
         "legendgroup": "Hollow Candlesticks",
         "low": [
          219.6999969482422
         ],
         "name": "Prev Close < Close > Open",
         "open": [
          220.57000732421875
         ],
         "showlegend": false,
         "type": "candlestick",
         "x": [
          "2024-08-14"
         ]
        },
        {
         "close": [
          224.72000122070312
         ],
         "decreasing": {
          "fillcolor": "rgba(255, 0, 0, 0)",
          "line": {
           "color": "green"
          }
         },
         "high": [
          225.35000610351562
         ],
         "increasing": {
          "fillcolor": "rgba(255, 0, 0, 0)",
          "line": {
           "color": "green"
          }
         },
         "legendgroup": "Hollow Candlesticks",
         "low": [
          222.75999450683594
         ],
         "name": "Prev Close < Close > Open",
         "open": [
          224.60000610351562
         ],
         "showlegend": false,
         "type": "candlestick",
         "x": [
          "2024-08-15"
         ]
        },
        {
         "close": [
          226.0500030517578
         ],
         "decreasing": {
          "fillcolor": "rgba(255, 0, 0, 0)",
          "line": {
           "color": "green"
          }
         },
         "high": [
          226.8300018310547
         ],
         "increasing": {
          "fillcolor": "rgba(255, 0, 0, 0)",
          "line": {
           "color": "green"
          }
         },
         "legendgroup": "Hollow Candlesticks",
         "low": [
          223.64999389648438
         ],
         "name": "Prev Close < Close > Open",
         "open": [
          223.9199981689453
         ],
         "showlegend": false,
         "type": "candlestick",
         "x": [
          "2024-08-16"
         ]
        },
        {
         "close": [
          225.88999938964844
         ],
         "decreasing": {
          "fillcolor": "rgba(255, 0, 0, 0)",
          "line": {
           "color": "red"
          }
         },
         "high": [
          225.99000549316406
         ],
         "increasing": {
          "fillcolor": "rgba(255, 0, 0, 0)",
          "line": {
           "color": "red"
          }
         },
         "legendgroup": "Hollow Candlesticks",
         "low": [
          223.0399932861328
         ],
         "name": "Prev Close > Close > Open",
         "open": [
          225.72000122070312
         ],
         "showlegend": false,
         "type": "candlestick",
         "x": [
          "2024-08-19"
         ]
        },
        {
         "close": [
          226.50999450683594
         ],
         "decreasing": {
          "fillcolor": "rgba(255, 0, 0, 0)",
          "line": {
           "color": "green"
          }
         },
         "high": [
          227.1699981689453
         ],
         "increasing": {
          "fillcolor": "rgba(255, 0, 0, 0)",
          "line": {
           "color": "green"
          }
         },
         "legendgroup": "Hollow Candlesticks",
         "low": [
          225.4499969482422
         ],
         "name": "Prev Close < Close > Open",
         "open": [
          225.77000427246094
         ],
         "showlegend": false,
         "type": "candlestick",
         "x": [
          "2024-08-20"
         ]
        },
        {
         "close": [
          226.39999389648438
         ],
         "decreasing": {
          "fillcolor": "red",
          "line": {
           "color": "red"
          }
         },
         "high": [
          227.97999572753906
         ],
         "increasing": {
          "fillcolor": "red",
          "line": {
           "color": "red"
          }
         },
         "legendgroup": "Hollow Candlesticks",
         "low": [
          225.0500030517578
         ],
         "name": "Open > Close < Prev Close",
         "open": [
          226.52000427246094
         ],
         "showlegend": false,
         "type": "candlestick",
         "x": [
          "2024-08-21"
         ]
        },
        {
         "close": [
          224.52999877929688
         ],
         "decreasing": {
          "fillcolor": "red",
          "line": {
           "color": "red"
          }
         },
         "high": [
          228.33999633789062
         ],
         "increasing": {
          "fillcolor": "red",
          "line": {
           "color": "red"
          }
         },
         "legendgroup": "Hollow Candlesticks",
         "low": [
          223.89999389648438
         ],
         "name": "Open > Close < Prev Close",
         "open": [
          227.7899932861328
         ],
         "showlegend": false,
         "type": "candlestick",
         "x": [
          "2024-08-22"
         ]
        },
        {
         "close": [
          226.83999633789062
         ],
         "decreasing": {
          "fillcolor": "rgba(255, 0, 0, 0)",
          "line": {
           "color": "green"
          }
         },
         "high": [
          228.22000122070312
         ],
         "increasing": {
          "fillcolor": "rgba(255, 0, 0, 0)",
          "line": {
           "color": "green"
          }
         },
         "legendgroup": "Hollow Candlesticks",
         "low": [
          224.3300018310547
         ],
         "name": "Prev Close < Close > Open",
         "open": [
          225.66000366210938
         ],
         "showlegend": false,
         "type": "candlestick",
         "x": [
          "2024-08-23"
         ]
        },
        {
         "close": [
          227.17999267578125
         ],
         "decreasing": {
          "fillcolor": "rgba(255, 0, 0, 0)",
          "line": {
           "color": "green"
          }
         },
         "high": [
          227.27999877929688
         ],
         "increasing": {
          "fillcolor": "rgba(255, 0, 0, 0)",
          "line": {
           "color": "green"
          }
         },
         "legendgroup": "Hollow Candlesticks",
         "low": [
          223.88999938964844
         ],
         "name": "Prev Close < Close > Open",
         "open": [
          226.75999450683594
         ],
         "showlegend": false,
         "type": "candlestick",
         "x": [
          "2024-08-26"
         ]
        },
        {
         "close": [
          228.02999877929688
         ],
         "decreasing": {
          "fillcolor": "rgba(255, 0, 0, 0)",
          "line": {
           "color": "green"
          }
         },
         "high": [
          228.85000610351562
         ],
         "increasing": {
          "fillcolor": "rgba(255, 0, 0, 0)",
          "line": {
           "color": "green"
          }
         },
         "legendgroup": "Hollow Candlesticks",
         "low": [
          224.88999938964844
         ],
         "name": "Prev Close < Close > Open",
         "open": [
          226
         ],
         "showlegend": false,
         "type": "candlestick",
         "x": [
          "2024-08-27"
         ]
        },
        {
         "close": [
          226.49000549316406
         ],
         "decreasing": {
          "fillcolor": "red",
          "line": {
           "color": "red"
          }
         },
         "high": [
          229.86000061035156
         ],
         "increasing": {
          "fillcolor": "red",
          "line": {
           "color": "red"
          }
         },
         "legendgroup": "Hollow Candlesticks",
         "low": [
          225.67999267578125
         ],
         "name": "Open > Close < Prev Close",
         "open": [
          227.9199981689453
         ],
         "showlegend": false,
         "type": "candlestick",
         "x": [
          "2024-08-28"
         ]
        },
        {
         "close": [
          229.7899932861328
         ],
         "decreasing": {
          "fillcolor": "green",
          "line": {
           "color": "green"
          }
         },
         "high": [
          232.9199981689453
         ],
         "increasing": {
          "fillcolor": "green",
          "line": {
           "color": "green"
          }
         },
         "legendgroup": "Hollow Candlesticks",
         "low": [
          228.8800048828125
         ],
         "name": "Open > Close > Prev Close",
         "open": [
          230.10000610351562
         ],
         "showlegend": false,
         "type": "candlestick",
         "x": [
          "2024-08-29"
         ]
        },
        {
         "line": {
          "color": "lemonchiffon"
         },
         "name": "20-Day SMA",
         "type": "scatter",
         "x": [
          "2023-08-30",
          "2023-08-31",
          "2023-09-01",
          "2023-09-05",
          "2023-09-06",
          "2023-09-07",
          "2023-09-08",
          "2023-09-11",
          "2023-09-12",
          "2023-09-13",
          "2023-09-14",
          "2023-09-15",
          "2023-09-18",
          "2023-09-19",
          "2023-09-20",
          "2023-09-21",
          "2023-09-22",
          "2023-09-25",
          "2023-09-26",
          "2023-09-27",
          "2023-09-28",
          "2023-09-29",
          "2023-10-02",
          "2023-10-03",
          "2023-10-04",
          "2023-10-05",
          "2023-10-06",
          "2023-10-09",
          "2023-10-10",
          "2023-10-11",
          "2023-10-12",
          "2023-10-13",
          "2023-10-16",
          "2023-10-17",
          "2023-10-18",
          "2023-10-19",
          "2023-10-20",
          "2023-10-23",
          "2023-10-24",
          "2023-10-25",
          "2023-10-26",
          "2023-10-27",
          "2023-10-30",
          "2023-10-31",
          "2023-11-01",
          "2023-11-02",
          "2023-11-03",
          "2023-11-06",
          "2023-11-07",
          "2023-11-08",
          "2023-11-09",
          "2023-11-10",
          "2023-11-13",
          "2023-11-14",
          "2023-11-15",
          "2023-11-16",
          "2023-11-17",
          "2023-11-20",
          "2023-11-21",
          "2023-11-22",
          "2023-11-24",
          "2023-11-27",
          "2023-11-28",
          "2023-11-29",
          "2023-11-30",
          "2023-12-01",
          "2023-12-04",
          "2023-12-05",
          "2023-12-06",
          "2023-12-07",
          "2023-12-08",
          "2023-12-11",
          "2023-12-12",
          "2023-12-13",
          "2023-12-14",
          "2023-12-15",
          "2023-12-18",
          "2023-12-19",
          "2023-12-20",
          "2023-12-21",
          "2023-12-22",
          "2023-12-26",
          "2023-12-27",
          "2023-12-28",
          "2023-12-29",
          "2024-01-02",
          "2024-01-03",
          "2024-01-04",
          "2024-01-05",
          "2024-01-08",
          "2024-01-09",
          "2024-01-10",
          "2024-01-11",
          "2024-01-12",
          "2024-01-16",
          "2024-01-17",
          "2024-01-18",
          "2024-01-19",
          "2024-01-22",
          "2024-01-23",
          "2024-01-24",
          "2024-01-25",
          "2024-01-26",
          "2024-01-29",
          "2024-01-30",
          "2024-01-31",
          "2024-02-01",
          "2024-02-02",
          "2024-02-05",
          "2024-02-06",
          "2024-02-07",
          "2024-02-08",
          "2024-02-09",
          "2024-02-12",
          "2024-02-13",
          "2024-02-14",
          "2024-02-15",
          "2024-02-16",
          "2024-02-20",
          "2024-02-21",
          "2024-02-22",
          "2024-02-23",
          "2024-02-26",
          "2024-02-27",
          "2024-02-28",
          "2024-02-29",
          "2024-03-01",
          "2024-03-04",
          "2024-03-05",
          "2024-03-06",
          "2024-03-07",
          "2024-03-08",
          "2024-03-11",
          "2024-03-12",
          "2024-03-13",
          "2024-03-14",
          "2024-03-15",
          "2024-03-18",
          "2024-03-19",
          "2024-03-20",
          "2024-03-21",
          "2024-03-22",
          "2024-03-25",
          "2024-03-26",
          "2024-03-27",
          "2024-03-28",
          "2024-04-01",
          "2024-04-02",
          "2024-04-03",
          "2024-04-04",
          "2024-04-05",
          "2024-04-08",
          "2024-04-09",
          "2024-04-10",
          "2024-04-11",
          "2024-04-12",
          "2024-04-15",
          "2024-04-16",
          "2024-04-17",
          "2024-04-18",
          "2024-04-19",
          "2024-04-22",
          "2024-04-23",
          "2024-04-24",
          "2024-04-25",
          "2024-04-26",
          "2024-04-29",
          "2024-04-30",
          "2024-05-01",
          "2024-05-02",
          "2024-05-03",
          "2024-05-06",
          "2024-05-07",
          "2024-05-08",
          "2024-05-09",
          "2024-05-10",
          "2024-05-13",
          "2024-05-14",
          "2024-05-15",
          "2024-05-16",
          "2024-05-17",
          "2024-05-20",
          "2024-05-21",
          "2024-05-22",
          "2024-05-23",
          "2024-05-24",
          "2024-05-28",
          "2024-05-29",
          "2024-05-30",
          "2024-05-31",
          "2024-06-03",
          "2024-06-04",
          "2024-06-05",
          "2024-06-06",
          "2024-06-07",
          "2024-06-10",
          "2024-06-11",
          "2024-06-12",
          "2024-06-13",
          "2024-06-14",
          "2024-06-17",
          "2024-06-18",
          "2024-06-20",
          "2024-06-21",
          "2024-06-24",
          "2024-06-25",
          "2024-06-26",
          "2024-06-27",
          "2024-06-28",
          "2024-07-01",
          "2024-07-02",
          "2024-07-03",
          "2024-07-05",
          "2024-07-08",
          "2024-07-09",
          "2024-07-10",
          "2024-07-11",
          "2024-07-12",
          "2024-07-15",
          "2024-07-16",
          "2024-07-17",
          "2024-07-18",
          "2024-07-19",
          "2024-07-22",
          "2024-07-23",
          "2024-07-24",
          "2024-07-25",
          "2024-07-26",
          "2024-07-29",
          "2024-07-30",
          "2024-07-31",
          "2024-08-01",
          "2024-08-02",
          "2024-08-05",
          "2024-08-06",
          "2024-08-07",
          "2024-08-08",
          "2024-08-09",
          "2024-08-12",
          "2024-08-13",
          "2024-08-14",
          "2024-08-15",
          "2024-08-16",
          "2024-08-19",
          "2024-08-20",
          "2024-08-21",
          "2024-08-22",
          "2024-08-23",
          "2024-08-26",
          "2024-08-27",
          "2024-08-28",
          "2024-08-29"
         ],
         "y": [
          187.64999389648438,
          187.75999450683594,
          188.32666524251303,
          188.6699981689453,
          187.51799926757812,
          185.85833231608072,
          184.7614266531808,
          184.08624839782715,
          183.22111002604166,
          182.31999969482422,
          181.72181840376422,
          181.16249974568686,
          180.91692293607272,
          180.78500039236886,
          180.43200073242187,
          180.02562522888184,
          179.71764687930838,
          179.5155554877387,
          179.11789502595602,
          178.68349990844726,
          177.83550033569335,
          177.00250091552735,
          176.21700057983398,
          175.35200042724608,
          174.8895004272461,
          174.7570007324219,
          174.722501373291,
          174.70400161743163,
          174.80850143432616,
          175.0880012512207,
          175.33650131225585,
          175.52850189208985,
          175.56600189208984,
          175.47000122070312,
          175.48750076293945,
          175.56400146484376,
          175.46850204467773,
          175.314501953125,
          175.38850173950195,
          175.42200241088867,
          175.23200225830078,
          175.08250198364257,
          174.9095016479492,
          174.82800216674804,
          174.84350204467773,
          174.97650222778321,
          174.93450164794922,
          174.94650115966797,
          175.11800155639648,
          175.27250137329102,
          175.3575012207031,
          175.73500061035156,
          176.03900070190429,
          176.5535011291504,
          177.16200103759766,
          177.87450103759767,
          178.71500091552736,
          179.63750076293945,
          180.49750061035155,
          181.50800018310548,
          182.6620002746582,
          183.7404998779297,
          184.74599990844726,
          185.6759994506836,
          186.47499923706056,
          187.15849914550782,
          187.79749908447266,
          188.50699920654296,
          189.03199920654296,
          189.6009994506836,
          190.2659996032715,
          190.60499954223633,
          191.1004997253418,
          191.62649993896486,
          192.13150024414062,
          192.5245002746582,
          192.83450012207032,
          193.1090003967285,
          193.31850051879883,
          193.48700027465821,
          193.66850051879882,
          193.83150100708008,
          193.96900100708007,
          194.17950134277345,
          194.30850143432616,
          194.02850112915038,
          193.76950149536134,
          193.19400177001953,
          192.63700103759766,
          192.2015007019043,
          191.67300033569336,
          191.3235008239746,
          190.86750030517578,
          190.2654998779297,
          189.54150009155273,
          188.79699935913087,
          188.43399963378906,
          188.16499938964844,
          188.1179992675781,
          188.14299926757812,
          188.18799896240233,
          188.2439987182617,
          188.20749893188477,
          188.114998626709,
          187.89049835205077,
          187.82849807739257,
          187.95899810791016,
          188.15599822998047,
          188.48099822998046,
          188.66799850463866,
          188.88149871826172,
          188.98799896240234,
          189.1509994506836,
          189.21249923706054,
          189.28299865722656,
          189.35649871826172,
          189.11799850463868,
          188.65549850463867,
          188.03899841308595,
          187.3959991455078,
          186.88949890136718,
          186.30699920654297,
          185.74399948120117,
          185.28899993896485,
          184.95800018310547,
          184.77550048828124,
          184.41550064086914,
          183.87800064086915,
          183.00000076293946,
          181.99100036621093,
          180.97050018310546,
          180.09099960327148,
          179.2859992980957,
          178.58999938964843,
          177.8944999694824,
          177.3370002746582,
          176.775,
          176.34550018310546,
          176.0715003967285,
          175.88899993896484,
          175.23899993896484,
          174.72699966430665,
          174.21149978637695,
          173.56549987792968,
          173.1599998474121,
          172.69649963378907,
          172.21499938964843,
          171.9019989013672,
          171.87849884033204,
          171.8634994506836,
          171.89249954223632,
          171.77849960327148,
          171.62449951171874,
          171.35199966430665,
          171.54749908447266,
          171.72499923706056,
          171.72849960327147,
          171.51149978637696,
          171.1074996948242,
          170.5259994506836,
          170.2074996948242,
          169.8854995727539,
          169.68799896240233,
          169.65349884033202,
          169.48249893188478,
          169.3734992980957,
          169.54699935913087,
          169.62149963378906,
          169.60400009155273,
          169.81449966430665,
          170.50449981689454,
          171.1675003051758,
          171.80400009155272,
          172.5520004272461,
          173.02850112915038,
          173.3535011291504,
          174.03300094604492,
          174.93550033569335,
          176.02150039672853,
          177.1615005493164,
          178.40500030517578,
          179.66500015258788,
          180.93750076293946,
          182.03150024414063,
          182.88100051879883,
          183.91500015258788,
          184.7395004272461,
          185.7375,
          186.83699951171874,
          187.7979995727539,
          188.33049926757812,
          188.96249923706054,
          189.6359992980957,
          190.22299880981444,
          190.83899841308593,
          191.3424980163574,
          192.3859977722168,
          193.66799850463866,
          194.8939987182617,
          196.0264991760254,
          197.3664993286133,
          198.52899932861328,
          199.39549865722657,
          200.22499923706056,
          201.28799896240236,
          202.24249954223632,
          203.40549926757814,
          204.59599990844725,
          205.5625,
          206.7875,
          208.0995002746582,
          209.45950012207032,
          210.98300018310547,
          212.65000076293944,
          214.2395004272461,
          216.23250045776368,
          217.25350112915038,
          218.1270004272461,
          219.1349998474121,
          220.25149993896486,
          220.86200027465821,
          221.35650024414062,
          222.08800048828124,
          222.9115005493164,
          223.75500030517577,
          224.22849960327147,
          224.44049987792968,
          224.63349990844728,
          225.0145004272461,
          225.11700057983398,
          225.20750045776367,
          225.04800033569336,
          224.7240005493164,
          223.7965003967285,
          222.7240005493164,
          221.56600112915038,
          220.85300064086914,
          220.13800125122071,
          219.29450149536132,
          218.61700134277345,
          218.25900115966797,
          218.28600158691407,
          218.37300186157228,
          218.46950149536133,
          218.54450149536132,
          218.9375015258789,
          219.28950119018555,
          219.7335006713867,
          220.18050003051758,
          220.64199981689453,
          220.8625,
          221.43399963378906
         ]
        },
        {
         "line": {
          "color": "gold"
         },
         "name": "(20, 2) Bollinger Bands",
         "type": "scatter",
         "x": [
          "2023-08-30",
          "2023-08-31",
          "2023-09-01",
          "2023-09-05",
          "2023-09-06",
          "2023-09-07",
          "2023-09-08",
          "2023-09-11",
          "2023-09-12",
          "2023-09-13",
          "2023-09-14",
          "2023-09-15",
          "2023-09-18",
          "2023-09-19",
          "2023-09-20",
          "2023-09-21",
          "2023-09-22",
          "2023-09-25",
          "2023-09-26",
          "2023-09-27",
          "2023-09-28",
          "2023-09-29",
          "2023-10-02",
          "2023-10-03",
          "2023-10-04",
          "2023-10-05",
          "2023-10-06",
          "2023-10-09",
          "2023-10-10",
          "2023-10-11",
          "2023-10-12",
          "2023-10-13",
          "2023-10-16",
          "2023-10-17",
          "2023-10-18",
          "2023-10-19",
          "2023-10-20",
          "2023-10-23",
          "2023-10-24",
          "2023-10-25",
          "2023-10-26",
          "2023-10-27",
          "2023-10-30",
          "2023-10-31",
          "2023-11-01",
          "2023-11-02",
          "2023-11-03",
          "2023-11-06",
          "2023-11-07",
          "2023-11-08",
          "2023-11-09",
          "2023-11-10",
          "2023-11-13",
          "2023-11-14",
          "2023-11-15",
          "2023-11-16",
          "2023-11-17",
          "2023-11-20",
          "2023-11-21",
          "2023-11-22",
          "2023-11-24",
          "2023-11-27",
          "2023-11-28",
          "2023-11-29",
          "2023-11-30",
          "2023-12-01",
          "2023-12-04",
          "2023-12-05",
          "2023-12-06",
          "2023-12-07",
          "2023-12-08",
          "2023-12-11",
          "2023-12-12",
          "2023-12-13",
          "2023-12-14",
          "2023-12-15",
          "2023-12-18",
          "2023-12-19",
          "2023-12-20",
          "2023-12-21",
          "2023-12-22",
          "2023-12-26",
          "2023-12-27",
          "2023-12-28",
          "2023-12-29",
          "2024-01-02",
          "2024-01-03",
          "2024-01-04",
          "2024-01-05",
          "2024-01-08",
          "2024-01-09",
          "2024-01-10",
          "2024-01-11",
          "2024-01-12",
          "2024-01-16",
          "2024-01-17",
          "2024-01-18",
          "2024-01-19",
          "2024-01-22",
          "2024-01-23",
          "2024-01-24",
          "2024-01-25",
          "2024-01-26",
          "2024-01-29",
          "2024-01-30",
          "2024-01-31",
          "2024-02-01",
          "2024-02-02",
          "2024-02-05",
          "2024-02-06",
          "2024-02-07",
          "2024-02-08",
          "2024-02-09",
          "2024-02-12",
          "2024-02-13",
          "2024-02-14",
          "2024-02-15",
          "2024-02-16",
          "2024-02-20",
          "2024-02-21",
          "2024-02-22",
          "2024-02-23",
          "2024-02-26",
          "2024-02-27",
          "2024-02-28",
          "2024-02-29",
          "2024-03-01",
          "2024-03-04",
          "2024-03-05",
          "2024-03-06",
          "2024-03-07",
          "2024-03-08",
          "2024-03-11",
          "2024-03-12",
          "2024-03-13",
          "2024-03-14",
          "2024-03-15",
          "2024-03-18",
          "2024-03-19",
          "2024-03-20",
          "2024-03-21",
          "2024-03-22",
          "2024-03-25",
          "2024-03-26",
          "2024-03-27",
          "2024-03-28",
          "2024-04-01",
          "2024-04-02",
          "2024-04-03",
          "2024-04-04",
          "2024-04-05",
          "2024-04-08",
          "2024-04-09",
          "2024-04-10",
          "2024-04-11",
          "2024-04-12",
          "2024-04-15",
          "2024-04-16",
          "2024-04-17",
          "2024-04-18",
          "2024-04-19",
          "2024-04-22",
          "2024-04-23",
          "2024-04-24",
          "2024-04-25",
          "2024-04-26",
          "2024-04-29",
          "2024-04-30",
          "2024-05-01",
          "2024-05-02",
          "2024-05-03",
          "2024-05-06",
          "2024-05-07",
          "2024-05-08",
          "2024-05-09",
          "2024-05-10",
          "2024-05-13",
          "2024-05-14",
          "2024-05-15",
          "2024-05-16",
          "2024-05-17",
          "2024-05-20",
          "2024-05-21",
          "2024-05-22",
          "2024-05-23",
          "2024-05-24",
          "2024-05-28",
          "2024-05-29",
          "2024-05-30",
          "2024-05-31",
          "2024-06-03",
          "2024-06-04",
          "2024-06-05",
          "2024-06-06",
          "2024-06-07",
          "2024-06-10",
          "2024-06-11",
          "2024-06-12",
          "2024-06-13",
          "2024-06-14",
          "2024-06-17",
          "2024-06-18",
          "2024-06-20",
          "2024-06-21",
          "2024-06-24",
          "2024-06-25",
          "2024-06-26",
          "2024-06-27",
          "2024-06-28",
          "2024-07-01",
          "2024-07-02",
          "2024-07-03",
          "2024-07-05",
          "2024-07-08",
          "2024-07-09",
          "2024-07-10",
          "2024-07-11",
          "2024-07-12",
          "2024-07-15",
          "2024-07-16",
          "2024-07-17",
          "2024-07-18",
          "2024-07-19",
          "2024-07-22",
          "2024-07-23",
          "2024-07-24",
          "2024-07-25",
          "2024-07-26",
          "2024-07-29",
          "2024-07-30",
          "2024-07-31",
          "2024-08-01",
          "2024-08-02",
          "2024-08-05",
          "2024-08-06",
          "2024-08-07",
          "2024-08-08",
          "2024-08-09",
          "2024-08-12",
          "2024-08-13",
          "2024-08-14",
          "2024-08-15",
          "2024-08-16",
          "2024-08-19",
          "2024-08-20",
          "2024-08-21",
          "2024-08-22",
          "2024-08-23",
          "2024-08-26",
          "2024-08-27",
          "2024-08-28",
          "2024-08-29"
         ],
         "y": [
          187.64999389648438,
          187.5399932861328,
          186.71384386178823,
          186.8354888108163,
          182.62658197112205,
          177.1964508554562,
          175.10809943830532,
          174.37529455848463,
          172.83961610854388,
          171.08479305639943,
          170.36104114502436,
          169.67004575077462,
          169.74501393722716,
          169.97752960093587,
          169.66200751966468,
          169.1328905087666,
          168.86672055087695,
          168.83948271797615,
          168.19245240412764,
          167.3813689308177,
          166.81001399732497,
          166.6378005868075,
          167.49709048324263,
          169.05917905469997,
          169.60822559461536,
          169.61935416302012,
          169.66867710996812,
          169.71593494099645,
          169.6080206756537,
          169.4627103232751,
          169.201906290513,
          169.20921229317054,
          169.18064788204515,
          169.24247549708815,
          169.257881918617,
          169.37532418999703,
          169.17690481873225,
          168.94008075493767,
          169.13841663926448,
          169.27220964061976,
          168.32141608533598,
          167.71601421783137,
          167.2685631483207,
          167.04822489700803,
          167.07186370998824,
          167.11434680288608,
          167.11766041440478,
          167.10409958188822,
          166.84375873002875,
          166.5510235146069,
          166.39587351910248,
          165.6509260998673,
          165.2699848399918,
          164.6933760525451,
          164.30393319816076,
          163.93856131620473,
          164.07543561953082,
          164.24865331163232,
          164.6738655966617,
          165.63278601288795,
          167.8877164349041,
          170.2470123028055,
          172.4693296637927,
          175.0709246637518,
          177.1926859148514,
          178.6160210013826,
          180.7061769783536,
          182.18913849609456,
          183.30683562365158,
          184.17652159530365,
          185.28825221576707,
          185.80631677300897,
          186.77893814198055,
          186.69700617470838,
          186.73973416779944,
          186.7628953771824,
          187.04916239309605,
          187.09598192957827,
          187.37257705187648,
          187.58747889118365,
          187.9938832811388,
          188.43122802233134,
          188.78969936611034,
          189.4415675146602,
          189.90987856781342,
          188.35578268824875,
          186.92801246621337,
          184.61575721435287,
          182.5841511910029,
          181.72368587227612,
          180.89439233999008,
          180.31222302848659,
          179.70070026636603,
          179.39891664789462,
          178.93562206328767,
          178.46296846530862,
          178.62540305443483,
          179.0324708140749,
          179.1143935660284,
          179.06418798467226,
          178.9932601753899,
          178.91877895574675,
          178.9539357680948,
          179.04289604488258,
          179.0471888102193,
          178.90591310041825,
          179.17430292764237,
          179.7543831524081,
          180.7043008930145,
          181.00217500973253,
          181.3846140806369,
          181.58717913367403,
          181.9149520808026,
          182.06699831456868,
          182.3340839722257,
          182.66206698434348,
          182.0099308020938,
          181.05641270670694,
          180.24059842688231,
          179.94590772893204,
          180.09128835933222,
          180.13643960944637,
          179.85906172941498,
          179.94322064421448,
          179.51563351273896,
          179.033958071361,
          178.34824894272114,
          176.62541181484985,
          173.80859042241252,
          171.4552231085545,
          169.58709928310438,
          168.40090695060732,
          167.9061846984055,
          167.52071438682597,
          166.7857641253203,
          166.42252486112795,
          166.107173737217,
          165.9145845609922,
          165.91868805319032,
          166.06616719150193,
          166.04678212943313,
          166.09005437765717,
          165.94933474839033,
          166.05067786056284,
          166.56536138423417,
          167.06864134015618,
          167.47481092043145,
          167.13849327283023,
          167.0755856959304,
          167.02448299497553,
          167.11592517431004,
          166.79216221535953,
          166.57780856726436,
          166.09723245937784,
          166.05476740167782,
          165.84051680195017,
          165.84180891743966,
          165.61449704765553,
          165.41420003925631,
          165.73729024307042,
          164.86981894885176,
          164.31485633745254,
          163.98952246866446,
          163.94762293658817,
          164.02564582035575,
          163.99405839223363,
          163.87801544049557,
          163.95247631174777,
          163.93327614166907,
          163.96604394462264,
          162.19224248313006,
          161.59651164417335,
          161.09099043212646,
          161.0102811675007,
          160.38130586470223,
          160.04429555346488,
          159.5893554488257,
          159.54307760031762,
          159.7026415690798,
          160.33404013293824,
          161.68079613255213,
          163.12107826774215,
          164.60296317016264,
          166.11061181800565,
          167.854142022853,
          169.9607784458332,
          171.4095419512589,
          173.97575503510396,
          177.5833071098721,
          180.75029075279235,
          181.0917284246095,
          181.94232718431562,
          182.679145776635,
          183.7267343923058,
          184.2676860528093,
          185.76800268678605,
          183.92614926810649,
          181.59951947341605,
          180.02254829040365,
          179.50847533679985,
          178.8377915591459,
          178.8520234326263,
          179.3602039217888,
          180.2918550233764,
          182.05984160920457,
          183.46444071901232,
          184.92812091173707,
          186.5900136909644,
          188.4649331799912,
          190.1769072602852,
          191.58189666233022,
          193.21738456549818,
          194.41262272053498,
          196.35003216783818,
          198.19894124254523,
          201.31788097273957,
          202.17087761063016,
          202.11952158794554,
          201.75353141597935,
          201.88027632889896,
          202.1982438783969,
          202.89244756107428,
          204.3889232656449,
          206.52170753607254,
          208.8211249293608,
          210.6478779948632,
          211.4316768461743,
          212.1397143870545,
          213.86041050767028,
          214.2342022782729,
          214.45814998435742,
          213.995897919346,
          213.46441432817875,
          210.7893714155123,
          208.07120229553087,
          206.67955874524787,
          205.81985762360836,
          205.66599821040782,
          206.36112014334208,
          207.75382577732202,
          208.34155188289714,
          208.30150558981944,
          208.1525262180079,
          208.00628022335746,
          207.87534992675947,
          207.73238005371795,
          207.84855331406328,
          207.8526240021543,
          207.89229675314277,
          207.91055122238944,
          207.8886198513738,
          207.95428726961063
         ]
        },
        {
         "line": {
          "color": "gold"
         },
         "showlegend": false,
         "type": "scatter",
         "x": [
          "2023-08-30",
          "2023-08-31",
          "2023-09-01",
          "2023-09-05",
          "2023-09-06",
          "2023-09-07",
          "2023-09-08",
          "2023-09-11",
          "2023-09-12",
          "2023-09-13",
          "2023-09-14",
          "2023-09-15",
          "2023-09-18",
          "2023-09-19",
          "2023-09-20",
          "2023-09-21",
          "2023-09-22",
          "2023-09-25",
          "2023-09-26",
          "2023-09-27",
          "2023-09-28",
          "2023-09-29",
          "2023-10-02",
          "2023-10-03",
          "2023-10-04",
          "2023-10-05",
          "2023-10-06",
          "2023-10-09",
          "2023-10-10",
          "2023-10-11",
          "2023-10-12",
          "2023-10-13",
          "2023-10-16",
          "2023-10-17",
          "2023-10-18",
          "2023-10-19",
          "2023-10-20",
          "2023-10-23",
          "2023-10-24",
          "2023-10-25",
          "2023-10-26",
          "2023-10-27",
          "2023-10-30",
          "2023-10-31",
          "2023-11-01",
          "2023-11-02",
          "2023-11-03",
          "2023-11-06",
          "2023-11-07",
          "2023-11-08",
          "2023-11-09",
          "2023-11-10",
          "2023-11-13",
          "2023-11-14",
          "2023-11-15",
          "2023-11-16",
          "2023-11-17",
          "2023-11-20",
          "2023-11-21",
          "2023-11-22",
          "2023-11-24",
          "2023-11-27",
          "2023-11-28",
          "2023-11-29",
          "2023-11-30",
          "2023-12-01",
          "2023-12-04",
          "2023-12-05",
          "2023-12-06",
          "2023-12-07",
          "2023-12-08",
          "2023-12-11",
          "2023-12-12",
          "2023-12-13",
          "2023-12-14",
          "2023-12-15",
          "2023-12-18",
          "2023-12-19",
          "2023-12-20",
          "2023-12-21",
          "2023-12-22",
          "2023-12-26",
          "2023-12-27",
          "2023-12-28",
          "2023-12-29",
          "2024-01-02",
          "2024-01-03",
          "2024-01-04",
          "2024-01-05",
          "2024-01-08",
          "2024-01-09",
          "2024-01-10",
          "2024-01-11",
          "2024-01-12",
          "2024-01-16",
          "2024-01-17",
          "2024-01-18",
          "2024-01-19",
          "2024-01-22",
          "2024-01-23",
          "2024-01-24",
          "2024-01-25",
          "2024-01-26",
          "2024-01-29",
          "2024-01-30",
          "2024-01-31",
          "2024-02-01",
          "2024-02-02",
          "2024-02-05",
          "2024-02-06",
          "2024-02-07",
          "2024-02-08",
          "2024-02-09",
          "2024-02-12",
          "2024-02-13",
          "2024-02-14",
          "2024-02-15",
          "2024-02-16",
          "2024-02-20",
          "2024-02-21",
          "2024-02-22",
          "2024-02-23",
          "2024-02-26",
          "2024-02-27",
          "2024-02-28",
          "2024-02-29",
          "2024-03-01",
          "2024-03-04",
          "2024-03-05",
          "2024-03-06",
          "2024-03-07",
          "2024-03-08",
          "2024-03-11",
          "2024-03-12",
          "2024-03-13",
          "2024-03-14",
          "2024-03-15",
          "2024-03-18",
          "2024-03-19",
          "2024-03-20",
          "2024-03-21",
          "2024-03-22",
          "2024-03-25",
          "2024-03-26",
          "2024-03-27",
          "2024-03-28",
          "2024-04-01",
          "2024-04-02",
          "2024-04-03",
          "2024-04-04",
          "2024-04-05",
          "2024-04-08",
          "2024-04-09",
          "2024-04-10",
          "2024-04-11",
          "2024-04-12",
          "2024-04-15",
          "2024-04-16",
          "2024-04-17",
          "2024-04-18",
          "2024-04-19",
          "2024-04-22",
          "2024-04-23",
          "2024-04-24",
          "2024-04-25",
          "2024-04-26",
          "2024-04-29",
          "2024-04-30",
          "2024-05-01",
          "2024-05-02",
          "2024-05-03",
          "2024-05-06",
          "2024-05-07",
          "2024-05-08",
          "2024-05-09",
          "2024-05-10",
          "2024-05-13",
          "2024-05-14",
          "2024-05-15",
          "2024-05-16",
          "2024-05-17",
          "2024-05-20",
          "2024-05-21",
          "2024-05-22",
          "2024-05-23",
          "2024-05-24",
          "2024-05-28",
          "2024-05-29",
          "2024-05-30",
          "2024-05-31",
          "2024-06-03",
          "2024-06-04",
          "2024-06-05",
          "2024-06-06",
          "2024-06-07",
          "2024-06-10",
          "2024-06-11",
          "2024-06-12",
          "2024-06-13",
          "2024-06-14",
          "2024-06-17",
          "2024-06-18",
          "2024-06-20",
          "2024-06-21",
          "2024-06-24",
          "2024-06-25",
          "2024-06-26",
          "2024-06-27",
          "2024-06-28",
          "2024-07-01",
          "2024-07-02",
          "2024-07-03",
          "2024-07-05",
          "2024-07-08",
          "2024-07-09",
          "2024-07-10",
          "2024-07-11",
          "2024-07-12",
          "2024-07-15",
          "2024-07-16",
          "2024-07-17",
          "2024-07-18",
          "2024-07-19",
          "2024-07-22",
          "2024-07-23",
          "2024-07-24",
          "2024-07-25",
          "2024-07-26",
          "2024-07-29",
          "2024-07-30",
          "2024-07-31",
          "2024-08-01",
          "2024-08-02",
          "2024-08-05",
          "2024-08-06",
          "2024-08-07",
          "2024-08-08",
          "2024-08-09",
          "2024-08-12",
          "2024-08-13",
          "2024-08-14",
          "2024-08-15",
          "2024-08-16",
          "2024-08-19",
          "2024-08-20",
          "2024-08-21",
          "2024-08-22",
          "2024-08-23",
          "2024-08-26",
          "2024-08-27",
          "2024-08-28",
          "2024-08-29"
         ],
         "y": [
          187.64999389648438,
          187.97999572753906,
          189.93948662323783,
          190.50450752707434,
          192.4094165640342,
          194.52021377670525,
          194.41475386805627,
          193.79720223716967,
          193.60260394353944,
          193.555206333249,
          193.08259566250408,
          192.6549537405991,
          192.0888319349183,
          191.59247118380185,
          191.20199394517905,
          190.91835994899708,
          190.5685732077398,
          190.19162825750126,
          190.0433376477844,
          189.98563088607682,
          188.86098667406173,
          187.3672012442472,
          184.93691067642533,
          181.6448217997922,
          180.17077525987685,
          179.89464730182365,
          179.7763256366139,
          179.6920682938668,
          180.00898219299862,
          180.7132921791663,
          181.4710963339987,
          181.84779149100916,
          181.95135590213454,
          181.6975269443181,
          181.7171196072619,
          181.75267873969048,
          181.76009927062321,
          181.6889231513123,
          181.63858683973942,
          181.57179518115757,
          182.14258843126558,
          182.44898974945377,
          182.55044014757772,
          182.60777943648804,
          182.61514037936723,
          182.83865765268035,
          182.75134288149366,
          182.78890273744773,
          183.3922443827642,
          183.99397923197515,
          184.31912892230375,
          185.81907512083583,
          186.80801656381678,
          188.4136262057557,
          190.02006887703456,
          191.8104407589906,
          193.3545662115239,
          195.02634821424658,
          196.3211356240414,
          197.383214353323,
          197.4362841144123,
          197.23398745305389,
          197.0226701531018,
          196.2810742376154,
          195.7573125592697,
          195.70097728963304,
          194.88882119059173,
          194.82485991699136,
          194.75716278943435,
          195.02547730606352,
          195.24374699077592,
          195.40368231146368,
          195.42206130870304,
          196.55599370322133,
          197.5232663204818,
          198.28610517213403,
          198.6198378510446,
          199.12201886387874,
          199.26442398572118,
          199.38652165813278,
          199.34311775645884,
          199.23177399182882,
          199.1483026480498,
          198.9174351708867,
          198.7071243008389,
          199.70121957005202,
          200.6109905245093,
          201.77224632568618,
          202.68985088419242,
          202.6793155315325,
          202.45160833139664,
          202.3347786194626,
          202.03430034398554,
          201.13208310796477,
          200.1473781198178,
          199.1310302529531,
          198.2425962131433,
          197.29752796522197,
          197.12160496912782,
          197.22181055048398,
          197.38273774941476,
          197.56921848077667,
          197.46106209567475,
          197.1871012085354,
          196.73380789388224,
          196.7510830543669,
          196.74369328817795,
          196.55761330755283,
          196.2576955669464,
          196.3338219995448,
          196.37838335588654,
          196.38881879113066,
          196.3870468205646,
          196.3580001595524,
          196.23191334222741,
          196.05093045217995,
          196.22606620718355,
          196.2545843025704,
          195.83739839928958,
          194.84609056208356,
          193.68770944340213,
          192.47755880363957,
          191.62893723298737,
          190.63477923371522,
          190.40036685347198,
          190.51704290520146,
          190.48275233901714,
          191.13058946688844,
          192.1914111034664,
          192.52677762386736,
          192.35390108310654,
          191.78109225593565,
          190.6658138977859,
          189.65928439247088,
          189.00323581364452,
          188.25147568818846,
          187.442826262783,
          186.7764158052187,
          186.2243127402667,
          185.71183268642775,
          184.43121774849655,
          183.36394495095612,
          182.47366482436357,
          181.08032189529652,
          179.75463831059005,
          178.32435792742197,
          176.9551878588654,
          176.66550452990415,
          176.68141198473367,
          176.70251590639168,
          176.6690739101626,
          176.76483699118344,
          176.67119045617312,
          176.60676686923546,
          177.0402307672675,
          177.60948167217094,
          177.61519028910328,
          177.40850252509838,
          176.8007993503921,
          175.31470865829678,
          175.54518044079666,
          175.45614280805526,
          175.3864754561402,
          175.35937474407586,
          174.9393520434138,
          174.7529402039578,
          175.21598327776616,
          175.29052295583034,
          175.2747240414364,
          175.66295538399066,
          178.81675715065901,
          180.73848896617824,
          182.51700975097899,
          184.0937196869915,
          185.67569639359854,
          186.66270670483593,
          188.47664644326414,
          190.32792307106908,
          192.34035922437727,
          193.98896096569456,
          195.12920447779942,
          196.2089220374336,
          197.2720383557163,
          197.9523886702756,
          197.90785901474464,
          197.86922185934256,
          198.0694589032333,
          197.49924496489606,
          196.0906919135654,
          194.84570839271544,
          195.56927011054674,
          195.98267128980547,
          196.59285281955638,
          196.7192632273231,
          197.41031077336257,
          196.91699334592877,
          200.8458462763271,
          205.73647753586127,
          209.76544914611978,
          212.54452301525095,
          215.89520709808068,
          218.20597522460025,
          219.43079339266433,
          220.15814345074472,
          220.51615631560014,
          221.02055836546032,
          221.8828776234192,
          222.6019861259301,
          222.6600668200088,
          223.3980927397148,
          224.61710388698617,
          225.70161567864247,
          227.55337764567597,
          228.9499693580407,
          230.28005961194697,
          231.14711994278778,
          232.3361246476706,
          234.13447926654663,
          236.51646827884485,
          238.62272354903075,
          239.52575667091952,
          239.82055292720696,
          239.78707771091757,
          239.30129356256026,
          238.68887568099075,
          237.80912121167975,
          237.44932290968507,
          237.12728542984004,
          236.16859034682193,
          235.99979888139507,
          235.95685093116992,
          236.10010275204073,
          235.98358677045405,
          236.8036293779447,
          237.37679880310193,
          236.45244351305288,
          235.88614365812992,
          234.6100042920336,
          232.22788284738056,
          229.48017690822488,
          228.1764504364388,
          228.2704975840087,
          228.59347750513666,
          228.9327227673652,
          229.21365306396316,
          230.14262299803985,
          230.7304490663078,
          231.61437734061911,
          232.46870330789238,
          233.3734484113996,
          233.83638014862623,
          234.91371199796748
         ]
        }
       ],
       "layout": {
        "height": 800,
        "template": {
         "data": {
          "bar": [
           {
            "error_x": {
             "color": "#f2f5fa"
            },
            "error_y": {
             "color": "#f2f5fa"
            },
            "marker": {
             "line": {
              "color": "rgb(17,17,17)",
              "width": 0.5
             },
             "pattern": {
              "fillmode": "overlay",
              "size": 10,
              "solidity": 0.2
             }
            },
            "type": "bar"
           }
          ],
          "barpolar": [
           {
            "marker": {
             "line": {
              "color": "rgb(17,17,17)",
              "width": 0.5
             },
             "pattern": {
              "fillmode": "overlay",
              "size": 10,
              "solidity": 0.2
             }
            },
            "type": "barpolar"
           }
          ],
          "carpet": [
           {
            "aaxis": {
             "endlinecolor": "#A2B1C6",
             "gridcolor": "#506784",
             "linecolor": "#506784",
             "minorgridcolor": "#506784",
             "startlinecolor": "#A2B1C6"
            },
            "baxis": {
             "endlinecolor": "#A2B1C6",
             "gridcolor": "#506784",
             "linecolor": "#506784",
             "minorgridcolor": "#506784",
             "startlinecolor": "#A2B1C6"
            },
            "type": "carpet"
           }
          ],
          "choropleth": [
           {
            "colorbar": {
             "outlinewidth": 0,
             "ticks": ""
            },
            "type": "choropleth"
           }
          ],
          "contour": [
           {
            "colorbar": {
             "outlinewidth": 0,
             "ticks": ""
            },
            "colorscale": [
             [
              0,
              "#0d0887"
             ],
             [
              0.1111111111111111,
              "#46039f"
             ],
             [
              0.2222222222222222,
              "#7201a8"
             ],
             [
              0.3333333333333333,
              "#9c179e"
             ],
             [
              0.4444444444444444,
              "#bd3786"
             ],
             [
              0.5555555555555556,
              "#d8576b"
             ],
             [
              0.6666666666666666,
              "#ed7953"
             ],
             [
              0.7777777777777778,
              "#fb9f3a"
             ],
             [
              0.8888888888888888,
              "#fdca26"
             ],
             [
              1,
              "#f0f921"
             ]
            ],
            "type": "contour"
           }
          ],
          "contourcarpet": [
           {
            "colorbar": {
             "outlinewidth": 0,
             "ticks": ""
            },
            "type": "contourcarpet"
           }
          ],
          "heatmap": [
           {
            "colorbar": {
             "outlinewidth": 0,
             "ticks": ""
            },
            "colorscale": [
             [
              0,
              "#0d0887"
             ],
             [
              0.1111111111111111,
              "#46039f"
             ],
             [
              0.2222222222222222,
              "#7201a8"
             ],
             [
              0.3333333333333333,
              "#9c179e"
             ],
             [
              0.4444444444444444,
              "#bd3786"
             ],
             [
              0.5555555555555556,
              "#d8576b"
             ],
             [
              0.6666666666666666,
              "#ed7953"
             ],
             [
              0.7777777777777778,
              "#fb9f3a"
             ],
             [
              0.8888888888888888,
              "#fdca26"
             ],
             [
              1,
              "#f0f921"
             ]
            ],
            "type": "heatmap"
           }
          ],
          "heatmapgl": [
           {
            "colorbar": {
             "outlinewidth": 0,
             "ticks": ""
            },
            "colorscale": [
             [
              0,
              "#0d0887"
             ],
             [
              0.1111111111111111,
              "#46039f"
             ],
             [
              0.2222222222222222,
              "#7201a8"
             ],
             [
              0.3333333333333333,
              "#9c179e"
             ],
             [
              0.4444444444444444,
              "#bd3786"
             ],
             [
              0.5555555555555556,
              "#d8576b"
             ],
             [
              0.6666666666666666,
              "#ed7953"
             ],
             [
              0.7777777777777778,
              "#fb9f3a"
             ],
             [
              0.8888888888888888,
              "#fdca26"
             ],
             [
              1,
              "#f0f921"
             ]
            ],
            "type": "heatmapgl"
           }
          ],
          "histogram": [
           {
            "marker": {
             "pattern": {
              "fillmode": "overlay",
              "size": 10,
              "solidity": 0.2
             }
            },
            "type": "histogram"
           }
          ],
          "histogram2d": [
           {
            "colorbar": {
             "outlinewidth": 0,
             "ticks": ""
            },
            "colorscale": [
             [
              0,
              "#0d0887"
             ],
             [
              0.1111111111111111,
              "#46039f"
             ],
             [
              0.2222222222222222,
              "#7201a8"
             ],
             [
              0.3333333333333333,
              "#9c179e"
             ],
             [
              0.4444444444444444,
              "#bd3786"
             ],
             [
              0.5555555555555556,
              "#d8576b"
             ],
             [
              0.6666666666666666,
              "#ed7953"
             ],
             [
              0.7777777777777778,
              "#fb9f3a"
             ],
             [
              0.8888888888888888,
              "#fdca26"
             ],
             [
              1,
              "#f0f921"
             ]
            ],
            "type": "histogram2d"
           }
          ],
          "histogram2dcontour": [
           {
            "colorbar": {
             "outlinewidth": 0,
             "ticks": ""
            },
            "colorscale": [
             [
              0,
              "#0d0887"
             ],
             [
              0.1111111111111111,
              "#46039f"
             ],
             [
              0.2222222222222222,
              "#7201a8"
             ],
             [
              0.3333333333333333,
              "#9c179e"
             ],
             [
              0.4444444444444444,
              "#bd3786"
             ],
             [
              0.5555555555555556,
              "#d8576b"
             ],
             [
              0.6666666666666666,
              "#ed7953"
             ],
             [
              0.7777777777777778,
              "#fb9f3a"
             ],
             [
              0.8888888888888888,
              "#fdca26"
             ],
             [
              1,
              "#f0f921"
             ]
            ],
            "type": "histogram2dcontour"
           }
          ],
          "mesh3d": [
           {
            "colorbar": {
             "outlinewidth": 0,
             "ticks": ""
            },
            "type": "mesh3d"
           }
          ],
          "parcoords": [
           {
            "line": {
             "colorbar": {
              "outlinewidth": 0,
              "ticks": ""
             }
            },
            "type": "parcoords"
           }
          ],
          "pie": [
           {
            "automargin": true,
            "type": "pie"
           }
          ],
          "scatter": [
           {
            "marker": {
             "line": {
              "color": "#283442"
             }
            },
            "type": "scatter"
           }
          ],
          "scatter3d": [
           {
            "line": {
             "colorbar": {
              "outlinewidth": 0,
              "ticks": ""
             }
            },
            "marker": {
             "colorbar": {
              "outlinewidth": 0,
              "ticks": ""
             }
            },
            "type": "scatter3d"
           }
          ],
          "scattercarpet": [
           {
            "marker": {
             "colorbar": {
              "outlinewidth": 0,
              "ticks": ""
             }
            },
            "type": "scattercarpet"
           }
          ],
          "scattergeo": [
           {
            "marker": {
             "colorbar": {
              "outlinewidth": 0,
              "ticks": ""
             }
            },
            "type": "scattergeo"
           }
          ],
          "scattergl": [
           {
            "marker": {
             "line": {
              "color": "#283442"
             }
            },
            "type": "scattergl"
           }
          ],
          "scattermapbox": [
           {
            "marker": {
             "colorbar": {
              "outlinewidth": 0,
              "ticks": ""
             }
            },
            "type": "scattermapbox"
           }
          ],
          "scatterpolar": [
           {
            "marker": {
             "colorbar": {
              "outlinewidth": 0,
              "ticks": ""
             }
            },
            "type": "scatterpolar"
           }
          ],
          "scatterpolargl": [
           {
            "marker": {
             "colorbar": {
              "outlinewidth": 0,
              "ticks": ""
             }
            },
            "type": "scatterpolargl"
           }
          ],
          "scatterternary": [
           {
            "marker": {
             "colorbar": {
              "outlinewidth": 0,
              "ticks": ""
             }
            },
            "type": "scatterternary"
           }
          ],
          "surface": [
           {
            "colorbar": {
             "outlinewidth": 0,
             "ticks": ""
            },
            "colorscale": [
             [
              0,
              "#0d0887"
             ],
             [
              0.1111111111111111,
              "#46039f"
             ],
             [
              0.2222222222222222,
              "#7201a8"
             ],
             [
              0.3333333333333333,
              "#9c179e"
             ],
             [
              0.4444444444444444,
              "#bd3786"
             ],
             [
              0.5555555555555556,
              "#d8576b"
             ],
             [
              0.6666666666666666,
              "#ed7953"
             ],
             [
              0.7777777777777778,
              "#fb9f3a"
             ],
             [
              0.8888888888888888,
              "#fdca26"
             ],
             [
              1,
              "#f0f921"
             ]
            ],
            "type": "surface"
           }
          ],
          "table": [
           {
            "cells": {
             "fill": {
              "color": "#506784"
             },
             "line": {
              "color": "rgb(17,17,17)"
             }
            },
            "header": {
             "fill": {
              "color": "#2a3f5f"
             },
             "line": {
              "color": "rgb(17,17,17)"
             }
            },
            "type": "table"
           }
          ]
         },
         "layout": {
          "annotationdefaults": {
           "arrowcolor": "#f2f5fa",
           "arrowhead": 0,
           "arrowwidth": 1
          },
          "autotypenumbers": "strict",
          "coloraxis": {
           "colorbar": {
            "outlinewidth": 0,
            "ticks": ""
           }
          },
          "colorscale": {
           "diverging": [
            [
             0,
             "#8e0152"
            ],
            [
             0.1,
             "#c51b7d"
            ],
            [
             0.2,
             "#de77ae"
            ],
            [
             0.3,
             "#f1b6da"
            ],
            [
             0.4,
             "#fde0ef"
            ],
            [
             0.5,
             "#f7f7f7"
            ],
            [
             0.6,
             "#e6f5d0"
            ],
            [
             0.7,
             "#b8e186"
            ],
            [
             0.8,
             "#7fbc41"
            ],
            [
             0.9,
             "#4d9221"
            ],
            [
             1,
             "#276419"
            ]
           ],
           "sequential": [
            [
             0,
             "#0d0887"
            ],
            [
             0.1111111111111111,
             "#46039f"
            ],
            [
             0.2222222222222222,
             "#7201a8"
            ],
            [
             0.3333333333333333,
             "#9c179e"
            ],
            [
             0.4444444444444444,
             "#bd3786"
            ],
            [
             0.5555555555555556,
             "#d8576b"
            ],
            [
             0.6666666666666666,
             "#ed7953"
            ],
            [
             0.7777777777777778,
             "#fb9f3a"
            ],
            [
             0.8888888888888888,
             "#fdca26"
            ],
            [
             1,
             "#f0f921"
            ]
           ],
           "sequentialminus": [
            [
             0,
             "#0d0887"
            ],
            [
             0.1111111111111111,
             "#46039f"
            ],
            [
             0.2222222222222222,
             "#7201a8"
            ],
            [
             0.3333333333333333,
             "#9c179e"
            ],
            [
             0.4444444444444444,
             "#bd3786"
            ],
            [
             0.5555555555555556,
             "#d8576b"
            ],
            [
             0.6666666666666666,
             "#ed7953"
            ],
            [
             0.7777777777777778,
             "#fb9f3a"
            ],
            [
             0.8888888888888888,
             "#fdca26"
            ],
            [
             1,
             "#f0f921"
            ]
           ]
          },
          "colorway": [
           "#636efa",
           "#EF553B",
           "#00cc96",
           "#ab63fa",
           "#FFA15A",
           "#19d3f3",
           "#FF6692",
           "#B6E880",
           "#FF97FF",
           "#FECB52"
          ],
          "font": {
           "color": "#f2f5fa"
          },
          "geo": {
           "bgcolor": "rgb(17,17,17)",
           "lakecolor": "rgb(17,17,17)",
           "landcolor": "rgb(17,17,17)",
           "showlakes": true,
           "showland": true,
           "subunitcolor": "#506784"
          },
          "hoverlabel": {
           "align": "left"
          },
          "hovermode": "closest",
          "mapbox": {
           "style": "dark"
          },
          "paper_bgcolor": "rgb(17,17,17)",
          "plot_bgcolor": "rgb(17,17,17)",
          "polar": {
           "angularaxis": {
            "gridcolor": "#506784",
            "linecolor": "#506784",
            "ticks": ""
           },
           "bgcolor": "rgb(17,17,17)",
           "radialaxis": {
            "gridcolor": "#506784",
            "linecolor": "#506784",
            "ticks": ""
           }
          },
          "scene": {
           "xaxis": {
            "backgroundcolor": "rgb(17,17,17)",
            "gridcolor": "#506784",
            "gridwidth": 2,
            "linecolor": "#506784",
            "showbackground": true,
            "ticks": "",
            "zerolinecolor": "#C8D4E3"
           },
           "yaxis": {
            "backgroundcolor": "rgb(17,17,17)",
            "gridcolor": "#506784",
            "gridwidth": 2,
            "linecolor": "#506784",
            "showbackground": true,
            "ticks": "",
            "zerolinecolor": "#C8D4E3"
           },
           "zaxis": {
            "backgroundcolor": "rgb(17,17,17)",
            "gridcolor": "#506784",
            "gridwidth": 2,
            "linecolor": "#506784",
            "showbackground": true,
            "ticks": "",
            "zerolinecolor": "#C8D4E3"
           }
          },
          "shapedefaults": {
           "line": {
            "color": "#f2f5fa"
           }
          },
          "sliderdefaults": {
           "bgcolor": "#C8D4E3",
           "bordercolor": "rgb(17,17,17)",
           "borderwidth": 1,
           "tickwidth": 0
          },
          "ternary": {
           "aaxis": {
            "gridcolor": "#506784",
            "linecolor": "#506784",
            "ticks": ""
           },
           "baxis": {
            "gridcolor": "#506784",
            "linecolor": "#506784",
            "ticks": ""
           },
           "bgcolor": "rgb(17,17,17)",
           "caxis": {
            "gridcolor": "#506784",
            "linecolor": "#506784",
            "ticks": ""
           }
          },
          "title": {
           "x": 0.05
          },
          "updatemenudefaults": {
           "bgcolor": "#506784",
           "borderwidth": 0
          },
          "xaxis": {
           "automargin": true,
           "gridcolor": "#283442",
           "linecolor": "#506784",
           "ticks": "",
           "title": {
            "standoff": 15
           },
           "zerolinecolor": "#283442",
           "zerolinewidth": 2
          },
          "yaxis": {
           "automargin": true,
           "gridcolor": "#283442",
           "linecolor": "#506784",
           "ticks": "",
           "title": {
            "standoff": 15
           },
           "zerolinecolor": "#283442",
           "zerolinewidth": 2
          }
         }
        },
        "title": {
         "font": {
          "size": 32
         },
         "text": "AAPL Prices - Hollow Candles",
         "x": 0.45,
         "xanchor": "center",
         "y": 0.95,
         "yanchor": "top"
        },
        "width": 1600,
        "xaxis": {
         "anchor": "y",
         "domain": [
          0,
          1
         ],
         "nticks": 36,
         "rangeslider": {
          "visible": false
         },
         "tickangle": -90,
         "tickformat": "%Y-%m-%d",
         "type": "category"
        },
        "yaxis": {
         "anchor": "x",
         "domain": [
          0,
          1
         ],
         "title": {
          "text": "AAPL Price"
         }
        }
       }
      }
     },
     "metadata": {},
     "output_type": "display_data"
    }
   ],
   "source": [
    "fig = make_subplots(\n",
    "    rows = 1,\n",
    "    cols = 1\n",
    ")\n",
    "ohlc = data.copy()\n",
    "df = ohlc\n",
    "\n",
    "df_10d_sma = ohlc['Close'].rolling(window=10, min_periods=1).mean()\n",
    "df_20d_sma = ohlc['Close'].rolling(window=20, min_periods=1).mean()\n",
    "df_30d_sma = ohlc['Close'].rolling(window=30, min_periods=1).mean()\n",
    "\n",
    "ohlc['Date'] = ohlc.index.astype(str)\n",
    "\n",
    "ohlc['previousClose'] = ohlc['Close'].shift(1)\n",
    "\n",
    "# Define color based on close and previous close\n",
    "ohlc['color'] = np.where(ohlc['Close'] > ohlc['previousClose'], 'green', 'red')\n",
    "\n",
    "# Set fill to transparent if close > open and the previously defined color otherwise\n",
    "ohlc['fill'] = np.where(ohlc['Close'] > ohlc['Open'], 'rgba(255, 0, 0, 0)', ohlc['color'])\n",
    "\n",
    "\n",
    "shown_red_fill = False\n",
    "shown_red_hollow = False\n",
    "shown_green_fill = False\n",
    "shown_green_hollow = False\n",
    "\n",
    "for index, row in ohlc.iterrows():\n",
    "    \n",
    "    if (row['color'] == 'green') & (row['fill'] == 'green'):\n",
    "        name = 'Open > Close > Prev Close'\n",
    "        current_candle = 'green_fill'\n",
    "    elif (row['color'] == 'green') & (row['fill'] == 'rgba(255, 0, 0, 0)'):\n",
    "        name = 'Prev Close < Close > Open'\n",
    "        current_candle = 'green_hollow'\n",
    "    elif (row['color'] == 'red') & (row['fill'] == 'red'):\n",
    "        name = 'Open > Close < Prev Close'\n",
    "        current_candle = 'red_fill'\n",
    "    elif (row['color'] == 'red') & (row['fill'] == 'rgba(255, 0, 0, 0)'):\n",
    "        name = 'Prev Close > Close > Open'\n",
    "        current_candle = 'red_hollow'\n",
    "    else:\n",
    "        name = 'Hollow Candles'\n",
    "            \n",
    "    # print(f'{str(index.date())}, {row[\"color\"]}, {row[\"fill\"]}, {current_candle}, {name}')\n",
    "\n",
    "    if ~shown_green_fill & (current_candle == 'green_fill'):\n",
    "        showlegend = True\n",
    "        shown_green_fill = True\n",
    "    elif ~shown_green_hollow & (current_candle == 'green_hollow'):\n",
    "        showlegend = True\n",
    "        shown_green_hollow = True\n",
    "    elif ~shown_red_fill & (current_candle == 'red_fill'):\n",
    "        showlegend = True\n",
    "        shown_red_fill = True\n",
    "    elif ~shown_red_hollow & (current_candle == 'red_hollow'):\n",
    "        showlegend = True\n",
    "        shown_red_hollow = True\n",
    "    else:\n",
    "        showlegend = False\n",
    "\n",
    "    color_dict = dict(fillcolor=row['fill'], line=dict(color=row['color']))\n",
    "    \n",
    "    fig.add_trace(\n",
    "        go.Candlestick(\n",
    "            x = [row['Date']],\n",
    "            open = [row['Open']],\n",
    "            high = [row['High']],\n",
    "            low = [row['Low']],\n",
    "            close = [row['Close']],\n",
    "            increasing = color_dict,\n",
    "            decreasing = color_dict,\n",
    "            showlegend = showlegend,\n",
    "            name = name,\n",
    "            legendgroup = 'Hollow Candlesticks'\n",
    "        )\n",
    "    )\n",
    "\n",
    "fig.add_trace(\n",
    "    go.Scatter(\n",
    "        x = ohlc['Date'],\n",
    "        y = df_20d_sma,\n",
    "        line = {'color': 'lemonchiffon'},  # or 'palegoldenrod' - slightly darker\n",
    "        name = '20-Day SMA'\n",
    "    )\n",
    ")\n",
    "\n",
    "# Add Bollinger bands\n",
    "upper_bollinger_close = bollinger_bands(df['Close'])['upper']\n",
    "lower_bollinger_close = bollinger_bands(df['Close'])['lower']\n",
    "fig.add_trace(\n",
    "    go.Scatter(\n",
    "        x = df['Date'],\n",
    "        y = lower_bollinger_close,\n",
    "        line = dict(color='gold'),\n",
    "        # name = '2-SD Bollinger Bands'\n",
    "        name = '(20, 2) Bollinger Bands'\n",
    "    )\n",
    ")\n",
    "fig.add_trace(\n",
    "    go.Scatter(\n",
    "        x = df['Date'],\n",
    "        y = upper_bollinger_close,\n",
    "        line = dict(color='gold'),\n",
    "        showlegend = False\n",
    "    )\n",
    ")\n",
    "\"\"\"\n",
    "fig.add_trace(\n",
    "    go.Scatter(\n",
    "        x = ohlc['Date'],\n",
    "        y = df_30d_sma,\n",
    "        line = {'color': 'palegoldenrod'},  # or 'khaki' - slightly darker\n",
    "        name = '30-Day SMA'\n",
    "    )\n",
    ")\n",
    "\"\"\"\n",
    "\n",
    "fig.update_layout(\n",
    "    width = 1600,\n",
    "    height = 800,\n",
    "    xaxis_rangeslider_visible = False,\n",
    "    template = 'plotly_dark',\n",
    "    yaxis_title = f'Price',\n",
    "    title = dict(\n",
    "        text = f'{tk} Prices - Hollow Candles',\n",
    "        font_size = 32,\n",
    "        y = 0.95,\n",
    "        x = 0.45,\n",
    "        xanchor = 'center',\n",
    "        yanchor = 'top'\n",
    "    )\n",
    ")\n",
    "fig.update_xaxes(\n",
    "    nticks = 36,\n",
    "    tickformat = '%Y-%m-%d',\n",
    "    type = 'category',\n",
    "    tickangle = -90\n",
    ")\n",
    "\n",
    "fig.show()"
   ]
  },
  {
   "cell_type": "code",
   "execution_count": 82,
   "metadata": {},
   "outputs": [
    {
     "data": {
      "text/html": [
       "<div>\n",
       "<style scoped>\n",
       "    .dataframe tbody tr th:only-of-type {\n",
       "        vertical-align: middle;\n",
       "    }\n",
       "\n",
       "    .dataframe tbody tr th {\n",
       "        vertical-align: top;\n",
       "    }\n",
       "\n",
       "    .dataframe thead th {\n",
       "        text-align: right;\n",
       "    }\n",
       "</style>\n",
       "<table border=\"1\" class=\"dataframe\">\n",
       "  <thead>\n",
       "    <tr style=\"text-align: right;\">\n",
       "      <th></th>\n",
       "      <th>Open</th>\n",
       "      <th>High</th>\n",
       "      <th>Low</th>\n",
       "      <th>Close</th>\n",
       "      <th>Adj Close</th>\n",
       "      <th>Volume</th>\n",
       "    </tr>\n",
       "    <tr>\n",
       "      <th>Date</th>\n",
       "      <th></th>\n",
       "      <th></th>\n",
       "      <th></th>\n",
       "      <th></th>\n",
       "      <th></th>\n",
       "      <th></th>\n",
       "    </tr>\n",
       "  </thead>\n",
       "  <tbody>\n",
       "    <tr>\n",
       "      <th>2023-08-30</th>\n",
       "      <td>184.940002</td>\n",
       "      <td>187.850006</td>\n",
       "      <td>184.740005</td>\n",
       "      <td>187.649994</td>\n",
       "      <td>186.694656</td>\n",
       "      <td>60813900</td>\n",
       "    </tr>\n",
       "    <tr>\n",
       "      <th>2023-08-31</th>\n",
       "      <td>187.839996</td>\n",
       "      <td>189.119995</td>\n",
       "      <td>187.479996</td>\n",
       "      <td>187.869995</td>\n",
       "      <td>186.913544</td>\n",
       "      <td>60794500</td>\n",
       "    </tr>\n",
       "    <tr>\n",
       "      <th>2023-09-01</th>\n",
       "      <td>189.490005</td>\n",
       "      <td>189.919998</td>\n",
       "      <td>188.279999</td>\n",
       "      <td>189.460007</td>\n",
       "      <td>188.495453</td>\n",
       "      <td>45732600</td>\n",
       "    </tr>\n",
       "    <tr>\n",
       "      <th>2023-09-05</th>\n",
       "      <td>188.279999</td>\n",
       "      <td>189.979996</td>\n",
       "      <td>187.610001</td>\n",
       "      <td>189.699997</td>\n",
       "      <td>188.734222</td>\n",
       "      <td>45280000</td>\n",
       "    </tr>\n",
       "    <tr>\n",
       "      <th>2023-09-06</th>\n",
       "      <td>188.399994</td>\n",
       "      <td>188.850006</td>\n",
       "      <td>181.470001</td>\n",
       "      <td>182.910004</td>\n",
       "      <td>181.978790</td>\n",
       "      <td>81755800</td>\n",
       "    </tr>\n",
       "    <tr>\n",
       "      <th>...</th>\n",
       "      <td>...</td>\n",
       "      <td>...</td>\n",
       "      <td>...</td>\n",
       "      <td>...</td>\n",
       "      <td>...</td>\n",
       "      <td>...</td>\n",
       "    </tr>\n",
       "    <tr>\n",
       "      <th>2024-08-23</th>\n",
       "      <td>225.660004</td>\n",
       "      <td>228.220001</td>\n",
       "      <td>224.330002</td>\n",
       "      <td>226.839996</td>\n",
       "      <td>226.839996</td>\n",
       "      <td>38677300</td>\n",
       "    </tr>\n",
       "    <tr>\n",
       "      <th>2024-08-26</th>\n",
       "      <td>226.759995</td>\n",
       "      <td>227.279999</td>\n",
       "      <td>223.889999</td>\n",
       "      <td>227.179993</td>\n",
       "      <td>227.179993</td>\n",
       "      <td>30602200</td>\n",
       "    </tr>\n",
       "    <tr>\n",
       "      <th>2024-08-27</th>\n",
       "      <td>226.000000</td>\n",
       "      <td>228.850006</td>\n",
       "      <td>224.889999</td>\n",
       "      <td>228.029999</td>\n",
       "      <td>228.029999</td>\n",
       "      <td>35934600</td>\n",
       "    </tr>\n",
       "    <tr>\n",
       "      <th>2024-08-28</th>\n",
       "      <td>227.919998</td>\n",
       "      <td>229.860001</td>\n",
       "      <td>225.679993</td>\n",
       "      <td>226.490005</td>\n",
       "      <td>226.490005</td>\n",
       "      <td>38052200</td>\n",
       "    </tr>\n",
       "    <tr>\n",
       "      <th>2024-08-29</th>\n",
       "      <td>230.100006</td>\n",
       "      <td>232.919998</td>\n",
       "      <td>228.880005</td>\n",
       "      <td>229.789993</td>\n",
       "      <td>229.789993</td>\n",
       "      <td>51852200</td>\n",
       "    </tr>\n",
       "  </tbody>\n",
       "</table>\n",
       "<p>252 rows × 6 columns</p>\n",
       "</div>"
      ],
      "text/plain": [
       "                  Open        High         Low       Close   Adj Close  \\\n",
       "Date                                                                     \n",
       "2023-08-30  184.940002  187.850006  184.740005  187.649994  186.694656   \n",
       "2023-08-31  187.839996  189.119995  187.479996  187.869995  186.913544   \n",
       "2023-09-01  189.490005  189.919998  188.279999  189.460007  188.495453   \n",
       "2023-09-05  188.279999  189.979996  187.610001  189.699997  188.734222   \n",
       "2023-09-06  188.399994  188.850006  181.470001  182.910004  181.978790   \n",
       "...                ...         ...         ...         ...         ...   \n",
       "2024-08-23  225.660004  228.220001  224.330002  226.839996  226.839996   \n",
       "2024-08-26  226.759995  227.279999  223.889999  227.179993  227.179993   \n",
       "2024-08-27  226.000000  228.850006  224.889999  228.029999  228.029999   \n",
       "2024-08-28  227.919998  229.860001  225.679993  226.490005  226.490005   \n",
       "2024-08-29  230.100006  232.919998  228.880005  229.789993  229.789993   \n",
       "\n",
       "              Volume  \n",
       "Date                  \n",
       "2023-08-30  60813900  \n",
       "2023-08-31  60794500  \n",
       "2023-09-01  45732600  \n",
       "2023-09-05  45280000  \n",
       "2023-09-06  81755800  \n",
       "...              ...  \n",
       "2024-08-23  38677300  \n",
       "2024-08-26  30602200  \n",
       "2024-08-27  35934600  \n",
       "2024-08-28  38052200  \n",
       "2024-08-29  51852200  \n",
       "\n",
       "[252 rows x 6 columns]"
      ]
     },
     "metadata": {},
     "output_type": "display_data"
    },
    {
     "data": {
      "application/vnd.plotly.v1+json": {
       "config": {
        "plotlyServerURL": "https://plot.ly"
       },
       "data": [
        {
         "close": [
          187.64999389648438
         ],
         "decreasing": {
          "fillcolor": "rgba(0, 255, 0, 0.3)",
          "line": {
           "color": "green"
          }
         },
         "high": [
          187.85000610351562
         ],
         "increasing": {
          "fillcolor": "rgba(0, 255, 0, 0.3)",
          "line": {
           "color": "green"
          }
         },
         "low": [
          184.74000549316406
         ],
         "name": "Close > Open",
         "open": [
          184.94000244140625
         ],
         "showlegend": true,
         "type": "candlestick",
         "x": [
          "2023-08-30"
         ]
        },
        {
         "close": [
          187.8699951171875
         ],
         "decreasing": {
          "fillcolor": "rgba(0, 255, 0, 0.3)",
          "line": {
           "color": "green"
          }
         },
         "high": [
          189.1199951171875
         ],
         "increasing": {
          "fillcolor": "rgba(0, 255, 0, 0.3)",
          "line": {
           "color": "green"
          }
         },
         "low": [
          187.47999572753906
         ],
         "name": "Close > Open",
         "open": [
          187.83999633789062
         ],
         "showlegend": false,
         "type": "candlestick",
         "x": [
          "2023-08-31"
         ]
        },
        {
         "close": [
          189.4600067138672
         ],
         "decreasing": {
          "fillcolor": "rgba(255, 0, 0, 0.6)",
          "line": {
           "color": "red"
          }
         },
         "high": [
          189.9199981689453
         ],
         "increasing": {
          "fillcolor": "rgba(255, 0, 0, 0.6)",
          "line": {
           "color": "red"
          }
         },
         "low": [
          188.27999877929688
         ],
         "name": "Open > Close",
         "open": [
          189.49000549316406
         ],
         "showlegend": true,
         "type": "candlestick",
         "x": [
          "2023-09-01"
         ]
        },
        {
         "close": [
          189.6999969482422
         ],
         "decreasing": {
          "fillcolor": "rgba(0, 255, 0, 0.3)",
          "line": {
           "color": "green"
          }
         },
         "high": [
          189.97999572753906
         ],
         "increasing": {
          "fillcolor": "rgba(0, 255, 0, 0.3)",
          "line": {
           "color": "green"
          }
         },
         "low": [
          187.61000061035156
         ],
         "name": "Close > Open",
         "open": [
          188.27999877929688
         ],
         "showlegend": false,
         "type": "candlestick",
         "x": [
          "2023-09-05"
         ]
        },
        {
         "close": [
          182.91000366210938
         ],
         "decreasing": {
          "fillcolor": "rgba(255, 0, 0, 0.6)",
          "line": {
           "color": "red"
          }
         },
         "high": [
          188.85000610351562
         ],
         "increasing": {
          "fillcolor": "rgba(255, 0, 0, 0.6)",
          "line": {
           "color": "red"
          }
         },
         "low": [
          181.47000122070312
         ],
         "name": "Open > Close",
         "open": [
          188.39999389648438
         ],
         "showlegend": false,
         "type": "candlestick",
         "x": [
          "2023-09-06"
         ]
        },
        {
         "close": [
          177.55999755859375
         ],
         "decreasing": {
          "fillcolor": "rgba(0, 255, 0, 0.3)",
          "line": {
           "color": "green"
          }
         },
         "high": [
          178.2100067138672
         ],
         "increasing": {
          "fillcolor": "rgba(0, 255, 0, 0.3)",
          "line": {
           "color": "green"
          }
         },
         "low": [
          173.5399932861328
         ],
         "name": "Close > Open",
         "open": [
          175.17999267578125
         ],
         "showlegend": false,
         "type": "candlestick",
         "x": [
          "2023-09-07"
         ]
        },
        {
         "close": [
          178.17999267578125
         ],
         "decreasing": {
          "fillcolor": "rgba(255, 0, 0, 0.6)",
          "line": {
           "color": "red"
          }
         },
         "high": [
          180.24000549316406
         ],
         "increasing": {
          "fillcolor": "rgba(255, 0, 0, 0.6)",
          "line": {
           "color": "red"
          }
         },
         "low": [
          177.7899932861328
         ],
         "name": "Open > Close",
         "open": [
          178.35000610351562
         ],
         "showlegend": false,
         "type": "candlestick",
         "x": [
          "2023-09-08"
         ]
        },
        {
         "close": [
          179.36000061035156
         ],
         "decreasing": {
          "fillcolor": "rgba(255, 0, 0, 0.6)",
          "line": {
           "color": "red"
          }
         },
         "high": [
          180.3000030517578
         ],
         "increasing": {
          "fillcolor": "rgba(255, 0, 0, 0.6)",
          "line": {
           "color": "red"
          }
         },
         "low": [
          177.33999633789062
         ],
         "name": "Open > Close",
         "open": [
          180.07000732421875
         ],
         "showlegend": false,
         "type": "candlestick",
         "x": [
          "2023-09-11"
         ]
        },
        {
         "close": [
          176.3000030517578
         ],
         "decreasing": {
          "fillcolor": "rgba(255, 0, 0, 0.6)",
          "line": {
           "color": "red"
          }
         },
         "high": [
          180.1300048828125
         ],
         "increasing": {
          "fillcolor": "rgba(255, 0, 0, 0.6)",
          "line": {
           "color": "red"
          }
         },
         "low": [
          174.82000732421875
         ],
         "name": "Open > Close",
         "open": [
          179.49000549316406
         ],
         "showlegend": false,
         "type": "candlestick",
         "x": [
          "2023-09-12"
         ]
        },
        {
         "close": [
          174.2100067138672
         ],
         "decreasing": {
          "fillcolor": "rgba(255, 0, 0, 0.6)",
          "line": {
           "color": "red"
          }
         },
         "high": [
          177.3000030517578
         ],
         "increasing": {
          "fillcolor": "rgba(255, 0, 0, 0.6)",
          "line": {
           "color": "red"
          }
         },
         "low": [
          173.97999572753906
         ],
         "name": "Open > Close",
         "open": [
          176.50999450683594
         ],
         "showlegend": false,
         "type": "candlestick",
         "x": [
          "2023-09-13"
         ]
        },
        {
         "close": [
          175.74000549316406
         ],
         "decreasing": {
          "fillcolor": "rgba(0, 255, 0, 0.3)",
          "line": {
           "color": "green"
          }
         },
         "high": [
          176.10000610351562
         ],
         "increasing": {
          "fillcolor": "rgba(0, 255, 0, 0.3)",
          "line": {
           "color": "green"
          }
         },
         "low": [
          173.5800018310547
         ],
         "name": "Close > Open",
         "open": [
          174
         ],
         "showlegend": false,
         "type": "candlestick",
         "x": [
          "2023-09-14"
         ]
        },
        {
         "close": [
          175.00999450683594
         ],
         "decreasing": {
          "fillcolor": "rgba(255, 0, 0, 0.6)",
          "line": {
           "color": "red"
          }
         },
         "high": [
          176.5
         ],
         "increasing": {
          "fillcolor": "rgba(255, 0, 0, 0.6)",
          "line": {
           "color": "red"
          }
         },
         "low": [
          173.82000732421875
         ],
         "name": "Open > Close",
         "open": [
          176.47999572753906
         ],
         "showlegend": false,
         "type": "candlestick",
         "x": [
          "2023-09-15"
         ]
        },
        {
         "close": [
          177.97000122070312
         ],
         "decreasing": {
          "fillcolor": "rgba(0, 255, 0, 0.3)",
          "line": {
           "color": "green"
          }
         },
         "high": [
          179.3800048828125
         ],
         "increasing": {
          "fillcolor": "rgba(0, 255, 0, 0.3)",
          "line": {
           "color": "green"
          }
         },
         "low": [
          176.1699981689453
         ],
         "name": "Close > Open",
         "open": [
          176.47999572753906
         ],
         "showlegend": false,
         "type": "candlestick",
         "x": [
          "2023-09-18"
         ]
        },
        {
         "close": [
          179.07000732421875
         ],
         "decreasing": {
          "fillcolor": "rgba(0, 255, 0, 0.3)",
          "line": {
           "color": "green"
          }
         },
         "high": [
          179.6300048828125
         ],
         "increasing": {
          "fillcolor": "rgba(0, 255, 0, 0.3)",
          "line": {
           "color": "green"
          }
         },
         "low": [
          177.1300048828125
         ],
         "name": "Close > Open",
         "open": [
          177.52000427246094
         ],
         "showlegend": false,
         "type": "candlestick",
         "x": [
          "2023-09-19"
         ]
        },
        {
         "close": [
          175.49000549316406
         ],
         "decreasing": {
          "fillcolor": "rgba(255, 0, 0, 0.6)",
          "line": {
           "color": "red"
          }
         },
         "high": [
          179.6999969482422
         ],
         "increasing": {
          "fillcolor": "rgba(255, 0, 0, 0.6)",
          "line": {
           "color": "red"
          }
         },
         "low": [
          175.39999389648438
         ],
         "name": "Open > Close",
         "open": [
          179.25999450683594
         ],
         "showlegend": false,
         "type": "candlestick",
         "x": [
          "2023-09-20"
         ]
        },
        {
         "close": [
          173.92999267578125
         ],
         "decreasing": {
          "fillcolor": "rgba(255, 0, 0, 0.6)",
          "line": {
           "color": "red"
          }
         },
         "high": [
          176.3000030517578
         ],
         "increasing": {
          "fillcolor": "rgba(255, 0, 0, 0.6)",
          "line": {
           "color": "red"
          }
         },
         "low": [
          173.86000061035156
         ],
         "name": "Open > Close",
         "open": [
          174.5500030517578
         ],
         "showlegend": false,
         "type": "candlestick",
         "x": [
          "2023-09-21"
         ]
        },
        {
         "close": [
          174.7899932861328
         ],
         "decreasing": {
          "fillcolor": "rgba(0, 255, 0, 0.3)",
          "line": {
           "color": "green"
          }
         },
         "high": [
          177.0800018310547
         ],
         "increasing": {
          "fillcolor": "rgba(0, 255, 0, 0.3)",
          "line": {
           "color": "green"
          }
         },
         "low": [
          174.0500030517578
         ],
         "name": "Close > Open",
         "open": [
          174.6699981689453
         ],
         "showlegend": false,
         "type": "candlestick",
         "x": [
          "2023-09-22"
         ]
        },
        {
         "close": [
          176.0800018310547
         ],
         "decreasing": {
          "fillcolor": "rgba(0, 255, 0, 0.3)",
          "line": {
           "color": "green"
          }
         },
         "high": [
          176.97000122070312
         ],
         "increasing": {
          "fillcolor": "rgba(0, 255, 0, 0.3)",
          "line": {
           "color": "green"
          }
         },
         "low": [
          174.14999389648438
         ],
         "name": "Close > Open",
         "open": [
          174.1999969482422
         ],
         "showlegend": false,
         "type": "candlestick",
         "x": [
          "2023-09-25"
         ]
        },
        {
         "close": [
          171.9600067138672
         ],
         "decreasing": {
          "fillcolor": "rgba(255, 0, 0, 0.6)",
          "line": {
           "color": "red"
          }
         },
         "high": [
          175.1999969482422
         ],
         "increasing": {
          "fillcolor": "rgba(255, 0, 0, 0.6)",
          "line": {
           "color": "red"
          }
         },
         "low": [
          171.66000366210938
         ],
         "name": "Open > Close",
         "open": [
          174.82000732421875
         ],
         "showlegend": false,
         "type": "candlestick",
         "x": [
          "2023-09-26"
         ]
        },
        {
         "close": [
          170.42999267578125
         ],
         "decreasing": {
          "fillcolor": "rgba(255, 0, 0, 0.6)",
          "line": {
           "color": "red"
          }
         },
         "high": [
          173.0399932861328
         ],
         "increasing": {
          "fillcolor": "rgba(255, 0, 0, 0.6)",
          "line": {
           "color": "red"
          }
         },
         "low": [
          169.0500030517578
         ],
         "name": "Open > Close",
         "open": [
          172.6199951171875
         ],
         "showlegend": false,
         "type": "candlestick",
         "x": [
          "2023-09-27"
         ]
        },
        {
         "close": [
          170.69000244140625
         ],
         "decreasing": {
          "fillcolor": "rgba(0, 255, 0, 0.3)",
          "line": {
           "color": "green"
          }
         },
         "high": [
          172.02999877929688
         ],
         "increasing": {
          "fillcolor": "rgba(0, 255, 0, 0.3)",
          "line": {
           "color": "green"
          }
         },
         "low": [
          167.6199951171875
         ],
         "name": "Close > Open",
         "open": [
          169.33999633789062
         ],
         "showlegend": false,
         "type": "candlestick",
         "x": [
          "2023-09-28"
         ]
        },
        {
         "close": [
          171.2100067138672
         ],
         "decreasing": {
          "fillcolor": "rgba(255, 0, 0, 0.6)",
          "line": {
           "color": "red"
          }
         },
         "high": [
          173.07000732421875
         ],
         "increasing": {
          "fillcolor": "rgba(255, 0, 0, 0.6)",
          "line": {
           "color": "red"
          }
         },
         "low": [
          170.33999633789062
         ],
         "name": "Open > Close",
         "open": [
          172.02000427246094
         ],
         "showlegend": false,
         "type": "candlestick",
         "x": [
          "2023-09-29"
         ]
        },
        {
         "close": [
          173.75
         ],
         "decreasing": {
          "fillcolor": "rgba(0, 255, 0, 0.3)",
          "line": {
           "color": "green"
          }
         },
         "high": [
          174.3000030517578
         ],
         "increasing": {
          "fillcolor": "rgba(0, 255, 0, 0.3)",
          "line": {
           "color": "green"
          }
         },
         "low": [
          170.92999267578125
         ],
         "name": "Close > Open",
         "open": [
          171.22000122070312
         ],
         "showlegend": false,
         "type": "candlestick",
         "x": [
          "2023-10-02"
         ]
        },
        {
         "close": [
          172.39999389648438
         ],
         "decreasing": {
          "fillcolor": "rgba(0, 255, 0, 0.3)",
          "line": {
           "color": "green"
          }
         },
         "high": [
          173.6300048828125
         ],
         "increasing": {
          "fillcolor": "rgba(0, 255, 0, 0.3)",
          "line": {
           "color": "green"
          }
         },
         "low": [
          170.82000732421875
         ],
         "name": "Close > Open",
         "open": [
          172.25999450683594
         ],
         "showlegend": false,
         "type": "candlestick",
         "x": [
          "2023-10-03"
         ]
        },
        {
         "close": [
          173.66000366210938
         ],
         "decreasing": {
          "fillcolor": "rgba(0, 255, 0, 0.3)",
          "line": {
           "color": "green"
          }
         },
         "high": [
          174.2100067138672
         ],
         "increasing": {
          "fillcolor": "rgba(0, 255, 0, 0.3)",
          "line": {
           "color": "green"
          }
         },
         "low": [
          170.97000122070312
         ],
         "name": "Close > Open",
         "open": [
          171.08999633789062
         ],
         "showlegend": false,
         "type": "candlestick",
         "x": [
          "2023-10-04"
         ]
        },
        {
         "close": [
          174.91000366210938
         ],
         "decreasing": {
          "fillcolor": "rgba(0, 255, 0, 0.3)",
          "line": {
           "color": "green"
          }
         },
         "high": [
          175.4499969482422
         ],
         "increasing": {
          "fillcolor": "rgba(0, 255, 0, 0.3)",
          "line": {
           "color": "green"
          }
         },
         "low": [
          172.67999267578125
         ],
         "name": "Close > Open",
         "open": [
          173.7899932861328
         ],
         "showlegend": false,
         "type": "candlestick",
         "x": [
          "2023-10-05"
         ]
        },
        {
         "close": [
          177.49000549316406
         ],
         "decreasing": {
          "fillcolor": "rgba(0, 255, 0, 0.3)",
          "line": {
           "color": "green"
          }
         },
         "high": [
          177.99000549316406
         ],
         "increasing": {
          "fillcolor": "rgba(0, 255, 0, 0.3)",
          "line": {
           "color": "green"
          }
         },
         "low": [
          173.17999267578125
         ],
         "name": "Close > Open",
         "open": [
          173.8000030517578
         ],
         "showlegend": false,
         "type": "candlestick",
         "x": [
          "2023-10-06"
         ]
        },
        {
         "close": [
          178.99000549316406
         ],
         "decreasing": {
          "fillcolor": "rgba(0, 255, 0, 0.3)",
          "line": {
           "color": "green"
          }
         },
         "high": [
          179.0500030517578
         ],
         "increasing": {
          "fillcolor": "rgba(0, 255, 0, 0.3)",
          "line": {
           "color": "green"
          }
         },
         "low": [
          175.8000030517578
         ],
         "name": "Close > Open",
         "open": [
          176.80999755859375
         ],
         "showlegend": false,
         "type": "candlestick",
         "x": [
          "2023-10-09"
         ]
        },
        {
         "close": [
          178.38999938964844
         ],
         "decreasing": {
          "fillcolor": "rgba(0, 255, 0, 0.3)",
          "line": {
           "color": "green"
          }
         },
         "high": [
          179.72000122070312
         ],
         "increasing": {
          "fillcolor": "rgba(0, 255, 0, 0.3)",
          "line": {
           "color": "green"
          }
         },
         "low": [
          177.9499969482422
         ],
         "name": "Close > Open",
         "open": [
          178.10000610351562
         ],
         "showlegend": false,
         "type": "candlestick",
         "x": [
          "2023-10-10"
         ]
        },
        {
         "close": [
          179.8000030517578
         ],
         "decreasing": {
          "fillcolor": "rgba(0, 255, 0, 0.3)",
          "line": {
           "color": "green"
          }
         },
         "high": [
          179.85000610351562
         ],
         "increasing": {
          "fillcolor": "rgba(0, 255, 0, 0.3)",
          "line": {
           "color": "green"
          }
         },
         "low": [
          177.60000610351562
         ],
         "name": "Close > Open",
         "open": [
          178.1999969482422
         ],
         "showlegend": false,
         "type": "candlestick",
         "x": [
          "2023-10-11"
         ]
        },
        {
         "close": [
          180.7100067138672
         ],
         "decreasing": {
          "fillcolor": "rgba(0, 255, 0, 0.3)",
          "line": {
           "color": "green"
          }
         },
         "high": [
          182.33999633789062
         ],
         "increasing": {
          "fillcolor": "rgba(0, 255, 0, 0.3)",
          "line": {
           "color": "green"
          }
         },
         "low": [
          179.0399932861328
         ],
         "name": "Close > Open",
         "open": [
          180.07000732421875
         ],
         "showlegend": false,
         "type": "candlestick",
         "x": [
          "2023-10-12"
         ]
        },
        {
         "close": [
          178.85000610351562
         ],
         "decreasing": {
          "fillcolor": "rgba(255, 0, 0, 0.6)",
          "line": {
           "color": "red"
          }
         },
         "high": [
          181.92999267578125
         ],
         "increasing": {
          "fillcolor": "rgba(255, 0, 0, 0.6)",
          "line": {
           "color": "red"
          }
         },
         "low": [
          178.13999938964844
         ],
         "name": "Open > Close",
         "open": [
          181.4199981689453
         ],
         "showlegend": false,
         "type": "candlestick",
         "x": [
          "2023-10-13"
         ]
        },
        {
         "close": [
          178.72000122070312
         ],
         "decreasing": {
          "fillcolor": "rgba(0, 255, 0, 0.3)",
          "line": {
           "color": "green"
          }
         },
         "high": [
          179.0800018310547
         ],
         "increasing": {
          "fillcolor": "rgba(0, 255, 0, 0.3)",
          "line": {
           "color": "green"
          }
         },
         "low": [
          176.50999450683594
         ],
         "name": "Close > Open",
         "open": [
          176.75
         ],
         "showlegend": false,
         "type": "candlestick",
         "x": [
          "2023-10-16"
         ]
        },
        {
         "close": [
          177.14999389648438
         ],
         "decreasing": {
          "fillcolor": "rgba(0, 255, 0, 0.3)",
          "line": {
           "color": "green"
          }
         },
         "high": [
          178.4199981689453
         ],
         "increasing": {
          "fillcolor": "rgba(0, 255, 0, 0.3)",
          "line": {
           "color": "green"
          }
         },
         "low": [
          174.8000030517578
         ],
         "name": "Close > Open",
         "open": [
          176.64999389648438
         ],
         "showlegend": false,
         "type": "candlestick",
         "x": [
          "2023-10-17"
         ]
        },
        {
         "close": [
          175.83999633789062
         ],
         "decreasing": {
          "fillcolor": "rgba(0, 255, 0, 0.3)",
          "line": {
           "color": "green"
          }
         },
         "high": [
          177.5800018310547
         ],
         "increasing": {
          "fillcolor": "rgba(0, 255, 0, 0.3)",
          "line": {
           "color": "green"
          }
         },
         "low": [
          175.11000061035156
         ],
         "name": "Close > Open",
         "open": [
          175.5800018310547
         ],
         "showlegend": false,
         "type": "candlestick",
         "x": [
          "2023-10-18"
         ]
        },
        {
         "close": [
          175.4600067138672
         ],
         "decreasing": {
          "fillcolor": "rgba(255, 0, 0, 0.6)",
          "line": {
           "color": "red"
          }
         },
         "high": [
          177.83999633789062
         ],
         "increasing": {
          "fillcolor": "rgba(255, 0, 0, 0.6)",
          "line": {
           "color": "red"
          }
         },
         "low": [
          175.19000244140625
         ],
         "name": "Open > Close",
         "open": [
          176.0399932861328
         ],
         "showlegend": false,
         "type": "candlestick",
         "x": [
          "2023-10-19"
         ]
        },
        {
         "close": [
          172.8800048828125
         ],
         "decreasing": {
          "fillcolor": "rgba(255, 0, 0, 0.6)",
          "line": {
           "color": "red"
          }
         },
         "high": [
          175.4199981689453
         ],
         "increasing": {
          "fillcolor": "rgba(255, 0, 0, 0.6)",
          "line": {
           "color": "red"
          }
         },
         "low": [
          172.63999938964844
         ],
         "name": "Open > Close",
         "open": [
          175.30999755859375
         ],
         "showlegend": false,
         "type": "candlestick",
         "x": [
          "2023-10-20"
         ]
        },
        {
         "close": [
          173
         ],
         "decreasing": {
          "fillcolor": "rgba(0, 255, 0, 0.3)",
          "line": {
           "color": "green"
          }
         },
         "high": [
          174.00999450683594
         ],
         "increasing": {
          "fillcolor": "rgba(0, 255, 0, 0.3)",
          "line": {
           "color": "green"
          }
         },
         "low": [
          169.92999267578125
         ],
         "name": "Close > Open",
         "open": [
          170.91000366210938
         ],
         "showlegend": false,
         "type": "candlestick",
         "x": [
          "2023-10-23"
         ]
        },
        {
         "close": [
          173.44000244140625
         ],
         "decreasing": {
          "fillcolor": "rgba(0, 255, 0, 0.3)",
          "line": {
           "color": "green"
          }
         },
         "high": [
          173.6699981689453
         ],
         "increasing": {
          "fillcolor": "rgba(0, 255, 0, 0.3)",
          "line": {
           "color": "green"
          }
         },
         "low": [
          171.4499969482422
         ],
         "name": "Close > Open",
         "open": [
          173.0500030517578
         ],
         "showlegend": false,
         "type": "candlestick",
         "x": [
          "2023-10-24"
         ]
        },
        {
         "close": [
          171.10000610351562
         ],
         "decreasing": {
          "fillcolor": "rgba(255, 0, 0, 0.6)",
          "line": {
           "color": "red"
          }
         },
         "high": [
          173.05999755859375
         ],
         "increasing": {
          "fillcolor": "rgba(255, 0, 0, 0.6)",
          "line": {
           "color": "red"
          }
         },
         "low": [
          170.64999389648438
         ],
         "name": "Open > Close",
         "open": [
          171.8800048828125
         ],
         "showlegend": false,
         "type": "candlestick",
         "x": [
          "2023-10-25"
         ]
        },
        {
         "close": [
          166.88999938964844
         ],
         "decreasing": {
          "fillcolor": "rgba(255, 0, 0, 0.6)",
          "line": {
           "color": "red"
          }
         },
         "high": [
          171.3800048828125
         ],
         "increasing": {
          "fillcolor": "rgba(255, 0, 0, 0.6)",
          "line": {
           "color": "red"
          }
         },
         "low": [
          165.6699981689453
         ],
         "name": "Open > Close",
         "open": [
          170.3699951171875
         ],
         "showlegend": false,
         "type": "candlestick",
         "x": [
          "2023-10-26"
         ]
        },
        {
         "close": [
          168.22000122070312
         ],
         "decreasing": {
          "fillcolor": "rgba(0, 255, 0, 0.3)",
          "line": {
           "color": "green"
          }
         },
         "high": [
          168.9600067138672
         ],
         "increasing": {
          "fillcolor": "rgba(0, 255, 0, 0.3)",
          "line": {
           "color": "green"
          }
         },
         "low": [
          166.8300018310547
         ],
         "name": "Close > Open",
         "open": [
          166.91000366210938
         ],
         "showlegend": false,
         "type": "candlestick",
         "x": [
          "2023-10-27"
         ]
        },
        {
         "close": [
          170.2899932861328
         ],
         "decreasing": {
          "fillcolor": "rgba(0, 255, 0, 0.3)",
          "line": {
           "color": "green"
          }
         },
         "high": [
          171.1699981689453
         ],
         "increasing": {
          "fillcolor": "rgba(0, 255, 0, 0.3)",
          "line": {
           "color": "green"
          }
         },
         "low": [
          168.8699951171875
         ],
         "name": "Close > Open",
         "open": [
          169.02000427246094
         ],
         "showlegend": false,
         "type": "candlestick",
         "x": [
          "2023-10-30"
         ]
        },
        {
         "close": [
          170.77000427246094
         ],
         "decreasing": {
          "fillcolor": "rgba(0, 255, 0, 0.3)",
          "line": {
           "color": "green"
          }
         },
         "high": [
          170.89999389648438
         ],
         "increasing": {
          "fillcolor": "rgba(0, 255, 0, 0.3)",
          "line": {
           "color": "green"
          }
         },
         "low": [
          167.89999389648438
         ],
         "name": "Close > Open",
         "open": [
          169.35000610351562
         ],
         "showlegend": false,
         "type": "candlestick",
         "x": [
          "2023-10-31"
         ]
        },
        {
         "close": [
          173.97000122070312
         ],
         "decreasing": {
          "fillcolor": "rgba(0, 255, 0, 0.3)",
          "line": {
           "color": "green"
          }
         },
         "high": [
          174.22999572753906
         ],
         "increasing": {
          "fillcolor": "rgba(0, 255, 0, 0.3)",
          "line": {
           "color": "green"
          }
         },
         "low": [
          170.1199951171875
         ],
         "name": "Close > Open",
         "open": [
          171
         ],
         "showlegend": false,
         "type": "candlestick",
         "x": [
          "2023-11-01"
         ]
        },
        {
         "close": [
          177.57000732421875
         ],
         "decreasing": {
          "fillcolor": "rgba(0, 255, 0, 0.3)",
          "line": {
           "color": "green"
          }
         },
         "high": [
          177.77999877929688
         ],
         "increasing": {
          "fillcolor": "rgba(0, 255, 0, 0.3)",
          "line": {
           "color": "green"
          }
         },
         "low": [
          175.4600067138672
         ],
         "name": "Close > Open",
         "open": [
          175.52000427246094
         ],
         "showlegend": false,
         "type": "candlestick",
         "x": [
          "2023-11-02"
         ]
        },
        {
         "close": [
          176.64999389648438
         ],
         "decreasing": {
          "fillcolor": "rgba(0, 255, 0, 0.3)",
          "line": {
           "color": "green"
          }
         },
         "high": [
          176.82000732421875
         ],
         "increasing": {
          "fillcolor": "rgba(0, 255, 0, 0.3)",
          "line": {
           "color": "green"
          }
         },
         "low": [
          173.35000610351562
         ],
         "name": "Close > Open",
         "open": [
          174.24000549316406
         ],
         "showlegend": false,
         "type": "candlestick",
         "x": [
          "2023-11-03"
         ]
        },
        {
         "close": [
          179.22999572753906
         ],
         "decreasing": {
          "fillcolor": "rgba(0, 255, 0, 0.3)",
          "line": {
           "color": "green"
          }
         },
         "high": [
          179.42999267578125
         ],
         "increasing": {
          "fillcolor": "rgba(0, 255, 0, 0.3)",
          "line": {
           "color": "green"
          }
         },
         "low": [
          176.2100067138672
         ],
         "name": "Close > Open",
         "open": [
          176.3800048828125
         ],
         "showlegend": false,
         "type": "candlestick",
         "x": [
          "2023-11-06"
         ]
        },
        {
         "close": [
          181.82000732421875
         ],
         "decreasing": {
          "fillcolor": "rgba(0, 255, 0, 0.3)",
          "line": {
           "color": "green"
          }
         },
         "high": [
          182.44000244140625
         ],
         "increasing": {
          "fillcolor": "rgba(0, 255, 0, 0.3)",
          "line": {
           "color": "green"
          }
         },
         "low": [
          178.97000122070312
         ],
         "name": "Close > Open",
         "open": [
          179.17999267578125
         ],
         "showlegend": false,
         "type": "candlestick",
         "x": [
          "2023-11-07"
         ]
        },
        {
         "close": [
          182.88999938964844
         ],
         "decreasing": {
          "fillcolor": "rgba(0, 255, 0, 0.3)",
          "line": {
           "color": "green"
          }
         },
         "high": [
          183.4499969482422
         ],
         "increasing": {
          "fillcolor": "rgba(0, 255, 0, 0.3)",
          "line": {
           "color": "green"
          }
         },
         "low": [
          181.58999633789062
         ],
         "name": "Close > Open",
         "open": [
          182.35000610351562
         ],
         "showlegend": false,
         "type": "candlestick",
         "x": [
          "2023-11-08"
         ]
        },
        {
         "close": [
          182.41000366210938
         ],
         "decreasing": {
          "fillcolor": "rgba(255, 0, 0, 0.6)",
          "line": {
           "color": "red"
          }
         },
         "high": [
          184.1199951171875
         ],
         "increasing": {
          "fillcolor": "rgba(255, 0, 0, 0.6)",
          "line": {
           "color": "red"
          }
         },
         "low": [
          181.80999755859375
         ],
         "name": "Open > Close",
         "open": [
          182.9600067138672
         ],
         "showlegend": false,
         "type": "candlestick",
         "x": [
          "2023-11-09"
         ]
        },
        {
         "close": [
          186.39999389648438
         ],
         "decreasing": {
          "fillcolor": "rgba(0, 255, 0, 0.3)",
          "line": {
           "color": "green"
          }
         },
         "high": [
          186.57000732421875
         ],
         "increasing": {
          "fillcolor": "rgba(0, 255, 0, 0.3)",
          "line": {
           "color": "green"
          }
         },
         "low": [
          183.52999877929688
         ],
         "name": "Close > Open",
         "open": [
          183.97000122070312
         ],
         "showlegend": false,
         "type": "candlestick",
         "x": [
          "2023-11-10"
         ]
        },
        {
         "close": [
          184.8000030517578
         ],
         "decreasing": {
          "fillcolor": "rgba(255, 0, 0, 0.6)",
          "line": {
           "color": "red"
          }
         },
         "high": [
          186.02999877929688
         ],
         "increasing": {
          "fillcolor": "rgba(255, 0, 0, 0.6)",
          "line": {
           "color": "red"
          }
         },
         "low": [
          184.2100067138672
         ],
         "name": "Open > Close",
         "open": [
          185.82000732421875
         ],
         "showlegend": false,
         "type": "candlestick",
         "x": [
          "2023-11-13"
         ]
        },
        {
         "close": [
          187.44000244140625
         ],
         "decreasing": {
          "fillcolor": "rgba(255, 0, 0, 0.6)",
          "line": {
           "color": "red"
          }
         },
         "high": [
          188.11000061035156
         ],
         "increasing": {
          "fillcolor": "rgba(255, 0, 0, 0.6)",
          "line": {
           "color": "red"
          }
         },
         "low": [
          186.3000030517578
         ],
         "name": "Open > Close",
         "open": [
          187.6999969482422
         ],
         "showlegend": false,
         "type": "candlestick",
         "x": [
          "2023-11-14"
         ]
        },
        {
         "close": [
          188.00999450683594
         ],
         "decreasing": {
          "fillcolor": "rgba(0, 255, 0, 0.3)",
          "line": {
           "color": "green"
          }
         },
         "high": [
          189.5
         ],
         "increasing": {
          "fillcolor": "rgba(0, 255, 0, 0.3)",
          "line": {
           "color": "green"
          }
         },
         "low": [
          187.77999877929688
         ],
         "name": "Close > Open",
         "open": [
          187.85000610351562
         ],
         "showlegend": false,
         "type": "candlestick",
         "x": [
          "2023-11-15"
         ]
        },
        {
         "close": [
          189.7100067138672
         ],
         "decreasing": {
          "fillcolor": "rgba(0, 255, 0, 0.3)",
          "line": {
           "color": "green"
          }
         },
         "high": [
          190.9600067138672
         ],
         "increasing": {
          "fillcolor": "rgba(0, 255, 0, 0.3)",
          "line": {
           "color": "green"
          }
         },
         "low": [
          188.64999389648438
         ],
         "name": "Close > Open",
         "open": [
          189.57000732421875
         ],
         "showlegend": false,
         "type": "candlestick",
         "x": [
          "2023-11-16"
         ]
        },
        {
         "close": [
          189.69000244140625
         ],
         "decreasing": {
          "fillcolor": "rgba(255, 0, 0, 0.6)",
          "line": {
           "color": "red"
          }
         },
         "high": [
          190.3800048828125
         ],
         "increasing": {
          "fillcolor": "rgba(255, 0, 0, 0.6)",
          "line": {
           "color": "red"
          }
         },
         "low": [
          188.57000732421875
         ],
         "name": "Open > Close",
         "open": [
          190.25
         ],
         "showlegend": false,
         "type": "candlestick",
         "x": [
          "2023-11-17"
         ]
        },
        {
         "close": [
          191.4499969482422
         ],
         "decreasing": {
          "fillcolor": "rgba(0, 255, 0, 0.3)",
          "line": {
           "color": "green"
          }
         },
         "high": [
          191.91000366210938
         ],
         "increasing": {
          "fillcolor": "rgba(0, 255, 0, 0.3)",
          "line": {
           "color": "green"
          }
         },
         "low": [
          189.8800048828125
         ],
         "name": "Close > Open",
         "open": [
          189.88999938964844
         ],
         "showlegend": false,
         "type": "candlestick",
         "x": [
          "2023-11-20"
         ]
        },
        {
         "close": [
          190.63999938964844
         ],
         "decreasing": {
          "fillcolor": "rgba(255, 0, 0, 0.6)",
          "line": {
           "color": "red"
          }
         },
         "high": [
          191.52000427246094
         ],
         "increasing": {
          "fillcolor": "rgba(255, 0, 0, 0.6)",
          "line": {
           "color": "red"
          }
         },
         "low": [
          189.74000549316406
         ],
         "name": "Open > Close",
         "open": [
          191.41000366210938
         ],
         "showlegend": false,
         "type": "candlestick",
         "x": [
          "2023-11-21"
         ]
        },
        {
         "close": [
          191.30999755859375
         ],
         "decreasing": {
          "fillcolor": "rgba(255, 0, 0, 0.6)",
          "line": {
           "color": "red"
          }
         },
         "high": [
          192.92999267578125
         ],
         "increasing": {
          "fillcolor": "rgba(255, 0, 0, 0.6)",
          "line": {
           "color": "red"
          }
         },
         "low": [
          190.8300018310547
         ],
         "name": "Open > Close",
         "open": [
          191.49000549316406
         ],
         "showlegend": false,
         "type": "candlestick",
         "x": [
          "2023-11-22"
         ]
        },
        {
         "close": [
          189.97000122070312
         ],
         "decreasing": {
          "fillcolor": "rgba(255, 0, 0, 0.6)",
          "line": {
           "color": "red"
          }
         },
         "high": [
          190.89999389648438
         ],
         "increasing": {
          "fillcolor": "rgba(255, 0, 0, 0.6)",
          "line": {
           "color": "red"
          }
         },
         "low": [
          189.25
         ],
         "name": "Open > Close",
         "open": [
          190.8699951171875
         ],
         "showlegend": false,
         "type": "candlestick",
         "x": [
          "2023-11-24"
         ]
        },
        {
         "close": [
          189.7899932861328
         ],
         "decreasing": {
          "fillcolor": "rgba(255, 0, 0, 0.6)",
          "line": {
           "color": "red"
          }
         },
         "high": [
          190.6699981689453
         ],
         "increasing": {
          "fillcolor": "rgba(255, 0, 0, 0.6)",
          "line": {
           "color": "red"
          }
         },
         "low": [
          188.89999389648438
         ],
         "name": "Open > Close",
         "open": [
          189.9199981689453
         ],
         "showlegend": false,
         "type": "candlestick",
         "x": [
          "2023-11-27"
         ]
        },
        {
         "close": [
          190.39999389648438
         ],
         "decreasing": {
          "fillcolor": "rgba(0, 255, 0, 0.3)",
          "line": {
           "color": "green"
          }
         },
         "high": [
          191.0800018310547
         ],
         "increasing": {
          "fillcolor": "rgba(0, 255, 0, 0.3)",
          "line": {
           "color": "green"
          }
         },
         "low": [
          189.39999389648438
         ],
         "name": "Close > Open",
         "open": [
          189.77999877929688
         ],
         "showlegend": false,
         "type": "candlestick",
         "x": [
          "2023-11-28"
         ]
        },
        {
         "close": [
          189.3699951171875
         ],
         "decreasing": {
          "fillcolor": "rgba(255, 0, 0, 0.6)",
          "line": {
           "color": "red"
          }
         },
         "high": [
          192.08999633789062
         ],
         "increasing": {
          "fillcolor": "rgba(255, 0, 0, 0.6)",
          "line": {
           "color": "red"
          }
         },
         "low": [
          188.97000122070312
         ],
         "name": "Open > Close",
         "open": [
          190.89999389648438
         ],
         "showlegend": false,
         "type": "candlestick",
         "x": [
          "2023-11-29"
         ]
        },
        {
         "close": [
          189.9499969482422
         ],
         "decreasing": {
          "fillcolor": "rgba(0, 255, 0, 0.3)",
          "line": {
           "color": "green"
          }
         },
         "high": [
          190.32000732421875
         ],
         "increasing": {
          "fillcolor": "rgba(0, 255, 0, 0.3)",
          "line": {
           "color": "green"
          }
         },
         "low": [
          188.19000244140625
         ],
         "name": "Close > Open",
         "open": [
          189.83999633789062
         ],
         "showlegend": false,
         "type": "candlestick",
         "x": [
          "2023-11-30"
         ]
        },
        {
         "close": [
          191.24000549316406
         ],
         "decreasing": {
          "fillcolor": "rgba(0, 255, 0, 0.3)",
          "line": {
           "color": "green"
          }
         },
         "high": [
          191.55999755859375
         ],
         "increasing": {
          "fillcolor": "rgba(0, 255, 0, 0.3)",
          "line": {
           "color": "green"
          }
         },
         "low": [
          189.22999572753906
         ],
         "name": "Close > Open",
         "open": [
          190.3300018310547
         ],
         "showlegend": false,
         "type": "candlestick",
         "x": [
          "2023-12-01"
         ]
        },
        {
         "close": [
          189.42999267578125
         ],
         "decreasing": {
          "fillcolor": "rgba(255, 0, 0, 0.6)",
          "line": {
           "color": "red"
          }
         },
         "high": [
          190.0500030517578
         ],
         "increasing": {
          "fillcolor": "rgba(255, 0, 0, 0.6)",
          "line": {
           "color": "red"
          }
         },
         "low": [
          187.4499969482422
         ],
         "name": "Open > Close",
         "open": [
          189.97999572753906
         ],
         "showlegend": false,
         "type": "candlestick",
         "x": [
          "2023-12-04"
         ]
        },
        {
         "close": [
          193.4199981689453
         ],
         "decreasing": {
          "fillcolor": "rgba(0, 255, 0, 0.3)",
          "line": {
           "color": "green"
          }
         },
         "high": [
          194.39999389648438
         ],
         "increasing": {
          "fillcolor": "rgba(0, 255, 0, 0.3)",
          "line": {
           "color": "green"
          }
         },
         "low": [
          190.17999267578125
         ],
         "name": "Close > Open",
         "open": [
          190.2100067138672
         ],
         "showlegend": false,
         "type": "candlestick",
         "x": [
          "2023-12-05"
         ]
        },
        {
         "close": [
          192.32000732421875
         ],
         "decreasing": {
          "fillcolor": "rgba(255, 0, 0, 0.6)",
          "line": {
           "color": "red"
          }
         },
         "high": [
          194.75999450683594
         ],
         "increasing": {
          "fillcolor": "rgba(255, 0, 0, 0.6)",
          "line": {
           "color": "red"
          }
         },
         "low": [
          192.11000061035156
         ],
         "name": "Open > Close",
         "open": [
          194.4499969482422
         ],
         "showlegend": false,
         "type": "candlestick",
         "x": [
          "2023-12-06"
         ]
        },
        {
         "close": [
          194.27000427246094
         ],
         "decreasing": {
          "fillcolor": "rgba(0, 255, 0, 0.3)",
          "line": {
           "color": "green"
          }
         },
         "high": [
          195
         ],
         "increasing": {
          "fillcolor": "rgba(0, 255, 0, 0.3)",
          "line": {
           "color": "green"
          }
         },
         "low": [
          193.58999633789062
         ],
         "name": "Close > Open",
         "open": [
          193.6300048828125
         ],
         "showlegend": false,
         "type": "candlestick",
         "x": [
          "2023-12-07"
         ]
        },
        {
         "close": [
          195.7100067138672
         ],
         "decreasing": {
          "fillcolor": "rgba(0, 255, 0, 0.3)",
          "line": {
           "color": "green"
          }
         },
         "high": [
          195.99000549316406
         ],
         "increasing": {
          "fillcolor": "rgba(0, 255, 0, 0.3)",
          "line": {
           "color": "green"
          }
         },
         "low": [
          193.6699981689453
         ],
         "name": "Close > Open",
         "open": [
          194.1999969482422
         ],
         "showlegend": false,
         "type": "candlestick",
         "x": [
          "2023-12-08"
         ]
        },
        {
         "close": [
          193.17999267578125
         ],
         "decreasing": {
          "fillcolor": "rgba(0, 255, 0, 0.3)",
          "line": {
           "color": "green"
          }
         },
         "high": [
          193.49000549316406
         ],
         "increasing": {
          "fillcolor": "rgba(0, 255, 0, 0.3)",
          "line": {
           "color": "green"
          }
         },
         "low": [
          191.4199981689453
         ],
         "name": "Close > Open",
         "open": [
          193.11000061035156
         ],
         "showlegend": false,
         "type": "candlestick",
         "x": [
          "2023-12-11"
         ]
        },
        {
         "close": [
          194.7100067138672
         ],
         "decreasing": {
          "fillcolor": "rgba(0, 255, 0, 0.3)",
          "line": {
           "color": "green"
          }
         },
         "high": [
          194.72000122070312
         ],
         "increasing": {
          "fillcolor": "rgba(0, 255, 0, 0.3)",
          "line": {
           "color": "green"
          }
         },
         "low": [
          191.72000122070312
         ],
         "name": "Close > Open",
         "open": [
          193.0800018310547
         ],
         "showlegend": false,
         "type": "candlestick",
         "x": [
          "2023-12-12"
         ]
        },
        {
         "close": [
          197.9600067138672
         ],
         "decreasing": {
          "fillcolor": "rgba(0, 255, 0, 0.3)",
          "line": {
           "color": "green"
          }
         },
         "high": [
          198
         ],
         "increasing": {
          "fillcolor": "rgba(0, 255, 0, 0.3)",
          "line": {
           "color": "green"
          }
         },
         "low": [
          194.85000610351562
         ],
         "name": "Close > Open",
         "open": [
          195.08999633789062
         ],
         "showlegend": false,
         "type": "candlestick",
         "x": [
          "2023-12-13"
         ]
        },
        {
         "close": [
          198.11000061035156
         ],
         "decreasing": {
          "fillcolor": "rgba(0, 255, 0, 0.3)",
          "line": {
           "color": "green"
          }
         },
         "high": [
          199.6199951171875
         ],
         "increasing": {
          "fillcolor": "rgba(0, 255, 0, 0.3)",
          "line": {
           "color": "green"
          }
         },
         "low": [
          196.16000366210938
         ],
         "name": "Close > Open",
         "open": [
          198.02000427246094
         ],
         "showlegend": false,
         "type": "candlestick",
         "x": [
          "2023-12-14"
         ]
        },
        {
         "close": [
          197.57000732421875
         ],
         "decreasing": {
          "fillcolor": "rgba(0, 255, 0, 0.3)",
          "line": {
           "color": "green"
          }
         },
         "high": [
          198.39999389648438
         ],
         "increasing": {
          "fillcolor": "rgba(0, 255, 0, 0.3)",
          "line": {
           "color": "green"
          }
         },
         "low": [
          197
         ],
         "name": "Close > Open",
         "open": [
          197.52999877929688
         ],
         "showlegend": false,
         "type": "candlestick",
         "x": [
          "2023-12-15"
         ]
        },
        {
         "close": [
          195.88999938964844
         ],
         "decreasing": {
          "fillcolor": "rgba(255, 0, 0, 0.6)",
          "line": {
           "color": "red"
          }
         },
         "high": [
          196.6300048828125
         ],
         "increasing": {
          "fillcolor": "rgba(255, 0, 0, 0.6)",
          "line": {
           "color": "red"
          }
         },
         "low": [
          194.38999938964844
         ],
         "name": "Open > Close",
         "open": [
          196.08999633789062
         ],
         "showlegend": false,
         "type": "candlestick",
         "x": [
          "2023-12-18"
         ]
        },
        {
         "close": [
          196.94000244140625
         ],
         "decreasing": {
          "fillcolor": "rgba(0, 255, 0, 0.3)",
          "line": {
           "color": "green"
          }
         },
         "high": [
          196.9499969482422
         ],
         "increasing": {
          "fillcolor": "rgba(0, 255, 0, 0.3)",
          "line": {
           "color": "green"
          }
         },
         "low": [
          195.88999938964844
         ],
         "name": "Close > Open",
         "open": [
          196.16000366210938
         ],
         "showlegend": false,
         "type": "candlestick",
         "x": [
          "2023-12-19"
         ]
        },
        {
         "close": [
          194.8300018310547
         ],
         "decreasing": {
          "fillcolor": "rgba(255, 0, 0, 0.6)",
          "line": {
           "color": "red"
          }
         },
         "high": [
          197.67999267578125
         ],
         "increasing": {
          "fillcolor": "rgba(255, 0, 0, 0.6)",
          "line": {
           "color": "red"
          }
         },
         "low": [
          194.8300018310547
         ],
         "name": "Open > Close",
         "open": [
          196.89999389648438
         ],
         "showlegend": false,
         "type": "candlestick",
         "x": [
          "2023-12-20"
         ]
        },
        {
         "close": [
          194.67999267578125
         ],
         "decreasing": {
          "fillcolor": "rgba(255, 0, 0, 0.6)",
          "line": {
           "color": "red"
          }
         },
         "high": [
          197.0800018310547
         ],
         "increasing": {
          "fillcolor": "rgba(255, 0, 0, 0.6)",
          "line": {
           "color": "red"
          }
         },
         "low": [
          193.5
         ],
         "name": "Open > Close",
         "open": [
          196.10000610351562
         ],
         "showlegend": false,
         "type": "candlestick",
         "x": [
          "2023-12-21"
         ]
        },
        {
         "close": [
          193.60000610351562
         ],
         "decreasing": {
          "fillcolor": "rgba(255, 0, 0, 0.6)",
          "line": {
           "color": "red"
          }
         },
         "high": [
          195.41000366210938
         ],
         "increasing": {
          "fillcolor": "rgba(255, 0, 0, 0.6)",
          "line": {
           "color": "red"
          }
         },
         "low": [
          192.97000122070312
         ],
         "name": "Open > Close",
         "open": [
          195.17999267578125
         ],
         "showlegend": false,
         "type": "candlestick",
         "x": [
          "2023-12-22"
         ]
        },
        {
         "close": [
          193.0500030517578
         ],
         "decreasing": {
          "fillcolor": "rgba(255, 0, 0, 0.6)",
          "line": {
           "color": "red"
          }
         },
         "high": [
          193.88999938964844
         ],
         "increasing": {
          "fillcolor": "rgba(255, 0, 0, 0.6)",
          "line": {
           "color": "red"
          }
         },
         "low": [
          192.8300018310547
         ],
         "name": "Open > Close",
         "open": [
          193.61000061035156
         ],
         "showlegend": false,
         "type": "candlestick",
         "x": [
          "2023-12-26"
         ]
        },
        {
         "close": [
          193.14999389648438
         ],
         "decreasing": {
          "fillcolor": "rgba(0, 255, 0, 0.3)",
          "line": {
           "color": "green"
          }
         },
         "high": [
          193.5
         ],
         "increasing": {
          "fillcolor": "rgba(0, 255, 0, 0.3)",
          "line": {
           "color": "green"
          }
         },
         "low": [
          191.08999633789062
         ],
         "name": "Close > Open",
         "open": [
          192.49000549316406
         ],
         "showlegend": false,
         "type": "candlestick",
         "x": [
          "2023-12-27"
         ]
        },
        {
         "close": [
          193.5800018310547
         ],
         "decreasing": {
          "fillcolor": "rgba(255, 0, 0, 0.6)",
          "line": {
           "color": "red"
          }
         },
         "high": [
          194.66000366210938
         ],
         "increasing": {
          "fillcolor": "rgba(255, 0, 0, 0.6)",
          "line": {
           "color": "red"
          }
         },
         "low": [
          193.1699981689453
         ],
         "name": "Open > Close",
         "open": [
          194.13999938964844
         ],
         "showlegend": false,
         "type": "candlestick",
         "x": [
          "2023-12-28"
         ]
        },
        {
         "close": [
          192.52999877929688
         ],
         "decreasing": {
          "fillcolor": "rgba(255, 0, 0, 0.6)",
          "line": {
           "color": "red"
          }
         },
         "high": [
          194.39999389648438
         ],
         "increasing": {
          "fillcolor": "rgba(255, 0, 0, 0.6)",
          "line": {
           "color": "red"
          }
         },
         "low": [
          191.72999572753906
         ],
         "name": "Open > Close",
         "open": [
          193.89999389648438
         ],
         "showlegend": false,
         "type": "candlestick",
         "x": [
          "2023-12-29"
         ]
        },
        {
         "close": [
          185.63999938964844
         ],
         "decreasing": {
          "fillcolor": "rgba(255, 0, 0, 0.6)",
          "line": {
           "color": "red"
          }
         },
         "high": [
          188.44000244140625
         ],
         "increasing": {
          "fillcolor": "rgba(255, 0, 0, 0.6)",
          "line": {
           "color": "red"
          }
         },
         "low": [
          183.88999938964844
         ],
         "name": "Open > Close",
         "open": [
          187.14999389648438
         ],
         "showlegend": false,
         "type": "candlestick",
         "x": [
          "2024-01-02"
         ]
        },
        {
         "close": [
          184.25
         ],
         "decreasing": {
          "fillcolor": "rgba(0, 255, 0, 0.3)",
          "line": {
           "color": "green"
          }
         },
         "high": [
          185.8800048828125
         ],
         "increasing": {
          "fillcolor": "rgba(0, 255, 0, 0.3)",
          "line": {
           "color": "green"
          }
         },
         "low": [
          183.42999267578125
         ],
         "name": "Close > Open",
         "open": [
          184.22000122070312
         ],
         "showlegend": false,
         "type": "candlestick",
         "x": [
          "2024-01-03"
         ]
        },
        {
         "close": [
          181.91000366210938
         ],
         "decreasing": {
          "fillcolor": "rgba(255, 0, 0, 0.6)",
          "line": {
           "color": "red"
          }
         },
         "high": [
          183.08999633789062
         ],
         "increasing": {
          "fillcolor": "rgba(255, 0, 0, 0.6)",
          "line": {
           "color": "red"
          }
         },
         "low": [
          180.8800048828125
         ],
         "name": "Open > Close",
         "open": [
          182.14999389648438
         ],
         "showlegend": false,
         "type": "candlestick",
         "x": [
          "2024-01-04"
         ]
        },
        {
         "close": [
          181.17999267578125
         ],
         "decreasing": {
          "fillcolor": "rgba(255, 0, 0, 0.6)",
          "line": {
           "color": "red"
          }
         },
         "high": [
          182.75999450683594
         ],
         "increasing": {
          "fillcolor": "rgba(255, 0, 0, 0.6)",
          "line": {
           "color": "red"
          }
         },
         "low": [
          180.1699981689453
         ],
         "name": "Open > Close",
         "open": [
          181.99000549316406
         ],
         "showlegend": false,
         "type": "candlestick",
         "x": [
          "2024-01-05"
         ]
        },
        {
         "close": [
          185.55999755859375
         ],
         "decreasing": {
          "fillcolor": "rgba(0, 255, 0, 0.3)",
          "line": {
           "color": "green"
          }
         },
         "high": [
          185.60000610351562
         ],
         "increasing": {
          "fillcolor": "rgba(0, 255, 0, 0.3)",
          "line": {
           "color": "green"
          }
         },
         "low": [
          181.5
         ],
         "name": "Close > Open",
         "open": [
          182.08999633789062
         ],
         "showlegend": false,
         "type": "candlestick",
         "x": [
          "2024-01-08"
         ]
        },
        {
         "close": [
          185.13999938964844
         ],
         "decreasing": {
          "fillcolor": "rgba(0, 255, 0, 0.3)",
          "line": {
           "color": "green"
          }
         },
         "high": [
          185.14999389648438
         ],
         "increasing": {
          "fillcolor": "rgba(0, 255, 0, 0.3)",
          "line": {
           "color": "green"
          }
         },
         "low": [
          182.72999572753906
         ],
         "name": "Close > Open",
         "open": [
          183.9199981689453
         ],
         "showlegend": false,
         "type": "candlestick",
         "x": [
          "2024-01-09"
         ]
        },
        {
         "close": [
          186.19000244140625
         ],
         "decreasing": {
          "fillcolor": "rgba(0, 255, 0, 0.3)",
          "line": {
           "color": "green"
          }
         },
         "high": [
          186.39999389648438
         ],
         "increasing": {
          "fillcolor": "rgba(0, 255, 0, 0.3)",
          "line": {
           "color": "green"
          }
         },
         "low": [
          183.9199981689453
         ],
         "name": "Close > Open",
         "open": [
          184.35000610351562
         ],
         "showlegend": false,
         "type": "candlestick",
         "x": [
          "2024-01-10"
         ]
        },
        {
         "close": [
          185.58999633789062
         ],
         "decreasing": {
          "fillcolor": "rgba(255, 0, 0, 0.6)",
          "line": {
           "color": "red"
          }
         },
         "high": [
          187.0500030517578
         ],
         "increasing": {
          "fillcolor": "rgba(255, 0, 0, 0.6)",
          "line": {
           "color": "red"
          }
         },
         "low": [
          183.6199951171875
         ],
         "name": "Open > Close",
         "open": [
          186.5399932861328
         ],
         "showlegend": false,
         "type": "candlestick",
         "x": [
          "2024-01-11"
         ]
        },
        {
         "close": [
          185.9199981689453
         ],
         "decreasing": {
          "fillcolor": "rgba(255, 0, 0, 0.6)",
          "line": {
           "color": "red"
          }
         },
         "high": [
          186.74000549316406
         ],
         "increasing": {
          "fillcolor": "rgba(255, 0, 0, 0.6)",
          "line": {
           "color": "red"
          }
         },
         "low": [
          185.19000244140625
         ],
         "name": "Open > Close",
         "open": [
          186.05999755859375
         ],
         "showlegend": false,
         "type": "candlestick",
         "x": [
          "2024-01-12"
         ]
        },
        {
         "close": [
          183.6300048828125
         ],
         "decreasing": {
          "fillcolor": "rgba(0, 255, 0, 0.3)",
          "line": {
           "color": "green"
          }
         },
         "high": [
          184.25999450683594
         ],
         "increasing": {
          "fillcolor": "rgba(0, 255, 0, 0.3)",
          "line": {
           "color": "green"
          }
         },
         "low": [
          180.92999267578125
         ],
         "name": "Close > Open",
         "open": [
          182.16000366210938
         ],
         "showlegend": false,
         "type": "candlestick",
         "x": [
          "2024-01-16"
         ]
        },
        {
         "close": [
          182.67999267578125
         ],
         "decreasing": {
          "fillcolor": "rgba(0, 255, 0, 0.3)",
          "line": {
           "color": "green"
          }
         },
         "high": [
          182.92999267578125
         ],
         "increasing": {
          "fillcolor": "rgba(0, 255, 0, 0.3)",
          "line": {
           "color": "green"
          }
         },
         "low": [
          180.3000030517578
         ],
         "name": "Close > Open",
         "open": [
          181.27000427246094
         ],
         "showlegend": false,
         "type": "candlestick",
         "x": [
          "2024-01-17"
         ]
        },
        {
         "close": [
          188.6300048828125
         ],
         "decreasing": {
          "fillcolor": "rgba(0, 255, 0, 0.3)",
          "line": {
           "color": "green"
          }
         },
         "high": [
          189.13999938964844
         ],
         "increasing": {
          "fillcolor": "rgba(0, 255, 0, 0.3)",
          "line": {
           "color": "green"
          }
         },
         "low": [
          185.8300018310547
         ],
         "name": "Close > Open",
         "open": [
          186.08999633789062
         ],
         "showlegend": false,
         "type": "candlestick",
         "x": [
          "2024-01-18"
         ]
        },
        {
         "close": [
          191.55999755859375
         ],
         "decreasing": {
          "fillcolor": "rgba(0, 255, 0, 0.3)",
          "line": {
           "color": "green"
          }
         },
         "high": [
          191.9499969482422
         ],
         "increasing": {
          "fillcolor": "rgba(0, 255, 0, 0.3)",
          "line": {
           "color": "green"
          }
         },
         "low": [
          188.82000732421875
         ],
         "name": "Close > Open",
         "open": [
          189.3300018310547
         ],
         "showlegend": false,
         "type": "candlestick",
         "x": [
          "2024-01-19"
         ]
        },
        {
         "close": [
          193.88999938964844
         ],
         "decreasing": {
          "fillcolor": "rgba(0, 255, 0, 0.3)",
          "line": {
           "color": "green"
          }
         },
         "high": [
          195.3300018310547
         ],
         "increasing": {
          "fillcolor": "rgba(0, 255, 0, 0.3)",
          "line": {
           "color": "green"
          }
         },
         "low": [
          192.25999450683594
         ],
         "name": "Close > Open",
         "open": [
          192.3000030517578
         ],
         "showlegend": false,
         "type": "candlestick",
         "x": [
          "2024-01-22"
         ]
        },
        {
         "close": [
          195.17999267578125
         ],
         "decreasing": {
          "fillcolor": "rgba(0, 255, 0, 0.3)",
          "line": {
           "color": "green"
          }
         },
         "high": [
          195.75
         ],
         "increasing": {
          "fillcolor": "rgba(0, 255, 0, 0.3)",
          "line": {
           "color": "green"
          }
         },
         "low": [
          193.8300018310547
         ],
         "name": "Close > Open",
         "open": [
          195.02000427246094
         ],
         "showlegend": false,
         "type": "candlestick",
         "x": [
          "2024-01-23"
         ]
        },
        {
         "close": [
          194.5
         ],
         "decreasing": {
          "fillcolor": "rgba(255, 0, 0, 0.6)",
          "line": {
           "color": "red"
          }
         },
         "high": [
          196.3800048828125
         ],
         "increasing": {
          "fillcolor": "rgba(255, 0, 0, 0.6)",
          "line": {
           "color": "red"
          }
         },
         "low": [
          194.33999633789062
         ],
         "name": "Open > Close",
         "open": [
          195.4199981689453
         ],
         "showlegend": false,
         "type": "candlestick",
         "x": [
          "2024-01-24"
         ]
        },
        {
         "close": [
          194.1699981689453
         ],
         "decreasing": {
          "fillcolor": "rgba(255, 0, 0, 0.6)",
          "line": {
           "color": "red"
          }
         },
         "high": [
          196.27000427246094
         ],
         "increasing": {
          "fillcolor": "rgba(255, 0, 0, 0.6)",
          "line": {
           "color": "red"
          }
         },
         "low": [
          193.11000061035156
         ],
         "name": "Open > Close",
         "open": [
          195.22000122070312
         ],
         "showlegend": false,
         "type": "candlestick",
         "x": [
          "2024-01-25"
         ]
        },
        {
         "close": [
          192.4199981689453
         ],
         "decreasing": {
          "fillcolor": "rgba(255, 0, 0, 0.6)",
          "line": {
           "color": "red"
          }
         },
         "high": [
          194.75999450683594
         ],
         "increasing": {
          "fillcolor": "rgba(255, 0, 0, 0.6)",
          "line": {
           "color": "red"
          }
         },
         "low": [
          191.94000244140625
         ],
         "name": "Open > Close",
         "open": [
          194.27000427246094
         ],
         "showlegend": false,
         "type": "candlestick",
         "x": [
          "2024-01-26"
         ]
        },
        {
         "close": [
          191.72999572753906
         ],
         "decreasing": {
          "fillcolor": "rgba(255, 0, 0, 0.6)",
          "line": {
           "color": "red"
          }
         },
         "high": [
          192.1999969482422
         ],
         "increasing": {
          "fillcolor": "rgba(255, 0, 0, 0.6)",
          "line": {
           "color": "red"
          }
         },
         "low": [
          189.5800018310547
         ],
         "name": "Open > Close",
         "open": [
          192.00999450683594
         ],
         "showlegend": false,
         "type": "candlestick",
         "x": [
          "2024-01-29"
         ]
        },
        {
         "close": [
          188.0399932861328
         ],
         "decreasing": {
          "fillcolor": "rgba(255, 0, 0, 0.6)",
          "line": {
           "color": "red"
          }
         },
         "high": [
          191.8000030517578
         ],
         "increasing": {
          "fillcolor": "rgba(255, 0, 0, 0.6)",
          "line": {
           "color": "red"
          }
         },
         "low": [
          187.47000122070312
         ],
         "name": "Open > Close",
         "open": [
          190.94000244140625
         ],
         "showlegend": false,
         "type": "candlestick",
         "x": [
          "2024-01-30"
         ]
        },
        {
         "close": [
          184.39999389648438
         ],
         "decreasing": {
          "fillcolor": "rgba(255, 0, 0, 0.6)",
          "line": {
           "color": "red"
          }
         },
         "high": [
          187.10000610351562
         ],
         "increasing": {
          "fillcolor": "rgba(255, 0, 0, 0.6)",
          "line": {
           "color": "red"
          }
         },
         "low": [
          184.35000610351562
         ],
         "name": "Open > Close",
         "open": [
          187.0399932861328
         ],
         "showlegend": false,
         "type": "candlestick",
         "x": [
          "2024-01-31"
         ]
        },
        {
         "close": [
          186.86000061035156
         ],
         "decreasing": {
          "fillcolor": "rgba(0, 255, 0, 0.3)",
          "line": {
           "color": "green"
          }
         },
         "high": [
          186.9499969482422
         ],
         "increasing": {
          "fillcolor": "rgba(0, 255, 0, 0.3)",
          "line": {
           "color": "green"
          }
         },
         "low": [
          183.82000732421875
         ],
         "name": "Close > Open",
         "open": [
          183.99000549316406
         ],
         "showlegend": false,
         "type": "candlestick",
         "x": [
          "2024-02-01"
         ]
        },
        {
         "close": [
          185.85000610351562
         ],
         "decreasing": {
          "fillcolor": "rgba(0, 255, 0, 0.3)",
          "line": {
           "color": "green"
          }
         },
         "high": [
          187.3300018310547
         ],
         "increasing": {
          "fillcolor": "rgba(0, 255, 0, 0.3)",
          "line": {
           "color": "green"
          }
         },
         "low": [
          179.25
         ],
         "name": "Close > Open",
         "open": [
          179.86000061035156
         ],
         "showlegend": false,
         "type": "candlestick",
         "x": [
          "2024-02-02"
         ]
        },
        {
         "close": [
          187.67999267578125
         ],
         "decreasing": {
          "fillcolor": "rgba(255, 0, 0, 0.6)",
          "line": {
           "color": "red"
          }
         },
         "high": [
          189.25
         ],
         "increasing": {
          "fillcolor": "rgba(255, 0, 0, 0.6)",
          "line": {
           "color": "red"
          }
         },
         "low": [
          185.83999633789062
         ],
         "name": "Open > Close",
         "open": [
          188.14999389648438
         ],
         "showlegend": false,
         "type": "candlestick",
         "x": [
          "2024-02-05"
         ]
        },
        {
         "close": [
          189.3000030517578
         ],
         "decreasing": {
          "fillcolor": "rgba(0, 255, 0, 0.3)",
          "line": {
           "color": "green"
          }
         },
         "high": [
          189.30999755859375
         ],
         "increasing": {
          "fillcolor": "rgba(0, 255, 0, 0.3)",
          "line": {
           "color": "green"
          }
         },
         "low": [
          186.77000427246094
         ],
         "name": "Close > Open",
         "open": [
          186.86000061035156
         ],
         "showlegend": false,
         "type": "candlestick",
         "x": [
          "2024-02-06"
         ]
        },
        {
         "close": [
          189.41000366210938
         ],
         "decreasing": {
          "fillcolor": "rgba(255, 0, 0, 0.6)",
          "line": {
           "color": "red"
          }
         },
         "high": [
          191.0500030517578
         ],
         "increasing": {
          "fillcolor": "rgba(255, 0, 0, 0.6)",
          "line": {
           "color": "red"
          }
         },
         "low": [
          188.61000061035156
         ],
         "name": "Open > Close",
         "open": [
          190.63999938964844
         ],
         "showlegend": false,
         "type": "candlestick",
         "x": [
          "2024-02-07"
         ]
        },
        {
         "close": [
          188.32000732421875
         ],
         "decreasing": {
          "fillcolor": "rgba(255, 0, 0, 0.6)",
          "line": {
           "color": "red"
          }
         },
         "high": [
          189.5399932861328
         ],
         "increasing": {
          "fillcolor": "rgba(255, 0, 0, 0.6)",
          "line": {
           "color": "red"
          }
         },
         "low": [
          187.35000610351562
         ],
         "name": "Open > Close",
         "open": [
          189.38999938964844
         ],
         "showlegend": false,
         "type": "candlestick",
         "x": [
          "2024-02-08"
         ]
        },
        {
         "close": [
          188.85000610351562
         ],
         "decreasing": {
          "fillcolor": "rgba(0, 255, 0, 0.3)",
          "line": {
           "color": "green"
          }
         },
         "high": [
          189.99000549316406
         ],
         "increasing": {
          "fillcolor": "rgba(0, 255, 0, 0.3)",
          "line": {
           "color": "green"
          }
         },
         "low": [
          188
         ],
         "name": "Close > Open",
         "open": [
          188.64999389648438
         ],
         "showlegend": false,
         "type": "candlestick",
         "x": [
          "2024-02-09"
         ]
        },
        {
         "close": [
          187.14999389648438
         ],
         "decreasing": {
          "fillcolor": "rgba(255, 0, 0, 0.6)",
          "line": {
           "color": "red"
          }
         },
         "high": [
          188.6699981689453
         ],
         "increasing": {
          "fillcolor": "rgba(255, 0, 0, 0.6)",
          "line": {
           "color": "red"
          }
         },
         "low": [
          186.7899932861328
         ],
         "name": "Open > Close",
         "open": [
          188.4199981689453
         ],
         "showlegend": false,
         "type": "candlestick",
         "x": [
          "2024-02-12"
         ]
        },
        {
         "close": [
          185.0399932861328
         ],
         "decreasing": {
          "fillcolor": "rgba(255, 0, 0, 0.6)",
          "line": {
           "color": "red"
          }
         },
         "high": [
          186.2100067138672
         ],
         "increasing": {
          "fillcolor": "rgba(255, 0, 0, 0.6)",
          "line": {
           "color": "red"
          }
         },
         "low": [
          183.50999450683594
         ],
         "name": "Open > Close",
         "open": [
          185.77000427246094
         ],
         "showlegend": false,
         "type": "candlestick",
         "x": [
          "2024-02-13"
         ]
        },
        {
         "close": [
          184.14999389648438
         ],
         "decreasing": {
          "fillcolor": "rgba(255, 0, 0, 0.6)",
          "line": {
           "color": "red"
          }
         },
         "high": [
          185.52999877929688
         ],
         "increasing": {
          "fillcolor": "rgba(255, 0, 0, 0.6)",
          "line": {
           "color": "red"
          }
         },
         "low": [
          182.44000244140625
         ],
         "name": "Open > Close",
         "open": [
          185.32000732421875
         ],
         "showlegend": false,
         "type": "candlestick",
         "x": [
          "2024-02-14"
         ]
        },
        {
         "close": [
          183.86000061035156
         ],
         "decreasing": {
          "fillcolor": "rgba(0, 255, 0, 0.3)",
          "line": {
           "color": "green"
          }
         },
         "high": [
          184.49000549316406
         ],
         "increasing": {
          "fillcolor": "rgba(0, 255, 0, 0.3)",
          "line": {
           "color": "green"
          }
         },
         "low": [
          181.35000610351562
         ],
         "name": "Close > Open",
         "open": [
          183.5500030517578
         ],
         "showlegend": false,
         "type": "candlestick",
         "x": [
          "2024-02-15"
         ]
        },
        {
         "close": [
          182.30999755859375
         ],
         "decreasing": {
          "fillcolor": "rgba(255, 0, 0, 0.6)",
          "line": {
           "color": "red"
          }
         },
         "high": [
          184.85000610351562
         ],
         "increasing": {
          "fillcolor": "rgba(255, 0, 0, 0.6)",
          "line": {
           "color": "red"
          }
         },
         "low": [
          181.6699981689453
         ],
         "name": "Open > Close",
         "open": [
          183.4199981689453
         ],
         "showlegend": false,
         "type": "candlestick",
         "x": [
          "2024-02-16"
         ]
        },
        {
         "close": [
          181.55999755859375
         ],
         "decreasing": {
          "fillcolor": "rgba(255, 0, 0, 0.6)",
          "line": {
           "color": "red"
          }
         },
         "high": [
          182.42999267578125
         ],
         "increasing": {
          "fillcolor": "rgba(255, 0, 0, 0.6)",
          "line": {
           "color": "red"
          }
         },
         "low": [
          180
         ],
         "name": "Open > Close",
         "open": [
          181.7899932861328
         ],
         "showlegend": false,
         "type": "candlestick",
         "x": [
          "2024-02-20"
         ]
        },
        {
         "close": [
          182.32000732421875
         ],
         "decreasing": {
          "fillcolor": "rgba(0, 255, 0, 0.3)",
          "line": {
           "color": "green"
          }
         },
         "high": [
          182.88999938964844
         ],
         "increasing": {
          "fillcolor": "rgba(0, 255, 0, 0.3)",
          "line": {
           "color": "green"
          }
         },
         "low": [
          180.66000366210938
         ],
         "name": "Close > Open",
         "open": [
          181.94000244140625
         ],
         "showlegend": false,
         "type": "candlestick",
         "x": [
          "2024-02-21"
         ]
        },
        {
         "close": [
          184.3699951171875
         ],
         "decreasing": {
          "fillcolor": "rgba(0, 255, 0, 0.3)",
          "line": {
           "color": "green"
          }
         },
         "high": [
          184.9600067138672
         ],
         "increasing": {
          "fillcolor": "rgba(0, 255, 0, 0.3)",
          "line": {
           "color": "green"
          }
         },
         "low": [
          182.4600067138672
         ],
         "name": "Close > Open",
         "open": [
          183.47999572753906
         ],
         "showlegend": false,
         "type": "candlestick",
         "x": [
          "2024-02-22"
         ]
        },
        {
         "close": [
          182.52000427246094
         ],
         "decreasing": {
          "fillcolor": "rgba(255, 0, 0, 0.6)",
          "line": {
           "color": "red"
          }
         },
         "high": [
          185.0399932861328
         ],
         "increasing": {
          "fillcolor": "rgba(255, 0, 0, 0.6)",
          "line": {
           "color": "red"
          }
         },
         "low": [
          182.22999572753906
         ],
         "name": "Open > Close",
         "open": [
          185.00999450683594
         ],
         "showlegend": false,
         "type": "candlestick",
         "x": [
          "2024-02-23"
         ]
        },
        {
         "close": [
          181.16000366210938
         ],
         "decreasing": {
          "fillcolor": "rgba(255, 0, 0, 0.6)",
          "line": {
           "color": "red"
          }
         },
         "high": [
          182.75999450683594
         ],
         "increasing": {
          "fillcolor": "rgba(255, 0, 0, 0.6)",
          "line": {
           "color": "red"
          }
         },
         "low": [
          180.64999389648438
         ],
         "name": "Open > Close",
         "open": [
          182.24000549316406
         ],
         "showlegend": false,
         "type": "candlestick",
         "x": [
          "2024-02-26"
         ]
        },
        {
         "close": [
          182.6300048828125
         ],
         "decreasing": {
          "fillcolor": "rgba(0, 255, 0, 0.3)",
          "line": {
           "color": "green"
          }
         },
         "high": [
          183.9199981689453
         ],
         "increasing": {
          "fillcolor": "rgba(0, 255, 0, 0.3)",
          "line": {
           "color": "green"
          }
         },
         "low": [
          179.55999755859375
         ],
         "name": "Close > Open",
         "open": [
          181.10000610351562
         ],
         "showlegend": false,
         "type": "candlestick",
         "x": [
          "2024-02-27"
         ]
        },
        {
         "close": [
          181.4199981689453
         ],
         "decreasing": {
          "fillcolor": "rgba(255, 0, 0, 0.6)",
          "line": {
           "color": "red"
          }
         },
         "high": [
          183.1199951171875
         ],
         "increasing": {
          "fillcolor": "rgba(255, 0, 0, 0.6)",
          "line": {
           "color": "red"
          }
         },
         "low": [
          180.1300048828125
         ],
         "name": "Open > Close",
         "open": [
          182.50999450683594
         ],
         "showlegend": false,
         "type": "candlestick",
         "x": [
          "2024-02-28"
         ]
        },
        {
         "close": [
          180.75
         ],
         "decreasing": {
          "fillcolor": "rgba(255, 0, 0, 0.6)",
          "line": {
           "color": "red"
          }
         },
         "high": [
          182.57000732421875
         ],
         "increasing": {
          "fillcolor": "rgba(255, 0, 0, 0.6)",
          "line": {
           "color": "red"
          }
         },
         "low": [
          179.52999877929688
         ],
         "name": "Open > Close",
         "open": [
          181.27000427246094
         ],
         "showlegend": false,
         "type": "candlestick",
         "x": [
          "2024-02-29"
         ]
        },
        {
         "close": [
          179.66000366210938
         ],
         "decreasing": {
          "fillcolor": "rgba(0, 255, 0, 0.3)",
          "line": {
           "color": "green"
          }
         },
         "high": [
          180.52999877929688
         ],
         "increasing": {
          "fillcolor": "rgba(0, 255, 0, 0.3)",
          "line": {
           "color": "green"
          }
         },
         "low": [
          177.3800048828125
         ],
         "name": "Close > Open",
         "open": [
          179.5500030517578
         ],
         "showlegend": false,
         "type": "candlestick",
         "x": [
          "2024-03-01"
         ]
        },
        {
         "close": [
          175.10000610351562
         ],
         "decreasing": {
          "fillcolor": "rgba(255, 0, 0, 0.6)",
          "line": {
           "color": "red"
          }
         },
         "high": [
          176.89999389648438
         ],
         "increasing": {
          "fillcolor": "rgba(255, 0, 0, 0.6)",
          "line": {
           "color": "red"
          }
         },
         "low": [
          173.7899932861328
         ],
         "name": "Open > Close",
         "open": [
          176.14999389648438
         ],
         "showlegend": false,
         "type": "candlestick",
         "x": [
          "2024-03-04"
         ]
        },
        {
         "close": [
          170.1199951171875
         ],
         "decreasing": {
          "fillcolor": "rgba(255, 0, 0, 0.6)",
          "line": {
           "color": "red"
          }
         },
         "high": [
          172.0399932861328
         ],
         "increasing": {
          "fillcolor": "rgba(255, 0, 0, 0.6)",
          "line": {
           "color": "red"
          }
         },
         "low": [
          169.6199951171875
         ],
         "name": "Open > Close",
         "open": [
          170.75999450683594
         ],
         "showlegend": false,
         "type": "candlestick",
         "x": [
          "2024-03-05"
         ]
        },
        {
         "close": [
          169.1199951171875
         ],
         "decreasing": {
          "fillcolor": "rgba(255, 0, 0, 0.6)",
          "line": {
           "color": "red"
          }
         },
         "high": [
          171.24000549316406
         ],
         "increasing": {
          "fillcolor": "rgba(255, 0, 0, 0.6)",
          "line": {
           "color": "red"
          }
         },
         "low": [
          168.67999267578125
         ],
         "name": "Open > Close",
         "open": [
          171.05999755859375
         ],
         "showlegend": false,
         "type": "candlestick",
         "x": [
          "2024-03-06"
         ]
        },
        {
         "close": [
          169
         ],
         "decreasing": {
          "fillcolor": "rgba(255, 0, 0, 0.6)",
          "line": {
           "color": "red"
          }
         },
         "high": [
          170.72999572753906
         ],
         "increasing": {
          "fillcolor": "rgba(255, 0, 0, 0.6)",
          "line": {
           "color": "red"
          }
         },
         "low": [
          168.49000549316406
         ],
         "name": "Open > Close",
         "open": [
          169.14999389648438
         ],
         "showlegend": false,
         "type": "candlestick",
         "x": [
          "2024-03-07"
         ]
        },
        {
         "close": [
          170.72999572753906
         ],
         "decreasing": {
          "fillcolor": "rgba(0, 255, 0, 0.3)",
          "line": {
           "color": "green"
          }
         },
         "high": [
          173.6999969482422
         ],
         "increasing": {
          "fillcolor": "rgba(0, 255, 0, 0.3)",
          "line": {
           "color": "green"
          }
         },
         "low": [
          168.94000244140625
         ],
         "name": "Close > Open",
         "open": [
          169
         ],
         "showlegend": false,
         "type": "candlestick",
         "x": [
          "2024-03-08"
         ]
        },
        {
         "close": [
          172.75
         ],
         "decreasing": {
          "fillcolor": "rgba(255, 0, 0, 0.6)",
          "line": {
           "color": "red"
          }
         },
         "high": [
          174.3800048828125
         ],
         "increasing": {
          "fillcolor": "rgba(255, 0, 0, 0.6)",
          "line": {
           "color": "red"
          }
         },
         "low": [
          172.0500030517578
         ],
         "name": "Open > Close",
         "open": [
          172.94000244140625
         ],
         "showlegend": false,
         "type": "candlestick",
         "x": [
          "2024-03-11"
         ]
        },
        {
         "close": [
          173.22999572753906
         ],
         "decreasing": {
          "fillcolor": "rgba(0, 255, 0, 0.3)",
          "line": {
           "color": "green"
          }
         },
         "high": [
          174.02999877929688
         ],
         "increasing": {
          "fillcolor": "rgba(0, 255, 0, 0.3)",
          "line": {
           "color": "green"
          }
         },
         "low": [
          171.00999450683594
         ],
         "name": "Close > Open",
         "open": [
          173.14999389648438
         ],
         "showlegend": false,
         "type": "candlestick",
         "x": [
          "2024-03-12"
         ]
        },
        {
         "close": [
          171.1300048828125
         ],
         "decreasing": {
          "fillcolor": "rgba(255, 0, 0, 0.6)",
          "line": {
           "color": "red"
          }
         },
         "high": [
          173.19000244140625
         ],
         "increasing": {
          "fillcolor": "rgba(255, 0, 0, 0.6)",
          "line": {
           "color": "red"
          }
         },
         "low": [
          170.75999450683594
         ],
         "name": "Open > Close",
         "open": [
          172.77000427246094
         ],
         "showlegend": false,
         "type": "candlestick",
         "x": [
          "2024-03-13"
         ]
        },
        {
         "close": [
          173
         ],
         "decreasing": {
          "fillcolor": "rgba(0, 255, 0, 0.3)",
          "line": {
           "color": "green"
          }
         },
         "high": [
          174.30999755859375
         ],
         "increasing": {
          "fillcolor": "rgba(0, 255, 0, 0.3)",
          "line": {
           "color": "green"
          }
         },
         "low": [
          172.0500030517578
         ],
         "name": "Close > Open",
         "open": [
          172.91000366210938
         ],
         "showlegend": false,
         "type": "candlestick",
         "x": [
          "2024-03-14"
         ]
        },
        {
         "close": [
          172.6199951171875
         ],
         "decreasing": {
          "fillcolor": "rgba(0, 255, 0, 0.3)",
          "line": {
           "color": "green"
          }
         },
         "high": [
          172.6199951171875
         ],
         "increasing": {
          "fillcolor": "rgba(0, 255, 0, 0.3)",
          "line": {
           "color": "green"
          }
         },
         "low": [
          170.2899932861328
         ],
         "name": "Close > Open",
         "open": [
          171.1699981689453
         ],
         "showlegend": false,
         "type": "candlestick",
         "x": [
          "2024-03-15"
         ]
        },
        {
         "close": [
          173.72000122070312
         ],
         "decreasing": {
          "fillcolor": "rgba(255, 0, 0, 0.6)",
          "line": {
           "color": "red"
          }
         },
         "high": [
          177.7100067138672
         ],
         "increasing": {
          "fillcolor": "rgba(255, 0, 0, 0.6)",
          "line": {
           "color": "red"
          }
         },
         "low": [
          173.52000427246094
         ],
         "name": "Open > Close",
         "open": [
          175.57000732421875
         ],
         "showlegend": false,
         "type": "candlestick",
         "x": [
          "2024-03-18"
         ]
        },
        {
         "close": [
          176.0800018310547
         ],
         "decreasing": {
          "fillcolor": "rgba(0, 255, 0, 0.3)",
          "line": {
           "color": "green"
          }
         },
         "high": [
          176.61000061035156
         ],
         "increasing": {
          "fillcolor": "rgba(0, 255, 0, 0.3)",
          "line": {
           "color": "green"
          }
         },
         "low": [
          173.02999877929688
         ],
         "name": "Close > Open",
         "open": [
          174.33999633789062
         ],
         "showlegend": false,
         "type": "candlestick",
         "x": [
          "2024-03-19"
         ]
        },
        {
         "close": [
          178.6699981689453
         ],
         "decreasing": {
          "fillcolor": "rgba(0, 255, 0, 0.3)",
          "line": {
           "color": "green"
          }
         },
         "high": [
          178.6699981689453
         ],
         "increasing": {
          "fillcolor": "rgba(0, 255, 0, 0.3)",
          "line": {
           "color": "green"
          }
         },
         "low": [
          175.08999633789062
         ],
         "name": "Close > Open",
         "open": [
          175.72000122070312
         ],
         "showlegend": false,
         "type": "candlestick",
         "x": [
          "2024-03-20"
         ]
        },
        {
         "close": [
          171.3699951171875
         ],
         "decreasing": {
          "fillcolor": "rgba(255, 0, 0, 0.6)",
          "line": {
           "color": "red"
          }
         },
         "high": [
          177.49000549316406
         ],
         "increasing": {
          "fillcolor": "rgba(255, 0, 0, 0.6)",
          "line": {
           "color": "red"
          }
         },
         "low": [
          170.83999633789062
         ],
         "name": "Open > Close",
         "open": [
          177.0500030517578
         ],
         "showlegend": false,
         "type": "candlestick",
         "x": [
          "2024-03-21"
         ]
        },
        {
         "close": [
          172.27999877929688
         ],
         "decreasing": {
          "fillcolor": "rgba(0, 255, 0, 0.3)",
          "line": {
           "color": "green"
          }
         },
         "high": [
          173.0500030517578
         ],
         "increasing": {
          "fillcolor": "rgba(0, 255, 0, 0.3)",
          "line": {
           "color": "green"
          }
         },
         "low": [
          170.05999755859375
         ],
         "name": "Close > Open",
         "open": [
          171.75999450683594
         ],
         "showlegend": false,
         "type": "candlestick",
         "x": [
          "2024-03-22"
         ]
        },
        {
         "close": [
          170.85000610351562
         ],
         "decreasing": {
          "fillcolor": "rgba(0, 255, 0, 0.3)",
          "line": {
           "color": "green"
          }
         },
         "high": [
          171.94000244140625
         ],
         "increasing": {
          "fillcolor": "rgba(0, 255, 0, 0.3)",
          "line": {
           "color": "green"
          }
         },
         "low": [
          169.4499969482422
         ],
         "name": "Close > Open",
         "open": [
          170.57000732421875
         ],
         "showlegend": false,
         "type": "candlestick",
         "x": [
          "2024-03-25"
         ]
        },
        {
         "close": [
          169.7100067138672
         ],
         "decreasing": {
          "fillcolor": "rgba(255, 0, 0, 0.6)",
          "line": {
           "color": "red"
          }
         },
         "high": [
          171.4199981689453
         ],
         "increasing": {
          "fillcolor": "rgba(255, 0, 0, 0.6)",
          "line": {
           "color": "red"
          }
         },
         "low": [
          169.5800018310547
         ],
         "name": "Open > Close",
         "open": [
          170
         ],
         "showlegend": false,
         "type": "candlestick",
         "x": [
          "2024-03-26"
         ]
        },
        {
         "close": [
          173.30999755859375
         ],
         "decreasing": {
          "fillcolor": "rgba(0, 255, 0, 0.3)",
          "line": {
           "color": "green"
          }
         },
         "high": [
          173.60000610351562
         ],
         "increasing": {
          "fillcolor": "rgba(0, 255, 0, 0.3)",
          "line": {
           "color": "green"
          }
         },
         "low": [
          170.11000061035156
         ],
         "name": "Close > Open",
         "open": [
          170.41000366210938
         ],
         "showlegend": false,
         "type": "candlestick",
         "x": [
          "2024-03-27"
         ]
        },
        {
         "close": [
          171.47999572753906
         ],
         "decreasing": {
          "fillcolor": "rgba(255, 0, 0, 0.6)",
          "line": {
           "color": "red"
          }
         },
         "high": [
          172.22999572753906
         ],
         "increasing": {
          "fillcolor": "rgba(255, 0, 0, 0.6)",
          "line": {
           "color": "red"
          }
         },
         "low": [
          170.50999450683594
         ],
         "name": "Open > Close",
         "open": [
          171.75
         ],
         "showlegend": false,
         "type": "candlestick",
         "x": [
          "2024-03-28"
         ]
        },
        {
         "close": [
          170.02999877929688
         ],
         "decreasing": {
          "fillcolor": "rgba(255, 0, 0, 0.6)",
          "line": {
           "color": "red"
          }
         },
         "high": [
          171.25
         ],
         "increasing": {
          "fillcolor": "rgba(255, 0, 0, 0.6)",
          "line": {
           "color": "red"
          }
         },
         "low": [
          169.47999572753906
         ],
         "name": "Open > Close",
         "open": [
          171.19000244140625
         ],
         "showlegend": false,
         "type": "candlestick",
         "x": [
          "2024-04-01"
         ]
        },
        {
         "close": [
          168.83999633789062
         ],
         "decreasing": {
          "fillcolor": "rgba(255, 0, 0, 0.6)",
          "line": {
           "color": "red"
          }
         },
         "high": [
          169.33999633789062
         ],
         "increasing": {
          "fillcolor": "rgba(255, 0, 0, 0.6)",
          "line": {
           "color": "red"
          }
         },
         "low": [
          168.22999572753906
         ],
         "name": "Open > Close",
         "open": [
          169.0800018310547
         ],
         "showlegend": false,
         "type": "candlestick",
         "x": [
          "2024-04-02"
         ]
        },
        {
         "close": [
          169.64999389648438
         ],
         "decreasing": {
          "fillcolor": "rgba(0, 255, 0, 0.3)",
          "line": {
           "color": "green"
          }
         },
         "high": [
          170.67999267578125
         ],
         "increasing": {
          "fillcolor": "rgba(0, 255, 0, 0.3)",
          "line": {
           "color": "green"
          }
         },
         "low": [
          168.5800018310547
         ],
         "name": "Close > Open",
         "open": [
          168.7899932861328
         ],
         "showlegend": false,
         "type": "candlestick",
         "x": [
          "2024-04-03"
         ]
        },
        {
         "close": [
          168.82000732421875
         ],
         "decreasing": {
          "fillcolor": "rgba(255, 0, 0, 0.6)",
          "line": {
           "color": "red"
          }
         },
         "high": [
          171.9199981689453
         ],
         "increasing": {
          "fillcolor": "rgba(255, 0, 0, 0.6)",
          "line": {
           "color": "red"
          }
         },
         "low": [
          168.82000732421875
         ],
         "name": "Open > Close",
         "open": [
          170.2899932861328
         ],
         "showlegend": false,
         "type": "candlestick",
         "x": [
          "2024-04-04"
         ]
        },
        {
         "close": [
          169.5800018310547
         ],
         "decreasing": {
          "fillcolor": "rgba(255, 0, 0, 0.6)",
          "line": {
           "color": "red"
          }
         },
         "high": [
          170.38999938964844
         ],
         "increasing": {
          "fillcolor": "rgba(255, 0, 0, 0.6)",
          "line": {
           "color": "red"
          }
         },
         "low": [
          168.9499969482422
         ],
         "name": "Open > Close",
         "open": [
          169.58999633789062
         ],
         "showlegend": false,
         "type": "candlestick",
         "x": [
          "2024-04-05"
         ]
        },
        {
         "close": [
          168.4499969482422
         ],
         "decreasing": {
          "fillcolor": "rgba(255, 0, 0, 0.6)",
          "line": {
           "color": "red"
          }
         },
         "high": [
          169.1999969482422
         ],
         "increasing": {
          "fillcolor": "rgba(255, 0, 0, 0.6)",
          "line": {
           "color": "red"
          }
         },
         "low": [
          168.24000549316406
         ],
         "name": "Open > Close",
         "open": [
          169.02999877929688
         ],
         "showlegend": false,
         "type": "candlestick",
         "x": [
          "2024-04-08"
         ]
        },
        {
         "close": [
          169.6699981689453
         ],
         "decreasing": {
          "fillcolor": "rgba(0, 255, 0, 0.3)",
          "line": {
           "color": "green"
          }
         },
         "high": [
          170.0800018310547
         ],
         "increasing": {
          "fillcolor": "rgba(0, 255, 0, 0.3)",
          "line": {
           "color": "green"
          }
         },
         "low": [
          168.35000610351562
         ],
         "name": "Close > Open",
         "open": [
          168.6999969482422
         ],
         "showlegend": false,
         "type": "candlestick",
         "x": [
          "2024-04-09"
         ]
        },
        {
         "close": [
          167.77999877929688
         ],
         "decreasing": {
          "fillcolor": "rgba(255, 0, 0, 0.6)",
          "line": {
           "color": "red"
          }
         },
         "high": [
          169.08999633789062
         ],
         "increasing": {
          "fillcolor": "rgba(255, 0, 0, 0.6)",
          "line": {
           "color": "red"
          }
         },
         "low": [
          167.11000061035156
         ],
         "name": "Open > Close",
         "open": [
          168.8000030517578
         ],
         "showlegend": false,
         "type": "candlestick",
         "x": [
          "2024-04-10"
         ]
        },
        {
         "close": [
          175.0399932861328
         ],
         "decreasing": {
          "fillcolor": "rgba(0, 255, 0, 0.3)",
          "line": {
           "color": "green"
          }
         },
         "high": [
          175.4600067138672
         ],
         "increasing": {
          "fillcolor": "rgba(0, 255, 0, 0.3)",
          "line": {
           "color": "green"
          }
         },
         "low": [
          168.16000366210938
         ],
         "name": "Close > Open",
         "open": [
          168.33999633789062
         ],
         "showlegend": false,
         "type": "candlestick",
         "x": [
          "2024-04-11"
         ]
        },
        {
         "close": [
          176.5500030517578
         ],
         "decreasing": {
          "fillcolor": "rgba(0, 255, 0, 0.3)",
          "line": {
           "color": "green"
          }
         },
         "high": [
          178.36000061035156
         ],
         "increasing": {
          "fillcolor": "rgba(0, 255, 0, 0.3)",
          "line": {
           "color": "green"
          }
         },
         "low": [
          174.2100067138672
         ],
         "name": "Close > Open",
         "open": [
          174.25999450683594
         ],
         "showlegend": false,
         "type": "candlestick",
         "x": [
          "2024-04-12"
         ]
        },
        {
         "close": [
          172.69000244140625
         ],
         "decreasing": {
          "fillcolor": "rgba(255, 0, 0, 0.6)",
          "line": {
           "color": "red"
          }
         },
         "high": [
          176.6300048828125
         ],
         "increasing": {
          "fillcolor": "rgba(255, 0, 0, 0.6)",
          "line": {
           "color": "red"
          }
         },
         "low": [
          172.5
         ],
         "name": "Open > Close",
         "open": [
          175.36000061035156
         ],
         "showlegend": false,
         "type": "candlestick",
         "x": [
          "2024-04-15"
         ]
        },
        {
         "close": [
          169.3800048828125
         ],
         "decreasing": {
          "fillcolor": "rgba(255, 0, 0, 0.6)",
          "line": {
           "color": "red"
          }
         },
         "high": [
          173.75999450683594
         ],
         "increasing": {
          "fillcolor": "rgba(255, 0, 0, 0.6)",
          "line": {
           "color": "red"
          }
         },
         "low": [
          168.27000427246094
         ],
         "name": "Open > Close",
         "open": [
          171.75
         ],
         "showlegend": false,
         "type": "candlestick",
         "x": [
          "2024-04-16"
         ]
        },
        {
         "close": [
          168
         ],
         "decreasing": {
          "fillcolor": "rgba(255, 0, 0, 0.6)",
          "line": {
           "color": "red"
          }
         },
         "high": [
          170.64999389648438
         ],
         "increasing": {
          "fillcolor": "rgba(255, 0, 0, 0.6)",
          "line": {
           "color": "red"
          }
         },
         "low": [
          168
         ],
         "name": "Open > Close",
         "open": [
          169.61000061035156
         ],
         "showlegend": false,
         "type": "candlestick",
         "x": [
          "2024-04-17"
         ]
        },
        {
         "close": [
          167.0399932861328
         ],
         "decreasing": {
          "fillcolor": "rgba(255, 0, 0, 0.6)",
          "line": {
           "color": "red"
          }
         },
         "high": [
          168.63999938964844
         ],
         "increasing": {
          "fillcolor": "rgba(255, 0, 0, 0.6)",
          "line": {
           "color": "red"
          }
         },
         "low": [
          166.5500030517578
         ],
         "name": "Open > Close",
         "open": [
          168.02999877929688
         ],
         "showlegend": false,
         "type": "candlestick",
         "x": [
          "2024-04-18"
         ]
        },
        {
         "close": [
          165
         ],
         "decreasing": {
          "fillcolor": "rgba(255, 0, 0, 0.6)",
          "line": {
           "color": "red"
          }
         },
         "high": [
          166.39999389648438
         ],
         "increasing": {
          "fillcolor": "rgba(255, 0, 0, 0.6)",
          "line": {
           "color": "red"
          }
         },
         "low": [
          164.0800018310547
         ],
         "name": "Open > Close",
         "open": [
          166.2100067138672
         ],
         "showlegend": false,
         "type": "candlestick",
         "x": [
          "2024-04-19"
         ]
        },
        {
         "close": [
          165.83999633789062
         ],
         "decreasing": {
          "fillcolor": "rgba(0, 255, 0, 0.3)",
          "line": {
           "color": "green"
          }
         },
         "high": [
          167.25999450683594
         ],
         "increasing": {
          "fillcolor": "rgba(0, 255, 0, 0.3)",
          "line": {
           "color": "green"
          }
         },
         "low": [
          164.77000427246094
         ],
         "name": "Close > Open",
         "open": [
          165.52000427246094
         ],
         "showlegend": false,
         "type": "candlestick",
         "x": [
          "2024-04-22"
         ]
        },
        {
         "close": [
          166.89999389648438
         ],
         "decreasing": {
          "fillcolor": "rgba(0, 255, 0, 0.3)",
          "line": {
           "color": "green"
          }
         },
         "high": [
          167.0500030517578
         ],
         "increasing": {
          "fillcolor": "rgba(0, 255, 0, 0.3)",
          "line": {
           "color": "green"
          }
         },
         "low": [
          164.9199981689453
         ],
         "name": "Close > Open",
         "open": [
          165.35000610351562
         ],
         "showlegend": false,
         "type": "candlestick",
         "x": [
          "2024-04-23"
         ]
        },
        {
         "close": [
          169.02000427246094
         ],
         "decreasing": {
          "fillcolor": "rgba(0, 255, 0, 0.3)",
          "line": {
           "color": "green"
          }
         },
         "high": [
          169.3000030517578
         ],
         "increasing": {
          "fillcolor": "rgba(0, 255, 0, 0.3)",
          "line": {
           "color": "green"
          }
         },
         "low": [
          166.2100067138672
         ],
         "name": "Close > Open",
         "open": [
          166.5399932861328
         ],
         "showlegend": false,
         "type": "candlestick",
         "x": [
          "2024-04-24"
         ]
        },
        {
         "close": [
          169.88999938964844
         ],
         "decreasing": {
          "fillcolor": "rgba(0, 255, 0, 0.3)",
          "line": {
           "color": "green"
          }
         },
         "high": [
          170.61000061035156
         ],
         "increasing": {
          "fillcolor": "rgba(0, 255, 0, 0.3)",
          "line": {
           "color": "green"
          }
         },
         "low": [
          168.14999389648438
         ],
         "name": "Close > Open",
         "open": [
          169.52999877929688
         ],
         "showlegend": false,
         "type": "candlestick",
         "x": [
          "2024-04-25"
         ]
        },
        {
         "close": [
          169.3000030517578
         ],
         "decreasing": {
          "fillcolor": "rgba(255, 0, 0, 0.6)",
          "line": {
           "color": "red"
          }
         },
         "high": [
          171.33999633789062
         ],
         "increasing": {
          "fillcolor": "rgba(255, 0, 0, 0.6)",
          "line": {
           "color": "red"
          }
         },
         "low": [
          169.17999267578125
         ],
         "name": "Open > Close",
         "open": [
          169.8800048828125
         ],
         "showlegend": false,
         "type": "candlestick",
         "x": [
          "2024-04-26"
         ]
        },
        {
         "close": [
          173.5
         ],
         "decreasing": {
          "fillcolor": "rgba(0, 255, 0, 0.3)",
          "line": {
           "color": "green"
          }
         },
         "high": [
          176.02999877929688
         ],
         "increasing": {
          "fillcolor": "rgba(0, 255, 0, 0.3)",
          "line": {
           "color": "green"
          }
         },
         "low": [
          173.10000610351562
         ],
         "name": "Close > Open",
         "open": [
          173.3699951171875
         ],
         "showlegend": false,
         "type": "candlestick",
         "x": [
          "2024-04-29"
         ]
        },
        {
         "close": [
          170.3300018310547
         ],
         "decreasing": {
          "fillcolor": "rgba(255, 0, 0, 0.6)",
          "line": {
           "color": "red"
          }
         },
         "high": [
          174.99000549316406
         ],
         "increasing": {
          "fillcolor": "rgba(255, 0, 0, 0.6)",
          "line": {
           "color": "red"
          }
         },
         "low": [
          170
         ],
         "name": "Open > Close",
         "open": [
          173.3300018310547
         ],
         "showlegend": false,
         "type": "candlestick",
         "x": [
          "2024-04-30"
         ]
        },
        {
         "close": [
          169.3000030517578
         ],
         "decreasing": {
          "fillcolor": "rgba(255, 0, 0, 0.6)",
          "line": {
           "color": "red"
          }
         },
         "high": [
          172.7100067138672
         ],
         "increasing": {
          "fillcolor": "rgba(255, 0, 0, 0.6)",
          "line": {
           "color": "red"
          }
         },
         "low": [
          169.11000061035156
         ],
         "name": "Open > Close",
         "open": [
          169.5800018310547
         ],
         "showlegend": false,
         "type": "candlestick",
         "x": [
          "2024-05-01"
         ]
        },
        {
         "close": [
          173.02999877929688
         ],
         "decreasing": {
          "fillcolor": "rgba(0, 255, 0, 0.3)",
          "line": {
           "color": "green"
          }
         },
         "high": [
          173.4199981689453
         ],
         "increasing": {
          "fillcolor": "rgba(0, 255, 0, 0.3)",
          "line": {
           "color": "green"
          }
         },
         "low": [
          170.88999938964844
         ],
         "name": "Close > Open",
         "open": [
          172.50999450683594
         ],
         "showlegend": false,
         "type": "candlestick",
         "x": [
          "2024-05-02"
         ]
        },
        {
         "close": [
          183.3800048828125
         ],
         "decreasing": {
          "fillcolor": "rgba(255, 0, 0, 0.6)",
          "line": {
           "color": "red"
          }
         },
         "high": [
          187
         ],
         "increasing": {
          "fillcolor": "rgba(255, 0, 0, 0.6)",
          "line": {
           "color": "red"
          }
         },
         "low": [
          182.66000366210938
         ],
         "name": "Open > Close",
         "open": [
          186.64999389648438
         ],
         "showlegend": false,
         "type": "candlestick",
         "x": [
          "2024-05-03"
         ]
        },
        {
         "close": [
          181.7100067138672
         ],
         "decreasing": {
          "fillcolor": "rgba(255, 0, 0, 0.6)",
          "line": {
           "color": "red"
          }
         },
         "high": [
          184.1999969482422
         ],
         "increasing": {
          "fillcolor": "rgba(255, 0, 0, 0.6)",
          "line": {
           "color": "red"
          }
         },
         "low": [
          180.4199981689453
         ],
         "name": "Open > Close",
         "open": [
          182.35000610351562
         ],
         "showlegend": false,
         "type": "candlestick",
         "x": [
          "2024-05-06"
         ]
        },
        {
         "close": [
          182.39999389648438
         ],
         "decreasing": {
          "fillcolor": "rgba(255, 0, 0, 0.6)",
          "line": {
           "color": "red"
          }
         },
         "high": [
          184.89999389648438
         ],
         "increasing": {
          "fillcolor": "rgba(255, 0, 0, 0.6)",
          "line": {
           "color": "red"
          }
         },
         "low": [
          181.32000732421875
         ],
         "name": "Open > Close",
         "open": [
          183.4499969482422
         ],
         "showlegend": false,
         "type": "candlestick",
         "x": [
          "2024-05-07"
         ]
        },
        {
         "close": [
          182.74000549316406
         ],
         "decreasing": {
          "fillcolor": "rgba(255, 0, 0, 0.6)",
          "line": {
           "color": "red"
          }
         },
         "high": [
          183.07000732421875
         ],
         "increasing": {
          "fillcolor": "rgba(255, 0, 0, 0.6)",
          "line": {
           "color": "red"
          }
         },
         "low": [
          181.4499969482422
         ],
         "name": "Open > Close",
         "open": [
          182.85000610351562
         ],
         "showlegend": false,
         "type": "candlestick",
         "x": [
          "2024-05-08"
         ]
        },
        {
         "close": [
          184.57000732421875
         ],
         "decreasing": {
          "fillcolor": "rgba(0, 255, 0, 0.3)",
          "line": {
           "color": "green"
          }
         },
         "high": [
          184.66000366210938
         ],
         "increasing": {
          "fillcolor": "rgba(0, 255, 0, 0.3)",
          "line": {
           "color": "green"
          }
         },
         "low": [
          182.11000061035156
         ],
         "name": "Close > Open",
         "open": [
          182.55999755859375
         ],
         "showlegend": false,
         "type": "candlestick",
         "x": [
          "2024-05-09"
         ]
        },
        {
         "close": [
          183.0500030517578
         ],
         "decreasing": {
          "fillcolor": "rgba(255, 0, 0, 0.6)",
          "line": {
           "color": "red"
          }
         },
         "high": [
          185.08999633789062
         ],
         "increasing": {
          "fillcolor": "rgba(255, 0, 0, 0.6)",
          "line": {
           "color": "red"
          }
         },
         "low": [
          182.1300048828125
         ],
         "name": "Open > Close",
         "open": [
          184.89999389648438
         ],
         "showlegend": false,
         "type": "candlestick",
         "x": [
          "2024-05-10"
         ]
        },
        {
         "close": [
          186.27999877929688
         ],
         "decreasing": {
          "fillcolor": "rgba(0, 255, 0, 0.3)",
          "line": {
           "color": "green"
          }
         },
         "high": [
          187.10000610351562
         ],
         "increasing": {
          "fillcolor": "rgba(0, 255, 0, 0.3)",
          "line": {
           "color": "green"
          }
         },
         "low": [
          184.6199951171875
         ],
         "name": "Close > Open",
         "open": [
          185.44000244140625
         ],
         "showlegend": false,
         "type": "candlestick",
         "x": [
          "2024-05-13"
         ]
        },
        {
         "close": [
          187.42999267578125
         ],
         "decreasing": {
          "fillcolor": "rgba(255, 0, 0, 0.6)",
          "line": {
           "color": "red"
          }
         },
         "high": [
          188.3000030517578
         ],
         "increasing": {
          "fillcolor": "rgba(255, 0, 0, 0.6)",
          "line": {
           "color": "red"
          }
         },
         "low": [
          186.2899932861328
         ],
         "name": "Open > Close",
         "open": [
          187.50999450683594
         ],
         "showlegend": false,
         "type": "candlestick",
         "x": [
          "2024-05-14"
         ]
        },
        {
         "close": [
          189.72000122070312
         ],
         "decreasing": {
          "fillcolor": "rgba(0, 255, 0, 0.3)",
          "line": {
           "color": "green"
          }
         },
         "high": [
          190.64999389648438
         ],
         "increasing": {
          "fillcolor": "rgba(0, 255, 0, 0.3)",
          "line": {
           "color": "green"
          }
         },
         "low": [
          187.3699951171875
         ],
         "name": "Close > Open",
         "open": [
          187.91000366210938
         ],
         "showlegend": false,
         "type": "candlestick",
         "x": [
          "2024-05-15"
         ]
        },
        {
         "close": [
          189.83999633789062
         ],
         "decreasing": {
          "fillcolor": "rgba(255, 0, 0, 0.6)",
          "line": {
           "color": "red"
          }
         },
         "high": [
          191.10000610351562
         ],
         "increasing": {
          "fillcolor": "rgba(255, 0, 0, 0.6)",
          "line": {
           "color": "red"
          }
         },
         "low": [
          189.66000366210938
         ],
         "name": "Open > Close",
         "open": [
          190.47000122070312
         ],
         "showlegend": false,
         "type": "candlestick",
         "x": [
          "2024-05-16"
         ]
        },
        {
         "close": [
          189.8699951171875
         ],
         "decreasing": {
          "fillcolor": "rgba(0, 255, 0, 0.3)",
          "line": {
           "color": "green"
          }
         },
         "high": [
          190.80999755859375
         ],
         "increasing": {
          "fillcolor": "rgba(0, 255, 0, 0.3)",
          "line": {
           "color": "green"
          }
         },
         "low": [
          189.17999267578125
         ],
         "name": "Close > Open",
         "open": [
          189.50999450683594
         ],
         "showlegend": false,
         "type": "candlestick",
         "x": [
          "2024-05-17"
         ]
        },
        {
         "close": [
          191.0399932861328
         ],
         "decreasing": {
          "fillcolor": "rgba(0, 255, 0, 0.3)",
          "line": {
           "color": "green"
          }
         },
         "high": [
          191.9199981689453
         ],
         "increasing": {
          "fillcolor": "rgba(0, 255, 0, 0.3)",
          "line": {
           "color": "green"
          }
         },
         "low": [
          189.00999450683594
         ],
         "name": "Close > Open",
         "open": [
          189.3300018310547
         ],
         "showlegend": false,
         "type": "candlestick",
         "x": [
          "2024-05-20"
         ]
        },
        {
         "close": [
          192.35000610351562
         ],
         "decreasing": {
          "fillcolor": "rgba(0, 255, 0, 0.3)",
          "line": {
           "color": "green"
          }
         },
         "high": [
          192.72999572753906
         ],
         "increasing": {
          "fillcolor": "rgba(0, 255, 0, 0.3)",
          "line": {
           "color": "green"
          }
         },
         "low": [
          190.9199981689453
         ],
         "name": "Close > Open",
         "open": [
          191.08999633789062
         ],
         "showlegend": false,
         "type": "candlestick",
         "x": [
          "2024-05-21"
         ]
        },
        {
         "close": [
          190.89999389648438
         ],
         "decreasing": {
          "fillcolor": "rgba(255, 0, 0, 0.6)",
          "line": {
           "color": "red"
          }
         },
         "high": [
          192.82000732421875
         ],
         "increasing": {
          "fillcolor": "rgba(255, 0, 0, 0.6)",
          "line": {
           "color": "red"
          }
         },
         "low": [
          190.27000427246094
         ],
         "name": "Open > Close",
         "open": [
          192.27000427246094
         ],
         "showlegend": false,
         "type": "candlestick",
         "x": [
          "2024-05-22"
         ]
        },
        {
         "close": [
          186.8800048828125
         ],
         "decreasing": {
          "fillcolor": "rgba(255, 0, 0, 0.6)",
          "line": {
           "color": "red"
          }
         },
         "high": [
          191
         ],
         "increasing": {
          "fillcolor": "rgba(255, 0, 0, 0.6)",
          "line": {
           "color": "red"
          }
         },
         "low": [
          186.6300048828125
         ],
         "name": "Open > Close",
         "open": [
          190.97999572753906
         ],
         "showlegend": false,
         "type": "candlestick",
         "x": [
          "2024-05-23"
         ]
        },
        {
         "close": [
          189.97999572753906
         ],
         "decreasing": {
          "fillcolor": "rgba(0, 255, 0, 0.3)",
          "line": {
           "color": "green"
          }
         },
         "high": [
          190.5800018310547
         ],
         "increasing": {
          "fillcolor": "rgba(0, 255, 0, 0.3)",
          "line": {
           "color": "green"
          }
         },
         "low": [
          188.0399932861328
         ],
         "name": "Close > Open",
         "open": [
          188.82000732421875
         ],
         "showlegend": false,
         "type": "candlestick",
         "x": [
          "2024-05-24"
         ]
        },
        {
         "close": [
          189.99000549316406
         ],
         "decreasing": {
          "fillcolor": "rgba(255, 0, 0, 0.6)",
          "line": {
           "color": "red"
          }
         },
         "high": [
          193
         ],
         "increasing": {
          "fillcolor": "rgba(255, 0, 0, 0.6)",
          "line": {
           "color": "red"
          }
         },
         "low": [
          189.10000610351562
         ],
         "name": "Open > Close",
         "open": [
          191.50999450683594
         ],
         "showlegend": false,
         "type": "candlestick",
         "x": [
          "2024-05-28"
         ]
        },
        {
         "close": [
          190.2899932861328
         ],
         "decreasing": {
          "fillcolor": "rgba(0, 255, 0, 0.3)",
          "line": {
           "color": "green"
          }
         },
         "high": [
          192.25
         ],
         "increasing": {
          "fillcolor": "rgba(0, 255, 0, 0.3)",
          "line": {
           "color": "green"
          }
         },
         "low": [
          189.50999450683594
         ],
         "name": "Close > Open",
         "open": [
          189.61000061035156
         ],
         "showlegend": false,
         "type": "candlestick",
         "x": [
          "2024-05-29"
         ]
        },
        {
         "close": [
          191.2899932861328
         ],
         "decreasing": {
          "fillcolor": "rgba(0, 255, 0, 0.3)",
          "line": {
           "color": "green"
          }
         },
         "high": [
          192.17999267578125
         ],
         "increasing": {
          "fillcolor": "rgba(0, 255, 0, 0.3)",
          "line": {
           "color": "green"
          }
         },
         "low": [
          190.6300048828125
         ],
         "name": "Close > Open",
         "open": [
          190.75999450683594
         ],
         "showlegend": false,
         "type": "candlestick",
         "x": [
          "2024-05-30"
         ]
        },
        {
         "close": [
          192.25
         ],
         "decreasing": {
          "fillcolor": "rgba(0, 255, 0, 0.3)",
          "line": {
           "color": "green"
          }
         },
         "high": [
          192.57000732421875
         ],
         "increasing": {
          "fillcolor": "rgba(0, 255, 0, 0.3)",
          "line": {
           "color": "green"
          }
         },
         "low": [
          189.91000366210938
         ],
         "name": "Close > Open",
         "open": [
          191.44000244140625
         ],
         "showlegend": false,
         "type": "candlestick",
         "x": [
          "2024-05-31"
         ]
        },
        {
         "close": [
          194.02999877929688
         ],
         "decreasing": {
          "fillcolor": "rgba(0, 255, 0, 0.3)",
          "line": {
           "color": "green"
          }
         },
         "high": [
          194.99000549316406
         ],
         "increasing": {
          "fillcolor": "rgba(0, 255, 0, 0.3)",
          "line": {
           "color": "green"
          }
         },
         "low": [
          192.52000427246094
         ],
         "name": "Close > Open",
         "open": [
          192.89999389648438
         ],
         "showlegend": false,
         "type": "candlestick",
         "x": [
          "2024-06-03"
         ]
        },
        {
         "close": [
          194.35000610351562
         ],
         "decreasing": {
          "fillcolor": "rgba(255, 0, 0, 0.6)",
          "line": {
           "color": "red"
          }
         },
         "high": [
          195.32000732421875
         ],
         "increasing": {
          "fillcolor": "rgba(255, 0, 0, 0.6)",
          "line": {
           "color": "red"
          }
         },
         "low": [
          193.02999877929688
         ],
         "name": "Open > Close",
         "open": [
          194.63999938964844
         ],
         "showlegend": false,
         "type": "candlestick",
         "x": [
          "2024-06-04"
         ]
        },
        {
         "close": [
          195.8699951171875
         ],
         "decreasing": {
          "fillcolor": "rgba(0, 255, 0, 0.3)",
          "line": {
           "color": "green"
          }
         },
         "high": [
          196.89999389648438
         ],
         "increasing": {
          "fillcolor": "rgba(0, 255, 0, 0.3)",
          "line": {
           "color": "green"
          }
         },
         "low": [
          194.8699951171875
         ],
         "name": "Close > Open",
         "open": [
          195.39999389648438
         ],
         "showlegend": false,
         "type": "candlestick",
         "x": [
          "2024-06-05"
         ]
        },
        {
         "close": [
          194.47999572753906
         ],
         "decreasing": {
          "fillcolor": "rgba(255, 0, 0, 0.6)",
          "line": {
           "color": "red"
          }
         },
         "high": [
          196.5
         ],
         "increasing": {
          "fillcolor": "rgba(255, 0, 0, 0.6)",
          "line": {
           "color": "red"
          }
         },
         "low": [
          194.1699981689453
         ],
         "name": "Open > Close",
         "open": [
          195.69000244140625
         ],
         "showlegend": false,
         "type": "candlestick",
         "x": [
          "2024-06-06"
         ]
        },
        {
         "close": [
          196.88999938964844
         ],
         "decreasing": {
          "fillcolor": "rgba(0, 255, 0, 0.3)",
          "line": {
           "color": "green"
          }
         },
         "high": [
          196.94000244140625
         ],
         "increasing": {
          "fillcolor": "rgba(0, 255, 0, 0.3)",
          "line": {
           "color": "green"
          }
         },
         "low": [
          194.13999938964844
         ],
         "name": "Close > Open",
         "open": [
          194.64999389648438
         ],
         "showlegend": false,
         "type": "candlestick",
         "x": [
          "2024-06-07"
         ]
        },
        {
         "close": [
          193.1199951171875
         ],
         "decreasing": {
          "fillcolor": "rgba(255, 0, 0, 0.6)",
          "line": {
           "color": "red"
          }
         },
         "high": [
          197.3000030517578
         ],
         "increasing": {
          "fillcolor": "rgba(255, 0, 0, 0.6)",
          "line": {
           "color": "red"
          }
         },
         "low": [
          192.14999389648438
         ],
         "name": "Open > Close",
         "open": [
          196.89999389648438
         ],
         "showlegend": false,
         "type": "candlestick",
         "x": [
          "2024-06-10"
         ]
        },
        {
         "close": [
          207.14999389648438
         ],
         "decreasing": {
          "fillcolor": "rgba(0, 255, 0, 0.3)",
          "line": {
           "color": "green"
          }
         },
         "high": [
          207.16000366210938
         ],
         "increasing": {
          "fillcolor": "rgba(0, 255, 0, 0.3)",
          "line": {
           "color": "green"
          }
         },
         "low": [
          193.6300048828125
         ],
         "name": "Close > Open",
         "open": [
          193.64999389648438
         ],
         "showlegend": false,
         "type": "candlestick",
         "x": [
          "2024-06-11"
         ]
        },
        {
         "close": [
          213.07000732421875
         ],
         "decreasing": {
          "fillcolor": "rgba(0, 255, 0, 0.3)",
          "line": {
           "color": "green"
          }
         },
         "high": [
          220.1999969482422
         ],
         "increasing": {
          "fillcolor": "rgba(0, 255, 0, 0.3)",
          "line": {
           "color": "green"
          }
         },
         "low": [
          206.89999389648438
         ],
         "name": "Close > Open",
         "open": [
          207.3699951171875
         ],
         "showlegend": false,
         "type": "candlestick",
         "x": [
          "2024-06-12"
         ]
        },
        {
         "close": [
          214.24000549316406
         ],
         "decreasing": {
          "fillcolor": "rgba(255, 0, 0, 0.6)",
          "line": {
           "color": "red"
          }
         },
         "high": [
          216.75
         ],
         "increasing": {
          "fillcolor": "rgba(255, 0, 0, 0.6)",
          "line": {
           "color": "red"
          }
         },
         "low": [
          211.60000610351562
         ],
         "name": "Open > Close",
         "open": [
          214.74000549316406
         ],
         "showlegend": false,
         "type": "candlestick",
         "x": [
          "2024-06-13"
         ]
        },
        {
         "close": [
          212.49000549316406
         ],
         "decreasing": {
          "fillcolor": "rgba(255, 0, 0, 0.6)",
          "line": {
           "color": "red"
          }
         },
         "high": [
          215.1699981689453
         ],
         "increasing": {
          "fillcolor": "rgba(255, 0, 0, 0.6)",
          "line": {
           "color": "red"
          }
         },
         "low": [
          211.3000030517578
         ],
         "name": "Open > Close",
         "open": [
          213.85000610351562
         ],
         "showlegend": false,
         "type": "candlestick",
         "x": [
          "2024-06-14"
         ]
        },
        {
         "close": [
          216.6699981689453
         ],
         "decreasing": {
          "fillcolor": "rgba(0, 255, 0, 0.3)",
          "line": {
           "color": "green"
          }
         },
         "high": [
          218.9499969482422
         ],
         "increasing": {
          "fillcolor": "rgba(0, 255, 0, 0.3)",
          "line": {
           "color": "green"
          }
         },
         "low": [
          212.72000122070312
         ],
         "name": "Close > Open",
         "open": [
          213.3699951171875
         ],
         "showlegend": false,
         "type": "candlestick",
         "x": [
          "2024-06-17"
         ]
        },
        {
         "close": [
          214.2899932861328
         ],
         "decreasing": {
          "fillcolor": "rgba(255, 0, 0, 0.6)",
          "line": {
           "color": "red"
          }
         },
         "high": [
          218.6300048828125
         ],
         "increasing": {
          "fillcolor": "rgba(255, 0, 0, 0.6)",
          "line": {
           "color": "red"
          }
         },
         "low": [
          213
         ],
         "name": "Open > Close",
         "open": [
          217.58999633789062
         ],
         "showlegend": false,
         "type": "candlestick",
         "x": [
          "2024-06-18"
         ]
        },
        {
         "close": [
          209.67999267578125
         ],
         "decreasing": {
          "fillcolor": "rgba(255, 0, 0, 0.6)",
          "line": {
           "color": "red"
          }
         },
         "high": [
          214.24000549316406
         ],
         "increasing": {
          "fillcolor": "rgba(255, 0, 0, 0.6)",
          "line": {
           "color": "red"
          }
         },
         "low": [
          208.85000610351562
         ],
         "name": "Open > Close",
         "open": [
          213.92999267578125
         ],
         "showlegend": false,
         "type": "candlestick",
         "x": [
          "2024-06-20"
         ]
        },
        {
         "close": [
          207.49000549316406
         ],
         "decreasing": {
          "fillcolor": "rgba(255, 0, 0, 0.6)",
          "line": {
           "color": "red"
          }
         },
         "high": [
          211.88999938964844
         ],
         "increasing": {
          "fillcolor": "rgba(255, 0, 0, 0.6)",
          "line": {
           "color": "red"
          }
         },
         "low": [
          207.11000061035156
         ],
         "name": "Open > Close",
         "open": [
          210.38999938964844
         ],
         "showlegend": false,
         "type": "candlestick",
         "x": [
          "2024-06-21"
         ]
        },
        {
         "close": [
          208.13999938964844
         ],
         "decreasing": {
          "fillcolor": "rgba(0, 255, 0, 0.3)",
          "line": {
           "color": "green"
          }
         },
         "high": [
          212.6999969482422
         ],
         "increasing": {
          "fillcolor": "rgba(0, 255, 0, 0.3)",
          "line": {
           "color": "green"
          }
         },
         "low": [
          206.58999633789062
         ],
         "name": "Close > Open",
         "open": [
          207.72000122070312
         ],
         "showlegend": false,
         "type": "candlestick",
         "x": [
          "2024-06-24"
         ]
        },
        {
         "close": [
          209.07000732421875
         ],
         "decreasing": {
          "fillcolor": "rgba(255, 0, 0, 0.6)",
          "line": {
           "color": "red"
          }
         },
         "high": [
          211.3800048828125
         ],
         "increasing": {
          "fillcolor": "rgba(255, 0, 0, 0.6)",
          "line": {
           "color": "red"
          }
         },
         "low": [
          208.61000061035156
         ],
         "name": "Open > Close",
         "open": [
          209.14999389648438
         ],
         "showlegend": false,
         "type": "candlestick",
         "x": [
          "2024-06-25"
         ]
        },
        {
         "close": [
          213.25
         ],
         "decreasing": {
          "fillcolor": "rgba(0, 255, 0, 0.3)",
          "line": {
           "color": "green"
          }
         },
         "high": [
          214.86000061035156
         ],
         "increasing": {
          "fillcolor": "rgba(0, 255, 0, 0.3)",
          "line": {
           "color": "green"
          }
         },
         "low": [
          210.63999938964844
         ],
         "name": "Close > Open",
         "open": [
          211.5
         ],
         "showlegend": false,
         "type": "candlestick",
         "x": [
          "2024-06-26"
         ]
        },
        {
         "close": [
          214.10000610351562
         ],
         "decreasing": {
          "fillcolor": "rgba(255, 0, 0, 0.6)",
          "line": {
           "color": "red"
          }
         },
         "high": [
          215.74000549316406
         ],
         "increasing": {
          "fillcolor": "rgba(255, 0, 0, 0.6)",
          "line": {
           "color": "red"
          }
         },
         "low": [
          212.35000610351562
         ],
         "name": "Open > Close",
         "open": [
          214.69000244140625
         ],
         "showlegend": false,
         "type": "candlestick",
         "x": [
          "2024-06-27"
         ]
        },
        {
         "close": [
          210.6199951171875
         ],
         "decreasing": {
          "fillcolor": "rgba(255, 0, 0, 0.6)",
          "line": {
           "color": "red"
          }
         },
         "high": [
          216.07000732421875
         ],
         "increasing": {
          "fillcolor": "rgba(255, 0, 0, 0.6)",
          "line": {
           "color": "red"
          }
         },
         "low": [
          210.3000030517578
         ],
         "name": "Open > Close",
         "open": [
          215.77000427246094
         ],
         "showlegend": false,
         "type": "candlestick",
         "x": [
          "2024-06-28"
         ]
        },
        {
         "close": [
          216.75
         ],
         "decreasing": {
          "fillcolor": "rgba(0, 255, 0, 0.3)",
          "line": {
           "color": "green"
          }
         },
         "high": [
          217.50999450683594
         ],
         "increasing": {
          "fillcolor": "rgba(0, 255, 0, 0.3)",
          "line": {
           "color": "green"
          }
         },
         "low": [
          211.9199981689453
         ],
         "name": "Close > Open",
         "open": [
          212.08999633789062
         ],
         "showlegend": false,
         "type": "candlestick",
         "x": [
          "2024-07-01"
         ]
        },
        {
         "close": [
          220.27000427246094
         ],
         "decreasing": {
          "fillcolor": "rgba(0, 255, 0, 0.3)",
          "line": {
           "color": "green"
          }
         },
         "high": [
          220.3800048828125
         ],
         "increasing": {
          "fillcolor": "rgba(0, 255, 0, 0.3)",
          "line": {
           "color": "green"
          }
         },
         "low": [
          215.10000610351562
         ],
         "name": "Close > Open",
         "open": [
          216.14999389648438
         ],
         "showlegend": false,
         "type": "candlestick",
         "x": [
          "2024-07-02"
         ]
        },
        {
         "close": [
          221.5500030517578
         ],
         "decreasing": {
          "fillcolor": "rgba(0, 255, 0, 0.3)",
          "line": {
           "color": "green"
          }
         },
         "high": [
          221.5500030517578
         ],
         "increasing": {
          "fillcolor": "rgba(0, 255, 0, 0.3)",
          "line": {
           "color": "green"
          }
         },
         "low": [
          219.02999877929688
         ],
         "name": "Close > Open",
         "open": [
          220
         ],
         "showlegend": false,
         "type": "candlestick",
         "x": [
          "2024-07-03"
         ]
        },
        {
         "close": [
          226.33999633789062
         ],
         "decreasing": {
          "fillcolor": "rgba(0, 255, 0, 0.3)",
          "line": {
           "color": "green"
          }
         },
         "high": [
          226.4499969482422
         ],
         "increasing": {
          "fillcolor": "rgba(0, 255, 0, 0.3)",
          "line": {
           "color": "green"
          }
         },
         "low": [
          221.64999389648438
         ],
         "name": "Close > Open",
         "open": [
          221.64999389648438
         ],
         "showlegend": false,
         "type": "candlestick",
         "x": [
          "2024-07-05"
         ]
        },
        {
         "close": [
          227.82000732421875
         ],
         "decreasing": {
          "fillcolor": "rgba(0, 255, 0, 0.3)",
          "line": {
           "color": "green"
          }
         },
         "high": [
          227.85000610351562
         ],
         "increasing": {
          "fillcolor": "rgba(0, 255, 0, 0.3)",
          "line": {
           "color": "green"
          }
         },
         "low": [
          223.25
         ],
         "name": "Close > Open",
         "open": [
          227.08999633789062
         ],
         "showlegend": false,
         "type": "candlestick",
         "x": [
          "2024-07-08"
         ]
        },
        {
         "close": [
          228.67999267578125
         ],
         "decreasing": {
          "fillcolor": "rgba(0, 255, 0, 0.3)",
          "line": {
           "color": "green"
          }
         },
         "high": [
          229.39999389648438
         ],
         "increasing": {
          "fillcolor": "rgba(0, 255, 0, 0.3)",
          "line": {
           "color": "green"
          }
         },
         "low": [
          226.3699951171875
         ],
         "name": "Close > Open",
         "open": [
          227.92999267578125
         ],
         "showlegend": false,
         "type": "candlestick",
         "x": [
          "2024-07-09"
         ]
        },
        {
         "close": [
          232.97999572753906
         ],
         "decreasing": {
          "fillcolor": "rgba(0, 255, 0, 0.3)",
          "line": {
           "color": "green"
          }
         },
         "high": [
          233.0800018310547
         ],
         "increasing": {
          "fillcolor": "rgba(0, 255, 0, 0.3)",
          "line": {
           "color": "green"
          }
         },
         "low": [
          229.25
         ],
         "name": "Close > Open",
         "open": [
          229.3000030517578
         ],
         "showlegend": false,
         "type": "candlestick",
         "x": [
          "2024-07-10"
         ]
        },
        {
         "close": [
          227.57000732421875
         ],
         "decreasing": {
          "fillcolor": "rgba(255, 0, 0, 0.6)",
          "line": {
           "color": "red"
          }
         },
         "high": [
          232.38999938964844
         ],
         "increasing": {
          "fillcolor": "rgba(255, 0, 0, 0.6)",
          "line": {
           "color": "red"
          }
         },
         "low": [
          225.77000427246094
         ],
         "name": "Open > Close",
         "open": [
          231.38999938964844
         ],
         "showlegend": false,
         "type": "candlestick",
         "x": [
          "2024-07-11"
         ]
        },
        {
         "close": [
          230.5399932861328
         ],
         "decreasing": {
          "fillcolor": "rgba(0, 255, 0, 0.3)",
          "line": {
           "color": "green"
          }
         },
         "high": [
          232.63999938964844
         ],
         "increasing": {
          "fillcolor": "rgba(0, 255, 0, 0.3)",
          "line": {
           "color": "green"
          }
         },
         "low": [
          228.67999267578125
         ],
         "name": "Close > Open",
         "open": [
          228.9199981689453
         ],
         "showlegend": false,
         "type": "candlestick",
         "x": [
          "2024-07-12"
         ]
        },
        {
         "close": [
          234.39999389648438
         ],
         "decreasing": {
          "fillcolor": "rgba(255, 0, 0, 0.6)",
          "line": {
           "color": "red"
          }
         },
         "high": [
          237.22999572753906
         ],
         "increasing": {
          "fillcolor": "rgba(255, 0, 0, 0.6)",
          "line": {
           "color": "red"
          }
         },
         "low": [
          233.08999633789062
         ],
         "name": "Open > Close",
         "open": [
          236.47999572753906
         ],
         "showlegend": false,
         "type": "candlestick",
         "x": [
          "2024-07-15"
         ]
        },
        {
         "close": [
          234.82000732421875
         ],
         "decreasing": {
          "fillcolor": "rgba(255, 0, 0, 0.6)",
          "line": {
           "color": "red"
          }
         },
         "high": [
          236.27000427246094
         ],
         "increasing": {
          "fillcolor": "rgba(255, 0, 0, 0.6)",
          "line": {
           "color": "red"
          }
         },
         "low": [
          232.3300018310547
         ],
         "name": "Open > Close",
         "open": [
          235
         ],
         "showlegend": false,
         "type": "candlestick",
         "x": [
          "2024-07-16"
         ]
        },
        {
         "close": [
          228.8800048828125
         ],
         "decreasing": {
          "fillcolor": "rgba(255, 0, 0, 0.6)",
          "line": {
           "color": "red"
          }
         },
         "high": [
          231.4600067138672
         ],
         "increasing": {
          "fillcolor": "rgba(255, 0, 0, 0.6)",
          "line": {
           "color": "red"
          }
         },
         "low": [
          226.63999938964844
         ],
         "name": "Open > Close",
         "open": [
          229.4499969482422
         ],
         "showlegend": false,
         "type": "candlestick",
         "x": [
          "2024-07-17"
         ]
        },
        {
         "close": [
          224.17999267578125
         ],
         "decreasing": {
          "fillcolor": "rgba(255, 0, 0, 0.6)",
          "line": {
           "color": "red"
          }
         },
         "high": [
          230.44000244140625
         ],
         "increasing": {
          "fillcolor": "rgba(255, 0, 0, 0.6)",
          "line": {
           "color": "red"
          }
         },
         "low": [
          222.27000427246094
         ],
         "name": "Open > Close",
         "open": [
          230.27999877929688
         ],
         "showlegend": false,
         "type": "candlestick",
         "x": [
          "2024-07-18"
         ]
        },
        {
         "close": [
          224.30999755859375
         ],
         "decreasing": {
          "fillcolor": "rgba(255, 0, 0, 0.6)",
          "line": {
           "color": "red"
          }
         },
         "high": [
          226.8000030517578
         ],
         "increasing": {
          "fillcolor": "rgba(255, 0, 0, 0.6)",
          "line": {
           "color": "red"
          }
         },
         "low": [
          223.27999877929688
         ],
         "name": "Open > Close",
         "open": [
          224.82000732421875
         ],
         "showlegend": false,
         "type": "candlestick",
         "x": [
          "2024-07-19"
         ]
        },
        {
         "close": [
          223.9600067138672
         ],
         "decreasing": {
          "fillcolor": "rgba(255, 0, 0, 0.6)",
          "line": {
           "color": "red"
          }
         },
         "high": [
          227.77999877929688
         ],
         "increasing": {
          "fillcolor": "rgba(255, 0, 0, 0.6)",
          "line": {
           "color": "red"
          }
         },
         "low": [
          223.08999633789062
         ],
         "name": "Open > Close",
         "open": [
          227.00999450683594
         ],
         "showlegend": false,
         "type": "candlestick",
         "x": [
          "2024-07-22"
         ]
        },
        {
         "close": [
          225.00999450683594
         ],
         "decreasing": {
          "fillcolor": "rgba(0, 255, 0, 0.3)",
          "line": {
           "color": "green"
          }
         },
         "high": [
          226.94000244140625
         ],
         "increasing": {
          "fillcolor": "rgba(0, 255, 0, 0.3)",
          "line": {
           "color": "green"
          }
         },
         "low": [
          222.67999267578125
         ],
         "name": "Close > Open",
         "open": [
          224.3699951171875
         ],
         "showlegend": false,
         "type": "candlestick",
         "x": [
          "2024-07-23"
         ]
        },
        {
         "close": [
          218.5399932861328
         ],
         "decreasing": {
          "fillcolor": "rgba(255, 0, 0, 0.6)",
          "line": {
           "color": "red"
          }
         },
         "high": [
          224.8000030517578
         ],
         "increasing": {
          "fillcolor": "rgba(255, 0, 0, 0.6)",
          "line": {
           "color": "red"
          }
         },
         "low": [
          217.1300048828125
         ],
         "name": "Open > Close",
         "open": [
          224
         ],
         "showlegend": false,
         "type": "candlestick",
         "x": [
          "2024-07-24"
         ]
        },
        {
         "close": [
          217.49000549316406
         ],
         "decreasing": {
          "fillcolor": "rgba(255, 0, 0, 0.6)",
          "line": {
           "color": "red"
          }
         },
         "high": [
          220.85000610351562
         ],
         "increasing": {
          "fillcolor": "rgba(255, 0, 0, 0.6)",
          "line": {
           "color": "red"
          }
         },
         "low": [
          214.6199951171875
         ],
         "name": "Open > Close",
         "open": [
          218.92999267578125
         ],
         "showlegend": false,
         "type": "candlestick",
         "x": [
          "2024-07-25"
         ]
        },
        {
         "close": [
          217.9600067138672
         ],
         "decreasing": {
          "fillcolor": "rgba(255, 0, 0, 0.6)",
          "line": {
           "color": "red"
          }
         },
         "high": [
          219.49000549316406
         ],
         "increasing": {
          "fillcolor": "rgba(255, 0, 0, 0.6)",
          "line": {
           "color": "red"
          }
         },
         "low": [
          216.00999450683594
         ],
         "name": "Open > Close",
         "open": [
          218.6999969482422
         ],
         "showlegend": false,
         "type": "candlestick",
         "x": [
          "2024-07-26"
         ]
        },
        {
         "close": [
          218.24000549316406
         ],
         "decreasing": {
          "fillcolor": "rgba(0, 255, 0, 0.3)",
          "line": {
           "color": "green"
          }
         },
         "high": [
          219.3000030517578
         ],
         "increasing": {
          "fillcolor": "rgba(0, 255, 0, 0.3)",
          "line": {
           "color": "green"
          }
         },
         "low": [
          215.75
         ],
         "name": "Close > Open",
         "open": [
          216.9600067138672
         ],
         "showlegend": false,
         "type": "candlestick",
         "x": [
          "2024-07-29"
         ]
        },
        {
         "close": [
          218.8000030517578
         ],
         "decreasing": {
          "fillcolor": "rgba(255, 0, 0, 0.6)",
          "line": {
           "color": "red"
          }
         },
         "high": [
          220.3300018310547
         ],
         "increasing": {
          "fillcolor": "rgba(255, 0, 0, 0.6)",
          "line": {
           "color": "red"
          }
         },
         "low": [
          216.1199951171875
         ],
         "name": "Open > Close",
         "open": [
          219.19000244140625
         ],
         "showlegend": false,
         "type": "candlestick",
         "x": [
          "2024-07-30"
         ]
        },
        {
         "close": [
          222.0800018310547
         ],
         "decreasing": {
          "fillcolor": "rgba(0, 255, 0, 0.3)",
          "line": {
           "color": "green"
          }
         },
         "high": [
          223.82000732421875
         ],
         "increasing": {
          "fillcolor": "rgba(0, 255, 0, 0.3)",
          "line": {
           "color": "green"
          }
         },
         "low": [
          220.6300048828125
         ],
         "name": "Close > Open",
         "open": [
          221.44000244140625
         ],
         "showlegend": false,
         "type": "candlestick",
         "x": [
          "2024-07-31"
         ]
        },
        {
         "close": [
          218.36000061035156
         ],
         "decreasing": {
          "fillcolor": "rgba(255, 0, 0, 0.6)",
          "line": {
           "color": "red"
          }
         },
         "high": [
          224.47999572753906
         ],
         "increasing": {
          "fillcolor": "rgba(255, 0, 0, 0.6)",
          "line": {
           "color": "red"
          }
         },
         "low": [
          217.02000427246094
         ],
         "name": "Open > Close",
         "open": [
          224.3699951171875
         ],
         "showlegend": false,
         "type": "candlestick",
         "x": [
          "2024-08-01"
         ]
        },
        {
         "close": [
          219.86000061035156
         ],
         "decreasing": {
          "fillcolor": "rgba(0, 255, 0, 0.3)",
          "line": {
           "color": "green"
          }
         },
         "high": [
          225.60000610351562
         ],
         "increasing": {
          "fillcolor": "rgba(0, 255, 0, 0.3)",
          "line": {
           "color": "green"
          }
         },
         "low": [
          217.7100067138672
         ],
         "name": "Close > Open",
         "open": [
          219.14999389648438
         ],
         "showlegend": false,
         "type": "candlestick",
         "x": [
          "2024-08-02"
         ]
        },
        {
         "close": [
          209.27000427246094
         ],
         "decreasing": {
          "fillcolor": "rgba(0, 255, 0, 0.3)",
          "line": {
           "color": "green"
          }
         },
         "high": [
          213.5
         ],
         "increasing": {
          "fillcolor": "rgba(0, 255, 0, 0.3)",
          "line": {
           "color": "green"
          }
         },
         "low": [
          196
         ],
         "name": "Close > Open",
         "open": [
          199.08999633789062
         ],
         "showlegend": false,
         "type": "candlestick",
         "x": [
          "2024-08-05"
         ]
        },
        {
         "close": [
          207.22999572753906
         ],
         "decreasing": {
          "fillcolor": "rgba(0, 255, 0, 0.3)",
          "line": {
           "color": "green"
          }
         },
         "high": [
          209.99000549316406
         ],
         "increasing": {
          "fillcolor": "rgba(0, 255, 0, 0.3)",
          "line": {
           "color": "green"
          }
         },
         "low": [
          201.07000732421875
         ],
         "name": "Close > Open",
         "open": [
          205.3000030517578
         ],
         "showlegend": false,
         "type": "candlestick",
         "x": [
          "2024-08-06"
         ]
        },
        {
         "close": [
          209.82000732421875
         ],
         "decreasing": {
          "fillcolor": "rgba(0, 255, 0, 0.3)",
          "line": {
           "color": "green"
          }
         },
         "high": [
          213.63999938964844
         ],
         "increasing": {
          "fillcolor": "rgba(0, 255, 0, 0.3)",
          "line": {
           "color": "green"
          }
         },
         "low": [
          206.38999938964844
         ],
         "name": "Close > Open",
         "open": [
          206.89999389648438
         ],
         "showlegend": false,
         "type": "candlestick",
         "x": [
          "2024-08-07"
         ]
        },
        {
         "close": [
          213.30999755859375
         ],
         "decreasing": {
          "fillcolor": "rgba(0, 255, 0, 0.3)",
          "line": {
           "color": "green"
          }
         },
         "high": [
          214.1999969482422
         ],
         "increasing": {
          "fillcolor": "rgba(0, 255, 0, 0.3)",
          "line": {
           "color": "green"
          }
         },
         "low": [
          208.8300018310547
         ],
         "name": "Close > Open",
         "open": [
          213.11000061035156
         ],
         "showlegend": false,
         "type": "candlestick",
         "x": [
          "2024-08-08"
         ]
        },
        {
         "close": [
          216.24000549316406
         ],
         "decreasing": {
          "fillcolor": "rgba(0, 255, 0, 0.3)",
          "line": {
           "color": "green"
          }
         },
         "high": [
          216.77999877929688
         ],
         "increasing": {
          "fillcolor": "rgba(0, 255, 0, 0.3)",
          "line": {
           "color": "green"
          }
         },
         "low": [
          211.97000122070312
         ],
         "name": "Close > Open",
         "open": [
          212.10000610351562
         ],
         "showlegend": false,
         "type": "candlestick",
         "x": [
          "2024-08-09"
         ]
        },
        {
         "close": [
          217.52999877929688
         ],
         "decreasing": {
          "fillcolor": "rgba(0, 255, 0, 0.3)",
          "line": {
           "color": "green"
          }
         },
         "high": [
          219.50999450683594
         ],
         "increasing": {
          "fillcolor": "rgba(0, 255, 0, 0.3)",
          "line": {
           "color": "green"
          }
         },
         "low": [
          215.60000610351562
         ],
         "name": "Close > Open",
         "open": [
          216.07000732421875
         ],
         "showlegend": false,
         "type": "candlestick",
         "x": [
          "2024-08-12"
         ]
        },
        {
         "close": [
          221.27000427246094
         ],
         "decreasing": {
          "fillcolor": "rgba(0, 255, 0, 0.3)",
          "line": {
           "color": "green"
          }
         },
         "high": [
          221.88999938964844
         ],
         "increasing": {
          "fillcolor": "rgba(0, 255, 0, 0.3)",
          "line": {
           "color": "green"
          }
         },
         "low": [
          219.00999450683594
         ],
         "name": "Close > Open",
         "open": [
          219.00999450683594
         ],
         "showlegend": false,
         "type": "candlestick",
         "x": [
          "2024-08-13"
         ]
        },
        {
         "close": [
          221.72000122070312
         ],
         "decreasing": {
          "fillcolor": "rgba(0, 255, 0, 0.3)",
          "line": {
           "color": "green"
          }
         },
         "high": [
          223.02999877929688
         ],
         "increasing": {
          "fillcolor": "rgba(0, 255, 0, 0.3)",
          "line": {
           "color": "green"
          }
         },
         "low": [
          219.6999969482422
         ],
         "name": "Close > Open",
         "open": [
          220.57000732421875
         ],
         "showlegend": false,
         "type": "candlestick",
         "x": [
          "2024-08-14"
         ]
        },
        {
         "close": [
          224.72000122070312
         ],
         "decreasing": {
          "fillcolor": "rgba(0, 255, 0, 0.3)",
          "line": {
           "color": "green"
          }
         },
         "high": [
          225.35000610351562
         ],
         "increasing": {
          "fillcolor": "rgba(0, 255, 0, 0.3)",
          "line": {
           "color": "green"
          }
         },
         "low": [
          222.75999450683594
         ],
         "name": "Close > Open",
         "open": [
          224.60000610351562
         ],
         "showlegend": false,
         "type": "candlestick",
         "x": [
          "2024-08-15"
         ]
        },
        {
         "close": [
          226.0500030517578
         ],
         "decreasing": {
          "fillcolor": "rgba(0, 255, 0, 0.3)",
          "line": {
           "color": "green"
          }
         },
         "high": [
          226.8300018310547
         ],
         "increasing": {
          "fillcolor": "rgba(0, 255, 0, 0.3)",
          "line": {
           "color": "green"
          }
         },
         "low": [
          223.64999389648438
         ],
         "name": "Close > Open",
         "open": [
          223.9199981689453
         ],
         "showlegend": false,
         "type": "candlestick",
         "x": [
          "2024-08-16"
         ]
        },
        {
         "close": [
          225.88999938964844
         ],
         "decreasing": {
          "fillcolor": "rgba(0, 255, 0, 0.3)",
          "line": {
           "color": "green"
          }
         },
         "high": [
          225.99000549316406
         ],
         "increasing": {
          "fillcolor": "rgba(0, 255, 0, 0.3)",
          "line": {
           "color": "green"
          }
         },
         "low": [
          223.0399932861328
         ],
         "name": "Close > Open",
         "open": [
          225.72000122070312
         ],
         "showlegend": false,
         "type": "candlestick",
         "x": [
          "2024-08-19"
         ]
        },
        {
         "close": [
          226.50999450683594
         ],
         "decreasing": {
          "fillcolor": "rgba(0, 255, 0, 0.3)",
          "line": {
           "color": "green"
          }
         },
         "high": [
          227.1699981689453
         ],
         "increasing": {
          "fillcolor": "rgba(0, 255, 0, 0.3)",
          "line": {
           "color": "green"
          }
         },
         "low": [
          225.4499969482422
         ],
         "name": "Close > Open",
         "open": [
          225.77000427246094
         ],
         "showlegend": false,
         "type": "candlestick",
         "x": [
          "2024-08-20"
         ]
        },
        {
         "close": [
          226.39999389648438
         ],
         "decreasing": {
          "fillcolor": "rgba(255, 0, 0, 0.6)",
          "line": {
           "color": "red"
          }
         },
         "high": [
          227.97999572753906
         ],
         "increasing": {
          "fillcolor": "rgba(255, 0, 0, 0.6)",
          "line": {
           "color": "red"
          }
         },
         "low": [
          225.0500030517578
         ],
         "name": "Open > Close",
         "open": [
          226.52000427246094
         ],
         "showlegend": false,
         "type": "candlestick",
         "x": [
          "2024-08-21"
         ]
        },
        {
         "close": [
          224.52999877929688
         ],
         "decreasing": {
          "fillcolor": "rgba(255, 0, 0, 0.6)",
          "line": {
           "color": "red"
          }
         },
         "high": [
          228.33999633789062
         ],
         "increasing": {
          "fillcolor": "rgba(255, 0, 0, 0.6)",
          "line": {
           "color": "red"
          }
         },
         "low": [
          223.89999389648438
         ],
         "name": "Open > Close",
         "open": [
          227.7899932861328
         ],
         "showlegend": false,
         "type": "candlestick",
         "x": [
          "2024-08-22"
         ]
        },
        {
         "close": [
          226.83999633789062
         ],
         "decreasing": {
          "fillcolor": "rgba(0, 255, 0, 0.3)",
          "line": {
           "color": "green"
          }
         },
         "high": [
          228.22000122070312
         ],
         "increasing": {
          "fillcolor": "rgba(0, 255, 0, 0.3)",
          "line": {
           "color": "green"
          }
         },
         "low": [
          224.3300018310547
         ],
         "name": "Close > Open",
         "open": [
          225.66000366210938
         ],
         "showlegend": false,
         "type": "candlestick",
         "x": [
          "2024-08-23"
         ]
        },
        {
         "close": [
          227.17999267578125
         ],
         "decreasing": {
          "fillcolor": "rgba(0, 255, 0, 0.3)",
          "line": {
           "color": "green"
          }
         },
         "high": [
          227.27999877929688
         ],
         "increasing": {
          "fillcolor": "rgba(0, 255, 0, 0.3)",
          "line": {
           "color": "green"
          }
         },
         "low": [
          223.88999938964844
         ],
         "name": "Close > Open",
         "open": [
          226.75999450683594
         ],
         "showlegend": false,
         "type": "candlestick",
         "x": [
          "2024-08-26"
         ]
        },
        {
         "close": [
          228.02999877929688
         ],
         "decreasing": {
          "fillcolor": "rgba(0, 255, 0, 0.3)",
          "line": {
           "color": "green"
          }
         },
         "high": [
          228.85000610351562
         ],
         "increasing": {
          "fillcolor": "rgba(0, 255, 0, 0.3)",
          "line": {
           "color": "green"
          }
         },
         "low": [
          224.88999938964844
         ],
         "name": "Close > Open",
         "open": [
          226
         ],
         "showlegend": false,
         "type": "candlestick",
         "x": [
          "2024-08-27"
         ]
        },
        {
         "close": [
          226.49000549316406
         ],
         "decreasing": {
          "fillcolor": "rgba(255, 0, 0, 0.6)",
          "line": {
           "color": "red"
          }
         },
         "high": [
          229.86000061035156
         ],
         "increasing": {
          "fillcolor": "rgba(255, 0, 0, 0.6)",
          "line": {
           "color": "red"
          }
         },
         "low": [
          225.67999267578125
         ],
         "name": "Open > Close",
         "open": [
          227.9199981689453
         ],
         "showlegend": false,
         "type": "candlestick",
         "x": [
          "2024-08-28"
         ]
        },
        {
         "close": [
          229.7899932861328
         ],
         "decreasing": {
          "fillcolor": "rgba(255, 0, 0, 0.6)",
          "line": {
           "color": "red"
          }
         },
         "high": [
          232.9199981689453
         ],
         "increasing": {
          "fillcolor": "rgba(255, 0, 0, 0.6)",
          "line": {
           "color": "red"
          }
         },
         "low": [
          228.8800048828125
         ],
         "name": "Open > Close",
         "open": [
          230.10000610351562
         ],
         "showlegend": false,
         "type": "candlestick",
         "x": [
          "2024-08-29"
         ]
        },
        {
         "line": {
          "color": "lemonchiffon"
         },
         "name": "20-Day SMA",
         "type": "scatter",
         "x": [
          "2023-08-30",
          "2023-08-31",
          "2023-09-01",
          "2023-09-05",
          "2023-09-06",
          "2023-09-07",
          "2023-09-08",
          "2023-09-11",
          "2023-09-12",
          "2023-09-13",
          "2023-09-14",
          "2023-09-15",
          "2023-09-18",
          "2023-09-19",
          "2023-09-20",
          "2023-09-21",
          "2023-09-22",
          "2023-09-25",
          "2023-09-26",
          "2023-09-27",
          "2023-09-28",
          "2023-09-29",
          "2023-10-02",
          "2023-10-03",
          "2023-10-04",
          "2023-10-05",
          "2023-10-06",
          "2023-10-09",
          "2023-10-10",
          "2023-10-11",
          "2023-10-12",
          "2023-10-13",
          "2023-10-16",
          "2023-10-17",
          "2023-10-18",
          "2023-10-19",
          "2023-10-20",
          "2023-10-23",
          "2023-10-24",
          "2023-10-25",
          "2023-10-26",
          "2023-10-27",
          "2023-10-30",
          "2023-10-31",
          "2023-11-01",
          "2023-11-02",
          "2023-11-03",
          "2023-11-06",
          "2023-11-07",
          "2023-11-08",
          "2023-11-09",
          "2023-11-10",
          "2023-11-13",
          "2023-11-14",
          "2023-11-15",
          "2023-11-16",
          "2023-11-17",
          "2023-11-20",
          "2023-11-21",
          "2023-11-22",
          "2023-11-24",
          "2023-11-27",
          "2023-11-28",
          "2023-11-29",
          "2023-11-30",
          "2023-12-01",
          "2023-12-04",
          "2023-12-05",
          "2023-12-06",
          "2023-12-07",
          "2023-12-08",
          "2023-12-11",
          "2023-12-12",
          "2023-12-13",
          "2023-12-14",
          "2023-12-15",
          "2023-12-18",
          "2023-12-19",
          "2023-12-20",
          "2023-12-21",
          "2023-12-22",
          "2023-12-26",
          "2023-12-27",
          "2023-12-28",
          "2023-12-29",
          "2024-01-02",
          "2024-01-03",
          "2024-01-04",
          "2024-01-05",
          "2024-01-08",
          "2024-01-09",
          "2024-01-10",
          "2024-01-11",
          "2024-01-12",
          "2024-01-16",
          "2024-01-17",
          "2024-01-18",
          "2024-01-19",
          "2024-01-22",
          "2024-01-23",
          "2024-01-24",
          "2024-01-25",
          "2024-01-26",
          "2024-01-29",
          "2024-01-30",
          "2024-01-31",
          "2024-02-01",
          "2024-02-02",
          "2024-02-05",
          "2024-02-06",
          "2024-02-07",
          "2024-02-08",
          "2024-02-09",
          "2024-02-12",
          "2024-02-13",
          "2024-02-14",
          "2024-02-15",
          "2024-02-16",
          "2024-02-20",
          "2024-02-21",
          "2024-02-22",
          "2024-02-23",
          "2024-02-26",
          "2024-02-27",
          "2024-02-28",
          "2024-02-29",
          "2024-03-01",
          "2024-03-04",
          "2024-03-05",
          "2024-03-06",
          "2024-03-07",
          "2024-03-08",
          "2024-03-11",
          "2024-03-12",
          "2024-03-13",
          "2024-03-14",
          "2024-03-15",
          "2024-03-18",
          "2024-03-19",
          "2024-03-20",
          "2024-03-21",
          "2024-03-22",
          "2024-03-25",
          "2024-03-26",
          "2024-03-27",
          "2024-03-28",
          "2024-04-01",
          "2024-04-02",
          "2024-04-03",
          "2024-04-04",
          "2024-04-05",
          "2024-04-08",
          "2024-04-09",
          "2024-04-10",
          "2024-04-11",
          "2024-04-12",
          "2024-04-15",
          "2024-04-16",
          "2024-04-17",
          "2024-04-18",
          "2024-04-19",
          "2024-04-22",
          "2024-04-23",
          "2024-04-24",
          "2024-04-25",
          "2024-04-26",
          "2024-04-29",
          "2024-04-30",
          "2024-05-01",
          "2024-05-02",
          "2024-05-03",
          "2024-05-06",
          "2024-05-07",
          "2024-05-08",
          "2024-05-09",
          "2024-05-10",
          "2024-05-13",
          "2024-05-14",
          "2024-05-15",
          "2024-05-16",
          "2024-05-17",
          "2024-05-20",
          "2024-05-21",
          "2024-05-22",
          "2024-05-23",
          "2024-05-24",
          "2024-05-28",
          "2024-05-29",
          "2024-05-30",
          "2024-05-31",
          "2024-06-03",
          "2024-06-04",
          "2024-06-05",
          "2024-06-06",
          "2024-06-07",
          "2024-06-10",
          "2024-06-11",
          "2024-06-12",
          "2024-06-13",
          "2024-06-14",
          "2024-06-17",
          "2024-06-18",
          "2024-06-20",
          "2024-06-21",
          "2024-06-24",
          "2024-06-25",
          "2024-06-26",
          "2024-06-27",
          "2024-06-28",
          "2024-07-01",
          "2024-07-02",
          "2024-07-03",
          "2024-07-05",
          "2024-07-08",
          "2024-07-09",
          "2024-07-10",
          "2024-07-11",
          "2024-07-12",
          "2024-07-15",
          "2024-07-16",
          "2024-07-17",
          "2024-07-18",
          "2024-07-19",
          "2024-07-22",
          "2024-07-23",
          "2024-07-24",
          "2024-07-25",
          "2024-07-26",
          "2024-07-29",
          "2024-07-30",
          "2024-07-31",
          "2024-08-01",
          "2024-08-02",
          "2024-08-05",
          "2024-08-06",
          "2024-08-07",
          "2024-08-08",
          "2024-08-09",
          "2024-08-12",
          "2024-08-13",
          "2024-08-14",
          "2024-08-15",
          "2024-08-16",
          "2024-08-19",
          "2024-08-20",
          "2024-08-21",
          "2024-08-22",
          "2024-08-23",
          "2024-08-26",
          "2024-08-27",
          "2024-08-28",
          "2024-08-29"
         ],
         "y": [
          187.64999389648438,
          187.75999450683594,
          188.32666524251303,
          188.6699981689453,
          187.51799926757812,
          185.85833231608072,
          184.7614266531808,
          184.08624839782715,
          183.22111002604166,
          182.31999969482422,
          181.72181840376422,
          181.16249974568686,
          180.91692293607272,
          180.78500039236886,
          180.43200073242187,
          180.02562522888184,
          179.71764687930838,
          179.5155554877387,
          179.11789502595602,
          178.68349990844726,
          177.83550033569335,
          177.00250091552735,
          176.21700057983398,
          175.35200042724608,
          174.8895004272461,
          174.7570007324219,
          174.722501373291,
          174.70400161743163,
          174.80850143432616,
          175.0880012512207,
          175.33650131225585,
          175.52850189208985,
          175.56600189208984,
          175.47000122070312,
          175.48750076293945,
          175.56400146484376,
          175.46850204467773,
          175.314501953125,
          175.38850173950195,
          175.42200241088867,
          175.23200225830078,
          175.08250198364257,
          174.9095016479492,
          174.82800216674804,
          174.84350204467773,
          174.97650222778321,
          174.93450164794922,
          174.94650115966797,
          175.11800155639648,
          175.27250137329102,
          175.3575012207031,
          175.73500061035156,
          176.03900070190429,
          176.5535011291504,
          177.16200103759766,
          177.87450103759767,
          178.71500091552736,
          179.63750076293945,
          180.49750061035155,
          181.50800018310548,
          182.6620002746582,
          183.7404998779297,
          184.74599990844726,
          185.6759994506836,
          186.47499923706056,
          187.15849914550782,
          187.79749908447266,
          188.50699920654296,
          189.03199920654296,
          189.6009994506836,
          190.2659996032715,
          190.60499954223633,
          191.1004997253418,
          191.62649993896486,
          192.13150024414062,
          192.5245002746582,
          192.83450012207032,
          193.1090003967285,
          193.31850051879883,
          193.48700027465821,
          193.66850051879882,
          193.83150100708008,
          193.96900100708007,
          194.17950134277345,
          194.30850143432616,
          194.02850112915038,
          193.76950149536134,
          193.19400177001953,
          192.63700103759766,
          192.2015007019043,
          191.67300033569336,
          191.3235008239746,
          190.86750030517578,
          190.2654998779297,
          189.54150009155273,
          188.79699935913087,
          188.43399963378906,
          188.16499938964844,
          188.1179992675781,
          188.14299926757812,
          188.18799896240233,
          188.2439987182617,
          188.20749893188477,
          188.114998626709,
          187.89049835205077,
          187.82849807739257,
          187.95899810791016,
          188.15599822998047,
          188.48099822998046,
          188.66799850463866,
          188.88149871826172,
          188.98799896240234,
          189.1509994506836,
          189.21249923706054,
          189.28299865722656,
          189.35649871826172,
          189.11799850463868,
          188.65549850463867,
          188.03899841308595,
          187.3959991455078,
          186.88949890136718,
          186.30699920654297,
          185.74399948120117,
          185.28899993896485,
          184.95800018310547,
          184.77550048828124,
          184.41550064086914,
          183.87800064086915,
          183.00000076293946,
          181.99100036621093,
          180.97050018310546,
          180.09099960327148,
          179.2859992980957,
          178.58999938964843,
          177.8944999694824,
          177.3370002746582,
          176.775,
          176.34550018310546,
          176.0715003967285,
          175.88899993896484,
          175.23899993896484,
          174.72699966430665,
          174.21149978637695,
          173.56549987792968,
          173.1599998474121,
          172.69649963378907,
          172.21499938964843,
          171.9019989013672,
          171.87849884033204,
          171.8634994506836,
          171.89249954223632,
          171.77849960327148,
          171.62449951171874,
          171.35199966430665,
          171.54749908447266,
          171.72499923706056,
          171.72849960327147,
          171.51149978637696,
          171.1074996948242,
          170.5259994506836,
          170.2074996948242,
          169.8854995727539,
          169.68799896240233,
          169.65349884033202,
          169.48249893188478,
          169.3734992980957,
          169.54699935913087,
          169.62149963378906,
          169.60400009155273,
          169.81449966430665,
          170.50449981689454,
          171.1675003051758,
          171.80400009155272,
          172.5520004272461,
          173.02850112915038,
          173.3535011291504,
          174.03300094604492,
          174.93550033569335,
          176.02150039672853,
          177.1615005493164,
          178.40500030517578,
          179.66500015258788,
          180.93750076293946,
          182.03150024414063,
          182.88100051879883,
          183.91500015258788,
          184.7395004272461,
          185.7375,
          186.83699951171874,
          187.7979995727539,
          188.33049926757812,
          188.96249923706054,
          189.6359992980957,
          190.22299880981444,
          190.83899841308593,
          191.3424980163574,
          192.3859977722168,
          193.66799850463866,
          194.8939987182617,
          196.0264991760254,
          197.3664993286133,
          198.52899932861328,
          199.39549865722657,
          200.22499923706056,
          201.28799896240236,
          202.24249954223632,
          203.40549926757814,
          204.59599990844725,
          205.5625,
          206.7875,
          208.0995002746582,
          209.45950012207032,
          210.98300018310547,
          212.65000076293944,
          214.2395004272461,
          216.23250045776368,
          217.25350112915038,
          218.1270004272461,
          219.1349998474121,
          220.25149993896486,
          220.86200027465821,
          221.35650024414062,
          222.08800048828124,
          222.9115005493164,
          223.75500030517577,
          224.22849960327147,
          224.44049987792968,
          224.63349990844728,
          225.0145004272461,
          225.11700057983398,
          225.20750045776367,
          225.04800033569336,
          224.7240005493164,
          223.7965003967285,
          222.7240005493164,
          221.56600112915038,
          220.85300064086914,
          220.13800125122071,
          219.29450149536132,
          218.61700134277345,
          218.25900115966797,
          218.28600158691407,
          218.37300186157228,
          218.46950149536133,
          218.54450149536132,
          218.9375015258789,
          219.28950119018555,
          219.7335006713867,
          220.18050003051758,
          220.64199981689453,
          220.8625,
          221.43399963378906
         ]
        },
        {
         "line": {
          "color": "gold"
         },
         "name": "(20, 2) Bollinger Bands",
         "type": "scatter",
         "x": [
          "2023-08-30",
          "2023-08-31",
          "2023-09-01",
          "2023-09-05",
          "2023-09-06",
          "2023-09-07",
          "2023-09-08",
          "2023-09-11",
          "2023-09-12",
          "2023-09-13",
          "2023-09-14",
          "2023-09-15",
          "2023-09-18",
          "2023-09-19",
          "2023-09-20",
          "2023-09-21",
          "2023-09-22",
          "2023-09-25",
          "2023-09-26",
          "2023-09-27",
          "2023-09-28",
          "2023-09-29",
          "2023-10-02",
          "2023-10-03",
          "2023-10-04",
          "2023-10-05",
          "2023-10-06",
          "2023-10-09",
          "2023-10-10",
          "2023-10-11",
          "2023-10-12",
          "2023-10-13",
          "2023-10-16",
          "2023-10-17",
          "2023-10-18",
          "2023-10-19",
          "2023-10-20",
          "2023-10-23",
          "2023-10-24",
          "2023-10-25",
          "2023-10-26",
          "2023-10-27",
          "2023-10-30",
          "2023-10-31",
          "2023-11-01",
          "2023-11-02",
          "2023-11-03",
          "2023-11-06",
          "2023-11-07",
          "2023-11-08",
          "2023-11-09",
          "2023-11-10",
          "2023-11-13",
          "2023-11-14",
          "2023-11-15",
          "2023-11-16",
          "2023-11-17",
          "2023-11-20",
          "2023-11-21",
          "2023-11-22",
          "2023-11-24",
          "2023-11-27",
          "2023-11-28",
          "2023-11-29",
          "2023-11-30",
          "2023-12-01",
          "2023-12-04",
          "2023-12-05",
          "2023-12-06",
          "2023-12-07",
          "2023-12-08",
          "2023-12-11",
          "2023-12-12",
          "2023-12-13",
          "2023-12-14",
          "2023-12-15",
          "2023-12-18",
          "2023-12-19",
          "2023-12-20",
          "2023-12-21",
          "2023-12-22",
          "2023-12-26",
          "2023-12-27",
          "2023-12-28",
          "2023-12-29",
          "2024-01-02",
          "2024-01-03",
          "2024-01-04",
          "2024-01-05",
          "2024-01-08",
          "2024-01-09",
          "2024-01-10",
          "2024-01-11",
          "2024-01-12",
          "2024-01-16",
          "2024-01-17",
          "2024-01-18",
          "2024-01-19",
          "2024-01-22",
          "2024-01-23",
          "2024-01-24",
          "2024-01-25",
          "2024-01-26",
          "2024-01-29",
          "2024-01-30",
          "2024-01-31",
          "2024-02-01",
          "2024-02-02",
          "2024-02-05",
          "2024-02-06",
          "2024-02-07",
          "2024-02-08",
          "2024-02-09",
          "2024-02-12",
          "2024-02-13",
          "2024-02-14",
          "2024-02-15",
          "2024-02-16",
          "2024-02-20",
          "2024-02-21",
          "2024-02-22",
          "2024-02-23",
          "2024-02-26",
          "2024-02-27",
          "2024-02-28",
          "2024-02-29",
          "2024-03-01",
          "2024-03-04",
          "2024-03-05",
          "2024-03-06",
          "2024-03-07",
          "2024-03-08",
          "2024-03-11",
          "2024-03-12",
          "2024-03-13",
          "2024-03-14",
          "2024-03-15",
          "2024-03-18",
          "2024-03-19",
          "2024-03-20",
          "2024-03-21",
          "2024-03-22",
          "2024-03-25",
          "2024-03-26",
          "2024-03-27",
          "2024-03-28",
          "2024-04-01",
          "2024-04-02",
          "2024-04-03",
          "2024-04-04",
          "2024-04-05",
          "2024-04-08",
          "2024-04-09",
          "2024-04-10",
          "2024-04-11",
          "2024-04-12",
          "2024-04-15",
          "2024-04-16",
          "2024-04-17",
          "2024-04-18",
          "2024-04-19",
          "2024-04-22",
          "2024-04-23",
          "2024-04-24",
          "2024-04-25",
          "2024-04-26",
          "2024-04-29",
          "2024-04-30",
          "2024-05-01",
          "2024-05-02",
          "2024-05-03",
          "2024-05-06",
          "2024-05-07",
          "2024-05-08",
          "2024-05-09",
          "2024-05-10",
          "2024-05-13",
          "2024-05-14",
          "2024-05-15",
          "2024-05-16",
          "2024-05-17",
          "2024-05-20",
          "2024-05-21",
          "2024-05-22",
          "2024-05-23",
          "2024-05-24",
          "2024-05-28",
          "2024-05-29",
          "2024-05-30",
          "2024-05-31",
          "2024-06-03",
          "2024-06-04",
          "2024-06-05",
          "2024-06-06",
          "2024-06-07",
          "2024-06-10",
          "2024-06-11",
          "2024-06-12",
          "2024-06-13",
          "2024-06-14",
          "2024-06-17",
          "2024-06-18",
          "2024-06-20",
          "2024-06-21",
          "2024-06-24",
          "2024-06-25",
          "2024-06-26",
          "2024-06-27",
          "2024-06-28",
          "2024-07-01",
          "2024-07-02",
          "2024-07-03",
          "2024-07-05",
          "2024-07-08",
          "2024-07-09",
          "2024-07-10",
          "2024-07-11",
          "2024-07-12",
          "2024-07-15",
          "2024-07-16",
          "2024-07-17",
          "2024-07-18",
          "2024-07-19",
          "2024-07-22",
          "2024-07-23",
          "2024-07-24",
          "2024-07-25",
          "2024-07-26",
          "2024-07-29",
          "2024-07-30",
          "2024-07-31",
          "2024-08-01",
          "2024-08-02",
          "2024-08-05",
          "2024-08-06",
          "2024-08-07",
          "2024-08-08",
          "2024-08-09",
          "2024-08-12",
          "2024-08-13",
          "2024-08-14",
          "2024-08-15",
          "2024-08-16",
          "2024-08-19",
          "2024-08-20",
          "2024-08-21",
          "2024-08-22",
          "2024-08-23",
          "2024-08-26",
          "2024-08-27",
          "2024-08-28",
          "2024-08-29"
         ],
         "y": [
          187.64999389648438,
          187.5399932861328,
          186.71384386178823,
          186.8354888108163,
          182.62658197112205,
          177.1964508554562,
          175.10809943830532,
          174.37529455848463,
          172.83961610854388,
          171.08479305639943,
          170.36104114502436,
          169.67004575077462,
          169.74501393722716,
          169.97752960093587,
          169.66200751966468,
          169.1328905087666,
          168.86672055087695,
          168.83948271797615,
          168.19245240412764,
          167.3813689308177,
          166.81001399732497,
          166.6378005868075,
          167.49709048324263,
          169.05917905469997,
          169.60822559461536,
          169.61935416302012,
          169.66867710996812,
          169.71593494099645,
          169.6080206756537,
          169.4627103232751,
          169.201906290513,
          169.20921229317054,
          169.18064788204515,
          169.24247549708815,
          169.257881918617,
          169.37532418999703,
          169.17690481873225,
          168.94008075493767,
          169.13841663926448,
          169.27220964061976,
          168.32141608533598,
          167.71601421783137,
          167.2685631483207,
          167.04822489700803,
          167.07186370998824,
          167.11434680288608,
          167.11766041440478,
          167.10409958188822,
          166.84375873002875,
          166.5510235146069,
          166.39587351910248,
          165.6509260998673,
          165.2699848399918,
          164.6933760525451,
          164.30393319816076,
          163.93856131620473,
          164.07543561953082,
          164.24865331163232,
          164.6738655966617,
          165.63278601288795,
          167.8877164349041,
          170.2470123028055,
          172.4693296637927,
          175.0709246637518,
          177.1926859148514,
          178.6160210013826,
          180.7061769783536,
          182.18913849609456,
          183.30683562365158,
          184.17652159530365,
          185.28825221576707,
          185.80631677300897,
          186.77893814198055,
          186.69700617470838,
          186.73973416779944,
          186.7628953771824,
          187.04916239309605,
          187.09598192957827,
          187.37257705187648,
          187.58747889118365,
          187.9938832811388,
          188.43122802233134,
          188.78969936611034,
          189.4415675146602,
          189.90987856781342,
          188.35578268824875,
          186.92801246621337,
          184.61575721435287,
          182.5841511910029,
          181.72368587227612,
          180.89439233999008,
          180.31222302848659,
          179.70070026636603,
          179.39891664789462,
          178.93562206328767,
          178.46296846530862,
          178.62540305443483,
          179.0324708140749,
          179.1143935660284,
          179.06418798467226,
          178.9932601753899,
          178.91877895574675,
          178.9539357680948,
          179.04289604488258,
          179.0471888102193,
          178.90591310041825,
          179.17430292764237,
          179.7543831524081,
          180.7043008930145,
          181.00217500973253,
          181.3846140806369,
          181.58717913367403,
          181.9149520808026,
          182.06699831456868,
          182.3340839722257,
          182.66206698434348,
          182.0099308020938,
          181.05641270670694,
          180.24059842688231,
          179.94590772893204,
          180.09128835933222,
          180.13643960944637,
          179.85906172941498,
          179.94322064421448,
          179.51563351273896,
          179.033958071361,
          178.34824894272114,
          176.62541181484985,
          173.80859042241252,
          171.4552231085545,
          169.58709928310438,
          168.40090695060732,
          167.9061846984055,
          167.52071438682597,
          166.7857641253203,
          166.42252486112795,
          166.107173737217,
          165.9145845609922,
          165.91868805319032,
          166.06616719150193,
          166.04678212943313,
          166.09005437765717,
          165.94933474839033,
          166.05067786056284,
          166.56536138423417,
          167.06864134015618,
          167.47481092043145,
          167.13849327283023,
          167.0755856959304,
          167.02448299497553,
          167.11592517431004,
          166.79216221535953,
          166.57780856726436,
          166.09723245937784,
          166.05476740167782,
          165.84051680195017,
          165.84180891743966,
          165.61449704765553,
          165.41420003925631,
          165.73729024307042,
          164.86981894885176,
          164.31485633745254,
          163.98952246866446,
          163.94762293658817,
          164.02564582035575,
          163.99405839223363,
          163.87801544049557,
          163.95247631174777,
          163.93327614166907,
          163.96604394462264,
          162.19224248313006,
          161.59651164417335,
          161.09099043212646,
          161.0102811675007,
          160.38130586470223,
          160.04429555346488,
          159.5893554488257,
          159.54307760031762,
          159.7026415690798,
          160.33404013293824,
          161.68079613255213,
          163.12107826774215,
          164.60296317016264,
          166.11061181800565,
          167.854142022853,
          169.9607784458332,
          171.4095419512589,
          173.97575503510396,
          177.5833071098721,
          180.75029075279235,
          181.0917284246095,
          181.94232718431562,
          182.679145776635,
          183.7267343923058,
          184.2676860528093,
          185.76800268678605,
          183.92614926810649,
          181.59951947341605,
          180.02254829040365,
          179.50847533679985,
          178.8377915591459,
          178.8520234326263,
          179.3602039217888,
          180.2918550233764,
          182.05984160920457,
          183.46444071901232,
          184.92812091173707,
          186.5900136909644,
          188.4649331799912,
          190.1769072602852,
          191.58189666233022,
          193.21738456549818,
          194.41262272053498,
          196.35003216783818,
          198.19894124254523,
          201.31788097273957,
          202.17087761063016,
          202.11952158794554,
          201.75353141597935,
          201.88027632889896,
          202.1982438783969,
          202.89244756107428,
          204.3889232656449,
          206.52170753607254,
          208.8211249293608,
          210.6478779948632,
          211.4316768461743,
          212.1397143870545,
          213.86041050767028,
          214.2342022782729,
          214.45814998435742,
          213.995897919346,
          213.46441432817875,
          210.7893714155123,
          208.07120229553087,
          206.67955874524787,
          205.81985762360836,
          205.66599821040782,
          206.36112014334208,
          207.75382577732202,
          208.34155188289714,
          208.30150558981944,
          208.1525262180079,
          208.00628022335746,
          207.87534992675947,
          207.73238005371795,
          207.84855331406328,
          207.8526240021543,
          207.89229675314277,
          207.91055122238944,
          207.8886198513738,
          207.95428726961063
         ]
        },
        {
         "line": {
          "color": "gold"
         },
         "showlegend": false,
         "type": "scatter",
         "x": [
          "2023-08-30",
          "2023-08-31",
          "2023-09-01",
          "2023-09-05",
          "2023-09-06",
          "2023-09-07",
          "2023-09-08",
          "2023-09-11",
          "2023-09-12",
          "2023-09-13",
          "2023-09-14",
          "2023-09-15",
          "2023-09-18",
          "2023-09-19",
          "2023-09-20",
          "2023-09-21",
          "2023-09-22",
          "2023-09-25",
          "2023-09-26",
          "2023-09-27",
          "2023-09-28",
          "2023-09-29",
          "2023-10-02",
          "2023-10-03",
          "2023-10-04",
          "2023-10-05",
          "2023-10-06",
          "2023-10-09",
          "2023-10-10",
          "2023-10-11",
          "2023-10-12",
          "2023-10-13",
          "2023-10-16",
          "2023-10-17",
          "2023-10-18",
          "2023-10-19",
          "2023-10-20",
          "2023-10-23",
          "2023-10-24",
          "2023-10-25",
          "2023-10-26",
          "2023-10-27",
          "2023-10-30",
          "2023-10-31",
          "2023-11-01",
          "2023-11-02",
          "2023-11-03",
          "2023-11-06",
          "2023-11-07",
          "2023-11-08",
          "2023-11-09",
          "2023-11-10",
          "2023-11-13",
          "2023-11-14",
          "2023-11-15",
          "2023-11-16",
          "2023-11-17",
          "2023-11-20",
          "2023-11-21",
          "2023-11-22",
          "2023-11-24",
          "2023-11-27",
          "2023-11-28",
          "2023-11-29",
          "2023-11-30",
          "2023-12-01",
          "2023-12-04",
          "2023-12-05",
          "2023-12-06",
          "2023-12-07",
          "2023-12-08",
          "2023-12-11",
          "2023-12-12",
          "2023-12-13",
          "2023-12-14",
          "2023-12-15",
          "2023-12-18",
          "2023-12-19",
          "2023-12-20",
          "2023-12-21",
          "2023-12-22",
          "2023-12-26",
          "2023-12-27",
          "2023-12-28",
          "2023-12-29",
          "2024-01-02",
          "2024-01-03",
          "2024-01-04",
          "2024-01-05",
          "2024-01-08",
          "2024-01-09",
          "2024-01-10",
          "2024-01-11",
          "2024-01-12",
          "2024-01-16",
          "2024-01-17",
          "2024-01-18",
          "2024-01-19",
          "2024-01-22",
          "2024-01-23",
          "2024-01-24",
          "2024-01-25",
          "2024-01-26",
          "2024-01-29",
          "2024-01-30",
          "2024-01-31",
          "2024-02-01",
          "2024-02-02",
          "2024-02-05",
          "2024-02-06",
          "2024-02-07",
          "2024-02-08",
          "2024-02-09",
          "2024-02-12",
          "2024-02-13",
          "2024-02-14",
          "2024-02-15",
          "2024-02-16",
          "2024-02-20",
          "2024-02-21",
          "2024-02-22",
          "2024-02-23",
          "2024-02-26",
          "2024-02-27",
          "2024-02-28",
          "2024-02-29",
          "2024-03-01",
          "2024-03-04",
          "2024-03-05",
          "2024-03-06",
          "2024-03-07",
          "2024-03-08",
          "2024-03-11",
          "2024-03-12",
          "2024-03-13",
          "2024-03-14",
          "2024-03-15",
          "2024-03-18",
          "2024-03-19",
          "2024-03-20",
          "2024-03-21",
          "2024-03-22",
          "2024-03-25",
          "2024-03-26",
          "2024-03-27",
          "2024-03-28",
          "2024-04-01",
          "2024-04-02",
          "2024-04-03",
          "2024-04-04",
          "2024-04-05",
          "2024-04-08",
          "2024-04-09",
          "2024-04-10",
          "2024-04-11",
          "2024-04-12",
          "2024-04-15",
          "2024-04-16",
          "2024-04-17",
          "2024-04-18",
          "2024-04-19",
          "2024-04-22",
          "2024-04-23",
          "2024-04-24",
          "2024-04-25",
          "2024-04-26",
          "2024-04-29",
          "2024-04-30",
          "2024-05-01",
          "2024-05-02",
          "2024-05-03",
          "2024-05-06",
          "2024-05-07",
          "2024-05-08",
          "2024-05-09",
          "2024-05-10",
          "2024-05-13",
          "2024-05-14",
          "2024-05-15",
          "2024-05-16",
          "2024-05-17",
          "2024-05-20",
          "2024-05-21",
          "2024-05-22",
          "2024-05-23",
          "2024-05-24",
          "2024-05-28",
          "2024-05-29",
          "2024-05-30",
          "2024-05-31",
          "2024-06-03",
          "2024-06-04",
          "2024-06-05",
          "2024-06-06",
          "2024-06-07",
          "2024-06-10",
          "2024-06-11",
          "2024-06-12",
          "2024-06-13",
          "2024-06-14",
          "2024-06-17",
          "2024-06-18",
          "2024-06-20",
          "2024-06-21",
          "2024-06-24",
          "2024-06-25",
          "2024-06-26",
          "2024-06-27",
          "2024-06-28",
          "2024-07-01",
          "2024-07-02",
          "2024-07-03",
          "2024-07-05",
          "2024-07-08",
          "2024-07-09",
          "2024-07-10",
          "2024-07-11",
          "2024-07-12",
          "2024-07-15",
          "2024-07-16",
          "2024-07-17",
          "2024-07-18",
          "2024-07-19",
          "2024-07-22",
          "2024-07-23",
          "2024-07-24",
          "2024-07-25",
          "2024-07-26",
          "2024-07-29",
          "2024-07-30",
          "2024-07-31",
          "2024-08-01",
          "2024-08-02",
          "2024-08-05",
          "2024-08-06",
          "2024-08-07",
          "2024-08-08",
          "2024-08-09",
          "2024-08-12",
          "2024-08-13",
          "2024-08-14",
          "2024-08-15",
          "2024-08-16",
          "2024-08-19",
          "2024-08-20",
          "2024-08-21",
          "2024-08-22",
          "2024-08-23",
          "2024-08-26",
          "2024-08-27",
          "2024-08-28",
          "2024-08-29"
         ],
         "y": [
          187.64999389648438,
          187.97999572753906,
          189.93948662323783,
          190.50450752707434,
          192.4094165640342,
          194.52021377670525,
          194.41475386805627,
          193.79720223716967,
          193.60260394353944,
          193.555206333249,
          193.08259566250408,
          192.6549537405991,
          192.0888319349183,
          191.59247118380185,
          191.20199394517905,
          190.91835994899708,
          190.5685732077398,
          190.19162825750126,
          190.0433376477844,
          189.98563088607682,
          188.86098667406173,
          187.3672012442472,
          184.93691067642533,
          181.6448217997922,
          180.17077525987685,
          179.89464730182365,
          179.7763256366139,
          179.6920682938668,
          180.00898219299862,
          180.7132921791663,
          181.4710963339987,
          181.84779149100916,
          181.95135590213454,
          181.6975269443181,
          181.7171196072619,
          181.75267873969048,
          181.76009927062321,
          181.6889231513123,
          181.63858683973942,
          181.57179518115757,
          182.14258843126558,
          182.44898974945377,
          182.55044014757772,
          182.60777943648804,
          182.61514037936723,
          182.83865765268035,
          182.75134288149366,
          182.78890273744773,
          183.3922443827642,
          183.99397923197515,
          184.31912892230375,
          185.81907512083583,
          186.80801656381678,
          188.4136262057557,
          190.02006887703456,
          191.8104407589906,
          193.3545662115239,
          195.02634821424658,
          196.3211356240414,
          197.383214353323,
          197.4362841144123,
          197.23398745305389,
          197.0226701531018,
          196.2810742376154,
          195.7573125592697,
          195.70097728963304,
          194.88882119059173,
          194.82485991699136,
          194.75716278943435,
          195.02547730606352,
          195.24374699077592,
          195.40368231146368,
          195.42206130870304,
          196.55599370322133,
          197.5232663204818,
          198.28610517213403,
          198.6198378510446,
          199.12201886387874,
          199.26442398572118,
          199.38652165813278,
          199.34311775645884,
          199.23177399182882,
          199.1483026480498,
          198.9174351708867,
          198.7071243008389,
          199.70121957005202,
          200.6109905245093,
          201.77224632568618,
          202.68985088419242,
          202.6793155315325,
          202.45160833139664,
          202.3347786194626,
          202.03430034398554,
          201.13208310796477,
          200.1473781198178,
          199.1310302529531,
          198.2425962131433,
          197.29752796522197,
          197.12160496912782,
          197.22181055048398,
          197.38273774941476,
          197.56921848077667,
          197.46106209567475,
          197.1871012085354,
          196.73380789388224,
          196.7510830543669,
          196.74369328817795,
          196.55761330755283,
          196.2576955669464,
          196.3338219995448,
          196.37838335588654,
          196.38881879113066,
          196.3870468205646,
          196.3580001595524,
          196.23191334222741,
          196.05093045217995,
          196.22606620718355,
          196.2545843025704,
          195.83739839928958,
          194.84609056208356,
          193.68770944340213,
          192.47755880363957,
          191.62893723298737,
          190.63477923371522,
          190.40036685347198,
          190.51704290520146,
          190.48275233901714,
          191.13058946688844,
          192.1914111034664,
          192.52677762386736,
          192.35390108310654,
          191.78109225593565,
          190.6658138977859,
          189.65928439247088,
          189.00323581364452,
          188.25147568818846,
          187.442826262783,
          186.7764158052187,
          186.2243127402667,
          185.71183268642775,
          184.43121774849655,
          183.36394495095612,
          182.47366482436357,
          181.08032189529652,
          179.75463831059005,
          178.32435792742197,
          176.9551878588654,
          176.66550452990415,
          176.68141198473367,
          176.70251590639168,
          176.6690739101626,
          176.76483699118344,
          176.67119045617312,
          176.60676686923546,
          177.0402307672675,
          177.60948167217094,
          177.61519028910328,
          177.40850252509838,
          176.8007993503921,
          175.31470865829678,
          175.54518044079666,
          175.45614280805526,
          175.3864754561402,
          175.35937474407586,
          174.9393520434138,
          174.7529402039578,
          175.21598327776616,
          175.29052295583034,
          175.2747240414364,
          175.66295538399066,
          178.81675715065901,
          180.73848896617824,
          182.51700975097899,
          184.0937196869915,
          185.67569639359854,
          186.66270670483593,
          188.47664644326414,
          190.32792307106908,
          192.34035922437727,
          193.98896096569456,
          195.12920447779942,
          196.2089220374336,
          197.2720383557163,
          197.9523886702756,
          197.90785901474464,
          197.86922185934256,
          198.0694589032333,
          197.49924496489606,
          196.0906919135654,
          194.84570839271544,
          195.56927011054674,
          195.98267128980547,
          196.59285281955638,
          196.7192632273231,
          197.41031077336257,
          196.91699334592877,
          200.8458462763271,
          205.73647753586127,
          209.76544914611978,
          212.54452301525095,
          215.89520709808068,
          218.20597522460025,
          219.43079339266433,
          220.15814345074472,
          220.51615631560014,
          221.02055836546032,
          221.8828776234192,
          222.6019861259301,
          222.6600668200088,
          223.3980927397148,
          224.61710388698617,
          225.70161567864247,
          227.55337764567597,
          228.9499693580407,
          230.28005961194697,
          231.14711994278778,
          232.3361246476706,
          234.13447926654663,
          236.51646827884485,
          238.62272354903075,
          239.52575667091952,
          239.82055292720696,
          239.78707771091757,
          239.30129356256026,
          238.68887568099075,
          237.80912121167975,
          237.44932290968507,
          237.12728542984004,
          236.16859034682193,
          235.99979888139507,
          235.95685093116992,
          236.10010275204073,
          235.98358677045405,
          236.8036293779447,
          237.37679880310193,
          236.45244351305288,
          235.88614365812992,
          234.6100042920336,
          232.22788284738056,
          229.48017690822488,
          228.1764504364388,
          228.2704975840087,
          228.59347750513666,
          228.9327227673652,
          229.21365306396316,
          230.14262299803985,
          230.7304490663078,
          231.61437734061911,
          232.46870330789238,
          233.3734484113996,
          233.83638014862623,
          234.91371199796748
         ]
        }
       ],
       "layout": {
        "height": 725,
        "template": {
         "data": {
          "bar": [
           {
            "error_x": {
             "color": "#f2f5fa"
            },
            "error_y": {
             "color": "#f2f5fa"
            },
            "marker": {
             "line": {
              "color": "rgb(17,17,17)",
              "width": 0.5
             },
             "pattern": {
              "fillmode": "overlay",
              "size": 10,
              "solidity": 0.2
             }
            },
            "type": "bar"
           }
          ],
          "barpolar": [
           {
            "marker": {
             "line": {
              "color": "rgb(17,17,17)",
              "width": 0.5
             },
             "pattern": {
              "fillmode": "overlay",
              "size": 10,
              "solidity": 0.2
             }
            },
            "type": "barpolar"
           }
          ],
          "carpet": [
           {
            "aaxis": {
             "endlinecolor": "#A2B1C6",
             "gridcolor": "#506784",
             "linecolor": "#506784",
             "minorgridcolor": "#506784",
             "startlinecolor": "#A2B1C6"
            },
            "baxis": {
             "endlinecolor": "#A2B1C6",
             "gridcolor": "#506784",
             "linecolor": "#506784",
             "minorgridcolor": "#506784",
             "startlinecolor": "#A2B1C6"
            },
            "type": "carpet"
           }
          ],
          "choropleth": [
           {
            "colorbar": {
             "outlinewidth": 0,
             "ticks": ""
            },
            "type": "choropleth"
           }
          ],
          "contour": [
           {
            "colorbar": {
             "outlinewidth": 0,
             "ticks": ""
            },
            "colorscale": [
             [
              0,
              "#0d0887"
             ],
             [
              0.1111111111111111,
              "#46039f"
             ],
             [
              0.2222222222222222,
              "#7201a8"
             ],
             [
              0.3333333333333333,
              "#9c179e"
             ],
             [
              0.4444444444444444,
              "#bd3786"
             ],
             [
              0.5555555555555556,
              "#d8576b"
             ],
             [
              0.6666666666666666,
              "#ed7953"
             ],
             [
              0.7777777777777778,
              "#fb9f3a"
             ],
             [
              0.8888888888888888,
              "#fdca26"
             ],
             [
              1,
              "#f0f921"
             ]
            ],
            "type": "contour"
           }
          ],
          "contourcarpet": [
           {
            "colorbar": {
             "outlinewidth": 0,
             "ticks": ""
            },
            "type": "contourcarpet"
           }
          ],
          "heatmap": [
           {
            "colorbar": {
             "outlinewidth": 0,
             "ticks": ""
            },
            "colorscale": [
             [
              0,
              "#0d0887"
             ],
             [
              0.1111111111111111,
              "#46039f"
             ],
             [
              0.2222222222222222,
              "#7201a8"
             ],
             [
              0.3333333333333333,
              "#9c179e"
             ],
             [
              0.4444444444444444,
              "#bd3786"
             ],
             [
              0.5555555555555556,
              "#d8576b"
             ],
             [
              0.6666666666666666,
              "#ed7953"
             ],
             [
              0.7777777777777778,
              "#fb9f3a"
             ],
             [
              0.8888888888888888,
              "#fdca26"
             ],
             [
              1,
              "#f0f921"
             ]
            ],
            "type": "heatmap"
           }
          ],
          "heatmapgl": [
           {
            "colorbar": {
             "outlinewidth": 0,
             "ticks": ""
            },
            "colorscale": [
             [
              0,
              "#0d0887"
             ],
             [
              0.1111111111111111,
              "#46039f"
             ],
             [
              0.2222222222222222,
              "#7201a8"
             ],
             [
              0.3333333333333333,
              "#9c179e"
             ],
             [
              0.4444444444444444,
              "#bd3786"
             ],
             [
              0.5555555555555556,
              "#d8576b"
             ],
             [
              0.6666666666666666,
              "#ed7953"
             ],
             [
              0.7777777777777778,
              "#fb9f3a"
             ],
             [
              0.8888888888888888,
              "#fdca26"
             ],
             [
              1,
              "#f0f921"
             ]
            ],
            "type": "heatmapgl"
           }
          ],
          "histogram": [
           {
            "marker": {
             "pattern": {
              "fillmode": "overlay",
              "size": 10,
              "solidity": 0.2
             }
            },
            "type": "histogram"
           }
          ],
          "histogram2d": [
           {
            "colorbar": {
             "outlinewidth": 0,
             "ticks": ""
            },
            "colorscale": [
             [
              0,
              "#0d0887"
             ],
             [
              0.1111111111111111,
              "#46039f"
             ],
             [
              0.2222222222222222,
              "#7201a8"
             ],
             [
              0.3333333333333333,
              "#9c179e"
             ],
             [
              0.4444444444444444,
              "#bd3786"
             ],
             [
              0.5555555555555556,
              "#d8576b"
             ],
             [
              0.6666666666666666,
              "#ed7953"
             ],
             [
              0.7777777777777778,
              "#fb9f3a"
             ],
             [
              0.8888888888888888,
              "#fdca26"
             ],
             [
              1,
              "#f0f921"
             ]
            ],
            "type": "histogram2d"
           }
          ],
          "histogram2dcontour": [
           {
            "colorbar": {
             "outlinewidth": 0,
             "ticks": ""
            },
            "colorscale": [
             [
              0,
              "#0d0887"
             ],
             [
              0.1111111111111111,
              "#46039f"
             ],
             [
              0.2222222222222222,
              "#7201a8"
             ],
             [
              0.3333333333333333,
              "#9c179e"
             ],
             [
              0.4444444444444444,
              "#bd3786"
             ],
             [
              0.5555555555555556,
              "#d8576b"
             ],
             [
              0.6666666666666666,
              "#ed7953"
             ],
             [
              0.7777777777777778,
              "#fb9f3a"
             ],
             [
              0.8888888888888888,
              "#fdca26"
             ],
             [
              1,
              "#f0f921"
             ]
            ],
            "type": "histogram2dcontour"
           }
          ],
          "mesh3d": [
           {
            "colorbar": {
             "outlinewidth": 0,
             "ticks": ""
            },
            "type": "mesh3d"
           }
          ],
          "parcoords": [
           {
            "line": {
             "colorbar": {
              "outlinewidth": 0,
              "ticks": ""
             }
            },
            "type": "parcoords"
           }
          ],
          "pie": [
           {
            "automargin": true,
            "type": "pie"
           }
          ],
          "scatter": [
           {
            "marker": {
             "line": {
              "color": "#283442"
             }
            },
            "type": "scatter"
           }
          ],
          "scatter3d": [
           {
            "line": {
             "colorbar": {
              "outlinewidth": 0,
              "ticks": ""
             }
            },
            "marker": {
             "colorbar": {
              "outlinewidth": 0,
              "ticks": ""
             }
            },
            "type": "scatter3d"
           }
          ],
          "scattercarpet": [
           {
            "marker": {
             "colorbar": {
              "outlinewidth": 0,
              "ticks": ""
             }
            },
            "type": "scattercarpet"
           }
          ],
          "scattergeo": [
           {
            "marker": {
             "colorbar": {
              "outlinewidth": 0,
              "ticks": ""
             }
            },
            "type": "scattergeo"
           }
          ],
          "scattergl": [
           {
            "marker": {
             "line": {
              "color": "#283442"
             }
            },
            "type": "scattergl"
           }
          ],
          "scattermapbox": [
           {
            "marker": {
             "colorbar": {
              "outlinewidth": 0,
              "ticks": ""
             }
            },
            "type": "scattermapbox"
           }
          ],
          "scatterpolar": [
           {
            "marker": {
             "colorbar": {
              "outlinewidth": 0,
              "ticks": ""
             }
            },
            "type": "scatterpolar"
           }
          ],
          "scatterpolargl": [
           {
            "marker": {
             "colorbar": {
              "outlinewidth": 0,
              "ticks": ""
             }
            },
            "type": "scatterpolargl"
           }
          ],
          "scatterternary": [
           {
            "marker": {
             "colorbar": {
              "outlinewidth": 0,
              "ticks": ""
             }
            },
            "type": "scatterternary"
           }
          ],
          "surface": [
           {
            "colorbar": {
             "outlinewidth": 0,
             "ticks": ""
            },
            "colorscale": [
             [
              0,
              "#0d0887"
             ],
             [
              0.1111111111111111,
              "#46039f"
             ],
             [
              0.2222222222222222,
              "#7201a8"
             ],
             [
              0.3333333333333333,
              "#9c179e"
             ],
             [
              0.4444444444444444,
              "#bd3786"
             ],
             [
              0.5555555555555556,
              "#d8576b"
             ],
             [
              0.6666666666666666,
              "#ed7953"
             ],
             [
              0.7777777777777778,
              "#fb9f3a"
             ],
             [
              0.8888888888888888,
              "#fdca26"
             ],
             [
              1,
              "#f0f921"
             ]
            ],
            "type": "surface"
           }
          ],
          "table": [
           {
            "cells": {
             "fill": {
              "color": "#506784"
             },
             "line": {
              "color": "rgb(17,17,17)"
             }
            },
            "header": {
             "fill": {
              "color": "#2a3f5f"
             },
             "line": {
              "color": "rgb(17,17,17)"
             }
            },
            "type": "table"
           }
          ]
         },
         "layout": {
          "annotationdefaults": {
           "arrowcolor": "#f2f5fa",
           "arrowhead": 0,
           "arrowwidth": 1
          },
          "autotypenumbers": "strict",
          "coloraxis": {
           "colorbar": {
            "outlinewidth": 0,
            "ticks": ""
           }
          },
          "colorscale": {
           "diverging": [
            [
             0,
             "#8e0152"
            ],
            [
             0.1,
             "#c51b7d"
            ],
            [
             0.2,
             "#de77ae"
            ],
            [
             0.3,
             "#f1b6da"
            ],
            [
             0.4,
             "#fde0ef"
            ],
            [
             0.5,
             "#f7f7f7"
            ],
            [
             0.6,
             "#e6f5d0"
            ],
            [
             0.7,
             "#b8e186"
            ],
            [
             0.8,
             "#7fbc41"
            ],
            [
             0.9,
             "#4d9221"
            ],
            [
             1,
             "#276419"
            ]
           ],
           "sequential": [
            [
             0,
             "#0d0887"
            ],
            [
             0.1111111111111111,
             "#46039f"
            ],
            [
             0.2222222222222222,
             "#7201a8"
            ],
            [
             0.3333333333333333,
             "#9c179e"
            ],
            [
             0.4444444444444444,
             "#bd3786"
            ],
            [
             0.5555555555555556,
             "#d8576b"
            ],
            [
             0.6666666666666666,
             "#ed7953"
            ],
            [
             0.7777777777777778,
             "#fb9f3a"
            ],
            [
             0.8888888888888888,
             "#fdca26"
            ],
            [
             1,
             "#f0f921"
            ]
           ],
           "sequentialminus": [
            [
             0,
             "#0d0887"
            ],
            [
             0.1111111111111111,
             "#46039f"
            ],
            [
             0.2222222222222222,
             "#7201a8"
            ],
            [
             0.3333333333333333,
             "#9c179e"
            ],
            [
             0.4444444444444444,
             "#bd3786"
            ],
            [
             0.5555555555555556,
             "#d8576b"
            ],
            [
             0.6666666666666666,
             "#ed7953"
            ],
            [
             0.7777777777777778,
             "#fb9f3a"
            ],
            [
             0.8888888888888888,
             "#fdca26"
            ],
            [
             1,
             "#f0f921"
            ]
           ]
          },
          "colorway": [
           "#636efa",
           "#EF553B",
           "#00cc96",
           "#ab63fa",
           "#FFA15A",
           "#19d3f3",
           "#FF6692",
           "#B6E880",
           "#FF97FF",
           "#FECB52"
          ],
          "font": {
           "color": "#f2f5fa"
          },
          "geo": {
           "bgcolor": "rgb(17,17,17)",
           "lakecolor": "rgb(17,17,17)",
           "landcolor": "rgb(17,17,17)",
           "showlakes": true,
           "showland": true,
           "subunitcolor": "#506784"
          },
          "hoverlabel": {
           "align": "left"
          },
          "hovermode": "closest",
          "mapbox": {
           "style": "dark"
          },
          "paper_bgcolor": "rgb(17,17,17)",
          "plot_bgcolor": "rgb(17,17,17)",
          "polar": {
           "angularaxis": {
            "gridcolor": "#506784",
            "linecolor": "#506784",
            "ticks": ""
           },
           "bgcolor": "rgb(17,17,17)",
           "radialaxis": {
            "gridcolor": "#506784",
            "linecolor": "#506784",
            "ticks": ""
           }
          },
          "scene": {
           "xaxis": {
            "backgroundcolor": "rgb(17,17,17)",
            "gridcolor": "#506784",
            "gridwidth": 2,
            "linecolor": "#506784",
            "showbackground": true,
            "ticks": "",
            "zerolinecolor": "#C8D4E3"
           },
           "yaxis": {
            "backgroundcolor": "rgb(17,17,17)",
            "gridcolor": "#506784",
            "gridwidth": 2,
            "linecolor": "#506784",
            "showbackground": true,
            "ticks": "",
            "zerolinecolor": "#C8D4E3"
           },
           "zaxis": {
            "backgroundcolor": "rgb(17,17,17)",
            "gridcolor": "#506784",
            "gridwidth": 2,
            "linecolor": "#506784",
            "showbackground": true,
            "ticks": "",
            "zerolinecolor": "#C8D4E3"
           }
          },
          "shapedefaults": {
           "line": {
            "color": "#f2f5fa"
           }
          },
          "sliderdefaults": {
           "bgcolor": "#C8D4E3",
           "bordercolor": "rgb(17,17,17)",
           "borderwidth": 1,
           "tickwidth": 0
          },
          "ternary": {
           "aaxis": {
            "gridcolor": "#506784",
            "linecolor": "#506784",
            "ticks": ""
           },
           "baxis": {
            "gridcolor": "#506784",
            "linecolor": "#506784",
            "ticks": ""
           },
           "bgcolor": "rgb(17,17,17)",
           "caxis": {
            "gridcolor": "#506784",
            "linecolor": "#506784",
            "ticks": ""
           }
          },
          "title": {
           "x": 0.05
          },
          "updatemenudefaults": {
           "bgcolor": "#506784",
           "borderwidth": 0
          },
          "xaxis": {
           "automargin": true,
           "gridcolor": "#283442",
           "linecolor": "#506784",
           "ticks": "",
           "title": {
            "standoff": 15
           },
           "zerolinecolor": "#283442",
           "zerolinewidth": 2
          },
          "yaxis": {
           "automargin": true,
           "gridcolor": "#283442",
           "linecolor": "#506784",
           "ticks": "",
           "title": {
            "standoff": 15
           },
           "zerolinecolor": "#283442",
           "zerolinewidth": 2
          }
         }
        },
        "title": {
         "font": {
          "size": 32
         },
         "text": "AAPL Prices - Traditional Candles",
         "x": 0.45,
         "xanchor": "center",
         "y": 0.95,
         "yanchor": "top"
        },
        "width": 1450,
        "xaxis": {
         "anchor": "y",
         "domain": [
          0,
          1
         ],
         "nticks": 32,
         "rangeslider": {
          "visible": false
         },
         "tickangle": -90,
         "type": "category"
        },
        "yaxis": {
         "anchor": "x",
         "domain": [
          0,
          1
         ],
         "title": {
          "text": "AAPL Price"
         }
        }
       }
      }
     },
     "metadata": {},
     "output_type": "display_data"
    }
   ],
   "source": [
    "fig = make_subplots(\n",
    "    rows = 1,\n",
    "    cols = 1\n",
    ")\n",
    "\n",
    "df = data.copy()\n",
    "display(df)\n",
    "n_ticks_max = 32\n",
    "\n",
    "df_15dma_close = df['Close'].rolling(window=15, min_periods=1).mean()\n",
    "df_20dma_close = df['Close'].rolling(window=20, min_periods=1).mean()\n",
    "df_30dma_close = df['Close'].rolling(window=30, min_periods=1).mean()\n",
    "df_15dma_adjclose = df['Adj Close'].rolling(window=15, min_periods=1).mean()\n",
    "df_20dma_adjclose = df['Adj Close'].rolling(window=20, min_periods=1).mean()\n",
    "df_30dma_adjclose = df['Adj Close'].rolling(window=30, min_periods=1).mean()\n",
    "\n",
    "df['Date'] = df.index.astype(str)\n",
    "\n",
    "# n = len(df)\n",
    "# x_tick_spacing = max(1, round(n / n_ticks_max))\n",
    "# print(n, x_tick_spacing)\n",
    "# x_dtick = 86400000 * x_tick_spacing  # convert days to milliseconds\n",
    "\n",
    "shown_green = False\n",
    "shown_red = False\n",
    "\n",
    "for index, row in df.iterrows():\n",
    "    \n",
    "    if row['Close'] >= row['Open']:\n",
    "        color_dict = dict(fillcolor='rgba(0, 255, 0, 0.3)', line=dict(color='green'))\n",
    "        name = 'Close > Open'\n",
    "        current_candle = 'green'\n",
    "    else:\n",
    "        color_dict = dict(fillcolor='rgba(255, 0, 0, 0.6)', line=dict(color='red'))\n",
    "        name = 'Open > Close'\n",
    "        current_candle = 'red'\n",
    "\n",
    "    if ~shown_green & (current_candle == 'green'):\n",
    "        showlegend = True\n",
    "        shown_green = True\n",
    "    elif ~shown_red & (current_candle == 'red'):\n",
    "        showlegend = True\n",
    "        shown_red = True\n",
    "    else:\n",
    "        showlegend = False\n",
    "\n",
    "    # print(f'{str(index.date())}, {row[\"Open\"]}, {row[\"Close\"]}, {current_candle}, {name}')\n",
    "\n",
    "    fig.add_trace(\n",
    "        go.Candlestick(\n",
    "            x = [row['Date']],\n",
    "            open = [row['Open']],\n",
    "            high = [row['High']],\n",
    "            low = [row['Low']],\n",
    "            close = [row['Close']],\n",
    "            name = name,\n",
    "            increasing = color_dict,\n",
    "            decreasing = color_dict,\n",
    "            showlegend = showlegend\n",
    "        )\n",
    "    )\n",
    "    \"\"\"\n",
    "    fig.add_trace(\n",
    "        go.Scatter(\n",
    "            x = df['Date'],\n",
    "            y = df_15dma_close,\n",
    "            line = dict(color='gold'),        \n",
    "            name = '15-Day SMA'\n",
    "        )\n",
    "    )\n",
    "    fig.add_trace(\n",
    "        go.Scatter(\n",
    "            x = df['Date'],\n",
    "            y = df_30dma,\n",
    "            line = dict(color='palegoldenrod'),  # 'khaki' - slightly darker\n",
    "            name = '30-Day SMA'\n",
    "        )\n",
    "    )\n",
    "    \"\"\"\n",
    "\n",
    "fig.add_trace(\n",
    "    go.Scatter(\n",
    "        x = df['Date'],\n",
    "        y = df_20dma_close,\n",
    "        line = {'color': 'lemonchiffon'},  # or 'palegoldenrod' - slightly darker\n",
    "        name = '20-Day SMA'\n",
    "    )\n",
    ")\n",
    "\n",
    "# Add Bollinger bands\n",
    "upper_bollinger_adjclose = bollinger_bands(df['Adj Close'])['upper']\n",
    "lower_bollinger_adjclose = bollinger_bands(df['Adj Close'])['lower']\n",
    "upper_bollinger_close = bollinger_bands(df['Close'])['upper']\n",
    "lower_bollinger_close = bollinger_bands(df['Close'])['lower']\n",
    "fig.add_trace(\n",
    "    go.Scatter(\n",
    "        x = df['Date'],\n",
    "        y = lower_bollinger_close,\n",
    "        line = dict(color='gold'),  # gold\n",
    "        # name = '2-SD Bollinger Bands'\n",
    "        name = '(20, 2) Bollinger Bands'\n",
    "    )\n",
    ")\n",
    "fig.add_trace(\n",
    "    go.Scatter(\n",
    "        x = df['Date'],\n",
    "        y = upper_bollinger_close,\n",
    "        line = dict(color='gold'),\n",
    "        showlegend = False\n",
    "    )\n",
    ")\n",
    "\"\"\"\n",
    "fig.add_trace(\n",
    "    go.Scatter(\n",
    "        x = df['Date'],\n",
    "        y = lower_bollinger_adjclose,\n",
    "        line = dict(color='orange'),  # gold\n",
    "        name = '2-SD Bollinger Bands (Adj Close)'\n",
    "    )\n",
    ")\n",
    "fig.add_trace(\n",
    "    go.Scatter(\n",
    "        x = df['Date'],\n",
    "        y = upper_bollinger_adjclose,\n",
    "        line = dict(color='orange'),\n",
    "        showlegend = False\n",
    "    )\n",
    ")\n",
    "\"\"\"\n",
    "fig.update_layout(\n",
    "    width = 1450,\n",
    "    height = 725,\n",
    "    xaxis_rangeslider_visible = False,\n",
    "    template = 'plotly_dark',\n",
    "    yaxis_title = f'Price',\n",
    "    title = dict(\n",
    "        text = f'{tk} Prices - Traditional Candles',\n",
    "        font_size = 32,\n",
    "        y = 0.95,\n",
    "        x = 0.45,\n",
    "        xanchor = 'center',\n",
    "        yanchor = 'top'\n",
    "    )\n",
    ")\n",
    "fig.update_xaxes(\n",
    "    # tickformat = \"%Y-%m-%d\",\n",
    "    type = 'category',\n",
    "    nticks = n_ticks_max,\n",
    "    tickangle = -90,\n",
    ")\n",
    "\n",
    "fig.show()"
   ]
  },
  {
   "cell_type": "code",
   "execution_count": null,
   "metadata": {},
   "outputs": [],
   "source": []
  }
 ],
 "metadata": {
  "kernelspec": {
   "display_name": "Python 3",
   "language": "python",
   "name": "python3"
  },
  "language_info": {
   "codemirror_mode": {
    "name": "ipython",
    "version": 3
   },
   "file_extension": ".py",
   "mimetype": "text/x-python",
   "name": "python",
   "nbconvert_exporter": "python",
   "pygments_lexer": "ipython3",
   "version": "3.11.2"
  }
 },
 "nbformat": 4,
 "nbformat_minor": 2
}
