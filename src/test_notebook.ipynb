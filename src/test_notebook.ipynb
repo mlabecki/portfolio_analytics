{
 "cells": [
  {
   "cell_type": "markdown",
   "metadata": {},
   "source": [
    "1. Define Libraries"
   ]
  },
  {
   "cell_type": "code",
   "execution_count": 1,
   "metadata": {},
   "outputs": [],
   "source": [
    "import yfinance as yf\n",
    "import pandas as pd\n",
    "import numpy as np\n",
    "import math\n",
    "from datetime import datetime, timedelta, date\n",
    "import matplotlib\n",
    "import matplotlib.pyplot as plt\n",
    "from matplotlib.colors import TwoSlopeNorm\n",
    "import seaborn as sns\n",
    "import os\n",
    "from scipy import linalg\n",
    "from scipy import stats\n",
    "from scipy.optimize import minimize\n",
    "from sklearn.preprocessing import StandardScaler\n",
    "from sklearn.decomposition import PCA\n",
    "from mapping_tickers import *"
   ]
  },
  {
   "cell_type": "markdown",
   "metadata": {},
   "source": [
    "2a. Define Tickers"
   ]
  },
  {
   "cell_type": "code",
   "execution_count": 17,
   "metadata": {},
   "outputs": [
    {
     "name": "stdout",
     "output_type": "stream",
     "text": [
      "['NVDA', 'AAPL', 'TSLA', 'MSFT', 'AMZN', 'META', 'GOOG']\n"
     ]
    }
   ],
   "source": [
    "crypto_etf_tickers = [\n",
    "    'IBIT', 'GBTC', 'FBTC', 'ETHE', 'ARKB', 'BITB', 'BITO', 'BITX', 'HODL', 'BRRR',\n",
    "    'BTCO', 'EZBC', 'BITU', 'BITQ', 'WGMI', 'ETHU', 'FDIG', 'EETH', 'BTCW', 'CRPT',\n",
    "    'BITI', 'BTF', 'STCE', 'YBTC', 'BTFX', 'EFUT', 'BITS', 'MAXI', 'SBIT', 'ETHT',\n",
    "    'ARKA', 'AETH', 'DEFI', 'ARKZ', 'BITC', 'ETHA', 'BTOP', 'SATO', 'BETH', 'BETE',\n",
    "    'BTCL', 'ARKY', 'REKT', 'SETH', 'ZZZ', 'ARKC', 'ETHD', 'FIAT', 'LMBO', 'BTCZ'\n",
    "]\n",
    "\n",
    "etf_tickers = {\n",
    "    'ARKK': 'ARK Innovation ETF',\n",
    "    'DJIA': 'Global X Dow 30 Covered Call ETF',\n",
    "    'SPY': 'SPDR S&P 500 ETF Trust',\n",
    "    'QQQ': 'Invesco QQQ Trust, NASDAQ 100 Index ETF',\n",
    "    'VOO': 'Vanguard S&P 500 ETF',\n",
    "    'VTI': 'Vanguard Total Stock Market Index Fund ETF Shares',\n",
    "    'VWO': 'Vanguard Emerging Markets Stock Index Fund',\n",
    "    'XLF': 'The Financial Select Sector SPDR Fund',\n",
    "}\n",
    "\n",
    "# tickers = list(etf_tickers.keys())\n",
    "# tickers = crypto_etf_tickers\n",
    "# tickers = list(stock_index_tickers.keys())\n",
    "# tickers = list(volatility_tickers.keys())\n",
    "# tickers = list(yt_example_tickers.keys())\n",
    "# tickers = list(djia_components.keys())\n",
    "# tickers = list(ndx_top30_components.keys())\n",
    "tickers = list(magnificent_7_tickers.keys())\n",
    "# tickers = ['AAPL', 'MSFT', 'NVDA', 'GOOG', 'AMZN']  # 5 top by market cap\n",
    "# tickers = ['AAPL', 'CSCO', 'MSFT', 'MMM', 'IBM', 'VZ', 'INTC']  # IT tickers in G. Pasini's paper\n",
    "# tickers = ['AXP', 'GE', 'GS', 'JPM', 'TRV']  # FIN tickers in G. Pasini's paper\n",
    "\n",
    "# Benchmark ticker - will be user's input from dashboard app\n",
    "tk_market = '^GSPC'  # S&P 500 Index for stocks\n",
    "# tk_market = 'GBTC'  # Grayscale Bitcoin Trust ETF for cryptos\n",
    "# tk_market = '^VIX'\n",
    "print(tickers)"
   ]
  },
  {
   "cell_type": "markdown",
   "metadata": {},
   "source": [
    "2b. Define Weights"
   ]
  },
  {
   "cell_type": "code",
   "execution_count": 3,
   "metadata": {},
   "outputs": [],
   "source": [
    "# By defining weights up front, the user will be able to examine statistical properties\n",
    "# of the weighted portfolio, not just of individual stocks. Different options for choosing\n",
    "# weights should be offered, e.g.:\n",
    "#   - weights all equal\n",
    "#   - weights based on market cap or a similar metric as long as it's consistent across tickers\n",
    "#   - weights custom specified\n",
    "#   - if PCA has already been performed: weights based on the first principal eigenvector"
   ]
  },
  {
   "cell_type": "markdown",
   "metadata": {},
   "source": [
    "3. Define Start and End Dates"
   ]
  },
  {
   "cell_type": "code",
   "execution_count": 4,
   "metadata": {},
   "outputs": [
    {
     "name": "stdout",
     "output_type": "stream",
     "text": [
      "2023-09-19 00:00:00 2024-09-19 17:16:54.736266\n"
     ]
    }
   ],
   "source": [
    "# NOTE: These will be user's inputs from the dashboard app. The user should be provided \n",
    "# with the first date the data for a chosen ticker is available, which should help with \n",
    "# the selection of both the tickers and the start date.\n",
    "#\n",
    "# NOTE: \n",
    "# 1) A choice for the end date should also be provided in the app, so the user can test\n",
    "# portfolio's performance during a selected historical period, e.g. during a financial crisis.\n",
    "# 2) A custom choice of year, month and day should also be provided for both the start and end date\n",
    "\n",
    "end_date = datetime.today()\n",
    "hist_years = 1\n",
    "hist_months = 0\n",
    "hist_days = 0\n",
    "start_date = datetime(end_date.year - hist_years, end_date.month - hist_months, end_date.day - hist_days)\n",
    "\n",
    "# end_date = datetime(2017, 1, 13)    # recreating PCA results in G. Pasini's article\n",
    "# start_date = datetime(2000, 3, 17)  # recreating PCA results in G. Pasini's article\n",
    "print(start_date, end_date)"
   ]
  },
  {
   "cell_type": "markdown",
   "metadata": {},
   "source": [
    "4. Download Adjusted Close Prices and Volumes"
   ]
  },
  {
   "cell_type": "code",
   "execution_count": 18,
   "metadata": {},
   "outputs": [
    {
     "name": "stderr",
     "output_type": "stream",
     "text": [
      "[*********************100%%**********************]  1 of 1 completed\n",
      "[*********************100%%**********************]  1 of 1 completed\n",
      "[*********************100%%**********************]  1 of 1 completed\n",
      "[*********************100%%**********************]  1 of 1 completed\n",
      "[*********************100%%**********************]  1 of 1 completed\n",
      "[*********************100%%**********************]  1 of 1 completed\n",
      "[*********************100%%**********************]  1 of 1 completed\n"
     ]
    }
   ],
   "source": [
    "# Adjusted Close are more accurate than regular Close because they include dividends and stock splits\n",
    "df_adj_close = pd.DataFrame()\n",
    "df_volume = pd.DataFrame()\n",
    "df_dollar_volume = pd.DataFrame()\n",
    "for tk in tickers:\n",
    "    data = yf.download(tk, start=start_date, end=end_date)\n",
    "    # data = yf.download(tk, period='1d')\n",
    "    # print(f'{tk}:\\t{data.index[0]}\\t{data[\"Adj Close\"].values[0]:.8f}\\t{data[\"Volume\"].values[0]:.8f}')\n",
    "    df_adj_close[tk] = data['Adj Close']\n",
    "    df_volume[tk] = data['Volume']\n",
    "    df_dollar_volume[tk] = data['Adj Close'] * data['Volume']\n",
    "\n",
    "# Dropping dates with NaNs now in order to avoid dropping two consecutive dates for each NaN later\n",
    "# (each log return is based on two consecutive dates, so log returns at both of them would be NaN\n",
    "# if any of them is NaN)\n",
    "\n",
    "# Below are checks on when the data starts for any ticker, i.e. when the initial NaNs end.\n",
    "# E.g. dropping NaNs for etf_tickers shortens the historical period from 3 years to 2.5 years because\n",
    "# of the missing data for DJIA.\n",
    "\n",
    "# Check for Adj Close data start. Volume data start together with the prices data,\n",
    "# so there is no need to check df_volume.\n",
    "\n",
    "df_adj_close_start = pd.DataFrame(columns=['Adj Close Start Date'])\n",
    "last_date_tk = df_adj_close.index.max().date()\n",
    "missing_end_date_tickers = []\n",
    "\n",
    "for tk in tickers:\n",
    "    start_date_tk = df_adj_close.index[~df_adj_close[tk].isna()].min().date()\n",
    "    last_nan_date_tk = df_adj_close.index[df_adj_close[tk].isna()].max().date()\n",
    "    \n",
    "    # print(tk, start_date_tk, last_nan_date_tk, end_date.date())\n",
    "\n",
    "    if (start_date_tk > start_date.date()) & ~pd.isnull(last_nan_date_tk):\n",
    "        if last_nan_date_tk < start_date_tk:\n",
    "            df_adj_close_start.loc[tk, 'Adj Close Start Date'] = start_date_tk\n",
    "\n",
    "    if ~pd.isnull(last_nan_date_tk) & (last_nan_date_tk == end_date.date()):\n",
    "        missing_end_date_tickers.append(tk)\n",
    "        \n",
    "if len(df_adj_close_start) > 0:\n",
    "    min_start_date_adj_close_tk = df_adj_close_start['Adj Close Start Date'].min()\n",
    "    print(f'WARNING: Data for these tickers start after the selected start date of {start_date.date()}.')\n",
    "    for tk in df_adj_close_start.index:\n",
    "        print(f\"\\t{tk}:\\t{df_adj_close_start.loc[tk, 'Adj Close Start Date']}\")\n",
    "    print(f'The whole portfolio data will be truncated to start at {min_start_date_adj_close_tk}.')\n",
    "    print(f'Please consider adjusting the start date or removing some tickers if you wish to avoid that.')\n",
    "\n",
    "if last_date_tk < end_date.date():\n",
    "    print(f'WARNING: No data available for the selected portfolio tickers at the end date of {end_date.date()}.')\n",
    "    print(f'The portfolio data will be truncated to end at the latest available date of {last_date_tk}.')\n",
    "elif len(missing_end_date_tickers) > 0:\n",
    "    print(f'WARNING: Data for these tickers is missing for the selected end date of {end_date.date()}.')\n",
    "    print(missing_end_date_tickers)\n",
    "    print(f'The whole portfolio data will be truncated to end at the latest date containing data for all tickers.')\n",
    "\n",
    "df_adj_close = df_adj_close.dropna()  \n",
    "# print(df_adj_close.iloc[-1])\n",
    "# print(len(df_adj_close))\n",
    "# display(df_adj_close)\n",
    "\n",
    "df_volumes = df_volume.dropna()\n",
    "# print(df_volume.iloc[-1])\n",
    "# print(len(df_volume))\n",
    "\n",
    "df_dollar_volume = df_dollar_volume.dropna()\n",
    "# print(df_dollar_volume.iloc[-1])\n",
    "# print(len(df_dollar_volume))"
   ]
  },
  {
   "cell_type": "markdown",
   "metadata": {},
   "source": [
    "5. Calculate Log Returns and Their Moments"
   ]
  },
  {
   "cell_type": "markdown",
   "metadata": {},
   "source": [
    ">>NOTE: The downturns or downsides, as used in the Sortino Ratio, should probably be calculated relative to the daily risk-free return rate (Rf). \n",
    "\n",
    ">> That is, those should be the downturns/downsides of Rp-Rf rather than Rp. See, for example, https://www.youtube.com/watch?v=zN0JlQ_I52M"
   ]
  },
  {
   "cell_type": "code",
   "execution_count": 27,
   "metadata": {},
   "outputs": [
    {
     "name": "stdout",
     "output_type": "stream",
     "text": [
      "Statistical Properties of Asset Return Distributions\n"
     ]
    },
    {
     "data": {
      "text/html": [
       "<div>\n",
       "<style scoped>\n",
       "    .dataframe tbody tr th:only-of-type {\n",
       "        vertical-align: middle;\n",
       "    }\n",
       "\n",
       "    .dataframe tbody tr th {\n",
       "        vertical-align: top;\n",
       "    }\n",
       "\n",
       "    .dataframe thead th {\n",
       "        text-align: right;\n",
       "    }\n",
       "</style>\n",
       "<table border=\"1\" class=\"dataframe\">\n",
       "  <thead>\n",
       "    <tr style=\"text-align: right;\">\n",
       "      <th></th>\n",
       "      <th>NVDA</th>\n",
       "      <th>AAPL</th>\n",
       "      <th>TSLA</th>\n",
       "      <th>MSFT</th>\n",
       "      <th>AMZN</th>\n",
       "      <th>META</th>\n",
       "      <th>GOOG</th>\n",
       "    </tr>\n",
       "  </thead>\n",
       "  <tbody>\n",
       "    <tr>\n",
       "      <th>Observations</th>\n",
       "      <td>252</td>\n",
       "      <td>252</td>\n",
       "      <td>252</td>\n",
       "      <td>252</td>\n",
       "      <td>252</td>\n",
       "      <td>252</td>\n",
       "      <td>252</td>\n",
       "    </tr>\n",
       "    <tr>\n",
       "      <th>Minimum</th>\n",
       "      <td>-0.1054</td>\n",
       "      <td>-0.0494</td>\n",
       "      <td>-0.1316</td>\n",
       "      <td>-0.0382</td>\n",
       "      <td>-0.0919</td>\n",
       "      <td>-0.1116</td>\n",
       "      <td>-0.1009</td>\n",
       "    </tr>\n",
       "    <tr>\n",
       "      <th>Maximum</th>\n",
       "      <td>0.1519</td>\n",
       "      <td>0.0701</td>\n",
       "      <td>0.1424</td>\n",
       "      <td>0.0302</td>\n",
       "      <td>0.0757</td>\n",
       "      <td>0.1850</td>\n",
       "      <td>0.0950</td>\n",
       "    </tr>\n",
       "    <tr>\n",
       "      <th>Mean</th>\n",
       "      <td>0.003955</td>\n",
       "      <td>0.000994</td>\n",
       "      <td>-0.000351</td>\n",
       "      <td>0.001176</td>\n",
       "      <td>0.001277</td>\n",
       "      <td>0.002416</td>\n",
       "      <td>0.000652</td>\n",
       "    </tr>\n",
       "    <tr>\n",
       "      <th>Median</th>\n",
       "      <td>0.005830</td>\n",
       "      <td>0.001551</td>\n",
       "      <td>0.001545</td>\n",
       "      <td>0.001842</td>\n",
       "      <td>0.000778</td>\n",
       "      <td>0.001800</td>\n",
       "      <td>0.003564</td>\n",
       "    </tr>\n",
       "    <tr>\n",
       "      <th>Standard Deviation</th>\n",
       "      <td>0.032330</td>\n",
       "      <td>0.014039</td>\n",
       "      <td>0.034269</td>\n",
       "      <td>0.012549</td>\n",
       "      <td>0.018020</td>\n",
       "      <td>0.022618</td>\n",
       "      <td>0.017839</td>\n",
       "    </tr>\n",
       "    <tr>\n",
       "      <th>Variance</th>\n",
       "      <td>0.001045</td>\n",
       "      <td>0.000197</td>\n",
       "      <td>0.001174</td>\n",
       "      <td>0.000157</td>\n",
       "      <td>0.000325</td>\n",
       "      <td>0.000512</td>\n",
       "      <td>0.000318</td>\n",
       "    </tr>\n",
       "    <tr>\n",
       "      <th>Annual Volatility</th>\n",
       "      <td>0.5132</td>\n",
       "      <td>0.2229</td>\n",
       "      <td>0.5440</td>\n",
       "      <td>0.1992</td>\n",
       "      <td>0.2861</td>\n",
       "      <td>0.3591</td>\n",
       "      <td>0.2832</td>\n",
       "    </tr>\n",
       "    <tr>\n",
       "      <th>Annual Variance</th>\n",
       "      <td>0.2634</td>\n",
       "      <td>0.0497</td>\n",
       "      <td>0.2959</td>\n",
       "      <td>0.0397</td>\n",
       "      <td>0.0818</td>\n",
       "      <td>0.1289</td>\n",
       "      <td>0.0802</td>\n",
       "    </tr>\n",
       "    <tr>\n",
       "      <th>Skewness</th>\n",
       "      <td>0.1615</td>\n",
       "      <td>0.4011</td>\n",
       "      <td>-0.0203</td>\n",
       "      <td>-0.5220</td>\n",
       "      <td>-0.3080</td>\n",
       "      <td>1.4601</td>\n",
       "      <td>-0.7378</td>\n",
       "    </tr>\n",
       "    <tr>\n",
       "      <th>Excess Kurtosis</th>\n",
       "      <td>2.36</td>\n",
       "      <td>3.45</td>\n",
       "      <td>2.45</td>\n",
       "      <td>0.40</td>\n",
       "      <td>3.84</td>\n",
       "      <td>17.89</td>\n",
       "      <td>7.63</td>\n",
       "    </tr>\n",
       "    <tr>\n",
       "      <th>1% 1-Day VaR</th>\n",
       "      <td>-0.0717</td>\n",
       "      <td>-0.0327</td>\n",
       "      <td>-0.0928</td>\n",
       "      <td>-0.0338</td>\n",
       "      <td>-0.0434</td>\n",
       "      <td>-0.0513</td>\n",
       "      <td>-0.0493</td>\n",
       "    </tr>\n",
       "    <tr>\n",
       "      <th>1% 1-Day CVaR</th>\n",
       "      <td>-0.0928</td>\n",
       "      <td>-0.0425</td>\n",
       "      <td>-0.1195</td>\n",
       "      <td>-0.0364</td>\n",
       "      <td>-0.0648</td>\n",
       "      <td>-0.0759</td>\n",
       "      <td>-0.0763</td>\n",
       "    </tr>\n",
       "    <tr>\n",
       "      <th>5% 1-Day VaR</th>\n",
       "      <td>-0.0460</td>\n",
       "      <td>-0.0219</td>\n",
       "      <td>-0.0490</td>\n",
       "      <td>-0.0222</td>\n",
       "      <td>-0.0256</td>\n",
       "      <td>-0.0265</td>\n",
       "      <td>-0.0269</td>\n",
       "    </tr>\n",
       "    <tr>\n",
       "      <th>5% 1-Day CVaR</th>\n",
       "      <td>-0.0694</td>\n",
       "      <td>-0.0298</td>\n",
       "      <td>-0.0773</td>\n",
       "      <td>-0.0293</td>\n",
       "      <td>-0.0401</td>\n",
       "      <td>-0.0454</td>\n",
       "      <td>-0.0450</td>\n",
       "    </tr>\n",
       "    <tr>\n",
       "      <th>Jarque-Bera p-Value</th>\n",
       "      <td>0.000000</td>\n",
       "      <td>0.000000</td>\n",
       "      <td>0.000000</td>\n",
       "      <td>0.001407</td>\n",
       "      <td>0.000000</td>\n",
       "      <td>0.000000</td>\n",
       "      <td>0.000000</td>\n",
       "    </tr>\n",
       "  </tbody>\n",
       "</table>\n",
       "</div>"
      ],
      "text/plain": [
       "                         NVDA      AAPL       TSLA      MSFT      AMZN  \\\n",
       "Observations              252       252        252       252       252   \n",
       "Minimum               -0.1054   -0.0494    -0.1316   -0.0382   -0.0919   \n",
       "Maximum                0.1519    0.0701     0.1424    0.0302    0.0757   \n",
       "Mean                 0.003955  0.000994  -0.000351  0.001176  0.001277   \n",
       "Median               0.005830  0.001551   0.001545  0.001842  0.000778   \n",
       "Standard Deviation   0.032330  0.014039   0.034269  0.012549  0.018020   \n",
       "Variance             0.001045  0.000197   0.001174  0.000157  0.000325   \n",
       "Annual Volatility      0.5132    0.2229     0.5440    0.1992    0.2861   \n",
       "Annual Variance        0.2634    0.0497     0.2959    0.0397    0.0818   \n",
       "Skewness               0.1615    0.4011    -0.0203   -0.5220   -0.3080   \n",
       "Excess Kurtosis          2.36      3.45       2.45      0.40      3.84   \n",
       "1% 1-Day VaR          -0.0717   -0.0327    -0.0928   -0.0338   -0.0434   \n",
       "1% 1-Day CVaR         -0.0928   -0.0425    -0.1195   -0.0364   -0.0648   \n",
       "5% 1-Day VaR          -0.0460   -0.0219    -0.0490   -0.0222   -0.0256   \n",
       "5% 1-Day CVaR         -0.0694   -0.0298    -0.0773   -0.0293   -0.0401   \n",
       "Jarque-Bera p-Value  0.000000  0.000000   0.000000  0.001407  0.000000   \n",
       "\n",
       "                         META      GOOG  \n",
       "Observations              252       252  \n",
       "Minimum               -0.1116   -0.1009  \n",
       "Maximum                0.1850    0.0950  \n",
       "Mean                 0.002416  0.000652  \n",
       "Median               0.001800  0.003564  \n",
       "Standard Deviation   0.022618  0.017839  \n",
       "Variance             0.000512  0.000318  \n",
       "Annual Volatility      0.3591    0.2832  \n",
       "Annual Variance        0.1289    0.0802  \n",
       "Skewness               1.4601   -0.7378  \n",
       "Excess Kurtosis         17.89      7.63  \n",
       "1% 1-Day VaR          -0.0513   -0.0493  \n",
       "1% 1-Day CVaR         -0.0759   -0.0763  \n",
       "5% 1-Day VaR          -0.0265   -0.0269  \n",
       "5% 1-Day CVaR         -0.0454   -0.0450  \n",
       "Jarque-Bera p-Value  0.000000  0.000000  "
      ]
     },
     "metadata": {},
     "output_type": "display_data"
    }
   ],
   "source": [
    "x = np.log(df_adj_close / df_adj_close.shift(1))\n",
    "# x = x[~np.ma.fix_invalid(x).mask.any(axis=1)]  \n",
    "# The line above removes invalid elements such as NaN or Inf, can be used instead of df.dropna()\n",
    "x_downturns = np.where(x < 0, x, 0)  # Keep only non-positive returns for Sortino ratio\n",
    "\n",
    "log_returns = pd.DataFrame(x, columns=tickers, index=df_adj_close.index).dropna()\n",
    "\n",
    "# display(log_returns)\n",
    "\n",
    "x_standardized = StandardScaler().fit_transform(x)\n",
    "log_returns_standardized = pd.DataFrame(x_standardized, columns=tickers, index=df_adj_close.index).dropna()\n",
    "log_returns_downturns = pd.DataFrame(x_downturns, columns=tickers, index=df_adj_close.index).dropna()\n",
    "\n",
    "\n",
    "def historical_var(returns_tk, p_level=5):\n",
    "    \"\"\"\n",
    "    returns_tk:         returns for ticker tk\n",
    "    confidence_level:   percent confidence level\n",
    "    \"\"\"\n",
    "    return returns_tk.quantile(p_level / 100)\n",
    "\n",
    "\n",
    "def historical_cvar(returns_tk, p_level=5):\n",
    "    \"\"\"\n",
    "    returns_tk:         returns for ticker tk\n",
    "    confidence_level:   percent confidence level\n",
    "    \"\"\"\n",
    "    in_tail = returns_tk <= historical_var(returns_tk, p_level)\n",
    "    return returns_tk[in_tail].mean()\n",
    "\n",
    "\n",
    "# NOTE: \n",
    "# 1) Pandas skewness() and kurtosis() are unbiased estimators, i.e. they are corrected for bias (N-1 instead of N).\n",
    "# 2) Scipy.stats skew() and kurtosis() are BIASED (uncorrected, based on N) by default and provide a bias parameter\n",
    "#    which can be set to False if an unbiased estimate is required. \n",
    "# 3) Scipy.stats.describe() provides BIASED (uncorrected, based on N) estimates for skewness and kurtosis, but\n",
    "#    an UNBIASED (corrected, based on N-1) estimate for variance.\n",
    "# 4) Scipy.stats.kurtosis() provides excess (Fisher) kurtosis by default, which can be changed by setting fisher=False.\n",
    "# 5) Skewness and kurtosis do not have to be annualised as they do not depend on frequency -\n",
    "#    see e.g. https://www.youtube.com/watch?v=skmYLg7vk3g\n",
    "\n",
    "stats_metrics = [\n",
    "    'Observations',\n",
    "    'Minimum',\n",
    "    'Maximum',\n",
    "    'Mean',\n",
    "    'Median',\n",
    "    'Standard Deviation',\n",
    "    'Variance',\n",
    "    'Annual Volatility',\n",
    "    'Annual Variance',\n",
    "    'Skewness',\n",
    "    'Excess Kurtosis',\n",
    "    '1% 1-Day VaR',\n",
    "    '1% 1-Day CVaR',\n",
    "    '5% 1-Day VaR',\n",
    "    '5% 1-Day CVaR',\n",
    "    'Jarque-Bera p-Value'\n",
    "]\n",
    "\n",
    "log_returns_stats = pd.DataFrame(columns=tickers, index=stats_metrics)\n",
    "\n",
    "for tk in tickers:\n",
    "    returns_tk = log_returns[tk]\n",
    "    tk_stats = stats.describe(returns_tk)\n",
    "    log_returns_stats.loc['Observations', tk] = len(returns_tk)\n",
    "    log_returns_stats.loc['Minimum', tk] = f'{tk_stats.minmax[0]:.4f}'\n",
    "    log_returns_stats.loc['Maximum', tk] = f'{tk_stats.minmax[1]:.4f}'\n",
    "    log_returns_stats.loc['Mean', tk] = f'{tk_stats.mean:.6f}'\n",
    "    log_returns_stats.loc['Median', tk] = f'{np.median(returns_tk):.6f}'\n",
    "    log_returns_stats.loc['Standard Deviation', tk] = f'{returns_tk.std(ddof=0):.6f}'\n",
    "    log_returns_stats.loc['Variance', tk] = f'{returns_tk.var(ddof=0):.6f}'\n",
    "    log_returns_stats.loc['Annual Volatility', tk] = f'{np.sqrt(returns_tk.var(ddof=0) * 252):.4f}'\n",
    "    log_returns_stats.loc['Annual Variance', tk] = f'{(returns_tk.var(ddof=0) * 252):.4f}'\n",
    "    log_returns_stats.loc['Skewness', tk] = f'{tk_stats.skewness:.4f}'\n",
    "    log_returns_stats.loc['Excess Kurtosis', tk] = f'{tk_stats.kurtosis:.2f}'\n",
    "    log_returns_stats.loc['1% 1-Day VaR', tk] = f'{historical_var(returns_tk, p_level=1):.4f}'\n",
    "    log_returns_stats.loc['1% 1-Day CVaR', tk] = f'{historical_cvar(returns_tk, p_level=1):.4f}'\n",
    "    log_returns_stats.loc['5% 1-Day VaR', tk] = f'{historical_var(returns_tk, p_level=5):.4f}'\n",
    "    log_returns_stats.loc['5% 1-Day CVaR', tk] = f'{historical_cvar(returns_tk, p_level=5):.4f}'\n",
    "    log_returns_stats.loc['Jarque-Bera p-Value', tk] = f'{stats.jarque_bera(returns_tk).pvalue:.6f}'\n",
    "\n",
    "# NOTE: Re Jarque-Bera normality test\n",
    "# 1) The Jarque-Bera statistic value = stats.jarque_bera(log_returns[tk]).statistic (omitted above)\n",
    "# 2) jarque_bera.pvalue = 1 - stats.chi2.cdf(jarque_bera.statistic, 2)\n",
    "# 3) Typically, a p-value of 0.05 is used as a normality threshold in the Jarque-Bera test. \n",
    "#    That is, if Jarque-Bera p-value is > 0.05, then the distribution is considered to be normal.\n",
    "#    Example: Samunderu & Murahwa, 'Return Based Risk Measures for Non-Normally Distributed Returns'\n",
    "\n",
    "# NOTE: Other normality tests\n",
    "# 1) D’Agostino-Pearson test\n",
    "#       tk_nrm = stats.normaltest(log_returns[tk])\n",
    "# 2) Shapiro-Wilk test\n",
    "#       tk_shw = stats.shapiro(log_returns[tk])\n",
    "# 3) Anderson-Darling test\n",
    "#       tk_and = stats.anderson(log_returns[tk])\n",
    "\n",
    "print('Statistical Properties of Asset Return Distributions')\n",
    "display(log_returns_stats)\n",
    "\n",
    "# print(log_returns)\n",
    "# print(len(log_returns))\n",
    "# print(log_returns_downturns)\n",
    "# print(log_returns_moments)"
   ]
  },
  {
   "cell_type": "code",
   "execution_count": 7,
   "metadata": {},
   "outputs": [],
   "source": [
    "def shifted_color_map(\n",
    "    cmap, \n",
    "    start = 0,\n",
    "    midpoint = 0.5,\n",
    "    stop = 1,\n",
    "    name = 'shifted_cmap'\n",
    "):\n",
    "    '''\n",
    "    https://stackoverflow.com/questions/7404116/defining-the-midpoint-of-a-colormap-in-matplotlib\n",
    "\n",
    "    Function to offset the \"center\" of a colormap. Useful, for example, for data\n",
    "    with a negative minimum value and a positive maximum value if we want the middle \n",
    "    of the colormap's dynamic range to be at zero.\n",
    "\n",
    "    Input parameters\n",
    "    -----\n",
    "    cmap:   The matplotlib colormap to be altered (e.g. plt.cm.summer)\n",
    "    start:  Offset from lowest point in the colormap's range. Should be between\n",
    "        0 and 'midpoint', defaults to 0 (no lower offset).\n",
    "    midpoint: The new center of the colormap. Should be between 0 and 1, defaults \n",
    "        to 0.5 (no shift). \n",
    "    stop:   Offset from highest point in the colormap's range. Should be\n",
    "        between 'midpoint' and 1, defaults to 1 (no upper offset).\n",
    "    '''\n",
    "    \n",
    "    cdict = {\n",
    "        'red': [],\n",
    "        'green': [],\n",
    "        'blue': [],\n",
    "        'alpha': []\n",
    "    }\n",
    "\n",
    "    # Regular index to compute the colors\n",
    "    reg_index = np.linspace(start, stop, 257)\n",
    "\n",
    "    # Shifted index to match the data\n",
    "    shift_index = np.hstack([\n",
    "        np.linspace(0, midpoint, 128, endpoint=False), \n",
    "        np.linspace(midpoint, 1, 129, endpoint=True)\n",
    "    ])\n",
    "\n",
    "    for ri, si in zip(reg_index, shift_index):\n",
    "        r, g, b, a = cmap(ri)\n",
    "\n",
    "        cdict['red'].append((si, r, r))\n",
    "        cdict['green'].append((si, g, g))\n",
    "        cdict['blue'].append((si, b, b))\n",
    "        cdict['alpha'].append((si, a, a))\n",
    "\n",
    "    newcmap = matplotlib.colors.LinearSegmentedColormap(name, cdict)\n",
    "    \n",
    "    return newcmap"
   ]
  },
  {
   "cell_type": "code",
   "execution_count": 11,
   "metadata": {},
   "outputs": [],
   "source": [
    "def plot_correlations(\n",
    "    corr_matrix,\n",
    "    vmin=-1,\n",
    "    vmax=1,\n",
    "    eps=0.001,\n",
    "    cmap=plt.cm.seismic,\n",
    "    shifted=False,\n",
    "    cmap_offset=0\n",
    "):\n",
    "    \"\"\"\n",
    "    Plot correlation matrix using seaborn heatmap\n",
    "    \"\"\"\n",
    "    vmin_eps = vmin - eps\n",
    "    vmax_eps = vmax + eps\n",
    "    vcenter = vmin + 0.5 * (vmax - vmin)\n",
    "    \n",
    "    if shifted:\n",
    "        cmap_midpoint = 1 - vmax / (vmax - vmin)\n",
    "        cmap_start = cmap_offset\n",
    "        cmap_stop = 1 - cmap_offset  # This guarantees that the white middle of a two-colour map is at 0\n",
    "        newcmap = shifted_color_map(cmap, start=cmap_start, midpoint=cmap_midpoint, stop=cmap_stop, name='shifted')\n",
    "    else:\n",
    "        newcmap = cmap\n",
    "\n",
    "    corr_plot = sns.heatmap(corr_matrix, norm=TwoSlopeNorm(vcenter=vcenter, vmin=vmin_eps, vmax=vmax_eps), cmap=newcmap)\n",
    "\n",
    "    return corr_plot"
   ]
  },
  {
   "cell_type": "markdown",
   "metadata": {},
   "source": [
    "6. Calculate Covariance Matrix Using Annualized Returns"
   ]
  },
  {
   "cell_type": "markdown",
   "metadata": {},
   "source": [
    ">> NOTE: Should cov_matrix_downturns be corrected to exclude zero returns? This might be difficult because the zeros differ for different tickers."
   ]
  },
  {
   "cell_type": "code",
   "execution_count": 20,
   "metadata": {},
   "outputs": [
    {
     "name": "stderr",
     "output_type": "stream",
     "text": [
      "[*********************100%%**********************]  1 of 1 completed"
     ]
    },
    {
     "name": "stdout",
     "output_type": "stream",
     "text": [
      "NVDA\t2.63769558\n",
      "AAPL\t0.99052501\n",
      "TSLA\t2.18535419\n",
      "MSFT\t1.09691402\n",
      "AMZN\t1.54268199\n",
      "META\t1.56271222\n",
      "GOOG\t1.31624673\n",
      "          Beta\n",
      "NVDA  2.637696\n",
      "AAPL  0.990525\n",
      "TSLA  2.185354\n",
      "MSFT  1.096914\n",
      "AMZN  1.542682\n",
      "META  1.562712\n",
      "GOOG  1.316247\n"
     ]
    },
    {
     "name": "stderr",
     "output_type": "stream",
     "text": [
      "\n"
     ]
    }
   ],
   "source": [
    "cov_matrix = pd.DataFrame(log_returns.cov(ddof=0) * 252)\n",
    "cov_matrix_downturns = pd.DataFrame(log_returns_downturns.cov(ddof=0) * 252)  # NOTE: Note sure if this is correct.\n",
    "\n",
    "# Betas\n",
    "df_market = pd.DataFrame(index=df_adj_close.index)\n",
    "data = yf.download(tk_market, start=start_date, end=end_date)\n",
    "df_market[tk_market] = data['Adj Close']\n",
    "df_market = df_market.dropna()\n",
    "\n",
    "x_market = np.log(df_market / df_market.shift(1))\n",
    "log_returns_market = pd.DataFrame(x_market, index=df_market.index).dropna()\n",
    "\n",
    "market_variance = log_returns_market[tk_market].var(ddof=0)\n",
    "betas = {}\n",
    "for tk in tickers:\n",
    "    tk_covariance = log_returns[tk].cov(log_returns_market[tk_market], ddof=0)\n",
    "    betas.update({tk: tk_covariance / market_variance})\n",
    "\n",
    "# print(betas)\n",
    "\n",
    "df_betas = pd.DataFrame(betas.values(), columns=['Beta'], index=tickers)\n",
    "\n",
    "for tk, beta in betas.items():\n",
    "    print(f'{tk}\\t{beta:.8f}')\n",
    "\n",
    "print(df_betas)"
   ]
  },
  {
   "cell_type": "markdown",
   "metadata": {},
   "source": [
    "7. Calculate and Plot Correlation Matrix"
   ]
  },
  {
   "cell_type": "code",
   "execution_count": 13,
   "metadata": {},
   "outputs": [
    {
     "data": {
      "text/plain": [
       "Text(0.5, 1.0, 'Pearson Correlation Map')"
      ]
     },
     "execution_count": 13,
     "metadata": {},
     "output_type": "execute_result"
    },
    {
     "data": {
      "image/png": "[encoded data removed]",
      "text/plain": [
       "<Figure size 1000x800 with 2 Axes>"
      ]
     },
     "metadata": {},
     "output_type": "display_data"
    }
   ],
   "source": [
    "# Pearson Correlation:\n",
    "# - parametric, assumes linearity and homoscedasticity\n",
    "# - suitable for continuous variables\n",
    "# - sensitive to outliers\n",
    "\n",
    "corr_matrix_pearson = pd.DataFrame(log_returns.corr(method='pearson'))\n",
    "\n",
    "# print(corr_matrix.to_numpy().min())\n",
    "\n",
    "fig_pearson = plt.figure(figsize=(10,8))  # Set aspect ratio\n",
    "\n",
    "# Could also define ax, if needed for any formatting:\n",
    "#   ax = fig.add_subplot()\n",
    "# or define both fig and ax as below:\n",
    "#   fig, ax = plt.subplots(figsize=(10,8))\n",
    "\n",
    "# vmin = -0.2\n",
    "vmin = -1\n",
    "vmax = 1\n",
    "eps = 0.001\n",
    "cmap = plt.cm.seismic\n",
    "shifted = False\n",
    "cmap_offset = 0.2\n",
    "\n",
    "corr_plot_pearson = plot_correlations(corr_matrix_pearson, vmin, vmax, eps, cmap, shifted, cmap_offset)\n",
    "plt.title('Pearson Correlation Map')"
   ]
  },
  {
   "cell_type": "code",
   "execution_count": 14,
   "metadata": {},
   "outputs": [
    {
     "data": {
      "text/plain": [
       "Text(0.5, 1.0, 'Kendall Correlation Map')"
      ]
     },
     "execution_count": 14,
     "metadata": {},
     "output_type": "execute_result"
    },
    {
     "data": {
      "image/png": "[encoded data removed]",
      "text/plain": [
       "<Figure size 1000x800 with 2 Axes>"
      ]
     },
     "metadata": {},
     "output_type": "display_data"
    }
   ],
   "source": [
    "# Kendall Tau Correlation:\n",
    "# - a non-parametric measure of association between two variables\n",
    "# - assesses the strength and direction of monotonic (nonlinear) relationships\n",
    "# - robust against outliers and non-normality\n",
    "# - preferred when there are small samples or many rank ties\n",
    "\n",
    "corr_matrix_kendall = pd.DataFrame(log_returns.corr(method='kendall'))\n",
    "\n",
    "fig_kendall = plt.figure(figsize=(10,8))  # Set aspect ratio\n",
    "\n",
    "# vmin = -0.2\n",
    "vmin = -1\n",
    "vmax = 1\n",
    "eps = 0.001\n",
    "cmap = plt.cm.seismic\n",
    "shifted = False\n",
    "cmap_offset = 0.2\n",
    "\n",
    "corr_plot_kendall = plot_correlations(corr_matrix_kendall, vmin, vmax, eps, cmap, shifted, cmap_offset)\n",
    "plt.title('Kendall Correlation Map')"
   ]
  },
  {
   "cell_type": "code",
   "execution_count": 15,
   "metadata": {},
   "outputs": [
    {
     "data": {
      "text/plain": [
       "Text(0.5, 1.0, 'Spearman Correlation Map')"
      ]
     },
     "execution_count": 15,
     "metadata": {},
     "output_type": "execute_result"
    },
    {
     "data": {
      "image/png": "[encoded data removed]",
      "text/plain": [
       "<Figure size 1000x800 with 2 Axes>"
      ]
     },
     "metadata": {},
     "output_type": "display_data"
    }
   ],
   "source": [
    "# Spearman Rank Correlation:\n",
    "# - non-parametric, measures monotonic relationships using ranked data\n",
    "# - preferred for weak correlations in small data sets\n",
    "# - less sensitive than Pearson to outliers\n",
    "\n",
    "corr_matrix_spearman = pd.DataFrame(log_returns.corr(method='spearman'))\n",
    "\n",
    "fig_spearman = plt.figure(figsize=(10,8))  # Set aspect ratio\n",
    "\n",
    "# vmin = -0.2\n",
    "vmin = -1\n",
    "vmax = 1\n",
    "eps = 0.001\n",
    "cmap = plt.cm.seismic\n",
    "shifted = False\n",
    "cmap_offset = 0.2\n",
    "\n",
    "corr_plot_spearman = plot_correlations(corr_matrix_spearman, vmin, vmax, eps, cmap, shifted, cmap_offset)\n",
    "plt.title('Spearman Correlation Map')"
   ]
  },
  {
   "cell_type": "markdown",
   "metadata": {},
   "source": [
    "8. Adjusted Metrics Based on Rian Dolphin's Paper"
   ]
  },
  {
   "cell_type": "markdown",
   "metadata": {},
   "source": [
    ">>a. Adjusted Covariance"
   ]
  },
  {
   "cell_type": "code",
   "execution_count": 13,
   "metadata": {},
   "outputs": [],
   "source": [
    "def calculate_adjusted_covariance(\n",
    "    df,\n",
    "    ddof: int = 0\n",
    "):\n",
    "    \"\"\"\n",
    "    Calculates adjusted covariance matrix for an input dataframe df of returns\n",
    "    ddof:       delta degrees of freedom\n",
    "    ddof == 0:  use n in the divisor (population size)\n",
    "    ddof > 0:   use (n - ddof) in the divisor (sample size)\n",
    "    \"\"\"\n",
    "\n",
    "    n = len(df)\n",
    "    k =  n - ddof\n",
    "    \n",
    "    tickers = df.columns\n",
    "    cov_adj = pd.DataFrame(columns=tickers, index=tickers)\n",
    "\n",
    "    for i, tk in enumerate(tickers):\n",
    "        tk_series = df[tk]\n",
    "        cov_adj.loc[tk, tk] = tk_series @ tk_series\n",
    "\n",
    "        for tk2 in tickers[i + 1:]:\n",
    "            tk2_series = df[tk2]\n",
    "            cov_tk_tk2 = tk_series @ tk2_series\n",
    "            cov_adj.loc[tk, tk2] = cov_tk_tk2\n",
    "            cov_adj.loc[tk2, tk] = cov_tk_tk2\n",
    "\n",
    "    cov_adj = cov_adj.astype(float) / k\n",
    "\n",
    "    return cov_adj\n"
   ]
  },
  {
   "cell_type": "code",
   "execution_count": 14,
   "metadata": {},
   "outputs": [],
   "source": [
    "cov_matrix_adj = pd.DataFrame(calculate_adjusted_covariance(log_returns))\n",
    "# print(cov_matrix_adj.dtypes)"
   ]
  },
  {
   "cell_type": "markdown",
   "metadata": {},
   "source": [
    ">>b. Adjusted Correlation"
   ]
  },
  {
   "cell_type": "code",
   "execution_count": 15,
   "metadata": {},
   "outputs": [],
   "source": [
    "def calculate_adjusted_correlation(df):\n",
    "    \"\"\"\n",
    "    Calculates adjusted correlation matrix for an input dataframe df of returns\n",
    "    using Rian Dolphin's formula (Eq. 5)\n",
    "    \"\"\"\n",
    "\n",
    "    tickers = df.columns\n",
    "    corr_adj = pd.DataFrame(columns=tickers, index=tickers)\n",
    "\n",
    "    tk_st_dev = {}\n",
    "    for tk in tickers:\n",
    "        tk_series = df[tk]\n",
    "        tk_st_dev.update({tk: np.sqrt(tk_series @ tk_series)})\n",
    "\n",
    "    for i, tk in enumerate(tickers):\n",
    "        tk_series = df[tk]\n",
    "        corr_adj.loc[tk, tk] = 1\n",
    "\n",
    "        for tk2 in tickers[i + 1:]:\n",
    "            tk2_series = df[tk2]\n",
    "            corr_tk_tk2 = tk_series @ tk2_series / (tk_st_dev[tk] * tk_st_dev[tk2])\n",
    "            corr_adj.loc[tk, tk2] = corr_tk_tk2\n",
    "            corr_adj.loc[tk2, tk] = corr_tk_tk2\n",
    "\n",
    "    corr_adj = corr_adj.astype(float)\n",
    "\n",
    "    return corr_adj\n"
   ]
  },
  {
   "cell_type": "code",
   "execution_count": 16,
   "metadata": {},
   "outputs": [
    {
     "data": {
      "text/plain": [
       "Text(0.5, 1.0, 'Adjusted Correlation Map')"
      ]
     },
     "execution_count": 16,
     "metadata": {},
     "output_type": "execute_result"
    },
    {
     "data": {
      "image/png": "[encoded data removed]",
      "text/plain": [
       "<Figure size 1000x800 with 2 Axes>"
      ]
     },
     "metadata": {},
     "output_type": "display_data"
    }
   ],
   "source": [
    "corr_matrix_adj = pd.DataFrame(calculate_adjusted_correlation(log_returns))\n",
    "\n",
    "fig_corr_adj = plt.figure(figsize=(10,8))  # Set aspect ratio\n",
    "\n",
    "# vmin = -0.2\n",
    "vmin = -1\n",
    "vmax = 1\n",
    "eps = 0.001\n",
    "cmap = plt.cm.seismic\n",
    "shifted = False\n",
    "\n",
    "corr_adj_plot = plot_correlations(corr_matrix_adj, vmin, vmax, eps, cmap, shifted)\n",
    "plt.title('Adjusted Correlation Map')"
   ]
  },
  {
   "cell_type": "markdown",
   "metadata": {},
   "source": [
    ">>c. Annual Returns Distance"
   ]
  },
  {
   "cell_type": "code",
   "execution_count": 17,
   "metadata": {},
   "outputs": [],
   "source": [
    "def calculate_returns_distance(df, normalize=False):\n",
    "    \"\"\"\n",
    "    Calculates Euclidean distance between annual returns for all pairs of assets in df.\n",
    "    The formula is similar to Eq. 6 in Rian Dolphin's paper, except the returns are daily.\n",
    "    df: dataframe of daily returns for the historical period (rows and tickers (columns)\n",
    "    normalize: scale all distances to be between 0 and 1\n",
    "    \"\"\"\n",
    "    \n",
    "    tickers = df.columns\n",
    "    n = len(df)\n",
    "    ret_dist = pd.DataFrame(columns=tickers, index=tickers)\n",
    "    \n",
    "    for i, tk in enumerate(tickers):\n",
    "\n",
    "        returns_tk = df[tk]\n",
    "        ann_return_tk = np.prod(1 + returns_tk) ** (252 / n)\n",
    "        ret_dist.loc[tk, tk] = 0\n",
    "\n",
    "        for tk2 in tickers[i + 1:]:\n",
    "            returns_tk2 = df[tk2]\n",
    "            ann_return_tk2 = np.prod(1 + returns_tk2) ** (252 / n)\n",
    "            dist_tk_tk2 = np.abs(ann_return_tk - ann_return_tk2)\n",
    "            ret_dist.loc[tk, tk2] = dist_tk_tk2\n",
    "            ret_dist.loc[tk2, tk] = dist_tk_tk2\n",
    "\n",
    "    max_distance = np.max(ret_dist) if normalize else 1\n",
    "\n",
    "    ret_dist = ret_dist.astype(float) / max_distance\n",
    "\n",
    "    return ret_dist\n",
    "\n",
    "\n",
    "def upper_limit(x):\n",
    "    \"\"\"\n",
    "    Returns the upper/lower limit for an axis where x is the maximum/minimum value.\n",
    "    units: increments of values at axis ticks, will be scaled to correspond with the\n",
    "        order of magntitude of x\n",
    "    intervals: how many intervals of units between 0 and upper limit do we want to have\n",
    "    \"\"\"\n",
    "\n",
    "    if x == 0:\n",
    "        return 0\n",
    "    \n",
    "    else:\n",
    "        units = np.array([0.1, 0.2, 0.25, 0.5])\n",
    "        intervals = np.array([4, 5, 6, 7, 8])\n",
    "\n",
    "        order = 10 ** round(math.log10(abs(x)))\n",
    "        units_scaled = order * units\n",
    "        candidates = np.outer(intervals, units_scaled)\n",
    "        winner = np.min(candidates[candidates - abs(x) >= 0])\n",
    "\n",
    "        return np.sign(x) * winner"
   ]
  },
  {
   "cell_type": "code",
   "execution_count": 18,
   "metadata": {},
   "outputs": [
    {
     "name": "stdout",
     "output_type": "stream",
     "text": [
      "0.20264322375159693 0.25\n"
     ]
    },
    {
     "data": {
      "text/plain": [
       "Text(0.5, 1.0, 'Returns Distance Map')"
      ]
     },
     "execution_count": 18,
     "metadata": {},
     "output_type": "execute_result"
    },
    {
     "data": {
      "image/png": "[encoded data removed]",
      "text/plain": [
       "<Figure size 1000x800 with 2 Axes>"
      ]
     },
     "metadata": {},
     "output_type": "display_data"
    }
   ],
   "source": [
    "ret_dist_matrix = pd.DataFrame(calculate_returns_distance(log_returns, normalize=False))\n",
    "\n",
    "ret_dist_max = np.max(ret_dist_matrix)\n",
    "\n",
    "fig_ret_dist = plt.figure(figsize=(10,8))  # Set aspect ratio\n",
    "\n",
    "vmin = 0\n",
    "vmax = upper_limit(ret_dist_max)\n",
    "print(ret_dist_max, vmax)\n",
    "eps = 0.001\n",
    "cmap = plt.cm.hot\n",
    "shifted = False\n",
    "\n",
    "ret_dist_plot = plot_correlations(ret_dist_matrix, vmin, vmax, eps, cmap, shifted)\n",
    "plt.title('Returns Distance Map')"
   ]
  },
  {
   "cell_type": "code",
   "execution_count": 19,
   "metadata": {},
   "outputs": [
    {
     "data": {
      "text/plain": [
       "Text(0.5, 1.0, 'Returns Distance Map - Normalized')"
      ]
     },
     "execution_count": 19,
     "metadata": {},
     "output_type": "execute_result"
    },
    {
     "data": {
      "image/png": "[encoded data removed]",
      "text/plain": [
       "<Figure size 1000x800 with 2 Axes>"
      ]
     },
     "metadata": {},
     "output_type": "display_data"
    }
   ],
   "source": [
    "ret_dist_norm_matrix = pd.DataFrame(calculate_returns_distance(log_returns, normalize=True))\n",
    "\n",
    "fig_ret_norm_dist = plt.figure(figsize=(10,8))  # Set aspect ratio\n",
    "\n",
    "vmin = 0\n",
    "vmax = 1\n",
    "eps = 0.001\n",
    "cmap = plt.cm.hot\n",
    "shifted = False\n",
    "\n",
    "ret_dist_norm_plot = plot_correlations(ret_dist_norm_matrix, vmin, vmax, eps, cmap, shifted)\n",
    "plt.title('Returns Distance Map - Normalized')"
   ]
  },
  {
   "cell_type": "markdown",
   "metadata": {},
   "source": [
    "9. Download Risk Free Rates"
   ]
  },
  {
   "cell_type": "markdown",
   "metadata": {},
   "source": [
    ">> Should offer the user the choices of:\n",
    ">>>- risk-free instrument (note that the rate must be annualised);\n",
    ">>>- mean of historical period, initial value of historical period;\n",
    ">>>- custom date or as-of-today;\n",
    ">>>- lower of the two means or lower of the two daily values;\n",
    ">>>- custom value.\n",
    "\n",
    "The annual risk-free rate from the beginning of the historical period (start of investment) was used e.g. by NEDL in https://www.youtube.com/watch?v=zvChPqsKZjc"
   ]
  },
  {
   "cell_type": "code",
   "execution_count": 16,
   "metadata": {},
   "outputs": [
    {
     "name": "stderr",
     "output_type": "stream",
     "text": [
      "[*********************100%%**********************]  1 of 1 completed\n",
      "[*********************100%%**********************]  1 of 1 completed"
     ]
    },
    {
     "name": "stdout",
     "output_type": "stream",
     "text": [
      "Risk-Free Rate Instrument:\t10-Year US Treasury Note\n",
      "Mean of Period:\t\t\t4.274925\n",
      "At End Date:\t\t\t4.593000\n"
     ]
    },
    {
     "name": "stderr",
     "output_type": "stream",
     "text": [
      "\n"
     ]
    }
   ],
   "source": [
    "# NOTE: We assume that the risk-free rate is constant here but in reality it is a historical variable.\n",
    "# This means that, in the calculation of Sharpe/Sortino ratio from historical returns, we should \n",
    "# use the mean of portfolio log returns minus the mean risk-free rate.\n",
    "\n",
    "# The historical risk-free returns could be constructed in three possible ways:\n",
    "#   1) based on 13-week (3-month) US Treasury Bill daily rates throughout the historical period; or\n",
    "#   2) based on 10-year US Treasury Note daily rates throughout the historical period; or\n",
    "#   3) based on the lower of the above two at each day throughout the historical period.\n",
    "# The last option may not make too much sense, though, considering it would potentially require \n",
    "# daily adjustments to sell one type of instrument and buy the other.\n",
    "#\n",
    "# NOTE: The 10-yr US Treasury Note is lately offering lower rates than the 13-wk US Treasury Bill\n",
    "# because of the yield curve inversion. However, it hasn't always been the case, so we should\n",
    "# consider both candidates and choose the one that offers lower mean rate of the historical period.\n",
    "\n",
    "df_risk_free_rate = pd.DataFrame()\n",
    "dict_mean_risk_free_rate = {}\n",
    "for tk, tk_desc in  risk_free_treasury_tickers.items():\n",
    "    df_risk_free_rate[tk_desc] = yf.download(tk, start=start_date, end=end_date)['Adj Close']\n",
    "    dict_mean_risk_free_rate.update({tk_desc: np.mean(df_risk_free_rate[tk_desc])})\n",
    "\n",
    "# Get the mean risk-free rate over the historical period\n",
    "risk_free_rate = 100\n",
    "risk_free_instrument = df_risk_free_rate.columns[0]\n",
    "for tk_desc, rate in dict_mean_risk_free_rate.items():\n",
    "    if rate < risk_free_rate:\n",
    "        risk_free_rate = rate\n",
    "        risk_free_instrument = tk_desc\n",
    "\n",
    "# Get the last element as the current risk-free rate\n",
    "end_risk_free_rate = df_risk_free_rate[tk_desc].iloc[-1]\n",
    "\n",
    "# Take the risk free rate as the lower of the above two\n",
    "print(f'Risk-Free Rate Instrument:\\t{risk_free_instrument}\\nMean of Period:\\t\\t\\t{risk_free_rate:.6f}\\nAt End Date:\\t\\t\\t{end_risk_free_rate:.6f}')\n",
    "\n",
    "risk_free_rate = risk_free_rate / 100\n",
    "end_risk_free_rate = end_risk_free_rate / 100"
   ]
  },
  {
   "cell_type": "markdown",
   "metadata": {},
   "source": [
    "NOTE: Introduce the utility function U = mean return - theta * variance / 2 for a normal distribution, where theta is the investor-specific risk aversion factor. For other distributions the formula for U includes skewness and kurtosis. Investors tend to prefer positive skewness and lower kurtosis (leaner tails).\n",
    "\n",
    ">>The portfolio weights could be optimised to maximise the utility function, see e.g. https://www.youtube.com/watch?v=skmYLg7vk3g\n",
    "\n",
    ">>The user could be offered a selection of theta. A conservative value of theta is typically 5, more risky at around 3.5, and a really adventurous one at around 2 or less."
   ]
  },
  {
   "cell_type": "markdown",
   "metadata": {},
   "source": [
    "10. Define Portfolio Performance Metrics"
   ]
  },
  {
   "cell_type": "markdown",
   "metadata": {},
   "source": [
    ">> a. Standard Deviation"
   ]
  },
  {
   "cell_type": "code",
   "execution_count": 21,
   "metadata": {},
   "outputs": [],
   "source": [
    "def standard_deviation_tk(returns_tk):\n",
    "    # returns_tk = log_returns[tk]\n",
    "    variance = returns_tk.var(ddof=0) * 252\n",
    "    return np.sqrt(variance)\n",
    "\n",
    "def standard_deviation_portfolio(weights, cov_matrix):\n",
    "    variance = weights.T @ cov_matrix @ weights\n",
    "    return np.sqrt(variance)"
   ]
  },
  {
   "cell_type": "markdown",
   "metadata": {},
   "source": [
    ">> b. Expected Return\n",
    "\n",
    ">> NOTE: Rename to average annual growth rate (AAGR) or average annual return (AAR)"
   ]
  },
  {
   "cell_type": "code",
   "execution_count": 22,
   "metadata": {},
   "outputs": [],
   "source": [
    "# Assume: Expected returns are based on annualized historical returns\n",
    "# NOTE: Correct below to rename the functions as average annual growth rate (AAGR) or average annual return (AAR)\n",
    "\n",
    "def expected_return_tk(returns_tk):\n",
    "    # returns_tk = log_returns[tk]\n",
    "    return np.sum(returns_tk.mean()) * 252\n",
    "\n",
    "def expected_return_portfolio(weights, log_returns):\n",
    "    return np.sum(log_returns.mean() * weights) * 252\n"
   ]
  },
  {
   "cell_type": "markdown",
   "metadata": {},
   "source": [
    ">> c. Sharpe Ratio and Sortino Ratio"
   ]
  },
  {
   "cell_type": "markdown",
   "metadata": {},
   "source": [
    ">> NOTE: Correct below, to offer a choice of CAGR (default) or AAGR as the expected return."
   ]
  },
  {
   "cell_type": "code",
   "execution_count": 23,
   "metadata": {},
   "outputs": [],
   "source": [
    "# Sharpe Ratio measures portfolio's excess return relative to its total risk,\n",
    "# expressed through the portfolio's standard deviation of returns.\n",
    "# In general, excess return is understood as the difference between the portfolio\n",
    "# return and a target return. The latter can be the risk-free rate, benchmark return,\n",
    "# or another arbitrarily specified rate of return.\n",
    "#\n",
    "# Total risk = systematic risk + unsystematic risk\n",
    "#\n",
    "# Systematic risk (a.k.a. market risk or undiversifiable risk) is inherent to the market\n",
    "# and cannot by diversified away.\n",
    "#\n",
    "# Unsystematic risk (a.k.a. company-specific, diversifiable, or specific risk)\n",
    "# is the type of risk that can be eliminated by portfolio diversification.\n",
    "#\n",
    "# The function sharpe_ratio(), as defined below, can also be used to calculate the Sortino \n",
    "# Ratio for a portfolio by using cov_matrix_downturns. --- NOTE: Not sure about this...\n",
    "# The standard deviation in the Sortino Ratio is based on downturn (negative) returns only.\n",
    "\n",
    "def sharpe_ratio_tk(returns_tk, risk_free_rate):\n",
    "    # returns_tk = log_returns[tk]\n",
    "    excess_return = expected_return_tk(returns_tk) - risk_free_rate\n",
    "    risk_measure = standard_deviation_tk(returns_tk)\n",
    "    return excess_return / risk_measure\n",
    "\n",
    "def sharpe_ratio_portfolio(weights, log_returns, cov_matrix, risk_free_rate):\n",
    "    excess_return = expected_return_portfolio(weights, log_returns) - risk_free_rate\n",
    "    risk_measure = standard_deviation_portfolio(weights, cov_matrix)\n",
    "    return excess_return / risk_measure\n",
    "\n",
    "# Function to minimize using the scipy library (could also be an inverse of Sharpe ratio)\n",
    "def neg_sharpe_ratio_portfolio(weights, log_returns, cov_matrix, risk_free_rate):\n",
    "    return -sharpe_ratio_portfolio(weights, log_returns, cov_matrix, risk_free_rate)\n",
    "\n",
    "# Sortino ratio\n",
    "# NOTE: The zeros in log_returns_downturns are excluded from the calculation of standard\n",
    "# deviation of downturns.\n",
    "def sortino_ratio_tk(returns_tk, returns_downturns_tk, risk_free_rate):\n",
    "    returns_down_tk = returns_downturns_tk[returns_downturns_tk < 0]\n",
    "    excess_return = expected_return_tk(returns_tk) - risk_free_rate\n",
    "    risk_measure = standard_deviation_tk(returns_down_tk)\n",
    "    return excess_return / risk_measure"
   ]
  },
  {
   "cell_type": "markdown",
   "metadata": {},
   "source": [
    ">>d. Probabilistic Sharpe Ratio"
   ]
  },
  {
   "cell_type": "code",
   "execution_count": 24,
   "metadata": {},
   "outputs": [],
   "source": [
    "# https://quantdare.com/probabilistic-sharpe-ratio/\n",
    "\n",
    "def prob_sharpe_ratio_tk(sharpe_ratio_tk, sharpe_ratio_threshold, n, skew_tk, kurt_tk):\n",
    "    # sharpe_ratio_threshold: minimum acceptable Sharpe Ratio, e.g. benchmark's\n",
    "    # NOTE kurt_tk is Pearson's kurtosis for ticker tk, as opposed to Fisher's excess kurtosis\n",
    "    numerator = (sharpe_ratio_tk - sharpe_ratio_threshold) * np.sqrt(n - 1)\n",
    "    denominator = np.sqrt(1 - skew_tk * sharpe_ratio_tk + 0.25 * (kurt_tk - 1) * sharpe_ratio_tk ** 2)\n",
    "    return numerator / denominator\n",
    "    "
   ]
  },
  {
   "cell_type": "markdown",
   "metadata": {},
   "source": [
    ">>e. Treynor Ratio"
   ]
  },
  {
   "cell_type": "code",
   "execution_count": 25,
   "metadata": {},
   "outputs": [],
   "source": [
    "# Similar to Sharpe Ratio, except it measures portfolio's excess return relative to its systematic risk,\n",
    "# as expressed through portfolio's beta.\n",
    "#\n",
    "# This link may help explain when to use each of the two ratios\n",
    "# https://fastercapital.com/content/Sharpe-ratio--Sharpe-Ratio-vs--Treynor-Ratio--Unraveling-the-Differences.html\n",
    "# \n",
    "# The accuracy of the Treynor ratio is highly dependent on the use of appropriate benchmarks to measure beta.\n",
    "\n",
    "def beta_portfolio(weights, df_betas):\n",
    "    return (weights @ df_betas).values[0]\n",
    "\n",
    "# Treynor ratio equals effective return divided by assets's beta\n",
    "def treynor_ratio_tk (returns_tk, beta_tk, risk_free_rate):\n",
    "    # returns_tk = log_returns[tk]\n",
    "    # beta_tk = betas[tk] (dictionary value)\n",
    "    excess_return = expected_return_tk(returns_tk) - risk_free_rate\n",
    "    return excess_return / beta_tk\n",
    "\n",
    "def treynor_ratio_portfolio (weights, log_returns, df_betas, risk_free_rate):\n",
    "    excess_return = expected_return_portfolio(weights, log_returns) - risk_free_rate\n",
    "    beta = beta_portfolio(weights, df_betas)  # slope of log_returns vs. market log_returns\n",
    "    return excess_return / beta\n",
    "\n",
    "def neg_treynor_ratio_portfolio(weights, log_returns, df_betas, risk_free_rate):\n",
    "    return -treynor_ratio_portfolio(weights, log_returns, df_betas, risk_free_rate)\n"
   ]
  },
  {
   "cell_type": "markdown",
   "metadata": {},
   "source": [
    ">>f. Jensen's Alpha"
   ]
  },
  {
   "cell_type": "code",
   "execution_count": 26,
   "metadata": {},
   "outputs": [],
   "source": [
    "def jensens_alpha_tk(returns_tk, returns_market, beta_tk, risk_free_rate):\n",
    "    # returns_tk = log_returns[tk]\n",
    "    # returns_market = log_returns_market[tk_market]\n",
    "    # beta_tk = betas[tk] (dictionary value)\n",
    "    excess_return = expected_return_tk(returns_tk) - risk_free_rate\n",
    "    excess_return_market = expected_return_tk(returns_market) - risk_free_rate\n",
    "    return excess_return + beta_tk * excess_return_market\n",
    "    \n",
    "def jensens_alpha_portfolio(weights, log_returns, log_returns_market, df_betas, risk_free_rate):\n",
    "    excess_return = expected_return_portfolio(weights, log_returns) - risk_free_rate\n",
    "    excess_return_market = log_returns_market.mean() * 252 - risk_free_rate\n",
    "    beta = beta_portfolio(weights, df_betas)\n",
    "    return (excess_return + beta * excess_return_market).values[0]\n",
    "\n",
    "def neg_jensens_alpha_portfolio(weights, log_returns, log_returns_market, df_betas, risk_free_rate):\n",
    "    return -jensens_alpha_portfolio(weights, log_returns, log_returns_market, df_betas, risk_free_rate)\n"
   ]
  },
  {
   "cell_type": "code",
   "execution_count": 27,
   "metadata": {},
   "outputs": [
    {
     "name": "stdout",
     "output_type": "stream",
     "text": [
      "Benchmark: ^GSPC\n",
      "     Sharpe Ratio Prob Sharpe Ratio Sortino Ratio Treynor Ratio Jensen`s Alpha\n",
      "AAPL     0.423984          8.312085       0.48445      0.166666       0.197206\n",
      "CSCO    -0.134413        -11.815268     -0.173631     -0.040914      -0.040215\n",
      "MSFT     0.068079          0.952971      0.089709      0.020062       0.032246\n",
      "MMM      0.406262          20.04761      0.553149      0.114712       0.101331\n",
      "IBM      0.097946          2.850716      0.129413      0.029465       0.034764\n",
      "VZ       0.118142          4.170882      0.163994      0.039857       0.037225\n",
      "INTC    -0.073567         -8.349761     -0.094635     -0.021915      -0.014625\n"
     ]
    }
   ],
   "source": [
    "cols_ratios = [\n",
    "    'Sharpe Ratio',\n",
    "    'Prob Sharpe Ratio',\n",
    "    'Sortino Ratio',\n",
    "    'Treynor Ratio',\n",
    "    'Jensen`s Alpha'\n",
    "]\n",
    "df_ratios = pd.DataFrame(columns=cols_ratios, index=tickers)\n",
    "\n",
    "n_returns = len(log_returns)\n",
    "returns_market = log_returns_market[tk_market]\n",
    "\n",
    "# Threshold Sharpe Ratio for PSR calculation will be based on user's input, defaulting to benchmark's SR\n",
    "sharpe_ratio_threshold = sharpe_ratio_tk(returns_market, risk_free_rate)\n",
    "\n",
    "for tk in tickers:\n",
    "    returns_tk = log_returns[tk]\n",
    "    beta_tk = betas[tk]\n",
    "    returns_down_tk = log_returns_downturns.loc[log_returns_downturns[tk] < 0, tk]  # sanity check, zeros are excluded in the function\n",
    "    skew_tk = log_returns_stats.loc['Skewness', tk]\n",
    "    kurt_tk = log_returns_stats.loc['Excess Kurtosis', tk] + 3  # PSR formula uses Pearson's kurtosis\n",
    "    sharpe_ratio = sharpe_ratio_tk(returns_tk, risk_free_rate)\n",
    "    df_ratios.loc[tk, 'Sharpe Ratio'] = sharpe_ratio\n",
    "    df_ratios.loc[tk, 'Prob Sharpe Ratio'] = prob_sharpe_ratio_tk(sharpe_ratio, sharpe_ratio_threshold, n_returns, skew_tk, kurt_tk)\n",
    "    df_ratios.loc[tk, 'Sortino Ratio'] = sortino_ratio_tk(returns_tk, returns_down_tk, risk_free_rate)\n",
    "    df_ratios.loc[tk, 'Treynor Ratio'] = treynor_ratio_tk(returns_tk, beta_tk, risk_free_rate)\n",
    "    df_ratios.loc[tk, 'Jensen`s Alpha'] = jensens_alpha_tk(returns_tk, returns_market, beta_tk, risk_free_rate)\n",
    "    \n",
    "print(f'Benchmark: {tk_market}')\n",
    "print(df_ratios)"
   ]
  },
  {
   "cell_type": "markdown",
   "metadata": {},
   "source": [
    ">>g. Information Ratio"
   ]
  },
  {
   "cell_type": "code",
   "execution_count": 28,
   "metadata": {},
   "outputs": [
    {
     "name": "stdout",
     "output_type": "stream",
     "text": [
      "Benchmark: ^GSPC\n",
      "     Annual Return Tracking Error Information Ratio Expected Return\n",
      "AAPL      0.090071       0.379629          0.237259        0.201177\n",
      "CSCO     -0.112573       0.313456         -0.359134       -0.038423\n",
      "MSFT     -0.011701       0.232052         -0.050424        0.036818\n",
      "MMM       0.085824       0.168264          0.510057        0.108485\n",
      "IBM       0.006923       0.199808          0.034649        0.041279\n",
      "VZ        0.014071       0.209132          0.067283        0.045111\n",
      "INTC     -0.082235       0.291338         -0.282268       -0.012387\n"
     ]
    }
   ],
   "source": [
    "x = np.log(df_adj_close / df_adj_close.shift(1))\n",
    "log_returns = pd.DataFrame(x, columns=tickers, index=df_adj_close.index).dropna()\n",
    "# The above lines are repeated in this cell for convenience\n",
    "\n",
    "# NOTE: Annual Return is also referred to as Compound Annual Growth Rate (CAGR)\n",
    "\n",
    "def annual_return(returns_tk, n):\n",
    "    # returns_tk = log_returns[tk]\n",
    "    # n = len(returns_tk)\n",
    "    return np.prod(1 + returns_tk) ** (252 / n) - 1\n",
    "\n",
    "def tracking_error(returns_tk, returns_market, ddof=0):\n",
    "    # returns_tk = log_returns[tk]\n",
    "    # returns_market = log_returns_market[tk_market]\n",
    "    # ddof is delta degrees of freedom, = 0 for a population, = 1 for a sample\n",
    "    return np.sqrt((returns_tk - returns_market).var(ddof) * 252)\n",
    "\n",
    "def information_ratio(returns_tk, returns_market, n, ddof=0):\n",
    "    # returns_tk = log_returns[tk]\n",
    "    # returns_market = log_returns_market[tk_market]\n",
    "    # ddof is delta degrees of freedom, = 0 for a population, = 1 for a sample)\n",
    "    annual_return_tk = annual_return(returns_tk, n)\n",
    "    tracking_error_tk = tracking_error(returns_tk, returns_market, ddof=0)\n",
    "    return annual_return_tk / tracking_error_tk if tracking_error_tk != 0 else 0\n",
    "\n",
    "\n",
    "cols_information_ratio = [\n",
    "    'Annual Return',  # this is the compound annual growth rate (CAGR)\n",
    "    'Tracking Error',\n",
    "    'Information Ratio',\n",
    "    'Expected Return'  # this is the average annual growth rate (AAGR)\n",
    "]\n",
    "df_information_ratio = pd.DataFrame(columns=cols_information_ratio, index=tickers)\n",
    "\n",
    "n_returns = len(log_returns)\n",
    "returns_market = log_returns_market[tk_market]\n",
    "\n",
    "for tk in tickers:\n",
    "    \n",
    "    returns_tk = log_returns[tk]\n",
    "    df_information_ratio.loc[tk, 'Annual Return'] = annual_return(returns_tk, n_returns)\n",
    "    df_information_ratio.loc[tk, 'Tracking Error'] = tracking_error(returns_tk, returns_market, ddof=0)\n",
    "    df_information_ratio.loc[tk, 'Information Ratio'] = information_ratio(returns_tk, returns_market, n_returns, ddof=0)\n",
    "    df_information_ratio.loc[tk, 'Expected Return'] = expected_return_tk(returns_tk)\n",
    "\n",
    "print(f'Benchmark: {tk_market}')\n",
    "print(df_information_ratio)\n"
   ]
  },
  {
   "cell_type": "markdown",
   "metadata": {},
   "source": [
    ">>h. Omega Ratio"
   ]
  },
  {
   "cell_type": "code",
   "execution_count": 29,
   "metadata": {},
   "outputs": [
    {
     "name": "stdout",
     "output_type": "stream",
     "text": [
      "     Omega Ratio\n",
      "AAPL    1.100331\n",
      "CSCO    0.958032\n",
      "MSFT    1.009229\n",
      "MMM     1.100126\n",
      "IBM     1.015218\n",
      "VZ       1.01675\n",
      "INTC     0.97449\n"
     ]
    }
   ],
   "source": [
    "# Assume target return is market return\n",
    "# Omega = [sum(Rp - Rm) where Rp > Rm] / [sum(Rm - Rp) where Rp < Rm]\n",
    "# This metric is effectively assessing the likelihood of profiting versus losing.\n",
    "\n",
    "def omega_ratio_tk(returns_tk, returns_market):\n",
    "    # returns_tk = log_returns[tk]\n",
    "    # returns_market = log_returns_market[tk_market]\n",
    "    excess_return = returns_tk - returns_market\n",
    "    profit = np.sum(np.where(excess_return > 0, excess_return, 0))\n",
    "    loss = np.sum(np.where(excess_return < 0, -excess_return, 0))\n",
    "    return profit / loss if loss != 0 else 1\n",
    "\n",
    "df_omega = pd.DataFrame(columns=['Omega Ratio'], index=tickers)\n",
    "\n",
    "returns_market = log_returns_market[tk_market]\n",
    "\n",
    "for tk in tickers:\n",
    "    returns_tk = log_returns[tk]\n",
    "    df_omega.loc[tk, 'Omega Ratio'] = omega_ratio_tk(returns_tk, returns_market)\n",
    "\n",
    "print(df_omega)"
   ]
  },
  {
   "cell_type": "markdown",
   "metadata": {},
   "source": [
    ">>i. Up and Down Market Capture Ratios"
   ]
  },
  {
   "cell_type": "code",
   "execution_count": 30,
   "metadata": {},
   "outputs": [
    {
     "name": "stdout",
     "output_type": "stream",
     "text": [
      "     Up Capture Ratio Down Capture Ratio\n",
      "AAPL         1.259205           1.096521\n",
      "CSCO          1.30863           1.380771\n",
      "MSFT         1.052737           1.044044\n",
      "MMM          0.863506           0.779593\n",
      "IBM          0.886069           0.868331\n",
      "VZ           0.710215           0.684392\n",
      "INTC         1.328078           1.373164\n"
     ]
    }
   ],
   "source": [
    "# Up Market Capture Ratio\n",
    "# up_capture = sum(Rp) / sum(Rm) where Rm > 0\n",
    "# Down Market Capture Ratio\n",
    "# down_capture = sum(Rp) / sum(Rm) where Rm < 0\n",
    "\n",
    "def up_capture_ratio(returns_tk, returns_market):\n",
    "    up_tk_return = np.sum(np.where(returns_market > 0, returns_tk, 0))\n",
    "    up_market_return = np.sum(np.where(returns_market > 0, returns_market, 0))\n",
    "    return up_tk_return / up_market_return\n",
    "\n",
    "def down_capture_ratio(returns_tk, returns_market):\n",
    "    down_tk_return = np.sum(np.where(returns_market < 0, returns_tk, 0))\n",
    "    down_market_return = np.sum(np.where(returns_market < 0, returns_market, 0))\n",
    "    return down_tk_return / down_market_return\n",
    "\n",
    "cols_capture_ratio = ['Up Capture Ratio', 'Down Capture Ratio']\n",
    "df_capture_ratios = pd.DataFrame(columns=cols_capture_ratio, index=tickers)\n",
    "\n",
    "returns_market = log_returns_market[tk_market]\n",
    "\n",
    "for tk in tickers:\n",
    "    returns_tk = log_returns[tk]\n",
    "    df_capture_ratios.loc[tk, 'Up Capture Ratio'] = up_capture_ratio(returns_tk, returns_market)\n",
    "    df_capture_ratios.loc[tk, 'Down Capture Ratio'] = down_capture_ratio(returns_tk, returns_market)\n",
    "\n",
    "print(df_capture_ratios)"
   ]
  },
  {
   "cell_type": "markdown",
   "metadata": {},
   "source": [
    ">>j. Amihud Illiquidity Measure"
   ]
  },
  {
   "cell_type": "code",
   "execution_count": 31,
   "metadata": {},
   "outputs": [],
   "source": [
    "# Amihud Liquidity Measure\n",
    "# amihud_measure = 1 / mean(Rp / DVol) over the given period,\n",
    "# where Rp is portfolio return and DVol is Dollar Volume (Volume x Price).\n",
    "#\n",
    "# For most major tickers, the Amihud Liquidity Measure will be a huge number,\n",
    "# meaning that these assets are very liquid on the market. However, the measure\n",
    "# might still prove useful in assessing the liquidity of less-known assets."
   ]
  },
  {
   "cell_type": "code",
   "execution_count": 32,
   "metadata": {},
   "outputs": [
    {
     "name": "stdout",
     "output_type": "stream",
     "text": [
      "     Amihud Liquidity (Bln)\n",
      "AAPL              15.506295\n",
      "CSCO               45.63878\n",
      "MSFT             102.474839\n",
      "MMM               16.525008\n",
      "IBM               39.807544\n",
      "VZ                13.475907\n",
      "INTC              47.748934\n"
     ]
    }
   ],
   "source": [
    "# Calculate Amihud Liquidity Measure in billions, the greater the more liquidity\n",
    "\n",
    "def amihud_tk(returns_tk, dollar_volume_tk):\n",
    "    return 1e-9 / np.mean(np.abs(returns_tk) / dollar_volume_tk)\n",
    "\n",
    "col_amihud = 'Amihud Liquidity (Bln)'\n",
    "df_amihud = pd.DataFrame(columns=[col_amihud], index=tickers)\n",
    "\n",
    "for tk in tickers:\n",
    "    returns_tk = log_returns[tk]\n",
    "    dollar_volume_tk = df_dollar_volume[tk]\n",
    "    df_amihud.loc[tk, col_amihud] = amihud_tk(returns_tk, dollar_volume_tk)\n",
    "\n",
    "print(df_amihud)\n"
   ]
  },
  {
   "cell_type": "code",
   "execution_count": 33,
   "metadata": {},
   "outputs": [],
   "source": [
    "n = len(tickers)\n",
    "constraints = {\n",
    "    'type': 'eq',\n",
    "    'fun': lambda weights: np.sum(weights) - 1\n",
    "}\n",
    "# bounds = [(0, 0.4) for _ in range(n)]\n",
    "bounds = [(0, 0.9) for _ in range(n)]\n",
    "initial_weights = np.array([1 / n] * n)"
   ]
  },
  {
   "cell_type": "code",
   "execution_count": 34,
   "metadata": {},
   "outputs": [],
   "source": [
    "import warnings\n",
    "warnings.filterwarnings(\"ignore\", message=\"delta_grad == 0.0. Check if the approximated function is linear.\")"
   ]
  },
  {
   "cell_type": "markdown",
   "metadata": {},
   "source": [
    ">>11. Optimal Sharpe Ratio"
   ]
  },
  {
   "cell_type": "code",
   "execution_count": 35,
   "metadata": {},
   "outputs": [
    {
     "name": "stdout",
     "output_type": "stream",
     "text": [
      "SLSQP\n",
      "\tAAPL:\t0.361740\n",
      "\tMMM:\t0.638260\n",
      "\tRisk Free Rate:\t\t0.015634\n",
      "\tOptimal Sharpe Return:\t0.142015\n",
      "\tOptimal Sharpe Risk:\t0.245145\n",
      "\tOptimal Sharpe Ratio:\t0.515539\n"
     ]
    }
   ],
   "source": [
    "# method = 'SLSQP'\n",
    "# methods = ['Nelder-Mead', 'Powell', 'CG', 'BFGS', 'Newton-CG', 'L-BFGS-B', 'COBYLA', 'COBYQA', 'SLSQP', 'trust-constr', 'dogleg', 'trust-ncg', 'trust-exact', 'trust-krylov']\n",
    "# methods = ['Nelder-Mead', 'Powell', 'CG', 'L-BFGS-B', 'SLSQP', 'trust-constr']\n",
    "# methods = ['trust-constr', 'SLSQP']\n",
    "methods = ['SLSQP']\n",
    "for method in methods:\n",
    "    optimized_results_sharpe = minimize(\n",
    "        neg_sharpe_ratio_portfolio,\n",
    "        initial_weights,\n",
    "        args=(log_returns, cov_matrix, risk_free_rate),\n",
    "        method=method,\n",
    "        constraints=constraints,\n",
    "        bounds=bounds\n",
    "    )\n",
    "    optimal_weights_sharpe = optimized_results_sharpe.x\n",
    "    print(method)\n",
    "    for tk, wt in zip(tickers, optimal_weights_sharpe):\n",
    "        total_log_return = log_returns[tk].sum()\n",
    "        # if total_log_return > 0:\n",
    "        if wt > 1e-6:\n",
    "            # print(f'\\t{tk}:\\t{total_log_return:.6f}\\t{wt:.6f}')\n",
    "            print(f'\\t{tk}:\\t{wt:.6f}')\n",
    "    \n",
    "    optimal_sharpe_return = expected_return_portfolio(optimal_weights_sharpe, log_returns)\n",
    "    optimal_sharpe_risk = standard_deviation_portfolio(optimal_weights_sharpe, cov_matrix)\n",
    "    optimal_sharpe_ratio = sharpe_ratio_portfolio(optimal_weights_sharpe, log_returns, cov_matrix, risk_free_rate)\n",
    "    \n",
    "    print(f'\\tRisk Free Rate:\\t\\t{risk_free_rate:.6f}')\n",
    "    print(f'\\tOptimal Sharpe Return:\\t{optimal_sharpe_return:.6f}')\n",
    "    print(f'\\tOptimal Sharpe Risk:\\t{optimal_sharpe_risk:.6f}')\n",
    "    print(f'\\tOptimal Sharpe Ratio:\\t{optimal_sharpe_ratio:.6f}')\n",
    "    "
   ]
  },
  {
   "cell_type": "markdown",
   "metadata": {},
   "source": [
    ">>12. Optimal Sortino Ratio"
   ]
  },
  {
   "cell_type": "code",
   "execution_count": 36,
   "metadata": {},
   "outputs": [
    {
     "name": "stdout",
     "output_type": "stream",
     "text": [
      "SLSQP\n",
      "\tAAPL:\t0.294246\n",
      "\tMMM:\t0.705754\n",
      "\tRisk Free Rate:\t\t0.015634\n",
      "\tOptimal Sortino Return:\t0.135759\n",
      "\tOptimal Sortino Risk:\t0.147390\n",
      "\tOptimal Sortino Ratio:\t0.815021\n"
     ]
    }
   ],
   "source": [
    "for method in methods:\n",
    "    optimized_results_sortino = minimize(\n",
    "        neg_sharpe_ratio_portfolio,\n",
    "        initial_weights,\n",
    "        args = (log_returns, cov_matrix_downturns, risk_free_rate),\n",
    "        method = method,\n",
    "        constraints = constraints,\n",
    "        bounds = bounds\n",
    "    )\n",
    "    optimal_weights_sortino = optimized_results_sortino.x\n",
    "    print(method)\n",
    "    for tk, wt in zip(tickers, optimal_weights_sortino):\n",
    "        total_log_return = log_returns[tk].sum()\n",
    "        # if total_log_return > 0:\n",
    "        if wt > 1e-6:\n",
    "            # print(f'\\t{tk}:\\t{total_log_return:.6f}\\t{wt:.6f}')\n",
    "            print(f'\\t{tk}:\\t{wt:.6f}')\n",
    "    \n",
    "    optimal_sortino_return = expected_return_portfolio(optimal_weights_sortino, log_returns)\n",
    "    # NOTE: Not sure about portfolio Sortino Ratio, as the covariance matrix includes zero returns\n",
    "    optimal_sortino_risk = standard_deviation_portfolio(optimal_weights_sortino, cov_matrix_downturns)\n",
    "    optimal_sortino_ratio = sharpe_ratio_portfolio(optimal_weights_sortino, log_returns, cov_matrix_downturns, risk_free_rate)\n",
    "    \n",
    "    print(f'\\tRisk Free Rate:\\t\\t{risk_free_rate:.6f}')\n",
    "    print(f'\\tOptimal Sortino Return:\\t{optimal_sortino_return:.6f}')\n",
    "    print(f'\\tOptimal Sortino Risk:\\t{optimal_sortino_risk:.6f}')\n",
    "    print(f'\\tOptimal Sortino Ratio:\\t{optimal_sortino_ratio:.6f}')"
   ]
  },
  {
   "cell_type": "markdown",
   "metadata": {},
   "source": [
    ">>13. Optimal Treynor Ratio"
   ]
  },
  {
   "cell_type": "code",
   "execution_count": 37,
   "metadata": {},
   "outputs": [
    {
     "name": "stdout",
     "output_type": "stream",
     "text": [
      "SLSQP\n",
      "\tAAPL:\t0.900000\n",
      "\tMMM:\t0.100000\n",
      "\tRisk Free Rate:\t\t0.015634\n",
      "\tOptimal Treynor Return:\t0.191908\n",
      "\tOptimal Treynor Risk:\t1.082882\n",
      "\tOptimal Treynor Ratio:\t0.162782\n"
     ]
    }
   ],
   "source": [
    "for method in methods:\n",
    "    optimized_results_treynor = minimize(\n",
    "        neg_treynor_ratio_portfolio,\n",
    "        initial_weights,\n",
    "        args = (log_returns, df_betas, risk_free_rate),\n",
    "        method = method,\n",
    "        constraints = constraints,\n",
    "        bounds = bounds\n",
    "    )\n",
    "    optimal_weights_treynor = optimized_results_treynor.x\n",
    "    print(method)\n",
    "    for tk, wt in zip(tickers, optimal_weights_treynor):\n",
    "        total_log_return = log_returns[tk].sum()\n",
    "        # if total_log_return > 0:\n",
    "        if wt > 1e-6:\n",
    "            # print(f'\\t{tk}:\\t{total_log_return:.6f}\\t{wt:.6f}')\n",
    "            print(f'\\t{tk}:\\t{wt:.6f}')\n",
    "    \n",
    "    optimal_treynor_return = expected_return_portfolio(optimal_weights_treynor, log_returns)\n",
    "    optimal_treynor_risk = beta_portfolio(optimal_weights_treynor, df_betas)\n",
    "    optimal_treynor_ratio = treynor_ratio_portfolio(optimal_weights_treynor, log_returns, df_betas, risk_free_rate)\n",
    "    \n",
    "    print(f'\\tRisk Free Rate:\\t\\t{risk_free_rate:.6f}')\n",
    "    print(f'\\tOptimal Treynor Return:\\t{optimal_treynor_return:.6f}')\n",
    "    print(f'\\tOptimal Treynor Risk:\\t{optimal_treynor_risk:.6f}')\n",
    "    print(f'\\tOptimal Treynor Ratio:\\t{optimal_treynor_ratio:.6f}')"
   ]
  },
  {
   "cell_type": "markdown",
   "metadata": {},
   "source": [
    ">>14. Optimal Jensen's Alpha"
   ]
  },
  {
   "cell_type": "code",
   "execution_count": 38,
   "metadata": {},
   "outputs": [
    {
     "name": "stdout",
     "output_type": "stream",
     "text": [
      "SLSQP\n",
      "\tAAPL:\t0.900000\n",
      "\tMMM:\t0.100000\n",
      "\tRisk Free Rate:\t\t\t0.015634\n",
      "\tOptimal Alpha Return:\t\t0.191908\n",
      "\tOptimal Alpha Portfolio Beta:\t1.082882\n",
      "\tOptimal Jensen's Alpha:\t\t0.187619\n"
     ]
    }
   ],
   "source": [
    "for method in methods:\n",
    "    optimized_results_alpha = minimize(\n",
    "        neg_jensens_alpha_portfolio,\n",
    "        initial_weights,\n",
    "        args = (log_returns, log_returns_market, df_betas, risk_free_rate),\n",
    "        method = method,\n",
    "        constraints = constraints,\n",
    "        bounds = bounds\n",
    "    )\n",
    "    optimal_weights_alpha = optimized_results_alpha.x\n",
    "    print(method)\n",
    "    for tk, wt in zip(tickers, optimal_weights_alpha):\n",
    "        total_log_return = log_returns[tk].sum()\n",
    "        if wt > 1e-6:\n",
    "            print(f'\\t{tk}:\\t{wt:.6f}')\n",
    "    \n",
    "    optimal_alpha_return = expected_return_portfolio(optimal_weights_alpha, log_returns)\n",
    "    optimal_alpha_portfolio_beta = beta_portfolio(optimal_weights_alpha, df_betas)\n",
    "    optimal_jensens_alpha = jensens_alpha_portfolio(optimal_weights_alpha, log_returns, log_returns_market, df_betas, risk_free_rate)\n",
    "    \n",
    "    print(f'\\tRisk Free Rate:\\t\\t\\t{risk_free_rate:.6f}')\n",
    "    print(f'\\tOptimal Alpha Return:\\t\\t{optimal_alpha_return:.6f}')\n",
    "    print(f'\\tOptimal Alpha Portfolio Beta:\\t{optimal_alpha_portfolio_beta:.6f}')\n",
    "    print(f\"\\tOptimal Jensen's Alpha:\\t\\t{optimal_jensens_alpha:.6f}\")"
   ]
  },
  {
   "cell_type": "markdown",
   "metadata": {},
   "source": [
    "NOTES:\n",
    ">1)  Must not standardize returns if they are to be used for Sharpe ratio calculation. Standardized\n",
    ">    returns will have a mean of 0, leading to a zero expected return.\n",
    ">2)  Also must not standardize returns if they are to be used for the calculation of annual returns.\n",
    ">3)  Covariance matrix based on standardized returns is equivalent to correlation matrix.\n",
    ">4)  Covariance based on standardized daily returns need not be multiplied by 252 to be annualized.\n",
    ">5)  Correlation matrix based on standardized returns is the same as the one based on regular returns.\n"
   ]
  },
  {
   "cell_type": "markdown",
   "metadata": {},
   "source": [
    "PCA Analysis"
   ]
  },
  {
   "cell_type": "code",
   "execution_count": 39,
   "metadata": {},
   "outputs": [
    {
     "name": "stdout",
     "output_type": "stream",
     "text": [
      "{0: 'PC_1', 1: 'PC_2', 2: 'PC_3', 3: 'PC_4', 4: 'PC_5', 5: 'PC_6', 6: 'PC_7'}\n",
      "Principal Components (Eigenvectors)\n",
      "[[ 0.33417612  0.41308684  0.40689872  0.34187112  0.39707096  0.31199856\n",
      "   0.42454058]\n",
      " [-0.47192541 -0.21923642 -0.07183774  0.46380021  0.01514775  0.67509766\n",
      "  -0.2301395 ]\n",
      " [-0.77785443  0.3069129   0.34137125 -0.33135571  0.12851914 -0.11005612\n",
      "   0.21397779]\n",
      " [-0.21324619  0.01454966 -0.02926991  0.72986055  0.0594993  -0.64579633\n",
      "   0.0129675 ]\n",
      " [ 0.03250048  0.05735891  0.40275909  0.1498764  -0.87868953  0.0644771\n",
      "   0.18634181]\n",
      " [-0.0797633   0.61979762 -0.70494637  0.05149373 -0.22226271  0.11434432\n",
      "   0.21774389]\n",
      " [ 0.08753745  0.5472187   0.22960277  0.02014756 -0.0234918  -0.02242505\n",
      "  -0.79919383]]\n",
      "Standard Deviation of PC_1: 1.9046113034703078\n",
      "Standard Deviation of PC_2: 0.9203002102815337\n",
      "Standard Deviation of PC_3: 0.7855262031787121\n",
      "Standard Deviation of PC_4: 0.7669221614139057\n",
      "Standard Deviation of PC_5: 0.7138627365236132\n",
      "Standard Deviation of PC_6: 0.6662939699712133\n",
      "Standard Deviation of PC_7: 0.6055861846870154\n",
      "NUMPY\n",
      "Eigenvalues:\n",
      " [3.62754422 0.84695248 0.36673463 0.61705142 0.5881696  0.44394765\n",
      " 0.50960001]\n",
      "Percent Eigenvalues [51.82206025 12.0993211   5.2390661   8.81502023  8.40242288  6.34210935\n",
      "  7.28000009]\n"
     ]
    },
    {
     "data": {
      "text/plain": [
       "\"\\nprint('\\nPearson Correlation Matrix:')\\ndisplay(corr_matrix_pearson)\\nprint('Covariance Matrix:')\\ndisplay(cov_matrix)\\n\""
      ]
     },
     "execution_count": 39,
     "metadata": {},
     "output_type": "execute_result"
    }
   ],
   "source": [
    "import sys\n",
    "# sys.exit()\n",
    "\n",
    "# n_pca = 7\n",
    "n_pca = len(tickers)\n",
    "pca_range = range(n_pca)\n",
    "pca_columns = ['PC_' + str(i + 1) for i in pca_range]\n",
    "dict_pca_columns = dict(zip(pca_range, pca_columns))\n",
    "print(dict_pca_columns)\n",
    "\n",
    "# pca_portfolio = PCA(n_components=n_pca).fit_transform(log_returns_standardized)\n",
    "# \n",
    "# svd_solver must be one of 'auto' (deflault), 'arpack', 'randomized', and 'full'.\n",
    "# If svd_solver is arpack, then n_components must be less than the number of tickers\n",
    "pca = PCA(n_components=n_pca, svd_solver='randomized')\n",
    "pca_fit = pca.fit(log_returns_standardized)\n",
    "\n",
    "# print(pca_fit.explained_variance_)\n",
    "# NOTE: explained_variance_ is based on ddof=1, which does not matter for explained_variance_ratio_\n",
    "# print(pca_fit.explained_variance_ratio_)\n",
    "# print(pca_fit.feature_names_in_)\n",
    "\n",
    "eigenvectors = pca_fit.components_\n",
    "# if np.mean(eigenvectors[0]) < 0:\n",
    "eigenvectors *= np.sign(np.mean(eigenvectors[0]))\n",
    "\n",
    "print(f'Principal Components (Eigenvectors)\\n{eigenvectors}')\n",
    "\n",
    "pca_portfolio = pca_fit.transform(log_returns_standardized)\n",
    "# NOTE: \n",
    "# 1) After applying transform() or fit_transform(), we cannot use explained_variance_ or\n",
    "# explained_variance_ratio, that's why pca_portfolio does not have these two attributes.\n",
    "# 2) explained_variance_ratio_ is the same as the sorted precentage eigenvalues\n",
    "\n",
    "df_pca = pd.DataFrame(data=pca_portfolio, columns=pca_columns, index=log_returns_standardized.index)\n",
    "\n",
    "# print(df_pca)\n",
    "\n",
    "for col in pca_columns:\n",
    "    print(f'Standard Deviation of {col}: {np.sqrt(df_pca[col].var(ddof=0))}')\n",
    "    # print(f'Variance of {col}: {df_pca[col].var(ddof=0)}')\n",
    "\n",
    "# print(tickers)\n",
    "w, v = np.linalg.eig(corr_matrix_pearson)\n",
    "# w = np.linalg.eigvals(corr_matrix_pearson)\n",
    "print('NUMPY')\n",
    "print('Eigenvalues:\\n', w)\n",
    "# NOTE: These eigenvalues correspond to variance with ddof=0, unlike explained_variance_\n",
    "w_total = np.sum(w)\n",
    "print('Percent Eigenvalues', 100 * w / w_total)\n",
    "# NOTE: Eigenvectors are columns of v corresponding to eigenvalues w\n",
    "# print(f'Eigenvectors:\\n{v.T}')\n",
    "\n",
    "\"\"\"\n",
    "# The same can be achieved using scipy.linalg.eig():\n",
    "print('\\nSCIPY')\n",
    "v1 = linalg.eigvals(corr_matrix_pearson)\n",
    "print('Eigenvalues:\\n', v1)\n",
    "# w1_total = np.sum(w1)\n",
    "# print('Percent Eigenvalues', 100 * w1 / w1_total)\n",
    "w1 = linalg.eig(corr_matrix_pearson)\n",
    "print('Eigenvectors:\\n', w1[1])\n",
    "# NOTE: linalg.eig produces both eigenvalues and eigenvectors as an array of two arrays\n",
    "\"\"\"\n",
    "\"\"\"\n",
    "print('\\nPearson Correlation Matrix:')\n",
    "display(corr_matrix_pearson)\n",
    "print('Covariance Matrix:')\n",
    "display(cov_matrix)\n",
    "\"\"\"\n",
    "# ADD SCREE PLOT - Eigenvalue vs Component Number\n",
    "# ADD BIPLOT(S) - e.g. Component 1 vs Component 2"
   ]
  },
  {
   "cell_type": "code",
   "execution_count": 40,
   "metadata": {},
   "outputs": [
    {
     "name": "stdout",
     "output_type": "stream",
     "text": [
      "[[95.38963543614224 6.351330599744916 -11.656289161428647\n",
      "  -4.961714236827974 0.8866418091400785 -0.22859046903572633\n",
      "  1.6419543128781413]]\n",
      "After normalization:\n",
      "[0.12708041863343728 0.15708856779086247 0.1547353536774196\n",
      " 0.1300066717618402 0.1509980541745985 0.11864673935155856\n",
      " 0.16144419461028334]\n",
      "[-2.9329161150092844 -1.3625077740743714 -0.4464562782156208\n",
      " 2.8824197427280738 0.0941400407157003 4.195588471546761\n",
      " -1.4302680876912577]\n",
      "[3.4043975703393614 -1.3432507084170924 -1.4940629141163873\n",
      " 1.4502283952614134 -0.5624834610284621 0.4816772680255746\n",
      " -0.9365061500644074]\n",
      "[2.985160886578117 -0.20367574248928202 0.40973945981697496\n",
      " -10.217069648953744 -0.8329104967457073 9.040283155370497\n",
      " -0.1815276135768572]\n",
      "[2.2223651875699826 3.922170718726448 27.540443870177924\n",
      " 10.248465659376723 -60.08430399858608 4.408908640206433\n",
      " 12.741949922528564]\n",
      "[22.200730008045465 -172.5099138239841 196.20959287648674\n",
      " -14.332386618565819 61.86296824872682 -31.825756293633038\n",
      " -60.60523439707608]\n",
      "[2.2220001244175305 13.890283636673002 5.828104287151881\n",
      " 0.5114139550578559 -0.5963023674910313 -0.5692246397023595\n",
      " -20.286274996106883]\n",
      "[1.0 1.0 1.0 0.9999999999999988 1.0000000000000018 0.9999999999999929\n",
      " 0.9999999999999964]\n"
     ]
    }
   ],
   "source": [
    "st_devs = np.array(log_returns_stats.loc['Standard Deviation', :])\n",
    "\n",
    "# In eigenvectors, each row corresponds to one eigenvector;\n",
    "# pca_weights will have the same structure, with each column corresponding to one ticker.\n",
    "\n",
    "pca_weights = (eigenvectors.T / st_devs).T\n",
    "# print('Before normalization:')\n",
    "# print(pca_weights)\n",
    "\n",
    "# Normalize row-wise to have sum the weights for each PC sum up to 1\n",
    "# https://stackoverflow.com/questions/8904694/how-to-normalize-a-2-dimensional-numpy-array-in-python-less-verbose\n",
    "row_sums = pca_weights.sum(axis=1, keepdims=True)\n",
    "pca_weights = pca_weights / row_sums\n",
    "\n",
    "# NOTE: The magnitude of some weights after normalization may be >> 1, but their sum will still be 1\n",
    "\n",
    "print(row_sums.T)\n",
    "print('After normalization:')\n",
    "for pcw in pca_weights:\n",
    "    print(pcw)\n",
    "\n",
    "print(pca_weights.sum(axis=1))\n",
    "\n",
    "# These weights can be inputted to any function calculating portfolio-level quantity.\n",
    "# There could also be a 'PORTFOLIO' column in log_returns, initially containing \n",
    "# values corresponding to uniform weights, and later updated when the weights change.\n",
    "# Or, better yet, the portfolio returns could be in a separate df/array, with each\n",
    "# column corresponding to a different component/eigenvector."
   ]
  },
  {
   "cell_type": "code",
   "execution_count": 41,
   "metadata": {},
   "outputs": [
    {
     "name": "stdout",
     "output_type": "stream",
     "text": [
      "PC_1 vs PC_2\n",
      "0.37499999999999994\n",
      "AAPL: x = 0.33417612044430206, y = -0.4719254106845321, dx = 0.022913850909033112, dy = -0.03235907008026902\n",
      "CSCO: x = 0.41308683678422875, y = -0.21923642396396323, dx = 0.027910600033556915, dy = -0.014812914857516245\n",
      "MSFT: x = 0.40689872400130317, y = -0.0718377390240933, dx = 0.029278671740924, dy = -0.0051691328958059285\n",
      "MMM: x = 0.3418711212036904, y = 0.46380021368181656, dx = 0.018933973392564647, dy = 0.025686816933815113\n",
      "IBM: x = 0.3970709609027752, y = 0.015147749077874598, dx = 0.02466188323467445, dy = 0.0009408192887672837\n",
      "VZ: x = 0.3119985556093987, y = 0.6750976621408503, dx = 0.011765195259895772, dy = 0.02545734802865537\n",
      "INTC: x = 0.4245405799200279, y = -0.2301395021897994, dx = 0.027852307367344672, dy = -0.01509847693138178\n",
      "PC_3 vs PC_4\n",
      "AAPL: x = -0.7778544333814769, y = -0.21324618947983257, dx = -0.07486357034929886, dy = -0.020523597247422365\n",
      "CSCO: x = 0.306912896363303, y = 0.01454966001015183, dx = 0.07677609252443163, dy = 0.0036396842764669347\n",
      "MSFT: x = 0.3413712521773514, y = -0.029269905980060282, dx = 0.07663720879686323, dy = -0.006571039247596198\n",
      "MMM: x = -0.33135571370923816, y = 0.7298605512639333, dx = -0.029107120143993328, dy = 0.06411278838741276\n",
      "IBM: x = 0.12851914173500367, y = 0.059499302167387094, dx = 0.057178091894878956, dy = 0.02647120515341444\n",
      "VZ: x = -0.11005612319110612, y = -0.6457963265461766, dx = -0.008985306141466696, dy = -0.052724714725558494\n",
      "INTC: x = 0.213977787748216, y = 0.012967499358135293, dx = 0.07673723426835043, dy = 0.004650436134477739\n"
     ]
    },
    {
     "data": {
      "image/png": "[encoded data removed]",
      "text/plain": [
       "<Figure size 1800x800 with 2 Axes>"
      ]
     },
     "metadata": {},
     "output_type": "display_data"
    },
    {
     "data": {
      "text/plain": [
       "'\\nfirst_return = log_returns.loc[log_returns.index[0]]\\nsecond_return = log_returns.loc[log_returns.index[1]]\\nfirst_component = pca_weights[0]\\nsecond_component = pca_weights[1]\\n\\nprint(second_return, second_component)\\nprint(first_return @ first_component)\\nprint(second_return @ second_component)\\ndisplay(log_returns @ pca_weights[0])\\ndisplay(log_returns @ pca_weights[1])\\n'"
      ]
     },
     "execution_count": 41,
     "metadata": {},
     "output_type": "execute_result"
    }
   ],
   "source": [
    "pca_returns = log_returns @ pca_weights.T  # an array\n",
    "df_pca_returns = pd.DataFrame(data=pca_returns, index=df_pca.index)\n",
    "df_pca_returns.rename(columns=dict_pca_columns, inplace=True)\n",
    "df_pca_returns = df_pca_returns.astype(float)\n",
    "\n",
    "# print(df_pca_returns)\n",
    "\n",
    "print(f'PC_1 vs PC_2')\n",
    "set_lim12 = True\n",
    "x12_lim = [-0.1, 0.5]\n",
    "y12_lim = [-0.8, 0.8]\n",
    "d12 = np.sqrt((x12_lim[1] - x12_lim[0]) ** 2 + (y12_lim[1] - y12_lim[0]) ** 2)\n",
    "tk_offset_coef12 = 0.006  # distance from arrow tip to centre of ticker label (as a fraction of d12)\n",
    "tk_length_coef12 = 0.0075 # additional shift required to account for ticker label length \n",
    "aspect_ratio_12 = (x12_lim[1] - x12_lim[0]) / (y12_lim[1] - y12_lim[0])\n",
    "print(aspect_ratio_12)\n",
    "# d12 = distance as a percentage of diagonal length\n",
    "\n",
    "fig, (ax1, ax2) = plt.subplots(1, 2, figsize=(18,8))\n",
    "plt.subplot(1, 2, 1).scatter(df_pca_returns['PC_1'], df_pca_returns['PC_2'])\n",
    "plt.grid(axis='both')\n",
    "ax1.set(xlabel=f'$PC_1$', ylabel=f'$PC_2$')\n",
    "if set_lim12:\n",
    "    ax1.set(xlim=x12_lim, ylim=y12_lim)\n",
    "\n",
    "for i, tk in enumerate(tickers):\n",
    "    eig_x = eigenvectors[0, i]\n",
    "    eig_y = eigenvectors[1, i]\n",
    "    label_angle = math.atan(aspect_ratio_12 * eig_y / eig_x)\n",
    "    label_angle_deg = math.degrees(label_angle)\n",
    "    \n",
    "    # offset due to distance from arrow tip\n",
    "    x_delta = np.sign(eig_x) * d12 * tk_offset_coef12 / np.sqrt((eig_y / eig_x) ** 2 + 1)\n",
    "    # longer tickers may overlap with the arrow, so add offset due to ticker length\n",
    "    x_delta += np.sign(eig_x) * len(tk) * d12 * tk_length_coef12 * math.cos(label_angle) * aspect_ratio_12\n",
    "    y_delta = x_delta * eig_y / eig_x\n",
    "\n",
    "    print(f'{tk}: x = {eig_x}, y = {eig_y}, dx = {x_delta}, dy = {y_delta}')\n",
    "    \n",
    "    ax1.arrow(0, 0, eig_x, eig_y, color='r', width=0.003, head_width=0.02, length_includes_head=True)\n",
    "    ax1.text(eig_x + x_delta, eig_y + y_delta, tk, color='r', ha='center', va='center', fontweight='bold', rotation=label_angle_deg)\n",
    "    # ax1.annotate(tk, (eigenvectors[i, 0] + h_label_shift, eigenvectors[1, 1] + v_label_shift), color='r', ha='center', va='center')\n",
    "\n",
    "\n",
    "print(f'PC_3 vs PC_4')\n",
    "set_lim34 = True\n",
    "x34_lim = [-1.0, 0.6]\n",
    "y34_lim = [-1.0, 1.0]\n",
    "d34 = np.sqrt((x34_lim[1] - x34_lim[0]) ** 2 + (y34_lim[1] - y34_lim[0]) ** 2)\n",
    "tk_offset_coef34 = 0.006  # distance from arrow tip to centre of ticker label (as a fraction of d34)\n",
    "tk_length_coef34 = 0.0075 # additional shift required to account for ticker label length \n",
    "\n",
    "# d34 = distance as a percentage of diagonal length\n",
    "aspect_ratio_34 = (x34_lim[1] - x34_lim[0]) / (y34_lim[1] - y34_lim[0])\n",
    "\n",
    "plt.subplot(1, 2, 2).scatter(df_pca_returns['PC_3'], df_pca_returns['PC_4'])\n",
    "plt.grid(axis='both')\n",
    "ax2.set(xlabel=f'$PC_3$', ylabel=f'$PC_4$')\n",
    "if set_lim34:\n",
    "    ax2.set(xlim=x34_lim, ylim=y34_lim)\n",
    "\n",
    "for i, tk in enumerate(tickers):\n",
    "    eig_x = eigenvectors[2, i]\n",
    "    eig_y = eigenvectors[3, i]\n",
    "    label_angle = math.atan(aspect_ratio_34 * eig_y / eig_x)\n",
    "    label_angle_deg = math.degrees(label_angle)\n",
    "    \n",
    "    # offset due to distance from arrow tip\n",
    "    x_delta = np.sign(eig_x) * d34 * tk_offset_coef34 / np.sqrt((eig_y / eig_x) ** 2 + 1)\n",
    "    # longer tickers may overlap with the arrow, so add offset due to ticker length\n",
    "    x_delta += np.sign(eig_x) * len(tk) * d34 * tk_length_coef34 * math.cos(label_angle) * aspect_ratio_34\n",
    "    y_delta = x_delta * eig_y / eig_x\n",
    "\n",
    "    print(f'{tk}: x = {eig_x}, y = {eig_y}, dx = {x_delta}, dy = {y_delta}')\n",
    "\n",
    "    ax2.arrow(0, 0, eig_x, eig_y, color='r', width=0.003, head_width=0.02, length_includes_head=True)\n",
    "    ax2.text(eig_x + x_delta, eig_y + y_delta, tk, color='r', ha='center', va='center', fontweight='bold', rotation=label_angle_deg)\n",
    "\n",
    "plt.show()\n",
    "\n",
    "# ax = fig_pca.add_subplot()\n",
    "\n",
    "\"\"\"\n",
    "first_return = log_returns.loc[log_returns.index[0]]\n",
    "second_return = log_returns.loc[log_returns.index[1]]\n",
    "first_component = pca_weights[0]\n",
    "second_component = pca_weights[1]\n",
    "\n",
    "print(second_return, second_component)\n",
    "print(first_return @ first_component)\n",
    "print(second_return @ second_component)\n",
    "display(log_returns @ pca_weights[0])\n",
    "display(log_returns @ pca_weights[1])\n",
    "\"\"\""
   ]
  },
  {
   "cell_type": "code",
   "execution_count": 42,
   "metadata": {},
   "outputs": [
    {
     "data": {
      "text/html": [
       "<div>\n",
       "<style scoped>\n",
       "    .dataframe tbody tr th:only-of-type {\n",
       "        vertical-align: middle;\n",
       "    }\n",
       "\n",
       "    .dataframe tbody tr th {\n",
       "        vertical-align: top;\n",
       "    }\n",
       "\n",
       "    .dataframe thead th {\n",
       "        text-align: right;\n",
       "    }\n",
       "</style>\n",
       "<table border=\"1\" class=\"dataframe\">\n",
       "  <thead>\n",
       "    <tr style=\"text-align: right;\">\n",
       "      <th></th>\n",
       "      <th>PC_1</th>\n",
       "      <th>PC_2</th>\n",
       "      <th>PC_3</th>\n",
       "      <th>PC_4</th>\n",
       "      <th>PC_5</th>\n",
       "      <th>PC_6</th>\n",
       "      <th>PC_7</th>\n",
       "    </tr>\n",
       "  </thead>\n",
       "  <tbody>\n",
       "    <tr>\n",
       "      <th>Observations</th>\n",
       "      <td>4232</td>\n",
       "      <td>4232</td>\n",
       "      <td>4232</td>\n",
       "      <td>4232</td>\n",
       "      <td>4232</td>\n",
       "      <td>4232</td>\n",
       "      <td>4232</td>\n",
       "    </tr>\n",
       "    <tr>\n",
       "      <th>Minimum</th>\n",
       "      <td>-0.118992</td>\n",
       "      <td>-0.73097</td>\n",
       "      <td>-2.287134</td>\n",
       "      <td>-1.86312</td>\n",
       "      <td>-6.030476</td>\n",
       "      <td>-29.019319</td>\n",
       "      <td>-2.676262</td>\n",
       "    </tr>\n",
       "    <tr>\n",
       "      <th>Maximum</th>\n",
       "      <td>0.107544</td>\n",
       "      <td>2.433439</td>\n",
       "      <td>0.503321</td>\n",
       "      <td>0.890414</td>\n",
       "      <td>11.320741</td>\n",
       "      <td>33.621762</td>\n",
       "      <td>4.563202</td>\n",
       "    </tr>\n",
       "    <tr>\n",
       "      <th>Mean</th>\n",
       "      <td>0.000194</td>\n",
       "      <td>-0.000121</td>\n",
       "      <td>0.003369</td>\n",
       "      <td>-0.000434</td>\n",
       "      <td>-0.000068</td>\n",
       "      <td>0.073938</td>\n",
       "      <td>0.001525</td>\n",
       "    </tr>\n",
       "    <tr>\n",
       "      <th>Median</th>\n",
       "      <td>0.000653</td>\n",
       "      <td>-0.002686</td>\n",
       "      <td>0.00232</td>\n",
       "      <td>-0.00094</td>\n",
       "      <td>0.001463</td>\n",
       "      <td>0.031418</td>\n",
       "      <td>0.002021</td>\n",
       "    </tr>\n",
       "    <tr>\n",
       "      <th>Standard Deviation</th>\n",
       "      <td>0.015129</td>\n",
       "      <td>0.119246</td>\n",
       "      <td>0.085961</td>\n",
       "      <td>0.171833</td>\n",
       "      <td>0.8622</td>\n",
       "      <td>4.189106</td>\n",
       "      <td>0.372392</td>\n",
       "    </tr>\n",
       "    <tr>\n",
       "      <th>Variance</th>\n",
       "      <td>0.000229</td>\n",
       "      <td>0.01422</td>\n",
       "      <td>0.007389</td>\n",
       "      <td>0.029526</td>\n",
       "      <td>0.743389</td>\n",
       "      <td>17.548607</td>\n",
       "      <td>0.138676</td>\n",
       "    </tr>\n",
       "    <tr>\n",
       "      <th>Annual Volatility</th>\n",
       "      <td>0.240164</td>\n",
       "      <td>1.892972</td>\n",
       "      <td>1.364585</td>\n",
       "      <td>2.727759</td>\n",
       "      <td>13.686999</td>\n",
       "      <td>66.499992</td>\n",
       "      <td>5.911539</td>\n",
       "    </tr>\n",
       "    <tr>\n",
       "      <th>Annual Variance</th>\n",
       "      <td>0.057679</td>\n",
       "      <td>3.583341</td>\n",
       "      <td>1.862093</td>\n",
       "      <td>7.440669</td>\n",
       "      <td>187.333928</td>\n",
       "      <td>4422.248878</td>\n",
       "      <td>34.946292</td>\n",
       "    </tr>\n",
       "    <tr>\n",
       "      <th>Skewness</th>\n",
       "      <td>0.05594</td>\n",
       "      <td>2.216689</td>\n",
       "      <td>-4.508704</td>\n",
       "      <td>-0.399891</td>\n",
       "      <td>0.720094</td>\n",
       "      <td>0.093013</td>\n",
       "      <td>0.802975</td>\n",
       "    </tr>\n",
       "    <tr>\n",
       "      <th>Excess Kurtosis</th>\n",
       "      <td>5.556233</td>\n",
       "      <td>44.494563</td>\n",
       "      <td>123.16539</td>\n",
       "      <td>7.71248</td>\n",
       "      <td>15.215266</td>\n",
       "      <td>7.561727</td>\n",
       "      <td>15.703214</td>\n",
       "    </tr>\n",
       "    <tr>\n",
       "      <th>1% 1-Day VaR</th>\n",
       "      <td>-0.042024</td>\n",
       "      <td>-0.331639</td>\n",
       "      <td>-0.201164</td>\n",
       "      <td>-0.48268</td>\n",
       "      <td>-2.478</td>\n",
       "      <td>-12.019148</td>\n",
       "      <td>-1.056175</td>\n",
       "    </tr>\n",
       "    <tr>\n",
       "      <th>1% 1-Day CVaR</th>\n",
       "      <td>-0.05515</td>\n",
       "      <td>-0.413083</td>\n",
       "      <td>-0.335383</td>\n",
       "      <td>-0.680378</td>\n",
       "      <td>-3.440187</td>\n",
       "      <td>-17.123701</td>\n",
       "      <td>-1.432609</td>\n",
       "    </tr>\n",
       "    <tr>\n",
       "      <th>5% 1-Day VaR</th>\n",
       "      <td>-0.023805</td>\n",
       "      <td>-0.173182</td>\n",
       "      <td>-0.113591</td>\n",
       "      <td>-0.256139</td>\n",
       "      <td>-1.197122</td>\n",
       "      <td>-5.98889</td>\n",
       "      <td>-0.526173</td>\n",
       "    </tr>\n",
       "    <tr>\n",
       "      <th>5% 1-Day CVaR</th>\n",
       "      <td>-0.035656</td>\n",
       "      <td>-0.264882</td>\n",
       "      <td>-0.185169</td>\n",
       "      <td>-0.410021</td>\n",
       "      <td>-2.03852</td>\n",
       "      <td>-9.81386</td>\n",
       "      <td>-0.854615</td>\n",
       "    </tr>\n",
       "    <tr>\n",
       "      <th>Jarque-Bera p-Value</th>\n",
       "      <td>0.0</td>\n",
       "      <td>0.0</td>\n",
       "      <td>0.0</td>\n",
       "      <td>0.0</td>\n",
       "      <td>0.0</td>\n",
       "      <td>0.0</td>\n",
       "      <td>0.0</td>\n",
       "    </tr>\n",
       "  </tbody>\n",
       "</table>\n",
       "</div>"
      ],
      "text/plain": [
       "                         PC_1       PC_2       PC_3      PC_4        PC_5  \\\n",
       "Observations             4232       4232       4232      4232        4232   \n",
       "Minimum             -0.118992   -0.73097  -2.287134  -1.86312   -6.030476   \n",
       "Maximum              0.107544   2.433439   0.503321  0.890414   11.320741   \n",
       "Mean                 0.000194  -0.000121   0.003369 -0.000434   -0.000068   \n",
       "Median               0.000653  -0.002686    0.00232  -0.00094    0.001463   \n",
       "Standard Deviation   0.015129   0.119246   0.085961  0.171833      0.8622   \n",
       "Variance             0.000229    0.01422   0.007389  0.029526    0.743389   \n",
       "Annual Volatility    0.240164   1.892972   1.364585  2.727759   13.686999   \n",
       "Annual Variance      0.057679   3.583341   1.862093  7.440669  187.333928   \n",
       "Skewness              0.05594   2.216689  -4.508704 -0.399891    0.720094   \n",
       "Excess Kurtosis      5.556233  44.494563  123.16539   7.71248   15.215266   \n",
       "1% 1-Day VaR        -0.042024  -0.331639  -0.201164  -0.48268      -2.478   \n",
       "1% 1-Day CVaR        -0.05515  -0.413083  -0.335383 -0.680378   -3.440187   \n",
       "5% 1-Day VaR        -0.023805  -0.173182  -0.113591 -0.256139   -1.197122   \n",
       "5% 1-Day CVaR       -0.035656  -0.264882  -0.185169 -0.410021    -2.03852   \n",
       "Jarque-Bera p-Value       0.0        0.0        0.0       0.0         0.0   \n",
       "\n",
       "                            PC_6       PC_7  \n",
       "Observations                4232       4232  \n",
       "Minimum               -29.019319  -2.676262  \n",
       "Maximum                33.621762   4.563202  \n",
       "Mean                    0.073938   0.001525  \n",
       "Median                  0.031418   0.002021  \n",
       "Standard Deviation      4.189106   0.372392  \n",
       "Variance               17.548607   0.138676  \n",
       "Annual Volatility      66.499992   5.911539  \n",
       "Annual Variance      4422.248878  34.946292  \n",
       "Skewness                0.093013   0.802975  \n",
       "Excess Kurtosis         7.561727  15.703214  \n",
       "1% 1-Day VaR          -12.019148  -1.056175  \n",
       "1% 1-Day CVaR         -17.123701  -1.432609  \n",
       "5% 1-Day VaR            -5.98889  -0.526173  \n",
       "5% 1-Day CVaR           -9.81386  -0.854615  \n",
       "Jarque-Bera p-Value          0.0        0.0  "
      ]
     },
     "metadata": {},
     "output_type": "display_data"
    }
   ],
   "source": [
    "pca_cols = df_pca_returns.columns\n",
    "pca_returns_stats = pd.DataFrame(columns=pca_cols, index=stats_metrics)\n",
    "\n",
    "for tk in pca_cols:\n",
    "    returns_tk = df_pca_returns[tk]\n",
    "    tk_stats = stats.describe(returns_tk)\n",
    "    pca_returns_stats.loc['Observations', tk] = len(returns_tk)\n",
    "    pca_returns_stats.loc['Minimum', tk] = tk_stats.minmax[0]\n",
    "    pca_returns_stats.loc['Maximum', tk] = tk_stats.minmax[1]\n",
    "    pca_returns_stats.loc['Mean', tk] = tk_stats.mean\n",
    "    pca_returns_stats.loc['Median', tk] = np.median(returns_tk)\n",
    "    pca_returns_stats.loc['Standard Deviation', tk] = np.sqrt(returns_tk.var(ddof=0))\n",
    "    pca_returns_stats.loc['Variance', tk] = returns_tk.var(ddof=0)\n",
    "    pca_returns_stats.loc['Annual Volatility', tk] = np.sqrt(returns_tk.var(ddof=0) * 252)\n",
    "    pca_returns_stats.loc['Annual Variance', tk] = returns_tk.var(ddof=0) * 252\n",
    "    pca_returns_stats.loc['Skewness', tk] = tk_stats.skewness\n",
    "    pca_returns_stats.loc['Excess Kurtosis', tk] = tk_stats.kurtosis\n",
    "    pca_returns_stats.loc['1% 1-Day VaR', tk] = historical_var(returns_tk, p_level=1)\n",
    "    pca_returns_stats.loc['1% 1-Day CVaR', tk] = historical_cvar(returns_tk, p_level=1)\n",
    "    pca_returns_stats.loc['5% 1-Day VaR', tk] = historical_var(returns_tk, p_level=5)\n",
    "    pca_returns_stats.loc['5% 1-Day CVaR', tk] = historical_cvar(returns_tk, p_level=5)\n",
    "    pca_returns_stats.loc['Jarque-Bera p-Value', tk] = stats.jarque_bera(returns_tk).pvalue\n",
    "\n",
    "display(pca_returns_stats)"
   ]
  },
  {
   "cell_type": "code",
   "execution_count": 43,
   "metadata": {},
   "outputs": [
    {
     "name": "stdout",
     "output_type": "stream",
     "text": [
      "0.43582238507076154 0.4007970983081925 0.5513506562459918\n",
      "-0.6545670114839199 0.1926158374445823\n",
      "lambda1: 0.4460645576117598\n",
      "lambda2: 0.6254819917007349\n",
      "lambda3: 1.9284534506875055\n"
     ]
    }
   ],
   "source": [
    "# Some testing for 3 PCA components, including a general solution of a cubic equation\n",
    "arr_corr = np.array(corr_matrix_pearson)\n",
    "rho12 = arr_corr[0, 1]\n",
    "rho13 = arr_corr[0, 2]\n",
    "rho23 = arr_corr[1, 2]\n",
    "# print(arr_corr)\n",
    "print(rho12, rho13, rho23)\n",
    "\n",
    "p = - (rho12 ** 2 + rho13 ** 2 + rho23 ** 2)\n",
    "q = 2 * rho12 * rho13 * rho23\n",
    "print(p, q)\n",
    "# discriminant = (p / 3 ) ** 3 + (q / 2) **2\n",
    "# print(discriminant)\n",
    "\n",
    "# After Vieta's substitution, solving for w^3, where x = w - p / (3 * w):\n",
    "b = -q\n",
    "c = - (p / 3) ** 3\n",
    "delta = b ** 2 - 4 * c\n",
    "\n",
    "phi = math.acos(-0.5 * q / np.sqrt(abs(p) ** 3 / 27))\n",
    "p0 = 2 * np.sqrt(abs(p) / 3)\n",
    "\n",
    "x1 = p0 * math.cos(phi / 3)\n",
    "x2 = - p0 * math.cos((phi + math.pi) / 3)\n",
    "x3 = - p0 * math.cos((phi - math.pi) / 3)\n",
    "\n",
    "lambda1 = 1 - x1\n",
    "lambda2 = 1 - x2\n",
    "lambda3 = 1 - x3\n",
    "print(f'lambda1: {lambda1}')\n",
    "print(f'lambda2: {lambda2}')\n",
    "print(f'lambda3: {lambda3}')"
   ]
  },
  {
   "cell_type": "markdown",
   "metadata": {},
   "source": [
    ">>> The SLSQP method delivers a higher Sharpe Ratio than does the trust-constr method. The other methods fail on either the constraints or the bounds."
   ]
  },
  {
   "cell_type": "code",
   "execution_count": 44,
   "metadata": {},
   "outputs": [
    {
     "name": "stderr",
     "output_type": "stream",
     "text": [
      "[*********************100%%**********************]  1 of 1 completed"
     ]
    },
    {
     "name": "stdout",
     "output_type": "stream",
     "text": [
      "3568\n"
     ]
    },
    {
     "name": "stderr",
     "output_type": "stream",
     "text": [
      "\n"
     ]
    },
    {
     "name": "stdout",
     "output_type": "stream",
     "text": [
      "averageVolume: 94846976\n",
      "averageVolume10days: 71882580\n",
      "averageDailyVolume10Day: 71882580\n",
      "ave_vol: 94846976\n",
      "ave_vol_10d: 71882580\n",
      "71882580.0\n",
      "64:\t94846976.1904762\n"
     ]
    }
   ],
   "source": [
    "tk = 'TSLA'\n",
    "# tk_data = yf.download(tk, start=start_date, end=end_date)\n",
    "tk_data = yf.download(tk)\n",
    "print(len(tk_data))\n",
    "\n",
    "tk_info = yf.Ticker(tk).info\n",
    "vol_keys = ['averageVolume', 'averageVolume10days', 'averageDailyVolume10Day']\n",
    "for key in vol_keys:\n",
    "    print(f'{key}: {tk_info[key]}')\n",
    "\n",
    "# The ave_vol variable refers to a prior period of 62 business days\n",
    "ave_vol = tk_info['averageVolume'] \n",
    "print(f'ave_vol: {ave_vol}')\n",
    "\n",
    "# The ave_vol_10d variable refers to a prior period of 10 business days\n",
    "# It appears to have the same value as tk_info['averageDailyVolume10Day']\n",
    "ave_vol_10d = tk_info['averageVolume10days'] \n",
    "print(f'ave_vol_10d: {ave_vol_10d}')\n",
    "\n",
    "for j in range(2):\n",
    "    j10 = j + 10\n",
    "    tk_data_10mean = tk_data[-j10: -j]['Volume'].mean()\n",
    "    if abs(tk_data_10mean / ave_vol_10d - 1) < 1e-6:\n",
    "        print(tk_data_10mean)\n",
    "\n",
    "n = len(tk_data)\n",
    "for i in range(n):\n",
    "    tk_data_mean = tk_data[-i: -1]['Volume'].mean()\n",
    "    if abs(tk_data_mean / ave_vol - 1) < 1e-6:\n",
    "        print(f\"{i}:\\t{tk_data_mean}\")"
   ]
  },
  {
   "cell_type": "code",
   "execution_count": null,
   "metadata": {},
   "outputs": [],
   "source": []
  }
 ],
 "metadata": {
  "kernelspec": {
   "display_name": "Python 3",
   "language": "python",
   "name": "python3"
  },
  "language_info": {
   "codemirror_mode": {
    "name": "ipython",
    "version": 3
   },
   "file_extension": ".py",
   "mimetype": "text/x-python",
   "name": "python",
   "nbconvert_exporter": "python",
   "pygments_lexer": "ipython3",
   "version": "3.11.2"
  }
 },
 "nbformat": 4,
 "nbformat_minor": 2
}
